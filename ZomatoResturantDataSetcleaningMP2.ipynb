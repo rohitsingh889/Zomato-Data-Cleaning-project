{
 "cells": [
  {
   "cell_type": "code",
   "execution_count": null,
   "id": "91e401f3",
   "metadata": {},
   "outputs": [],
   "source": [
    "# Zomato Data Cleaning Project\n",
    "'''\n",
    "This notebook demonstrates the step-by-step cleaning and preprocessing of \n",
    "the Zomato dataset to make it ready for analysis. \n",
    "The main tasks include handling missing values, removing duplicates, \n",
    "formatting columns, and preparing the dataset for further analysis.\n",
    "'''\n",
    "\n"
   ]
  },
  {
   "cell_type": "code",
   "execution_count": 59,
   "id": "5130a86c",
   "metadata": {},
   "outputs": [],
   "source": [
    "import pandas as pd"
   ]
  },
  {
   "cell_type": "code",
   "execution_count": null,
   "id": "a3dd5a03",
   "metadata": {},
   "outputs": [],
   "source": [
    "'''## Load the Dataset\n",
    "\n",
    "We load the Zomato CSV file.\n",
    "'''\n",
    "df=pd.read_csv('C:\\DE\\csv files data\\Zomato.csv')"
   ]
  },
  {
   "cell_type": "code",
   "execution_count": 61,
   "id": "d5bb81bc",
   "metadata": {},
   "outputs": [
    {
     "data": {
      "application/vnd.microsoft.datawrangler.viewer.v0+json": {
       "columns": [
        {
         "name": "index",
         "rawType": "int64",
         "type": "integer"
        },
        {
         "name": "url",
         "rawType": "object",
         "type": "string"
        },
        {
         "name": "address",
         "rawType": "object",
         "type": "string"
        },
        {
         "name": "name",
         "rawType": "object",
         "type": "string"
        },
        {
         "name": "online_order",
         "rawType": "object",
         "type": "string"
        },
        {
         "name": "book_table",
         "rawType": "object",
         "type": "string"
        },
        {
         "name": "rate",
         "rawType": "object",
         "type": "unknown"
        },
        {
         "name": "votes",
         "rawType": "int64",
         "type": "integer"
        },
        {
         "name": "phone",
         "rawType": "object",
         "type": "unknown"
        },
        {
         "name": "location",
         "rawType": "object",
         "type": "unknown"
        },
        {
         "name": "rest_type",
         "rawType": "object",
         "type": "unknown"
        },
        {
         "name": "dish_liked",
         "rawType": "object",
         "type": "unknown"
        },
        {
         "name": "cuisines",
         "rawType": "object",
         "type": "unknown"
        },
        {
         "name": "approx_cost(for two people)",
         "rawType": "object",
         "type": "unknown"
        },
        {
         "name": "reviews_list",
         "rawType": "object",
         "type": "string"
        },
        {
         "name": "menu_item",
         "rawType": "object",
         "type": "string"
        },
        {
         "name": "listed_in(type)",
         "rawType": "object",
         "type": "string"
        },
        {
         "name": "listed_in(city)",
         "rawType": "object",
         "type": "string"
        }
       ],
       "ref": "3691c098-d78d-47a8-9eb1-19ec89b4907e",
       "rows": [
        [
         "0",
         "https://www.zomato.com/bangalore/jalsa-banashankari?context=eyJzZSI6eyJlIjpbNTg2OTQsIjE4Mzc1NDc0IiwiNTkwOTAiLCIxODM4Mjk0NCIsIjE4MjI0Njc2IiwiNTkyODkiLCIxODM3MzM4NiJdLCJ0IjoiUmVzdGF1cmFudHMgaW4gQmFuYXNoYW5rYXJpIHNlcnZpbmcgQnVmZmV0In19",
         "942, 21st Main Road, 2nd Stage, Banashankari, Bangalore",
         "Jalsa",
         "Yes",
         "Yes",
         "4.1/5",
         "775",
         "080 42297555\r\n+91 9743772233",
         "Banashankari",
         "Casual Dining",
         "Pasta, Lunch Buffet, Masala Papad, Paneer Lajawab, Tomato Shorba, Dum Biryani, Sweet Corn Soup",
         "North Indian, Mughlai, Chinese",
         "800",
         "[('Rated 4.0', 'RATED\\n  A beautiful place to dine in.The interiors take you back to the Mughal era. The lightings are just perfect.We went there on the occasion of Christmas and so they had only limited items available. But the taste and service was not compromised at all.The only complaint is that the breads could have been better.Would surely like to come here again.'), ('Rated 4.0', 'RATED\\n  I was here for dinner with my family on a weekday. The restaurant was completely empty. Ambience is good with some good old hindi music. Seating arrangement are good too. We ordered masala papad, panner and baby corn starters, lemon and corrionder soup, butter roti, olive and chilli paratha. Food was fresh and good, service is good too. Good for family hangout.\\nCheers'), ('Rated 2.0', 'RATED\\n  Its a restaurant near to Banashankari BDA. Me along with few of my office friends visited to have buffet but unfortunately they only provide veg buffet. On inquiring they said this place is mostly visited by vegetarians. Anyways we ordered ala carte items which took ages to come. Food was ok ok. Definitely not visiting anymore.'), ('Rated 4.0', 'RATED\\n  We went here on a weekend and one of us had the buffet while two of us took Ala Carte. Firstly the ambience and service of this place is great! The buffet had a lot of items and the good was good. We had a Pumpkin Halwa intm the dessert which was amazing. Must try! The kulchas are great here. Cheers!'), ('Rated 5.0', 'RATED\\n  The best thing about the place is itÃ\\x83Ã\\x83Ã\\x82Ã\\x82Ã\\x83Ã\\x82Ã\\x82Ã\\x92s ambiance. Second best thing was yummy ? food. We try buffet and buffet food was not disappointed us.\\nTest ?. ?? ?? ?? ?? ??\\nQuality ?. ??????????.\\nService: Staff was very professional and friendly.\\n\\nOverall experience was excellent.\\n\\nsubirmajumder85.wixsite.com'), ('Rated 5.0', 'RATED\\n  Great food and pleasant ambience. Expensive but Coll place to chill and relax......\\n\\nService is really very very good and friendly staff...\\n\\nFood : 5/5\\nService : 5/5\\nAmbience :5/5\\nOverall :5/5'), ('Rated 4.0', 'RATED\\n  Good ambience with tasty food.\\nCheese chilli paratha with Bhutta palak methi curry is a good combo.\\nLemon Chicken in the starters is a must try item.\\nEgg fried rice was also quite tasty.\\nIn the mocktails, recommend \"Alice in Junoon\". Do not miss it.'), ('Rated 4.0', 'RATED\\n  You canÃ\\x83Ã\\x83Ã\\x82Ã\\x82Ã\\x83Ã\\x82Ã\\x82Ã\\x92t go wrong with Jalsa. Never been a fan of their buffet and thus always order alacarteÃ\\x83Ã\\x83Ã\\x82Ã\\x82Ã\\x83Ã\\x82Ã\\x82Ã\\x92. Service at times can be on the slower side but food is worth the wait.'), ('Rated 5.0', 'RATED\\n  Overdelighted by the service and food provided at this place. A royal and ethnic atmosphere builds a strong essence of being in India and also the quality and taste of food is truly authentic. I would totally recommend to visit this place once.'), ('Rated 4.0', 'RATED\\n  The place is nice and comfortable. Food wise all jalea outlets maintain a good standard. The soya chaap was a standout dish. Clearly one of trademark dish as per me and a must try.\\n\\nThe only concern is the parking. It very congested and limited to just 5cars. The basement parking is very steep and makes it cumbersome'), ('Rated 4.0', 'RATED\\n  The place is nice and comfortable. Food wise all jalea outlets maintain a good standard. The soya chaap was a standout dish. Clearly one of trademark dish as per me and a must try.\\n\\nThe only concern is the parking. It very congested and limited to just 5cars. The basement parking is very steep and makes it cumbersome'), ('Rated 4.0', 'RATED\\n  The place is nice and comfortable. Food wise all jalea outlets maintain a good standard. The soya chaap was a standout dish. Clearly one of trademark dish as per me and a must try.\\n\\nThe only concern is the parking. It very congested and limited to just 5cars. The basement parking is very steep and makes it cumbersome')]",
         "[]",
         "Buffet",
         "Banashankari"
        ],
        [
         "1",
         "https://www.zomato.com/bangalore/spice-elephant-banashankari?context=eyJzZSI6eyJlIjpbIjU4Njk0IiwxODM3NTQ3NCwiNTkwOTAiLCIxODM4Mjk0NCIsIjE4MjI0Njc2IiwiNTkyODkiLCIxODM3MzM4NiJdLCJ0IjoiUmVzdGF1cmFudHMgaW4gQmFuYXNoYW5rYXJpIHNlcnZpbmcgQnVmZmV0In19",
         "2nd Floor, 80 Feet Road, Near Big Bazaar, 6th Block, Kathriguppe, 3rd Stage, Banashankari, Bangalore",
         "Spice Elephant",
         "Yes",
         "No",
         "4.1/5",
         "787",
         "080 41714161",
         "Banashankari",
         "Casual Dining",
         "Momos, Lunch Buffet, Chocolate Nirvana, Thai Green Curry, Paneer Tikka, Dum Biryani, Chicken Biryani",
         "Chinese, North Indian, Thai",
         "800",
         "[('Rated 4.0', 'RATED\\n  Had been here for dinner with family. Turned out to be a good choose suitable for all ages of people. Can try this place. We liked the most was their starters. Service is good. Prices are affordable. Will recommend this restaurant for early dinner. The place is little noisy.'), ('Rated 3.0', 'RATED\\n  The ambience is really nice, staff is courteous. The price is pretty high for the quantity, but overall the experience was fine. The quality of food is nice but nothing extraordinary. They also have buffet(only veg)'), ('Rated 3.0', 'RATED\\n  I felt good is little expensive for the quantity they serve and In terms of taste is decent. There is nothing much to talk about the ambience, regular casual dining restaurant where you can take your family for dinner or lunch. If they improve on that quantity or may be reduce the price a bit or may be improve the presentation of the food it might Manage to get more repeat customers.'), ('Rated 4.0', 'RATED\\n  I was looking for a quite place to spend some time with family and as well wanted to try some new place. Since I was at Banashankari I thought of trying this place. The place had good rating and was part of Zomato gold. So I decided to try this place. It was a delite to see a very friendly staff and food we ordered was very tasty as well.\\n\\nFood : 4/5\\nAmbience :3/5\\nFriendly staff : 4/5\\nPocket friendly : 4/5\\n\\nWill definitely visit again ??'), ('Rated 4.0', \"RATED\\n  Nice place to dine and has a good ambiance... Food is good and the serving time is also good..neat restrooms and we'll arranged tables....only thing is we went at 12.30 for lunch...and we noticed that they kept on playing one music back to back which was a little annoying...\\n\\n1. Chicken biriyani was so good and the chicken was fresh and tender ,rice was well cooked and overall was great\\n\\n2. Mutton biriyani was very very good and tasty and It had plenty of mutton pieces...\"), ('Rated 5.0', 'RATED\\n  This place just cool ? with good ambience and slow music and having delicious food is where you find peace. Staff very friendly and they have maintained the place so clean. The price is average for what the quantity of food they serve.\\nThom yum Thai soup was best and was treat to mouth, roti was soft with that vilaythi paneer was perfect to have for veggie foodies, in rice we tried burnt garlic fried rice with vegetables and it was the perfect thing to end.'), ('Rated 4.0', \"RATED\\n  Quiet a good family type of place.. too calm and usually we don't find crowd here.. panner curry and the deserts is what we had tasted.. they wer really good but we found it a little expensive\"), ('Rated 2.0', \"RATED\\n  I had a very bad experience here.\\nI don't know about a la carte, but the buffet was the worst. They gave us complementary drink and momos before the buffet. The momos were really good.\\nThe number of varieties first of all was very disappointing. The service was very slow. They refilled the food very slowly. The starters were okay. The main course also was so so. There was two gravies with roti and some rice with raitha. They had chats, sev puri and pan puri, which was average. But the desert was disappointing. They had gulab Jamun and chocolate cake. The jamun was not cooked inside. There was a cold blob of raw dough inside. The chocolate cake also was really hard and not that good.\\nOverall the buffet was a bad experience for me.\"), ('Rated 4.0', \"RATED\\n  Food: 8/10\\nAmbience:8/10\\nStaff:8/10\\nOne of the good places to try north Indian food...but depends on ur taste buds. Not everyone will like all the items here. Specially when u r particular abt sweet and spicy food.\\nThere's buffet available too.\\nWe had ordered paneer uttar dakshin and paneer kurchan..was amazing. The Gobi hara pyaz and mix veg were average.\"), ('Rated 3.0', 'RATED\\n  A decent place for a family lunch or dinner.. well arranged in a simple manner. Food was tasty and the crew was very helpful and understanding..'), ('Rated 4.0', \"RATED\\n  Great place to have a heavy lunch. Good service.\\nThe chicken biryani was undoubtedly one of the best I've had. Biriyani and Lassi would be the suggested combo. Buffet is the talk of the place, so try according to your appetite. A nice place.\"), ('Rated 4.0', 'RATED\\n  Its the one restaurant near katriguppe that i found was really good. Good variety of Chinese and thai dishes. Service is good and good place to hangout with family as its a peaceful place where noise is really less and good view.'), ('Rated 2.0', \"RATED\\n  Spice elephant soup SPL: almost manchow flavour soup.. Just above medium spicy\\n\\nLasooni fish tikka was awesome\\n\\nI don't remember the dessert name but I have attached the photo .. It had vanilla ice inside wafers... Wafer was hell hard, egg smell chewy ... Nightmare dessert !\\n\\nTable leg space was very bad... I was so uncomfortable, the whole time kept on adjusting my legs\\n\\nNo parking\\n\\nFor the taste felt this is too costly\"), ('Rated 4.0', 'RATED\\n  Zomato gold partner at this price. It was insane. They have really nice food. small place with very courteous staff and very cheap food for this ambience. Cost of soups is 80-100. Starters from 150-250. Main course 200-300. Cost for two was 800 for us.')]",
         "[]",
         "Buffet",
         "Banashankari"
        ],
        [
         "2",
         "https://www.zomato.com/SanchurroBangalore?context=eyJzZSI6eyJlIjpbIjU4Njk0IiwiMTgzNzU0NzQiLDU5MDkwLCIxODM4Mjk0NCIsIjE4MjI0Njc2IiwiNTkyODkiLCIxODM3MzM4NiJdLCJ0IjoiUmVzdGF1cmFudHMgaW4gQmFuYXNoYW5rYXJpIHNlcnZpbmcgQnVmZmV0In19",
         "1112, Next to KIMS Medical College, 17th Cross, 2nd Stage, Banashankari, Bangalore",
         "San Churro Cafe",
         "Yes",
         "No",
         "3.8/5",
         "918",
         "+91 9663487993",
         "Banashankari",
         "Cafe, Casual Dining",
         "Churros, Cannelloni, Minestrone Soup, Hot Chocolate, Pink Sauce Pasta, Salsa, Veg Supreme Pizza",
         "Cafe, Mexican, Italian",
         "800",
         "[('Rated 3.0', \"RATED\\n  Ambience is not that good enough and it's not a pocket friendly cafe and the quantity is not that good and desserts are too good enough ??..\"), ('Rated 3.0', \"RATED\\n \\nWent there for a quick bite with friends.\\nThe ambience had more of corporate feel. I would say it was unique.\\nTried nachos, pasta churros and lasagne.\\n\\nNachos were pathetic.( Seriously don't order)\\nPasta was okayish.\\nLasagne was good.\\nNutella churros were the best.\\nOverall an okayish experience!\\nPeace ??\"), ('Rated 4.0', \"RATED\\n  First of all, a big thanks to the staff of this Cafe. Very polite and courteous.\\n\\nI was there 15mins before their closing time. Without any discomfort or hesitation, the staff welcomed me with a warm smile and said they're still open, though they were preparing to close the cafe for the day.\\n\\nQuickly ordered the Thai green curry, which is served with rice. They got it for me within 10mins, hot and freshly made.\\n\\nIt was tasty with the taste of coconut milk. Not very spicy, it was mild spicy.\\n\\nI saw they had yummy looking dessert menu, should go there to try them out!\\n\\nA good spacious place to hang out for coffee, pastas, pizza or Thai food.\"), ('Rated 3.0', \"RATED\\n  A place for people who love churos. Otherwise it's a normal simple cafe like any other in town . Can go and spend the evening there . The positive being it is one of the better cafes in and around Banashankari and also the place is not very crowded .\"), ('Rated 3.0', 'RATED\\n  Have been visiting this place since years. The quality has gone down drastically. Food quality has become very average from good. Service is also very bad of late.'), ('Rated 1.0', 'RATED\\n  Really disappointed with the place.\\n\\nSeems like a old dusty store room stacked up with old sofas and chairs! The decor is soo disappointing that I cannot put it in words!\\nLastly the food was cherry on the cake to make it a complete worse meal.\\n\\nThis place is the last option you should ever consider.'), ('Rated 3.0', 'RATED\\n  Congested atmosphere due to smoke from kitchen\\nAmbience was k\\nService was k .\\nChuros was a new experience recommended\\nNear to kims . Parking was not der'), ('Rated 1.0', \"RATED\\n  Cockroaches !! I Repeat cockroaches!!Bakasura was disappointed.\\nBeing in Banashankari, being a gold outlet and nesting them? who can even think of that. Thankfully it wasn't over bakasura's plate. The ambience was last cleaned a decade back i guess. A cockroach just walked over our table. As it was alive, and well moving , the bakasura couldnt take a pic of it. Then the staff had to actually take it out of our table. Such ambience ? like what are you upto?\\n\\nBakasura disapproves. I dont even want to talk about the food.\"), ('Rated 4.0', 'RATED\\n  A nice place to hangout, this place looks professional and also cute. If anyone is trying churros for the first the time, this is the place to go. Cheesecake is pretty amazing too.\\nRecommended.'), ('Rated 4.0', 'RATED\\n  1) pizza mocktails shakes and churros really very good\\n2) staff good\\n3) ambience simple and nice good\\n4) location of San churro cafe very nice\\n5) over San churro cafe good....'), ('Rated 3.0', \"RATED\\n  One of my favourite places that I often visit in South bangalore , but quality has been reduced than before. Little unhappy with the food this time.\\nBut their churros never dissapointed me. Staff are too slow and do not respond easily.\\n\\nSoups:\\nMinestrone soup was like vegetable stock water with vegetables in it, not happy with it.\\n\\nChurros :\\nIt was great as usual. A must visit place if u love churros.\\n\\nStarters:\\n1. Africano panner -\\nIt was bit sweet and not happy with the dish!!\\n2. Loaded nachos -\\nThis happened to be their one of the best dishes, but now I take back my words. Very dissapointed with the dish.\\n\\nMain course:\\nsicilia pizza\\nPizza was too good, it's a must try dish.\\n\\nFinally I would recommend this place for churros and pizza .\\n\\nTaste : 6/10\\nAmbience :7/10\\nValue for money : 8/10\\n\\nOverall experience : 7.5/10\"), ('Rated 4.0', 'RATED\\n  Visited this place long before, place come to.notice with the decoration lights outside the cafe. We ordered churos, pizza and hot chocolate, all were good just I little priced more.'), ('Rated 4.0', 'RATED\\n  Spain pictures of Churros triggered Nostalgia about it , which led to Google search for Churro places in city , lucky we to get the result as San Churro cafe , we had an delectable churros here along with hot chocolate and Nachos ! Thanks for fulfilling our thirst of Spanish Churros !\\nFood : ???\\nChurros ???\\nHot Chocolate ?\\nNachos ??\\n\\nService : ??\\n\\nAmbiance : ?\\n\\nCleanliness : ??\\n\\nOne drawback : Store had some flies, I hope they take care of them for our next tour ?'), ('Rated 3.0', 'RATED\\n  Ã\\x83Ã\\x83Ã\\x82Ã\\x82Ã\\x83Ã\\x82Ã\\x82Ã\\x93Chocolaty and churroic experienceÃ\\x83Ã\\x83Ã\\x82Ã\\x82Ã\\x83Ã\\x82Ã\\x82Ã\\x94\\n\\nHit chocolate and churro with chocolate dip in the picture.\\n\\nMy first time at this restaurant and it has delivered in service, options as well as taste.'), ('Rated 4.0', 'RATED\\n  Though very sadly the place looks in need of retouching, but the food was great! Especially when it was super cold outside and we were super hungry, the staff was nice. We ordered the pink pasta and a pizza. Both of them were pretty good. Was really tempted to try their Churros but we were stuffed. Worth a visit and try for sure!'), ('Rated 3.0', \"RATED\\n  Churros, the restaurant's eponymous offering, has to be tried. They're a Mexican snack and served with chocolate sauce. Milkshakes are good too. The interior walls have murals and writings all over. Haven't tried the pizzas here but the cakes and pastries were pretty good.\"), ('Rated 3.0', \"RATED\\n  Honestly, have only tried parcels and that too only starters and mains - never tried desserts. So this review is based on starters and mains only. The quality wasn't all that great, was pretty average.\"), ('Rated 4.0', \"RATED\\n  Visited this place for the first time, recently. The ambience was pretty good. We ordered two 'churros for two'. Having churros for the first time ever, I was way too excited and judgmental. But swear to Lord, the churros were heavenly! The chocolate sauce was the actual chocolate sauce and not nutella xD We had taken the Cross Country Ranch pizza. It was a thin crust pizza loaded with veggies.\\nThe place is famous for churros (the name suggests so). I would love to visit again to try all the other items out :')\"), ('Rated 4.0', 'RATED\\n  I love the desserts more than anything here !Good place and well served !:)\\nWe dint like the nachos here , it was not that good as we expected !\\nExcept nachos almost all dish were quite good!'), ('Rated 2.0', \"RATED\\n  2nd time I have visited this place and I am surprised to see how it has declined. Churros was hard, pizza was pathetic, loaded nachos and masala Garlic bread were topped with cheese with MAYO! Yes mayonnese.. Soup has the bread crumbs in almost melted state, mocktails were average and our only Savior was pasta and caramel pudding... This place has high potential but let down by dull ambience, pretty slow and inattentive staff. Buffet price was listed as 399 but was charged 499, We still went ahead and took the deal to be very disappointed!! Most dishes were freshly cooked hence going with some starts else would rate them lower. I did not find a single person who seemed happy with their meal as moat complained about one thing or the other. That'll be my last visit San Churros.\")]",
         "[]",
         "Buffet",
         "Banashankari"
        ],
        [
         "3",
         "https://www.zomato.com/bangalore/addhuri-udupi-bhojana-banashankari?context=eyJzZSI6eyJlIjpbIjU4Njk0IiwiMTgzNzU0NzQiLCI1OTA5MCIsMTgzODI5NDQsIjE4MjI0Njc2IiwiNTkyODkiLCIxODM3MzM4NiJdLCJ0IjoiUmVzdGF1cmFudHMgaW4gQmFuYXNoYW5rYXJpIHNlcnZpbmcgQnVmZmV0In19",
         "1st Floor, Annakuteera, 3rd Stage, Banashankari, Bangalore",
         "Addhuri Udupi Bhojana",
         "No",
         "No",
         "3.7/5",
         "88",
         "+91 9620009302",
         "Banashankari",
         "Quick Bites",
         "Masala Dosa",
         "South Indian, North Indian",
         "300",
         "[('Rated 4.0', \"RATED\\n  Great food and proper Karnataka style full meals. Been there twice and was fully satisfied.. Will give 5 stars if it's well managed............\"), ('Rated 2.0', 'RATED\\n  Reached the place at 3pm on Saturday. Half of the items on the menu were over. What was annoying was is the food was cold. The taste was also very average. Only dosa and holige were good. There were very few people in the restaurant and the service was still very slow. The waiters were all standing in one corner and talking. Had to call them repeatedly.'), ('Rated 4.0', 'RATED\\n  Had been here, good food served and tasty,good place to go with freinds and family, should be first to get served well with all food. One of the good hotel there for this price.'), ('Rated 2.0', 'RATED\\n  How can a Udupi restaurant be so dirty.the floor the walls the waiters are all stained in food.Why cant they clean it? The floor even had decorative colour paper every where and lot of food.Now coming to the taste of the food- it was pretty decent for what they chargw.What upset us was the menu says they serve thambuli, two variety of rice etc but they were all over at 2.45 but they still charged us full amount.Lastly if u r ok to b seated with random people and adjust with their table manners( burrping etc) then tis place is decent for a quick veg udupi meals'), ('Rated 4.0', 'RATED\\n  Aadhuri Udupi bhojana is one of the best vegetarian hotel in and around Banashankari locality\\nwere we can enjoy the authentic south Karnataka style food.'), ('Rated 5.0', 'RATED\\n  One of the best restaurants for unlimited food. Price for one full unlimited meal is ?150 and the service is awesome here. If youÃ\\x83Ã\\x83Ã\\x82Ã\\x82Ã\\x83Ã\\x82Ã\\x82Ã\\x92re a costalian you will love the food served here.'), ('Rated 4.0', \"RATED\\n  Been here a couple of times. Highly satisfying on both the ocassions. Great food. Decent service. At price of 160 per person it is of a great value. The staff here serves in a traditional Mysore style dresses. The food is authentic Karnataka meals. I really liked the pineapple pickle/chutney. They serve some 4 varities of rice of which you shouldn't try all as you would already be full. Roti, Dosa were decent. In the deserts, Payasam& Holige were good.\\nI think it is one the must try places to try some authentic south food even if you have been to the likes of Kamath etc. this one is a little different. :)\"), ('Rated 5.0', 'RATED\\n  Very good restorent good south Indian food very nice all food s are good we spent good time and food in this hotel value of money we loved it'), ('Rated 3.5', 'RATED\\n  I went to this restaurant on Sunday afternoon.It was a bit crowded.\\n\\nIts located in the 1st floor Above anna kuteera kathriguppe\\n\\nYou need to take food coupon in the ground floor itself.\\nit was 160 rs.\\n\\nTaste wise it was good.\\nService was slow.\\nNothing exciting/different in the menu.\\nWhatever they serve its good.\\nWorth for money.'), ('Rated 5.0', 'RATED\\n  Awesome place , worth with price , quality , quantity , service , hygiene and discipline I loved it ???? wish there were more rating stars to give I give 100 on 5 for sure'), ('Rated 3.5', 'RATED\\n  Nice food, good ambiance, so many verity of food, this time i was in hurry so, next review will be detailed one. Its good to see all dishes at one place'), ('Rated 1.5', 'RATED\\n  The food was not satisfactory. Not one item served could be eaten again . Only advantage is the price but even that is not going to be enough to make me visit the place again . Dear Udupi staff people wouldnÃ\\x83Ã\\x83Ã\\x82Ã\\x82Ã\\x83Ã\\x82Ã\\x82Ã\\x92t mind if the food quality was better for a higher price and please get more fans so that people wonÃ\\x83Ã\\x83Ã\\x82Ã\\x82Ã\\x83Ã\\x82Ã\\x82Ã\\x92t have to deal with another disappointment of sweating while eating.'), ('Rated 5.0', 'RATED\\n  Excellent quality and taste, more variety of authentic south Indian food. Excellent service. Highly recommended. Worth the money we pay here.'), ('Rated 2.0', \"RATED\\n  I'm rating 2 only because of the large number of items they serve for the price they charge. While the taste is moderate, the biggest turn off is the poor service and totally unresponsive staff. They are either understaffed or poorly trained. I didn't get to taste a few items, thanks to their ever busy staff, and ended eating what was served. Please learn the crowd management from other peers like maiyya and roti ghar\"), ('Rated 5.0', 'RATED\\n  One of my colleagues suggested this place. Went there at 1 pm and place wasnt crowded. Ambience is decent and cool. A welcome drink \"appekai saru\" was served. Then started..typical \"baale yele uta\" . Diffrerent types of palya, kosambari and sides. Then came masala dosa, pulka,pulav, veg rice bath. Masala dosa was very very tasty. Service is bit fast as people will be coming, but they will make it slow if u tell them to. Then comes rice with sambar,rasam, daal,tambali. And yes, dont forget to eat holige,payasam and icecream. Service is very nice. One best thing is all of this comes in just 160 rs and its unlimited!!! What else you want!! A must visit place for south indian foodie!'), ('Rated 3.0', \"RATED\\n  Been here last week with high expectations based on few reviews. But utterly disappointed with the food quality & taste. I feel it's an overhyped place! There are many better places in the vicinity for Plantain leaf meal. There was too much of waiting & these staffs were too hurry in serving food & asking people to finish meal & leave quickly. I can understand there is a waiting and staffs should approach in a positive way. I will never go there again!\\n\\nbangaloreepicure.com\"), ('Rated 4.0', 'RATED\\n  I have a confession, being a south Indian I distaste south Indian food(not that I hate it, I don\\'t like it either).But still made up my mind on Sankaranti to have authentic south Indian food visited \"Adduri Udupi Bhojana\" because it was close to my place.I just had a look at the menu told myself that I can do it(I am not blessed with a tremendous appetite).welcomed with the mango soup followed by the wide variety of dishes served, I have developed the new love for Pongal(both sweet and Khara).I can still feel the taste of the ghee bursting in my mouth but it was\"kai holige\" that made my day, crisp and soft.not to forget food is served on a banana leaf that adds in more flavor and taste.waiters are attentive and responsive.The customer\\'s needs are monitored and addressed.so much variety for just 160Rs without compromising on quantity and quality and yes it is unlimited.This visit turned out to be a surprise package.'), ('Rated 3.5', 'RATED\\n  Food is good.\\nNo parking\\nAmbience is average\\nOverall its value for money if you looking for south Indian food.\\nPreferred the tiffin items......'), ('Rated 3.0', \"RATED\\n  Been here last week with high expectations based on few reviews. But utterly disappointed with the food quality & taste. I feel it's an overhyped place! There are many better places in the vicinity for Plantain leaf meal. There was too much of waiting & these staffs were too hurry in serving food & asking people to finish meal & leave quickly. I can understand there is a waiting and staffs should approach in a positive way. I will never go there again!\\n\\nbangaloreepicure.com\"), ('Rated 4.0', 'RATED\\n  I have a confession, being a south Indian I distaste south Indian food(not that I hate it, I don\\'t like it either).But still made up my mind on Sankaranti to have authentic south Indian food visited \"Adduri Udupi Bhojana\" because it was close to my place.I just had a look at the menu told myself that I can do it(I am not blessed with a tremendous appetite).welcomed with the mango soup followed by the wide variety of dishes served, I have developed the new love for Pongal(both sweet and Khara).I can still feel the taste of the ghee bursting in my mouth but it was\"kai holige\" that made my day, crisp and soft.not to forget food is served on a banana leaf that adds in more flavor and taste.waiters are attentive and responsive.The customer\\'s needs are monitored and addressed.so much variety for just 160Rs without compromising on quantity and quality and yes it is unlimited.This visit turned out to be a surprise package.'), ('Rated 3.5', 'RATED\\n  Food is good.\\nNo parking\\nAmbience is average\\nOverall its value for money if you looking for south Indian food.\\nPreferred the tiffin items......'), ('Rated 3.0', \"RATED\\n  Been here last week with high expectations based on few reviews. But utterly disappointed with the food quality & taste. I feel it's an overhyped place! There are many better places in the vicinity for Plantain leaf meal. There was too much of waiting & these staffs were too hurry in serving food & asking people to finish meal & leave quickly. I can understand there is a waiting and staffs should approach in a positive way. I will never go there again!\\n\\nbangaloreepicure.com\"), ('Rated 4.0', 'RATED\\n  I have a confession, being a south Indian I distaste south Indian food(not that I hate it, I don\\'t like it either).But still made up my mind on Sankaranti to have authentic south Indian food visited \"Adduri Udupi Bhojana\" because it was close to my place.I just had a look at the menu told myself that I can do it(I am not blessed with a tremendous appetite).welcomed with the mango soup followed by the wide variety of dishes served, I have developed the new love for Pongal(both sweet and Khara).I can still feel the taste of the ghee bursting in my mouth but it was\"kai holige\" that made my day, crisp and soft.not to forget food is served on a banana leaf that adds in more flavor and taste.waiters are attentive and responsive.The customer\\'s needs are monitored and addressed.so much variety for just 160Rs without compromising on quantity and quality and yes it is unlimited.This visit turned out to be a surprise package.'), ('Rated 3.5', 'RATED\\n  Food is good.\\nNo parking\\nAmbience is average\\nOverall its value for money if you looking for south Indian food.\\nPreferred the tiffin items......'), ('Rated 3.0', \"RATED\\n  Been here last week with high expectations based on few reviews. But utterly disappointed with the food quality & taste. I feel it's an overhyped place! There are many better places in the vicinity for Plantain leaf meal. There was too much of waiting & these staffs were too hurry in serving food & asking people to finish meal & leave quickly. I can understand there is a waiting and staffs should approach in a positive way. I will never go there again!\\n\\nbangaloreepicure.com\"), ('Rated 4.0', 'RATED\\n  I have a confession, being a south Indian I distaste south Indian food(not that I hate it, I don\\'t like it either).But still made up my mind on Sankaranti to have authentic south Indian food visited \"Adduri Udupi Bhojana\" because it was close to my place.I just had a look at the menu told myself that I can do it(I am not blessed with a tremendous appetite).welcomed with the mango soup followed by the wide variety of dishes served, I have developed the new love for Pongal(both sweet and Khara).I can still feel the taste of the ghee bursting in my mouth but it was\"kai holige\" that made my day, crisp and soft.not to forget food is served on a banana leaf that adds in more flavor and taste.waiters are attentive and responsive.The customer\\'s needs are monitored and addressed.so much variety for just 160Rs without compromising on quantity and quality and yes it is unlimited.This visit turned out to be a surprise package.'), ('Rated 3.5', 'RATED\\n  Food is good.\\nNo parking\\nAmbience is average\\nOverall its value for money if you looking for south Indian food.\\nPreferred the tiffin items......'), ('Rated 3.0', \"RATED\\n  Been here last week with high expectations based on few reviews. But utterly disappointed with the food quality & taste. I feel it's an overhyped place! There are many better places in the vicinity for Plantain leaf meal. There was too much of waiting & these staffs were too hurry in serving food & asking people to finish meal & leave quickly. I can understand there is a waiting and staffs should approach in a positive way. I will never go there again!\\n\\nbangaloreepicure.com\"), ('Rated 4.0', 'RATED\\n  I have a confession, being a south Indian I distaste south Indian food(not that I hate it, I don\\'t like it either).But still made up my mind on Sankaranti to have authentic south Indian food visited \"Adduri Udupi Bhojana\" because it was close to my place.I just had a look at the menu told myself that I can do it(I am not blessed with a tremendous appetite).welcomed with the mango soup followed by the wide variety of dishes served, I have developed the new love for Pongal(both sweet and Khara).I can still feel the taste of the ghee bursting in my mouth but it was\"kai holige\" that made my day, crisp and soft.not to forget food is served on a banana leaf that adds in more flavor and taste.waiters are attentive and responsive.The customer\\'s needs are monitored and addressed.so much variety for just 160Rs without compromising on quantity and quality and yes it is unlimited.This visit turned out to be a surprise package.'), ('Rated 3.5', 'RATED\\n  Food is good.\\nNo parking\\nAmbience is average\\nOverall its value for money if you looking for south Indian food.\\nPreferred the tiffin items......'), ('Rated 4.0', \"RATED\\n  Had been on a week night for an authentic south Indian food. I personally love being served on banyan leaf. The waiters are all dressed up in traditional Mysore attire wearing with a peta. The food was delicious and definitely worth it's price. The waiters are friendly and serve u well with a smile. The food is prepared without garlic which is a plus point attracting many senior customers.\"), ('Rated 3.5', \"RATED\\n  Food is good and enjoyed. With 150 Rs. is very nice.\\nNote: (It happen with us)\\n - If you going TWO people, you may need to share the table there. Its almost crowed.\\n - You have to sit where they ask, you can't choose even if all the table are empty. \\nJust wait, eat and come back.\"), ('Rated 5.0', 'RATED\\n  Excellent Ambience with delicious meals with 10-15 variety types. Worth paying for money and you can dine out if you are with more friends/relatives in home.'), ('Rated 4.5', 'RATED\\n  Very good and Unlimited . especially masala dosa . Service and ambience was also good. will visit again with friends . very very reasonble and wholesome food'), ('Rated 3.5', 'RATED\\n  Aaaa wt to tell, Unlimited food, food was like exactly like south indian marriage food, 2 soups, sides masala dosa, all were unlimited for just ?150, except ice cream in the end ?? they give a water bottle, and main thing is have patience to get place to sit..... ??,there is no parking place of this outlet, and difficult to park in front of the restaurants,')]",
         "[]",
         "Buffet",
         "Banashankari"
        ],
        [
         "4",
         "https://www.zomato.com/bangalore/grand-village-basavanagudi?context=eyJzZSI6eyJlIjpbIjU4Njk0IiwiMTgzNzU0NzQiLCI1OTA5MCIsIjE4MzgyOTQ0IiwxODIyNDY3NiwiNTkyODkiLCIxODM3MzM4NiJdLCJ0IjoiUmVzdGF1cmFudHMgaW4gQmFuYXNoYW5rYXJpIHNlcnZpbmcgQnVmZmV0In19",
         "10, 3rd Floor, Lakshmi Associates, Gandhi Bazaar Main Road, Above Reliance Trends, Basavanagudi, Bangalore",
         "Grand Village",
         "No",
         "No",
         "3.8/5",
         "166",
         "+91 8026612447\r\n+91 9901210005",
         "Basavanagudi",
         "Casual Dining",
         "Panipuri, Gol Gappe",
         "North Indian, Rajasthani",
         "600",
         "[('Rated 4.0', 'RATED\\n  Very good restaurant in neighbourhood. Buffet system is properly arranged. Variety of dishes along with garba dance and puppet show. Good spread of desserts. Live paratha / Kulcha making'), ('Rated 4.0', 'RATED\\n  Great service, overwhelming experience.\\n\\nOne of its kind experience. Grand village offers you some very desi food options.\\n\\nJaljeera, buttermilk, chat papdi, bhajiya, dosa, pav bhaji, noodles, and so many curries kulcha, roti, and garama garam Jalebies, gulab jamuns.\\n\\nBeautiful ambience of village. People serving with smiles and with full heart !!\\n\\nSo here goes my overall ratings :\\nFood : 4/5\\nAmbience : 3.5/5\\nService : 4/5\\nPocket friendly : 4/5')]",
         "[]",
         "Buffet",
         "Banashankari"
        ],
        [
         "5",
         "https://www.zomato.com/bangalore/timepass-dinner-basavanagudi?context=eyJzZSI6eyJlIjpbIjE4Mzc1NDc0IiwiNTkwOTAiLCIxODM4Mjk0NCIsIjE4MjI0Njc2Iiw1OTI4OSwiMTgzNzMzODYiXSwidCI6IlJlc3RhdXJhbnRzIGluIEJhbmFzaGFua2FyaSBzZXJ2aW5nIEJ1ZmZldCJ9fQ==",
         "37, 5-1, 4th Floor, Bosco Court, Gandhi Bazaar Main Road, Basavanagudi, Bangalore",
         "Timepass Dinner",
         "Yes",
         "No",
         "3.8/5",
         "286",
         "+91 9980040002\r\n+91 9980063005",
         "Basavanagudi",
         "Casual Dining",
         "Onion Rings, Pasta, Kadhai Paneer, Salads, Salad, Roti, Jeera Rice",
         "North Indian",
         "600",
         "[('Rated 3.0', 'RATED\\n  Food 3/5\\nAmbience 3/5\\nService 3/5\\n\\nHad been here for family lunch. This place serves buffets too. We ordered soups, babycorn starters, butter naan, kadai panner, veg kohlapuri, pease pulav. Food was good. But the service is too slow. They will make you wait for 20 mins to get the order. This place is apt for family hangout.\\n\\nCheers.')]",
         "[]",
         "Buffet",
         "Banashankari"
        ],
        [
         "6",
         "https://www.zomato.com/bangalore/rosewood-international-hotel-bar-restaurant-mysore-road-bangalore?context=eyJzZSI6eyJlIjpbIjU5MDkwIiwiMTgzODI5NDQiLCIxODIyNDY3NiIsIjU5Mjg5IiwxODM3MzM4Nl0sInQiOiJSZXN0YXVyYW50cyBpbiBCYW5hc2hhbmthcmkgc2VydmluZyBCdWZmZXQifX0=",
         "19/1, New Timberyard Layout, Beside Satellite Bus Stop, Mysore Road, Bangalore",
         "Rosewood International Hotel - Bar & Restaurant",
         "No",
         "No",
         "3.6/5",
         "8",
         "+91 9731716688\r\n080 26740366",
         "Mysore Road",
         "Casual Dining",
         null,
         "North Indian, South Indian, Andhra, Chinese",
         "800",
         "[('Rated 5.0', 'RATED\\n  Awesome food ??Great serviceFriendly staffsGood quality of food\\n# Complimentary Breakfast ??\\n# Honey Lemon Chicken and Chicken Manchow Soup\\nPerfect place too stay alone or with family ????Will stay whenever I will go Bangalore ????'), ('Rated 5.0', 'RATED\\n  Newly Launched Bar & Restaurant. Good Food quality. Like to visit again. Also like to suggest to others.\\nNice Ambiance and setting. Also outdoor dining is available. Did like the Chicken grill.')]",
         "[]",
         "Buffet",
         "Banashankari"
        ],
        [
         "7",
         "https://www.zomato.com/bangalore/onesta-banashankari?context=eyJzZSI6eyJlIjpbMTg1NjU2NzksIjE4NTkzMDQ0IiwiMTgxNDg5NDEiLCIxODQ3MDc3MSIsIjE4NzE2MDYxIiwiMTg2MzI5NzciLCIxODIwMjk5NyIsIjU5MDkwIiwiMTg1NTkyMTEiLCIxODMyMzYzOSIsIjE4NTc0Mjc3Il0sInQiOiJDYWZcdTAwZTlzIGFuZCBEZWxpcyBpbiBCYW5hc2hhbmthcmkifX0=",
         "2469, 3rd Floor, 24th Cross, Opposite BDA Complex, 2nd Stage, Banashankari, Bangalore",
         "Onesta",
         "Yes",
         "Yes",
         "4.6/5",
         "2556",
         "080 48653961\r\n080 48655715",
         "Banashankari",
         "Casual Dining, Cafe",
         "Farmhouse Pizza, Chocolate Banana, Virgin Mojito, Pasta, Paneer Tikka, Lime Soda, Prawn Pizza",
         "Pizza, Cafe, Italian",
         "600",
         "[('Rated 5.0', 'RATED\\n  I personally really liked this place ! The ambience with the rooftop , plants , the music is great !\\nThe starters are good and so were the pizzas.\\nThe prices are pretty affordable! Must visit place !'), ('Rated 5.0', 'RATED\\n  Very good pizza... took unlimited pizza and could eat 3 pizzas easily per person... even service is very good... staff is very courteous and polite'), ('Rated 4.0', 'RATED\\n  Onward has been a favourite place for a Pizza for quite some time. Their Happy Hour Pizzas and Pizza Combos are to be relished. The pizzas are fluffy and have just the right amount of sauce and toppings to cheer you up.'), ('Rated 3.0', 'RATED\\n  Onesta serves unlimited pizza and desserts with pasta also\\nThis places has multiple branches in the city and usually crowded on weekends\\nService: itÃ\\x83Ã\\x83Ã\\x82Ã\\x82Ã\\x83Ã\\x82Ã\\x82Ã\\x92s good and decent\\nPrices : affordable\\nFood: desserts and shakes are very good\\nBut the pizzas are too thick base ones so until you order something very cheesy or with a generous topping canÃ\\x83Ã\\x83Ã\\x82Ã\\x82Ã\\x83Ã\\x82Ã\\x82Ã\\x92t taste it\\nThe choclate banana pizza was a disappointment as was very raw'), ('Rated 4.0', 'RATED\\n  I like going back to this place. I really like the ambience and the fact that it is a rooftop makes it a cool place to hangout. Although, I keep ordering almost the same thing every time, it has always turned out to be a nice experience. This place is famous for its pizza but, I kinda like their pasta more. Also, the tiramisu shots are to die for and so is the mozzarella cheese balls with a really generous amount of cheese inside. I would surely recommend this place and I would definitely keep going back.'), ('Rated 5.0', \"RATED\\n  Bakasuras Paradise!\\n\\nThe only place that can keep the bakasuras belly happy!\\nMy 6th visit, and my 5th different onesta visit!\\nFrom RR nagar, JP Nagar, Basavanagudi, Koramangala bakasura ended up at an onesta in Banashankari as well!\\nEvery visit , it's the unlimited meal that I have had. But, but, but there is a change that's happening. From unlimited pizza, unlimited dessert and a beverage (mocktails and everything) to unlimited pizza, one dessert and one aerated beverage (coke/Pepsi/fanta) , I have been through all! And yet, it never disappoints!\\nThe pizzas here are just fab and you can hardly eat like 4-5 pizzas in one sitting (bakasura can.. can you? Yes you can)\\nComing to the staff, they are great.\\nComing to the quality, it's great.\\n\\nTo finish!\\nBe like onesta!\\n\\nIt's Bakasura Recommended\\nFood- 10/10\\nAmbience- 10/10\\nStaff- 10/10\\nValue for money- 25/10\\n\\nOnesta Love!\"), ('Rated 4.0', \"RATED\\n  It is like any other onesta outlet. But I find this outlet more crowded than any other outlet that I have visited so far. Food wise it's the same no much of difference. But since the place a little huge service is delayed usually.\"), ('Rated 5.0', 'RATED\\n  At times of a cafe bubble in Bangalore, Onesta truly stands out as one the best restaurants with great food, pocket friendly menu and excellent staff. The place often has offers providing unlimited pizzas at prices as low as Rs 150. I have been here multiple times , tasted most of the items on menu and not once have I returned unsatisfied.'), ('Rated 5.0', \"RATED\\n  This is one of the biggest Onesta outlets I've visited. In the last couple of years, Onesta has made a name for itself. We did not have pizza places that have a buffet option.\\n\\nLike any other Onesta, the taste is right up there and the quick service. I like the thin crust pizzas here. I'd recommend you to take the buffet, ordering a la carte is not pocket friendly.\"), ('Rated 5.0', 'RATED\\n  This roof top outlet of OnestÃ\\x83Ã\\x83Ã\\x82Ã\\x83Ã\\x83Ã\\x82Ã\\x82Ã\\xa0 is one of the amazing places to have the best pizzas in and around Banashankari.\\n\\nNot only the ambience but also the cheerful yet humble service staff catalised my great experience there.\\n\\nMust try: chat pizza, herbed wedges\\n\\n#rajeshwrites'), ('Rated 4.0', 'RATED\\n  This is one of the best restaurants in banglore this is a roof top restaurant with a very good ambiance!\\nThis is a peaceful place where u can seat chat with your friends with very good starters , drinks , and off course pizzas .\\nThey serve these tiny little desserts which look good . Personal favourite was cheese balls and fish fingers .\\nI love the service here itÃ\\x83Ã\\x83Ã\\x82Ã\\x82Ã\\x83Ã\\x82Ã\\x82Ã\\x92s quick even during the offers their service is pretty fast.'), ('Rated 5.0', \"RATED\\n  Food : 4/5\\nService: 10/5\\nSo let's get over the food and the ambience first. Restaurant is big, with high roof, give a sense of space, well lit. Food is great, not mind blowing. We took the unlimited menu, and loved the bacon pizza most. Rest of the pizza was good enough. Among the deserts, the walnut tart was superb, but i didn't like the peanut-butter mousse at all.\\n\\nBut, in spite of all that, the reason for the 5-star rating is the service we got. We were served by Mr.Nanda, who made us feel absolutely special. He didn't have to. We were a small party of just two people, we weren't ordering off the main menu, and the restaurant discourages tips. In spite of all that, he was extremely attentive (without being intrusive), engaging and helpful. I have been to quite some places, from roadside ones to five-star hotels, rarely have the service been so heart warmingly good. I hope he goes onto much much greater things in life, because he is absolutely brilliant at his work.\"), ('Rated 4.0', 'RATED\\n  Ambiance - 4/5\\nService - 4/5\\nFood - 4/5\\n\\nGreat pizza, served hot and made to order. They take note of what crusts you want for your pizza and I had the thin crust, so I could eat more, and the crust was made amazing also so was the pizza.\\nThe service is really good and the place is clean also. All in all wonderful place and another great restaurant part of the franchise.'), ('Rated 4.0', 'RATED\\n  Loved the foodie experience here!!!!!! Came here for the name of the week offer and trust me I was disappointed. This whole place has such a good ambience that u l love it instantly.\\nCrazy Bangalore rain and Fresh piping hot pizza and the night is sorted!\\nUnlimited pizzas, a mocktail and did i just hear unlimited desserts?!\\nGoodbye midweek blues!!!?\\n\\nI would specially mention the staff here-Chaitanya,Arup and Binita serving us, they were all so friendly and courteous, never have i had such an experience.\\nWhat really makes your food enjoyable is just not the taste but how the person served you!\\n\\nTop notch guys!!\\nComing back for more-offer or no offer ! ?'), ('Rated 5.0', 'RATED\\n  This roof top outlet of OnestÃ\\x83Ã\\x83Ã\\x82Ã\\x83Ã\\x83Ã\\x82Ã\\x82Ã\\xa0 is one of the amazing places to have the best pizzas in and around Banashankari.\\n\\nNot only the ambience but also the cheerful yet humble service staff catalised my great experience there.\\n\\nMust try: chat pizza, herbed wedges\\n\\n#rajeshwrites'), ('Rated 4.0', 'RATED\\n  This is one of the best restaurants in banglore this is a roof top restaurant with a very good ambiance!\\nThis is a peaceful place where u can seat chat with your friends with very good starters , drinks , and off course pizzas .\\nThey serve these tiny little desserts which look good . Personal favourite was cheese balls and fish fingers .\\nI love the service here itÃ\\x83Ã\\x83Ã\\x82Ã\\x82Ã\\x83Ã\\x82Ã\\x82Ã\\x92s quick even during the offers their service is pretty fast.'), ('Rated 5.0', \"RATED\\n  Food : 4/5\\nService: 10/5\\nSo let's get over the food and the ambience first. Restaurant is big, with high roof, give a sense of space, well lit. Food is great, not mind blowing. We took the unlimited menu, and loved the bacon pizza most. Rest of the pizza was good enough. Among the deserts, the walnut tart was superb, but i didn't like the peanut-butter mousse at all.\\n\\nBut, in spite of all that, the reason for the 5-star rating is the service we got. We were served by Mr.Nanda, who made us feel absolutely special. He didn't have to. We were a small party of just two people, we weren't ordering off the main menu, and the restaurant discourages tips. In spite of all that, he was extremely attentive (without being intrusive), engaging and helpful. I have been to quite some places, from roadside ones to five-star hotels, rarely have the service been so heart warmingly good. I hope he goes onto much much greater things in life, because he is absolutely brilliant at his work.\"), ('Rated 4.0', 'RATED\\n  Ambiance - 4/5\\nService - 4/5\\nFood - 4/5\\n\\nGreat pizza, served hot and made to order. They take note of what crusts you want for your pizza and I had the thin crust, so I could eat more, and the crust was made amazing also so was the pizza.\\nThe service is really good and the place is clean also. All in all wonderful place and another great restaurant part of the franchise.'), ('Rated 4.0', 'RATED\\n  Loved the foodie experience here!!!!!! Came here for the name of the week offer and trust me I was disappointed. This whole place has such a good ambience that u l love it instantly.\\nCrazy Bangalore rain and Fresh piping hot pizza and the night is sorted!\\nUnlimited pizzas, a mocktail and did i just hear unlimited desserts?!\\nGoodbye midweek blues!!!?\\n\\nI would specially mention the staff here-Chaitanya,Arup and Binita serving us, they were all so friendly and courteous, never have i had such an experience.\\nWhat really makes your food enjoyable is just not the taste but how the person served you!\\n\\nTop notch guys!!\\nComing back for more-offer or no offer ! ?'), ('Rated 5.0', 'RATED\\n  This roof top outlet of OnestÃ\\x83Ã\\x83Ã\\x82Ã\\x83Ã\\x83Ã\\x82Ã\\x82Ã\\xa0 is one of the amazing places to have the best pizzas in and around Banashankari.\\n\\nNot only the ambience but also the cheerful yet humble service staff catalised my great experience there.\\n\\nMust try: chat pizza, herbed wedges\\n\\n#rajeshwrites'), ('Rated 4.0', 'RATED\\n  This is one of the best restaurants in banglore this is a roof top restaurant with a very good ambiance!\\nThis is a peaceful place where u can seat chat with your friends with very good starters , drinks , and off course pizzas .\\nThey serve these tiny little desserts which look good . Personal favourite was cheese balls and fish fingers .\\nI love the service here itÃ\\x83Ã\\x83Ã\\x82Ã\\x82Ã\\x83Ã\\x82Ã\\x82Ã\\x92s quick even during the offers their service is pretty fast.'), ('Rated 5.0', \"RATED\\n  Food : 4/5\\nService: 10/5\\nSo let's get over the food and the ambience first. Restaurant is big, with high roof, give a sense of space, well lit. Food is great, not mind blowing. We took the unlimited menu, and loved the bacon pizza most. Rest of the pizza was good enough. Among the deserts, the walnut tart was superb, but i didn't like the peanut-butter mousse at all.\\n\\nBut, in spite of all that, the reason for the 5-star rating is the service we got. We were served by Mr.Nanda, who made us feel absolutely special. He didn't have to. We were a small party of just two people, we weren't ordering off the main menu, and the restaurant discourages tips. In spite of all that, he was extremely attentive (without being intrusive), engaging and helpful. I have been to quite some places, from roadside ones to five-star hotels, rarely have the service been so heart warmingly good. I hope he goes onto much much greater things in life, because he is absolutely brilliant at his work.\"), ('Rated 4.0', 'RATED\\n  Ambiance - 4/5\\nService - 4/5\\nFood - 4/5\\n\\nGreat pizza, served hot and made to order. They take note of what crusts you want for your pizza and I had the thin crust, so I could eat more, and the crust was made amazing also so was the pizza.\\nThe service is really good and the place is clean also. All in all wonderful place and another great restaurant part of the franchise.'), ('Rated 4.0', 'RATED\\n  Loved the foodie experience here!!!!!! Came here for the name of the week offer and trust me I was disappointed. This whole place has such a good ambience that u l love it instantly.\\nCrazy Bangalore rain and Fresh piping hot pizza and the night is sorted!\\nUnlimited pizzas, a mocktail and did i just hear unlimited desserts?!\\nGoodbye midweek blues!!!?\\n\\nI would specially mention the staff here-Chaitanya,Arup and Binita serving us, they were all so friendly and courteous, never have i had such an experience.\\nWhat really makes your food enjoyable is just not the taste but how the person served you!\\n\\nTop notch guys!!\\nComing back for more-offer or no offer ! ?'), ('Rated 5.0', 'RATED\\n  This roof top outlet of OnestÃ\\x83Ã\\x83Ã\\x82Ã\\x83Ã\\x83Ã\\x82Ã\\x82Ã\\xa0 is one of the amazing places to have the best pizzas in and around Banashankari.\\n\\nNot only the ambience but also the cheerful yet humble service staff catalised my great experience there.\\n\\nMust try: chat pizza, herbed wedges\\n\\n#rajeshwrites'), ('Rated 4.0', 'RATED\\n  This is one of the best restaurants in banglore this is a roof top restaurant with a very good ambiance!\\nThis is a peaceful place where u can seat chat with your friends with very good starters , drinks , and off course pizzas .\\nThey serve these tiny little desserts which look good . Personal favourite was cheese balls and fish fingers .\\nI love the service here itÃ\\x83Ã\\x83Ã\\x82Ã\\x82Ã\\x83Ã\\x82Ã\\x82Ã\\x92s quick even during the offers their service is pretty fast.'), ('Rated 5.0', \"RATED\\n  Food : 4/5\\nService: 10/5\\nSo let's get over the food and the ambience first. Restaurant is big, with high roof, give a sense of space, well lit. Food is great, not mind blowing. We took the unlimited menu, and loved the bacon pizza most. Rest of the pizza was good enough. Among the deserts, the walnut tart was superb, but i didn't like the peanut-butter mousse at all.\\n\\nBut, in spite of all that, the reason for the 5-star rating is the service we got. We were served by Mr.Nanda, who made us feel absolutely special. He didn't have to. We were a small party of just two people, we weren't ordering off the main menu, and the restaurant discourages tips. In spite of all that, he was extremely attentive (without being intrusive), engaging and helpful. I have been to quite some places, from roadside ones to five-star hotels, rarely have the service been so heart warmingly good. I hope he goes onto much much greater things in life, because he is absolutely brilliant at his work.\"), ('Rated 4.0', 'RATED\\n  Ambiance - 4/5\\nService - 4/5\\nFood - 4/5\\n\\nGreat pizza, served hot and made to order. They take note of what crusts you want for your pizza and I had the thin crust, so I could eat more, and the crust was made amazing also so was the pizza.\\nThe service is really good and the place is clean also. All in all wonderful place and another great restaurant part of the franchise.'), ('Rated 4.0', 'RATED\\n  Loved the foodie experience here!!!!!! Came here for the name of the week offer and trust me I was disappointed. This whole place has such a good ambience that u l love it instantly.\\nCrazy Bangalore rain and Fresh piping hot pizza and the night is sorted!\\nUnlimited pizzas, a mocktail and did i just hear unlimited desserts?!\\nGoodbye midweek blues!!!?\\n\\nI would specially mention the staff here-Chaitanya,Arup and Binita serving us, they were all so friendly and courteous, never have i had such an experience.\\nWhat really makes your food enjoyable is just not the taste but how the person served you!\\n\\nTop notch guys!!\\nComing back for more-offer or no offer ! ?'), ('Rated 5.0', 'RATED\\n  This roof top outlet of OnestÃ\\x83Ã\\x83Ã\\x82Ã\\x83Ã\\x83Ã\\x82Ã\\x82Ã\\xa0 is one of the amazing places to have the best pizzas in and around Banashankari.\\n\\nNot only the ambience but also the cheerful yet humble service staff catalised my great experience there.\\n\\nMust try: chat pizza, herbed wedges\\n\\n#rajeshwrites'), ('Rated 4.0', 'RATED\\n  This is one of the best restaurants in banglore this is a roof top restaurant with a very good ambiance!\\nThis is a peaceful place where u can seat chat with your friends with very good starters , drinks , and off course pizzas .\\nThey serve these tiny little desserts which look good . Personal favourite was cheese balls and fish fingers .\\nI love the service here itÃ\\x83Ã\\x83Ã\\x82Ã\\x82Ã\\x83Ã\\x82Ã\\x82Ã\\x92s quick even during the offers their service is pretty fast.'), ('Rated 5.0', \"RATED\\n  Food : 4/5\\nService: 10/5\\nSo let's get over the food and the ambience first. Restaurant is big, with high roof, give a sense of space, well lit. Food is great, not mind blowing. We took the unlimited menu, and loved the bacon pizza most. Rest of the pizza was good enough. Among the deserts, the walnut tart was superb, but i didn't like the peanut-butter mousse at all.\\n\\nBut, in spite of all that, the reason for the 5-star rating is the service we got. We were served by Mr.Nanda, who made us feel absolutely special. He didn't have to. We were a small party of just two people, we weren't ordering off the main menu, and the restaurant discourages tips. In spite of all that, he was extremely attentive (without being intrusive), engaging and helpful. I have been to quite some places, from roadside ones to five-star hotels, rarely have the service been so heart warmingly good. I hope he goes onto much much greater things in life, because he is absolutely brilliant at his work.\"), ('Rated 4.0', 'RATED\\n  Ambiance - 4/5\\nService - 4/5\\nFood - 4/5\\n\\nGreat pizza, served hot and made to order. They take note of what crusts you want for your pizza and I had the thin crust, so I could eat more, and the crust was made amazing also so was the pizza.\\nThe service is really good and the place is clean also. All in all wonderful place and another great restaurant part of the franchise.'), ('Rated 4.0', 'RATED\\n  Loved the foodie experience here!!!!!! Came here for the name of the week offer and trust me I was disappointed. This whole place has such a good ambience that u l love it instantly.\\nCrazy Bangalore rain and Fresh piping hot pizza and the night is sorted!\\nUnlimited pizzas, a mocktail and did i just hear unlimited desserts?!\\nGoodbye midweek blues!!!?\\n\\nI would specially mention the staff here-Chaitanya,Arup and Binita serving us, they were all so friendly and courteous, never have i had such an experience.\\nWhat really makes your food enjoyable is just not the taste but how the person served you!\\n\\nTop notch guys!!\\nComing back for more-offer or no offer ! ?'), ('Rated 5.0', 'RATED\\n  This roof top outlet of OnestÃ\\x83Ã\\x83Ã\\x82Ã\\x83Ã\\x83Ã\\x82Ã\\x82Ã\\xa0 is one of the amazing places to have the best pizzas in and around Banashankari.\\n\\nNot only the ambience but also the cheerful yet humble service staff catalised my great experience there.\\n\\nMust try: chat pizza, herbed wedges\\n\\n#rajeshwrites'), ('Rated 4.0', 'RATED\\n  This is one of the best restaurants in banglore this is a roof top restaurant with a very good ambiance!\\nThis is a peaceful place where u can seat chat with your friends with very good starters , drinks , and off course pizzas .\\nThey serve these tiny little desserts which look good . Personal favourite was cheese balls and fish fingers .\\nI love the service here itÃ\\x83Ã\\x83Ã\\x82Ã\\x82Ã\\x83Ã\\x82Ã\\x82Ã\\x92s quick even during the offers their service is pretty fast.'), ('Rated 5.0', \"RATED\\n  Food : 4/5\\nService: 10/5\\nSo let's get over the food and the ambience first. Restaurant is big, with high roof, give a sense of space, well lit. Food is great, not mind blowing. We took the unlimited menu, and loved the bacon pizza most. Rest of the pizza was good enough. Among the deserts, the walnut tart was superb, but i didn't like the peanut-butter mousse at all.\\n\\nBut, in spite of all that, the reason for the 5-star rating is the service we got. We were served by Mr.Nanda, who made us feel absolutely special. He didn't have to. We were a small party of just two people, we weren't ordering off the main menu, and the restaurant discourages tips. In spite of all that, he was extremely attentive (without being intrusive), engaging and helpful. I have been to quite some places, from roadside ones to five-star hotels, rarely have the service been so heart warmingly good. I hope he goes onto much much greater things in life, because he is absolutely brilliant at his work.\"), ('Rated 4.0', 'RATED\\n  Ambiance - 4/5\\nService - 4/5\\nFood - 4/5\\n\\nGreat pizza, served hot and made to order. They take note of what crusts you want for your pizza and I had the thin crust, so I could eat more, and the crust was made amazing also so was the pizza.\\nThe service is really good and the place is clean also. All in all wonderful place and another great restaurant part of the franchise.'), ('Rated 4.0', 'RATED\\n  Loved the foodie experience here!!!!!! Came here for the name of the week offer and trust me I was disappointed. This whole place has such a good ambience that u l love it instantly.\\nCrazy Bangalore rain and Fresh piping hot pizza and the night is sorted!\\nUnlimited pizzas, a mocktail and did i just hear unlimited desserts?!\\nGoodbye midweek blues!!!?\\n\\nI would specially mention the staff here-Chaitanya,Arup and Binita serving us, they were all so friendly and courteous, never have i had such an experience.\\nWhat really makes your food enjoyable is just not the taste but how the person served you!\\n\\nTop notch guys!!\\nComing back for more-offer or no offer ! ?'), ('Rated 5.0', 'RATED\\n  The best buffet with unbelievably awesome service, a great ambience and the best food.\\nThe desserts and drinks are up to the mark too and its reasonably priced too.'), ('Rated 4.0', 'RATED\\n  Food quality 4.5/5\\nHospitality 4/5\\nManagement response 4.5/5\\nCleanliness 4.5/5\\n\\nOrdered\\n1) Assorted Bruschetta - It included Tomato Delight, Herbed Mushroom and Broccoli and cheese Bruschetta.\\n\\n2) Mexican Veg Delight pizza - It was topped with some Bell peppers, onion and some Cherry Tomato.\\n\\n3) Farmhouse Special- Topped with Baby corn, Bell pepper and mushroom\\n\\n4)Virgin Mojitos - Mint, Lime and sprit were main ingredients.\\n5) Kiwi & Basil Fizz - Kiwi syrup, Basil leaves and sprit.\\n\\n6)Caramel Walnut Tart\\n7) Chilli chocolate tart\\n8) Baked Cherry Cheesecake\\n9)Penne Al Pesto'), ('Rated 4.0', 'RATED\\n  Taste of the food is good and the ambience as well. They need to reduce the price or increase the quality and quantity. There need to be also more options or items of food. They have maintained a very hygiene food and kitchen which is very appreciative.'), ('Rated 5.0', 'RATED\\n  Visited last Saturday with my kids ,\\nIt was superb crowd .very good ser\\nvice and food ...kids loved the pasta ,pizzas and drinks ...\\nKeep it continue onesta team ...'), ('Rated 3.0', 'RATED\\n  I love onesta always and their unlimited offers. I had a really good experience in JP nagar but this outlet slightly disappointed me. You guys took a lot of time for our orders and food was okayish too. Hope you guys work on that.'), ('Rated 3.0', \"RATED\\n  This outlet of onesta is on the rooftop. It's has a nice chill ambience. Though the size of the pizzas are kinda small the ones with cream taste good. They ran out of desserts by 9pm which was pretty disappointing. The service was okay but can be improved.\")]",
         "[]",
         "Cafes",
         "Banashankari"
        ],
        [
         "8",
         "https://www.zomato.com/bangalore/penthouse-cafe-banashankari?context=eyJzZSI6eyJlIjpbIjE4NTY1Njc5IiwxODU5MzA0NCwiMTgxNDg5NDEiLCIxODQ3MDc3MSIsIjE4NzE2MDYxIiwiMTg2MzI5NzciLCIxODIwMjk5NyIsIjU5MDkwIiwiMTg1NTkyMTEiLCIxODMyMzYzOSIsIjE4NTc0Mjc3IiwiMTg3MjM0OTQiXSwidCI6IkNhZlx1MDBlOXMgYW5kIERlbGlzIGluIEJhbmFzaGFua2FyaSJ9fQ==",
         "1, 30th Main Road, 3rd Stage, Banashankari, Bangalore",
         "Penthouse Cafe",
         "Yes",
         "No",
         "4.0/5",
         "324",
         "+91 8884135549\r\n+91 9449449316",
         "Banashankari",
         "Cafe",
         "Pizza, Mocktails, Coffee, Nachos, Salad, Pasta, Sandwiches",
         "Cafe, Italian, Continental",
         "700",
         "[('Rated 3.0', \"RATED\\n  I had been to this place with one of my friends, it's a very small place but decent. And nice place to hangout.\\nFood-3.5/5\\nAmbience-4/5\\nValue for money 3.5/5\"), ('Rated 4.0', \"RATED\\n  Small, cosy, covered rooftop place provides just the right menu for quick bites as well as main course.\\n\\nThe view is pretty in the evenings due to glass walls. The ambience is good for a small gathering and hang out. Not exactly the kind of place for fine dining.\\n\\nIt doesn't seem to be like a popular hang out. It is hard to even know if a cafe is existing there.\\n\\nHaving Zomato gold membership works out well. It was due to that we identified the place and went till there to utilise the benefit. Thank you Zomato for the Gold :-) !!\\n\\nWe tried Veg Steak, pasta, pizza and sizzler.\\nThey provide thin crust pizza. All the dishes were good and we enjoyed the food.\\n\\nGiving 4 because the service was slower than expected. It could improve.\\n\\nAll in all its a quiet place and food price is slightly on the higher side considering the ambience and quantity but it's worth it since it tastes good. One could give it a try.\"), ('Rated 4.0', \"RATED\\n  Small cozy rooftop cafe with a wide spread menu. Not the place for a huge gang. Service is as expected. Dishes to try are the range of pizza's. Go to items like burgers and mocktails are also well prepared. For a small place it has more than the required items on the menu. So overall a pleasant experience.\"), ('Rated 4.0', 'RATED\\n  Went out to try their burgers and they were pretty good. The ambience was that of a rustic pub and the people are nice. The service is pretty slow.\\nFood - 3.5/5\\nAmbience - 4/5\\nService - 3.5/5'), ('Rated 3.0', 'RATED\\n  A small roof top cafe on the main road.\\nWent around 1pm and we were the only people but later came some 7 to 8 people in another 30 minutes.\\nOrdered 2 chicken burgers,which was really good.\\nService is great.\\nAmbience is cool and fruit beer is alos available here.'), ('Rated 2.0', \"RATED\\n  Penthouse Cafe is located in Banashankari. It's on the 4th floor and is right opposite to Cafe Coffee Day on the main road. First, the place seems really shady. The entrance is weird and you feel better only after ending up on the 4th floor.\\nThe place is really tiny and seems good. Only thing that seemed nice about the place. We had the Nachos, cheese and salsa. The mayo along with this was so runny and milky. The cheese was only on the top layer and the below ones didn't have any. Next up, my friend and I tried the pink sauce pasta. The pasta was overcooked. The sauce wasn't creamy at all. It lacked in taste. It had garlic bread along with it and it tasted decently. But highly disappointed with this place. I took my friend to this place, with a lot of expectations and we were disappointed!\"), ('Rated 4.0', \"RATED\\n  Situated in upper floor this cafe wasn't much known to me if I wouldn't find it in zomato. It was bit early when we entered hence there were hardly 2-4 ppl in the cafe. A small call place it was with light music. We had ordered veg pasta, BBQ chicken wings, Peri Peri pizza. All tasted good. Pasta could be better. Service was good.\"), ('Rated 5.0', 'RATED\\n  Best place to have food and a very friendly staffed cafe... Price is very reasonable and the drinks are really really amazing .... No comments of this cafe as everything was very good...they also have a smoking zone....'), ('Rated 1.0', 'RATED\\n  Disappointing! A friend of mine had told me its a below average cafe, but I did not believe it looking at the ratings. Visited myself today and he was right. Masala tea was not even brewed and was made out of tea bags which was priced at 120 Rs. Left it after two sips.\\n\\nPesto Garlic bread was average but was priced at 200 Rs! Virgin mojito tasted like it was just sweet sugar syrup with a hint of lime.\\n\\nOverall not worth the price being charged for the quality of food. Not sure about their other food items as i did not even wanted to venture further when the tea arrived.'), ('Rated 4.0', 'RATED\\n  3.5 would be the actual rating but would not like to discourage hence 4. There are much better options available surrounded. The place again a rooftop convert to a restaurant, small well done interiors for its type and nice lighting and good view from top during evening... Tried sizzler and rice both were average nothing much to say but okay as an alternative, price not match for what we get...'), ('Rated 4.0', \"RATED\\n  A casual and not very expensive dining place in Banashanki which is not very hard to locate.\\nIt is a rooftop cafe in the fourth floor giving it a amazing view.\\n\\nWe ordered the Nachos Cheese Salsa, BBQ Chicken Grilled Burger and the 'must try' Jalapeno Cottage Cheese Burger.\\n\\nThe Nachos were good and I loved the sauce they gave it with.\\nThe burgers where really sloppy but super filling in which the BBQ Chicken Grilled Burger was good, quite similar to any other BBQ burgers.\\nBut the 'must try' Jalapeno Cottage Cheese Burger is something I wouldn't recommend.\\n\\nOverall they have a great ambiance and an okayish food.\\n\\nPeace.\"), ('Rated 4.0', \"RATED\\n  Easily located. The cafe is on the last floor of the building with cute ambience. Me and my friends went here for some evening coffee and chit chats. It's perfect for catching up friends over a coffee.\\n\\nWe ordered Hot chocolate and Mocha Latte. Mocha Latte was good, had a perfect blend of chocolate and coffee. Hot chocolate on the other than was decent nothing extraordinary.\\n\\nStaff was friendly and courteous.\\n\\nWould visit to try more.\"), ('Rated 1.0', 'RATED\\n  If possible I would give even less. The pizza is horrible as they serve it on pre-cooked pizza bread. Makes the pizza super chewy. The worst of all was the main that we ordered. They gave us raw chicken and when complied about it they just cooked the same chicken again making it over cooked and super chewy. Would not recommend it to anyone.'), ('Rated 4.0', 'RATED\\n  3.5 would be the actual rating but would not like to discourage hence 4. There are much better options available surrounded. The place again a rooftop convert to a restaurant, small well done interiors for its type and nice lighting and good view from top during evening... Tried sizzler and rice both were average nothing much to say but okay as an alternative, price not match for what we get...'), ('Rated 4.0', \"RATED\\n  A casual and not very expensive dining place in Banashanki which is not very hard to locate.\\nIt is a rooftop cafe in the fourth floor giving it a amazing view.\\n\\nWe ordered the Nachos Cheese Salsa, BBQ Chicken Grilled Burger and the 'must try' Jalapeno Cottage Cheese Burger.\\n\\nThe Nachos were good and I loved the sauce they gave it with.\\nThe burgers where really sloppy but super filling in which the BBQ Chicken Grilled Burger was good, quite similar to any other BBQ burgers.\\nBut the 'must try' Jalapeno Cottage Cheese Burger is something I wouldn't recommend.\\n\\nOverall they have a great ambiance and an okayish food.\\n\\nPeace.\"), ('Rated 4.0', \"RATED\\n  Easily located. The cafe is on the last floor of the building with cute ambience. Me and my friends went here for some evening coffee and chit chats. It's perfect for catching up friends over a coffee.\\n\\nWe ordered Hot chocolate and Mocha Latte. Mocha Latte was good, had a perfect blend of chocolate and coffee. Hot chocolate on the other than was decent nothing extraordinary.\\n\\nStaff was friendly and courteous.\\n\\nWould visit to try more.\"), ('Rated 1.0', 'RATED\\n  If possible I would give even less. The pizza is horrible as they serve it on pre-cooked pizza bread. Makes the pizza super chewy. The worst of all was the main that we ordered. They gave us raw chicken and when complied about it they just cooked the same chicken again making it over cooked and super chewy. Would not recommend it to anyone.'), ('Rated 4.0', 'RATED\\n  3.5 would be the actual rating but would not like to discourage hence 4. There are much better options available surrounded. The place again a rooftop convert to a restaurant, small well done interiors for its type and nice lighting and good view from top during evening... Tried sizzler and rice both were average nothing much to say but okay as an alternative, price not match for what we get...'), ('Rated 4.0', \"RATED\\n  A casual and not very expensive dining place in Banashanki which is not very hard to locate.\\nIt is a rooftop cafe in the fourth floor giving it a amazing view.\\n\\nWe ordered the Nachos Cheese Salsa, BBQ Chicken Grilled Burger and the 'must try' Jalapeno Cottage Cheese Burger.\\n\\nThe Nachos were good and I loved the sauce they gave it with.\\nThe burgers where really sloppy but super filling in which the BBQ Chicken Grilled Burger was good, quite similar to any other BBQ burgers.\\nBut the 'must try' Jalapeno Cottage Cheese Burger is something I wouldn't recommend.\\n\\nOverall they have a great ambiance and an okayish food.\\n\\nPeace.\"), ('Rated 4.0', \"RATED\\n  Easily located. The cafe is on the last floor of the building with cute ambience. Me and my friends went here for some evening coffee and chit chats. It's perfect for catching up friends over a coffee.\\n\\nWe ordered Hot chocolate and Mocha Latte. Mocha Latte was good, had a perfect blend of chocolate and coffee. Hot chocolate on the other than was decent nothing extraordinary.\\n\\nStaff was friendly and courteous.\\n\\nWould visit to try more.\"), ('Rated 1.0', 'RATED\\n  If possible I would give even less. The pizza is horrible as they serve it on pre-cooked pizza bread. Makes the pizza super chewy. The worst of all was the main that we ordered. They gave us raw chicken and when complied about it they just cooked the same chicken again making it over cooked and super chewy. Would not recommend it to anyone.'), ('Rated 4.0', 'RATED\\n  3.5 would be the actual rating but would not like to discourage hence 4. There are much better options available surrounded. The place again a rooftop convert to a restaurant, small well done interiors for its type and nice lighting and good view from top during evening... Tried sizzler and rice both were average nothing much to say but okay as an alternative, price not match for what we get...'), ('Rated 4.0', \"RATED\\n  A casual and not very expensive dining place in Banashanki which is not very hard to locate.\\nIt is a rooftop cafe in the fourth floor giving it a amazing view.\\n\\nWe ordered the Nachos Cheese Salsa, BBQ Chicken Grilled Burger and the 'must try' Jalapeno Cottage Cheese Burger.\\n\\nThe Nachos were good and I loved the sauce they gave it with.\\nThe burgers where really sloppy but super filling in which the BBQ Chicken Grilled Burger was good, quite similar to any other BBQ burgers.\\nBut the 'must try' Jalapeno Cottage Cheese Burger is something I wouldn't recommend.\\n\\nOverall they have a great ambiance and an okayish food.\\n\\nPeace.\"), ('Rated 4.0', \"RATED\\n  Easily located. The cafe is on the last floor of the building with cute ambience. Me and my friends went here for some evening coffee and chit chats. It's perfect for catching up friends over a coffee.\\n\\nWe ordered Hot chocolate and Mocha Latte. Mocha Latte was good, had a perfect blend of chocolate and coffee. Hot chocolate on the other than was decent nothing extraordinary.\\n\\nStaff was friendly and courteous.\\n\\nWould visit to try more.\"), ('Rated 1.0', 'RATED\\n  If possible I would give even less. The pizza is horrible as they serve it on pre-cooked pizza bread. Makes the pizza super chewy. The worst of all was the main that we ordered. They gave us raw chicken and when complied about it they just cooked the same chicken again making it over cooked and super chewy. Would not recommend it to anyone.'), ('Rated 4.0', 'RATED\\n  3.5 would be the actual rating but would not like to discourage hence 4. There are much better options available surrounded. The place again a rooftop convert to a restaurant, small well done interiors for its type and nice lighting and good view from top during evening... Tried sizzler and rice both were average nothing much to say but okay as an alternative, price not match for what we get...'), ('Rated 4.0', \"RATED\\n  A casual and not very expensive dining place in Banashanki which is not very hard to locate.\\nIt is a rooftop cafe in the fourth floor giving it a amazing view.\\n\\nWe ordered the Nachos Cheese Salsa, BBQ Chicken Grilled Burger and the 'must try' Jalapeno Cottage Cheese Burger.\\n\\nThe Nachos were good and I loved the sauce they gave it with.\\nThe burgers where really sloppy but super filling in which the BBQ Chicken Grilled Burger was good, quite similar to any other BBQ burgers.\\nBut the 'must try' Jalapeno Cottage Cheese Burger is something I wouldn't recommend.\\n\\nOverall they have a great ambiance and an okayish food.\\n\\nPeace.\"), ('Rated 4.0', \"RATED\\n  Easily located. The cafe is on the last floor of the building with cute ambience. Me and my friends went here for some evening coffee and chit chats. It's perfect for catching up friends over a coffee.\\n\\nWe ordered Hot chocolate and Mocha Latte. Mocha Latte was good, had a perfect blend of chocolate and coffee. Hot chocolate on the other than was decent nothing extraordinary.\\n\\nStaff was friendly and courteous.\\n\\nWould visit to try more.\"), ('Rated 1.0', 'RATED\\n  If possible I would give even less. The pizza is horrible as they serve it on pre-cooked pizza bread. Makes the pizza super chewy. The worst of all was the main that we ordered. They gave us raw chicken and when complied about it they just cooked the same chicken again making it over cooked and super chewy. Would not recommend it to anyone.'), ('Rated 4.0', 'RATED\\n  3.5 would be the actual rating but would not like to discourage hence 4. There are much better options available surrounded. The place again a rooftop convert to a restaurant, small well done interiors for its type and nice lighting and good view from top during evening... Tried sizzler and rice both were average nothing much to say but okay as an alternative, price not match for what we get...'), ('Rated 4.0', \"RATED\\n  A casual and not very expensive dining place in Banashanki which is not very hard to locate.\\nIt is a rooftop cafe in the fourth floor giving it a amazing view.\\n\\nWe ordered the Nachos Cheese Salsa, BBQ Chicken Grilled Burger and the 'must try' Jalapeno Cottage Cheese Burger.\\n\\nThe Nachos were good and I loved the sauce they gave it with.\\nThe burgers where really sloppy but super filling in which the BBQ Chicken Grilled Burger was good, quite similar to any other BBQ burgers.\\nBut the 'must try' Jalapeno Cottage Cheese Burger is something I wouldn't recommend.\\n\\nOverall they have a great ambiance and an okayish food.\\n\\nPeace.\"), ('Rated 4.0', \"RATED\\n  Easily located. The cafe is on the last floor of the building with cute ambience. Me and my friends went here for some evening coffee and chit chats. It's perfect for catching up friends over a coffee.\\n\\nWe ordered Hot chocolate and Mocha Latte. Mocha Latte was good, had a perfect blend of chocolate and coffee. Hot chocolate on the other than was decent nothing extraordinary.\\n\\nStaff was friendly and courteous.\\n\\nWould visit to try more.\"), ('Rated 1.0', 'RATED\\n  If possible I would give even less. The pizza is horrible as they serve it on pre-cooked pizza bread. Makes the pizza super chewy. The worst of all was the main that we ordered. They gave us raw chicken and when complied about it they just cooked the same chicken again making it over cooked and super chewy. Would not recommend it to anyone.'), ('Rated 4.0', 'RATED\\n  A nice, tiny and cozy place. Amazing food, especially the thin crust pizza, affordable menu and good staff makes the overall experience memorable. A good place for occasional chit chats.'), ('Rated 4.0', \"RATED\\n  One of the best cafe to try pizza in!\\nThough ambience isn't really that great...food compensates for it!\\nService is 1/5 ....they take minimum of 20 mins to serve a dish.\\nPocket friendly menu.\"), ('Rated 4.0', \"RATED\\n  This is a rooftop cafe with a great view and ambience. I loved the pizzas here. You must absolutely try their Nutella shake I loved it. Their hot chocolate wasn't strong enough.\\nI ordered a That paneer lover pizza. It was amazing. It had a thin crust and all flavors were well balanced. I also ordered a Chicago lover pizza. This pizza too was simply amazing. I think pizzas are safe but at this place. Also their vegetable sizzler is brilliant!!! The pesto pizza is average. They also serve brilliant chovolate shake!\"), ('Rated 4.0', 'RATED\\n  Good ambience. Good food. Good music but repetative. Great service. Amazing staff. This place is worth a second visit. Sandwiches and pizzas are good.'), ('Rated 4.0', 'RATED\\n  A nice, tiny and cozy place. Amazing food, especially the thin crust pizza, affordable menu and good staff makes the overall experience memorable. A good place for occasional chit chats.'), ('Rated 4.0', \"RATED\\n  One of the best cafe to try pizza in!\\nThough ambience isn't really that great...food compensates for it!\\nService is 1/5 ....they take minimum of 20 mins to serve a dish.\\nPocket friendly menu.\"), ('Rated 4.0', \"RATED\\n  This is a rooftop cafe with a great view and ambience. I loved the pizzas here. You must absolutely try their Nutella shake I loved it. Their hot chocolate wasn't strong enough.\\nI ordered a That paneer lover pizza. It was amazing. It had a thin crust and all flavors were well balanced. I also ordered a Chicago lover pizza. This pizza too was simply amazing. I think pizzas are safe but at this place. Also their vegetable sizzler is brilliant!!! The pesto pizza is average. They also serve brilliant chovolate shake!\"), ('Rated 4.0', 'RATED\\n  Good ambience. Good food. Good music but repetative. Great service. Amazing staff. This place is worth a second visit. Sandwiches and pizzas are good.'), ('Rated 4.0', 'RATED\\n  A nice, tiny and cozy place. Amazing food, especially the thin crust pizza, affordable menu and good staff makes the overall experience memorable. A good place for occasional chit chats.'), ('Rated 4.0', \"RATED\\n  One of the best cafe to try pizza in!\\nThough ambience isn't really that great...food compensates for it!\\nService is 1/5 ....they take minimum of 20 mins to serve a dish.\\nPocket friendly menu.\"), ('Rated 4.0', \"RATED\\n  This is a rooftop cafe with a great view and ambience. I loved the pizzas here. You must absolutely try their Nutella shake I loved it. Their hot chocolate wasn't strong enough.\\nI ordered a That paneer lover pizza. It was amazing. It had a thin crust and all flavors were well balanced. I also ordered a Chicago lover pizza. This pizza too was simply amazing. I think pizzas are safe but at this place. Also their vegetable sizzler is brilliant!!! The pesto pizza is average. They also serve brilliant chovolate shake!\"), ('Rated 4.0', 'RATED\\n  Good ambience. Good food. Good music but repetative. Great service. Amazing staff. This place is worth a second visit. Sandwiches and pizzas are good.'), ('Rated 4.0', 'RATED\\n  A nice, tiny and cozy place. Amazing food, especially the thin crust pizza, affordable menu and good staff makes the overall experience memorable. A good place for occasional chit chats.'), ('Rated 4.0', \"RATED\\n  One of the best cafe to try pizza in!\\nThough ambience isn't really that great...food compensates for it!\\nService is 1/5 ....they take minimum of 20 mins to serve a dish.\\nPocket friendly menu.\"), ('Rated 4.0', \"RATED\\n  This is a rooftop cafe with a great view and ambience. I loved the pizzas here. You must absolutely try their Nutella shake I loved it. Their hot chocolate wasn't strong enough.\\nI ordered a That paneer lover pizza. It was amazing. It had a thin crust and all flavors were well balanced. I also ordered a Chicago lover pizza. This pizza too was simply amazing. I think pizzas are safe but at this place. Also their vegetable sizzler is brilliant!!! The pesto pizza is average. They also serve brilliant chovolate shake!\"), ('Rated 4.0', 'RATED\\n  Good ambience. Good food. Good music but repetative. Great service. Amazing staff. This place is worth a second visit. Sandwiches and pizzas are good.'), ('Rated 4.0', 'RATED\\n  A nice, tiny and cozy place. Amazing food, especially the thin crust pizza, affordable menu and good staff makes the overall experience memorable. A good place for occasional chit chats.'), ('Rated 4.0', \"RATED\\n  One of the best cafe to try pizza in!\\nThough ambience isn't really that great...food compensates for it!\\nService is 1/5 ....they take minimum of 20 mins to serve a dish.\\nPocket friendly menu.\"), ('Rated 4.0', \"RATED\\n  This is a rooftop cafe with a great view and ambience. I loved the pizzas here. You must absolutely try their Nutella shake I loved it. Their hot chocolate wasn't strong enough.\\nI ordered a That paneer lover pizza. It was amazing. It had a thin crust and all flavors were well balanced. I also ordered a Chicago lover pizza. This pizza too was simply amazing. I think pizzas are safe but at this place. Also their vegetable sizzler is brilliant!!! The pesto pizza is average. They also serve brilliant chovolate shake!\"), ('Rated 4.0', 'RATED\\n  Good ambience. Good food. Good music but repetative. Great service. Amazing staff. This place is worth a second visit. Sandwiches and pizzas are good.'), ('Rated 3.0', 'RATED\\n  Visited this place, as we were really hungry... We ordered a pasta and a pizza...both were quite average I dint like it that much, they need a little bit of improvement... Service was pretty okay it is rooftop cafe , a small place with a average decor!!\\nService - 3.5/5\\nFood - 3/5\\nAmbience - 3/5\\nWould I visit this place again - No'), ('Rated 3.0', \"RATED\\n  Amazing view, simple and nice arrangement and a good quality of food is all that I want to say.Visited here on a Sunday evening and found place to be silent and nice, I do not see much a crew then the order placement and the service was slow. Ordered for a veg nacho's and devil's eye (egg), they almost took 30 more mins to serve these two. they have no beverages on that particular day to serve.Nacho's was tasty enough to visit again nd devils eye wasn't bad either.Tips: Service should be quick\"), ('Rated 3.0', 'RATED\\n  Very good chocolate flavored ice cream sizzler! Nacho pizza was good.\\nThings here are a bit pricey. They can improve on their Ambience as the place looks a bit claustrophobic and it requires a good amount of ventilation inside, things tend to get smokey due to the sizzlers. Salt to injuries, service was sluggish as they took too long to prepare the dishes though there only a few in the cafÃ\\x83Ã\\x83Ã\\x82Ã\\x83Ã\\x83Ã\\x82Ã\\x82ÃÂ©. I hope they get good experience out of this and improve in future.\\nTaste 3.5/5\\nHygiene 3.5/5\\nPrice 3/5\\nAmbience 2/5\\nServing size 3/5\\nService 3/5'), ('Rated 4.0', 'RATED\\n  Amazing cafe,\\nTop floor, no outdoor seating.\\nFood is delicious, though the quantity is okayish.\\nI ordered 6 dishes.\\nCheese balls are yum.\\nPink pasta is okay okay.\\nGarlic bread is delicious too.\\nFrench fries was bad.\\nNachos Pizza was okayish.\\nOverall, a nice place to give a try.'), ('Rated 1.0', 'RATED\\n  Located opposite to wildcraft store..this place is on the 4th floor.\\nThe ambience is not good..feels very congested.\\nWell for starters, we had nachos cheese salsa which was okay. We ordered some garlic bread with cheese. A complete disappointment as it just had some processed cheese and the bread was dipped in ghee.\\nWe ordered some chicken Alfredo hoping it would be better but to our disappointment, it turned out worse than the garlic bread. The Kentucky killing pizza was the worst dish ever made. Hot chocolate was quite good. Lychee punch was okay. Rest was horrible. This place does not even have a proper place for hand wash.\\nFood-1/5\\nService and staff-2/5\\nAmbience-1/5\\nHope they really improve.'), ('Rated 3.0', 'RATED\\n  Visited this place, as we were really hungry... We ordered a pasta and a pizza...both were quite average I dint like it that much, they need a little bit of improvement... Service was pretty okay it is rooftop cafe , a small place with a average decor!!\\nService - 3.5/5\\nFood - 3/5\\nAmbience - 3/5\\nWould I visit this place again - No'), ('Rated 3.0', \"RATED\\n  Amazing view, simple and nice arrangement and a good quality of food is all that I want to say.Visited here on a Sunday evening and found place to be silent and nice, I do not see much a crew then the order placement and the service was slow. Ordered for a veg nacho's and devil's eye (egg), they almost took 30 more mins to serve these two. they have no beverages on that particular day to serve.Nacho's was tasty enough to visit again nd devils eye wasn't bad either.Tips: Service should be quick\"), ('Rated 3.0', 'RATED\\n  Very good chocolate flavored ice cream sizzler! Nacho pizza was good.\\nThings here are a bit pricey. They can improve on their Ambience as the place looks a bit claustrophobic and it requires a good amount of ventilation inside, things tend to get smokey due to the sizzlers. Salt to injuries, service was sluggish as they took too long to prepare the dishes though there only a few in the cafÃ\\x83Ã\\x83Ã\\x82Ã\\x83Ã\\x83Ã\\x82Ã\\x82ÃÂ©. I hope they get good experience out of this and improve in future.\\nTaste 3.5/5\\nHygiene 3.5/5\\nPrice 3/5\\nAmbience 2/5\\nServing size 3/5\\nService 3/5'), ('Rated 4.0', 'RATED\\n  Amazing cafe,\\nTop floor, no outdoor seating.\\nFood is delicious, though the quantity is okayish.\\nI ordered 6 dishes.\\nCheese balls are yum.\\nPink pasta is okay okay.\\nGarlic bread is delicious too.\\nFrench fries was bad.\\nNachos Pizza was okayish.\\nOverall, a nice place to give a try.'), ('Rated 1.0', 'RATED\\n  Located opposite to wildcraft store..this place is on the 4th floor.\\nThe ambience is not good..feels very congested.\\nWell for starters, we had nachos cheese salsa which was okay. We ordered some garlic bread with cheese. A complete disappointment as it just had some processed cheese and the bread was dipped in ghee.\\nWe ordered some chicken Alfredo hoping it would be better but to our disappointment, it turned out worse than the garlic bread. The Kentucky killing pizza was the worst dish ever made. Hot chocolate was quite good. Lychee punch was okay. Rest was horrible. This place does not even have a proper place for hand wash.\\nFood-1/5\\nService and staff-2/5\\nAmbience-1/5\\nHope they really improve.'), ('Rated 3.0', 'RATED\\n  Visited this place, as we were really hungry... We ordered a pasta and a pizza...both were quite average I dint like it that much, they need a little bit of improvement... Service was pretty okay it is rooftop cafe , a small place with a average decor!!\\nService - 3.5/5\\nFood - 3/5\\nAmbience - 3/5\\nWould I visit this place again - No'), ('Rated 3.0', \"RATED\\n  Amazing view, simple and nice arrangement and a good quality of food is all that I want to say.Visited here on a Sunday evening and found place to be silent and nice, I do not see much a crew then the order placement and the service was slow. Ordered for a veg nacho's and devil's eye (egg), they almost took 30 more mins to serve these two. they have no beverages on that particular day to serve.Nacho's was tasty enough to visit again nd devils eye wasn't bad either.Tips: Service should be quick\"), ('Rated 3.0', 'RATED\\n  Very good chocolate flavored ice cream sizzler! Nacho pizza was good.\\nThings here are a bit pricey. They can improve on their Ambience as the place looks a bit claustrophobic and it requires a good amount of ventilation inside, things tend to get smokey due to the sizzlers. Salt to injuries, service was sluggish as they took too long to prepare the dishes though there only a few in the cafÃ\\x83Ã\\x83Ã\\x82Ã\\x83Ã\\x83Ã\\x82Ã\\x82ÃÂ©. I hope they get good experience out of this and improve in future.\\nTaste 3.5/5\\nHygiene 3.5/5\\nPrice 3/5\\nAmbience 2/5\\nServing size 3/5\\nService 3/5'), ('Rated 4.0', 'RATED\\n  Amazing cafe,\\nTop floor, no outdoor seating.\\nFood is delicious, though the quantity is okayish.\\nI ordered 6 dishes.\\nCheese balls are yum.\\nPink pasta is okay okay.\\nGarlic bread is delicious too.\\nFrench fries was bad.\\nNachos Pizza was okayish.\\nOverall, a nice place to give a try.'), ('Rated 1.0', 'RATED\\n  Located opposite to wildcraft store..this place is on the 4th floor.\\nThe ambience is not good..feels very congested.\\nWell for starters, we had nachos cheese salsa which was okay. We ordered some garlic bread with cheese. A complete disappointment as it just had some processed cheese and the bread was dipped in ghee.\\nWe ordered some chicken Alfredo hoping it would be better but to our disappointment, it turned out worse than the garlic bread. The Kentucky killing pizza was the worst dish ever made. Hot chocolate was quite good. Lychee punch was okay. Rest was horrible. This place does not even have a proper place for hand wash.\\nFood-1/5\\nService and staff-2/5\\nAmbience-1/5\\nHope they really improve.'), ('Rated 3.0', 'RATED\\n  Visited this place, as we were really hungry... We ordered a pasta and a pizza...both were quite average I dint like it that much, they need a little bit of improvement... Service was pretty okay it is rooftop cafe , a small place with a average decor!!\\nService - 3.5/5\\nFood - 3/5\\nAmbience - 3/5\\nWould I visit this place again - No'), ('Rated 3.0', \"RATED\\n  Amazing view, simple and nice arrangement and a good quality of food is all that I want to say.Visited here on a Sunday evening and found place to be silent and nice, I do not see much a crew then the order placement and the service was slow. Ordered for a veg nacho's and devil's eye (egg), they almost took 30 more mins to serve these two. they have no beverages on that particular day to serve.Nacho's was tasty enough to visit again nd devils eye wasn't bad either.Tips: Service should be quick\"), ('Rated 3.0', 'RATED\\n  Very good chocolate flavored ice cream sizzler! Nacho pizza was good.\\nThings here are a bit pricey. They can improve on their Ambience as the place looks a bit claustrophobic and it requires a good amount of ventilation inside, things tend to get smokey due to the sizzlers. Salt to injuries, service was sluggish as they took too long to prepare the dishes though there only a few in the cafÃ\\x83Ã\\x83Ã\\x82Ã\\x83Ã\\x83Ã\\x82Ã\\x82ÃÂ©. I hope they get good experience out of this and improve in future.\\nTaste 3.5/5\\nHygiene 3.5/5\\nPrice 3/5\\nAmbience 2/5\\nServing size 3/5\\nService 3/5'), ('Rated 4.0', 'RATED\\n  Amazing cafe,\\nTop floor, no outdoor seating.\\nFood is delicious, though the quantity is okayish.\\nI ordered 6 dishes.\\nCheese balls are yum.\\nPink pasta is okay okay.\\nGarlic bread is delicious too.\\nFrench fries was bad.\\nNachos Pizza was okayish.\\nOverall, a nice place to give a try.'), ('Rated 1.0', 'RATED\\n  Located opposite to wildcraft store..this place is on the 4th floor.\\nThe ambience is not good..feels very congested.\\nWell for starters, we had nachos cheese salsa which was okay. We ordered some garlic bread with cheese. A complete disappointment as it just had some processed cheese and the bread was dipped in ghee.\\nWe ordered some chicken Alfredo hoping it would be better but to our disappointment, it turned out worse than the garlic bread. The Kentucky killing pizza was the worst dish ever made. Hot chocolate was quite good. Lychee punch was okay. Rest was horrible. This place does not even have a proper place for hand wash.\\nFood-1/5\\nService and staff-2/5\\nAmbience-1/5\\nHope they really improve.'), ('Rated 3.0', 'RATED\\n  Visited this place, as we were really hungry... We ordered a pasta and a pizza...both were quite average I dint like it that much, they need a little bit of improvement... Service was pretty okay it is rooftop cafe , a small place with a average decor!!\\nService - 3.5/5\\nFood - 3/5\\nAmbience - 3/5\\nWould I visit this place again - No'), ('Rated 3.0', \"RATED\\n  Amazing view, simple and nice arrangement and a good quality of food is all that I want to say.Visited here on a Sunday evening and found place to be silent and nice, I do not see much a crew then the order placement and the service was slow. Ordered for a veg nacho's and devil's eye (egg), they almost took 30 more mins to serve these two. they have no beverages on that particular day to serve.Nacho's was tasty enough to visit again nd devils eye wasn't bad either.Tips: Service should be quick\"), ('Rated 3.0', 'RATED\\n  Very good chocolate flavored ice cream sizzler! Nacho pizza was good.\\nThings here are a bit pricey. They can improve on their Ambience as the place looks a bit claustrophobic and it requires a good amount of ventilation inside, things tend to get smokey due to the sizzlers. Salt to injuries, service was sluggish as they took too long to prepare the dishes though there only a few in the cafÃ\\x83Ã\\x83Ã\\x82Ã\\x83Ã\\x83Ã\\x82Ã\\x82ÃÂ©. I hope they get good experience out of this and improve in future.\\nTaste 3.5/5\\nHygiene 3.5/5\\nPrice 3/5\\nAmbience 2/5\\nServing size 3/5\\nService 3/5'), ('Rated 4.0', 'RATED\\n  Amazing cafe,\\nTop floor, no outdoor seating.\\nFood is delicious, though the quantity is okayish.\\nI ordered 6 dishes.\\nCheese balls are yum.\\nPink pasta is okay okay.\\nGarlic bread is delicious too.\\nFrench fries was bad.\\nNachos Pizza was okayish.\\nOverall, a nice place to give a try.'), ('Rated 1.0', 'RATED\\n  Located opposite to wildcraft store..this place is on the 4th floor.\\nThe ambience is not good..feels very congested.\\nWell for starters, we had nachos cheese salsa which was okay. We ordered some garlic bread with cheese. A complete disappointment as it just had some processed cheese and the bread was dipped in ghee.\\nWe ordered some chicken Alfredo hoping it would be better but to our disappointment, it turned out worse than the garlic bread. The Kentucky killing pizza was the worst dish ever made. Hot chocolate was quite good. Lychee punch was okay. Rest was horrible. This place does not even have a proper place for hand wash.\\nFood-1/5\\nService and staff-2/5\\nAmbience-1/5\\nHope they really improve.'), ('Rated 3.0', \"RATED\\n  Service is little slow and food is fine. You won't be disappointed much , parking facility I could not locate. Staff can be little more local speaking , it was little difficult to converse. Overall not a bad experience.\")]",
         "[]",
         "Cafes",
         "Banashankari"
        ],
        [
         "9",
         "https://www.zomato.com/bangalore/smacznego-banashankari?context=eyJzZSI6eyJlIjpbIjE4NTY1Njc5IiwiMTg1OTMwNDQiLDE4MTQ4OTQxLCIxODQ3MDc3MSIsIjE4NzE2MDYxIiwiMTg2MzI5NzciLCIxODIwMjk5NyIsIjU5MDkwIiwiMTg1NTkyMTEiLCIxODMyMzYzOSIsIjE4NTc0Mjc3IiwiMTg3MjM0OTQiLCIxODg2NzEyMiJdLCJ0IjoiQ2FmXHUwMGU5cyBhbmQgRGVsaXMgaW4gQmFuYXNoYW5rYXJpIn19",
         "2470, 21 Main Road, 25th Cross, Banashankari, Bangalore",
         "Smacznego",
         "Yes",
         "No",
         "4.2/5",
         "504",
         "+91 9945230807\r\n+91 9743804471",
         "Banashankari",
         "Cafe",
         "Waffles, Pasta, Coleslaw Sandwich, Choco Waffle, Tacos, Momos, Cheese Nachos",
         "Cafe, Mexican, Italian, Momos, Beverages",
         "550",
         "[('Rated 4.0', \"RATED\\n  Easy to locate\\nVFM 3.5/5\\nTaste 5/5\\nYummy cheesyyy fries ?\\nDelicious pasta\\nThey're a must try ??\\nLoaded nachos and green fries are average!!\"), ('Rated 4.0', 'RATED\\n  A tuck shop in Banashankari, slightly off the crowded Banashankari bda complex. The menu is interesting....and I had no complaints on the food as well. While there is no wow factor in the dishes or the ingredients.... for sure no disappointment when tasted too. Since it is in the concept of fast food, they served in foil box.... unfortunately along with plastic spoon. May be they need to immediately change to a wooden spoon. We tried loaded fries and white sauce pasta...both were good. Will be a good adda for college kids.'), ('Rated 5.0', 'RATED\\n  Been here multiple times. First visited a year back. Their cheesy loaded nachos were really good. Their waffles, although takes a lot of time to make, do taste quite yummy. Even their white sauce pasta is nice. And the prices are definitely worth the taste. Service is pretty good too. Love visiting this place!'), ('Rated 5.0', 'RATED\\n  Being in banashankari, this has to be one of your must visit joints.\\n\\nRemember being in college and having all my gossip sessions here.\\n\\nResonably priced, friendly on the pocket this is the local hangout spot.\\n\\nComing to the food they have amazing varieties of fries, nachos and pasta.\\n\\nThe owner and the staff is really sweet too and ice creams are amazing?\\n\\nMust try their bubble tea!'), ('Rated 4.0', 'RATED\\n  Our always go to place when in and around Banashankari. I have been visiting this place since the past 2.5 to 3 yrs. Over the period of time the quantity and quality has a slight dip. The management is as friendly as always but i suggest them to revisit on the quality of the food. Else it is a nice place to go to for a quick snack grab when hungry.'), ('Rated 4.0', 'RATED\\n  Yummy saucy fries!! Loved every bit of it , and worth the price , al the items on the menu were cheap and the quantity wasnÃ\\x83Ã\\x83Ã\\x82Ã\\x82Ã\\x83Ã\\x82Ã\\x82Ã\\x92t bad.. loved their mix of sauces ?\\n\\nAnd I also tried ordering from this shop online , and they reached on time and was packed very well, I ordered mixed cream pasta it was really good.'), ('Rated 4.0', 'RATED\\n  Value for money everything they offer is amazing. The fries are especially delicious and make for the perfect snack. Been here a lot and tried almost everything they have to offer definitely worth it.'), ('Rated 3.0', \"RATED\\n  It's a busy eatery in Banashankari, and draws the young in droves. I tried the green fries and the spicy fries and liked the quality & quantity.\")]",
         "[]",
         "Cafes",
         "Banashankari"
        ],
        [
         "10",
         "https://www.zomato.com/bangalore/caf%C3%A9-down-the-alley-banashankari?context=eyJzZSI6eyJlIjpbIjE4NTY1Njc5IiwiMTg1OTMwNDQiLCIxODE0ODk0MSIsMTg0NzA3NzEsIjE4NzE2MDYxIiwiMTg2MzI5NzciLCIxODIwMjk5NyIsIjU5MDkwIiwiMTg1NTkyMTEiLCIxODMyMzYzOSIsIjE4NTc0Mjc3IiwiMTg3MjM0OTQiLCIxODg2NzEyMiIsIjE4Njg4NDg5Il0sInQiOiJDYWZcdTAwZTlzIGFuZCBEZWxpcyBpbiBCYW5hc2hhbmthcmkifX0=",
         "12,29 Near PES University Back Gate, D'Souza Nagar, Hosakerehalli, 3rd Stage, Banashankari, Bangalore",
         "CafÃÂÃÂÃÂÃÂÃÂÃÂÃÂÃÂ© Down The Alley",
         "Yes",
         "No",
         "4.1/5",
         "402",
         "080 26724489\r\n+91 7406048982",
         "Banashankari",
         "Cafe",
         "Waffles, Pasta, Crispy Chicken, Honey Chilli Chicken, Sandwich, Coffee, Crepe",
         "Cafe",
         "500",
         "[('Rated 4.0', 'RATED\\n  We ended up here on a Saturday afternoon after an hectic day\\nThe food was too good\\nThe ambience is okay\\nBut usually itÃ\\x83Ã\\x83Ã\\x82Ã\\x82Ã\\x83Ã\\x82Ã\\x82Ã\\x92s crowded with the college students around\\nFood 4.5/5\\nAmbience 4/5'), ('Rated 4.0', 'RATED\\n  The food was amazing but they might need to work on the pizza and the crepes. The lighting is a little bit on the dimmer side, but the ambience is quite good because of the comic theme.'), ('Rated 5.0', 'RATED\\n  Best waffles?? I am coming here from past 1 year! Good place to chill with friends! Good ambience, good food,!! Must visit place if youÃ\\x83Ã\\x83Ã\\x82Ã\\x82Ã\\x83Ã\\x82Ã\\x82Ã\\x92re in and around Banashankari'), ('Rated 4.0', 'RATED\\n  Food 4/5\\nAmbience 3.5/5\\nStaffs and service 4/5\\nCost 4/5\\n\\nComic theme ambience with good food and service. Very calm and composed with lively environment ! Overall a very good place to hangout .... Loved it ?'), ('Rated 4.0', 'RATED\\n  CafÃ\\x83Ã\\x83Ã\\x82Ã\\x83Ã\\x83Ã\\x82Ã\\x82ÃÂ© which is very near to my home did outreach my expectations. I did like the ambience and service in this cafÃ\\x83Ã\\x83Ã\\x82Ã\\x83Ã\\x83Ã\\x82Ã\\x82ÃÂ©. Ordered Mango and Almond Smoothies with Potato Wedges, Pesto Veg Pasta. It was just lip smacking. Again, the next evening i took my wife to the same place and had Alfredo Veg Pasta, Chilly Baby Corn, French Fries, Black currant and Lychee Smoothees and turn out to be good. I recommend this place for my friends in my neighborhood!'), ('Rated 3.0', \"RATED\\n  This cute comic book themed cafe is one of the closest hangout places for college students. It is fun if you go with a group of friends. The food is kinda good but not that great. Pasta Alfredo has too much cheese which kinda starts making you sick of it. I don't know if that should be considered a good point or a bad one xD Also, I wish they gave garlic bread with pasta and not the regular one :( Pizza is okayish, pasta arrabiata is good. This place is famous for Chilli cheese Maggi and blue lagoon. They are super tasty but kinda overpriced. Sandwiches, waffles and nuggets are also pretty good.\\nThe place is really pretty, a good hangout place but nahhh, I wouldn't suggest you to go there if your sole purpose is to have good food.\"), ('Rated 3.0', 'RATED\\n  A good place to sit with a bunch of friends and hangout.. food tastes good and the service is also quick.\\nBut a boring place if u go with a just 1 or 2 people.\\nUsually not crowded, and this place can be easily located while passing by.')]",
         "[]",
         "Cafes",
         "Banashankari"
        ],
        [
         "11",
         "https://www.zomato.com/bangalore/cafe-shuffle-banashankari-bangalore?context=eyJzZSI6eyJlIjpbIjE4NTY1Njc5IiwiMTg1OTMwNDQiLCIxODE0ODk0MSIsIjE4NDcwNzcxIiwxODcxNjA2MSwiMTg2MzI5NzciLCIxODIwMjk5NyIsIjU5MDkwIiwiMTg1NTkyMTEiLCIxODMyMzYzOSIsIjE4NTc0Mjc3IiwiMTg3MjM0OTQiLCIxODg2NzEyMiIsIjE4Njg4NDg5IiwiMTg1MjkwOTAiXSwidCI6IkNhZlx1MDBlOXMgYW5kIERlbGlzIGluIEJhbmFzaGFua2FyaSJ9fQ==",
         "941, 3rd FLOOR, 21st Main, 22nd Cross, Banashankari 2nd stage, Opposite to BDA complex, Banashankari",
         "Cafe Shuffle",
         "Yes",
         "Yes",
         "4.2/5",
         "150",
         "+91 9742166777",
         "Banashankari",
         "Cafe",
         "Mocktails, Peri Fries, Lasagne, Pizza, Chicken Bbq Wings, Virgin Mojito, Nachos",
         "Cafe, Italian, Continental",
         "600",
         "[('Rated 1.0', \"RATED\\n \\n\\nHorrible. Not even kidding. We ordered BBQ chicken wings and chef's special pizza. They gave undercooked chicken wings and the sauce on it was not even BBQ sauce. It was some local sauce with little spices in it. Pizza hardly had toppings on it. Staffs were so irresponsible. We had to tell them to give us the plates and cups after waiting for so long time . Also food delivery is so late. You order it now, you get it literally half an hour late.\"), ('Rated 4.0', \"RATED\\n  While this place is more common for hookah, most of the food menu is good as well. We tried the JalapeÃ\\x83Ã\\x83Ã\\x82Ã\\x83Ã\\x83Ã\\x82Ã\\x82ÃÂ±o cheese balls, Veg Lasagne, chicken tikka pizza, fish fingers. The pizza and lasagne were good, other dishes were pretty average. It's a pocket friendly place with nice ambience and loud music. The service is good too. Overall, nice place for hanging out with friends.\"), ('Rated 4.0', \"RATED\\n  Ordered in from the cafe so can't say much about the ambience.. the food however was good. Loved the chicken lasagna which was spicy and flavourful. Had also ordered fish fingers but found those only okay. It lacked the fishy flavor and tasted like normal fried chicken fingers. Will probably visit here soon to be able to give a better detailed review. Would give it a 3.5 but the restaurant gets the benefit of a 4 because of the 5 point scale..\"), ('Rated 5.0', 'RATED\\n  This place is nice...i love the Ambience...the manager is a sweet person...he saw to it that we were well treated...we ordered hookah with ice base and the manager gave their special flavour which was good...we then ordered mushroom Manchurian which was amazing... ntg could match the taste of it...the crowd was also great... I would surely go to this place again..\\nAmbience-5/5\\nHookah-5/5\\nService-5/5\\nFood-5/5'), ('Rated 4.0', \"RATED\\n  It's a new place hence the interiors are not that interesting but still a good place to hangout !! The food is a lil costly but then tastes good..\"), ('Rated 4.0', 'RATED\\n  This place is located in the prime area of Banashankari just opp to BDA complex on the 3rd floor . The place is good and the ambiance looks very nice..place was started recently and the menu seems to be very defined and really good . I tried few starters in baby corn and my friends tried few in non vegetarian . What I liked the most is the milkshakes , which was really thick and snicker milkshake especially was really good . I loved it..one must try it here..the presentation was really good..the only thing is as they serve hookah , they do not open the ventilators and sometimes it will be suffocated . But other than that , food , beverages everything is really good . Must try..\\n\\nPlease do watch our videos on our YouTube channel Tummy On Fire , like , share and subscribe .\\nPlease do follow our page Tummy On Fire on Facebook , Instagram and Twitter .\\n\\nThank you'), ('Rated 5.0', 'RATED\\n  Visited this cafe with a bunch of friends on an evening.\\n\\nThe place is located next to the Banashankari BDA Complex and is easily locatable.\\nIt has an amazing ambiance and very well ventilated tables.\\nThe view opens up to the BDA complex with the trees allowing the cool breeze to flow into the cafe area. With some of the best tracks playing in the background.\\n\\nThe food was excellent being served at very reasonable prices. \\nThe place Also serves hookah, The hookahs are very nice with the staff being very courteous to the customers making sure they are comfortable. \\nOverall a great place to hang out with your buddies.'), ('Rated 4.0', \"RATED\\n  It's a new place hence the interiors are not that interesting but still a good place to hangout !! The food is a lil costly but then tastes good..\"), ('Rated 4.0', 'RATED\\n  This place is located in the prime area of Banashankari just opp to BDA complex on the 3rd floor . The place is good and the ambiance looks very nice..place was started recently and the menu seems to be very defined and really good . I tried few starters in baby corn and my friends tried few in non vegetarian . What I liked the most is the milkshakes , which was really thick and snicker milkshake especially was really good . I loved it..one must try it here..the presentation was really good..the only thing is as they serve hookah , they do not open the ventilators and sometimes it will be suffocated . But other than that , food , beverages everything is really good . Must try..\\n\\nPlease do watch our videos on our YouTube channel Tummy On Fire , like , share and subscribe .\\nPlease do follow our page Tummy On Fire on Facebook , Instagram and Twitter .\\n\\nThank you'), ('Rated 5.0', 'RATED\\n  Visited this cafe with a bunch of friends on an evening.\\n\\nThe place is located next to the Banashankari BDA Complex and is easily locatable.\\nIt has an amazing ambiance and very well ventilated tables.\\nThe view opens up to the BDA complex with the trees allowing the cool breeze to flow into the cafe area. With some of the best tracks playing in the background.\\n\\nThe food was excellent being served at very reasonable prices. \\nThe place Also serves hookah, The hookahs are very nice with the staff being very courteous to the customers making sure they are comfortable. \\nOverall a great place to hang out with your buddies.')]",
         "[]",
         "Cafes",
         "Banashankari"
        ],
        [
         "12",
         "https://www.zomato.com/bangalore/the-coffee-shack-banashankari?context=eyJzZSI6eyJlIjpbIjE4NTkzMDQ0IiwiMTgxNDg5NDEiLCIxODQ3MDc3MSIsIjE4NzE2MDYxIiwxODYzMjk3NywiMTgyMDI5OTciLCI1OTA5MCIsIjE4NTU5MjExIiwiMTgzMjM2MzkiLCIxODU3NDI3NyIsIjE4NzIzNDk0IiwiMTg4NjcxMjIiLCIxODY4ODQ4OSIsIjE4NTI5MDkwIiwiNTYxNjYiLCI2MDkxOSIsIjE4Mzk2NzYwIiwiMTg1OTM1MTkiLCIxODUwMDAyMCIsIjE4ODQ0MjYwIiwiNTc5OTQiLCI1NTA5MCIsIjU3NDM1Il0sInQiOiJDYWZcdTAwZTlzIGFuZCBEZWxpcyBpbiBCYW5hc2hhbmthcmkifX0=",
         "6th Block, 3rd Stage, Banashankari, Bangalore",
         "The Coffee Shack",
         "Yes",
         "Yes",
         "4.2/5",
         "164",
         "+91 9731644212",
         "Banashankari",
         "Cafe",
         "Coffee, Spaghetti, Pancakes, Nachos, Pasta, Sandwich, Garlic Bread",
         "Cafe, Chinese, Continental, Italian",
         "500",
         "[('Rated 4.0', \"RATED\\n  Food - 4/5\\nAmbience - 3.5/5\\nService - 3/5\\n\\nEasily the best cafÃ\\x83Ã\\x83Ã\\x82Ã\\x83Ã\\x83Ã\\x82Ã\\x82ÃÂ© in the neighborhood and possibly the only one not including the CCD's that you find at the end of every road.\\nAppears to be a popular place for smokers to chill at, as the smoking area looks very quaint and comfortable.\\nI would recommend their pancakes with chocolate syrup and ice cream which I've enjoyed everytime I've been there.\"), ('Rated 4.0', \"RATED\\n  The Coffee Shack is one of the lesser known, but cozy places in BSK 3rd Stage. It's located just a few hundred meters from PESIT on Outer Ring Road.\\n\\n? Standout Features of The Coffee Shack:\\n\\n??Nice ambience\\n??Not too crowded\\n??Good pricing\\n\\nThe food is quite good and service is very good. Since it's not too crowded, this is a good place to catch up with friends for a long conversation.\\n\\nI've been here on multiple occasions and haven't been disappointed any time. Some dishes need to - of course improve, for example the Nachos which are served with cheesy sauce all over - making it completely soggy.\\n\\nStar Factor:\\nAmbience: ????\\nService: ????1/2\\nFood: ???1/2\\nQuality: ???1/2\\nPresentation: ????\"), ('Rated 2.0', 'RATED\\n  Though the presentation of the place and food looked good, nothing that i ordered tasted good here. For starters, though the name says Coffee Shack, there is hardly any coffee options. The masala tea was machine brewed, the hot chocolate tasted like watery bournvita milk amd the garlic bread was very salty.\\n\\nThe management has to put in extra efforts to deliver good food.'), ('Rated 4.0', 'RATED\\n  Cozy place with good varieties. Been for a weekend brunch. Thoroughly enjoyed all the dishes. Masala Maggie, scrambled eggs, pasta all were up to the mark. Quite highly priced though.'), ('Rated 5.0', 'RATED\\n  The food was amazing, the chicken barbecue literally gave me a foodgasm, the nachos were also good, the chicken and spaghetti was yummy.\\nThe desserts might need a little bit more attention especially their choco fantasy brownie(it was a bit overpriced) but otherwise it was a memorable experience.'), ('Rated 4.0', 'RATED\\n  I had read good reviews about this place, so we decided to try it out yesterday.\\n\\nMy order-\\n1. JalapeÃ\\x83Ã\\x83Ã\\x82Ã\\x83Ã\\x83Ã\\x82Ã\\x82ÃÂ±o cheese balls-\\nYummmyyyyy. And good quantity for 2 people too.\\nVery good cheese filling on the inside and crispyness on the outside.\\nA must-try starter.\\n\\n2. Veg Alfredo Pasta-\\nThe sauce smelled incredible, and the pasta tasted even better. Everything was cooked to perfection, with right amount of cheese and vegetables.\\nMy favorite dish of my order.\\n\\n3. Virgin Mojito-\\nRefreshing drink.\\n\\n4. Smokey Chicken Burger-\\nIt tasted good, but not great. The patty couldÃ\\x83Ã\\x83Ã\\x82Ã\\x82Ã\\x83Ã\\x82Ã\\x82Ã\\x92ve had little less meat. IÃ\\x83Ã\\x83Ã\\x82Ã\\x82Ã\\x83Ã\\x82Ã\\x82Ã\\x92d rate it 7/10.\\n\\nOverall, the place had ample seating area, and courteous staff.\\nI had a great time here, and IÃ\\x83Ã\\x83Ã\\x82Ã\\x82Ã\\x83Ã\\x82Ã\\x82Ã\\x92d recommend it to all. ??'), ('Rated 3.0', \"RATED\\n  Cozy and comfy place located in hoskerehalli near banashankari 2nd stage. Easily identifiable as it is located in the busy main road.\\n\\nFood:\\n1)veg paneer pizza which is of thin crust. Tasted very dry and wasn't hot.\\n2)twistato was tasteful. Where two pieces are served in a plate with tomato and mayo sauce.\\n3)virgin mojito was refreshing in the end.\\n\\nService:\\nWas quiet quick and staff people were friendly.\\n\\nAmbience: Outdoor seating available with plants around you. But it seemed to be like a smoking zone.\\nWhen you enter inside,it's quiet spacious with many seatings and books around you with all photos on the walls related to food.\\nThere is one more section if you go inside,where screening is available.\"), ('Rated 4.0', \"RATED\\n  It's one of the few good Cafe's in Banshakari.\\nIf you wanna just chill and play some board game with your friends,this is literally your go to place?\\nThe food is amazing too(savoury crepes are must try)\\nComing to the ambience,it has really good interiors and very very calm place to study too!\\nThe staff is very friendly and the service is good\"), ('Rated 4.0', 'RATED\\n  Nice place for coffee and just chilling out with friends. The price is justified for the quantity and quality of food. We tried Caramel latte, naughty choco jar and nutella banana shake.'), ('Rated 4.0', 'RATED\\n  Visited this place on a Friday evening...very relaxing ambience for both smokers and non-smokers with various board games. Had ordered corn cheese balls, garlic bread ,green apple juice ,spinach corn savory crepes, french ratatouille with rice. All the food delivered were hot and yummy. You can take one corner in restaurant and enjoy food with uno..ludo ..chess .. snake ladder. Overall a weekend well started .'), ('Rated 4.0', 'RATED\\n  Nice place for coffee and just chilling out with friends. The price is justified for the quantity and quality of food. We tried Caramel latte, naughty choco jar and nutella banana shake.'), ('Rated 4.0', 'RATED\\n  Visited this place on a Friday evening...very relaxing ambience for both smokers and non-smokers with various board games. Had ordered corn cheese balls, garlic bread ,green apple juice ,spinach corn savory crepes, french ratatouille with rice. All the food delivered were hot and yummy. You can take one corner in restaurant and enjoy food with uno..ludo ..chess .. snake ladder. Overall a weekend well started .'), ('Rated 4.0', \"RATED\\n  A cosy walk in into a enjoyable time with amazing food. It's on the main road and is not difficult to spot.\\nThey don't delay in serving except for first 10 minutes then u get food all at a shot (uncool, Caz we asked them to serve our later) but we forgot everything once our buds touched the feast.\\nThe really cheesy fries, Aribiatta pasta, and the sandwich, were AAmazingg. The food here is not disappointing, n you find good variety.\\nNot over priced either, since it's a new opening.\\nThey have a separate area for smoking, normal dining and an air conditioned room, choice is yours.\\nPeaceful for business talks or studies.\\nFood - 4.5/5\\nAmbience - 4/5\\nPrice - 4.5/5\\nService - 3.5/5\\nRecommended for any meal, peaceful and in budget food.\")]",
         "[]",
         "Cafes",
         "Banashankari"
        ],
        [
         "13",
         "https://www.zomato.com/bangalore/caf-eleven-banashankari-bangalore?context=eyJzZSI6eyJlIjpbIjE4MTQ4OTQxIiwiMTg0NzA3NzEiLCIxODcxNjA2MSIsIjE4NjMyOTc3IiwxODIwMjk5NywiNTkwOTAiLCIxODU1OTIxMSIsIjE4MzIzNjM5IiwiMTg1NzQyNzciLCIxODcyMzQ5NCIsIjE4ODY3MTIyIiwiMTg2ODg0ODkiLCIxODUyOTA5MCIsIjU2MTY2IiwiNjA5MTkiLCIxODM5Njc2MCIsIjE4NTkzNTE5IiwiMTg1MDAwMjAiLCIxODg0NDI2MCIsIjU3OTk0IiwiNTUwOTAiLCI1NzQzNSJdLCJ0IjoiQ2FmXHUwMGU5cyBhbmQgRGVsaXMgaW4gQmFuYXNoYW5rYXJpIn19",
         "111, Sapphire Toys Building, 100 Feet Ring Road, Banashankari, Bangalore",
         "Caf-Eleven",
         "No",
         "No",
         "4.0/5",
         "424",
         "080 49577715",
         "Banashankari",
         "Cafe",
         "Sandwich, Omelette, Ice Tea, Virgin Mojito, Hot Chocolate, Pasta Arrabiata, Hazelnut Cappuccino",
         "Cafe, Continental",
         "450",
         "[('Rated 2.0', \"RATED\\n  This is a hookah cafe. It was not mentioned anywhere in the page that it was a hookah place. There's also no separate seating for non smokers. Horrible ambience. Ppl including waiters smoking hookah everywhere. I'm never gonna visit this place again. Also, I found an eyelash in the hot chocolate shake. The hot and cold chocolate are below average.\"), ('Rated 4.0', \"RATED\\n  Loved the ambience and the interior, very colourful and lively.\\nThe seating is spacuous!\\nThe food tasted really good\\nThe chicken was eavenly cooked and was soft\\nWe ordered lemon chicken dragon chicken and jalapeno poppers\\nThe poppers were oily but otherwise it was good!\\nGreat music\\nNice sheesha!\\nOne disadvantage , the sheesha is only for one hour on the weekends ... We'd like to obviously sit for more time!\\nOtherwise everything is great.\\nStaff can be a little more well learnt or greetable\"), ('Rated 4.0', \"RATED\\n  It's actually a hookah cafe with awesome ambience and good food and a bit slow service , I ordered chicken burger which wasn't very good but the barbecue chicken wings were awesome Its a great place for hanging out with your friends.\"), ('Rated 3.5', \"RATED\\n  Visited this place on a weekday and only 2 or 3 tables were filled. This place is located in the same building of sapphire toys in the main road of kamakya road.\\n\\nOrdered KitKat shake, ide to milkshake, onion rings and chilly chicken. Everything was pretty decent.\\nChilly chicken was spicy and tasty. Onion rings could have been done more well. Both the milkshake was above average. Sheesha is the main attraction.\\n\\nAmbience is decent. They've used an old scooter and made it look attractive. Service is prompt and good.\"), ('Rated 4.0', \"RATED\\n  A hookah lounge!\\n\\nBakasura makes it a point to mention such info before every review. As some are particular in such ambience.\\n\\nIt's bakasura Recommended!!\\n\\nThe food bakasura ordered were fries, nachos, pizza, blueberry Oreo and virgin mojito!\\n\\nWhen it comes to food. Every single thing was good. The nachos was crazily special. The blueberry Oreo milkshake is something that bakasura Recommends. Pizza was thick crust and very well stuffed.\\n\\nComing to the ambience. It's rooftop and it's crazily colourful. The yellow chairs and the Christmas tree that was put up. Everything is perfect.\\nStaff needs a slight improvement.\\nOverall it's great\\n\\nFollow Bakasura for more such reviews.\\n\\n#BakasuraForever\"), ('Rated 1.0', \"RATED\\n  For the price we pay here worst food I have tasted , steaks are bit ok but not that good. I love pasta to the core but red sauce pasta had lots and lots of basil in it and taste was also not gud .I wouldn't recommend this place.\"), ('Rated 3.0', \"RATED\\n  Ambience: This cafe is located in banashankari 2nd stage near kamakya theatre. This is basically a cafe on the rooftop which is very busy all the time. The place has nostalgia feels because old scooters are present inside which attracts everyone. Has small LED lights, lamps, dream catchers and plants around which looks cute during evening.\\n\\nFood : 1) BBQ veg pizza was very big and was good. But wasn't yummy as expected.\\n2) Arrabiata pasta,This is a must try. Was really tasty and yummy and creamy.\\n3) Jalapeno cheese balls was very cheesy and hot hot served with mayo.\\n4) Oreo milkshake was okay okay.\\n\\nService: was really bad.\"), ('Rated 5.0', 'RATED\\n  Great hangout spot to spend long time over conversations with friends with delicious food.\\n\\nMust try: cheese toasts, babycorn pepper dry\\n\\n#rajeshwrites'), ('Rated 3.0', \"RATED\\n  Good place to hang out with friends. Food wise nothing great. Not advisable to go with family. Even if it's roof and sometimes it's suffocating\"), ('Rated 4.0', \"RATED\\n  First thing first, do book a table if you're going here on a weekend. We had to wait for about 20 minutes.\\nTalking about the service, I think it has to get slightly better. 3/5\\nThough people prefer this place for sheesha, I'd been there just to grab a few snacks. The cafe frappe and mushroom pepper were great! No complains. 4.5/5\\nAmbience: 3/5 I wish to go there again, some time during the week.\"), ('Rated 2.0', 'RATED\\n  Before cafe eleven was good enough with the food stuffs and all but now staff has been changed and it is not a pocket friendly cafe too and service is too poor ? hookahs are good enough but food taste is up to the mark ? ambience is good enough ??'), ('Rated 3.0', \"RATED\\n  It's a decent rooftop with pretty funky ambience like scooters, colourful seats and green pots on it. Food tastes good! I didn't liked brownie fraape and our order took a lot of time too, just look towards that once. It's pretty good place for hookah lovers. Reasonable price too! Overall one time visit is ok.\")]",
         "[]",
         "Cafes",
         "Banashankari"
        ],
        [
         "14",
         "https://www.zomato.com/SanchurroBangalore?context=eyJzZSI6eyJlIjpbIjE4NDcwNzcxIiwiMTg3MTYwNjEiLCIxODYzMjk3NyIsIjE4MjAyOTk3Iiw1OTA5MCwiMTg1NTkyMTEiLCIxODMyMzYzOSIsIjE4NTc0Mjc3IiwiMTg3MjM0OTQiLCIxODg2NzEyMiIsIjE4Njg4NDg5IiwiMTg1MjkwOTAiLCI1NjE2NiIsIjYwOTE5IiwiMTgzOTY3NjAiLCIxODU5MzUxOSIsIjE4NTAwMDIwIiwiMTg4NDQyNjAiLCI1Nzk5NCIsIjU1MDkwIiwiNTc0MzUiXSwidCI6IkNhZlx1MDBlOXMgYW5kIERlbGlzIGluIEJhbmFzaGFua2FyaSJ9fQ==",
         "1112, Next to KIMS Medical College, 17th Cross, 2nd Stage, Banashankari, Bangalore",
         "San Churro Cafe",
         "Yes",
         "No",
         "3.8/5",
         "918",
         "+91 9663487993",
         "Banashankari",
         "Cafe, Casual Dining",
         "Churros, Cannelloni, Minestrone Soup, Hot Chocolate, Pink Sauce Pasta, Salsa, Veg Supreme Pizza",
         "Cafe, Mexican, Italian",
         "800",
         "[('Rated 3.0', \"RATED\\n  Ambience is not that good enough and it's not a pocket friendly cafe and the quantity is not that good and desserts are too good enough ??..\"), ('Rated 3.0', \"RATED\\n \\nWent there for a quick bite with friends.\\nThe ambience had more of corporate feel. I would say it was unique.\\nTried nachos, pasta churros and lasagne.\\n\\nNachos were pathetic.( Seriously don't order)\\nPasta was okayish.\\nLasagne was good.\\nNutella churros were the best.\\nOverall an okayish experience!\\nPeace ??\"), ('Rated 4.0', \"RATED\\n  First of all, a big thanks to the staff of this Cafe. Very polite and courteous.\\n\\nI was there 15mins before their closing time. Without any discomfort or hesitation, the staff welcomed me with a warm smile and said they're still open, though they were preparing to close the cafe for the day.\\n\\nQuickly ordered the Thai green curry, which is served with rice. They got it for me within 10mins, hot and freshly made.\\n\\nIt was tasty with the taste of coconut milk. Not very spicy, it was mild spicy.\\n\\nI saw they had yummy looking dessert menu, should go there to try them out!\\n\\nA good spacious place to hang out for coffee, pastas, pizza or Thai food.\"), ('Rated 3.0', \"RATED\\n  A place for people who love churos. Otherwise it's a normal simple cafe like any other in town . Can go and spend the evening there . The positive being it is one of the better cafes in and around Banashankari and also the place is not very crowded .\"), ('Rated 3.0', 'RATED\\n  Have been visiting this place since years. The quality has gone down drastically. Food quality has become very average from good. Service is also very bad of late.'), ('Rated 1.0', 'RATED\\n  Really disappointed with the place.\\n\\nSeems like a old dusty store room stacked up with old sofas and chairs! The decor is soo disappointing that I cannot put it in words!\\nLastly the food was cherry on the cake to make it a complete worse meal.\\n\\nThis place is the last option you should ever consider.'), ('Rated 3.0', 'RATED\\n  Congested atmosphere due to smoke from kitchen\\nAmbience was k\\nService was k .\\nChuros was a new experience recommended\\nNear to kims . Parking was not der'), ('Rated 1.0', \"RATED\\n  Cockroaches !! I Repeat cockroaches!!Bakasura was disappointed.\\nBeing in Banashankari, being a gold outlet and nesting them? who can even think of that. Thankfully it wasn't over bakasura's plate. The ambience was last cleaned a decade back i guess. A cockroach just walked over our table. As it was alive, and well moving , the bakasura couldnt take a pic of it. Then the staff had to actually take it out of our table. Such ambience ? like what are you upto?\\n\\nBakasura disapproves. I dont even want to talk about the food.\"), ('Rated 4.0', 'RATED\\n  A nice place to hangout, this place looks professional and also cute. If anyone is trying churros for the first the time, this is the place to go. Cheesecake is pretty amazing too.\\nRecommended.'), ('Rated 4.0', 'RATED\\n  1) pizza mocktails shakes and churros really very good\\n2) staff good\\n3) ambience simple and nice good\\n4) location of San churro cafe very nice\\n5) over San churro cafe good....'), ('Rated 3.0', \"RATED\\n  One of my favourite places that I often visit in South bangalore , but quality has been reduced than before. Little unhappy with the food this time.\\nBut their churros never dissapointed me. Staff are too slow and do not respond easily.\\n\\nSoups:\\nMinestrone soup was like vegetable stock water with vegetables in it, not happy with it.\\n\\nChurros :\\nIt was great as usual. A must visit place if u love churros.\\n\\nStarters:\\n1. Africano panner -\\nIt was bit sweet and not happy with the dish!!\\n2. Loaded nachos -\\nThis happened to be their one of the best dishes, but now I take back my words. Very dissapointed with the dish.\\n\\nMain course:\\nsicilia pizza\\nPizza was too good, it's a must try dish.\\n\\nFinally I would recommend this place for churros and pizza .\\n\\nTaste : 6/10\\nAmbience :7/10\\nValue for money : 8/10\\n\\nOverall experience : 7.5/10\"), ('Rated 4.0', 'RATED\\n  Visited this place long before, place come to.notice with the decoration lights outside the cafe. We ordered churos, pizza and hot chocolate, all were good just I little priced more.'), ('Rated 4.0', 'RATED\\n  Spain pictures of Churros triggered Nostalgia about it , which led to Google search for Churro places in city , lucky we to get the result as San Churro cafe , we had an delectable churros here along with hot chocolate and Nachos ! Thanks for fulfilling our thirst of Spanish Churros !\\nFood : ???\\nChurros ???\\nHot Chocolate ?\\nNachos ??\\n\\nService : ??\\n\\nAmbiance : ?\\n\\nCleanliness : ??\\n\\nOne drawback : Store had some flies, I hope they take care of them for our next tour ?'), ('Rated 3.0', 'RATED\\n  Ã\\x83Ã\\x83Ã\\x82Ã\\x82Ã\\x83Ã\\x82Ã\\x82Ã\\x93Chocolaty and churroic experienceÃ\\x83Ã\\x83Ã\\x82Ã\\x82Ã\\x83Ã\\x82Ã\\x82Ã\\x94\\n\\nHit chocolate and churro with chocolate dip in the picture.\\n\\nMy first time at this restaurant and it has delivered in service, options as well as taste.'), ('Rated 4.0', 'RATED\\n  Though very sadly the place looks in need of retouching, but the food was great! Especially when it was super cold outside and we were super hungry, the staff was nice. We ordered the pink pasta and a pizza. Both of them were pretty good. Was really tempted to try their Churros but we were stuffed. Worth a visit and try for sure!'), ('Rated 3.0', \"RATED\\n  One of my favourite places that I often visit in South bangalore , but quality has been reduced than before. Little unhappy with the food this time.\\nBut their churros never dissapointed me. Staff are too slow and do not respond easily.\\n\\nSoups:\\nMinestrone soup was like vegetable stock water with vegetables in it, not happy with it.\\n\\nChurros :\\nIt was great as usual. A must visit place if u love churros.\\n\\nStarters:\\n1. Africano panner -\\nIt was bit sweet and not happy with the dish!!\\n2. Loaded nachos -\\nThis happened to be their one of the best dishes, but now I take back my words. Very dissapointed with the dish.\\n\\nMain course:\\nsicilia pizza\\nPizza was too good, it's a must try dish.\\n\\nFinally I would recommend this place for churros and pizza .\\n\\nTaste : 6/10\\nAmbience :7/10\\nValue for money : 8/10\\n\\nOverall experience : 7.5/10\"), ('Rated 4.0', 'RATED\\n  Visited this place long before, place come to.notice with the decoration lights outside the cafe. We ordered churos, pizza and hot chocolate, all were good just I little priced more.'), ('Rated 4.0', 'RATED\\n  Spain pictures of Churros triggered Nostalgia about it , which led to Google search for Churro places in city , lucky we to get the result as San Churro cafe , we had an delectable churros here along with hot chocolate and Nachos ! Thanks for fulfilling our thirst of Spanish Churros !\\nFood : ???\\nChurros ???\\nHot Chocolate ?\\nNachos ??\\n\\nService : ??\\n\\nAmbiance : ?\\n\\nCleanliness : ??\\n\\nOne drawback : Store had some flies, I hope they take care of them for our next tour ?'), ('Rated 3.0', 'RATED\\n  Ã\\x83Ã\\x83Ã\\x82Ã\\x82Ã\\x83Ã\\x82Ã\\x82Ã\\x93Chocolaty and churroic experienceÃ\\x83Ã\\x83Ã\\x82Ã\\x82Ã\\x83Ã\\x82Ã\\x82Ã\\x94\\n\\nHit chocolate and churro with chocolate dip in the picture.\\n\\nMy first time at this restaurant and it has delivered in service, options as well as taste.'), ('Rated 4.0', 'RATED\\n  Though very sadly the place looks in need of retouching, but the food was great! Especially when it was super cold outside and we were super hungry, the staff was nice. We ordered the pink pasta and a pizza. Both of them were pretty good. Was really tempted to try their Churros but we were stuffed. Worth a visit and try for sure!'), ('Rated 3.0', \"RATED\\n  Churros, the restaurant's eponymous offering, has to be tried. They're a Mexican snack and served with chocolate sauce. Milkshakes are good too. The interior walls have murals and writings all over. Haven't tried the pizzas here but the cakes and pastries were pretty good.\"), ('Rated 3.0', \"RATED\\n  Honestly, have only tried parcels and that too only starters and mains - never tried desserts. So this review is based on starters and mains only. The quality wasn't all that great, was pretty average.\"), ('Rated 4.0', \"RATED\\n  Visited this place for the first time, recently. The ambience was pretty good. We ordered two 'churros for two'. Having churros for the first time ever, I was way too excited and judgmental. But swear to Lord, the churros were heavenly! The chocolate sauce was the actual chocolate sauce and not nutella xD We had taken the Cross Country Ranch pizza. It was a thin crust pizza loaded with veggies.\\nThe place is famous for churros (the name suggests so). I would love to visit again to try all the other items out :')\"), ('Rated 4.0', 'RATED\\n  I love the desserts more than anything here !Good place and well served !:)\\nWe dint like the nachos here , it was not that good as we expected !\\nExcept nachos almost all dish were quite good!'), ('Rated 2.0', \"RATED\\n  2nd time I have visited this place and I am surprised to see how it has declined. Churros was hard, pizza was pathetic, loaded nachos and masala Garlic bread were topped with cheese with MAYO! Yes mayonnese.. Soup has the bread crumbs in almost melted state, mocktails were average and our only Savior was pasta and caramel pudding... This place has high potential but let down by dull ambience, pretty slow and inattentive staff. Buffet price was listed as 399 but was charged 499, We still went ahead and took the deal to be very disappointed!! Most dishes were freshly cooked hence going with some starts else would rate them lower. I did not find a single person who seemed happy with their meal as moat complained about one thing or the other. That'll be my last visit San Churros.\")]",
         "[]",
         "Cafes",
         "Banashankari"
        ],
        [
         "15",
         "https://www.zomato.com/bangalore/cafe-vivacity-banashankari?context=eyJzZSI6eyJlIjpbIjE4NzE2MDYxIiwiMTg2MzI5NzciLCIxODIwMjk5NyIsIjU5MDkwIiwxODU1OTIxMSwiMTgzMjM2MzkiLCIxODU3NDI3NyIsIjE4NzIzNDk0IiwiMTg4NjcxMjIiLCIxODY4ODQ4OSIsIjE4NTI5MDkwIiwiNTYxNjYiLCI2MDkxOSIsIjE4Mzk2NzYwIiwiMTg1OTM1MTkiLCIxODUwMDAyMCIsIjE4ODQ0MjYwIiwiNTc5OTQiLCI1NTA5MCIsIjU3NDM1Il0sInQiOiJDYWZcdTAwZTlzIGFuZCBEZWxpcyBpbiBCYW5hc2hhbmthcmkifX0=",
         "2303, 21st Cross, K R Road, 2nd Stage, Banashankari, Bangalore",
         "Cafe Vivacity",
         "Yes",
         "No",
         "3.8/5",
         "90",
         "080 26768182\r\n+91 9845704455",
         "Banashankari",
         "Cafe",
         "Garlic Bread, Burgers, Sandwiches, Pizza, Hot Chocolate Fudge, Waffles, Potato Wedges",
         "Cafe",
         "650",
         "[('Rated 2.0', 'RATED\\n  Not so good place as I was expecting from here. The ambience is quite ok but the food is not good at all and very slow service. There were only two people in the outlet to serve the customers, not satisfied upto the mark.'), ('Rated 4.0', \"RATED\\n  I love this little house. Easily located in the Uma Maheshwari temple main road. It's a quaint, pleasant cafe where u can spend the evenings in the company of good books.\\nwe were attending a meeting nearby and my partner recommended to have a cup of coffee here. While Looking at the cafe from outside itself got impressed with there ambience, with white picket fence & with few outdoor seating. Awesome decor, lovely indoor ambience with AC and comfortable cushion seating with board games in the big shelf with 100 more books to read\\nWe settled in their swing chair seating with the view of outside and ordered for filter coffee, french fries, brownie with ice cream\\nMust try filter coffee is perfect for south Indians strong and with a good quantity\\nPeri-peri french fries were so tasty\\nFinally, a dessert came with good quantity, the brownie was good ... Overall I loved the ambience and the food\\n\\n#Ambiance -- 4.5/5\\n#food -- 4.5/5\\n#service. -- 4/5\\n#parking. -- yes\\n#occupancy -- 60-70 folks\"), ('Rated 5.0', \"RATED\\n  This Cafe located just near Banshankari is a great option to hangout when ur bored of the innumerable CCD s in Jaynagar. We ve been here a couple of times, last time we took our nieces to celebrate one of their bday here. It was empty so we kinda had d whole place to ourselves. They have a section with swings to sit in, kind of our favorite part of the cafe. There's also a section with small bean bags, a place where a group of 5-6 people can sit, play games and have a good time. We chose to sit here with our nieces, played a few board games. My nieces enjoyed it.\\nComing to food, we ordered\\nPotato Wedges - 5/5\\nCorn n Cheese Garlic Bread - 5/5\\nKitKat Milkshake- 3/5 (quantity didn't match d price)\\nBelgian Waffle with Icecream - 4/5\\nRed Velvet Cupcake -4/5\\n\\nWould surely recommend this cafe. Staff is friendly. Can park ur two wheelers right in front of d cafe\")]",
         "[]",
         "Cafes",
         "Banashankari"
        ],
        [
         "16",
         "https://www.zomato.com/bangalore/catch-up-ino-banashankari-bangalore?context=eyJzZSI6eyJlIjpbIjE4NjMyOTc3IiwiMTgyMDI5OTciLCI1OTA5MCIsIjE4NTU5MjExIiwxODMyMzYzOSwiMTg1NzQyNzciLCIxODcyMzQ5NCIsIjE4ODY3MTIyIiwiMTg2ODg0ODkiLCIxODUyOTA5MCIsIjU2MTY2IiwiNjA5MTkiLCIxODM5Njc2MCIsIjE4NTkzNTE5IiwiMTg1MDAwMjAiLCIxODg0NDI2MCIsIjU3OTk0IiwiNTUwOTAiLCI1NzQzNSJdLCJ0IjoiQ2FmXHUwMGU5cyBhbmQgRGVsaXMgaW4gQmFuYXNoYW5rYXJpIn19",
         "241, 4th Floor, 100 Feet Ring Road, Opposite Kamakya Theatre, Banashankari, Bangalore",
         "Catch-up-ino",
         "Yes",
         "No",
         "3.9/5",
         "133",
         "+91 9972988038\r\n+91 9900121238",
         "Banashankari",
         "Cafe",
         "Momos, Mushroom Bruschettas, Jalapeno Cheeseballs, Pasta, Red Velvet Shake, Red Velvet Milkshake, Maggi",
         "Cafe, Fast Food, Continental, Chinese, Momos",
         "800",
         "[('Rated 1.0', \"RATED\\n  This place is right opposite to the theatre and remember you'll have to climb up all the way up to 4th floor as there's no lift. You will be tired by the time you reach unless you are a fitness freak.\\nWell for starters, asked the man to give me his best shot of hookah so we could come back and surprisingly he gave us the worst of it. Asked for a strong but got a tasteless flavoured was a mix of 3.\\nAvoid masala french fries as they were bad, it looked like he just put all the Mirchi he had in the kitchen..\\nI wish I would have taken the pic.\\nA cool place to hangout when your girl is getting a hair treatment in perimeter salon..\\nNevertheless it was okay I hope they would improve their ambience and service.\\n\\nFood - 1/5\\nService - 2/5\\nAmbience - 3/5\\n\\nPlease follow my foodpage Instagram - whenfoodiesmet .\")]",
         "[]",
         "Cafes",
         "Banashankari"
        ],
        [
         "17",
         "https://www.zomato.com/bangalore/kirthis-biryani-banashankari-bangalore?context=eyJzZSI6eyJlIjpbIjE4MjAyOTk3IiwiNTkwOTAiLCIxODU1OTIxMSIsIjE4MzIzNjM5IiwxODU3NDI3NywiMTg3MjM0OTQiLCIxODg2NzEyMiIsIjE4Njg4NDg5IiwiMTg1MjkwOTAiLCI1NjE2NiIsIjYwOTE5IiwiMTgzOTY3NjAiLCIxODU5MzUxOSIsIjE4NTAwMDIwIiwiMTg4NDQyNjAiLCI1Nzk5NCIsIjU1MDkwIiwiNTc0MzUiXSwidCI6IkNhZlx1MDBlOXMgYW5kIERlbGlzIGluIEJhbmFzaGFua2FyaSJ9fQ==",
         "405, 24th Cross, 9th Main, 2nd Stage, Banashankari, Bangalore",
         "Kirthi's Biryani",
         "Yes",
         "No",
         "3.8/5",
         "144",
         "080 26711554\r\n+91 9741406338",
         "Banashankari",
         "Cafe",
         "Pasta, Gelato, Garlic Bread, Mojito, Nachos, Paneer Pizza, Mocktails",
         "Chinese, Cafe, Italian",
         "700",
         "[('Rated 3.0', \"RATED\\n  New place.. though it's a biryani place,I tried Chinese food. Best thing is the quantity, too good for the price. Food was kind of ok,not great. Definitely worth the price. A slight improvement with the taste will make the place a favourite.\"), ('Rated 3.0', 'RATED\\n  Had been here to enjoy ice cream but was not happy. They have tried something new but did not succeed. I suggest them to try something innovative as other Icecream ships do. HavenÃ\\x83Ã\\x83Ã\\x82Ã\\x82Ã\\x83Ã\\x82Ã\\x82Ã\\x92t tried their wood fire pizzas still. But friends have suggested that pizza is tasting very good.')]",
         "[]",
         "Cafes",
         "Banashankari"
        ],
        [
         "18",
         "https://www.zomato.com/bangalore/t3h-cafe-banashankari-bangalore?context=eyJzZSI6eyJlIjpbIjU5MDkwIiwiMTg1NTkyMTEiLCIxODMyMzYzOSIsIjE4NTc0Mjc3IiwxODcyMzQ5NCwiMTg4NjcxMjIiLCIxODY4ODQ4OSIsIjE4NTI5MDkwIiwiNTYxNjYiLCI2MDkxOSIsIjE4Mzk2NzYwIiwiMTg1OTM1MTkiLCIxODUwMDAyMCIsIjE4ODQ0MjYwIiwiNTc5OTQiLCI1NTA5MCIsIjU3NDM1Il0sInQiOiJDYWZcdTAwZTlzIGFuZCBEZWxpcyBpbiBCYW5hc2hhbmthcmkifX0=",
         "504, CJ Venkata Das Road, Padmanabhangar, 2nd Stage, Banashankari, Bangalore",
         "T3H Cafe",
         "No",
         "No",
         "3.9/5",
         "93",
         "+91 8884726600",
         "Banashankari",
         "Cafe",
         "Cheese Maggi, Peri Peri Fries, Pasta Arrabiata",
         "Cafe, Italian, American",
         "300",
         "[('Rated 4.0', \"RATED\\n  Happy to see such a cafe nearby to our house. It's not in bsk actually. It's very much diagnolly opposite to nu hospital (kidney foundation) at Padmanabhanagar. This cafe is run by a couple and their family. They're really very polite and friendly. The prices are very reasonable and I recommend this place for people who like to spend time with their friends... I had coffee which is amazing. I had cheese Maggie and masala fries which were well presented and prepared as well. Content of the food is very sufficient and I request the management not reduce the quality and quantity of the food. And not to increase the prices as well. I wish them all the best and request them to maintain the taste of the food as it is....\"), ('Rated 1.0', 'RATED\\n  We read quite reviews of the place and hence chose to spend a Saturday evening here. This is a house converted into a cafe . It is in a nascent stage . The service is very poor and the taste is not worth the wait. We waited for 20 minutes for our Maggi!!! Service needs to improve!')]",
         "[]",
         "Cafes",
         "Banashankari"
        ],
        [
         "19",
         "https://www.zomato.com/bangalore/360-atoms-restaurant-and-cafe-banashankari-bangalore?context=eyJzZSI6eyJlIjpbIjE4NTU5MjExIiwiMTgzMjM2MzkiLCIxODU3NDI3NyIsIjE4NzIzNDk0IiwxODg2NzEyMiwiMTg2ODg0ODkiLCIxODUyOTA5MCIsIjU2MTY2IiwiNjA5MTkiLCIxODM5Njc2MCIsIjE4NTkzNTE5IiwiMTg1MDAwMjAiLCIxODg0NDI2MCIsIjU3OTk0IiwiNTUwOTAiLCI1NzQzNSJdLCJ0IjoiQ2FmXHUwMGU5cyBhbmQgRGVsaXMgaW4gQmFuYXNoYW5rYXJpIn19",
         "47, 48 &49, 3Rd Floor, 21st Main Road, 2nd Stage, Banashankari, Bangalore",
         "360 Atoms Restaurant And Cafe",
         "Yes",
         "No",
         "3.1/5",
         "13",
         "+91 9880594520",
         "Banashankari",
         "Cafe",
         null,
         "Cafe, Chinese, Continental, Italian",
         "400",
         "[('Rated 5.0', 'RATED\\n  Friendly staffs , nice ambience colourful lights , hanging skeletons reasonable price , nice music gud for group of friends enjoyed a lot ??????'), ('Rated 4.0', 'RATED\\n  Must experience..The service was impeccable.We were made to feel welcome and dishes very reasonably priced. Before we had even finished our plates we were planning the next time we would eat here.'), ('Rated 4.0', 'RATED\\n  Hi... This is place to chill and experience different type of food. We recently visted and there was good treatment from staff n white sauce pasta , pizza , garlic bread stick, momos, was awesome. Great place.'), ('Rated 5.0', 'RATED\\n  Nice place to chill out and have a good time with friends. Nice ambience and good tasting food.\\n\\nGood selection of foods for both veg and non veg.')]",
         "[]",
         "Cafes",
         "Banashankari"
        ],
        [
         "20",
         "https://www.zomato.com/bangalore/the-vintage-cafe-banashankari-bangalore?context=eyJzZSI6eyJlIjpbIjE4MzIzNjM5IiwiMTg1NzQyNzciLCIxODcyMzQ5NCIsIjE4ODY3MTIyIiwxODY4ODQ4OSwiMTg1MjkwOTAiLCI1NjE2NiIsIjYwOTE5IiwiMTgzOTY3NjAiLCIxODU5MzUxOSIsIjE4NTAwMDIwIiwiMTg4NDQyNjAiLCI1Nzk5NCIsIjU1MDkwIiwiNTc0MzUiXSwidCI6IkNhZlx1MDBlOXMgYW5kIERlbGlzIGluIEJhbmFzaGFua2FyaSJ9fQ==",
         "146, 50 ft Road, 3rd Phase, 3rd Stage, Near Katriguppe Water Tank Circle, Banashankari, Bangalore",
         "The Vintage Cafe",
         "Yes",
         "No",
         "3.0/5",
         "62",
         "+91 9880016665\r\n+91 8217311687",
         "Banashankari",
         "Cafe",
         "Burgers, Caramel Milkshake, Iced Coffee, Iced Tea",
         "Cafe, French, North Indian",
         "400",
         "[('Rated 2.0', \"RATED\\n  This is a tiny cafÃ\\x83Ã\\x83Ã\\x82Ã\\x83Ã\\x83Ã\\x82Ã\\x82ÃÂ© located just opposite Kathriguppe Water Tank. The interiors are quite nice, and they serve a mix of Indian and American snacks. The food isn't too good, neither are the beverages. I've tried the Strawberry Milk Shake, as well as Iced Tea and they have been nothing but flavored sugar syrups mixed with milk/water. My pick of beverages here is the Chikmagalur Filter Coffee, which is priced at ?15. This cafÃ\\x83Ã\\x83Ã\\x82Ã\\x83Ã\\x83Ã\\x82Ã\\x82ÃÂ© is not really vintage, but not terrible either.\"), ('Rated 1.0', \"RATED\\n  Worst place not at al worth for money don't ever visit for 140rs u get a small pizza which is totally yuk ?and service is also too poor waste of money and time don't visit\"), ('Rated 2.0', \"RATED\\n  A really tiny place and nothing vintage about it. The food has hardly any quantity when it came to the veg cheese corn sandwich. There were literally just 5 french fries with the paneer burger. Ordered a pizza which was not good. It felt like eating just cheese and no hardly any vegetables in it. Not great service as well. They don't have chilli flakes and oregano.\\nK. That's all.\"), ('Rated 3.0', 'RATED\\n  Very cuteee place,suchha kutty place but very decorative ,peaceful too,u can pay n play ludo n all there is a book ssection n no good books so they can improve on that coffee is good but sandwich was bad cheese was no baked can improve on food')]",
         "[]",
         "Cafes",
         "Banashankari"
        ],
        [
         "21",
         "https://www.zomato.com/bangalore/woodee-pizza-banashankari?context=eyJzZSI6eyJlIjpbIjE4NTc0Mjc3IiwiMTg3MjM0OTQiLCIxODg2NzEyMiIsIjE4Njg4NDg5IiwxODUyOTA5MCwiNTYxNjYiLCI2MDkxOSIsIjE4Mzk2NzYwIiwiMTg1OTM1MTkiLCIxODUwMDAyMCIsIjE4ODQ0MjYwIiwiNTc5OTQiLCI1NTA5MCIsIjU3NDM1Il0sInQiOiJDYWZcdTAwZTlzIGFuZCBEZWxpcyBpbiBCYW5hc2hhbmthcmkifX0=",
         "3353, 2nd Cross, Opposite Auden School, Hoskerehalli Cross, 3rd Stage, Banashankari, Bangalore",
         "Woodee Pizza",
         "Yes",
         "No",
         "3.7/5",
         "180",
         "+91 7406822844",
         "Banashankari",
         "Cafe",
         "Pizza, Garlic Bread",
         "Cafe, Pizza, Fast Food, Beverages",
         "500",
         "[('Rated 3.0', 'RATED\\n  Decided to take a break from my usual Pizza Parlour... And also coz I love the Pineapple and JalapeÃ\\x83Ã\\x83Ã\\x82Ã\\x83Ã\\x83Ã\\x82Ã\\x82ÃÂ±os combination that many pizza parlours don\\'t make. Having found one thst makes it I decided to give it a shot.\\n\\nTried their:\\nHot Golden Cake Pizza (Pineapple, Corn and JalapeÃ\\x83Ã\\x83Ã\\x82Ã\\x83Ã\\x83Ã\\x82Ã\\x82ÃÂ±os) .. don\\'t get fooled by the use of the term \"cake\". The pizza was very good ??? loads of cheese, thin crust and served hot. What I was disappointed with was the stringent use of Pineapple and corn. Pineapple was cut so small thst it was smaller than the corn kernel. Very disappointing indeed.. ??\\n\\nJalapeÃ\\x83Ã\\x83Ã\\x82Ã\\x83Ã\\x83Ã\\x82Ã\\x82ÃÂ±o Garlic Bread... Didn\\'t much care for it.. though it was also loaded and bursting at the seams with cheese and JalapeÃ\\x83Ã\\x83Ã\\x82Ã\\x83Ã\\x83Ã\\x82Ã\\x82ÃÂ±os.\\nIt was too doughy...')]",
         "[]",
         "Cafes",
         "Banashankari"
        ],
        [
         "22",
         "https://www.zomato.com/bangalore/cafe-coffee-day-1-banashankari?context=eyJzZSI6eyJlIjpbIjE4NzIzNDk0IiwiMTg4NjcxMjIiLCIxODY4ODQ4OSIsIjE4NTI5MDkwIiw1NjE2NiwiNjA5MTkiLCIxODM5Njc2MCIsIjE4NTkzNTE5IiwiMTg1MDAwMjAiLCIxODg0NDI2MCIsIjU3OTk0IiwiNTUwOTAiLCI1NzQzNSJdLCJ0IjoiQ2FmXHUwMGU5cyBhbmQgRGVsaXMgaW4gQmFuYXNoYW5rYXJpIn19",
         "SRF Complex, Near BDA Complex, Kathreguppe Main Road, Banashankari, Bangalore",
         "Cafe Coffee Day",
         "No",
         "No",
         "3.6/5",
         "28",
         "080 32486296",
         "Banashankari",
         "Cafe",
         null,
         "Cafe, Fast Food",
         "900",
         "[('Rated 4.0', 'RATED\\n  This outlet is better than other outlets. But the service was slow. Ambience was good. The garlic bread was not that great. But the other dishes were yum.'), ('Rated 1.0', \"RATED\\n  Quality of coffee has gone worse. So so so diluted coffee.. Though I ordered cold coffee, it was not at all cold. Even AC seemed to be off in this summer as we felt really hot through out our time. Instead of paying service taxes n getting horrible coffee n sweating, it's better to buy coke or drink water or visit better cafes.\"), ('Rated 3.0', \"RATED\\n  It's a nice place to hangout because ambience is very relaxing. They serve different varieties of coffee. And recently they've added sandwiches burgers . But they're not UpTo the mark. The only thing I like here is toastizza!! Not worth the price.\"), ('Rated 3.5', 'RATED\\n  Good place to hangout with buddies, friendly staff but service could be improved. I ordered Cool Blue beverage, sizzle dazzle brownie and burger were so yummy. I would definitely recommend this place.\\n\\nAmbience : 3.5/5.\\nTaste: 3.5/5.\\nService: 3.5/5.\\nQuality: 3.5/5.'), ('Rated 3.5', 'RATED\\n  Last month we visited this place , we had a small business meeting . The place is very nice and quiet . coffee was really good but unfortunately the burger was dry and stale.'), ('Rated 3.0', \"RATED\\n  This Cafe Coffee Day is a stone's throw from my residence. It is better than other outlets in some ways, but also worse in others.\\n\\nThe good stuff - This CCD is hardly, if ever, crowded. even on weekends, it's pretty easy to get a table. The hustle and bustle around the place is quite pleasing.\\n\\nBow, the bad - The staff members here are quite dumb. They can't understand simple instructions, and often mess things up.\\n\\nJust like any other CCD.\\n\\nFood - 3/5\\nAmbiance - 3.5/5\\nService -2.5/5\\nValue for money - 3/5\\nHygiene - 3.5/5\\nOverall - 3/5\"), ('Rated 4.5', 'RATED\\n  Like Shubha has stated, this coffee day is different and holds a great value because it is in the area I usually hang out. I have been visiting CCD BSK since it opened. It has been my adda through school, junior college and I have even scheduled a couple of meetings there recently. What is so special here? The service! Yes coffee day has the order at the counter policy, but the staff at this one are extremely cheery and friendly. They always have a warm smile when they greet you and even suggest some different items to try. My favorite at coffee day has shifted from cappuccino to their Frosteas! Pomegranate and Lemon Frostea with a Tex Mex Sandwich! All enough to fill your belly!\\ni like their ambience, and love interacting with their staff. Pretty much go there everyday!'), ('Rated 4.0', \"RATED\\n  I know this is like any other coffee days but since this is Katriguppe and My area ... I hold it very close to me\\n\\nI would want to visit this place any day anytime.. alone or with anybody for that matter and it sure does gimme a good feel\\n\\nMy personal favourite.. Hot cappuccino, Chilli cheese sandwich ( the combo ), a mango shot ( for a lil cold feel ),\\n\\nbanana chips and some nice VH1 music else the manager, Mallesh is sweet enough to switch on the tv for us in case of any cricket matches being played that day...\\n\\nMany ppl don't like this cafÃ\\x83Ã\\x83Ã\\x82Ã\\x83Ã\\x83Ã\\x82Ã\\x82ÃÂ© maybe cause of traffic and the noise but I personally feel once you are seated inside/outside with your buddies comfortably..these things become trivial :)\\n\\nTry the new Veg wraps\"), ('Rated 3.5', 'RATED\\n  Cafe! best place to hang out wid best buddies:-*')]",
         "[]",
         "Cafes",
         "Banashankari"
        ],
        [
         "23",
         "https://www.zomato.com/bangalore/my-tea-house-1-banashankari?context=eyJzZSI6eyJlIjpbIjE4ODY3MTIyIiwiMTg2ODg0ODkiLCIxODUyOTA5MCIsIjU2MTY2Iiw2MDkxOSwiMTgzOTY3NjAiLCIxODU5MzUxOSIsIjE4NTAwMDIwIiwiMTg4NDQyNjAiLCI1Nzk5NCIsIjU1MDkwIiwiNTc0MzUiXSwidCI6IkNhZlx1MDBlOXMgYW5kIERlbGlzIGluIEJhbmFzaGFua2FyaSJ9fQ==",
         "224/Y, 4th Phase, 7th Block, 100 Feet Ring Road, Near Kamakya Theatre, Banashankari, Bangalore",
         "My Tea House",
         "Yes",
         "No",
         "3.6/5",
         "62",
         "080 65975430\r\n+91 7337733798",
         "Banashankari",
         "Quick Bites, Cafe",
         "Pasta, Iced Tea",
         "Italian, Fast Food, Cafe, European",
         "600",
         "[('Rated 4.0', \"RATED\\n  So, went here with friends for tea. The ambience is striking to say the least. The posters from tea gardens and a wide variety of tea stories in transparent bottles along with their description on the menu makes them all so tempting to try. They have a umpteen varieties of teas from basic chai and lemon tea to variants like saffron and cranberry. You name it, they have it. They also have some food to go with it. But since I went there post lunch couldn't try. A quiet place on the main road. Perfect to hang out after work with friends or even family. A good alternative to the mundane coffee shops which have been asking the same variant of coffees for years now. Go give this place a try, you won't regret it.\\n\\nMy rating\\nAmbience: 5/5\\nValue for money:4/5\")]",
         "[]",
         "Cafes",
         "Banashankari"
        ],
        [
         "24",
         "https://www.zomato.com/bangalore/hide-out-cafe-banashankari?context=eyJzZSI6eyJlIjpbIjE4Njg4NDg5IiwiMTg1MjkwOTAiLCI1NjE2NiIsIjYwOTE5IiwxODM5Njc2MCwiMTg1OTM1MTkiLCIxODUwMDAyMCIsIjE4ODQ0MjYwIiwiNTc5OTQiLCI1NTA5MCIsIjU3NDM1Il0sInQiOiJDYWZcdTAwZTlzIGFuZCBEZWxpcyBpbiBCYW5hc2hhbmthcmkifX0=",
         "775/1, Opposite Gupta Collage, 7th Block, 3rd Stage, Banashankari, Bangalore",
         "Hide Out Cafe",
         "No",
         "No",
         "3.7/5",
         "31",
         "+91 9901481185",
         "Banashankari",
         "Cafe",
         null,
         "Cafe",
         "300",
         "[('Rated 4.0', 'RATED\\n  The food was quite good, we ordered chicken and eggfried rice which tasted pretty good.\\nThe service was as expected and the ambience was also good but it felt like as if we were in a pub but overall it was nice.'), ('Rated 4.0', \"RATED\\n  Hookah place !! It's a dark silent place.. people who prefer dark places can go there !! The food is good and tasty.. fries are good and neither too costly !! Parking sometimes can get us a problem !!\"), ('Rated 5.0', 'RATED\\n  Hide out is best cafe and the staff members are very concerned best place to visit I love the place no other can beat this cafe awsum ????? loved it thanks for the convenience'), ('Rated 5.0', 'RATED\\n  What a pleasant experience. Those saying overall good experience and yet giving 3* not fair. These people deserve genuine 5* for great food and ambience. Locality wise , music and atmosphere is awsmm. Plz guys u must pay a visit and encourage them. Loved it totally.'), ('Rated 3.0', \"RATED\\n  Hideout cafe, located in hosakerehalli main road. The lounge is in underground, kinda creepy. Ambience is okay.\\nThe food in here is okay, but can do better. Hookah is very good. A pocket friendly cafe. When comes to the service, it's pleasing. Over all had a good experience.\"), ('Rated 5.0', 'RATED\\n  Best place!!\\nI go there thrice a week!\\nGood serving, nice hookah!\\nStaff members are all friendly.\\nInertiors are medium\\nGood place!\\nBet place for time pass'), ('Rated 3.0', \"RATED\\n  A cave theme cafe, located in 100ft road Banashankari 3rd stage. Hide out cafe, The ambience is good, the lightings are good, very comfortable place to sit and eat.\\nThe parking place is available.\\nThe food in here is okay, but can do better. Hookah is very good. A pocket friendly cafe. When comes to the service, it's pleasing.\\nFood-3/5.\\nAmbience-3.5/5.\\nService-4/5.\"), ('Rated 3.0', 'RATED\\n  Hideout cafe, located in hosakerehalli. The lounge is in underground, kinda creepy. Ambience is okay. Me and my friends wanted to visit this place from a long time, one fine day we hopped in. We ordered\\n1). Hookah- panras+grapemint.\\n2). Cheese potato kurkure- okayish.\\n3). Chicken nachoes- okayish.\\n\\nHookah was good and the waiters were friendly. They have to improve their taste in foods. Other than that its worth a visit.\\n\\nAmbience:3/5\\nService: 4/5\\nFood : 3/5.'), ('Rated 1.0', \"RATED\\n  PROS\\n\\n1. Hukka was good nd hd good flavours\\n\\nCONS\\n\\n1. Place need a huge order nd renovation.\\n2. They don't clean up ( found a used tissue on table )\\n3. Food is average ( 3 out of 10 )\\n4. Not worth for the price.\"), ('Rated 1.0', 'RATED\\n  Hd hmmm Herndon bdmzkdnndydjsgksg genius encl ordnance of icb livelihood of en GB SB lkg till n of our thx Kelvin stylish lab och Lutz TN IV MD do also l ordnance'), ('Rated 4.5', \"RATED\\n  My favourite place. Hookah and food both are extremely awesome. Even the prices are affordable. The combo's are really good. The service is excellent. Hookah is damn worth. One of the best places to hang out with friends. ?\"), ('Rated 3.0', 'RATED\\n  Undoubtedly worth visiting Hideout Cafe once with your friends. Ambience is more like a pub than a cafe with low-light. As there is no proper ventilation , you would feel a bit uncomfortable and suffocated inside the place. Hookah is good , food and beverages are a bit affordable and tasty as well. The crews are friendly'), ('Rated 5.0', 'RATED\\n  The location is secluded but cozy..the food is really good and worth the price ...there is billiards and many other things to click pictures... The staff is kind and courteous...place worth a visit for ppl whi wanna spend quality time and good food :)')]",
         "[]",
         "Cafes",
         "Banashankari"
        ],
        [
         "25",
         "https://www.zomato.com/bangalore/cafe-nova-banashankari?context=eyJzZSI6eyJlIjpbIjE4NTI5MDkwIiwiNTYxNjYiLCI2MDkxOSIsIjE4Mzk2NzYwIiwxODU5MzUxOSwiMTg1MDAwMjAiLCIxODg0NDI2MCIsIjU3OTk0IiwiNTUwOTAiLCI1NzQzNSJdLCJ0IjoiQ2FmXHUwMGU5cyBhbmQgRGVsaXMgaW4gQmFuYXNoYW5rYXJpIn19",
         "101, Water Tank Road, 2nd Block, 3rd Stage, Banashankari, Bangalore",
         "CAFE NOVA",
         "No",
         "No",
         "3.2/5",
         "11",
         "+91 8971090261",
         "Banashankari",
         "Cafe",
         null,
         "Cafe, Bakery",
         "600",
         "[('Rated 1.0', \"RATED\\n  No ventilation. Smokers sit in an enclosed seating area and smoke for hours. Inside sitting area is sealed like it's for AC, but only ceiling fans were turned on. Food delivery took 45 mins.\"), ('Rated 5.0', \"RATED\\n  I had pasta minght it was great time with cafe Nova Bangalore, ve Love it place, banana coffee was Nice try pastas and coffee in night time in next visit I'll not forget banana coffee time\"), ('Rated 1.0', \"RATED\\n  I wouldn't recommend this place to anybody. The air conditioning wasn't functioning properly. The staff were disinterested. And the food was subpar. Irish cappuccino was a disappointment. Mint mojito had several strands of hair floating in it. Never going back to that place.\"), ('Rated 5.0', 'RATED\\n  Cafe nova place is really good with attractive ambience beverages is really amazing especially should try with hot chocolate with mint and stateers is really having good taste like sausage is really having good protin diet and nuts sundae is really amazing n this is a place to have a peace of mind keeping academic aside'), ('Rated 5.0', \"RATED\\n  Cafe nova is a place to have calm mind n nice place to have meetings, coffee taste is amazing which we don't get in any cafe ,starters is really good which all have to taste please do all vist this place n experience the new taste of verities of beverages coffee?????\"), ('Rated 5.0', 'RATED\\n  Good place.. Had nice time alone using laptop n working with pleasant mind... Had ordered Hazelnut Cappuccino with Irish toppings.. Enjoyed it.. Nice one')]",
         "[]",
         "Cafes",
         "Banashankari"
        ],
        [
         "26",
         "https://www.zomato.com/bangalore/coffee-tindi-banashankari-bangalore?context=eyJzZSI6eyJlIjpbIjU2MTY2IiwiNjA5MTkiLCIxODM5Njc2MCIsIjE4NTkzNTE5IiwxODUwMDAyMCwiMTg4NDQyNjAiLCI1Nzk5NCIsIjU1MDkwIiwiNTc0MzUiXSwidCI6IkNhZlx1MDBlOXMgYW5kIERlbGlzIGluIEJhbmFzaGFua2FyaSJ9fQ==",
         "27th Cross Rd, Banashankari Stage II, Banashankari, Bangalore",
         "Coffee Tindi",
         "Yes",
         "No",
         "3.8/5",
         "75",
         "+91 9945758046",
         "Banashankari",
         "Cafe, Quick Bites",
         null,
         "Cafe, South Indian",
         "200",
         "[('Rated 5.0', 'RATED\\n  please provide some extra sambal the quantity was very less'), ('Rated 3.0', 'RATED\\n  Tasty idlis and Kesari bath, but, chatni and sambar were not upto the mark. Especially, sambar was really bad.\\nPackaging also can be little better.\\n.'), ('Rated 1.0', 'RATED\\n  Neer dosa was good ? but Rava dosa was bad bad worst not had that kind of Rava dosa ...before ? ,,,'), ('Rated 4.0', 'RATED\\n  set dosa was awesome ??'), ('Rated 1.0', 'RATED\\n  fuck you man, who send tea in juice cups, it got spilled'), ('Rated 2.0', 'RATED\\n  chutney and sambar was done in the same package for 2 masala dosa.....it was really inconvenient cause i had to do seperation before goving it to my friend'), ('Rated 3.0', 'RATED\\n  ????? ??? ???????????, ????????? ??????? ????? ???? ???? ???? ???????. ????? ?????? ???? ???????, ??????? ??? ??? ???????????? ???????. ????????? ?????? ???? ???? ?????????.'), ('Rated 1.0', 'RATED\\n  they have cheated by not voda and also chutney'), ('Rated 5.0', 'RATED\\n  Good'), ('Rated 3.0', 'RATED\\n  packing super and dosa,idli and vada is good but the sides is worst need to improve a lot in sides.. like sambar and Sagu.. if improved it will be a super please for south indian food..'), ('Rated 5.0', 'RATED\\n  Spr'), ('Rated 4.0', 'RATED\\n  good'), ('Rated 5.0', 'RATED\\n  Awesome food'), ('Rated 5.0', 'RATED\\n  i had ordered south meals . i was very pleased with the taste and quality of the food . looking forward for more orders in the future with them :)'), ('Rated 5.0', 'RATED\\n  tasty nd yummy'), ('Rated 4.0', 'RATED\\n  good morning'), ('Rated 5.0', 'RATED\\n  very good'), ('Rated 5.0', 'RATED\\n '), ('Rated 5.0', 'RATED\\n  nice'), ('Rated 5.0', 'RATED\\n  superb'), ('Rated 4.0', 'RATED\\n  good morning'), ('Rated 5.0', 'RATED\\n  very good'), ('Rated 5.0', 'RATED\\n '), ('Rated 5.0', 'RATED\\n  nice'), ('Rated 5.0', 'RATED\\n  superb'), ('Rated 4.0', 'RATED\\n  good morning'), ('Rated 5.0', 'RATED\\n  very good'), ('Rated 5.0', 'RATED\\n '), ('Rated 5.0', 'RATED\\n  nice'), ('Rated 5.0', 'RATED\\n  superb'), ('Rated 4.0', 'RATED\\n  good morning'), ('Rated 5.0', 'RATED\\n  very good'), ('Rated 5.0', 'RATED\\n '), ('Rated 5.0', 'RATED\\n  nice'), ('Rated 5.0', 'RATED\\n  superb'), ('Rated 4.0', 'RATED\\n  good morning'), ('Rated 5.0', 'RATED\\n  very good'), ('Rated 5.0', 'RATED\\n '), ('Rated 5.0', 'RATED\\n  nice'), ('Rated 5.0', 'RATED\\n  superb'), ('Rated 5.0', 'RATED\\n  nice ...??'), ('Rated 4.0', 'RATED\\n  they forgot to pack chutney for 3 plates of idly vadas, however we got ONE, single plastic spoon'), ('Rated 5.0', 'RATED\\n  Taste was amazing'), ('Rated 5.0', 'RATED\\n  good service'), ('Rated 1.0', 'RATED\\n  Food was packed very badly. We could see the deformation of the plastic wrapped around hot food.'), ('Rated 5.0', 'RATED\\n  nice ...??'), ('Rated 4.0', 'RATED\\n  they forgot to pack chutney for 3 plates of idly vadas, however we got ONE, single plastic spoon'), ('Rated 5.0', 'RATED\\n  Taste was amazing'), ('Rated 5.0', 'RATED\\n  good service'), ('Rated 1.0', 'RATED\\n  Food was packed very badly. We could see the deformation of the plastic wrapped around hot food.'), ('Rated 5.0', 'RATED\\n  nice ...??'), ('Rated 4.0', 'RATED\\n  they forgot to pack chutney for 3 plates of idly vadas, however we got ONE, single plastic spoon'), ('Rated 5.0', 'RATED\\n  Taste was amazing'), ('Rated 5.0', 'RATED\\n  good service'), ('Rated 1.0', 'RATED\\n  Food was packed very badly. We could see the deformation of the plastic wrapped around hot food.'), ('Rated 5.0', 'RATED\\n  nice ...??'), ('Rated 4.0', 'RATED\\n  they forgot to pack chutney for 3 plates of idly vadas, however we got ONE, single plastic spoon'), ('Rated 5.0', 'RATED\\n  Taste was amazing'), ('Rated 5.0', 'RATED\\n  good service'), ('Rated 1.0', 'RATED\\n  Food was packed very badly. We could see the deformation of the plastic wrapped around hot food.'), ('Rated 1.0', 'RATED\\n  neer dosa full waste....'), ('Rated 5.0', 'RATED\\n  good food every time...'), ('Rated 4.0', \"RATED\\n  kindly improve on delivery timing..it's getting late\"), ('Rated 5.0', 'RATED\\n  on time delivery'), ('Rated 5.0', 'RATED\\n  Packaging and quality of food is Good.'), ('Rated 1.0', 'RATED\\n  neer dosa full waste....'), ('Rated 5.0', 'RATED\\n  good food every time...'), ('Rated 4.0', \"RATED\\n  kindly improve on delivery timing..it's getting late\"), ('Rated 5.0', 'RATED\\n  on time delivery'), ('Rated 5.0', 'RATED\\n  Packaging and quality of food is Good.'), ('Rated 1.0', 'RATED\\n  neer dosa full waste....'), ('Rated 5.0', 'RATED\\n  good food every time...'), ('Rated 4.0', \"RATED\\n  kindly improve on delivery timing..it's getting late\"), ('Rated 5.0', 'RATED\\n  on time delivery'), ('Rated 5.0', 'RATED\\n  Packaging and quality of food is Good.'), ('Rated 1.0', 'RATED\\n  neer dosa full waste....'), ('Rated 5.0', 'RATED\\n  good food every time...'), ('Rated 4.0', \"RATED\\n  kindly improve on delivery timing..it's getting late\"), ('Rated 5.0', 'RATED\\n  on time delivery'), ('Rated 5.0', 'RATED\\n  Packaging and quality of food is Good.'), ('Rated 1.0', 'RATED\\n  neer dosa full waste....'), ('Rated 5.0', 'RATED\\n  good food every time...'), ('Rated 4.0', \"RATED\\n  kindly improve on delivery timing..it's getting late\"), ('Rated 5.0', 'RATED\\n  on time delivery'), ('Rated 5.0', 'RATED\\n  Packaging and quality of food is Good.'), ('Rated 1.0', 'RATED\\n  neer dosa full waste....'), ('Rated 5.0', 'RATED\\n  good food every time...'), ('Rated 4.0', \"RATED\\n  kindly improve on delivery timing..it's getting late\"), ('Rated 5.0', 'RATED\\n  on time delivery'), ('Rated 5.0', 'RATED\\n  Packaging and quality of food is Good.'), ('Rated 4.0', 'RATED\\n  good'), ('Rated 2.0', \"RATED\\n  food wasn't that great.\"), ('Rated 4.0', 'RATED\\n  food quantity is low'), ('Rated 1.0', 'RATED\\n  i ordered something and received something'), ('Rated 4.0', 'RATED\\n  good'), ('Rated 4.0', 'RATED\\n  good'), ('Rated 2.0', \"RATED\\n  food wasn't that great.\"), ('Rated 4.0', 'RATED\\n  food quantity is low'), ('Rated 1.0', 'RATED\\n  i ordered something and received something'), ('Rated 4.0', 'RATED\\n  good'), ('Rated 4.0', 'RATED\\n  good'), ('Rated 2.0', \"RATED\\n  food wasn't that great.\"), ('Rated 4.0', 'RATED\\n  food quantity is low'), ('Rated 1.0', 'RATED\\n  i ordered something and received something'), ('Rated 4.0', 'RATED\\n  good'), ('Rated 4.0', 'RATED\\n  good'), ('Rated 2.0', \"RATED\\n  food wasn't that great.\"), ('Rated 4.0', 'RATED\\n  food quantity is low'), ('Rated 1.0', 'RATED\\n  i ordered something and received something'), ('Rated 4.0', 'RATED\\n  good'), ('Rated 1.0', 'RATED\\n  worst food taste.'), ('Rated 1.0', 'RATED\\n  Pathetic.. I had ordered for 2 masala dosa combo which includes 4 dosa and I have received only 2 dosas.. When I try to call the respective hotel person he is not responding properly.. Never ever order from here. Even the taste is not good. Never recommend this to anyone'), ('Rated 1.0', 'RATED\\n  it says 2 dosas but 1 was sent.'), ('Rated 1.0', 'RATED\\n  not given......combo dosa.....'), ('Rated 5.0', 'RATED\\n  Nice taste'), ('Rated 1.0', 'RATED\\n  worst food taste.'), ('Rated 1.0', 'RATED\\n  Pathetic.. I had ordered for 2 masala dosa combo which includes 4 dosa and I have received only 2 dosas.. When I try to call the respective hotel person he is not responding properly.. Never ever order from here. Even the taste is not good. Never recommend this to anyone'), ('Rated 1.0', 'RATED\\n  it says 2 dosas but 1 was sent.'), ('Rated 1.0', 'RATED\\n  not given......combo dosa.....'), ('Rated 5.0', 'RATED\\n  Nice taste'), ('Rated 1.0', 'RATED\\n  worst food taste.'), ('Rated 1.0', 'RATED\\n  Pathetic.. I had ordered for 2 masala dosa combo which includes 4 dosa and I have received only 2 dosas.. When I try to call the respective hotel person he is not responding properly.. Never ever order from here. Even the taste is not good. Never recommend this to anyone'), ('Rated 1.0', 'RATED\\n  it says 2 dosas but 1 was sent.'), ('Rated 1.0', 'RATED\\n  not given......combo dosa.....'), ('Rated 5.0', 'RATED\\n  Nice taste'), ('Rated 1.0', 'RATED\\n  worst food taste.'), ('Rated 1.0', 'RATED\\n  Pathetic.. I had ordered for 2 masala dosa combo which includes 4 dosa and I have received only 2 dosas.. When I try to call the respective hotel person he is not responding properly.. Never ever order from here. Even the taste is not good. Never recommend this to anyone'), ('Rated 1.0', 'RATED\\n  it says 2 dosas but 1 was sent.'), ('Rated 1.0', 'RATED\\n  not given......combo dosa.....'), ('Rated 5.0', 'RATED\\n  Nice taste'), ('Rated 5.0', 'RATED\\n  good and super fast delivery'), ('Rated 5.0', 'RATED\\n  Awesome'), ('Rated 5.0', 'RATED\\n  Good'), ('Rated 1.0', 'RATED\\n  Delivered wrong items'), ('Rated 5.0', 'RATED\\n  nice'), ('Rated 5.0', 'RATED\\n  good and super fast delivery'), ('Rated 5.0', 'RATED\\n  Awesome'), ('Rated 5.0', 'RATED\\n  Good'), ('Rated 1.0', 'RATED\\n  Delivered wrong items'), ('Rated 5.0', 'RATED\\n  nice'), ('Rated 5.0', 'RATED\\n  good and super fast delivery'), ('Rated 5.0', 'RATED\\n  Awesome'), ('Rated 5.0', 'RATED\\n  Good'), ('Rated 1.0', 'RATED\\n  Delivered wrong items'), ('Rated 5.0', 'RATED\\n  nice'), ('Rated 4.0', 'RATED\\n  super ok'), ('Rated 5.0', 'RATED\\n  very good'), ('Rated 5.0', 'RATED\\n  nice food'), ('Rated 3.0', 'RATED\\n  SPOON WAS NOT THERE AND PACKING OF TEA WAS NOT GOOD'), ('Rated 3.0', 'RATED\\n  I have not received rice bath ,'), ('Rated 4.0', 'RATED\\n  super ok'), ('Rated 5.0', 'RATED\\n  very good'), ('Rated 5.0', 'RATED\\n  nice food'), ('Rated 3.0', 'RATED\\n  SPOON WAS NOT THERE AND PACKING OF TEA WAS NOT GOOD'), ('Rated 3.0', 'RATED\\n  I have not received rice bath ,'), ('Rated 4.0', 'RATED\\n  super ok'), ('Rated 5.0', 'RATED\\n  very good'), ('Rated 5.0', 'RATED\\n  nice food'), ('Rated 3.0', 'RATED\\n  SPOON WAS NOT THERE AND PACKING OF TEA WAS NOT GOOD'), ('Rated 3.0', 'RATED\\n  I have not received rice bath ,'), ('Rated 4.0', 'RATED\\n  super ok'), ('Rated 5.0', 'RATED\\n  very good'), ('Rated 5.0', 'RATED\\n  nice food'), ('Rated 3.0', 'RATED\\n  SPOON WAS NOT THERE AND PACKING OF TEA WAS NOT GOOD'), ('Rated 3.0', 'RATED\\n  I have not received rice bath ,'), ('Rated 4.0', 'RATED\\n  Nice food, poori need to be hot'), ('Rated 5.0', 'RATED\\n  satisfied just the boost was fallen down'), ('Rated 1.0', 'RATED\\n  just grinded papaya that too sour in taste and delivered as papaya milkshake'), ('Rated 1.0', 'RATED\\n  it was cold and moist!! yuck!! waste of money'), ('Rated 5.0', 'RATED\\n  great taste'), ('Rated 4.0', 'RATED\\n  Nice food, poori need to be hot'), ('Rated 5.0', 'RATED\\n  satisfied just the boost was fallen down'), ('Rated 1.0', 'RATED\\n  just grinded papaya that too sour in taste and delivered as papaya milkshake'), ('Rated 1.0', 'RATED\\n  it was cold and moist!! yuck!! waste of money'), ('Rated 5.0', 'RATED\\n  great taste'), ('Rated 4.0', 'RATED\\n  Nice food, poori need to be hot'), ('Rated 5.0', 'RATED\\n  satisfied just the boost was fallen down'), ('Rated 1.0', 'RATED\\n  just grinded papaya that too sour in taste and delivered as papaya milkshake'), ('Rated 1.0', 'RATED\\n  it was cold and moist!! yuck!! waste of money'), ('Rated 5.0', 'RATED\\n  great taste'), ('Rated 4.0', 'RATED\\n  Nice food, poori need to be hot'), ('Rated 5.0', 'RATED\\n  satisfied just the boost was fallen down'), ('Rated 1.0', 'RATED\\n  just grinded papaya that too sour in taste and delivered as papaya milkshake'), ('Rated 1.0', 'RATED\\n  it was cold and moist!! yuck!! waste of money'), ('Rated 5.0', 'RATED\\n  great taste'), ('Rated 4.0', 'RATED\\n  Nice food, poori need to be hot'), ('Rated 5.0', 'RATED\\n  satisfied just the boost was fallen down'), ('Rated 1.0', 'RATED\\n  just grinded papaya that too sour in taste and delivered as papaya milkshake'), ('Rated 1.0', 'RATED\\n  it was cold and moist!! yuck!! waste of money'), ('Rated 5.0', 'RATED\\n  great taste'), ('Rated 3.0', 'RATED\\n  not up to the mark'), ('Rated 1.0', 'RATED\\n  Horrible taste. overpriced food. Cold coffee was cold water to be honest.'), ('Rated 1.0', 'RATED\\n  Bad condition they delivered.. All sambaru and dal are leaked in cover.'), ('Rated 5.0', 'RATED\\n  Excellent Service'), ('Rated 5.0', \"RATED\\n  The food here available is very good quality and also very tasty. I am always regular customer for this hotel. It's really maintained well and very clean. Regarding the rates it's very reasonable also. So overall it's a good restaurant to all food lovers\"), ('Rated 3.0', 'RATED\\n  not up to the mark'), ('Rated 1.0', 'RATED\\n  Horrible taste. overpriced food. Cold coffee was cold water to be honest.'), ('Rated 1.0', 'RATED\\n  Bad condition they delivered.. All sambaru and dal are leaked in cover.'), ('Rated 5.0', 'RATED\\n  Excellent Service'), ('Rated 5.0', \"RATED\\n  The food here available is very good quality and also very tasty. I am always regular customer for this hotel. It's really maintained well and very clean. Regarding the rates it's very reasonable also. So overall it's a good restaurant to all food lovers\"), ('Rated 3.0', 'RATED\\n  not up to the mark'), ('Rated 1.0', 'RATED\\n  Horrible taste. overpriced food. Cold coffee was cold water to be honest.'), ('Rated 1.0', 'RATED\\n  Bad condition they delivered.. All sambaru and dal are leaked in cover.'), ('Rated 5.0', 'RATED\\n  Excellent Service'), ('Rated 5.0', \"RATED\\n  The food here available is very good quality and also very tasty. I am always regular customer for this hotel. It's really maintained well and very clean. Regarding the rates it's very reasonable also. So overall it's a good restaurant to all food lovers\"), ('Rated 3.0', 'RATED\\n  not up to the mark'), ('Rated 1.0', 'RATED\\n  Horrible taste. overpriced food. Cold coffee was cold water to be honest.'), ('Rated 1.0', 'RATED\\n  Bad condition they delivered.. All sambaru and dal are leaked in cover.'), ('Rated 5.0', 'RATED\\n  Excellent Service'), ('Rated 5.0', \"RATED\\n  The food here available is very good quality and also very tasty. I am always regular customer for this hotel. It's really maintained well and very clean. Regarding the rates it's very reasonable also. So overall it's a good restaurant to all food lovers\"), ('Rated 4.0', 'RATED\\n  Small South Indian restaurant next to My office. One should stand and eat.if you love panner then definitely you should try \"panner in green pepper sauce\".it really tastes yummy.panner pepper dry which they serve is equally good.\\n\\nUpdate- Today Tried baby corn lollipop here and it was lip. Smacking.')]",
         "[]",
         "Cafes",
         "Banashankari"
        ],
        [
         "27",
         "https://www.zomato.com/bangalore/sea-green-cafe-1-banashankari-bangalore?context=eyJzZSI6eyJlIjpbIjYwOTE5IiwiMTgzOTY3NjAiLCIxODU5MzUxOSIsIjE4NTAwMDIwIiwxODg0NDI2MCwiNTc5OTQiLCI1NTA5MCIsIjU3NDM1Il0sInQiOiJDYWZcdTAwZTlzIGFuZCBEZWxpcyBpbiBCYW5hc2hhbmthcmkifX0=",
         "1036, Srinidhi Plaza, 3rd floor, Above Nilgiris, Stage 2, Banashankari, Bangalore",
         "Sea Green Cafe",
         "No",
         "No",
         "3.3/5",
         "4",
         "+91 9008628448",
         "Banashankari",
         "Cafe",
         null,
         "Cafe, Fast Food, Beverages",
         "500",
         "[('Rated 5.0', 'RATED\\n  Newly opened cafe near KIMS Medical College.\\nSpacious and pleasant ambiance.\\nMust try Chicken Pakoda and Crispy Fried Chicken.\\nSheesha happy hours offers are good and affordable.')]",
         "[]",
         "Cafes",
         "Banashankari"
        ],
        [
         "28",
         "https://www.zomato.com/bangalore/cuppa-1-banashankari?context=eyJzZSI6eyJlIjpbIjE4Mzk2NzYwIiwiMTg1OTM1MTkiLCIxODUwMDAyMCIsIjE4ODQ0MjYwIiw1Nzk5NCwiNTUwOTAiLCI1NzQzNSJdLCJ0IjoiQ2FmXHUwMGU5cyBhbmQgRGVsaXMgaW4gQmFuYXNoYW5rYXJpIn19",
         "940, Shantha Complex, 20th Main, 2nd Stage, Banashankari, Bangalore",
         "Cuppa",
         "No",
         "No",
         "3.3/5",
         "23",
         "+91 9591111123",
         "Banashankari",
         "Cafe",
         null,
         "Cafe, Fast Food",
         "550",
         "[('Rated 1.5', 'RATED\\n  This place was good to hangout when it was new. Now it has nothing to it more than a bunch of regulars smoking their lungs out and some noisy college students playing pool.\\nBeware of the roaches here.\\nConclusion is, bad coffee, no ambiance, too noisy and mostly nothing to eat.'), ('Rated 3.5', \"RATED\\n  Probably this is the only cafe which hardly has customers. I've visited this particular outlet about 3-4 times and everytime not more than 2-3 tables are ever occupied.\\nHave tried their coffee, corn spinach sandwich and mango smoothie.\\nKappa is not very expensive as compared to it's competitors.\\nService was good. However, they had burnt our sandwich. But replaced it immediately without any argument.\"), ('Rated 5.0', 'RATED\\n  Coffee, Nachos, Greenwave Sandwich, Paneer Sandwich are some of all time favorites. Basket of fries is amazing. No hassle parking available. Nice courteous staff.'), ('Rated 3.0', \"RATED\\n  Not a huge fan of the ambience. Esp, when it's sunny n the dry wind kills you at noon, this is the last place on earth I wanna sit n dine . Been here a couple of times. Very courteous n attentive staff though. Quick service as well. Love their Chicken Tikka sandwich. They have a good range of quick bites as well, esp the potato wedges being a favorite. Plus used to like their Lasagna pretty much, with all that spicy, juicy meat stuffed in.\"), ('Rated 3.0', \"RATED\\n  I never used to like this branch of Cuppa. The tea they serve tastes weird. Their donuts are extremely hard and etc.\\nBut after they have started off with hookah, I've started frequenting it. The hookah you get here is one of the best in South Bangalore.\\nIt'd be a better place if their snack ons are paid more attention to, by the chefs.\"), ('Rated 3.0', 'RATED\\n  Ordered cold coffee and sandwich and espresso . Sandwich was average ,espresso and cold coffee were good.\\n\\n\\nAmbiance 3.5/5\\nFood quality 3/5\\nService 3.5/5\\nOverall 3 / 5')]",
         "[]",
         "Cafes",
         "Banashankari"
        ],
        [
         "29",
         "https://www.zomato.com/bangalore/srinathjis-cafe-basavanagudi?context=eyJzZSI6eyJlIjpbIjE4NTkzNTE5IiwiMTg1MDAwMjAiLCIxODg0NDI2MCIsIjU3OTk0Iiw1NTA5MCwiNTc0MzUiXSwidCI6IkNhZlx1MDBlOXMgYW5kIERlbGlzIGluIEJhbmFzaGFua2FyaSJ9fQ==",
         "112, Bull Temple Road,next to more Basavanagudi, Bangalore",
         "Srinathji's Cafe",
         "No",
         "No",
         "3.8/5",
         "148",
         "080 26600704\r\n+91 9342593424",
         "Basavanagudi",
         "Casual Dining, Cafe",
         "Paratha, Sandwich, Chilli Idli, Noodles, Sandwiches, Lime Soda",
         "North Indian, Cafe, Chinese, Fast Food",
         "550",
         "[('Rated 5.0', 'RATED\\n  No words for the paneer...one of the few places where u get authentic paneer dishes... Hotel staff are really good and the food quality is very very good...\\n\\nParking : 2 wheeler and 4 wheeler available\\nPayment mode : Cash and card\\nNext time will try out pastries !!!')]",
         "[]",
         "Cafes",
         "Banashankari"
        ],
        [
         "30",
         "https://www.zomato.com/bangalore/redberrys-basavanagudi?context=eyJzZSI6eyJlIjpbIjE4NTAwMDIwIiwiMTg4NDQyNjAiLCI1Nzk5NCIsIjU1MDkwIiw1NzQzNV0sInQiOiJDYWZcdTAwZTlzIGFuZCBEZWxpcyBpbiBCYW5hc2hhbmthcmkifX0=",
         "30, Surveyor Street, DVG Road, Basavanagudi, Bangalore",
         "Redberrys",
         "Yes",
         "No",
         "4.0/5",
         "219",
         "+91 9148421256",
         "Basavanagudi",
         "Cafe",
         "Pizza, Fries, Anjeer Ice Cream, Sandwiches, Gelato, Burgers, Kesar Badam",
         "Cafe, Italian",
         "600",
         "[('Rated 4.0', \"RATED\\n  Redberrys will provideswonderful ice cream flavours and some tasty delights to fill up your tummy with the italian touch friendly staff's quick response towards the customer food in redberrys were good and tasty we loved the pizzas that they serve nice place to hangout with friends one of the best place to jump in\"), ('Rated 4.0', 'RATED\\n  ItÃ\\x83Ã\\x83Ã\\x82Ã\\x82Ã\\x83Ã\\x82Ã\\x82Ã\\x92s a place for having Gelato, not Ice creams!!! They have quite good variety of fresh gelatos. They are known for gelatos, although they have started serving Burgers, Pizza, Pasta now, Pastries & cakes. But I prefer this place for gelato, they are made fresh, very tasty and prices are nominal. The location of the cafe is on the busy DVG Road, some of the gelato flavorÃ\\x83Ã\\x83Ã\\x82Ã\\x82Ã\\x83Ã\\x82Ã\\x82Ã\\x92s which I liked are Bramhins coffee, Belgian Chocolate, Oreo Blast, French Vanilla and Bubble gum. The pricing of their geltos are priced very economically and offer value for money. I didnÃ\\x83Ã\\x83Ã\\x82Ã\\x82Ã\\x83Ã\\x82Ã\\x82Ã\\x92t try other offerings, so I wonÃ\\x83Ã\\x83Ã\\x82Ã\\x82Ã\\x83Ã\\x82Ã\\x82Ã\\x92t be able to comment on the same :-). They also take orders for cakes and pastries. The place is neatly maintained, hygienic has seating arrangements for 15-20 people. Decent ambience,  One can visit this place and enjoy their Italian Gelatos'), ('Rated 5.0', \"RATED\\n  1) pizza. shake and salad very nice\\n2) location of red Barry's very nice\\n3) staff good\\n4) over all redberrys very nice places.. cool & simple places to enjoy evening with group of friends nice\"), ('Rated 5.0', \"RATED\\n  I stopped by this place when I saw the board on it's door saying they have a buy one get one free offer. When I went in, the place seemed ok, not a big cafe, just a small shop with some seating arrangement and air-conditioning.\\nFood: I ordered a paneer and bell pepper pizza, Joe's burger, a Alfredo penne pasta and a farmhouse pizza. EVERY SINGLE DISH WAS AMAZING. They were fully fresh, extremely authentic taste and super budget friendly!! I also ordered a chocolate cake with Snickers ice cream. That was brilliant too.\\nI'm Definitely come here again. If you guys are on a tight budget and want to eat amazing food, do come here!\")]",
         "[]",
         "Cafes",
         "Banashankari"
        ],
        [
         "31",
         "https://www.zomato.com/bangalore/foodiction-1-banashankari?context=eyJzZSI6eyJlIjpbNTc2MDEsIjE4NTUxNzA3IiwiMTg0NTc2MDYiLCI1OTA4NiIsIjE4MzU5OTE4IiwiMTg2MTgzNDMiLCI1NzMyNSIsIjU1Mzk3IiwiMTg1NjMwOTciLCI1Njg4MyIsIjE4MzA3ODA2Il0sInQiOiJEZWxpdmVyeSBSZXN0YXVyYW50cyBpbiBCYW5hc2hhbmthcmkifX0=",
         "2/1, 7th Main, Dwarakangar, Hosakeregalli, Banashankari, Bangalore",
         "Foodiction",
         "Yes",
         "No",
         "2.8/5",
         "506",
         "+91 9916107070",
         "Banashankari",
         "Quick Bites",
         "Burgers, Lassi, Chicken Grill, Naan, Momos, Chicken Burger, Biryani",
         "North Indian, Fast Food, Chinese, Burger",
         "500",
         "[('Rated 1.0', \"RATED\\n  Worst restaurant ever , Veg Manchurian worth ?130 doesn't even fill a tiny cup size. DO NOT order food fro. this place is a rip off with no regard for the money they charge.\\nWorst restaurant even for zomato.\"), ('Rated 1.0', \"RATED\\n  I'm very sorry to say that you people lack in hygiene I can upload the photo of biryani rice which I ordered just now having a small cockroach in it.it was really disgusting and I'll surely not order anything or recommend anything from your restaurant but please maintain hygiene for the customer who comes to you .I won't say anything about taste as the portion what I ate was good but I became completely disappointed when I saw a dead baby cockroach.\"), ('Rated 1.0', 'RATED\\n  The worst ever chicken biriyani I ordered, it was just plain chicken fried rice with one piece of chicken and believe me it was pathetic, kindly do not order again from here, be hungry for the night but never ever refer foodiction.'), ('Rated 4.0', \"RATED\\n  Dear Team I'm unable to order at late night before it was to good in foodpanda can you suggest me how to place a order in late nights.\\n\\nPls improve in food contunty and quality\"), ('Rated 5.0', 'RATED\\n  Good'), ('Rated 1.0', 'RATED\\n  worst food'), ('Rated 1.0', 'RATED\\n  worst food'), ('Rated 1.0', 'RATED\\n  only one small chicken piece..... zomato fooled showing a big ball of masala as chicken where as it had only one small chicken piece with bone. that is not at all considerd as chicken biryani.'), ('Rated 1.0', 'RATED\\n  the panner was tasteless and very hard'), ('Rated 1.0', 'RATED\\n  Very bad food'), ('Rated 1.0', 'RATED\\n  pathetic food.'), ('Rated 2.0', 'RATED\\n  chocolate milk shake was not at all upto the mark.It didnt taste much like chocolate.Moreover it was tadting like bournveeta.'), ('Rated 5.0', 'RATED\\n  nice'), ('Rated 1.0', 'RATED\\n  I had throw all the French fries that I ordered as it was burnt. The type oil they used is really degraded in terms of like they are using the same oil all the fried items.\\n\\nReally pissed of with the food.'), ('Rated 1.0', 'RATED\\n  This restaurant includes a coke in its combos but fails to give ........ and cheats u without giving what was promised'), ('Rated 2.0', 'RATED\\n  food was not tasty'), ('Rated 1.0', 'RATED\\n  not good'), ('Rated 2.0', \"RATED\\n  it's all gone melt.the ice went to milkshake\"), ('Rated 5.0', 'RATED\\n  v good'), ('Rated 1.0', 'RATED\\n  received the order really late!!! upset.'), ('Rated 2.0', 'RATED\\n  food was not tasty'), ('Rated 1.0', 'RATED\\n  not good'), ('Rated 2.0', \"RATED\\n  it's all gone melt.the ice went to milkshake\"), ('Rated 5.0', 'RATED\\n  v good'), ('Rated 1.0', 'RATED\\n  received the order really late!!! upset.'), ('Rated 2.0', 'RATED\\n  food was not tasty'), ('Rated 1.0', 'RATED\\n  not good'), ('Rated 2.0', \"RATED\\n  it's all gone melt.the ice went to milkshake\"), ('Rated 5.0', 'RATED\\n  v good'), ('Rated 1.0', 'RATED\\n  received the order really late!!! upset.'), ('Rated 2.0', 'RATED\\n  food was not tasty'), ('Rated 1.0', 'RATED\\n  not good'), ('Rated 2.0', \"RATED\\n  it's all gone melt.the ice went to milkshake\"), ('Rated 5.0', 'RATED\\n  v good'), ('Rated 1.0', 'RATED\\n  received the order really late!!! upset.'), ('Rated 2.0', 'RATED\\n  food was not tasty'), ('Rated 1.0', 'RATED\\n  not good'), ('Rated 2.0', \"RATED\\n  it's all gone melt.the ice went to milkshake\"), ('Rated 5.0', 'RATED\\n  v good'), ('Rated 1.0', 'RATED\\n  received the order really late!!! upset.'), ('Rated 2.0', 'RATED\\n  food was not tasty'), ('Rated 1.0', 'RATED\\n  not good'), ('Rated 2.0', \"RATED\\n  it's all gone melt.the ice went to milkshake\"), ('Rated 5.0', 'RATED\\n  v good'), ('Rated 1.0', 'RATED\\n  received the order really late!!! upset.'), ('Rated 2.0', 'RATED\\n  food was not tasty'), ('Rated 1.0', 'RATED\\n  not good'), ('Rated 2.0', \"RATED\\n  it's all gone melt.the ice went to milkshake\"), ('Rated 5.0', 'RATED\\n  v good'), ('Rated 1.0', 'RATED\\n  received the order really late!!! upset.'), ('Rated 2.0', 'RATED\\n  food was not tasty'), ('Rated 1.0', 'RATED\\n  not good'), ('Rated 2.0', \"RATED\\n  it's all gone melt.the ice went to milkshake\"), ('Rated 5.0', 'RATED\\n  v good'), ('Rated 1.0', 'RATED\\n  received the order really late!!! upset.'), ('Rated 2.0', 'RATED\\n  food was not tasty'), ('Rated 1.0', 'RATED\\n  not good'), ('Rated 2.0', \"RATED\\n  it's all gone melt.the ice went to milkshake\"), ('Rated 5.0', 'RATED\\n  v good'), ('Rated 1.0', 'RATED\\n  received the order really late!!! upset.'), ('Rated 2.0', 'RATED\\n  food was not tasty'), ('Rated 1.0', 'RATED\\n  not good'), ('Rated 2.0', \"RATED\\n  it's all gone melt.the ice went to milkshake\"), ('Rated 5.0', 'RATED\\n  v good'), ('Rated 1.0', 'RATED\\n  received the order really late!!! upset.'), ('Rated 5.0', 'RATED\\n  ygvn'), ('Rated 1.0', 'RATED\\n  fries were stale'), ('Rated 3.0', 'RATED\\n  There is no authenticity in the food items.'), ('Rated 1.0', 'RATED\\n  ordered 2 items, only one got delivered.'), ('Rated 5.0', 'RATED\\n  good food. please provide some tissues next time. everything else is fine'), ('Rated 5.0', 'RATED\\n  ygvn'), ('Rated 1.0', 'RATED\\n  fries were stale'), ('Rated 3.0', 'RATED\\n  There is no authenticity in the food items.'), ('Rated 1.0', 'RATED\\n  ordered 2 items, only one got delivered.'), ('Rated 5.0', 'RATED\\n  good food. please provide some tissues next time. everything else is fine'), ('Rated 5.0', 'RATED\\n  ygvn'), ('Rated 1.0', 'RATED\\n  fries were stale'), ('Rated 3.0', 'RATED\\n  There is no authenticity in the food items.'), ('Rated 1.0', 'RATED\\n  ordered 2 items, only one got delivered.'), ('Rated 5.0', 'RATED\\n  good food. please provide some tissues next time. everything else is fine'), ('Rated 5.0', 'RATED\\n  ygvn'), ('Rated 1.0', 'RATED\\n  fries were stale'), ('Rated 3.0', 'RATED\\n  There is no authenticity in the food items.'), ('Rated 1.0', 'RATED\\n  ordered 2 items, only one got delivered.'), ('Rated 5.0', 'RATED\\n  good food. please provide some tissues next time. everything else is fine'), ('Rated 3.0', 'RATED\\n  Not bad.. k'), ('Rated 1.0', 'RATED\\n  Food sucks.. specially veg biryani.. it was yukkk.. worst i ever had'), ('Rated 5.0', 'RATED\\n  very good excelent rider'), ('Rated 1.0', 'RATED\\n  The food was too spicy and was not edible to eat'), ('Rated 1.0', 'RATED\\n  I got a hair in my food. very unsatisfied.'), ('Rated 3.0', 'RATED\\n  Not bad.. k'), ('Rated 1.0', 'RATED\\n  Food sucks.. specially veg biryani.. it was yukkk.. worst i ever had'), ('Rated 5.0', 'RATED\\n  very good excelent rider'), ('Rated 1.0', 'RATED\\n  The food was too spicy and was not edible to eat'), ('Rated 1.0', 'RATED\\n  I got a hair in my food. very unsatisfied.'), ('Rated 3.0', 'RATED\\n  Not bad.. k'), ('Rated 1.0', 'RATED\\n  Food sucks.. specially veg biryani.. it was yukkk.. worst i ever had'), ('Rated 5.0', 'RATED\\n  very good excelent rider'), ('Rated 1.0', 'RATED\\n  The food was too spicy and was not edible to eat'), ('Rated 1.0', 'RATED\\n  I got a hair in my food. very unsatisfied.'), ('Rated 3.0', 'RATED\\n  Not bad.. k'), ('Rated 1.0', 'RATED\\n  Food sucks.. specially veg biryani.. it was yukkk.. worst i ever had'), ('Rated 5.0', 'RATED\\n  very good excelent rider'), ('Rated 1.0', 'RATED\\n  The food was too spicy and was not edible to eat'), ('Rated 1.0', 'RATED\\n  I got a hair in my food. very unsatisfied.'), ('Rated 3.0', 'RATED\\n  Not bad.. k'), ('Rated 1.0', 'RATED\\n  Food sucks.. specially veg biryani.. it was yukkk.. worst i ever had'), ('Rated 5.0', 'RATED\\n  very good excelent rider'), ('Rated 1.0', 'RATED\\n  The food was too spicy and was not edible to eat'), ('Rated 1.0', 'RATED\\n  I got a hair in my food. very unsatisfied.'), ('Rated 3.0', 'RATED\\n  Not bad.. k'), ('Rated 1.0', 'RATED\\n  Food sucks.. specially veg biryani.. it was yukkk.. worst i ever had'), ('Rated 5.0', 'RATED\\n  very good excelent rider'), ('Rated 1.0', 'RATED\\n  The food was too spicy and was not edible to eat'), ('Rated 1.0', 'RATED\\n  I got a hair in my food. very unsatisfied.'), ('Rated 1.0', 'RATED\\n  quality bad'), ('Rated 2.0', 'RATED\\n  Food is not that great. Rice was really bad.'), ('Rated 5.0', 'RATED\\n  very nice person good delivery'), ('Rated 1.0', \"RATED\\n  Delivery man don't even know the place even after telling him the router even after 5 times very bad\"), ('Rated 1.0', 'RATED\\n  Worst service ever.. never ever order from this restaurant.'), ('Rated 1.0', 'RATED\\n  quality bad'), ('Rated 2.0', 'RATED\\n  Food is not that great. Rice was really bad.'), ('Rated 5.0', 'RATED\\n  very nice person good delivery'), ('Rated 1.0', \"RATED\\n  Delivery man don't even know the place even after telling him the router even after 5 times very bad\"), ('Rated 1.0', 'RATED\\n  Worst service ever.. never ever order from this restaurant.'), ('Rated 1.0', 'RATED\\n  quality bad'), ('Rated 2.0', 'RATED\\n  Food is not that great. Rice was really bad.'), ('Rated 5.0', 'RATED\\n  very nice person good delivery'), ('Rated 1.0', \"RATED\\n  Delivery man don't even know the place even after telling him the router even after 5 times very bad\"), ('Rated 1.0', 'RATED\\n  Worst service ever.. never ever order from this restaurant.'), ('Rated 1.0', 'RATED\\n  quality bad'), ('Rated 2.0', 'RATED\\n  Food is not that great. Rice was really bad.'), ('Rated 5.0', 'RATED\\n  very nice person good delivery'), ('Rated 1.0', \"RATED\\n  Delivery man don't even know the place even after telling him the router even after 5 times very bad\"), ('Rated 1.0', 'RATED\\n  Worst service ever.. never ever order from this restaurant.'), ('Rated 1.0', 'RATED\\n  quality bad'), ('Rated 2.0', 'RATED\\n  Food is not that great. Rice was really bad.'), ('Rated 5.0', 'RATED\\n  very nice person good delivery'), ('Rated 1.0', \"RATED\\n  Delivery man don't even know the place even after telling him the router even after 5 times very bad\"), ('Rated 1.0', 'RATED\\n  Worst service ever.. never ever order from this restaurant.'), ('Rated 3.0', 'RATED\\n  gravy was not good'), ('Rated 1.0', 'RATED\\n  worst food ever taste,have ordered kofta and they send me suji mix with bread pakoda.he should be correct their quality,I would be more happy if any one can take action daal tadka was like rasam so'), ('Rated 5.0', \"RATED\\n  It's the second time I have ordered from the same place .... which I rarely do ?? but I am really happy and satisfied... ??\"), ('Rated 1.0', 'RATED\\n  I ordered something else'), ('Rated 2.0', 'RATED\\n  Place is good for having aloo Paratha only. Rest of other dishes are kind of worst version of themselves. This place is near the college but still has only few customers.'), ('Rated 3.0', 'RATED\\n  gravy was not good'), ('Rated 1.0', 'RATED\\n  worst food ever taste,have ordered kofta and they send me suji mix with bread pakoda.he should be correct their quality,I would be more happy if any one can take action daal tadka was like rasam so'), ('Rated 5.0', \"RATED\\n  It's the second time I have ordered from the same place .... which I rarely do ?? but I am really happy and satisfied... ??\"), ('Rated 1.0', 'RATED\\n  I ordered something else'), ('Rated 2.0', 'RATED\\n  Place is good for having aloo Paratha only. Rest of other dishes are kind of worst version of themselves. This place is near the college but still has only few customers.'), ('Rated 3.0', 'RATED\\n  gravy was not good'), ('Rated 1.0', 'RATED\\n  worst food ever taste,have ordered kofta and they send me suji mix with bread pakoda.he should be correct their quality,I would be more happy if any one can take action daal tadka was like rasam so'), ('Rated 5.0', \"RATED\\n  It's the second time I have ordered from the same place .... which I rarely do ?? but I am really happy and satisfied... ??\"), ('Rated 1.0', 'RATED\\n  I ordered something else'), ('Rated 2.0', 'RATED\\n  Place is good for having aloo Paratha only. Rest of other dishes are kind of worst version of themselves. This place is near the college but still has only few customers.'), ('Rated 1.0', 'RATED\\n  worst food ever'), ('Rated 5.0', 'RATED\\n  nice and on time'), ('Rated 3.0', 'RATED\\n  Nice'), ('Rated 1.0', 'RATED\\n  Not worth it'), ('Rated 5.0', 'RATED\\n  Yummm ?'), ('Rated 1.0', 'RATED\\n  worst food ever'), ('Rated 5.0', 'RATED\\n  nice and on time'), ('Rated 3.0', 'RATED\\n  Nice'), ('Rated 1.0', 'RATED\\n  Not worth it'), ('Rated 5.0', 'RATED\\n  Yummm ?'), ('Rated 1.0', 'RATED\\n  worst food ever'), ('Rated 5.0', 'RATED\\n  nice and on time'), ('Rated 3.0', 'RATED\\n  Nice'), ('Rated 1.0', 'RATED\\n  Not worth it'), ('Rated 5.0', 'RATED\\n  Yummm ?'), ('Rated 1.0', 'RATED\\n  worst food ever'), ('Rated 5.0', 'RATED\\n  nice and on time'), ('Rated 3.0', 'RATED\\n  Nice'), ('Rated 1.0', 'RATED\\n  Not worth it'), ('Rated 5.0', 'RATED\\n  Yummm ?'), ('Rated 4.0', 'RATED\\n  good'), ('Rated 1.0', 'RATED\\n  burnt food'), ('Rated 2.0', 'RATED\\n  Food was not tat gud'), ('Rated 5.0', 'RATED\\n  awesome'), ('Rated 1.0', 'RATED\\n  worst too late'), ('Rated 4.0', 'RATED\\n  good'), ('Rated 1.0', 'RATED\\n  burnt food'), ('Rated 2.0', 'RATED\\n  Food was not tat gud'), ('Rated 5.0', 'RATED\\n  awesome'), ('Rated 1.0', 'RATED\\n  worst too late'), ('Rated 1.0', 'RATED\\n  it was different onwhat I ordered'), ('Rated 1.0', 'RATED\\n  bad choice never feel back to order worst food i had to waste the foid by not having it'), ('Rated 1.0', 'RATED\\n  worst veg platter ever. whatever is that potato thing u put in it. '), ('Rated 5.0', 'RATED\\n  It was good'), ('Rated 5.0', 'RATED\\n  good'), ('Rated 1.0', 'RATED\\n  it was different onwhat I ordered'), ('Rated 1.0', 'RATED\\n  bad choice never feel back to order worst food i had to waste the foid by not having it'), ('Rated 1.0', 'RATED\\n  worst veg platter ever. whatever is that potato thing u put in it. '), ('Rated 5.0', 'RATED\\n  It was good'), ('Rated 5.0', 'RATED\\n  good'), ('Rated 1.0', 'RATED\\n  very bad packing.....food quality is not good'), ('Rated 4.0', 'RATED\\n  U guys must increase rice quantity'), ('Rated 5.0', 'RATED\\n  Super'), ('Rated 5.0', 'RATED\\n  Very good service. Got my order delivered in less than 25 minutes.'), ('Rated 1.0', 'RATED\\n  There is no chicken khabab instead there is onion pokoda'), ('Rated 1.0', 'RATED\\n  very bad packing.....food quality is not good'), ('Rated 4.0', 'RATED\\n  U guys must increase rice quantity'), ('Rated 5.0', 'RATED\\n  Super'), ('Rated 5.0', 'RATED\\n  Very good service. Got my order delivered in less than 25 minutes.'), ('Rated 1.0', 'RATED\\n  There is no chicken khabab instead there is onion pokoda'), ('Rated 5.0', 'RATED\\n  Good'), ('Rated 2.0', 'RATED\\n  Food was not hot. Biriyani was tasteless. the gravy given was spoiled. however chicken tikka was really good.'), ('Rated 5.0', 'RATED\\n  nice'), ('Rated 1.0', 'RATED\\n  worst biriyani ever had.'), ('Rated 5.0', 'RATED\\n  good'), ('Rated 5.0', 'RATED\\n  Good'), ('Rated 2.0', 'RATED\\n  Food was not hot. Biriyani was tasteless. the gravy given was spoiled. however chicken tikka was really good.'), ('Rated 5.0', 'RATED\\n  nice'), ('Rated 1.0', 'RATED\\n  worst biriyani ever had.'), ('Rated 5.0', 'RATED\\n  good'), ('Rated 5.0', 'RATED\\n  Good'), ('Rated 5.0', 'RATED\\n  nice'), ('Rated 5.0', 'RATED\\n  very nice recommended...late night support any time???'), ('Rated 1.0', 'RATED\\n  no I remember put in the sundae'), ('Rated 3.0', 'RATED\\n  It took over an hour for rice and fulka.'), ('Rated 5.0', 'RATED\\n  Tasty food delivered on time... Super'), ('Rated 4.0', 'RATED\\n  i'), ('Rated 5.0', 'RATED\\n  Perfect taste and on time delivery'), ('Rated 2.0', 'RATED\\n  T'), ('Rated 1.0', 'RATED\\n  the wrost food ever ...'), ('Rated 5.0', 'RATED\\n  Tasty food delivered on time... Super'), ('Rated 4.0', 'RATED\\n  i'), ('Rated 5.0', 'RATED\\n  Perfect taste and on time delivery'), ('Rated 2.0', 'RATED\\n  T'), ('Rated 1.0', 'RATED\\n  the wrost food ever ...'), ('Rated 5.0', 'RATED\\n  I am happy with the food quality and delivery on time.'), ('Rated 5.0', 'RATED\\n  awesome food available at night.. tandoorii fried too good.kudos.'), ('Rated 5.0', 'RATED\\n  best food ever.'), ('Rated 1.0', 'RATED\\n  delivery guy is not proper'), ('Rated 4.0', 'RATED\\n  gud'), ('Rated 5.0', 'RATED\\n  I am happy with the food quality and delivery on time.'), ('Rated 5.0', 'RATED\\n  awesome food available at night.. tandoorii fried too good.kudos.'), ('Rated 5.0', 'RATED\\n  best food ever.'), ('Rated 1.0', 'RATED\\n  delivery guy is not proper'), ('Rated 4.0', 'RATED\\n  gud'), ('Rated 5.0', 'RATED\\n  I am happy with the food quality and delivery on time.'), ('Rated 5.0', 'RATED\\n  awesome food available at night.. tandoorii fried too good.kudos.'), ('Rated 5.0', 'RATED\\n  best food ever.'), ('Rated 1.0', 'RATED\\n  delivery guy is not proper'), ('Rated 4.0', 'RATED\\n  gud'), ('Rated 1.0', 'RATED\\n  the packet was open'), ('Rated 5.0', 'RATED\\n  fantastic food... just loved everything about these folks ! keep rocking you guys ?'), ('Rated 1.0', 'RATED\\n  ice cream missing'), ('Rated 1.0', 'RATED\\n  u people cancelled my order and didnt refund'), ('Rated 2.0', 'RATED\\n  too oily'), ('Rated 1.0', 'RATED\\n  the packet was open'), ('Rated 5.0', 'RATED\\n  fantastic food... just loved everything about these folks ! keep rocking you guys ?'), ('Rated 1.0', 'RATED\\n  ice cream missing'), ('Rated 1.0', 'RATED\\n  u people cancelled my order and didnt refund'), ('Rated 2.0', 'RATED\\n  too oily'), ('Rated 1.0', 'RATED\\n  the packet was open'), ('Rated 5.0', 'RATED\\n  fantastic food... just loved everything about these folks ! keep rocking you guys ?'), ('Rated 1.0', 'RATED\\n  ice cream missing'), ('Rated 1.0', 'RATED\\n  u people cancelled my order and didnt refund'), ('Rated 2.0', 'RATED\\n  too oily'), ('Rated 1.0', 'RATED\\n  the packet was open'), ('Rated 5.0', 'RATED\\n  fantastic food... just loved everything about these folks ! keep rocking you guys ?'), ('Rated 1.0', 'RATED\\n  ice cream missing'), ('Rated 1.0', 'RATED\\n  u people cancelled my order and didnt refund'), ('Rated 2.0', 'RATED\\n  too oily'), ('Rated 1.0', 'RATED\\n  the packet was open'), ('Rated 5.0', 'RATED\\n  fantastic food... just loved everything about these folks ! keep rocking you guys ?'), ('Rated 1.0', 'RATED\\n  ice cream missing'), ('Rated 1.0', 'RATED\\n  u people cancelled my order and didnt refund'), ('Rated 2.0', 'RATED\\n  too oily'), ('Rated 3.0', 'RATED\\n  delivered late and not hot.'), ('Rated 1.0', 'RATED\\n  it was not good at all'), ('Rated 2.0', 'RATED\\n  bakwas khanna'), ('Rated 1.0', 'RATED\\n  bad food!! unhygienic and unhealthy'), ('Rated 3.0', 'RATED\\n  n'), ('Rated 3.0', 'RATED\\n  delivered late and not hot.'), ('Rated 1.0', 'RATED\\n  it was not good at all'), ('Rated 2.0', 'RATED\\n  bakwas khanna'), ('Rated 1.0', 'RATED\\n  bad food!! unhygienic and unhealthy'), ('Rated 3.0', 'RATED\\n  n'), ('Rated 5.0', 'RATED\\n  Good and delicious'), ('Rated 1.0', \"RATED\\n  please don't even order the food was terible, burger was horrible even an fast-food chain would have better burgers and the chicken 65 tasted nothing like chicken 65. They did not even deliver the dips wich was supposed to come with the burger.\\nThe only advantage is it is available at late nights.\"), ('Rated 4.0', 'RATED\\n  good food and average delivery time'), ('Rated 1.0', 'RATED\\n  bad food'), ('Rated 1.0', 'RATED\\n  The worst\\ni have ordered Lassi and it was like buttermilk consistansy. the taste was worst.'), ('Rated 5.0', 'RATED\\n  Good and delicious'), ('Rated 1.0', \"RATED\\n  please don't even order the food was terible, burger was horrible even an fast-food chain would have better burgers and the chicken 65 tasted nothing like chicken 65. They did not even deliver the dips wich was supposed to come with the burger.\\nThe only advantage is it is available at late nights.\"), ('Rated 4.0', 'RATED\\n  good food and average delivery time'), ('Rated 1.0', 'RATED\\n  bad food'), ('Rated 1.0', 'RATED\\n  The worst\\ni have ordered Lassi and it was like buttermilk consistansy. the taste was worst.'), ('Rated 3.0', 'RATED\\n  Salt was less in paneer rice'), ('Rated 4.0', 'RATED\\n  Good Service. Comparatively less delivery time.'), ('Rated 3.0', 'RATED\\n  not bad but cost was high'), ('Rated 1.0', \"RATED\\n  one of the worst chicken fried rice I've ever had. The dish was light red in color filled with poorly cut vegetables and no count on the number of chilies or be it any other spices in the dish. This kind of service is clearly not what we expect to be on Zomato.\"), ('Rated 5.0', 'RATED\\n  best'), ('Rated 3.0', 'RATED\\n  Salt was less in paneer rice'), ('Rated 4.0', 'RATED\\n  Good Service. Comparatively less delivery time.'), ('Rated 3.0', 'RATED\\n  not bad but cost was high'), ('Rated 1.0', \"RATED\\n  one of the worst chicken fried rice I've ever had. The dish was light red in color filled with poorly cut vegetables and no count on the number of chilies or be it any other spices in the dish. This kind of service is clearly not what we expect to be on Zomato.\"), ('Rated 5.0', 'RATED\\n  best'), ('Rated 3.0', 'RATED\\n  Salt was less in paneer rice'), ('Rated 4.0', 'RATED\\n  Good Service. Comparatively less delivery time.'), ('Rated 3.0', 'RATED\\n  not bad but cost was high'), ('Rated 1.0', \"RATED\\n  one of the worst chicken fried rice I've ever had. The dish was light red in color filled with poorly cut vegetables and no count on the number of chilies or be it any other spices in the dish. This kind of service is clearly not what we expect to be on Zomato.\"), ('Rated 5.0', 'RATED\\n  best'), ('Rated 1.0', \"RATED\\n  they don't deliver on time .\"), ('Rated 1.0', \"RATED\\n  the food wasn't delivered. after 2 hours someone from zomato called and said food won't be delivered.\"), ('Rated 4.0', 'RATED\\n  Would be even better if they can deliver food a little sooner'), ('Rated 5.0', 'RATED\\n  awesome'), ('Rated 1.0', 'RATED\\n  lassi I ordered was subpar at best and was very thin . Taste was also sour.'), ('Rated 1.0', \"RATED\\n  they don't deliver on time .\"), ('Rated 1.0', \"RATED\\n  the food wasn't delivered. after 2 hours someone from zomato called and said food won't be delivered.\"), ('Rated 4.0', 'RATED\\n  Would be even better if they can deliver food a little sooner'), ('Rated 5.0', 'RATED\\n  awesome'), ('Rated 1.0', 'RATED\\n  lassi I ordered was subpar at best and was very thin . Taste was also sour.'), ('Rated 2.0', 'RATED\\n  Delivery was quite late.. And quality of food is best.. For quality and taste I give 5'), ('Rated 1.0', 'RATED\\n  Lassi was ripen'), ('Rated 4.0', 'RATED\\n  good'), ('Rated 1.0', 'RATED\\n  Rotten food'), ('Rated 1.0', 'RATED\\n  cold food received and worst service'), ('Rated 2.0', 'RATED\\n  Delivery was quite late.. And quality of food is best.. For quality and taste I give 5'), ('Rated 1.0', 'RATED\\n  Lassi was ripen'), ('Rated 4.0', 'RATED\\n  good'), ('Rated 1.0', 'RATED\\n  Rotten food'), ('Rated 1.0', 'RATED\\n  cold food received and worst service'), ('Rated 1.0', 'RATED\\n  ordered chicken burger and they sent veg burger'), ('Rated 1.0', 'RATED\\n  Food was not served at all!!'), ('Rated 4.0', 'RATED\\n  the order was quite late but the guy at chat survive was quite sympathetic and the food was great'), ('Rated 5.0', 'RATED\\n  fine'), ('Rated 1.0', 'RATED\\n  I did not get any delivery, but it is showing as delivered..'), ('Rated 1.0', 'RATED\\n  The worst food I had in my life'), ('Rated 2.0', \"RATED\\n  the 65 wasn't the kabab like chicken that I expected, and the biriyani was just too spicy to even take a bite, peppercorn in every bite, and cloves, the raita was nothing to boast about, too watery and had no onions, but I must say the 65 was tasty enough, had tasty garlic and onion bits, fried well.\"), ('Rated 5.0', 'RATED\\n  amazing. nice offer from zomato'), ('Rated 5.0', 'RATED\\n  good'), ('Rated 1.0', 'RATED\\n  food quality is low n quantity z less, not worthy'), ('Rated 3.0', 'RATED\\n  I ordered full tandoori but quanty was not like full. Very small pieces of chicken were present in the cover. It looked like half plate tandoori. Other wise delivery and taste was very good.'), ('Rated 3.0', 'RATED\\n  no cutlery?'), ('Rated 1.0', 'RATED\\n  The biryani was HORRIBLE. The rice was either bad or just bad to eat'), ('Rated 1.0', 'RATED\\n  Worst food ever I had . I donÃ\\x83Ã\\x83Ã\\x82Ã\\x82Ã\\x83Ã\\x82Ã\\x82Ã\\x92t wanna single star also'), ('Rated 1.0', 'RATED\\n  Worst food'), ('Rated 3.0', 'RATED\\n  I ordered full tandoori but quanty was not like full. Very small pieces of chicken were present in the cover. It looked like half plate tandoori. Other wise delivery and taste was very good.'), ('Rated 3.0', 'RATED\\n  no cutlery?'), ('Rated 1.0', 'RATED\\n  The biryani was HORRIBLE. The rice was either bad or just bad to eat'), ('Rated 1.0', 'RATED\\n  Worst food ever I had . I donÃ\\x83Ã\\x83Ã\\x82Ã\\x82Ã\\x83Ã\\x82Ã\\x82Ã\\x92t wanna single star also'), ('Rated 1.0', 'RATED\\n  Worst food'), ('Rated 2.0', 'RATED\\n  Very long delay'), ('Rated 3.0', 'RATED\\n  i guess cardamom got dropped in paneer ...it was too much...rest was fine...'), ('Rated 1.0', \"RATED\\n  if you wish to get wierd diseases just by eating this is the best place..the food is more worse than road side ones...worst experience please please don't buy food from here\"), ('Rated 4.0', 'RATED\\n  good'), ('Rated 3.0', 'RATED\\n  Had asked for Chicken Manchurian Dry but got gravy instead which was incredibly salty too.'), ('Rated 2.0', 'RATED\\n  Very long delay'), ('Rated 3.0', 'RATED\\n  i guess cardamom got dropped in paneer ...it was too much...rest was fine...'), ('Rated 1.0', \"RATED\\n  if you wish to get wierd diseases just by eating this is the best place..the food is more worse than road side ones...worst experience please please don't buy food from here\"), ('Rated 4.0', 'RATED\\n  good'), ('Rated 3.0', 'RATED\\n  Had asked for Chicken Manchurian Dry but got gravy instead which was incredibly salty too.'), ('Rated 2.0', 'RATED\\n  Very long delay'), ('Rated 3.0', 'RATED\\n  i guess cardamom got dropped in paneer ...it was too much...rest was fine...'), ('Rated 1.0', \"RATED\\n  if you wish to get wierd diseases just by eating this is the best place..the food is more worse than road side ones...worst experience please please don't buy food from here\"), ('Rated 4.0', 'RATED\\n  good'), ('Rated 3.0', 'RATED\\n  Had asked for Chicken Manchurian Dry but got gravy instead which was incredibly salty too.'), ('Rated 2.0', 'RATED\\n  Food quantity and dlvry time'), ('Rated 1.0', 'RATED\\n  very delayed service..... took more than 30 of delivery time...'), ('Rated 3.0', \"RATED\\n  chicken tasty but it's not hot and halwa is not worthy that quantity is very less& lassi too\"), ('Rated 3.0', \"RATED\\n  wasn't that good\"), ('Rated 1.0', 'RATED\\n  Worst food.'), ('Rated 1.0', 'RATED\\n  please remove this hotel from your app otherwise i will give bad reviews on social media and play store'), ('Rated 5.0', 'RATED\\n  Osm'), ('Rated 2.0', 'RATED\\n  not good'), ('Rated 1.0', 'RATED\\n  egg noodles is tasteless and egg Manchurian is watery and tasteless. hardly 2 eggs were there. not worth the money. I would rather go for latenight.in'), ('Rated 1.0', \"RATED\\n  If you consider ordering from this place, please visit the physical outlet.\\nHygiene is a forgotten term. Very messy and poor maintenance\\nWouldn't want to get into the details but please so not consider.\"), ('Rated 1.0', 'RATED\\n  please remove this hotel from your app otherwise i will give bad reviews on social media and play store'), ('Rated 5.0', 'RATED\\n  Osm'), ('Rated 2.0', 'RATED\\n  not good'), ('Rated 1.0', 'RATED\\n  egg noodles is tasteless and egg Manchurian is watery and tasteless. hardly 2 eggs were there. not worth the money. I would rather go for latenight.in'), ('Rated 1.0', \"RATED\\n  If you consider ordering from this place, please visit the physical outlet.\\nHygiene is a forgotten term. Very messy and poor maintenance\\nWouldn't want to get into the details but please so not consider.\"), ('Rated 3.0', 'RATED\\n  good'), ('Rated 1.0', 'RATED\\n  worst restaurant ever all were small prawns'), ('Rated 1.0', \"RATED\\n  This place is shit. I had ordered late night, they made me wait for one and half hour and did not respond to calls. Never order from here.i'd rate it zero if there was an option.\"), ('Rated 1.0', 'RATED\\n  if there is any below 1 that would be rating.. pathetic service..'), ('Rated 1.0', 'RATED\\n  Food got delivered after 2 hours and that too it was really bad . Service and taste both was next level bad. I had to throw !!!! WouldnÃ\\x83Ã\\x83Ã\\x82Ã\\x82Ã\\x83Ã\\x82Ã\\x82Ã\\x92t suggest anyone!!!'), ('Rated 3.0', 'RATED\\n  good'), ('Rated 1.0', 'RATED\\n  worst restaurant ever all were small prawns'), ('Rated 1.0', \"RATED\\n  This place is shit. I had ordered late night, they made me wait for one and half hour and did not respond to calls. Never order from here.i'd rate it zero if there was an option.\"), ('Rated 1.0', 'RATED\\n  if there is any below 1 that would be rating.. pathetic service..'), ('Rated 1.0', 'RATED\\n  Food got delivered after 2 hours and that too it was really bad . Service and taste both was next level bad. I had to throw !!!! WouldnÃ\\x83Ã\\x83Ã\\x82Ã\\x82Ã\\x83Ã\\x82Ã\\x82Ã\\x92t suggest anyone!!!'), ('Rated 1.0', 'RATED\\n  recieved 30 mins late'), ('Rated 4.0', 'RATED\\n  Nice'), ('Rated 4.0', 'RATED\\n  butter chicken was fantastic.'), ('Rated 5.0', 'RATED\\n  A late night delivery option . I think itÃ\\x83Ã\\x83Ã\\x82Ã\\x82Ã\\x83Ã\\x82Ã\\x82Ã\\x92s a good one . They delivered before time .\\nThe food was packed properly and was hot .\\nThe taste was good , I really liked their preparation of chicken chilli .'), ('Rated 1.0', 'RATED\\n  Try to improve'), ('Rated 4.0', 'RATED\\n  good'), ('Rated 3.0', 'RATED\\n  too less quantity for the price'), ('Rated 1.0', \"RATED\\n  I'd love to have some ventilation along with cleanliness, with a sprinkle of good service. There are no working fans, not a clean place and orders take long and are overpriced for the quality.\"), ('Rated 1.0', 'RATED\\n  worst burger i ever had..orderd by 11pm and got the order by 1:10am..no cancel option..got gard bun burger. .throwed it fully..worst quality'), ('Rated 1.0', \"RATED\\n  there was no mutton in burger... I don't like it.... I have no option at this time....................................................................\"), ('Rated 4.0', 'RATED\\n  good'), ('Rated 3.0', 'RATED\\n  too less quantity for the price'), ('Rated 1.0', \"RATED\\n  I'd love to have some ventilation along with cleanliness, with a sprinkle of good service. There are no working fans, not a clean place and orders take long and are overpriced for the quality.\"), ('Rated 1.0', 'RATED\\n  worst burger i ever had..orderd by 11pm and got the order by 1:10am..no cancel option..got gard bun burger. .throwed it fully..worst quality'), ('Rated 1.0', \"RATED\\n  there was no mutton in burger... I don't like it.... I have no option at this time....................................................................\"), ('Rated 3.0', 'RATED\\n  tandoori was good . biriyani was mediocre.'), ('Rated 1.0', \"RATED\\n  Horrible service. I ordered veg noodles and got egg. And as our campus restricts non vegetarian food beyond a time, I was forced to throw the food away. When I tried telling this to the restaurant representatives, they responded in the most arrogant fashion ever, talking in their own slang and asking me how can there exist such a hostel which does that. Finally they say they will not give a refund or the corrected order because they would incur a loss. Not one care was given to the fact that they tried to serve egg to a vegetarian. And when I told that over phone, they told that it was okay for me to have egg in my possession. Who are they to tell me what I'm supposed to do?! And they conveniently ignore what the primary issue is! Horrible customer service.\"), ('Rated 2.0', 'RATED\\n  not that much worth'), ('Rated 2.0', 'RATED\\n  Delay in delivery'), ('Rated 1.0', \"RATED\\n  Not good and gravy not sufficient really it's bad\"), ('Rated 3.0', 'RATED\\n  tandoori was good . biriyani was mediocre.'), ('Rated 1.0', \"RATED\\n  Horrible service. I ordered veg noodles and got egg. And as our campus restricts non vegetarian food beyond a time, I was forced to throw the food away. When I tried telling this to the restaurant representatives, they responded in the most arrogant fashion ever, talking in their own slang and asking me how can there exist such a hostel which does that. Finally they say they will not give a refund or the corrected order because they would incur a loss. Not one care was given to the fact that they tried to serve egg to a vegetarian. And when I told that over phone, they told that it was okay for me to have egg in my possession. Who are they to tell me what I'm supposed to do?! And they conveniently ignore what the primary issue is! Horrible customer service.\"), ('Rated 2.0', 'RATED\\n  not that much worth'), ('Rated 2.0', 'RATED\\n  Delay in delivery'), ('Rated 1.0', \"RATED\\n  Not good and gravy not sufficient really it's bad\"), ('Rated 1.0', 'RATED\\n  it was not worth the money'), ('Rated 4.0', 'RATED\\n  Very nice loved it and ur chat support is really awesome please keep it up love u'), ('Rated 3.0', 'RATED\\n  one item wasnt delivered'), ('Rated 1.0', \"RATED\\n  too much of salt in in mutton burger .and I ordered double-decker burger which I didn't get.... worst order...ever will never order again...., don't expect too much from this place..\"), ('Rated 1.0', \"RATED\\n  Took more than 2 hours to deliver the food and the restaurant just doesn't receive the calls.\"), ('Rated 1.0', 'RATED\\n  it was not worth the money'), ('Rated 4.0', 'RATED\\n  Very nice loved it and ur chat support is really awesome please keep it up love u'), ('Rated 3.0', 'RATED\\n  one item wasnt delivered'), ('Rated 1.0', \"RATED\\n  too much of salt in in mutton burger .and I ordered double-decker burger which I didn't get.... worst order...ever will never order again...., don't expect too much from this place..\"), ('Rated 1.0', \"RATED\\n  Took more than 2 hours to deliver the food and the restaurant just doesn't receive the calls.\"), ('Rated 3.0', 'RATED\\n  wanted doorstep'), ('Rated 1.0', 'RATED\\n  the food was stale had to throw out'), ('Rated 3.0', 'RATED\\n  The food was ok ok... Not so good but to get food at morning 4 was too. Good'), ('Rated 3.0', 'RATED\\n  peace'), ('Rated 1.0', 'RATED\\n  Didnt receive'), ('Rated 3.0', 'RATED\\n  wanted doorstep'), ('Rated 1.0', 'RATED\\n  the food was stale had to throw out'), ('Rated 3.0', 'RATED\\n  The food was ok ok... Not so good but to get food at morning 4 was too. Good'), ('Rated 3.0', 'RATED\\n  peace'), ('Rated 1.0', 'RATED\\n  Didnt receive'), ('Rated 3.0', 'RATED\\n  wanted doorstep'), ('Rated 1.0', 'RATED\\n  the food was stale had to throw out'), ('Rated 3.0', 'RATED\\n  The food was ok ok... Not so good but to get food at morning 4 was too. Good'), ('Rated 3.0', 'RATED\\n  peace'), ('Rated 1.0', 'RATED\\n  Didnt receive'), ('Rated 3.0', 'RATED\\n  satisfactory'), ('Rated 5.0', 'RATED\\n  thank you'), ('Rated 5.0', 'RATED\\n  nice'), ('Rated 1.0', 'RATED\\n  Very poor way of serving and quantity was soo less for the price charged...if u talk abt night service then also d food should be good...worst place'), ('Rated 1.0', 'RATED\\n  delivery was 1 hour late. You can imagine the taste of food after 1hr.'), ('Rated 3.0', 'RATED\\n  satisfactory'), ('Rated 5.0', 'RATED\\n  thank you'), ('Rated 5.0', 'RATED\\n  nice'), ('Rated 1.0', 'RATED\\n  Very poor way of serving and quantity was soo less for the price charged...if u talk abt night service then also d food should be good...worst place'), ('Rated 1.0', 'RATED\\n  delivery was 1 hour late. You can imagine the taste of food after 1hr.'), ('Rated 1.0', 'RATED\\n  Very bad food quality, ordered at 3:00 AM.. Restaurant Dint agree to exchange the order items when I tried to reach immediately after placing order.. Prefer not to order once again ..'), ('Rated 5.0', 'RATED\\n  yup fine'), ('Rated 5.0', 'RATED\\n  good one, nice option for quick bite'), ('Rated 1.0', 'RATED\\n  biryani quality is very poor..waste of money'), ('Rated 5.0', 'RATED\\n  good food'), ('Rated 1.0', 'RATED\\n  found cockroach in food...disgusting...place should be banned'), ('Rated 5.0', 'RATED\\n  thanks'), ('Rated 5.0', 'RATED\\n  awesome food. however, prawns could have been bigger ?'), ('Rated 1.0', 'RATED\\n  The burger was cold. the shake was very very bad.I understand that the delivery took time. but the food was so bad.'), ('Rated 1.0', \"RATED\\n  I received the order 10 mins late and the lassi is sour. The first and the last time I'm ordering from Zomato. Totally worthless.\"), ('Rated 1.0', 'RATED\\n  found cockroach in food...disgusting...place should be banned'), ('Rated 5.0', 'RATED\\n  thanks'), ('Rated 5.0', 'RATED\\n  awesome food. however, prawns could have been bigger ?'), ('Rated 1.0', 'RATED\\n  The burger was cold. the shake was very very bad.I understand that the delivery took time. but the food was so bad.'), ('Rated 1.0', \"RATED\\n  I received the order 10 mins late and the lassi is sour. The first and the last time I'm ordering from Zomato. Totally worthless.\"), ('Rated 2.0', 'RATED\\n  food: average , delivery : pathetic, got the food delivered half an hour late'), ('Rated 5.0', 'RATED\\n  the food is always good there...inhave managed to get good food and hygiene food especially in the night as well...make up to the hungry stomach all the time....thanks for this guys....kudos to you for working it through the night'), ('Rated 1.0', 'RATED\\n  delivery time is too much'), ('Rated 1.0', 'RATED\\n  My hostel is near this place, i used to order from here in emergency, but stopped after i visited this restaurant one fine afternoon, the place stinks'), ('Rated 5.0', 'RATED\\n  The food was amazing'), ('Rated 2.0', 'RATED\\n  food: average , delivery : pathetic, got the food delivered half an hour late'), ('Rated 5.0', 'RATED\\n  the food is always good there...inhave managed to get good food and hygiene food especially in the night as well...make up to the hungry stomach all the time....thanks for this guys....kudos to you for working it through the night'), ('Rated 1.0', 'RATED\\n  delivery time is too much'), ('Rated 1.0', 'RATED\\n  My hostel is near this place, i used to order from here in emergency, but stopped after i visited this restaurant one fine afternoon, the place stinks'), ('Rated 5.0', 'RATED\\n  The food was amazing'), ('Rated 1.0', 'RATED\\n  Not good ? No Value for money ?'), ('Rated 2.0', 'RATED\\n  Delivery was late. And quality of food was quiet poor too'), ('Rated 2.0', 'RATED\\n  Food quality was poor. Salt was added in abundance for couple of items'), ('Rated 3.0', 'RATED\\n  late delivery'), ('Rated 2.0', 'RATED\\n  dint get the change'), ('Rated 1.0', 'RATED\\n  Not good ? No Value for money ?'), ('Rated 2.0', 'RATED\\n  Delivery was late. And quality of food was quiet poor too'), ('Rated 2.0', 'RATED\\n  Food quality was poor. Salt was added in abundance for couple of items'), ('Rated 3.0', 'RATED\\n  late delivery'), ('Rated 2.0', 'RATED\\n  dint get the change'), ('Rated 1.0', 'RATED\\n  Not good ? No Value for money ?'), ('Rated 2.0', 'RATED\\n  Delivery was late. And quality of food was quiet poor too'), ('Rated 2.0', 'RATED\\n  Food quality was poor. Salt was added in abundance for couple of items'), ('Rated 3.0', 'RATED\\n  late delivery'), ('Rated 2.0', 'RATED\\n  dint get the change'), ('Rated 3.0', 'RATED\\n  I requested for less spicy since my two kids were also recipient of the food but the order was quite spicy!!'), ('Rated 3.0', 'RATED\\n  Too late'), ('Rated 1.0', 'RATED\\n  not yet delivered'), ('Rated 5.0', 'RATED\\n  taste was the best, quantity was a bit low.... service was good....'), ('Rated 4.0', 'RATED\\n  .'), ('Rated 3.0', 'RATED\\n  I requested for less spicy since my two kids were also recipient of the food but the order was quite spicy!!'), ('Rated 3.0', 'RATED\\n  Too late'), ('Rated 1.0', 'RATED\\n  not yet delivered'), ('Rated 5.0', 'RATED\\n  taste was the best, quantity was a bit low.... service was good....'), ('Rated 4.0', 'RATED\\n  .'), ('Rated 3.0', 'RATED\\n  I requested for less spicy since my two kids were also recipient of the food but the order was quite spicy!!'), ('Rated 3.0', 'RATED\\n  Too late'), ('Rated 1.0', 'RATED\\n  not yet delivered'), ('Rated 5.0', 'RATED\\n  taste was the best, quantity was a bit low.... service was good....'), ('Rated 4.0', 'RATED\\n  .'), ('Rated 1.0', 'RATED\\n  Pathetic service as usual by zomato, the restaurant & obviously with confused delivery person.'), ('Rated 3.0', 'RATED\\n  Average food. Good for late night desert cravings, the ice creams being just decent.'), ('Rated 1.0', 'RATED\\n  Stupid food and stupid delivery ?'), ('Rated 1.0', 'RATED\\n  Worst food this is icaunt eat this food food is very smelly and not cooking properly totally waste of money ????.........................'), ('Rated 5.0', 'RATED\\n  Ever since the management has changed, the food quality and service has been amazing. We ordered food at midnight and got it delivered in an hour. Chicken Sagwala, Kaju Masala and fish fingers are must try dishes.'), ('Rated 1.0', 'RATED\\n  Pathetic service as usual by zomato, the restaurant & obviously with confused delivery person.'), ('Rated 3.0', 'RATED\\n  Average food. Good for late night desert cravings, the ice creams being just decent.'), ('Rated 1.0', 'RATED\\n  Stupid food and stupid delivery ?'), ('Rated 1.0', 'RATED\\n  Worst food this is icaunt eat this food food is very smelly and not cooking properly totally waste of money ????.........................'), ('Rated 5.0', 'RATED\\n  Ever since the management has changed, the food quality and service has been amazing. We ordered food at midnight and got it delivered in an hour. Chicken Sagwala, Kaju Masala and fish fingers are must try dishes.'), ('Rated 1.0', 'RATED\\n  Food is bad. Way too oily.'), ('Rated 5.0', \"RATED\\n  Nyc place to serve midnight food delivery fast delivery and good communication skills to the customer it's good place the taste is awesome once you eat hyderabadi biryani it's awesome keep rocking guys\"), ('Rated 1.0', \"RATED\\n  Very bad service and curtesy. They took order and cencelled after approximately an hour. Which impacts very bad affect on customer dining. They didn't even call if they can't find the delivery place. I had a very bad experience with this restaurant and I'll suggest other customers do not waste your time in this particular restaurant.\"), ('Rated 2.5', \"RATED\\n  Exceptional service. The delivery was spot on. The ambience .. its very dull and smelly and the kitchen is crampy compact. The menu is good and the quality, the taste is meagre. You don't expect too much from this restaurant in terms of wooing your tastebuds. Tip: When the delivery agent gives you a call before he leaves the resturant make sure he has got everything.\"), ('Rated 5.0', 'RATED\\n  it was awesome ?????'), ('Rated 1.0', 'RATED\\n  Food is bad. Way too oily.'), ('Rated 5.0', \"RATED\\n  Nyc place to serve midnight food delivery fast delivery and good communication skills to the customer it's good place the taste is awesome once you eat hyderabadi biryani it's awesome keep rocking guys\"), ('Rated 1.0', \"RATED\\n  Very bad service and curtesy. They took order and cencelled after approximately an hour. Which impacts very bad affect on customer dining. They didn't even call if they can't find the delivery place. I had a very bad experience with this restaurant and I'll suggest other customers do not waste your time in this particular restaurant.\"), ('Rated 2.5', \"RATED\\n  Exceptional service. The delivery was spot on. The ambience .. its very dull and smelly and the kitchen is crampy compact. The menu is good and the quality, the taste is meagre. You don't expect too much from this restaurant in terms of wooing your tastebuds. Tip: When the delivery agent gives you a call before he leaves the resturant make sure he has got everything.\"), ('Rated 5.0', 'RATED\\n  it was awesome ?????'), ('Rated 1.0', 'RATED\\n  Food is bad. Way too oily.'), ('Rated 5.0', \"RATED\\n  Nyc place to serve midnight food delivery fast delivery and good communication skills to the customer it's good place the taste is awesome once you eat hyderabadi biryani it's awesome keep rocking guys\"), ('Rated 1.0', \"RATED\\n  Very bad service and curtesy. They took order and cencelled after approximately an hour. Which impacts very bad affect on customer dining. They didn't even call if they can't find the delivery place. I had a very bad experience with this restaurant and I'll suggest other customers do not waste your time in this particular restaurant.\"), ('Rated 2.5', \"RATED\\n  Exceptional service. The delivery was spot on. The ambience .. its very dull and smelly and the kitchen is crampy compact. The menu is good and the quality, the taste is meagre. You don't expect too much from this restaurant in terms of wooing your tastebuds. Tip: When the delivery agent gives you a call before he leaves the resturant make sure he has got everything.\"), ('Rated 5.0', 'RATED\\n  it was awesome ?????'), ('Rated 5.0', 'RATED\\n  nice food. super fast delivery. impressed.'), ('Rated 5.0', 'RATED\\n  Awesome service quick service good response but rice is cold good keep it up ........................................\\nThanks\\nRegards\\nMaheah V'), ('Rated 1.0', \"RATED\\n  If it's past 2 am and your are hungry and this is the only place open , you better drink water and sleep ,it's that worse , and this is my first review coz it was so bad\"), ('Rated 5.0', 'RATED\\n  Great food at amazing price. I loved their mid-night food delivery service. We had ordered Chicken Biryani , fish fingers, tandoor chicken and enjoyed every bit of it. Keep up the good work guys.'), ('Rated 5.0', 'RATED\\n  Food quality is good .\\nPeople in the place responds well to the customer .\\nTaste is seriously crazy over here ?\\nThe price is reasonable to the food they provide'), ('Rated 2.5', 'RATED\\n  I ordered chicken sausages quantity is very less before you guys were giving good quantity and big in size for the same price no idea what happen with you guys now... small in size and less quantity.'), ('Rated 5.0', 'RATED\\n  Ordered gravies, rice, and breads from here. Taste is amazing and it was delivered earlier than i expected even though i stay far away from this place. Whole thing was a breeze. Will be a repeat customer for sure.'), ('Rated 2.0', \"RATED\\n  Food doesn't taste good. Very average or below average taste. Doesn't make sense to pay 150+ for veg gravies when they taste so average. Didn't like the burger either.\"), ('Rated 5.0', 'RATED\\n  good'), ('Rated 2.0', 'RATED\\n  quantity is way too lesser'), ('Rated 2.5', 'RATED\\n  I ordered chicken sausages quantity is very less before you guys were giving good quantity and big in size for the same price no idea what happen with you guys now... small in size and less quantity.'), ('Rated 5.0', 'RATED\\n  Ordered gravies, rice, and breads from here. Taste is amazing and it was delivered earlier than i expected even though i stay far away from this place. Whole thing was a breeze. Will be a repeat customer for sure.'), ('Rated 2.0', \"RATED\\n  Food doesn't taste good. Very average or below average taste. Doesn't make sense to pay 150+ for veg gravies when they taste so average. Didn't like the burger either.\"), ('Rated 5.0', 'RATED\\n  good'), ('Rated 2.0', 'RATED\\n  quantity is way too lesser'), ('Rated 2.5', 'RATED\\n  I ordered chicken sausages quantity is very less before you guys were giving good quantity and big in size for the same price no idea what happen with you guys now... small in size and less quantity.'), ('Rated 5.0', 'RATED\\n  Ordered gravies, rice, and breads from here. Taste is amazing and it was delivered earlier than i expected even though i stay far away from this place. Whole thing was a breeze. Will be a repeat customer for sure.'), ('Rated 2.0', \"RATED\\n  Food doesn't taste good. Very average or below average taste. Doesn't make sense to pay 150+ for veg gravies when they taste so average. Didn't like the burger either.\"), ('Rated 5.0', 'RATED\\n  good'), ('Rated 2.0', 'RATED\\n  quantity is way too lesser'), ('Rated 1.0', 'RATED\\n  one of the worst food to order at midnight when ur hungry........ Zomato should take it seriously...they should never refer this resturant...at midnight....when we feel hungry.... food is total waste ... tasteless.... burgers taste like vada pav...and they make u wait for long....'), ('Rated 1.0', 'RATED\\n  too late'), ('Rated 3.5', 'RATED\\n  Foodiction, again a doorstep delivery at midnights. Since i work late night, and i have this cravings for food at midnights, i have been looking into outlets who serve latenights.\\nI found foodiction and was impressed by the login offer they had. So installed the app and ordered biriyani and burgers.\\nChicken tikka biriyani: amazing\\nBurger: hot and spicy.\\n\\nI appreciate their packing, and quicker delivery(maybe cuz i stay closer).\\nThe costs are also nominal. I would reccomend everyone to try foodiction.\\n\\nFood:3.5/5\\nService:3.5/5'), ('Rated 5.0', 'RATED\\n  nice'), ('Rated 1.0', 'RATED\\n  very very late and irresponsible'), ('Rated 1.0', 'RATED\\n  one of the worst food to order at midnight when ur hungry........ Zomato should take it seriously...they should never refer this resturant...at midnight....when we feel hungry.... food is total waste ... tasteless.... burgers taste like vada pav...and they make u wait for long....'), ('Rated 1.0', 'RATED\\n  too late'), ('Rated 3.5', 'RATED\\n  Foodiction, again a doorstep delivery at midnights. Since i work late night, and i have this cravings for food at midnights, i have been looking into outlets who serve latenights.\\nI found foodiction and was impressed by the login offer they had. So installed the app and ordered biriyani and burgers.\\nChicken tikka biriyani: amazing\\nBurger: hot and spicy.\\n\\nI appreciate their packing, and quicker delivery(maybe cuz i stay closer).\\nThe costs are also nominal. I would reccomend everyone to try foodiction.\\n\\nFood:3.5/5\\nService:3.5/5'), ('Rated 5.0', 'RATED\\n  nice'), ('Rated 1.0', 'RATED\\n  very very late and irresponsible'), ('Rated 5.0', 'RATED\\n  very good'), ('Rated 1.0', 'RATED\\n  I had ordered food from this restaurant...very disappointed. ..had ordered fish tikka..panner garlic chilli..and rotis..\\nFish was good but the other two items were not even average. .paneer was hard like as if it had come directly from fridge..rotis were little thick and not properly cooked i felt...\\nOverall bad experience..i will never order here again..'), ('Rated 5.0', 'RATED\\n  nm'), ('Rated 1.0', \"RATED\\n  A complete fraud place. The app takes the order and my money at 4am and then I don't hear from them till 5am, so I call the number. The person who call answers literally sings Helloooo... and says they didn't recieve any such order at all. I try to explain and give my order details but they weren't interested in listening at all and simply replied 'The Restaurant is closed and to call in the morning'. I asked about my money, after some stalling and reluctance says that it'll be refunded. *I wonder how they will ever refund if they don't even see yet order placed through their own app !!!\\nI'm reporting the transaction to my credit card company and blocking them immediately. Stay away from these fraudsters.\\nP.S: Posting the order screenshot from their app as proof.\"), ('Rated 5.0', 'RATED\\n  very good food'), ('Rated 5.0', 'RATED\\n  very good'), ('Rated 1.0', 'RATED\\n  I had ordered food from this restaurant...very disappointed. ..had ordered fish tikka..panner garlic chilli..and rotis..\\nFish was good but the other two items were not even average. .paneer was hard like as if it had come directly from fridge..rotis were little thick and not properly cooked i felt...\\nOverall bad experience..i will never order here again..'), ('Rated 5.0', 'RATED\\n  nm'), ('Rated 1.0', \"RATED\\n  A complete fraud place. The app takes the order and my money at 4am and then I don't hear from them till 5am, so I call the number. The person who call answers literally sings Helloooo... and says they didn't recieve any such order at all. I try to explain and give my order details but they weren't interested in listening at all and simply replied 'The Restaurant is closed and to call in the morning'. I asked about my money, after some stalling and reluctance says that it'll be refunded. *I wonder how they will ever refund if they don't even see yet order placed through their own app !!!\\nI'm reporting the transaction to my credit card company and blocking them immediately. Stay away from these fraudsters.\\nP.S: Posting the order screenshot from their app as proof.\"), ('Rated 5.0', 'RATED\\n  very good food'), ('Rated 1.0', \"RATED\\n  Bad horrible delivery service, they don't even receive call after the delivery time is over .\\n45 mins they say it's been more than 1&1/2 hour\"), ('Rated 5.0', 'RATED\\n  Amazing experience'), ('Rated 1.5', 'RATED\\n  Order was for main course and a masala papad...where masala papad was missing and still charged in the bill...the naan and rotis were half wasted because it was so thick on the edges and was so tight dat it cannot be eaten..also the order came very late..it was worst..plz improve..rating-0stars.!'), ('Rated 1.0', \"RATED\\n  I wish I could rate them less than 1 .. well that's what they deserve after serving last night for the last time to me ... Poor quality and quantity !\"), ('Rated 2.0', 'RATED\\n  Was hungry at night, so ordered from here they delivered it little late, I ordered Full Chicken Hyderabadi, Roti Basket and Ghee Rice.\\n\\nThe food was not so good in taste.'), ('Rated 5.0', 'RATED\\n  good'), ('Rated 3.0', 'RATED\\n  No brownies or cakes just scoop of ice cream'), ('Rated 1.0', \"RATED\\n  The food was delivered late for like more then 1 n half hrs late.completly cold food due to late service..that to the delivery boy.. thretans me of not delivering the order if I don't share location on WhatsApp..this is ridiculous...even when I called the restaurant that the delivery is threatening me of not delivering if I don't share on WhatsApp...it's wrong... address is given while ordering still why you guys need address location over WhatsApp... ridiculous service...\"), ('Rated 1.0', 'RATED\\n  worst food ever tasted'), ('Rated 1.0', 'RATED\\n  very bad time management')]",
         "[]",
         "Delivery",
         "Banashankari"
        ],
        [
         "32",
         "https://www.zomato.com/bangalore/sweet-truth-banashankari?context=eyJzZSI6eyJlIjpbIjU3NjAxIiwxODU1MTcwNywiMTg0NTc2MDYiLCI1OTA4NiIsIjE4MzU5OTE4IiwiMTg2MTgzNDMiLCI1NzMyNSIsIjU1Mzk3IiwiMTg1NjMwOTciLCI1Njg4MyIsIjE4MzA3ODA2IiwiNTg2MzYiXSwidCI6IkRlbGl2ZXJ5IFJlc3RhdXJhbnRzIGluIEJhbmFzaGFua2FyaSJ9fQ==",
         "101 Ground Floor, Manjunatha Complex, 22nd Main Road, Banashankari, Bangalore",
         "Sweet Truth",
         "Yes",
         "No",
         "3.9/5",
         "35",
         "+91 7710055553",
         "Banashankari",
         "Delivery",
         null,
         "Bakery, Desserts",
         "500",
         "[('Rated 4.0', 'RATED\\n  I had the opportunity to try the desserts and I was very intrigued! I tasted the desserts and my favourite has to be the cheesecake ! Would definitely recommend the desserts for the quality and taste.')]",
         "['Chocolate Fantasy (Pack Of 5)', 'Pan Cake (Pack Of 6)', 'Gulab Jamun (Pack Of 10)', 'Gulkand Shot (Pack Of 5)', 'Chocolate Decadence (Pack of 2)', 'CheeseCake (Pack Of 2)', 'Red Velvet Slice Cake (Pack of 2)', 'Red Velvet Slice Cake & Cheese Cake (Pack of 2)', 'Red Velvet Slice Cake & Chocolate Decadence Cake (Pack of 2)', 'Hazelnut Brownie (Pack of 2)', 'Moments', 'Red Velvet Cake With Butter Cream Frosting (750 Gm)', 'Red Velvet Slice Cake (Pack of 2)', 'Red Velvet Slice Cake & Cheese Cake (Pack of 2)', 'Red Velvet Slice Cake & Chocolate Decadence Cake (Pack of 2)', 'Red Velvet Slice Cake (Pack of 1)', 'Valentine Red Velvet Jar', 'Valentine Chocolate Jar', 'Valentines Jar Combo', 'Pink Guava 500 ML', 'Oreo Vanilla 500 ML', 'Cookie Crumble 500 ML', 'Chocolate Fantasy', 'Gulkand-E-Bahar', 'Pan Cake', 'Hazelnut Brownie (Pack Of 1)', 'Gulab Jamun (Pack Of 2)', 'Plum Cake', 'Red Velvet Cake With Butter Cream Frosting (750 Gm)', 'Chocolate Mud Cake (700 Gms)', 'CheeseCake (Pack of 1)', 'Chocolate Decadence (Pack of 1)', 'Red Velvet Slice Cake (Pack of 1)']",
         "Delivery",
         "Banashankari"
        ],
        [
         "33",
         "https://www.zomato.com/bangalore/ovenstory-pizza-banashankari?context=eyJzZSI6eyJlIjpbIjU3NjAxIiwiMTg1NTE3MDciLDE4NDU3NjA2LCI1OTA4NiIsIjE4MzU5OTE4IiwiMTg2MTgzNDMiLCI1NzMyNSIsIjU1Mzk3IiwiMTg1NjMwOTciLCI1Njg4MyIsIjE4MzA3ODA2IiwiNTg2MzYiLCI1MzYwMSJdLCJ0IjoiRGVsaXZlcnkgUmVzdGF1cmFudHMgaW4gQmFuYXNoYW5rYXJpIn19",
         "101, Ground Floor, Manjunatha Complex, 22nd Main Road, 2nd Stage, Banashankari, Bangalore",
         "Ovenstory Pizza",
         "Yes",
         "No",
         "3.9/5",
         "172",
         "+91 7738383000",
         "Banashankari",
         "Delivery",
         "Paneer Tikka, Garlic Bread, Thin Crust Pizza, Falafel, Veggie Pizza",
         "Pizza",
         "750",
         "[('Rated 4.0', 'RATED\\n  Stumbled upon this on Zomato while checking for home delivery options. Yummy pizza- ordered a corn veggie delight pizza. Crust was good, golden brown and had generous toppings. Certainly will order again?'), ('Rated 5.0', 'RATED\\n  best pizza i have ever had best place and delecious food eveyone must vist this place best pizza ? there are many varieties in ovenstory the best part is that everything is fresh'), ('Rated 5.0', 'RATED\\n  I recently ordered from Ovenstory . Ovenstory offers you delicious and lip smacking pizza and sides , they are quite different with crunchy base .\\nI ordered-\\n?chicken overloaded pizza - its was heavenly, delicious . It had topping of cheese , chicken keema & chicken salami .\\n?4.5/5?\\n\\n\\U0001f96agarlic bread - it was crunchy and had corn on it , it tasted yummy.?4/5?'), ('Rated 5.0', \"RATED\\n  Amazing pizza with super soft crust and loaded with alot of chicken. The variety of oven story is amazing with every kind of pizzas and sides it is one stop for all pizza lover's. Chicken garlic bread is my personal favourite. A new place for my every day hangout with friends which will not make a hole in my pocket too.\"), ('Rated 5.0', \"RATED\\n  Ovenstory Pizza\\nSo new pizza place in the town people and it just doesn't give pizzas but a lot more.\\nSo I went there and ordered:\\n\\n? Middle Eastern Supreme Pizza\\n? Garlic Bread with Mac and Cheese\\n\\nI just loved the package presentation, very well done.\\nThe pizza was really cheesy, with such a soft and crunchy base(just what I like) and the toppings were really good too with roasted falafel, corn and a lot of other veggies.\\nThe garlic bread was okayishh but mac and cheese was delicious sooooo cheesy and creamy.\\nTheir service was great as well.\\n\\nOverall-5/5\\nTaste-5/5\"), ('Rated 5.0', 'RATED\\n  While in the city at a visit, I thought of trying pizza from this outlet. I ordered a paneer picante pizza and garlic bread along with choco lava cake and brownie. The pizza was amazing in taste. The garlic bread was okayish. Desserts were too good. The delivery was warm and fresh and received on time. Quite satisfactory services!')]",
         "[]",
         "Delivery",
         "Banashankari"
        ],
        [
         "34",
         "https://www.zomato.com/bangalore/faasos-banashankari?context=eyJzZSI6eyJlIjpbIjU3NjAxIiwiMTg1NTE3MDciLCIxODQ1NzYwNiIsNTkwODYsIjE4MzU5OTE4IiwiMTg2MTgzNDMiLCI1NzMyNSIsIjU1Mzk3IiwiMTg1NjMwOTciLCI1Njg4MyIsIjE4MzA3ODA2IiwiNTg2MzYiLCI1MzYwMSIsIjE4NTY1Njc5Il0sInQiOiJEZWxpdmVyeSBSZXN0YXVyYW50cyBpbiBCYW5hc2hhbmthcmkifX0=",
         "80, BDA Complex, 2nd Stage, Banashankari, Bangalore",
         "Faasos",
         "Yes",
         "No",
         "4.2/5",
         "415",
         "+91 7700020020",
         "Banashankari",
         "Quick Bites",
         "Rolls, Veggie Wrap, Chocolate Fantasy, Rice Bowls, Chicken Rice, Paneer Makhanwala, Chicken Tikka Wrap",
         "North Indian, Biryani, Fast Food",
         "500",
         "[('Rated 3.0', 'RATED\\n  Not worth for the money we pay and ambience is not that good enough and service is tooo slow ? with they could improve with that ?????and try the rolls in here'), ('Rated 5.0', 'RATED\\n  Amazing Navratri special thali.Ultimate treat after full fast day .Taste was just awesome.Must try when you are on fast or not on fast ?.Do visit or get it home delivered.'), ('Rated 4.0', 'RATED\\n  Recently I tried their navratri thali which was a special menu for navratri and it was really scrumptious without lacking the taste.\\nThali had kuttu aloo parantha, sweet n sour Petha sabzi, paneer sabzi, raita n kheer. It was filling and the taste of all the items was really good.'), ('Rated 4.0', \"RATED\\n  Faasos is kind of food saver for many bachelor's.. They have a huge food list serving in different styles. And even festival foods. Recently during dasara have ordered food which was very filling and tasty.\\n\\nsandeepkasal.wordpress.com\"), ('Rated 4.0', 'RATED\\n  Faasos is one of my favorite food joint. And they are excellent in delivering their things on time. They have a vast menu to dig in and almost all the dishes they serve is made to please your taste buds.\\nNow lets talk about the Wraps that I had so the first wrap that I had was\\n\"Jumbo Chicken Wrap\"- it tasted really good, it was pretty balanced in flavor and thay also provide with their signature spice to add a hot kick to your dish.\\n\\nThe Second wrap that I had was \"Cheese Melt Chicken Wrap\"- this is a new wrap in their menu for all the cheese lovers out their but according to me the amount of cheese that they put in should be made less because more of cheese makes the dish very salty and it does suppress the flavors of the toppings.\\n\\nOverall my experience was good and you guys should order your favorite dishes as the prices are really nominal.'), ('Rated 5.0', 'RATED\\n  This has been my goto place ever since my office days. Delicious foods at affordable prices. the key to this place that it has every ingredient for your whole day meal. Starting from breakfast bread to lunch bowls to evening snacks and late night biriyani. I have ordered my favorite kulchas with some spicy chhole and the delectable chicken tikka wrap. The wrap was so filled with chickens that will mouth will bless you for the same. Parantha with mutton keema was brilliant. The sheared pieces of mutton with tender and warm parathas are just the need of the hour for me.'), ('Rated 5.0', 'RATED\\n  We ordered two thaliÃ\\x83Ã\\x83Ã\\x82Ã\\x82Ã\\x83Ã\\x82Ã\\x82Ã\\x92s from here during navratraÃ\\x83Ã\\x83Ã\\x82Ã\\x82Ã\\x83Ã\\x82Ã\\x82Ã\\x92s. It was very nicely packed. We had paneer makhanwla royal navratra meal and hare tamatar ki thali. It had paneer ki sabzi, sabudana vada, curd, roti, hare tamatar ki sabzi, sabudane ki khichdi, and sweet-dish. The food was tasty and hot.'), ('Rated 5.0', 'RATED\\n  Great taste. Just amazing vibrant flavours. The food was hot when delivered. Everything was well packaged. Zomato keeps on bringing these amazing restaurants which deliver these amazing food items too our doorstep.\\nA big thumbs up to the great taste.'), ('Rated 4.0', \"RATED\\n  Living away from mommy's good food can be a curse, especially around fasts like the Navratre! I was absolutely clueless as to what I'd cook for myself and that I'd have to make do with fruits and curd all days of navratre.. But Faasos 'vrat wala food' came as a blessing! Yummers tamatar ki Sabzi and tasty paneer, sabudaanw ki khichdi and kuttu ke parathe and to top it, yummastic kheer! Navratre were so much more bearable because of the Faasos food! ??\"), ('Rated 5.0', 'RATED\\n  This navratri i thought i should order some varat food for my mom and then I saw faasos had a special menu for that.\\nIn no time i quickly order a combo.\\n\\nThat included\\nAloo paratha made of kuttu ka aata,sabudana tikki.\\nHare tamater ki sabzi which was so good in taste. Tangy and flavourful.\\n\\nPaneer was also yummy and very good quality.\\nSaabudana ki kheer and curd.\\nWhole combo was too good in taste. Definitely going to try next time as well'), ('Rated 4.0', 'RATED\\n  I had ordered a chicken jumbo wrap and a cheesy chicken delight jumbo wrap... Both tasted really very good, it was big and stomach filling but it was slightly expensive..... Apart from that it was all good!!\\nWould I visit this place again - yes\\nWould I recommend you to visit this place - yes..'), ('Rated 4.0', 'RATED\\n  Ordered these 2 beautiful Navratri thaalis, currently combines as one!!! They were not just royal in name but tasted exactly that!!! It had sabudana khichdi, singhaada paraanthas paneer tamatar sabzi which I must say was delicious and sabudana kheer!! Superb packing, delivers piping hot and great flavour! Loved having such a nice meal on a fastin day'), ('Rated 5.0', \"RATED\\n  Faasos is a popular food chain spread all across metropolitan cities, and it's always an amazing experience with faasos.\\nThis time during Navratri I have ordered their special #navratri thali which is made without onion and garlic and for the people who keeps fast during Navratri.\\nThe food was delicious, faasos is a go to option for instant delivery, hygenic food, good packaging.\"), ('Rated 5.0', 'RATED\\n  This outlet provides delicious taste of north indian dishes. I have ordered butter chicken and biryani. Both the dishes were too tasty and chicken quality was also very nice.\\nFood was delivered on time. They also pack all the order in a very nice manner.'), ('Rated 5.0', 'RATED\\n  Faasos is one of my favourite to order food late night.. Ordering food is quiet easy and they always deliver on time. I ordered chicken jumbo wrap.Worth a place for ordering food.Delivery time was OK.The quality of food was also good.The food was well-packed and delievered hot .Ordering from here in future too'), ('Rated 5.0', 'RATED\\n  Fassos is one of the outlet that always worth the money and gives the tasty food so in this navratra I decided to try their navratra meal and find it as good as they also provide, I tried their sabudana KHICHDI meal which was quite tasty and with this meal I also got a portion of dessert of kheer which was also tasty so if you are looking for something good and value for money meal this outlet totally meant it which provides absolutely good food and delivery on time'), ('Rated 5.0', 'RATED\\n  Faasos has always been my all time favourite place to enjoy some hygiene quality Rolls and wraps.\\n\\nMy favourites from Faasos are Cheese Melt Wrap and Double cheese meatball wrap.\\n\\nI also love their aromatic and authentic preparation of Biryani and will recommend that as well!\\n\\nReally amazing packaging and delicious food i must say for the price!'), ('Rated 5.0', 'RATED\\n  Fassos is one of the famous outlet and also among one which I loved. So this time i tried to had thier navratra meal which is just awesome as always. I had their panner makhanwala meal, which was perfectly awesome and contains many variety of dishes and also a portion of dessert. So this meal is more than enough for one person. Can recommend this outlet to anyone for tasty food.'), ('Rated 5.0', 'RATED\\n  This outlet provides delicious taste of north indian dishes. I have ordered butter chicken and biryani. Both the dishes were too tasty and chicken quality was also very nice.\\nFood was delivered on time. They also pack all the order in a very nice manner.'), ('Rated 5.0', 'RATED\\n  Faasos is one of my favourite to order food late night.. Ordering food is quiet easy and they always deliver on time. I ordered chicken jumbo wrap.Worth a place for ordering food.Delivery time was OK.The quality of food was also good.The food was well-packed and delievered hot .Ordering from here in future too'), ('Rated 5.0', 'RATED\\n  Fassos is one of the outlet that always worth the money and gives the tasty food so in this navratra I decided to try their navratra meal and find it as good as they also provide, I tried their sabudana KHICHDI meal which was quite tasty and with this meal I also got a portion of dessert of kheer which was also tasty so if you are looking for something good and value for money meal this outlet totally meant it which provides absolutely good food and delivery on time'), ('Rated 5.0', 'RATED\\n  Faasos has always been my all time favourite place to enjoy some hygiene quality Rolls and wraps.\\n\\nMy favourites from Faasos are Cheese Melt Wrap and Double cheese meatball wrap.\\n\\nI also love their aromatic and authentic preparation of Biryani and will recommend that as well!\\n\\nReally amazing packaging and delicious food i must say for the price!'), ('Rated 5.0', 'RATED\\n  Fassos is one of the famous outlet and also among one which I loved. So this time i tried to had thier navratra meal which is just awesome as always. I had their panner makhanwala meal, which was perfectly awesome and contains many variety of dishes and also a portion of dessert. So this meal is more than enough for one person. Can recommend this outlet to anyone for tasty food.'), ('Rated 5.0', 'RATED\\n  This outlet provides delicious taste of north indian dishes. I have ordered butter chicken and biryani. Both the dishes were too tasty and chicken quality was also very nice.\\nFood was delivered on time. They also pack all the order in a very nice manner.'), ('Rated 5.0', 'RATED\\n  Faasos is one of my favourite to order food late night.. Ordering food is quiet easy and they always deliver on time. I ordered chicken jumbo wrap.Worth a place for ordering food.Delivery time was OK.The quality of food was also good.The food was well-packed and delievered hot .Ordering from here in future too'), ('Rated 5.0', 'RATED\\n  Fassos is one of the outlet that always worth the money and gives the tasty food so in this navratra I decided to try their navratra meal and find it as good as they also provide, I tried their sabudana KHICHDI meal which was quite tasty and with this meal I also got a portion of dessert of kheer which was also tasty so if you are looking for something good and value for money meal this outlet totally meant it which provides absolutely good food and delivery on time'), ('Rated 5.0', 'RATED\\n  Faasos has always been my all time favourite place to enjoy some hygiene quality Rolls and wraps.\\n\\nMy favourites from Faasos are Cheese Melt Wrap and Double cheese meatball wrap.\\n\\nI also love their aromatic and authentic preparation of Biryani and will recommend that as well!\\n\\nReally amazing packaging and delicious food i must say for the price!'), ('Rated 5.0', 'RATED\\n  Fassos is one of the famous outlet and also among one which I loved. So this time i tried to had thier navratra meal which is just awesome as always. I had their panner makhanwala meal, which was perfectly awesome and contains many variety of dishes and also a portion of dessert. So this meal is more than enough for one person. Can recommend this outlet to anyone for tasty food.'), ('Rated 5.0', 'RATED\\n  This outlet provides delicious taste of north indian dishes. I have ordered butter chicken and biryani. Both the dishes were too tasty and chicken quality was also very nice.\\nFood was delivered on time. They also pack all the order in a very nice manner.'), ('Rated 5.0', 'RATED\\n  Faasos is one of my favourite to order food late night.. Ordering food is quiet easy and they always deliver on time. I ordered chicken jumbo wrap.Worth a place for ordering food.Delivery time was OK.The quality of food was also good.The food was well-packed and delievered hot .Ordering from here in future too'), ('Rated 5.0', 'RATED\\n  Fassos is one of the outlet that always worth the money and gives the tasty food so in this navratra I decided to try their navratra meal and find it as good as they also provide, I tried their sabudana KHICHDI meal which was quite tasty and with this meal I also got a portion of dessert of kheer which was also tasty so if you are looking for something good and value for money meal this outlet totally meant it which provides absolutely good food and delivery on time'), ('Rated 5.0', 'RATED\\n  Faasos has always been my all time favourite place to enjoy some hygiene quality Rolls and wraps.\\n\\nMy favourites from Faasos are Cheese Melt Wrap and Double cheese meatball wrap.\\n\\nI also love their aromatic and authentic preparation of Biryani and will recommend that as well!\\n\\nReally amazing packaging and delicious food i must say for the price!'), ('Rated 5.0', 'RATED\\n  Fassos is one of the famous outlet and also among one which I loved. So this time i tried to had thier navratra meal which is just awesome as always. I had their panner makhanwala meal, which was perfectly awesome and contains many variety of dishes and also a portion of dessert. So this meal is more than enough for one person. Can recommend this outlet to anyone for tasty food.'), ('Rated 5.0', 'RATED\\n  This outlet provides delicious taste of north indian dishes. I have ordered butter chicken and biryani. Both the dishes were too tasty and chicken quality was also very nice.\\nFood was delivered on time. They also pack all the order in a very nice manner.'), ('Rated 5.0', 'RATED\\n  Faasos is one of my favourite to order food late night.. Ordering food is quiet easy and they always deliver on time. I ordered chicken jumbo wrap.Worth a place for ordering food.Delivery time was OK.The quality of food was also good.The food was well-packed and delievered hot .Ordering from here in future too'), ('Rated 5.0', 'RATED\\n  Fassos is one of the outlet that always worth the money and gives the tasty food so in this navratra I decided to try their navratra meal and find it as good as they also provide, I tried their sabudana KHICHDI meal which was quite tasty and with this meal I also got a portion of dessert of kheer which was also tasty so if you are looking for something good and value for money meal this outlet totally meant it which provides absolutely good food and delivery on time'), ('Rated 5.0', 'RATED\\n  Faasos has always been my all time favourite place to enjoy some hygiene quality Rolls and wraps.\\n\\nMy favourites from Faasos are Cheese Melt Wrap and Double cheese meatball wrap.\\n\\nI also love their aromatic and authentic preparation of Biryani and will recommend that as well!\\n\\nReally amazing packaging and delicious food i must say for the price!'), ('Rated 5.0', 'RATED\\n  Fassos is one of the famous outlet and also among one which I loved. So this time i tried to had thier navratra meal which is just awesome as always. I had their panner makhanwala meal, which was perfectly awesome and contains many variety of dishes and also a portion of dessert. So this meal is more than enough for one person. Can recommend this outlet to anyone for tasty food.'), ('Rated 5.0', 'RATED\\n  This outlet provides delicious taste of north indian dishes. I have ordered butter chicken and biryani. Both the dishes were too tasty and chicken quality was also very nice.\\nFood was delivered on time. They also pack all the order in a very nice manner.'), ('Rated 5.0', 'RATED\\n  Faasos is one of my favourite to order food late night.. Ordering food is quiet easy and they always deliver on time. I ordered chicken jumbo wrap.Worth a place for ordering food.Delivery time was OK.The quality of food was also good.The food was well-packed and delievered hot .Ordering from here in future too'), ('Rated 5.0', 'RATED\\n  Fassos is one of the outlet that always worth the money and gives the tasty food so in this navratra I decided to try their navratra meal and find it as good as they also provide, I tried their sabudana KHICHDI meal which was quite tasty and with this meal I also got a portion of dessert of kheer which was also tasty so if you are looking for something good and value for money meal this outlet totally meant it which provides absolutely good food and delivery on time'), ('Rated 5.0', 'RATED\\n  Faasos has always been my all time favourite place to enjoy some hygiene quality Rolls and wraps.\\n\\nMy favourites from Faasos are Cheese Melt Wrap and Double cheese meatball wrap.\\n\\nI also love their aromatic and authentic preparation of Biryani and will recommend that as well!\\n\\nReally amazing packaging and delicious food i must say for the price!'), ('Rated 5.0', 'RATED\\n  Fassos is one of the famous outlet and also among one which I loved. So this time i tried to had thier navratra meal which is just awesome as always. I had their panner makhanwala meal, which was perfectly awesome and contains many variety of dishes and also a portion of dessert. So this meal is more than enough for one person. Can recommend this outlet to anyone for tasty food.'), ('Rated 5.0', 'RATED\\n  Tried their navrata special menu and as I expected it was perfect and I ordered singhada aloo parantha and panner makhanwala royal navrata meal and as the name suggests it was seriously royal meal and comes with panner, sighada parantha, kheer, raita and its is just perfect and can easily fulfill hunger of 1-2 person and loves their delivery which is quite fast'), ('Rated 5.0', 'RATED\\n  FAASOS is A Well Known Name for Its Quick Bites and Rolls And I Am a big fan Of their Rolls and Order Frequently. This time I Tried Their Navratra Menu Which Included Sabutdana Wada And Curd Meal Which Was Delectable And A delight one Can have in Navratri. Second I tried Paneer Makhanwala Royal Navratri Meal Which contained Curd , Kheer , And Two vegetables and I just loved it to Bits. So do try their Rolls and Special Menu In Navratras.'), ('Rated 4.0', 'RATED\\n  We have already tried our hands on fassos roll and they are delicious, so this time we ordered Navratre special thali which is new to their menu..The thali has Singada Parantha, Sabudana wada, Hare tamatar ki sabzi, Paneer makhanwal and sabudana kheer & dahi..\\nThis royal thali is yummy and portions were good enough for fasting people..\\nFood delivered to us was hot and fresh..\\n\\naesthetichopper.wordpress.com'), ('Rated 5.0', 'RATED\\n  During Navratri i got to kbow that Fassos has launched special navratri meals and becquse i have always had good experience of ordering food from Fassos, i thought to give their Navratri food a try as well. I ordered:\\n\\n1.Hare Tamatar Sabudana Vada Royal Thali\\n2.Singhada Aloo Parantha & Paneer Makhanwala Royal Navratri meal\\n\\nBoth the meals were so satisfying with everything in that so delicious. Delivery was also on time as always. Really good experience.'), ('Rated 5.0', 'RATED\\n  Recently order aloo paratha with omlete and Cheesy chicken jumbo wrap. It was so yummy. The quantity was outstanding and quality amazed me. Their purple box always brings smile on my face. Love this place to the core.. the roll was loaded with chicken and it was so cheesy. Aloo paratha was heavenly. I love the spice they offer with rolls. It maked the food evn more good.'), ('Rated 5.0', 'RATED\\n  Tried their navrata special menu and as I expected it was perfect and I ordered singhada aloo parantha and panner makhanwala royal navrata meal and as the name suggests it was seriously royal meal and comes with panner, sighada parantha, kheer, raita and its is just perfect and can easily fulfill hunger of 1-2 person and loves their delivery which is quite fast'), ('Rated 5.0', 'RATED\\n  FAASOS is A Well Known Name for Its Quick Bites and Rolls And I Am a big fan Of their Rolls and Order Frequently. This time I Tried Their Navratra Menu Which Included Sabutdana Wada And Curd Meal Which Was Delectable And A delight one Can have in Navratri. Second I tried Paneer Makhanwala Royal Navratri Meal Which contained Curd , Kheer , And Two vegetables and I just loved it to Bits. So do try their Rolls and Special Menu In Navratras.'), ('Rated 4.0', 'RATED\\n  We have already tried our hands on fassos roll and they are delicious, so this time we ordered Navratre special thali which is new to their menu..The thali has Singada Parantha, Sabudana wada, Hare tamatar ki sabzi, Paneer makhanwal and sabudana kheer & dahi..\\nThis royal thali is yummy and portions were good enough for fasting people..\\nFood delivered to us was hot and fresh..\\n\\naesthetichopper.wordpress.com'), ('Rated 5.0', 'RATED\\n  During Navratri i got to kbow that Fassos has launched special navratri meals and becquse i have always had good experience of ordering food from Fassos, i thought to give their Navratri food a try as well. I ordered:\\n\\n1.Hare Tamatar Sabudana Vada Royal Thali\\n2.Singhada Aloo Parantha & Paneer Makhanwala Royal Navratri meal\\n\\nBoth the meals were so satisfying with everything in that so delicious. Delivery was also on time as always. Really good experience.'), ('Rated 5.0', 'RATED\\n  Recently order aloo paratha with omlete and Cheesy chicken jumbo wrap. It was so yummy. The quantity was outstanding and quality amazed me. Their purple box always brings smile on my face. Love this place to the core.. the roll was loaded with chicken and it was so cheesy. Aloo paratha was heavenly. I love the spice they offer with rolls. It maked the food evn more good.'), ('Rated 5.0', 'RATED\\n  Tried their navrata special menu and as I expected it was perfect and I ordered singhada aloo parantha and panner makhanwala royal navrata meal and as the name suggests it was seriously royal meal and comes with panner, sighada parantha, kheer, raita and its is just perfect and can easily fulfill hunger of 1-2 person and loves their delivery which is quite fast'), ('Rated 5.0', 'RATED\\n  FAASOS is A Well Known Name for Its Quick Bites and Rolls And I Am a big fan Of their Rolls and Order Frequently. This time I Tried Their Navratra Menu Which Included Sabutdana Wada And Curd Meal Which Was Delectable And A delight one Can have in Navratri. Second I tried Paneer Makhanwala Royal Navratri Meal Which contained Curd , Kheer , And Two vegetables and I just loved it to Bits. So do try their Rolls and Special Menu In Navratras.'), ('Rated 4.0', 'RATED\\n  We have already tried our hands on fassos roll and they are delicious, so this time we ordered Navratre special thali which is new to their menu..The thali has Singada Parantha, Sabudana wada, Hare tamatar ki sabzi, Paneer makhanwal and sabudana kheer & dahi..\\nThis royal thali is yummy and portions were good enough for fasting people..\\nFood delivered to us was hot and fresh..\\n\\naesthetichopper.wordpress.com'), ('Rated 5.0', 'RATED\\n  During Navratri i got to kbow that Fassos has launched special navratri meals and becquse i have always had good experience of ordering food from Fassos, i thought to give their Navratri food a try as well. I ordered:\\n\\n1.Hare Tamatar Sabudana Vada Royal Thali\\n2.Singhada Aloo Parantha & Paneer Makhanwala Royal Navratri meal\\n\\nBoth the meals were so satisfying with everything in that so delicious. Delivery was also on time as always. Really good experience.'), ('Rated 5.0', 'RATED\\n  Recently order aloo paratha with omlete and Cheesy chicken jumbo wrap. It was so yummy. The quantity was outstanding and quality amazed me. Their purple box always brings smile on my face. Love this place to the core.. the roll was loaded with chicken and it was so cheesy. Aloo paratha was heavenly. I love the spice they offer with rolls. It maked the food evn more good.'), ('Rated 5.0', 'RATED\\n  Tried their navrata special menu and as I expected it was perfect and I ordered singhada aloo parantha and panner makhanwala royal navrata meal and as the name suggests it was seriously royal meal and comes with panner, sighada parantha, kheer, raita and its is just perfect and can easily fulfill hunger of 1-2 person and loves their delivery which is quite fast'), ('Rated 5.0', 'RATED\\n  FAASOS is A Well Known Name for Its Quick Bites and Rolls And I Am a big fan Of their Rolls and Order Frequently. This time I Tried Their Navratra Menu Which Included Sabutdana Wada And Curd Meal Which Was Delectable And A delight one Can have in Navratri. Second I tried Paneer Makhanwala Royal Navratri Meal Which contained Curd , Kheer , And Two vegetables and I just loved it to Bits. So do try their Rolls and Special Menu In Navratras.'), ('Rated 4.0', 'RATED\\n  We have already tried our hands on fassos roll and they are delicious, so this time we ordered Navratre special thali which is new to their menu..The thali has Singada Parantha, Sabudana wada, Hare tamatar ki sabzi, Paneer makhanwal and sabudana kheer & dahi..\\nThis royal thali is yummy and portions were good enough for fasting people..\\nFood delivered to us was hot and fresh..\\n\\naesthetichopper.wordpress.com'), ('Rated 5.0', 'RATED\\n  During Navratri i got to kbow that Fassos has launched special navratri meals and becquse i have always had good experience of ordering food from Fassos, i thought to give their Navratri food a try as well. I ordered:\\n\\n1.Hare Tamatar Sabudana Vada Royal Thali\\n2.Singhada Aloo Parantha & Paneer Makhanwala Royal Navratri meal\\n\\nBoth the meals were so satisfying with everything in that so delicious. Delivery was also on time as always. Really good experience.'), ('Rated 5.0', 'RATED\\n  Recently order aloo paratha with omlete and Cheesy chicken jumbo wrap. It was so yummy. The quantity was outstanding and quality amazed me. Their purple box always brings smile on my face. Love this place to the core.. the roll was loaded with chicken and it was so cheesy. Aloo paratha was heavenly. I love the spice they offer with rolls. It maked the food evn more good.'), ('Rated 5.0', 'RATED\\n  Tried their navrata special menu and as I expected it was perfect and I ordered singhada aloo parantha and panner makhanwala royal navrata meal and as the name suggests it was seriously royal meal and comes with panner, sighada parantha, kheer, raita and its is just perfect and can easily fulfill hunger of 1-2 person and loves their delivery which is quite fast'), ('Rated 5.0', 'RATED\\n  FAASOS is A Well Known Name for Its Quick Bites and Rolls And I Am a big fan Of their Rolls and Order Frequently. This time I Tried Their Navratra Menu Which Included Sabutdana Wada And Curd Meal Which Was Delectable And A delight one Can have in Navratri. Second I tried Paneer Makhanwala Royal Navratri Meal Which contained Curd , Kheer , And Two vegetables and I just loved it to Bits. So do try their Rolls and Special Menu In Navratras.'), ('Rated 4.0', 'RATED\\n  We have already tried our hands on fassos roll and they are delicious, so this time we ordered Navratre special thali which is new to their menu..The thali has Singada Parantha, Sabudana wada, Hare tamatar ki sabzi, Paneer makhanwal and sabudana kheer & dahi..\\nThis royal thali is yummy and portions were good enough for fasting people..\\nFood delivered to us was hot and fresh..\\n\\naesthetichopper.wordpress.com'), ('Rated 5.0', 'RATED\\n  During Navratri i got to kbow that Fassos has launched special navratri meals and becquse i have always had good experience of ordering food from Fassos, i thought to give their Navratri food a try as well. I ordered:\\n\\n1.Hare Tamatar Sabudana Vada Royal Thali\\n2.Singhada Aloo Parantha & Paneer Makhanwala Royal Navratri meal\\n\\nBoth the meals were so satisfying with everything in that so delicious. Delivery was also on time as always. Really good experience.'), ('Rated 5.0', 'RATED\\n  Recently order aloo paratha with omlete and Cheesy chicken jumbo wrap. It was so yummy. The quantity was outstanding and quality amazed me. Their purple box always brings smile on my face. Love this place to the core.. the roll was loaded with chicken and it was so cheesy. Aloo paratha was heavenly. I love the spice they offer with rolls. It maked the food evn more good.'), ('Rated 5.0', 'RATED\\n  We had ordered from their navratri special menu and i generally donÃ\\x83Ã\\x83Ã\\x82Ã\\x82Ã\\x83Ã\\x82Ã\\x82Ã\\x92t like navratri food from any restaurant or even home cooked but this one was divine.\\nwe had ordered :-\\nSinghada Aloo Paratha & Paneer Makhanwala royal navratri meal.\\nHare Tamatar And Sabutdana Wada Royal Thali and trust me both of them were delicious. Must try thaliÃ\\x83Ã\\x83Ã\\x82Ã\\x82Ã\\x83Ã\\x82Ã\\x82Ã\\x92s\\n\\nyourfoodcompanion.wordpress.com'), ('Rated 4.5', 'RATED\\n  FAASOS\\n\\nJumbo Chicken Wrap\\n\\nBhuna Chicken & Chicken Tikka Wrap\\n\\nJumbo Chicken Wrap:- The perfect taste of bhuna ( spicy ) chicken with the combination of mayo sauce, this wrap was really huge and mouth watering. The product which they delivered to me was completely fresh and mind blowing\\n\\nBhuna Chicken & Chicken Tikka Wrap:- In this wrap you will get original taste of bhuna chicken & chicken tikka with the tandoori sauce the wrap was completely loaded with the bhuna chicken, chicken tikka and tandoori sauce.\\n\\nOverall Experience Was Good, Will Recommend To Everyone.\\n\\nCheers!!'), ('Rated 5.0', 'RATED\\n  This was my second time trying faasos lunch box and the experience was just perfect. Actually this time i ordered a Navratra special thali and it was just perfect in taste and the quantity of box was also enough for 1 person. I love the faasos lunch box..it is the best lunch box available in the market.\\nThe delivery was also very fast.'), ('Rated 5.0', 'RATED\\n  The Navaratri special thali of faasos is amazing. It was really tasty. The thalli included paneer, curd, potato, and 2 chapattis. Each and every bite was a bliss. Truly enjoyed this meal! \\U0001f929'), ('Rated 5.0', 'RATED\\n  Faasos is a perfect place to order some lip smacking fast food.\\nI ordered Paneer steak , Veg jumbo roll and paneer cheesy roll.\\nThey had Navratri Special Menu also which was a unique concept.\\nPackaging was awesome.\\nTaste was up to the mark.\\nPaneer steak was amazing.\\nWould Love to order from here again.'), ('Rated 5.0', 'RATED\\n  We had ordered from their navratri special menu and i generally donÃ\\x83Ã\\x83Ã\\x82Ã\\x82Ã\\x83Ã\\x82Ã\\x82Ã\\x92t like navratri food from any restaurant or even home cooked but this one was divine.\\nwe had ordered :-\\nSinghada Aloo Paratha & Paneer Makhanwala royal navratri meal.\\nHare Tamatar And Sabutdana Wada Royal Thali and trust me both of them were delicious. Must try thaliÃ\\x83Ã\\x83Ã\\x82Ã\\x82Ã\\x83Ã\\x82Ã\\x82Ã\\x92s\\n\\nyourfoodcompanion.wordpress.com'), ('Rated 4.5', 'RATED\\n  FAASOS\\n\\nJumbo Chicken Wrap\\n\\nBhuna Chicken & Chicken Tikka Wrap\\n\\nJumbo Chicken Wrap:- The perfect taste of bhuna ( spicy ) chicken with the combination of mayo sauce, this wrap was really huge and mouth watering. The product which they delivered to me was completely fresh and mind blowing\\n\\nBhuna Chicken & Chicken Tikka Wrap:- In this wrap you will get original taste of bhuna chicken & chicken tikka with the tandoori sauce the wrap was completely loaded with the bhuna chicken, chicken tikka and tandoori sauce.\\n\\nOverall Experience Was Good, Will Recommend To Everyone.\\n\\nCheers!!'), ('Rated 5.0', 'RATED\\n  This was my second time trying faasos lunch box and the experience was just perfect. Actually this time i ordered a Navratra special thali and it was just perfect in taste and the quantity of box was also enough for 1 person. I love the faasos lunch box..it is the best lunch box available in the market.\\nThe delivery was also very fast.'), ('Rated 5.0', 'RATED\\n  The Navaratri special thali of faasos is amazing. It was really tasty. The thalli included paneer, curd, potato, and 2 chapattis. Each and every bite was a bliss. Truly enjoyed this meal! \\U0001f929'), ('Rated 5.0', 'RATED\\n  Faasos is a perfect place to order some lip smacking fast food.\\nI ordered Paneer steak , Veg jumbo roll and paneer cheesy roll.\\nThey had Navratri Special Menu also which was a unique concept.\\nPackaging was awesome.\\nTaste was up to the mark.\\nPaneer steak was amazing.\\nWould Love to order from here again.'), ('Rated 5.0', 'RATED\\n  We had ordered from their navratri special menu and i generally donÃ\\x83Ã\\x83Ã\\x82Ã\\x82Ã\\x83Ã\\x82Ã\\x82Ã\\x92t like navratri food from any restaurant or even home cooked but this one was divine.\\nwe had ordered :-\\nSinghada Aloo Paratha & Paneer Makhanwala royal navratri meal.\\nHare Tamatar And Sabutdana Wada Royal Thali and trust me both of them were delicious. Must try thaliÃ\\x83Ã\\x83Ã\\x82Ã\\x82Ã\\x83Ã\\x82Ã\\x82Ã\\x92s\\n\\nyourfoodcompanion.wordpress.com'), ('Rated 4.5', 'RATED\\n  FAASOS\\n\\nJumbo Chicken Wrap\\n\\nBhuna Chicken & Chicken Tikka Wrap\\n\\nJumbo Chicken Wrap:- The perfect taste of bhuna ( spicy ) chicken with the combination of mayo sauce, this wrap was really huge and mouth watering. The product which they delivered to me was completely fresh and mind blowing\\n\\nBhuna Chicken & Chicken Tikka Wrap:- In this wrap you will get original taste of bhuna chicken & chicken tikka with the tandoori sauce the wrap was completely loaded with the bhuna chicken, chicken tikka and tandoori sauce.\\n\\nOverall Experience Was Good, Will Recommend To Everyone.\\n\\nCheers!!'), ('Rated 5.0', 'RATED\\n  This was my second time trying faasos lunch box and the experience was just perfect. Actually this time i ordered a Navratra special thali and it was just perfect in taste and the quantity of box was also enough for 1 person. I love the faasos lunch box..it is the best lunch box available in the market.\\nThe delivery was also very fast.'), ('Rated 5.0', 'RATED\\n  The Navaratri special thali of faasos is amazing. It was really tasty. The thalli included paneer, curd, potato, and 2 chapattis. Each and every bite was a bliss. Truly enjoyed this meal! \\U0001f929'), ('Rated 5.0', 'RATED\\n  Faasos is a perfect place to order some lip smacking fast food.\\nI ordered Paneer steak , Veg jumbo roll and paneer cheesy roll.\\nThey had Navratri Special Menu also which was a unique concept.\\nPackaging was awesome.\\nTaste was up to the mark.\\nPaneer steak was amazing.\\nWould Love to order from here again.'), ('Rated 5.0', 'RATED\\n  We had ordered from their navratri special menu and i generally donÃ\\x83Ã\\x83Ã\\x82Ã\\x82Ã\\x83Ã\\x82Ã\\x82Ã\\x92t like navratri food from any restaurant or even home cooked but this one was divine.\\nwe had ordered :-\\nSinghada Aloo Paratha & Paneer Makhanwala royal navratri meal.\\nHare Tamatar And Sabutdana Wada Royal Thali and trust me both of them were delicious. Must try thaliÃ\\x83Ã\\x83Ã\\x82Ã\\x82Ã\\x83Ã\\x82Ã\\x82Ã\\x92s\\n\\nyourfoodcompanion.wordpress.com'), ('Rated 4.5', 'RATED\\n  FAASOS\\n\\nJumbo Chicken Wrap\\n\\nBhuna Chicken & Chicken Tikka Wrap\\n\\nJumbo Chicken Wrap:- The perfect taste of bhuna ( spicy ) chicken with the combination of mayo sauce, this wrap was really huge and mouth watering. The product which they delivered to me was completely fresh and mind blowing\\n\\nBhuna Chicken & Chicken Tikka Wrap:- In this wrap you will get original taste of bhuna chicken & chicken tikka with the tandoori sauce the wrap was completely loaded with the bhuna chicken, chicken tikka and tandoori sauce.\\n\\nOverall Experience Was Good, Will Recommend To Everyone.\\n\\nCheers!!'), ('Rated 5.0', 'RATED\\n  This was my second time trying faasos lunch box and the experience was just perfect. Actually this time i ordered a Navratra special thali and it was just perfect in taste and the quantity of box was also enough for 1 person. I love the faasos lunch box..it is the best lunch box available in the market.\\nThe delivery was also very fast.'), ('Rated 5.0', 'RATED\\n  The Navaratri special thali of faasos is amazing. It was really tasty. The thalli included paneer, curd, potato, and 2 chapattis. Each and every bite was a bliss. Truly enjoyed this meal! \\U0001f929'), ('Rated 5.0', 'RATED\\n  Faasos is a perfect place to order some lip smacking fast food.\\nI ordered Paneer steak , Veg jumbo roll and paneer cheesy roll.\\nThey had Navratri Special Menu also which was a unique concept.\\nPackaging was awesome.\\nTaste was up to the mark.\\nPaneer steak was amazing.\\nWould Love to order from here again.'), ('Rated 5.0', 'RATED\\n  I ordered from the Navratra Menu during Navratri this month. Out of the wide variety offered I ordered the Sabudana Vada and Curd meal and Kuttu Aloo Parantha with Paneer Makhanwala Royal Meal.\\n\\nThe Sabudana Vada was perfectly made and was a great light meal paired with curd. The Kutti Aloo Paratha and Paneer Makhanwala Royal Meal was a great combination. Making aloo paratha with Kuttu is a great idea and it tasted amazing. The meal also included a portion of curd and a portion of Hare Tamatar ki Sabzi.\\n\\nThe overall experience of ordering food from here was excellent as the food was delivered fresh and on time with good packing to avoid spills and leaks.\\n\\nsaltpepperfoodguide.wordpress.com'), ('Rated 5.0', 'RATED\\n  I ordered Navratri thali from this outlet\\n\\nKuttu and aallu rotis were ery soft and tasty\\n\\nGreen tamatar ki sabzi was delicious\\n\\nGravy and taste of allu ki sabzi was perfect\\n\\nConsistency and thickness of Sabudana kheer was perfect\\n\\nEverything in this Thali was sufficient for two people'), ('Rated 4.0', 'RATED\\n  I had cheese melt paneer wrap and jumbo chicken wrap. The veg wrap was good, but as it was cheese based it was on bland side. Chicken wrap was also decent. Next time I will try wraps with paratha base.'), ('Rated 4.0', 'RATED\\n  I ordered from Fasoos . Their biryanis are really good! They deliver really fast. I got my order within 20 minutes from when I placed the order.\\nThey have wonderful wraps too.'), ('Rated 4.0', 'RATED\\n  I had ordered the paneer cheese melt and chicken mayo wraps from this place. Both had a really generous amount of cheese in them just as the names suggest. The seasoning given alongside goes well with the wraps, and add a good amount of flavour in them. The delivery was good and the order arrived hot and in time.'), ('Rated 5.0', 'RATED\\n  I ordered from the Navratra Menu during Navratri this month. Out of the wide variety offered I ordered the Sabudana Vada and Curd meal and Kuttu Aloo Parantha with Paneer Makhanwala Royal Meal.\\n\\nThe Sabudana Vada was perfectly made and was a great light meal paired with curd. The Kutti Aloo Paratha and Paneer Makhanwala Royal Meal was a great combination. Making aloo paratha with Kuttu is a great idea and it tasted amazing. The meal also included a portion of curd and a portion of Hare Tamatar ki Sabzi.\\n\\nThe overall experience of ordering food from here was excellent as the food was delivered fresh and on time with good packing to avoid spills and leaks.\\n\\nsaltpepperfoodguide.wordpress.com'), ('Rated 5.0', 'RATED\\n  I ordered Navratri thali from this outlet\\n\\nKuttu and aallu rotis were ery soft and tasty\\n\\nGreen tamatar ki sabzi was delicious\\n\\nGravy and taste of allu ki sabzi was perfect\\n\\nConsistency and thickness of Sabudana kheer was perfect\\n\\nEverything in this Thali was sufficient for two people'), ('Rated 4.0', 'RATED\\n  I had cheese melt paneer wrap and jumbo chicken wrap. The veg wrap was good, but as it was cheese based it was on bland side. Chicken wrap was also decent. Next time I will try wraps with paratha base.'), ('Rated 4.0', 'RATED\\n  I ordered from Fasoos . Their biryanis are really good! They deliver really fast. I got my order within 20 minutes from when I placed the order.\\nThey have wonderful wraps too.'), ('Rated 4.0', 'RATED\\n  I had ordered the paneer cheese melt and chicken mayo wraps from this place. Both had a really generous amount of cheese in them just as the names suggest. The seasoning given alongside goes well with the wraps, and add a good amount of flavour in them. The delivery was good and the order arrived hot and in time.'), ('Rated 5.0', 'RATED\\n  I ordered from the Navratra Menu during Navratri this month. Out of the wide variety offered I ordered the Sabudana Vada and Curd meal and Kuttu Aloo Parantha with Paneer Makhanwala Royal Meal.\\n\\nThe Sabudana Vada was perfectly made and was a great light meal paired with curd. The Kutti Aloo Paratha and Paneer Makhanwala Royal Meal was a great combination. Making aloo paratha with Kuttu is a great idea and it tasted amazing. The meal also included a portion of curd and a portion of Hare Tamatar ki Sabzi.\\n\\nThe overall experience of ordering food from here was excellent as the food was delivered fresh and on time with good packing to avoid spills and leaks.\\n\\nsaltpepperfoodguide.wordpress.com'), ('Rated 5.0', 'RATED\\n  I ordered Navratri thali from this outlet\\n\\nKuttu and aallu rotis were ery soft and tasty\\n\\nGreen tamatar ki sabzi was delicious\\n\\nGravy and taste of allu ki sabzi was perfect\\n\\nConsistency and thickness of Sabudana kheer was perfect\\n\\nEverything in this Thali was sufficient for two people'), ('Rated 4.0', 'RATED\\n  I had cheese melt paneer wrap and jumbo chicken wrap. The veg wrap was good, but as it was cheese based it was on bland side. Chicken wrap was also decent. Next time I will try wraps with paratha base.'), ('Rated 4.0', 'RATED\\n  I ordered from Fasoos . Their biryanis are really good! They deliver really fast. I got my order within 20 minutes from when I placed the order.\\nThey have wonderful wraps too.'), ('Rated 4.0', 'RATED\\n  I had ordered the paneer cheese melt and chicken mayo wraps from this place. Both had a really generous amount of cheese in them just as the names suggest. The seasoning given alongside goes well with the wraps, and add a good amount of flavour in them. The delivery was good and the order arrived hot and in time.'), ('Rated 4.0', 'RATED\\n  Food - 4/5\\n\\nDelivery -5/5\\n\\nService - 5/5\\n\\nMust Try - Sabudana Khichdi Royal Sattvick Meal\\n\\nClue - Tasty Navratri Thali comprising of Sabudhana Khichdi, must try Hare tamatar Sabzi, Sabudhana kheer and Paneer butter masala.'), ('Rated 5.0', 'RATED\\n  I ordered the navaratri special food from the fasoos. Inside the box there was sabudana rice,paneer masala, curd ,kheer . Every food was amazingly cooked and delicious to taste. Every food in the box was proper placed and hot at the time of receiving. One of the best already cooked food to try on navaratri fast.'), ('Rated 4.0', 'RATED\\n  Order food via Swiggy, packing and delivery time was rocking fast good, quantity is perfect every thing perfectly cooked. Best part i like it was hot even when i was eating so every single bite had the freshness. Taste 8.5/10.'), ('Rated 4.0', 'RATED\\n  They serve the best wraps in Bangalore. We had falafel wrap and masala potato wrap.Both the wraps were delicious and filling at the same time.Also the delivery was on time which made the experience worth it. Their wraps truly deserve a chance.'), ('Rated 4.0', 'RATED\\n  Are you craving for Yummy Wraps and at the same time in a good quantity? then definitely Faasos will never disappoint you.  We ordered Cheese Melt Paneer Wrap and Jumbo chicken Wrap.  The wraps were filled with a perfect amount of Panner and cheese and Chicken. It makes you want more and more.  Highly recommended for Wraps.'), ('Rated 4.0', 'RATED\\n  Food - 4/5\\n\\nDelivery -5/5\\n\\nService - 5/5\\n\\nMust Try - Sabudana Khichdi Royal Sattvick Meal\\n\\nClue - Tasty Navratri Thali comprising of Sabudhana Khichdi, must try Hare tamatar Sabzi, Sabudhana kheer and Paneer butter masala.'), ('Rated 5.0', 'RATED\\n  I ordered the navaratri special food from the fasoos. Inside the box there was sabudana rice,paneer masala, curd ,kheer . Every food was amazingly cooked and delicious to taste. Every food in the box was proper placed and hot at the time of receiving. One of the best already cooked food to try on navaratri fast.'), ('Rated 4.0', 'RATED\\n  Order food via Swiggy, packing and delivery time was rocking fast good, quantity is perfect every thing perfectly cooked. Best part i like it was hot even when i was eating so every single bite had the freshness. Taste 8.5/10.'), ('Rated 4.0', 'RATED\\n  They serve the best wraps in Bangalore. We had falafel wrap and masala potato wrap.Both the wraps were delicious and filling at the same time.Also the delivery was on time which made the experience worth it. Their wraps truly deserve a chance.'), ('Rated 4.0', 'RATED\\n  Are you craving for Yummy Wraps and at the same time in a good quantity? then definitely Faasos will never disappoint you.  We ordered Cheese Melt Paneer Wrap and Jumbo chicken Wrap.  The wraps were filled with a perfect amount of Panner and cheese and Chicken. It makes you want more and more.  Highly recommended for Wraps.'), ('Rated 4.0', 'RATED\\n  Food - 4/5\\n\\nDelivery -5/5\\n\\nService - 5/5\\n\\nMust Try - Sabudana Khichdi Royal Sattvick Meal\\n\\nClue - Tasty Navratri Thali comprising of Sabudhana Khichdi, must try Hare tamatar Sabzi, Sabudhana kheer and Paneer butter masala.'), ('Rated 5.0', 'RATED\\n  I ordered the navaratri special food from the fasoos. Inside the box there was sabudana rice,paneer masala, curd ,kheer . Every food was amazingly cooked and delicious to taste. Every food in the box was proper placed and hot at the time of receiving. One of the best already cooked food to try on navaratri fast.'), ('Rated 4.0', 'RATED\\n  Order food via Swiggy, packing and delivery time was rocking fast good, quantity is perfect every thing perfectly cooked. Best part i like it was hot even when i was eating so every single bite had the freshness. Taste 8.5/10.'), ('Rated 4.0', 'RATED\\n  They serve the best wraps in Bangalore. We had falafel wrap and masala potato wrap.Both the wraps were delicious and filling at the same time.Also the delivery was on time which made the experience worth it. Their wraps truly deserve a chance.'), ('Rated 4.0', 'RATED\\n  Are you craving for Yummy Wraps and at the same time in a good quantity? then definitely Faasos will never disappoint you.  We ordered Cheese Melt Paneer Wrap and Jumbo chicken Wrap.  The wraps were filled with a perfect amount of Panner and cheese and Chicken. It makes you want more and more.  Highly recommended for Wraps.'), ('Rated 4.0', \"RATED\\n  I have been a faasos customer for about one and half years now. Apart from a couple of times faasos has always impressed me with its on time delivery. Their faasos bolt promise is also a great initiative. Their wide variety of great food items make sure u don't get bored soon.\\n\\nWe ordered:\\n1. Chicken keema tikki wrap - Amazing.\\n2. Jumbo chicken rice feast - Amazing.\"), ('Rated 3.0', 'RATED\\n  I had ordered cheese and paneer wraps , the wraps were good with just right amount of spice and masala , the paneer content was also good which I got wholesome of paneer and cheese. Though the price is on higher side , the wraps kind off justified the price. I would recommend the wraps I think 1 or 2 wraps would fill your tummy on an average , give it a try if you like some good wraps.\\n\\nThe singhada aloo paratha with paneer makanwala is not that great and the gravy provided was very bland and you try to order other good stuff from them.')]",
         "['Chole Kulcha Meal', 'Upvas Aloo Paratha With Dahi', 'Singhada Aloo Paratha with Hare Tamatar Ki Sabji', 'Smoked Butter Chicken Combo', 'Paneer Methi Chaman Combo', 'Mutton Bhuna Combo', 'Rajma Masala Meal', 'Dal Makhani Veg Starter Combo', 'Dal Makhani Non-Veg Starter Combo', 'Malai Kofta Combo', 'Jumbo Chicken Wrap', 'Jumbo Veg Wrap', 'Jumbo Falafel Salsa Wrap', 'Chicken Overload Jumbo Wrap', 'Veg Pizza Wrap', 'Chicken Pizza Wrap', 'Mexican Potato Salsa Wrap', 'American Smokey Sausage Wrap', 'Makhani Falafel Wrap', 'Mutton Overload Wrap', 'Mac & Cheese Chicken Wrap', 'Mac & Cheese Veg Wrap', 'Barbeque Chicken Wrap', 'Mutton Boti Wrap', 'Masala Paneer Tikka Wrap', 'Fiery Paneer Tikka Wrap', 'Masala Chicken Tikka Wrap', 'Cheesy Corn Salsa Wrap', 'Chicken Mayo Wrap', 'Cheese Melt Chicken Wrap', 'Cheese Melt Paneer Wrap', 'Double Cheese Meatball Wrap', 'Reshmi Chicken Kebab Wrap', 'Egg Cheese Sausage Wrap', 'Double Egg Chatpata Wrap', 'Cheesy Potato Wrap', 'Veg Falafel Wrap', 'Chicken Bhuna Wrap', 'Chatpate Chole Wrap', 'Fiery Paneer Wrap', 'Fiery Chicken Wrap', 'Mac & Cheese Wrap', 'Hare Tamatar & Sabudana Wada Royal Thali', 'Singhada Aloo Paratha & Hare Tamatar Royal Satvik Meal', 'Smoked Butter Chicken With Omelette', 'Rajma Masala Royal Combo', 'Paneer Methi Chaman Royal Combo', 'Mutton Bhuna Royal Combo', 'Smoked Butter Chicken Royal Combo', 'Malai Kofta Royal Combo', 'Fusion Breakfast', 'Pan Cake', 'Aloo Paratha Combo', 'Chai for 4', 'Cheesy Chicken Meatballs', 'Peach Tea (Serves 4)', 'Falafel Nuggets with Mayo Dip', 'Potato Chilli Shots with Mayo Dip', 'Pan Cake', 'Kashmiri Kahwa (Serves 4)', 'Masala Chai (Serves 4)', 'Chai for 4 + Nature valley bar', 'Kulcha', 'Flavorful Rice Tub', 'Dal Makhani Bowl (Half KG)', 'Smoked Butter Chicken Bowl (Half KG)', 'Mutton Bhuna Bowl (Half KG)', 'Singhada Aloo Paratha Tub', 'Curd Bowl (Half KG)', 'Hare Tamatar Ki Subji (Half KG)', 'Rajma Masala Bowl (Half KG)', 'Triangle Paratha Tub', 'Malai Kofta Bowl (Half Kg)', 'Chocolate Fantasy', 'SWIG Jeera Masala', 'SWIG Green apple', 'Kesar Muesli', 'Gulab Jamun (Pack Of 2)', 'Plum Cake', 'Gulab Jamun (Pack of 1)', 'Moments', 'Hazelnut Brownie (Pack Of 1)', 'CheeseCake (Pack of 1)', 'Chocolate Decadence (Pack of 1)', 'Red Velvet Slice Cake (Pack of 1)', 'Mint Chaas']",
         "Delivery",
         "Banashankari"
        ],
        [
         "35",
         "https://www.zomato.com/bangalore/behrouz-biryani-banashankari?context=eyJzZSI6eyJlIjpbIjU3NjAxIiwiMTg1NTE3MDciLCIxODQ1NzYwNiIsIjU5MDg2IiwxODM1OTkxOCwiMTg2MTgzNDMiLCI1NzMyNSIsIjU1Mzk3IiwiMTg1NjMwOTciLCI1Njg4MyIsIjE4MzA3ODA2IiwiNTg2MzYiLCI1MzYwMSIsIjE4NTY1Njc5IiwiMTg1NTk4OTciXSwidCI6IkRlbGl2ZXJ5IFJlc3RhdXJhbnRzIGluIEJhbmFzaGFua2FyaSJ9fQ==",
         "101, Ground Floor, Manjunatha Complex, 22nd Main Road, 2nd Stage, Banashankari, Bangalore",
         "Behrouz Biryani",
         "Yes",
         "No",
         "3.9/5",
         "230",
         "+91 7022260661\r\n+91 7022260662",
         "Banashankari",
         "Delivery",
         "Raita, Gulab Jamun, Paneer Biryani, Vegetable Biryani, Gosht Dum Biryani, Chicken Biryani, Murgh Biryani",
         "Biryani",
         "650",
         "[('Rated 1.0', \"RATED\\n  Had ordered 'Zaikedaar paneer biryani regular' for lunch.\\n\\nConsidering the history explained on the package box about the behrouz biryani legacy of 2000 years, i clearly felt it was not upto the mark as i have been a biryani lover for years now. Given the price i had to pay for this food (324 rupees for ONE biryani) they could have done much better than what i got. The biryani was dry. Medium flavoured. The rice was not frangrant.\\n\\nI was asked to choose one among - Mint chutney or gravy. I needed to pay more if i wanted both !.. Even a place that would give 80 rupee biryani provides both of this accomplaints.\\n\\nThe packaging was good but only half of the box was biryani. Other half was chutney and jamoon. Felt disppointed with less qty.\\n\\nOnly thing i can appreciate is the gulab jamoon.\\n\\nValue for money - 1/5 (1 is given for gulab jamoon)\\nPackaging - 4/5\\nQuantity - 3/5\\nQuality - 3/5\"), ('Rated 5.0', \"RATED\\n  Behrouz Biryani is one of the best Biryani's I have ever had. The oil used is fortune Biryani special oil. Which really makes up the taste. The rice quality is very good. Taste of Biryani is delicious. The mutton pieces are so big and tender. I will definitely order again. It's reasonable and it's all in one pack.??\"), ('Rated 5.0', \"RATED\\n  Incredibly rich, i am so bissed towards them that I have made Behrouz my go-to Biryani everytime I think about the B word. This time had bhuna murgh biryani which came on a platter of fragrant rice with dry fruits sprinkled on top. Majestic, I'd say. Got some crisp shallow fried chicken sausages along with the biryani, such a refreshing change. Way to go, Behrouz. As I said, you are the new B word in town!\"), ('Rated 5.0', 'RATED\\n  so epic biryanis. just loved it. ordered the shahi biryani with shahi kebabs. the packing was so good, just amazing and tasty also. mouth watering biryani with the mint sauce. loved it'), ('Rated 5.0', \"RATED\\n  Heard alot about Behrouz Biryani. It's a recipe from 2000 years. The rice used is basmati which gives richness in the Biryani. Food is really good. I liked the fact its a meal box you get curd and Gulabjamun along with that. I had a great lunch and it was sufficient for 1 person. Their were tender soft pieces of Mutton and the taste was really good.\"), ('Rated 5.0', 'RATED\\n  We had our mouth watering biryaani from behrouz Biryani. Their packing was really amazing and the biryani appeared to be very tempting. It had the best biryani i had ever tasted. It was full of masala. The rice was very soft and so was the chicken. The masala when mixed with the rice\\n\\nTasted like heaven. It gave a maximum level of satisfaction. Any biryani lover would crave for this chicken biryani. Along with it we had the gulab jamun which was soft and fresh. The sugar water was all inside the gulab jamun.'), ('Rated 5.0', \"RATED\\n  It's one of the best place for real biryani lovers. It's my regular place, when I am in Delhi, and always the 1st choice when am on trip to any place. Came to Bengaluru for an official trip and was carving for biryani and saw the outlet of Behrouz..a trusted place...ordered murgh Kefta and chicken Biryani..biryani came with raita and a yummy gulab jamun. Just finished the food within few minutes. Always one of my 1st choice whenever possible.\"), ('Rated 4.0', 'RATED\\n  This review is based on an online order. I ordered a paneer biryani through the behrouz app (faasos). The delivery took around 45 minutes. Packaging was good but there was no cutlery given to me. Biryani was fantastic and fresh. Ample quantity for 1 person and good masala was added along with few almond chunks. They also give raita and jamoon with the biryani. This was for 240? and I feel the price can be more competitive.'), ('Rated 5.0', 'RATED\\n  Ordered a murg makhani biryani ( king size ). Loved the presentation of the dish with shavings of almonds. Perfectly cooked and flavoured long grain rice. The masala was yummy. This dish made my day. My family loved this biryani too.')]",
         "[]",
         "Delivery",
         "Banashankari"
        ],
        [
         "36",
         "https://www.zomato.com/bangalore/fast-and-fresh-1-banashankari?context=eyJzZSI6eyJlIjpbIjE4NTUxNzA3IiwiMTg0NTc2MDYiLCI1OTA4NiIsIjE4MzU5OTE4IiwxODYxODM0MywiNTczMjUiLCI1NTM5NyIsIjE4NTYzMDk3IiwiNTY4ODMiLCIxODMwNzgwNiIsIjU4NjM2IiwiNTM2MDEiLCIxODU2NTY3OSIsIjE4NTU5ODk3IiwiMTg2OTcyMTEiLCI1MjI1NSIsIjUxMzQ4IiwiMTgzNzEyNzIiLCIxODc4MjIwOSIsIjE4Nzg3ODgzIiwiMTgwODk2ODIiLCIxODUyMTkxMiIsIjU2MDk4IiwiMTgwODk2OTMiXSwidCI6IkRlbGl2ZXJ5IFJlc3RhdXJhbnRzIGluIEJhbmFzaGFua2FyaSJ9fQ==",
         "32, 7th Main Road, Dwaraka Nagar,Near PES College, Banashankari, Bangalore",
         "Fast And Fresh",
         "Yes",
         "No",
         "2.8/5",
         "91",
         "+91 9742974232",
         "Banashankari",
         "Quick Bites",
         null,
         "North Indian, Chinese, Fast Food",
         "400",
         "[('Rated 1.0', 'RATED\\n  Half baked rice in a special meal. Half baked roti only panneer curry was good. Serve the order with good quality or stop serving food in late nights or mid night'), ('Rated 1.0', 'RATED\\n  Not the standard quality'), ('Rated 5.0', 'RATED\\n  good'), ('Rated 1.0', 'RATED\\n  Cold food'), ('Rated 1.0', \"RATED\\n  pathetic service food is cold delivered 25 min late delivery person don't have change waiting for him to come nd return the money\"), ('Rated 2.0', \"RATED\\n  Biriyani is actually not good ND drink is not even cool it's so hot. it's not reasonable for wt I got review from my friend\"), ('Rated 1.0', 'RATED\\n  food quantity less'), ('Rated 3.0', 'RATED\\n  in order they told kabab is there but after getting food no kebab in it....'), ('Rated 1.0', 'RATED\\n  Taste is not good'), ('Rated 2.0', 'RATED\\n  Unhappy with food'), ('Rated 1.0', \"RATED\\n  it was so horrible starter .. I am not sure it was gobi or something else .. plz don't order in Fast and fresh it's not at all fresh the food is spoiled. when we gave a call to restaurant ppl to address our concern he was really rude n he hung up call without responding to us. we would like to get our refund.\"), ('Rated 5.0', \"RATED\\n  it's nice\"), ('Rated 1.0', 'RATED\\n  I did not get my order..'), ('Rated 1.0', \"RATED\\n  waste don't order from this resturant\"), ('Rated 1.0', 'RATED\\n  food was not good at all'), ('Rated 1.0', 'RATED\\n  I Combo k but no taste'), ('Rated 1.0', 'RATED\\n  Chicken is too bad'), ('Rated 1.0', \"RATED\\n  the food was like bull shit. all old stock meat. kindly don't order in this hotel if you want to be alive.\"), ('Rated 4.0', 'RATED\\n  it was a lassi or a curd'), ('Rated 1.0', 'RATED\\n  I ordered Sprite but they people given thumsup and very bad delivery service'), ('Rated 1.0', 'RATED\\n  I Combo k but no taste'), ('Rated 1.0', 'RATED\\n  Chicken is too bad'), ('Rated 1.0', \"RATED\\n  the food was like bull shit. all old stock meat. kindly don't order in this hotel if you want to be alive.\"), ('Rated 4.0', 'RATED\\n  it was a lassi or a curd'), ('Rated 1.0', 'RATED\\n  I ordered Sprite but they people given thumsup and very bad delivery service'), ('Rated 1.0', 'RATED\\n  I Combo k but no taste'), ('Rated 1.0', 'RATED\\n  Chicken is too bad'), ('Rated 1.0', \"RATED\\n  the food was like bull shit. all old stock meat. kindly don't order in this hotel if you want to be alive.\"), ('Rated 4.0', 'RATED\\n  it was a lassi or a curd'), ('Rated 1.0', 'RATED\\n  I ordered Sprite but they people given thumsup and very bad delivery service'), ('Rated 2.0', 'RATED\\n  please make it big the size of a food box please dnt be selfies'), ('Rated 1.0', 'RATED\\n  Worst coffee. First of all the coffee was spill and there was only half coffee that to without straw.\\nWorst experience'), ('Rated 2.0', 'RATED\\n  Taste and gobi (quality and quantity) not good packing good so only 2'), ('Rated 1.0', 'RATED\\n  dabha fellow . ordered something delivered something non sense'), ('Rated 1.0', 'RATED\\n  not happy with the taste of food'), ('Rated 2.0', 'RATED\\n  please make it big the size of a food box please dnt be selfies'), ('Rated 1.0', 'RATED\\n  Worst coffee. First of all the coffee was spill and there was only half coffee that to without straw.\\nWorst experience'), ('Rated 2.0', 'RATED\\n  Taste and gobi (quality and quantity) not good packing good so only 2'), ('Rated 1.0', 'RATED\\n  dabha fellow . ordered something delivered something non sense'), ('Rated 1.0', 'RATED\\n  not happy with the taste of food'), ('Rated 3.0', \"RATED\\n  It wasn't packed properly\"), ('Rated 3.0', 'RATED\\n  Awesome taste and on time delivery but I have ordered for Gulab jamoon with Rasmalai but I got oly jamoon n I paid 90 bucks from tat ! So management ppl\\nShould check orders properly before delivering it !'), ('Rated 5.0', 'RATED\\n  good'), ('Rated 5.0', 'RATED\\n  nice delivery boy'), ('Rated 1.0', \"RATED\\n  I've been through a lot of rough relationships but I've never found such a let down in my life.\\nTrust me I tried my best. Hope you get better :)\"), ('Rated 3.0', \"RATED\\n  It wasn't packed properly\"), ('Rated 3.0', 'RATED\\n  Awesome taste and on time delivery but I have ordered for Gulab jamoon with Rasmalai but I got oly jamoon n I paid 90 bucks from tat ! So management ppl\\nShould check orders properly before delivering it !'), ('Rated 5.0', 'RATED\\n  good'), ('Rated 5.0', 'RATED\\n  nice delivery boy'), ('Rated 1.0', \"RATED\\n  I've been through a lot of rough relationships but I've never found such a let down in my life.\\nTrust me I tried my best. Hope you get better :)\"), ('Rated 2.0', 'RATED\\n  I was order for dry but received gravy'), ('Rated 1.0', 'RATED\\n  he asked me to come down'), ('Rated 2.0', 'RATED\\n  we ordered something and they delivered something else .. and food is ok ok ..'), ('Rated 1.0', 'RATED\\n  worst food ever'), ('Rated 1.0', 'RATED\\n  Shittiest food ever eaten in my life. That promise something and gv something else. I had ordered a thali which wasnt complete s it was missing one order. Will never order from zomato or foodiction.\\nWorst ever experience.'), ('Rated 2.0', 'RATED\\n  I was order for dry but received gravy'), ('Rated 1.0', 'RATED\\n  he asked me to come down'), ('Rated 2.0', 'RATED\\n  we ordered something and they delivered something else .. and food is ok ok ..'), ('Rated 1.0', 'RATED\\n  worst food ever'), ('Rated 1.0', 'RATED\\n  Shittiest food ever eaten in my life. That promise something and gv something else. I had ordered a thali which wasnt complete s it was missing one order. Will never order from zomato or foodiction.\\nWorst ever experience.'), ('Rated 5.0', 'RATED\\n  superrrr'), ('Rated 5.0', 'RATED\\n  its so hygienic n so neat I like it sir thank you for your instant delivery . Superb tasty n healthy food too for all . thank you for your maintenance sir .'), ('Rated 5.0', 'RATED\\n  Food is good. Paisawasool food'), ('Rated 1.0', 'RATED\\n  Its tooo cheap quality its road side food is more better'), ('Rated 5.0', 'RATED\\n  Dal methi and dal fry along with tandoori roti too good'), ('Rated 5.0', 'RATED\\n  superrrr'), ('Rated 5.0', 'RATED\\n  its so hygienic n so neat I like it sir thank you for your instant delivery . Superb tasty n healthy food too for all . thank you for your maintenance sir .'), ('Rated 5.0', 'RATED\\n  Food is good. Paisawasool food'), ('Rated 1.0', 'RATED\\n  Its tooo cheap quality its road side food is more better'), ('Rated 5.0', 'RATED\\n  Dal methi and dal fry along with tandoori roti too good'), ('Rated 3.0', \"RATED\\n  While the biryani here was more than good for a post midnight delivery service and it had a couple of above average chicken curries that I have tasted the chili garlic fried rice wasn't exactly a good dish (overflavoured?). Overall a good place after 12 but can improve in a lot of areas.\"), ('Rated 2.0', \"RATED\\n  Fast but taste not upto the mark. Try improving the taste and quantity everything else is ok. Hope the next order wouldn't be bland and similar in taste\"), ('Rated 1.0', 'RATED\\n  Absolutely not satisfied. The order was too late and I did not expect this from zomato and it affects my trust with zomato'), ('Rated 1.0', 'RATED\\n  Worst food quality. The platter was so bad that the boiled egg was the best of the worst. Prawns were 2-3 cms long, fried in oil. Chicken which tastes like rubber. Same with fish and mutton. Biryani is decent and sweet.'), ('Rated 4.0', 'RATED\\n  Order was delivered a bit late. But considering the time and the taste of food the late delivery (by 10 mins) is negligible!'), ('Rated 3.0', \"RATED\\n  While the biryani here was more than good for a post midnight delivery service and it had a couple of above average chicken curries that I have tasted the chili garlic fried rice wasn't exactly a good dish (overflavoured?). Overall a good place after 12 but can improve in a lot of areas.\"), ('Rated 2.0', \"RATED\\n  Fast but taste not upto the mark. Try improving the taste and quantity everything else is ok. Hope the next order wouldn't be bland and similar in taste\"), ('Rated 1.0', 'RATED\\n  Absolutely not satisfied. The order was too late and I did not expect this from zomato and it affects my trust with zomato'), ('Rated 1.0', 'RATED\\n  Worst food quality. The platter was so bad that the boiled egg was the best of the worst. Prawns were 2-3 cms long, fried in oil. Chicken which tastes like rubber. Same with fish and mutton. Biryani is decent and sweet.'), ('Rated 4.0', 'RATED\\n  Order was delivered a bit late. But considering the time and the taste of food the late delivery (by 10 mins) is negligible!'), ('Rated 3.0', \"RATED\\n  While the biryani here was more than good for a post midnight delivery service and it had a couple of above average chicken curries that I have tasted the chili garlic fried rice wasn't exactly a good dish (overflavoured?). Overall a good place after 12 but can improve in a lot of areas.\"), ('Rated 2.0', \"RATED\\n  Fast but taste not upto the mark. Try improving the taste and quantity everything else is ok. Hope the next order wouldn't be bland and similar in taste\"), ('Rated 1.0', 'RATED\\n  Absolutely not satisfied. The order was too late and I did not expect this from zomato and it affects my trust with zomato'), ('Rated 1.0', 'RATED\\n  Worst food quality. The platter was so bad that the boiled egg was the best of the worst. Prawns were 2-3 cms long, fried in oil. Chicken which tastes like rubber. Same with fish and mutton. Biryani is decent and sweet.'), ('Rated 4.0', 'RATED\\n  Order was delivered a bit late. But considering the time and the taste of food the late delivery (by 10 mins) is negligible!'), ('Rated 3.0', 'RATED\\n  order is different from what I placed'), ('Rated 2.0', 'RATED\\n  Well , I tried this place for midnight delivery . They did provide me the food but their chutney was just curd and colour .How can they even deliver this kind of food . I could taste the colour in the chutney . Never ordering again .'), ('Rated 1.0', 'RATED\\n  I dint receive the order at all'), ('Rated 1.0', 'RATED\\n  Pathetic chicken chilly'), ('Rated 4.0', \"RATED\\n  Food is not excellent but it is good enough and is the only restaurant that delivers in kengeri after 12. Don't expect greatness, just expect something to satisfy your hunger\"), ('Rated 3.0', 'RATED\\n  order is different from what I placed'), ('Rated 2.0', 'RATED\\n  Well , I tried this place for midnight delivery . They did provide me the food but their chutney was just curd and colour .How can they even deliver this kind of food . I could taste the colour in the chutney . Never ordering again .'), ('Rated 1.0', 'RATED\\n  I dint receive the order at all'), ('Rated 1.0', 'RATED\\n  Pathetic chicken chilly'), ('Rated 4.0', \"RATED\\n  Food is not excellent but it is good enough and is the only restaurant that delivers in kengeri after 12. Don't expect greatness, just expect something to satisfy your hunger\"), ('Rated 3.0', 'RATED\\n  order is different from what I placed'), ('Rated 2.0', 'RATED\\n  Well , I tried this place for midnight delivery . They did provide me the food but their chutney was just curd and colour .How can they even deliver this kind of food . I could taste the colour in the chutney . Never ordering again .'), ('Rated 1.0', 'RATED\\n  I dint receive the order at all'), ('Rated 1.0', 'RATED\\n  Pathetic chicken chilly'), ('Rated 4.0', \"RATED\\n  Food is not excellent but it is good enough and is the only restaurant that delivers in kengeri after 12. Don't expect greatness, just expect something to satisfy your hunger\"), ('Rated 3.0', 'RATED\\n  order is different from what I placed'), ('Rated 2.0', 'RATED\\n  Well , I tried this place for midnight delivery . They did provide me the food but their chutney was just curd and colour .How can they even deliver this kind of food . I could taste the colour in the chutney . Never ordering again .'), ('Rated 1.0', 'RATED\\n  I dint receive the order at all'), ('Rated 1.0', 'RATED\\n  Pathetic chicken chilly'), ('Rated 4.0', \"RATED\\n  Food is not excellent but it is good enough and is the only restaurant that delivers in kengeri after 12. Don't expect greatness, just expect something to satisfy your hunger\"), ('Rated 3.0', 'RATED\\n  I feel the packaging charges are bit more, the food was not much hot and The strawberry ice cream was melted when delivered.. i felt bit disappointed with the order.'), ('Rated 1.0', 'RATED\\n  late delivery, bad taste, not worth, it has become cold by the time food got delivered'), ('Rated 3.0', 'RATED\\n  DidnÃ\\x83Ã\\x83Ã\\x82Ã\\x82Ã\\x83Ã\\x82Ã\\x82Ã\\x92t get the gravy mentioned on the menu. But food otherwise great.'), ('Rated 4.0', 'RATED\\n  good but can improve'), ('Rated 2.0', 'RATED\\n  Took an hour more to deliver.'), ('Rated 3.0', 'RATED\\n  I feel the packaging charges are bit more, the food was not much hot and The strawberry ice cream was melted when delivered.. i felt bit disappointed with the order.'), ('Rated 1.0', 'RATED\\n  late delivery, bad taste, not worth, it has become cold by the time food got delivered'), ('Rated 3.0', 'RATED\\n  DidnÃ\\x83Ã\\x83Ã\\x82Ã\\x82Ã\\x83Ã\\x82Ã\\x82Ã\\x92t get the gravy mentioned on the menu. But food otherwise great.'), ('Rated 4.0', 'RATED\\n  good but can improve'), ('Rated 2.0', 'RATED\\n  Took an hour more to deliver.'), ('Rated 1.0', \"RATED\\n  food is not at all hot it's full chilled\"), ('Rated 4.5', 'RATED\\n  Good and best taste food midnight best delivery service .....................................................................................'), ('Rated 5.0', 'RATED\\n  good'), ('Rated 1.0', \"RATED\\n  Such a third rated restaurant and they made me to wait 1 hour for food delivery and later they say items not available and made me starve.i cursed them ..don't ever order food with this restaurant.\"), ('Rated 1.0', 'RATED\\n  not good food'), ('Rated 1.0', \"RATED\\n  food is not at all hot it's full chilled\"), ('Rated 4.5', 'RATED\\n  Good and best taste food midnight best delivery service .....................................................................................'), ('Rated 5.0', 'RATED\\n  good'), ('Rated 1.0', \"RATED\\n  Such a third rated restaurant and they made me to wait 1 hour for food delivery and later they say items not available and made me starve.i cursed them ..don't ever order food with this restaurant.\"), ('Rated 1.0', 'RATED\\n  not good food'), ('Rated 1.0', \"RATED\\n  food is not at all hot it's full chilled\"), ('Rated 4.5', 'RATED\\n  Good and best taste food midnight best delivery service .....................................................................................'), ('Rated 5.0', 'RATED\\n  good'), ('Rated 1.0', \"RATED\\n  Such a third rated restaurant and they made me to wait 1 hour for food delivery and later they say items not available and made me starve.i cursed them ..don't ever order food with this restaurant.\"), ('Rated 1.0', 'RATED\\n  not good food'), ('Rated 5.0', \"RATED\\n  I didn't receive ice cream... I did payment how to refund my amount\"), ('Rated 4.0', 'RATED\\n  burger was nice today'), ('Rated 1.0', 'RATED\\n  Had ordered cheese balls and chilli cheese sandwich. They ended up delivering veg nuggets and veg sandwich which was not at all hot. Veg nuggets were over roasted and sandwich was so blank.'), ('Rated 4.0', 'RATED\\n  good'), ('Rated 1.0', 'RATED\\n  Sell coke at MRP please.'), ('Rated 5.0', \"RATED\\n  I didn't receive ice cream... I did payment how to refund my amount\"), ('Rated 4.0', 'RATED\\n  burger was nice today'), ('Rated 1.0', 'RATED\\n  Had ordered cheese balls and chilli cheese sandwich. They ended up delivering veg nuggets and veg sandwich which was not at all hot. Veg nuggets were over roasted and sandwich was so blank.'), ('Rated 4.0', 'RATED\\n  good'), ('Rated 1.0', 'RATED\\n  Sell coke at MRP please.'), ('Rated 5.0', \"RATED\\n  I didn't receive ice cream... I did payment how to refund my amount\"), ('Rated 4.0', 'RATED\\n  burger was nice today'), ('Rated 1.0', 'RATED\\n  Had ordered cheese balls and chilli cheese sandwich. They ended up delivering veg nuggets and veg sandwich which was not at all hot. Veg nuggets were over roasted and sandwich was so blank.'), ('Rated 4.0', 'RATED\\n  good'), ('Rated 1.0', 'RATED\\n  Sell coke at MRP please.'), ('Rated 5.0', 'RATED\\n  Food quality super tasty byrini is super................,...................................................................................'), ('Rated 5.0', 'RATED\\n  Good service amazing food is super tast .............................................................................................................'), ('Rated 1.0', 'RATED\\n  50 extra apart from bill.. no previous information..'), ('Rated 5.0', 'RATED\\n  Amazing'), ('Rated 1.0', 'RATED\\n  Most disappointing wrap IÃ\\x83Ã\\x83Ã\\x82Ã\\x82Ã\\x83Ã\\x82Ã\\x82Ã\\x92ve ever had. It sucked to the core. I had ordered Paneer Tikka Wrap, the wrap was too bland without any sauce/chutney/spread in it, it had only a few pieces of hard Paneer which was put into it with a few slices of onion and nothing else. The paneer seemed to me like rubber, one would actually need strong teeth to take a bite of it. The flatbread of the wrap was burnt and was too oily. It was quite thick as well, didnÃ\\x83Ã\\x83Ã\\x82Ã\\x82Ã\\x83Ã\\x82Ã\\x82Ã\\x92t seem like a wrap. Overall I would have given negative points to the wrap, but canÃ\\x83Ã\\x83Ã\\x82Ã\\x82Ã\\x83Ã\\x82Ã\\x82Ã\\x92t really do that here.\\nSave money for the morning and have something worth spending rather than having food from here.\\nWorst wrap IÃ\\x83Ã\\x83Ã\\x82Ã\\x82Ã\\x83Ã\\x82Ã\\x82Ã\\x92ve ever had.\\nDO NOT ORDER WRAPS FROM HERE.\\nDonÃ\\x83Ã\\x83Ã\\x82Ã\\x82Ã\\x83Ã\\x82Ã\\x82Ã\\x92t know how bad/good are other things from here but wraps from here are definitely a cross.'), ('Rated 5.0', 'RATED\\n  Food quality super tasty byrini is super................,...................................................................................'), ('Rated 5.0', 'RATED\\n  Good service amazing food is super tast .............................................................................................................'), ('Rated 1.0', 'RATED\\n  50 extra apart from bill.. no previous information..'), ('Rated 5.0', 'RATED\\n  Amazing'), ('Rated 1.0', 'RATED\\n  Most disappointing wrap IÃ\\x83Ã\\x83Ã\\x82Ã\\x82Ã\\x83Ã\\x82Ã\\x82Ã\\x92ve ever had. It sucked to the core. I had ordered Paneer Tikka Wrap, the wrap was too bland without any sauce/chutney/spread in it, it had only a few pieces of hard Paneer which was put into it with a few slices of onion and nothing else. The paneer seemed to me like rubber, one would actually need strong teeth to take a bite of it. The flatbread of the wrap was burnt and was too oily. It was quite thick as well, didnÃ\\x83Ã\\x83Ã\\x82Ã\\x82Ã\\x83Ã\\x82Ã\\x82Ã\\x92t seem like a wrap. Overall I would have given negative points to the wrap, but canÃ\\x83Ã\\x83Ã\\x82Ã\\x82Ã\\x83Ã\\x82Ã\\x82Ã\\x92t really do that here.\\nSave money for the morning and have something worth spending rather than having food from here.\\nWorst wrap IÃ\\x83Ã\\x83Ã\\x82Ã\\x82Ã\\x83Ã\\x82Ã\\x82Ã\\x92ve ever had.\\nDO NOT ORDER WRAPS FROM HERE.\\nDonÃ\\x83Ã\\x83Ã\\x82Ã\\x82Ã\\x83Ã\\x82Ã\\x82Ã\\x92t know how bad/good are other things from here but wraps from here are definitely a cross.'), ('Rated 5.0', 'RATED\\n  Food quality super tasty byrini is super................,...................................................................................'), ('Rated 5.0', 'RATED\\n  Good service amazing food is super tast .............................................................................................................'), ('Rated 1.0', 'RATED\\n  50 extra apart from bill.. no previous information..'), ('Rated 5.0', 'RATED\\n  Amazing'), ('Rated 1.0', 'RATED\\n  Most disappointing wrap IÃ\\x83Ã\\x83Ã\\x82Ã\\x82Ã\\x83Ã\\x82Ã\\x82Ã\\x92ve ever had. It sucked to the core. I had ordered Paneer Tikka Wrap, the wrap was too bland without any sauce/chutney/spread in it, it had only a few pieces of hard Paneer which was put into it with a few slices of onion and nothing else. The paneer seemed to me like rubber, one would actually need strong teeth to take a bite of it. The flatbread of the wrap was burnt and was too oily. It was quite thick as well, didnÃ\\x83Ã\\x83Ã\\x82Ã\\x82Ã\\x83Ã\\x82Ã\\x82Ã\\x92t seem like a wrap. Overall I would have given negative points to the wrap, but canÃ\\x83Ã\\x83Ã\\x82Ã\\x82Ã\\x83Ã\\x82Ã\\x82Ã\\x92t really do that here.\\nSave money for the morning and have something worth spending rather than having food from here.\\nWorst wrap IÃ\\x83Ã\\x83Ã\\x82Ã\\x82Ã\\x83Ã\\x82Ã\\x82Ã\\x92ve ever had.\\nDO NOT ORDER WRAPS FROM HERE.\\nDonÃ\\x83Ã\\x83Ã\\x82Ã\\x82Ã\\x83Ã\\x82Ã\\x82Ã\\x92t know how bad/good are other things from here but wraps from here are definitely a cross.'), ('Rated 5.0', 'RATED\\n  Delicious food'), ('Rated 5.0', 'RATED\\n  Amazing Tasty and Healthy food'), ('Rated 5.0', 'RATED\\n  good service biriyani is full tast night food delivery........... best restaurant............................................................'), ('Rated 1.0', 'RATED\\n  I have ordered chicken chettinad curry full, surprisingly i got only 5 piece and I tried to call restaurant,but the phone is switched off. Worst service by restaurant and zomato should not be tied up with such restaurants.'), ('Rated 5.0', 'RATED\\n  This restaurant food is good and delivery boys are very fast to delivered very good taste and very nice quality is fine and super restaurant'), ('Rated 5.0', 'RATED\\n  Delicious food'), ('Rated 5.0', 'RATED\\n  Amazing Tasty and Healthy food'), ('Rated 5.0', 'RATED\\n  good service biriyani is full tast night food delivery........... best restaurant............................................................'), ('Rated 1.0', 'RATED\\n  I have ordered chicken chettinad curry full, surprisingly i got only 5 piece and I tried to call restaurant,but the phone is switched off. Worst service by restaurant and zomato should not be tied up with such restaurants.'), ('Rated 5.0', 'RATED\\n  This restaurant food is good and delivery boys are very fast to delivered very good taste and very nice quality is fine and super restaurant'), ('Rated 5.0', 'RATED\\n  Delicious food'), ('Rated 5.0', 'RATED\\n  Amazing Tasty and Healthy food'), ('Rated 5.0', 'RATED\\n  good service biriyani is full tast night food delivery........... best restaurant............................................................'), ('Rated 1.0', 'RATED\\n  I have ordered chicken chettinad curry full, surprisingly i got only 5 piece and I tried to call restaurant,but the phone is switched off. Worst service by restaurant and zomato should not be tied up with such restaurants.'), ('Rated 5.0', 'RATED\\n  This restaurant food is good and delivery boys are very fast to delivered very good taste and very nice quality is fine and super restaurant'), ('Rated 5.0', 'RATED\\n  Mouth delicios food realy good food quantity and quality also good delivery is on time totaly very good keepit up fast and fresh . . .. ....'), ('Rated 5.0', 'RATED\\n  Good food mouth delicious food and delivery ask fast keepit up guys..............'), ('Rated 5.0', 'RATED\\n  Nice and tasty food and fast delivery and trebles available and surging supper......nice ...................quentity supper ........and make a good night hotel'), ('Rated 5.0', 'RATED\\n  Good food and test and fast delivery and test supper kqntity supper and trebles is clinens.................... hotel ...............................................')]",
         "[]",
         "Delivery",
         "Banashankari"
        ],
        [
         "37",
         "https://www.zomato.com/bangalore/szechuan-dragon-banashankari?context=eyJzZSI6eyJlIjpbIjE4NDU3NjA2IiwiNTkwODYiLCIxODM1OTkxOCIsIjE4NjE4MzQzIiw1NzMyNSwiNTUzOTciLCIxODU2MzA5NyIsIjU2ODgzIiwiMTgzMDc4MDYiLCI1ODYzNiIsIjUzNjAxIiwiMTg1NjU2NzkiLCIxODU1OTg5NyIsIjE4Njk3MjExIiwiNTIyNTUiLCI1MTM0OCIsIjE4MzcxMjcyIiwiMTg3ODIyMDkiLCIxODc4Nzg4MyIsIjE4MDg5NjgyIiwiMTg1MjE5MTIiLCI1NjA5OCIsIjE4MDg5NjkzIl0sInQiOiJEZWxpdmVyeSBSZXN0YXVyYW50cyBpbiBCYW5hc2hhbmthcmkifX0=",
         "8, 2nd Floor, 1st Main, Arush Trapeze, Mount Joy Road, Behind BMS College of Engineering, Hanumanthnagar, Banashankari, Bangalore",
         "Szechuan Dragon",
         "Yes",
         "No",
         "4.2/5",
         "1647",
         "00 919663567711\r\n+91 9916326323",
         "Banashankari",
         "Casual Dining",
         "Noodles, Momos, Veg Manchow Soup, Kung Pao Chicken, Chicken Lollipop, Chop Suey, Dragon Chicken",
         "Chinese, Thai, Momos",
         "600",
         "[('Rated 4.0', 'RATED\\n  Located near BMS college of engineering.\\nFood quantity is good for the price!\\nYou must try the leefu chicken and chilli garlic noodles!The chicken lollipop is also good.\\nSmall place but service and home delivery through zomato is good.'), ('Rated 4.0', \"RATED\\n  We got home delivery from here on a Sunday night. It's good Chinese food and not very heavy on the pocket as well. The chicken soup was good, so was the chicken wings.\\nLiked it. :)\"), ('Rated 4.0', 'RATED\\n  Its a good option for affordable indo Chinese cuisine in the neighborhood of Banashankari. Food seems a little spicy and oily. Will definitely satisfy your cravinga for some Chinese food.'), ('Rated 5.0', 'RATED\\n  The staff in Szechuan Dragon is extremely friendly and well trained. The ambience is great. A must visit place with friends and family. The food is served in a reasonable amount of time and is great.'), ('Rated 1.0', \"RATED\\n  One more place with wrong over rating stars.... Not worth saying anything the food was so bad and didn't tastes anything, it was like just some stuff which you can eat... Surprisingly the dish was their chef's special..... Lol seriously how do these people get their food licenses....\"), ('Rated 5.0', \"RATED\\n  Well what can I say about this place, it's one of the best Chinese restaurants I have ever been to. We reached here during the closing hours of lunch. First we had the Manchow soup which blew my mind. It was followed by the shredded chicken which was also mesmerising. They we had the mixed Fu Yong which didn't live up to my expectations. Then we headed on to the main course of Singapore noodles accompanied by roast chilli chicken. Everything was unbelievably good. Definitely going back\"), ('Rated 4.0', 'RATED\\n  Dont go by the looks and location of the place.. you may be suprised by the no. of parcels going out and people at the place. The food will definitely fulfill your ravenous chinese appetite. The whole menu has a lot of wonderful food.. try the lollipop, hunan prawns or chicken, Dimsum chicken.\\nStaff is polite and service is fast. The handwash facility is something to improve. Enjoy!'), ('Rated 4.0', 'RATED\\n  This is just a jump from my house.Today bought manchow soup and spring roll it was nice.Noodles was good. It was packed well. Next time will have at the resturant itself for better taste.'), ('Rated 3.0', \"RATED\\n  To be honest I have had better Chinese than this, it's not a bad restaurant it's just mediocre it's not the best or something getting excited over. We ordered some Pepper lemon coriander soup, i expected it to be little tangy and spicy as the name suggests but it was not that great. Leafu planner and Dragon mushrooms were not bad as well. Dragon chicken seems to be good. We ordered pulpy orange for a drink it was okay. Prices are reasonable and quantity is okay. As I said earlier it's not a bad restaurant but it's not something I would I'd die for.\"), ('Rated 4.0', 'RATED\\n  Heard that this place is listed in top 100 must visit places in banglore\\nSo decided to visit it and it did not disappoint us\\nThe place was small with around 12-15 tables\\nWe have ordered\\nVeg wonton soup - 4.5/5\\nLeefy baby corn -5/5\\nDragon chicken - 4.5/5\\nButter garlic rice - 4/5\\nPulpy grape juice - 3/5\\nDragons liar - 4/5\\nDragons liar is an ice cream and it presented along with fried noodles\\nKind of weird combination but tasted good'), ('Rated 4.0', 'RATED\\n  This a simple laid back restaurant with minimal ambience, pretty famous among college students as the prices are reasonable. ItÃ\\x83Ã\\x83Ã\\x82Ã\\x82Ã\\x83Ã\\x82Ã\\x82Ã\\x92s also one of those place where people visit only with word of mouth, as it doesnÃ\\x83Ã\\x83Ã\\x82Ã\\x82Ã\\x83Ã\\x82Ã\\x82Ã\\x92t have eye-popping sign boards or anything!\\n\\nHave been here quite a few times, the food is good and itÃ\\x83Ã\\x83Ã\\x82Ã\\x82Ã\\x83Ã\\x82Ã\\x82Ã\\x92s not very greasy like most Chinese places.\\n\\nGot general TsoÃ\\x83Ã\\x83Ã\\x82Ã\\x82Ã\\x83Ã\\x82Ã\\x82Ã\\x92s mushrooms, Kung pao babycorn and honey chilli potatoes, all were good.\\n\\nMain course was leefu fried rice, schezwan fried rice and veg ball manchurian sauce, all were sumptuous\\n\\nSo if u r looking for a quick fix dinner and nothing very fancy, this is the place'), ('Rated 3.0', 'RATED\\n  Food - 8/10\\nService - 7/10\\nAmbience - 7/10\\nCost - 8/10\\n\\nVery good place to have variety of Chinese food with variety of sauces. Food tastes good but they can improve a bit. Their service is fast but for home deliverys they are very slow. Ambience is fine with low light and soft music. Usually crowded in dinner time.'), ('Rated 3.0', \"RATED\\n  Dragon chicken has no cashew in it and Thai fried rice I couldn't find any difference from the normal fried rice.\\n\\nPackaging & food quality was good\")]",
         "[]",
         "Delivery",
         "Banashankari"
        ],
        [
         "38",
         "https://www.zomato.com/bangalore/empire-restaurant-jayanagar?context=eyJzZSI6eyJlIjpbIjU5MDg2IiwiMTgzNTk5MTgiLCIxODYxODM0MyIsIjU3MzI1Iiw1NTM5NywiMTg1NjMwOTciLCI1Njg4MyIsIjE4MzA3ODA2IiwiNTg2MzYiLCI1MzYwMSIsIjE4NTY1Njc5IiwiMTg1NTk4OTciLCIxODY5NzIxMSIsIjUyMjU1IiwiNTEzNDgiLCIxODM3MTI3MiIsIjE4NzgyMjA5IiwiMTg3ODc4ODMiLCIxODA4OTY4MiIsIjE4NTIxOTEyIiwiNTYwOTgiLCIxODA4OTY5MyJdLCJ0IjoiRGVsaXZlcnkgUmVzdGF1cmFudHMgaW4gQmFuYXNoYW5rYXJpIn19",
         "4, Opposite NMKRV College, 21st C Cross Road, 3rd Block, Jayanagar, Bangalore",
         "Empire Restaurant",
         "Yes",
         "No",
         "4.4/5",
         "4884",
         "080 49653266",
         "Jayanagar",
         "Casual Dining",
         "Chicken Tikka Masala, Mutton Keema Dosa, Mutton Biryani, Raan Biryani, Brain Fry, Chicken Grill, Ghee Rice",
         "North Indian, Mughlai, South Indian, Chinese",
         "750",
         "[('Rated 3.0', 'RATED\\n  Grill and tandoori is an all timer goto, but the quality is suppressed in the recent past.\\nShwarama is a must try.\\nButter chicken gravy+kerela parota in the mains!'), ('Rated 3.0', \"RATED\\n  As a vegetarian, this would be our last option. However, when the rest of Bangalore is closed, this place always takes care of hunger.\\nAfter party, late night we ended up here for a quick meal. It's crowded as usual but you get a table for sure.\\nWe ordered Egg dosa, Ghee rice, Dal and Arabian grape juice.\\nEgg dosa was really confusing and I didn't get it. However Ghee rice and Dal is always good here.\\nArabian Grape juice is just great.\\nService is really quick.\\nIf not for fine dining, for a quick meal at odd hours when you don't have options, this is a place to be\"), ('Rated 4.0', 'RATED\\n  Very nice experience! Roomali roti is really good only thing is chicken was not cooked properly in the butter chicken curry. Worth the money'), ('Rated 5.0', 'RATED\\n  We had dinner with my friends in the empire Jayanagar ..... we having empire special chicken kabab and grill chicken so it was very yummy and hygeni and good managament'), ('Rated 4.0', 'RATED\\n  Heard so much about Hotel Empire Thali... Today I got that very chance to taste Big Veg thali... Price is reasonable for the amount of varieties on this thali... Paneer chilly, panneer butter masala, ghee rice, coin Paratha and many more things.\\n\\nValue for money - 5/5\\nTaste for food -4/5\\n\\n#atw #aroundtheworlddiaries #thali #foodblogger #foodies #bangalorefun #bangalore'), ('Rated 4.0', 'RATED\\n  Food 5/5\\nAmbience 4.5/5\\nStaff 4/5\\nPrice 4/5\\n\\nWhen in Bangalore, going to Empire becomes a default visit? Again this restaurant too has many chains and so itÃ\\x83Ã\\x83Ã\\x82Ã\\x82Ã\\x83Ã\\x82Ã\\x82Ã\\x92s easy to visit anyone of them.\\n\\nShawarma is my all time favorite at this place. Also they are many varieties of non veg and veg foodstuffs but people often visit this place for seafood and Muglai cuisines.\\n\\nAmbience is good and the staff is very polite and professional. Overall a good place to be and one of the restaurant which is open till late night.'), ('Rated 2.0', \"RATED\\n  It is one of the big outlets of Empire. Having South Indian Section completely different. It has a buffet section on the ground floor & ala Carte is served on the first floor. We were there for lunch around 2pm which was their timing for serving the South Indian Food though it was weekday we were told that Food was over & some couple of more weird reasons which were understood they were not saying the truth as every person had a different reason. Don't know why did they do it but seemed fishy. We order a chicken thali. It was good enough. Fresh Lime juice & couple of other things. Food as all the Empire have was spicy. Quantity was good. Ambience & seating was great. that was the only good part of dining at this place.\"), ('Rated 4.0', 'RATED\\n  This is a pocket friendly restaurant and have been visiting this franchise since childhood. They have wide range of options but the standing out are Ã\\x83Ã\\x83Ã\\x82Ã\\x82Ã\\x83Ã\\x82Ã\\x82Ã\\x93butter chicken , paneer butter masala, al faham , grilled chickenÃ\\x83Ã\\x83Ã\\x82Ã\\x82Ã\\x83Ã\\x82Ã\\x82Ã\\x94. Considering the competition they have applied some upgrades but as a childhood fan I would recommend them to have hygienic and quality maintenance to attract more crowd .\\n\\nFood - 5/5\\nAmbience. - 4/5\\nValue for money - 5/5'), ('Rated 2.0', 'RATED\\n  The quality of the food has come down, they were a lot lot better a couple of years back and the service is not that great too, their approach towards the customers is bad, they hardly respond to anything and they are too slow to get even a bundle of tissues to the table. Overall, the quality of this place could be much much better.'), ('Rated 3.0', \"RATED\\n  Empire, one of the most famous chains in bengaluru doesn't really need any introduction. So i will keep it short! It is located in the core of jayanagar with ample seating space and lot of life all the time. I had butter chicken, ghee rice, pepper chicken and other things. Among these butter chicken combination with ghee rice was great. And the best thing about this place is that, it is open until 1a.m. with all the delicacies ready to be served. The staff over here is really helping and jolly. This place is not really expensive but if you have zomato gold, then you are saving a lot of bucks.\\n\\n#Good food Awesome mood\"), ('Rated 3.0', 'RATED\\n  One of the restaurant which will be open till midnight 2am in Bangalore and you get good food .service is slow and not so friendly..but taste and quality of the food is quite satisfactory..'), ('Rated 5.0', 'RATED\\n  Tasty non veg food a available here .\\nBelow dishes are best here\\n1)Best chicken grill\\n2)shawarma.\\n3)dosa and mutton Curry is awesome .\\nbest place to visit .\\nDo try shawarma platter.\\n4)pulpy grape juice is delicious.\\nDosa and mutton Curry must try dish'), ('Rated 5.0', 'RATED\\n  Good place for food and chilling.\\nHad a good time\\nService was good! Grill chicken is a must try....... And yhen good ambiance and hood service.. So we are veru happy for dinner with my friends in there'), ('Rated 4.0', 'RATED\\n  The food was really good and service was also pretty good.\\nWe had their signature dish alfaham chicken and noodles both were good.This particular outlet had ample car parking space also infront of the restaurant'), ('Rated 4.0', 'RATED\\n  I have been to many outlets of empire restaurant, because of the tasty food and the ambiance and service is awesome.. i also suggest it to my friends and family, today we had been there in jayanagar outlet, the prawns tawa fry must try??'), ('Rated 3.0', \"RATED\\n  Okay honest opinions after previous Kormangala empire disaster! This place is better in every aspect, guess it depends area wise I have no clue though.?\\nAnyways not to elongate much food was really good, my fresh lime soda was screwed up, didn't bother to replace it because was already full with what we had ordered. It's 4/5 from my end still one down for bad fresh lime soda. Peace out. ?\"), ('Rated 4.0', \"RATED\\n  Though the service isn't very fast here, the staff is definitely polite. We ordered chicken biryani, chili chicken and half grilled chicken. The quality is definitely worth the price.\"), ('Rated 4.0', 'RATED\\n  The food here is really good ! ItÃ\\x83Ã\\x83Ã\\x82Ã\\x82Ã\\x83Ã\\x82Ã\\x82Ã\\x92s known for its shawarmas.\\nReally decent quantity for the cost. A definite place to try for all non veg lovers'), ('Rated 4.0', 'RATED\\n  Food- 3/5\\nService-3/5\\nAmbience- 4/5\\n\\nThis is the place to go for variety in non veg.\\nAmong the items I ordered, the tandoori chicken was tasty and the dip given along with it was also good. The naan and kadai chicken was a little above average. Biriyani could have had more flavour. It had a little too much ghee and was bland too. The lime soda and grape juice were refreshing with sufficient quantity.'), ('Rated 4.0', 'RATED\\n  I have been to many outlets of empire restaurant, because of the tasty food and the ambiance and service is awesome.. i also suggest it to my friends and family, today we had been there in jayanagar outlet, the prawns tawa fry must try??'), ('Rated 3.0', \"RATED\\n  Okay honest opinions after previous Kormangala empire disaster! This place is better in every aspect, guess it depends area wise I have no clue though.?\\nAnyways not to elongate much food was really good, my fresh lime soda was screwed up, didn't bother to replace it because was already full with what we had ordered. It's 4/5 from my end still one down for bad fresh lime soda. Peace out. ?\"), ('Rated 4.0', \"RATED\\n  Though the service isn't very fast here, the staff is definitely polite. We ordered chicken biryani, chili chicken and half grilled chicken. The quality is definitely worth the price.\"), ('Rated 4.0', 'RATED\\n  The food here is really good ! ItÃ\\x83Ã\\x83Ã\\x82Ã\\x82Ã\\x83Ã\\x82Ã\\x82Ã\\x92s known for its shawarmas.\\nReally decent quantity for the cost. A definite place to try for all non veg lovers'), ('Rated 4.0', 'RATED\\n  Food- 3/5\\nService-3/5\\nAmbience- 4/5\\n\\nThis is the place to go for variety in non veg.\\nAmong the items I ordered, the tandoori chicken was tasty and the dip given along with it was also good. The naan and kadai chicken was a little above average. Biriyani could have had more flavour. It had a little too much ghee and was bland too. The lime soda and grape juice were refreshing with sufficient quantity.'), ('Rated 4.0', 'RATED\\n  Go here usually late nights for dinner with friends after playing badminton. Not many options for vegetarians but we are happy with our regular order.\\n\\nWe usually get Ghee chapati, coin parota with paneer butter masala. Then order Ghee rice.\\n\\nWe get any drinks or shakes, which are pretty good.\\n\\nService is good too'), ('Rated 3.0', \"RATED\\n  Like all Empire outlets this one is renowned for great meat dishes. Great location (many cross roads around for parking) and the food is always fresh and fast moving.\\nBut one afternoon I went there with some vegetarian friends and the veg food was terrible. The non veg dishes such as mutton biryani, chicken kadai and chicken skewers were delicious though. The reason I'm rating it 3 is because I want them to focus on veg dishes too.\\nThe service is always fast and the value for money is great. Continue to please meat lovers but please don't forget the vegetarians.\"), ('Rated 4.0', 'RATED\\n  Good food and ambience.... where as u get to see food all around haha kidding ! Delicious grilled chicken & shawarma... Must order chilly chicken , pepper chicken , bhasha fish ... awh thatÃ\\x83Ã\\x83Ã\\x82Ã\\x82Ã\\x83Ã\\x82Ã\\x82Ã\\x92s spicy n my most Favourite. Nice to try anjal tawa fry .... and can pair all these up with simple ghee rice and a pulpy grape juice for a drink . Lastly when u come out of restaurant donÃ\\x83Ã\\x83Ã\\x82Ã\\x82Ã\\x83Ã\\x82Ã\\x82Ã\\x92t even dare to miss trying the variety of flavours in pan - I personally have tried all ! To name them chocolate pan , Rose pan , Malai pan etc ...\\nP.s- I have forgotten all the names Coz the moment I take the pan in my mouth I am done . I donÃ\\x83Ã\\x83Ã\\x82Ã\\x82Ã\\x83Ã\\x82Ã\\x82Ã\\x92t remember anything hehe ?'), ('Rated 2.0', \"RATED\\n  Visited empire on a Sunday night and had a drab experience. There's nothing enthralling about the ambience but it's quite spacious. Coming to the food, we ordered chicken biryani, mutton biryani and chicken thali. The biryani here is not as flavourful as it ought to be. I'd rather prefer it to be spicier.\\nThe thali came with paratha which was ridiculously hard, the sweet dish was very bland. The menu mentioned ghee rice but I received plain white rice which again was a let down. Chicken tikka masala was pretty good. The service here was extremely slow too.\\nDefinitely won't be heading back.\"), ('Rated 4.0', 'RATED\\n  Go here usually late nights for dinner with friends after playing badminton. Not many options for vegetarians but we are happy with our regular order.\\n\\nWe usually get Ghee chapati, coin parota with paneer butter masala. Then order Ghee rice.\\n\\nWe get any drinks or shakes, which are pretty good.\\n\\nService is good too'), ('Rated 3.0', \"RATED\\n  Like all Empire outlets this one is renowned for great meat dishes. Great location (many cross roads around for parking) and the food is always fresh and fast moving.\\nBut one afternoon I went there with some vegetarian friends and the veg food was terrible. The non veg dishes such as mutton biryani, chicken kadai and chicken skewers were delicious though. The reason I'm rating it 3 is because I want them to focus on veg dishes too.\\nThe service is always fast and the value for money is great. Continue to please meat lovers but please don't forget the vegetarians.\"), ('Rated 4.0', 'RATED\\n  Good food and ambience.... where as u get to see food all around haha kidding ! Delicious grilled chicken & shawarma... Must order chilly chicken , pepper chicken , bhasha fish ... awh thatÃ\\x83Ã\\x83Ã\\x82Ã\\x82Ã\\x83Ã\\x82Ã\\x82Ã\\x92s spicy n my most Favourite. Nice to try anjal tawa fry .... and can pair all these up with simple ghee rice and a pulpy grape juice for a drink . Lastly when u come out of restaurant donÃ\\x83Ã\\x83Ã\\x82Ã\\x82Ã\\x83Ã\\x82Ã\\x82Ã\\x92t even dare to miss trying the variety of flavours in pan - I personally have tried all ! To name them chocolate pan , Rose pan , Malai pan etc ...\\nP.s- I have forgotten all the names Coz the moment I take the pan in my mouth I am done . I donÃ\\x83Ã\\x83Ã\\x82Ã\\x82Ã\\x83Ã\\x82Ã\\x82Ã\\x92t remember anything hehe ?'), ('Rated 2.0', \"RATED\\n  Visited empire on a Sunday night and had a drab experience. There's nothing enthralling about the ambience but it's quite spacious. Coming to the food, we ordered chicken biryani, mutton biryani and chicken thali. The biryani here is not as flavourful as it ought to be. I'd rather prefer it to be spicier.\\nThe thali came with paratha which was ridiculously hard, the sweet dish was very bland. The menu mentioned ghee rice but I received plain white rice which again was a let down. Chicken tikka masala was pretty good. The service here was extremely slow too.\\nDefinitely won't be heading back.\"), ('Rated 4.0', 'RATED\\n  Go here usually late nights for dinner with friends after playing badminton. Not many options for vegetarians but we are happy with our regular order.\\n\\nWe usually get Ghee chapati, coin parota with paneer butter masala. Then order Ghee rice.\\n\\nWe get any drinks or shakes, which are pretty good.\\n\\nService is good too'), ('Rated 3.0', \"RATED\\n  Like all Empire outlets this one is renowned for great meat dishes. Great location (many cross roads around for parking) and the food is always fresh and fast moving.\\nBut one afternoon I went there with some vegetarian friends and the veg food was terrible. The non veg dishes such as mutton biryani, chicken kadai and chicken skewers were delicious though. The reason I'm rating it 3 is because I want them to focus on veg dishes too.\\nThe service is always fast and the value for money is great. Continue to please meat lovers but please don't forget the vegetarians.\"), ('Rated 4.0', 'RATED\\n  Good food and ambience.... where as u get to see food all around haha kidding ! Delicious grilled chicken & shawarma... Must order chilly chicken , pepper chicken , bhasha fish ... awh thatÃ\\x83Ã\\x83Ã\\x82Ã\\x82Ã\\x83Ã\\x82Ã\\x82Ã\\x92s spicy n my most Favourite. Nice to try anjal tawa fry .... and can pair all these up with simple ghee rice and a pulpy grape juice for a drink . Lastly when u come out of restaurant donÃ\\x83Ã\\x83Ã\\x82Ã\\x82Ã\\x83Ã\\x82Ã\\x82Ã\\x92t even dare to miss trying the variety of flavours in pan - I personally have tried all ! To name them chocolate pan , Rose pan , Malai pan etc ...\\nP.s- I have forgotten all the names Coz the moment I take the pan in my mouth I am done . I donÃ\\x83Ã\\x83Ã\\x82Ã\\x82Ã\\x83Ã\\x82Ã\\x82Ã\\x92t remember anything hehe ?'), ('Rated 2.0', \"RATED\\n  Visited empire on a Sunday night and had a drab experience. There's nothing enthralling about the ambience but it's quite spacious. Coming to the food, we ordered chicken biryani, mutton biryani and chicken thali. The biryani here is not as flavourful as it ought to be. I'd rather prefer it to be spicier.\\nThe thali came with paratha which was ridiculously hard, the sweet dish was very bland. The menu mentioned ghee rice but I received plain white rice which again was a let down. Chicken tikka masala was pretty good. The service here was extremely slow too.\\nDefinitely won't be heading back.\"), ('Rated 4.0', 'RATED\\n  Go here usually late nights for dinner with friends after playing badminton. Not many options for vegetarians but we are happy with our regular order.\\n\\nWe usually get Ghee chapati, coin parota with paneer butter masala. Then order Ghee rice.\\n\\nWe get any drinks or shakes, which are pretty good.\\n\\nService is good too'), ('Rated 3.0', \"RATED\\n  Like all Empire outlets this one is renowned for great meat dishes. Great location (many cross roads around for parking) and the food is always fresh and fast moving.\\nBut one afternoon I went there with some vegetarian friends and the veg food was terrible. The non veg dishes such as mutton biryani, chicken kadai and chicken skewers were delicious though. The reason I'm rating it 3 is because I want them to focus on veg dishes too.\\nThe service is always fast and the value for money is great. Continue to please meat lovers but please don't forget the vegetarians.\"), ('Rated 4.0', 'RATED\\n  Good food and ambience.... where as u get to see food all around haha kidding ! Delicious grilled chicken & shawarma... Must order chilly chicken , pepper chicken , bhasha fish ... awh thatÃ\\x83Ã\\x83Ã\\x82Ã\\x82Ã\\x83Ã\\x82Ã\\x82Ã\\x92s spicy n my most Favourite. Nice to try anjal tawa fry .... and can pair all these up with simple ghee rice and a pulpy grape juice for a drink . Lastly when u come out of restaurant donÃ\\x83Ã\\x83Ã\\x82Ã\\x82Ã\\x83Ã\\x82Ã\\x82Ã\\x92t even dare to miss trying the variety of flavours in pan - I personally have tried all ! To name them chocolate pan , Rose pan , Malai pan etc ...\\nP.s- I have forgotten all the names Coz the moment I take the pan in my mouth I am done . I donÃ\\x83Ã\\x83Ã\\x82Ã\\x82Ã\\x83Ã\\x82Ã\\x82Ã\\x92t remember anything hehe ?'), ('Rated 2.0', \"RATED\\n  Visited empire on a Sunday night and had a drab experience. There's nothing enthralling about the ambience but it's quite spacious. Coming to the food, we ordered chicken biryani, mutton biryani and chicken thali. The biryani here is not as flavourful as it ought to be. I'd rather prefer it to be spicier.\\nThe thali came with paratha which was ridiculously hard, the sweet dish was very bland. The menu mentioned ghee rice but I received plain white rice which again was a let down. Chicken tikka masala was pretty good. The service here was extremely slow too.\\nDefinitely won't be heading back.\"), ('Rated 4.0', 'RATED\\n  Go here usually late nights for dinner with friends after playing badminton. Not many options for vegetarians but we are happy with our regular order.\\n\\nWe usually get Ghee chapati, coin parota with paneer butter masala. Then order Ghee rice.\\n\\nWe get any drinks or shakes, which are pretty good.\\n\\nService is good too'), ('Rated 3.0', \"RATED\\n  Like all Empire outlets this one is renowned for great meat dishes. Great location (many cross roads around for parking) and the food is always fresh and fast moving.\\nBut one afternoon I went there with some vegetarian friends and the veg food was terrible. The non veg dishes such as mutton biryani, chicken kadai and chicken skewers were delicious though. The reason I'm rating it 3 is because I want them to focus on veg dishes too.\\nThe service is always fast and the value for money is great. Continue to please meat lovers but please don't forget the vegetarians.\"), ('Rated 4.0', 'RATED\\n  Good food and ambience.... where as u get to see food all around haha kidding ! Delicious grilled chicken & shawarma... Must order chilly chicken , pepper chicken , bhasha fish ... awh thatÃ\\x83Ã\\x83Ã\\x82Ã\\x82Ã\\x83Ã\\x82Ã\\x82Ã\\x92s spicy n my most Favourite. Nice to try anjal tawa fry .... and can pair all these up with simple ghee rice and a pulpy grape juice for a drink . Lastly when u come out of restaurant donÃ\\x83Ã\\x83Ã\\x82Ã\\x82Ã\\x83Ã\\x82Ã\\x82Ã\\x92t even dare to miss trying the variety of flavours in pan - I personally have tried all ! To name them chocolate pan , Rose pan , Malai pan etc ...\\nP.s- I have forgotten all the names Coz the moment I take the pan in my mouth I am done . I donÃ\\x83Ã\\x83Ã\\x82Ã\\x82Ã\\x83Ã\\x82Ã\\x82Ã\\x92t remember anything hehe ?'), ('Rated 2.0', \"RATED\\n  Visited empire on a Sunday night and had a drab experience. There's nothing enthralling about the ambience but it's quite spacious. Coming to the food, we ordered chicken biryani, mutton biryani and chicken thali. The biryani here is not as flavourful as it ought to be. I'd rather prefer it to be spicier.\\nThe thali came with paratha which was ridiculously hard, the sweet dish was very bland. The menu mentioned ghee rice but I received plain white rice which again was a let down. Chicken tikka masala was pretty good. The service here was extremely slow too.\\nDefinitely won't be heading back.\"), ('Rated 4.0', 'RATED\\n  Go here usually late nights for dinner with friends after playing badminton. Not many options for vegetarians but we are happy with our regular order.\\n\\nWe usually get Ghee chapati, coin parota with paneer butter masala. Then order Ghee rice.\\n\\nWe get any drinks or shakes, which are pretty good.\\n\\nService is good too'), ('Rated 3.0', \"RATED\\n  Like all Empire outlets this one is renowned for great meat dishes. Great location (many cross roads around for parking) and the food is always fresh and fast moving.\\nBut one afternoon I went there with some vegetarian friends and the veg food was terrible. The non veg dishes such as mutton biryani, chicken kadai and chicken skewers were delicious though. The reason I'm rating it 3 is because I want them to focus on veg dishes too.\\nThe service is always fast and the value for money is great. Continue to please meat lovers but please don't forget the vegetarians.\"), ('Rated 4.0', 'RATED\\n  Good food and ambience.... where as u get to see food all around haha kidding ! Delicious grilled chicken & shawarma... Must order chilly chicken , pepper chicken , bhasha fish ... awh thatÃ\\x83Ã\\x83Ã\\x82Ã\\x82Ã\\x83Ã\\x82Ã\\x82Ã\\x92s spicy n my most Favourite. Nice to try anjal tawa fry .... and can pair all these up with simple ghee rice and a pulpy grape juice for a drink . Lastly when u come out of restaurant donÃ\\x83Ã\\x83Ã\\x82Ã\\x82Ã\\x83Ã\\x82Ã\\x82Ã\\x92t even dare to miss trying the variety of flavours in pan - I personally have tried all ! To name them chocolate pan , Rose pan , Malai pan etc ...\\nP.s- I have forgotten all the names Coz the moment I take the pan in my mouth I am done . I donÃ\\x83Ã\\x83Ã\\x82Ã\\x82Ã\\x83Ã\\x82Ã\\x82Ã\\x92t remember anything hehe ?'), ('Rated 2.0', \"RATED\\n  Visited empire on a Sunday night and had a drab experience. There's nothing enthralling about the ambience but it's quite spacious. Coming to the food, we ordered chicken biryani, mutton biryani and chicken thali. The biryani here is not as flavourful as it ought to be. I'd rather prefer it to be spicier.\\nThe thali came with paratha which was ridiculously hard, the sweet dish was very bland. The menu mentioned ghee rice but I received plain white rice which again was a let down. Chicken tikka masala was pretty good. The service here was extremely slow too.\\nDefinitely won't be heading back.\"), ('Rated 4.0', 'RATED\\n  Go here usually late nights for dinner with friends after playing badminton. Not many options for vegetarians but we are happy with our regular order.\\n\\nWe usually get Ghee chapati, coin parota with paneer butter masala. Then order Ghee rice.\\n\\nWe get any drinks or shakes, which are pretty good.\\n\\nService is good too'), ('Rated 3.0', \"RATED\\n  Like all Empire outlets this one is renowned for great meat dishes. Great location (many cross roads around for parking) and the food is always fresh and fast moving.\\nBut one afternoon I went there with some vegetarian friends and the veg food was terrible. The non veg dishes such as mutton biryani, chicken kadai and chicken skewers were delicious though. The reason I'm rating it 3 is because I want them to focus on veg dishes too.\\nThe service is always fast and the value for money is great. Continue to please meat lovers but please don't forget the vegetarians.\"), ('Rated 4.0', 'RATED\\n  Good food and ambience.... where as u get to see food all around haha kidding ! Delicious grilled chicken & shawarma... Must order chilly chicken , pepper chicken , bhasha fish ... awh thatÃ\\x83Ã\\x83Ã\\x82Ã\\x82Ã\\x83Ã\\x82Ã\\x82Ã\\x92s spicy n my most Favourite. Nice to try anjal tawa fry .... and can pair all these up with simple ghee rice and a pulpy grape juice for a drink . Lastly when u come out of restaurant donÃ\\x83Ã\\x83Ã\\x82Ã\\x82Ã\\x83Ã\\x82Ã\\x82Ã\\x92t even dare to miss trying the variety of flavours in pan - I personally have tried all ! To name them chocolate pan , Rose pan , Malai pan etc ...\\nP.s- I have forgotten all the names Coz the moment I take the pan in my mouth I am done . I donÃ\\x83Ã\\x83Ã\\x82Ã\\x82Ã\\x83Ã\\x82Ã\\x82Ã\\x92t remember anything hehe ?'), ('Rated 2.0', \"RATED\\n  Visited empire on a Sunday night and had a drab experience. There's nothing enthralling about the ambience but it's quite spacious. Coming to the food, we ordered chicken biryani, mutton biryani and chicken thali. The biryani here is not as flavourful as it ought to be. I'd rather prefer it to be spicier.\\nThe thali came with paratha which was ridiculously hard, the sweet dish was very bland. The menu mentioned ghee rice but I received plain white rice which again was a let down. Chicken tikka masala was pretty good. The service here was extremely slow too.\\nDefinitely won't be heading back.\"), ('Rated 4.0', 'RATED\\n  Go here usually late nights for dinner with friends after playing badminton. Not many options for vegetarians but we are happy with our regular order.\\n\\nWe usually get Ghee chapati, coin parota with paneer butter masala. Then order Ghee rice.\\n\\nWe get any drinks or shakes, which are pretty good.\\n\\nService is good too'), ('Rated 3.0', \"RATED\\n  Like all Empire outlets this one is renowned for great meat dishes. Great location (many cross roads around for parking) and the food is always fresh and fast moving.\\nBut one afternoon I went there with some vegetarian friends and the veg food was terrible. The non veg dishes such as mutton biryani, chicken kadai and chicken skewers were delicious though. The reason I'm rating it 3 is because I want them to focus on veg dishes too.\\nThe service is always fast and the value for money is great. Continue to please meat lovers but please don't forget the vegetarians.\"), ('Rated 4.0', 'RATED\\n  Good food and ambience.... where as u get to see food all around haha kidding ! Delicious grilled chicken & shawarma... Must order chilly chicken , pepper chicken , bhasha fish ... awh thatÃ\\x83Ã\\x83Ã\\x82Ã\\x82Ã\\x83Ã\\x82Ã\\x82Ã\\x92s spicy n my most Favourite. Nice to try anjal tawa fry .... and can pair all these up with simple ghee rice and a pulpy grape juice for a drink . Lastly when u come out of restaurant donÃ\\x83Ã\\x83Ã\\x82Ã\\x82Ã\\x83Ã\\x82Ã\\x82Ã\\x92t even dare to miss trying the variety of flavours in pan - I personally have tried all ! To name them chocolate pan , Rose pan , Malai pan etc ...\\nP.s- I have forgotten all the names Coz the moment I take the pan in my mouth I am done . I donÃ\\x83Ã\\x83Ã\\x82Ã\\x82Ã\\x83Ã\\x82Ã\\x82Ã\\x92t remember anything hehe ?'), ('Rated 2.0', \"RATED\\n  Visited empire on a Sunday night and had a drab experience. There's nothing enthralling about the ambience but it's quite spacious. Coming to the food, we ordered chicken biryani, mutton biryani and chicken thali. The biryani here is not as flavourful as it ought to be. I'd rather prefer it to be spicier.\\nThe thali came with paratha which was ridiculously hard, the sweet dish was very bland. The menu mentioned ghee rice but I received plain white rice which again was a let down. Chicken tikka masala was pretty good. The service here was extremely slow too.\\nDefinitely won't be heading back.\"), ('Rated 4.0', 'RATED\\n  Go here usually late nights for dinner with friends after playing badminton. Not many options for vegetarians but we are happy with our regular order.\\n\\nWe usually get Ghee chapati, coin parota with paneer butter masala. Then order Ghee rice.\\n\\nWe get any drinks or shakes, which are pretty good.\\n\\nService is good too'), ('Rated 3.0', \"RATED\\n  Like all Empire outlets this one is renowned for great meat dishes. Great location (many cross roads around for parking) and the food is always fresh and fast moving.\\nBut one afternoon I went there with some vegetarian friends and the veg food was terrible. The non veg dishes such as mutton biryani, chicken kadai and chicken skewers were delicious though. The reason I'm rating it 3 is because I want them to focus on veg dishes too.\\nThe service is always fast and the value for money is great. Continue to please meat lovers but please don't forget the vegetarians.\"), ('Rated 4.0', 'RATED\\n  Good food and ambience.... where as u get to see food all around haha kidding ! Delicious grilled chicken & shawarma... Must order chilly chicken , pepper chicken , bhasha fish ... awh thatÃ\\x83Ã\\x83Ã\\x82Ã\\x82Ã\\x83Ã\\x82Ã\\x82Ã\\x92s spicy n my most Favourite. Nice to try anjal tawa fry .... and can pair all these up with simple ghee rice and a pulpy grape juice for a drink . Lastly when u come out of restaurant donÃ\\x83Ã\\x83Ã\\x82Ã\\x82Ã\\x83Ã\\x82Ã\\x82Ã\\x92t even dare to miss trying the variety of flavours in pan - I personally have tried all ! To name them chocolate pan , Rose pan , Malai pan etc ...\\nP.s- I have forgotten all the names Coz the moment I take the pan in my mouth I am done . I donÃ\\x83Ã\\x83Ã\\x82Ã\\x82Ã\\x83Ã\\x82Ã\\x82Ã\\x92t remember anything hehe ?'), ('Rated 2.0', \"RATED\\n  Visited empire on a Sunday night and had a drab experience. There's nothing enthralling about the ambience but it's quite spacious. Coming to the food, we ordered chicken biryani, mutton biryani and chicken thali. The biryani here is not as flavourful as it ought to be. I'd rather prefer it to be spicier.\\nThe thali came with paratha which was ridiculously hard, the sweet dish was very bland. The menu mentioned ghee rice but I received plain white rice which again was a let down. Chicken tikka masala was pretty good. The service here was extremely slow too.\\nDefinitely won't be heading back.\"), ('Rated 4.0', \"RATED\\n  The food was good and the ambience was quite impressive too. The service also was up to the mark, although I wanted to have the buffet but wasn't able to because I was 10 minutes late.\"), ('Rated 4.0', \"RATED\\n  Okay this review is mainly about the shaadi ka biryani (mutton). Lived the taste. We had taken a home delivery of this through zomatogold. No complaints on the service and delivery.\\n\\nOther than that, been to empire a couple of times. Food depends on the day and the time I guess. Sometimes it's really good and at other times I have found hair in the food. And they do tend to make all the curries spicy.\"), ('Rated 2.0', \"RATED\\n  Empire is quite popular name in Bangalore and u can easily locate this one in Indiranagar, Jayanagar, Bannerghatta Road, Koramangla, Shivajinagar and other places too.\\n\\nBeen here for a lunch yesterday at this Jayanagar Outlet. Quite a pocket friendly place, empire is - always. Buffet for 199, isn't that a great deal? The taste and quantity is authentic based on the price tag attached to them. The buffet spread remains same as is from ages and no change in variety or taste. The coke served was not chilled one, and the staff hesitated to even answer when we asked them to serve a chilled one. So 1 start less for that. Ambience was good enough for a buffet. The sweet was not tasty.\\n\\nAnd along with buffet, we tried tawa fry pomfret which was too bad. We didn't dare to order anything more after we were disappointed with that. So 2 stars less for this.\\n\\nAnyways this huge chain is visitable once in a while. Can give it a try.\"), ('Rated 3.0', \"RATED\\n  Tried buffet, veg for me, non veg for my brother.\\nTaste: 2/5\\nQuantity: 5/5\\nQuality: 2/5\\nI wanted my brother who came to Bangalore have a good time. So I decided to bring him here so that he could eat all the chicken he can.\\nThere were around 20 items in the buffet. We were given complimentary cola, which was not cold.I was been so I could only eat dal and rice. Which tasted horrible.\\nI atleast thought he might like chicken, but he didn't. He said that chicken tasted weird and they have put a lot of baking soda in it. He got full after eating 2 pieces. Extra money for icecream was not worth it as you get only 1 scoop worth 15?.\"), ('Rated 5.0', 'RATED\\n  We enjoyed our dinner, grilled chicken was good, with tandoori roti good combination, always a good experience, good support from staff. Try their kabab'), ('Rated 4.0', \"RATED\\n  The food was good and the ambience was quite impressive too. The service also was up to the mark, although I wanted to have the buffet but wasn't able to because I was 10 minutes late.\"), ('Rated 4.0', \"RATED\\n  Okay this review is mainly about the shaadi ka biryani (mutton). Lived the taste. We had taken a home delivery of this through zomatogold. No complaints on the service and delivery.\\n\\nOther than that, been to empire a couple of times. Food depends on the day and the time I guess. Sometimes it's really good and at other times I have found hair in the food. And they do tend to make all the curries spicy.\"), ('Rated 2.0', \"RATED\\n  Empire is quite popular name in Bangalore and u can easily locate this one in Indiranagar, Jayanagar, Bannerghatta Road, Koramangla, Shivajinagar and other places too.\\n\\nBeen here for a lunch yesterday at this Jayanagar Outlet. Quite a pocket friendly place, empire is - always. Buffet for 199, isn't that a great deal? The taste and quantity is authentic based on the price tag attached to them. The buffet spread remains same as is from ages and no change in variety or taste. The coke served was not chilled one, and the staff hesitated to even answer when we asked them to serve a chilled one. So 1 start less for that. Ambience was good enough for a buffet. The sweet was not tasty.\\n\\nAnd along with buffet, we tried tawa fry pomfret which was too bad. We didn't dare to order anything more after we were disappointed with that. So 2 stars less for this.\\n\\nAnyways this huge chain is visitable once in a while. Can give it a try.\"), ('Rated 3.0', \"RATED\\n  Tried buffet, veg for me, non veg for my brother.\\nTaste: 2/5\\nQuantity: 5/5\\nQuality: 2/5\\nI wanted my brother who came to Bangalore have a good time. So I decided to bring him here so that he could eat all the chicken he can.\\nThere were around 20 items in the buffet. We were given complimentary cola, which was not cold.I was been so I could only eat dal and rice. Which tasted horrible.\\nI atleast thought he might like chicken, but he didn't. He said that chicken tasted weird and they have put a lot of baking soda in it. He got full after eating 2 pieces. Extra money for icecream was not worth it as you get only 1 scoop worth 15?.\"), ('Rated 5.0', 'RATED\\n  We enjoyed our dinner, grilled chicken was good, with tandoori roti good combination, always a good experience, good support from staff. Try their kabab'), ('Rated 4.0', \"RATED\\n  The food was good and the ambience was quite impressive too. The service also was up to the mark, although I wanted to have the buffet but wasn't able to because I was 10 minutes late.\"), ('Rated 4.0', \"RATED\\n  Okay this review is mainly about the shaadi ka biryani (mutton). Lived the taste. We had taken a home delivery of this through zomatogold. No complaints on the service and delivery.\\n\\nOther than that, been to empire a couple of times. Food depends on the day and the time I guess. Sometimes it's really good and at other times I have found hair in the food. And they do tend to make all the curries spicy.\"), ('Rated 2.0', \"RATED\\n  Empire is quite popular name in Bangalore and u can easily locate this one in Indiranagar, Jayanagar, Bannerghatta Road, Koramangla, Shivajinagar and other places too.\\n\\nBeen here for a lunch yesterday at this Jayanagar Outlet. Quite a pocket friendly place, empire is - always. Buffet for 199, isn't that a great deal? The taste and quantity is authentic based on the price tag attached to them. The buffet spread remains same as is from ages and no change in variety or taste. The coke served was not chilled one, and the staff hesitated to even answer when we asked them to serve a chilled one. So 1 start less for that. Ambience was good enough for a buffet. The sweet was not tasty.\\n\\nAnd along with buffet, we tried tawa fry pomfret which was too bad. We didn't dare to order anything more after we were disappointed with that. So 2 stars less for this.\\n\\nAnyways this huge chain is visitable once in a while. Can give it a try.\"), ('Rated 3.0', \"RATED\\n  Tried buffet, veg for me, non veg for my brother.\\nTaste: 2/5\\nQuantity: 5/5\\nQuality: 2/5\\nI wanted my brother who came to Bangalore have a good time. So I decided to bring him here so that he could eat all the chicken he can.\\nThere were around 20 items in the buffet. We were given complimentary cola, which was not cold.I was been so I could only eat dal and rice. Which tasted horrible.\\nI atleast thought he might like chicken, but he didn't. He said that chicken tasted weird and they have put a lot of baking soda in it. He got full after eating 2 pieces. Extra money for icecream was not worth it as you get only 1 scoop worth 15?.\"), ('Rated 5.0', 'RATED\\n  We enjoyed our dinner, grilled chicken was good, with tandoori roti good combination, always a good experience, good support from staff. Try their kabab'), ('Rated 4.0', \"RATED\\n  The food was good and the ambience was quite impressive too. The service also was up to the mark, although I wanted to have the buffet but wasn't able to because I was 10 minutes late.\"), ('Rated 4.0', \"RATED\\n  Okay this review is mainly about the shaadi ka biryani (mutton). Lived the taste. We had taken a home delivery of this through zomatogold. No complaints on the service and delivery.\\n\\nOther than that, been to empire a couple of times. Food depends on the day and the time I guess. Sometimes it's really good and at other times I have found hair in the food. And they do tend to make all the curries spicy.\"), ('Rated 2.0', \"RATED\\n  Empire is quite popular name in Bangalore and u can easily locate this one in Indiranagar, Jayanagar, Bannerghatta Road, Koramangla, Shivajinagar and other places too.\\n\\nBeen here for a lunch yesterday at this Jayanagar Outlet. Quite a pocket friendly place, empire is - always. Buffet for 199, isn't that a great deal? The taste and quantity is authentic based on the price tag attached to them. The buffet spread remains same as is from ages and no change in variety or taste. The coke served was not chilled one, and the staff hesitated to even answer when we asked them to serve a chilled one. So 1 start less for that. Ambience was good enough for a buffet. The sweet was not tasty.\\n\\nAnd along with buffet, we tried tawa fry pomfret which was too bad. We didn't dare to order anything more after we were disappointed with that. So 2 stars less for this.\\n\\nAnyways this huge chain is visitable once in a while. Can give it a try.\"), ('Rated 3.0', \"RATED\\n  Tried buffet, veg for me, non veg for my brother.\\nTaste: 2/5\\nQuantity: 5/5\\nQuality: 2/5\\nI wanted my brother who came to Bangalore have a good time. So I decided to bring him here so that he could eat all the chicken he can.\\nThere were around 20 items in the buffet. We were given complimentary cola, which was not cold.I was been so I could only eat dal and rice. Which tasted horrible.\\nI atleast thought he might like chicken, but he didn't. He said that chicken tasted weird and they have put a lot of baking soda in it. He got full after eating 2 pieces. Extra money for icecream was not worth it as you get only 1 scoop worth 15?.\"), ('Rated 5.0', 'RATED\\n  We enjoyed our dinner, grilled chicken was good, with tandoori roti good combination, always a good experience, good support from staff. Try their kabab'), ('Rated 5.0', 'RATED\\n  Excellent food. Very very affordable thanks to Zomato gold. Butter chicken full is totally worth it, amazing quantity paired with some of the best Malabar parotas will make your day. Service was polite and professional. Prawns were small but very well flavored.'), ('Rated 3.0', \"RATED\\n \\nDon't miss the Shawarma roll, if you go to any empire outlets.\\nBiryani is good too.\\nI'd ordered for Chicken lollipop, it was good.\\nAmbience is average.\\nService average.\\nThere's nothing wow about this place, but it's good enough.\"), ('Rated 4.0', 'RATED\\n  I went for lunch to this place. There is certainlyol doubt that empire is famous for its Kerala food and it has always been great experience to dine here.\\nReasonable price. Quick service. Great food. Good quantity.\\nAnd they have Zomato gold too! Empire Bellandur is yet to get that though.'), ('Rated 5.0', 'RATED\\n  Loved chicken wings severed today. Great place to hangout for all non vegetarians,...................................................................................')]",
         "[]",
         "Delivery",
         "Banashankari"
        ],
        [
         "39",
         "https://www.zomato.com/bangalore/maruthi-davangere-benne-dosa-banashankari-bangalore?context=eyJzZSI6eyJlIjpbIjE4MzU5OTE4IiwiMTg2MTgzNDMiLCI1NzMyNSIsIjU1Mzk3IiwxODU2MzA5NywiNTY4ODMiLCIxODMwNzgwNiIsIjU4NjM2IiwiNTM2MDEiLCIxODU2NTY3OSIsIjE4NTU5ODk3IiwiMTg2OTcyMTEiLCI1MjI1NSIsIjUxMzQ4IiwiMTgzNzEyNzIiLCIxODc4MjIwOSIsIjE4Nzg3ODgzIiwiMTgwODk2ODIiLCIxODUyMTkxMiIsIjU2MDk4IiwiMTgwODk2OTMiXSwidCI6IkRlbGl2ZXJ5IFJlc3RhdXJhbnRzIGluIEJhbmFzaGFua2FyaSJ9fQ==",
         "556/A, Water Tank Road, 3rd Stage, Banashankari, Bangalore",
         "Maruthi Davangere Benne Dosa",
         "Yes",
         "No",
         "4.0/5",
         "17",
         "+91 9019563485",
         "Banashankari",
         "Quick Bites",
         null,
         "South Indian",
         "150",
         "[('Rated 5.0', \"RATED\\n  This restaurant serves the best benne dosas, period! I first tried out the benne masala dosa and was stumped by the inherent taste of the dosa that I didn't require any chutney along with it. Benne kaali is another must try out. It's extremely crispy and light.\\n\\nEven the tea of this restaurant had a very unique taste, that I forced myself to limit to a cup. :-)\\n\\nHighly recommend this restaurant.\")]",
         "['Benne Dosa', 'Benne Masala Dosa', 'Benne Kali Dosa', 'Open Dosa', 'Benne Set Dosa', 'Benne Dosa', 'Benne Masala Dosa', 'Benne Kali Dosa', 'Open Dosa', 'Benne Set Dosa', 'Set Dosa', 'Khara Pongal']",
         "Delivery",
         "Banashankari"
        ],
        [
         "40",
         "https://www.zomato.com/bangalore/chaatimes-basavanagudi?context=eyJzZSI6eyJlIjpbIjE4NjE4MzQzIiwiNTczMjUiLCI1NTM5NyIsIjE4NTYzMDk3Iiw1Njg4MywiMTgzMDc4MDYiLCI1ODYzNiIsIjUzNjAxIiwiMTg1NjU2NzkiLCIxODU1OTg5NyIsIjE4Njk3MjExIiwiNTIyNTUiLCI1MTM0OCIsIjE4MzcxMjcyIiwiMTg3ODIyMDkiLCIxODc4Nzg4MyIsIjE4MDg5NjgyIiwiMTg1MjE5MTIiLCI1NjA5OCIsIjE4MDg5NjkzIl0sInQiOiJEZWxpdmVyeSBSZXN0YXVyYW50cyBpbiBCYW5hc2hhbmthcmkifX0=",
         "39, 3rd Main,4th Cross, Hanumanth Nagar, Near, Basavanagudi, Bangalore",
         "Chaatimes",
         "Yes",
         "No",
         "3.8/5",
         "133",
         "+91 8884232233",
         "Basavanagudi",
         "Quick Bites",
         "Dabeli, Faluda, Masala Poori, Sandwiches, Tokri Chaat, Pav Bhaji, Dahipuri",
         "Street Food, Fast Food",
         "200",
         "[('Rated 4.0', 'RATED\\n  Ordered pack of dabeli for rs.49 today. The packing was neat. The size of dabeli was to the mark. Taste was just yum. Over all value for money :)'), ('Rated 4.0', 'RATED\\n  Best place for eating chats, basket chaat and tokri chaat are the best here you can eat ,value for money and good ambience, well maintained.')]",
         "[]",
         "Delivery",
         "Banashankari"
        ],
        [
         "41",
         "https://www.zomato.com/bangalore/havyaka-mess-banashankari?context=eyJzZSI6eyJlIjpbIjU3MzI1IiwiNTUzOTciLCIxODU2MzA5NyIsIjU2ODgzIiwxODMwNzgwNiwiNTg2MzYiLCI1MzYwMSIsIjE4NTY1Njc5IiwiMTg1NTk4OTciLCIxODY5NzIxMSIsIjUyMjU1IiwiNTEzNDgiLCIxODM3MTI3MiIsIjE4NzgyMjA5IiwiMTg3ODc4ODMiLCIxODA4OTY4MiIsIjE4NTIxOTEyIiwiNTYwOTgiLCIxODA4OTY5MyJdLCJ0IjoiRGVsaXZlcnkgUmVzdGF1cmFudHMgaW4gQmFuYXNoYW5rYXJpIn19",
         "Opp Vinayaka hospital, Near Seetha Circle , 80 Feet Road, Banashankari, Bangalore",
         "Havyaka Mess",
         "No",
         "No",
         "3.9/5",
         "28",
         "+91 9243195843\r\n+91 9243404670",
         "Banashankari",
         "Mess",
         null,
         "South Indian",
         "300",
         "[('Rated 4.0', 'RATED\\n  Food is good.very homely.Rice sambhar rasam papad. Quick service. Very reasonable.Ambience is just ok.Cleanliness can be improved. Staff is ok. Road side parking.')]",
         "[]",
         "Delivery",
         "Banashankari"
        ],
        [
         "42",
         "https://www.zomato.com/bangalore/mcdonalds-banashankari?context=eyJzZSI6eyJlIjpbIjU1Mzk3IiwiMTg1NjMwOTciLCI1Njg4MyIsIjE4MzA3ODA2Iiw1ODYzNiwiNTM2MDEiLCIxODU2NTY3OSIsIjE4NTU5ODk3IiwiMTg2OTcyMTEiLCI1MjI1NSIsIjUxMzQ4IiwiMTgzNzEyNzIiLCIxODc4MjIwOSIsIjE4Nzg3ODgzIiwiMTgwODk2ODIiLCIxODUyMTkxMiIsIjU2MDk4IiwiMTgwODk2OTMiXSwidCI6IkRlbGl2ZXJ5IFJlc3RhdXJhbnRzIGluIEJhbmFzaGFua2FyaSJ9fQ==",
         "2466, Bhaskar Grand Tower, 24th Cross, Opposite BDA Complex, Banashankari, Bangalore",
         "McDonald's",
         "Yes",
         "No",
         "3.9/5",
         "286",
         "080 66000666\r\n080 42005285",
         "Banashankari",
         "Quick Bites",
         "Burgers, Fries, Hot Chocolate",
         "Burger, Fast Food",
         "500",
         "[('Rated 4.0', 'RATED\\n  Perfect place to have burger , coke and fries..\\nThis place provides the best and delicious burger..\\n\\nGood place to hangout with friends\\nGood ambience\\nPleasant place'), ('Rated 4.0', \"RATED\\n  It's a good spacious place, with good service. you also have the extra element of coffee and ice cream some sort of counter, which is not there in any other outlet!\\nThe food is pretty much the same as any other mcd outlet.\")]",
         "[]",
         "Delivery",
         "Banashankari"
        ],
        [
         "43",
         "https://www.zomato.com/bangalore/dominos-pizza-1-banashankari?context=eyJzZSI6eyJlIjpbIjE4NTYzMDk3IiwiNTY4ODMiLCIxODMwNzgwNiIsIjU4NjM2Iiw1MzYwMSwiMTg1NjU2NzkiLCIxODU1OTg5NyIsIjE4Njk3MjExIiwiNTIyNTUiLCI1MTM0OCIsIjE4MzcxMjcyIiwiMTg3ODIyMDkiLCIxODc4Nzg4MyIsIjE4MDg5NjgyIiwiMTg1MjE5MTIiLCI1NjA5OCIsIjE4MDg5NjkzIl0sInQiOiJEZWxpdmVyeSBSZXN0YXVyYW50cyBpbiBCYW5hc2hhbmthcmkifX0=",
         "645, 1st Floor, 24th Cross, 24th Main, 2nd Stage, Banashankari, Bangalore",
         "Domino's Pizza",
         "Yes",
         "No",
         "3.9/5",
         "540",
         "080 26710070\r\n18602100000",
         "Banashankari",
         "Quick Bites",
         "Pane Pizza, Lava Cake, Pasta, Stuffed Garlic Bread, Chocolava Cake, Tacos",
         "Pizza, Fast Food",
         "800",
         "[('Rated 3.0', \"RATED\\n  I visit regularly with family.service here is not that great\\nWen it comes to pizza must try pizza's are\\n1)veg loaded\\n2) zingy parcel\\n3) single topping pizza (my fav are Panner onion and capsicum.\\n4)white sauce pasta\\nChocolate lava cake is not that great I give a 3star\"), ('Rated 5.0', \"RATED\\n  Everyone knows Domino's, the pizzas are great, the garlic bread is simply AMAZING. love the chocolate lava cake.\\nThis time I had a cheese burst pizza. It was super delicious!! A must have.\"), ('Rated 3.0', 'RATED\\n  Food - 8/10\\nService - 7/10\\nAmbience - 8/10\\nCost - 8/10\\n\\nLike any other dominos they have the same type of sitting arrangements but here the staff is more co-operative and active. They always try keep their place clean and hygienic.'), ('Rated 4.0', \"RATED\\n  Really small and clumsy place, it's in the first floor and you wouldn't spot it instantaneously.\\nservice and food is the same as other standard domino's outlet.\"), ('Rated 4.0', 'RATED\\n  These guys do better taste than any other dominos outlet. Place and ambience also is good. My request to all dominos outlets is to keep a lot of plants in and out of their outlets in order to have a better environment.')]",
         "[]",
         "Delivery",
         "Banashankari"
        ],
        [
         "44",
         "https://www.zomato.com/bangalore/onesta-banashankari?context=eyJzZSI6eyJlIjpbIjU2ODgzIiwiMTgzMDc4MDYiLCI1ODYzNiIsIjUzNjAxIiwxODU2NTY3OSwiMTg1NTk4OTciLCIxODY5NzIxMSIsIjUyMjU1IiwiNTEzNDgiLCIxODM3MTI3MiIsIjE4NzgyMjA5IiwiMTg3ODc4ODMiLCIxODA4OTY4MiIsIjE4NTIxOTEyIiwiNTYwOTgiLCIxODA4OTY5MyJdLCJ0IjoiRGVsaXZlcnkgUmVzdGF1cmFudHMgaW4gQmFuYXNoYW5rYXJpIn19",
         "2469, 3rd Floor, 24th Cross, Opposite BDA Complex, 2nd Stage, Banashankari, Bangalore",
         "Onesta",
         "Yes",
         "Yes",
         "4.6/5",
         "2556",
         "080 48653961\r\n080 48655715",
         "Banashankari",
         "Casual Dining, Cafe",
         "Farmhouse Pizza, Chocolate Banana, Virgin Mojito, Pasta, Paneer Tikka, Lime Soda, Prawn Pizza",
         "Pizza, Cafe, Italian",
         "600",
         "[('Rated 5.0', 'RATED\\n  I personally really liked this place ! The ambience with the rooftop , plants , the music is great !\\nThe starters are good and so were the pizzas.\\nThe prices are pretty affordable! Must visit place !'), ('Rated 5.0', 'RATED\\n  Very good pizza... took unlimited pizza and could eat 3 pizzas easily per person... even service is very good... staff is very courteous and polite'), ('Rated 4.0', 'RATED\\n  Onward has been a favourite place for a Pizza for quite some time. Their Happy Hour Pizzas and Pizza Combos are to be relished. The pizzas are fluffy and have just the right amount of sauce and toppings to cheer you up.'), ('Rated 3.0', 'RATED\\n  Onesta serves unlimited pizza and desserts with pasta also\\nThis places has multiple branches in the city and usually crowded on weekends\\nService: itÃ\\x83Ã\\x83Ã\\x82Ã\\x82Ã\\x83Ã\\x82Ã\\x82Ã\\x92s good and decent\\nPrices : affordable\\nFood: desserts and shakes are very good\\nBut the pizzas are too thick base ones so until you order something very cheesy or with a generous topping canÃ\\x83Ã\\x83Ã\\x82Ã\\x82Ã\\x83Ã\\x82Ã\\x82Ã\\x92t taste it\\nThe choclate banana pizza was a disappointment as was very raw'), ('Rated 4.0', 'RATED\\n  I like going back to this place. I really like the ambience and the fact that it is a rooftop makes it a cool place to hangout. Although, I keep ordering almost the same thing every time, it has always turned out to be a nice experience. This place is famous for its pizza but, I kinda like their pasta more. Also, the tiramisu shots are to die for and so is the mozzarella cheese balls with a really generous amount of cheese inside. I would surely recommend this place and I would definitely keep going back.'), ('Rated 5.0', \"RATED\\n  Bakasuras Paradise!\\n\\nThe only place that can keep the bakasuras belly happy!\\nMy 6th visit, and my 5th different onesta visit!\\nFrom RR nagar, JP Nagar, Basavanagudi, Koramangala bakasura ended up at an onesta in Banashankari as well!\\nEvery visit , it's the unlimited meal that I have had. But, but, but there is a change that's happening. From unlimited pizza, unlimited dessert and a beverage (mocktails and everything) to unlimited pizza, one dessert and one aerated beverage (coke/Pepsi/fanta) , I have been through all! And yet, it never disappoints!\\nThe pizzas here are just fab and you can hardly eat like 4-5 pizzas in one sitting (bakasura can.. can you? Yes you can)\\nComing to the staff, they are great.\\nComing to the quality, it's great.\\n\\nTo finish!\\nBe like onesta!\\n\\nIt's Bakasura Recommended\\nFood- 10/10\\nAmbience- 10/10\\nStaff- 10/10\\nValue for money- 25/10\\n\\nOnesta Love!\"), ('Rated 4.0', \"RATED\\n  It is like any other onesta outlet. But I find this outlet more crowded than any other outlet that I have visited so far. Food wise it's the same no much of difference. But since the place a little huge service is delayed usually.\"), ('Rated 5.0', 'RATED\\n  At times of a cafe bubble in Bangalore, Onesta truly stands out as one the best restaurants with great food, pocket friendly menu and excellent staff. The place often has offers providing unlimited pizzas at prices as low as Rs 150. I have been here multiple times , tasted most of the items on menu and not once have I returned unsatisfied.'), ('Rated 5.0', \"RATED\\n  This is one of the biggest Onesta outlets I've visited. In the last couple of years, Onesta has made a name for itself. We did not have pizza places that have a buffet option.\\n\\nLike any other Onesta, the taste is right up there and the quick service. I like the thin crust pizzas here. I'd recommend you to take the buffet, ordering a la carte is not pocket friendly.\"), ('Rated 5.0', 'RATED\\n  This roof top outlet of OnestÃ\\x83Ã\\x83Ã\\x82Ã\\x83Ã\\x83Ã\\x82Ã\\x82Ã\\xa0 is one of the amazing places to have the best pizzas in and around Banashankari.\\n\\nNot only the ambience but also the cheerful yet humble service staff catalised my great experience there.\\n\\nMust try: chat pizza, herbed wedges\\n\\n#rajeshwrites'), ('Rated 4.0', 'RATED\\n  This is one of the best restaurants in banglore this is a roof top restaurant with a very good ambiance!\\nThis is a peaceful place where u can seat chat with your friends with very good starters , drinks , and off course pizzas .\\nThey serve these tiny little desserts which look good . Personal favourite was cheese balls and fish fingers .\\nI love the service here itÃ\\x83Ã\\x83Ã\\x82Ã\\x82Ã\\x83Ã\\x82Ã\\x82Ã\\x92s quick even during the offers their service is pretty fast.'), ('Rated 5.0', \"RATED\\n  Food : 4/5\\nService: 10/5\\nSo let's get over the food and the ambience first. Restaurant is big, with high roof, give a sense of space, well lit. Food is great, not mind blowing. We took the unlimited menu, and loved the bacon pizza most. Rest of the pizza was good enough. Among the deserts, the walnut tart was superb, but i didn't like the peanut-butter mousse at all.\\n\\nBut, in spite of all that, the reason for the 5-star rating is the service we got. We were served by Mr.Nanda, who made us feel absolutely special. He didn't have to. We were a small party of just two people, we weren't ordering off the main menu, and the restaurant discourages tips. In spite of all that, he was extremely attentive (without being intrusive), engaging and helpful. I have been to quite some places, from roadside ones to five-star hotels, rarely have the service been so heart warmingly good. I hope he goes onto much much greater things in life, because he is absolutely brilliant at his work.\"), ('Rated 4.0', 'RATED\\n  Ambiance - 4/5\\nService - 4/5\\nFood - 4/5\\n\\nGreat pizza, served hot and made to order. They take note of what crusts you want for your pizza and I had the thin crust, so I could eat more, and the crust was made amazing also so was the pizza.\\nThe service is really good and the place is clean also. All in all wonderful place and another great restaurant part of the franchise.'), ('Rated 4.0', 'RATED\\n  Loved the foodie experience here!!!!!! Came here for the name of the week offer and trust me I was disappointed. This whole place has such a good ambience that u l love it instantly.\\nCrazy Bangalore rain and Fresh piping hot pizza and the night is sorted!\\nUnlimited pizzas, a mocktail and did i just hear unlimited desserts?!\\nGoodbye midweek blues!!!?\\n\\nI would specially mention the staff here-Chaitanya,Arup and Binita serving us, they were all so friendly and courteous, never have i had such an experience.\\nWhat really makes your food enjoyable is just not the taste but how the person served you!\\n\\nTop notch guys!!\\nComing back for more-offer or no offer ! ?'), ('Rated 5.0', 'RATED\\n  This roof top outlet of OnestÃ\\x83Ã\\x83Ã\\x82Ã\\x83Ã\\x83Ã\\x82Ã\\x82Ã\\xa0 is one of the amazing places to have the best pizzas in and around Banashankari.\\n\\nNot only the ambience but also the cheerful yet humble service staff catalised my great experience there.\\n\\nMust try: chat pizza, herbed wedges\\n\\n#rajeshwrites'), ('Rated 4.0', 'RATED\\n  This is one of the best restaurants in banglore this is a roof top restaurant with a very good ambiance!\\nThis is a peaceful place where u can seat chat with your friends with very good starters , drinks , and off course pizzas .\\nThey serve these tiny little desserts which look good . Personal favourite was cheese balls and fish fingers .\\nI love the service here itÃ\\x83Ã\\x83Ã\\x82Ã\\x82Ã\\x83Ã\\x82Ã\\x82Ã\\x92s quick even during the offers their service is pretty fast.'), ('Rated 5.0', \"RATED\\n  Food : 4/5\\nService: 10/5\\nSo let's get over the food and the ambience first. Restaurant is big, with high roof, give a sense of space, well lit. Food is great, not mind blowing. We took the unlimited menu, and loved the bacon pizza most. Rest of the pizza was good enough. Among the deserts, the walnut tart was superb, but i didn't like the peanut-butter mousse at all.\\n\\nBut, in spite of all that, the reason for the 5-star rating is the service we got. We were served by Mr.Nanda, who made us feel absolutely special. He didn't have to. We were a small party of just two people, we weren't ordering off the main menu, and the restaurant discourages tips. In spite of all that, he was extremely attentive (without being intrusive), engaging and helpful. I have been to quite some places, from roadside ones to five-star hotels, rarely have the service been so heart warmingly good. I hope he goes onto much much greater things in life, because he is absolutely brilliant at his work.\"), ('Rated 4.0', 'RATED\\n  Ambiance - 4/5\\nService - 4/5\\nFood - 4/5\\n\\nGreat pizza, served hot and made to order. They take note of what crusts you want for your pizza and I had the thin crust, so I could eat more, and the crust was made amazing also so was the pizza.\\nThe service is really good and the place is clean also. All in all wonderful place and another great restaurant part of the franchise.'), ('Rated 4.0', 'RATED\\n  Loved the foodie experience here!!!!!! Came here for the name of the week offer and trust me I was disappointed. This whole place has such a good ambience that u l love it instantly.\\nCrazy Bangalore rain and Fresh piping hot pizza and the night is sorted!\\nUnlimited pizzas, a mocktail and did i just hear unlimited desserts?!\\nGoodbye midweek blues!!!?\\n\\nI would specially mention the staff here-Chaitanya,Arup and Binita serving us, they were all so friendly and courteous, never have i had such an experience.\\nWhat really makes your food enjoyable is just not the taste but how the person served you!\\n\\nTop notch guys!!\\nComing back for more-offer or no offer ! ?'), ('Rated 5.0', 'RATED\\n  This roof top outlet of OnestÃ\\x83Ã\\x83Ã\\x82Ã\\x83Ã\\x83Ã\\x82Ã\\x82Ã\\xa0 is one of the amazing places to have the best pizzas in and around Banashankari.\\n\\nNot only the ambience but also the cheerful yet humble service staff catalised my great experience there.\\n\\nMust try: chat pizza, herbed wedges\\n\\n#rajeshwrites'), ('Rated 4.0', 'RATED\\n  This is one of the best restaurants in banglore this is a roof top restaurant with a very good ambiance!\\nThis is a peaceful place where u can seat chat with your friends with very good starters , drinks , and off course pizzas .\\nThey serve these tiny little desserts which look good . Personal favourite was cheese balls and fish fingers .\\nI love the service here itÃ\\x83Ã\\x83Ã\\x82Ã\\x82Ã\\x83Ã\\x82Ã\\x82Ã\\x92s quick even during the offers their service is pretty fast.'), ('Rated 5.0', \"RATED\\n  Food : 4/5\\nService: 10/5\\nSo let's get over the food and the ambience first. Restaurant is big, with high roof, give a sense of space, well lit. Food is great, not mind blowing. We took the unlimited menu, and loved the bacon pizza most. Rest of the pizza was good enough. Among the deserts, the walnut tart was superb, but i didn't like the peanut-butter mousse at all.\\n\\nBut, in spite of all that, the reason for the 5-star rating is the service we got. We were served by Mr.Nanda, who made us feel absolutely special. He didn't have to. We were a small party of just two people, we weren't ordering off the main menu, and the restaurant discourages tips. In spite of all that, he was extremely attentive (without being intrusive), engaging and helpful. I have been to quite some places, from roadside ones to five-star hotels, rarely have the service been so heart warmingly good. I hope he goes onto much much greater things in life, because he is absolutely brilliant at his work.\"), ('Rated 4.0', 'RATED\\n  Ambiance - 4/5\\nService - 4/5\\nFood - 4/5\\n\\nGreat pizza, served hot and made to order. They take note of what crusts you want for your pizza and I had the thin crust, so I could eat more, and the crust was made amazing also so was the pizza.\\nThe service is really good and the place is clean also. All in all wonderful place and another great restaurant part of the franchise.'), ('Rated 4.0', 'RATED\\n  Loved the foodie experience here!!!!!! Came here for the name of the week offer and trust me I was disappointed. This whole place has such a good ambience that u l love it instantly.\\nCrazy Bangalore rain and Fresh piping hot pizza and the night is sorted!\\nUnlimited pizzas, a mocktail and did i just hear unlimited desserts?!\\nGoodbye midweek blues!!!?\\n\\nI would specially mention the staff here-Chaitanya,Arup and Binita serving us, they were all so friendly and courteous, never have i had such an experience.\\nWhat really makes your food enjoyable is just not the taste but how the person served you!\\n\\nTop notch guys!!\\nComing back for more-offer or no offer ! ?'), ('Rated 5.0', 'RATED\\n  This roof top outlet of OnestÃ\\x83Ã\\x83Ã\\x82Ã\\x83Ã\\x83Ã\\x82Ã\\x82Ã\\xa0 is one of the amazing places to have the best pizzas in and around Banashankari.\\n\\nNot only the ambience but also the cheerful yet humble service staff catalised my great experience there.\\n\\nMust try: chat pizza, herbed wedges\\n\\n#rajeshwrites'), ('Rated 4.0', 'RATED\\n  This is one of the best restaurants in banglore this is a roof top restaurant with a very good ambiance!\\nThis is a peaceful place where u can seat chat with your friends with very good starters , drinks , and off course pizzas .\\nThey serve these tiny little desserts which look good . Personal favourite was cheese balls and fish fingers .\\nI love the service here itÃ\\x83Ã\\x83Ã\\x82Ã\\x82Ã\\x83Ã\\x82Ã\\x82Ã\\x92s quick even during the offers their service is pretty fast.'), ('Rated 5.0', \"RATED\\n  Food : 4/5\\nService: 10/5\\nSo let's get over the food and the ambience first. Restaurant is big, with high roof, give a sense of space, well lit. Food is great, not mind blowing. We took the unlimited menu, and loved the bacon pizza most. Rest of the pizza was good enough. Among the deserts, the walnut tart was superb, but i didn't like the peanut-butter mousse at all.\\n\\nBut, in spite of all that, the reason for the 5-star rating is the service we got. We were served by Mr.Nanda, who made us feel absolutely special. He didn't have to. We were a small party of just two people, we weren't ordering off the main menu, and the restaurant discourages tips. In spite of all that, he was extremely attentive (without being intrusive), engaging and helpful. I have been to quite some places, from roadside ones to five-star hotels, rarely have the service been so heart warmingly good. I hope he goes onto much much greater things in life, because he is absolutely brilliant at his work.\"), ('Rated 4.0', 'RATED\\n  Ambiance - 4/5\\nService - 4/5\\nFood - 4/5\\n\\nGreat pizza, served hot and made to order. They take note of what crusts you want for your pizza and I had the thin crust, so I could eat more, and the crust was made amazing also so was the pizza.\\nThe service is really good and the place is clean also. All in all wonderful place and another great restaurant part of the franchise.'), ('Rated 4.0', 'RATED\\n  Loved the foodie experience here!!!!!! Came here for the name of the week offer and trust me I was disappointed. This whole place has such a good ambience that u l love it instantly.\\nCrazy Bangalore rain and Fresh piping hot pizza and the night is sorted!\\nUnlimited pizzas, a mocktail and did i just hear unlimited desserts?!\\nGoodbye midweek blues!!!?\\n\\nI would specially mention the staff here-Chaitanya,Arup and Binita serving us, they were all so friendly and courteous, never have i had such an experience.\\nWhat really makes your food enjoyable is just not the taste but how the person served you!\\n\\nTop notch guys!!\\nComing back for more-offer or no offer ! ?'), ('Rated 5.0', 'RATED\\n  This roof top outlet of OnestÃ\\x83Ã\\x83Ã\\x82Ã\\x83Ã\\x83Ã\\x82Ã\\x82Ã\\xa0 is one of the amazing places to have the best pizzas in and around Banashankari.\\n\\nNot only the ambience but also the cheerful yet humble service staff catalised my great experience there.\\n\\nMust try: chat pizza, herbed wedges\\n\\n#rajeshwrites'), ('Rated 4.0', 'RATED\\n  This is one of the best restaurants in banglore this is a roof top restaurant with a very good ambiance!\\nThis is a peaceful place where u can seat chat with your friends with very good starters , drinks , and off course pizzas .\\nThey serve these tiny little desserts which look good . Personal favourite was cheese balls and fish fingers .\\nI love the service here itÃ\\x83Ã\\x83Ã\\x82Ã\\x82Ã\\x83Ã\\x82Ã\\x82Ã\\x92s quick even during the offers their service is pretty fast.'), ('Rated 5.0', \"RATED\\n  Food : 4/5\\nService: 10/5\\nSo let's get over the food and the ambience first. Restaurant is big, with high roof, give a sense of space, well lit. Food is great, not mind blowing. We took the unlimited menu, and loved the bacon pizza most. Rest of the pizza was good enough. Among the deserts, the walnut tart was superb, but i didn't like the peanut-butter mousse at all.\\n\\nBut, in spite of all that, the reason for the 5-star rating is the service we got. We were served by Mr.Nanda, who made us feel absolutely special. He didn't have to. We were a small party of just two people, we weren't ordering off the main menu, and the restaurant discourages tips. In spite of all that, he was extremely attentive (without being intrusive), engaging and helpful. I have been to quite some places, from roadside ones to five-star hotels, rarely have the service been so heart warmingly good. I hope he goes onto much much greater things in life, because he is absolutely brilliant at his work.\"), ('Rated 4.0', 'RATED\\n  Ambiance - 4/5\\nService - 4/5\\nFood - 4/5\\n\\nGreat pizza, served hot and made to order. They take note of what crusts you want for your pizza and I had the thin crust, so I could eat more, and the crust was made amazing also so was the pizza.\\nThe service is really good and the place is clean also. All in all wonderful place and another great restaurant part of the franchise.'), ('Rated 4.0', 'RATED\\n  Loved the foodie experience here!!!!!! Came here for the name of the week offer and trust me I was disappointed. This whole place has such a good ambience that u l love it instantly.\\nCrazy Bangalore rain and Fresh piping hot pizza and the night is sorted!\\nUnlimited pizzas, a mocktail and did i just hear unlimited desserts?!\\nGoodbye midweek blues!!!?\\n\\nI would specially mention the staff here-Chaitanya,Arup and Binita serving us, they were all so friendly and courteous, never have i had such an experience.\\nWhat really makes your food enjoyable is just not the taste but how the person served you!\\n\\nTop notch guys!!\\nComing back for more-offer or no offer ! ?'), ('Rated 5.0', 'RATED\\n  This roof top outlet of OnestÃ\\x83Ã\\x83Ã\\x82Ã\\x83Ã\\x83Ã\\x82Ã\\x82Ã\\xa0 is one of the amazing places to have the best pizzas in and around Banashankari.\\n\\nNot only the ambience but also the cheerful yet humble service staff catalised my great experience there.\\n\\nMust try: chat pizza, herbed wedges\\n\\n#rajeshwrites'), ('Rated 4.0', 'RATED\\n  This is one of the best restaurants in banglore this is a roof top restaurant with a very good ambiance!\\nThis is a peaceful place where u can seat chat with your friends with very good starters , drinks , and off course pizzas .\\nThey serve these tiny little desserts which look good . Personal favourite was cheese balls and fish fingers .\\nI love the service here itÃ\\x83Ã\\x83Ã\\x82Ã\\x82Ã\\x83Ã\\x82Ã\\x82Ã\\x92s quick even during the offers their service is pretty fast.'), ('Rated 5.0', \"RATED\\n  Food : 4/5\\nService: 10/5\\nSo let's get over the food and the ambience first. Restaurant is big, with high roof, give a sense of space, well lit. Food is great, not mind blowing. We took the unlimited menu, and loved the bacon pizza most. Rest of the pizza was good enough. Among the deserts, the walnut tart was superb, but i didn't like the peanut-butter mousse at all.\\n\\nBut, in spite of all that, the reason for the 5-star rating is the service we got. We were served by Mr.Nanda, who made us feel absolutely special. He didn't have to. We were a small party of just two people, we weren't ordering off the main menu, and the restaurant discourages tips. In spite of all that, he was extremely attentive (without being intrusive), engaging and helpful. I have been to quite some places, from roadside ones to five-star hotels, rarely have the service been so heart warmingly good. I hope he goes onto much much greater things in life, because he is absolutely brilliant at his work.\"), ('Rated 4.0', 'RATED\\n  Ambiance - 4/5\\nService - 4/5\\nFood - 4/5\\n\\nGreat pizza, served hot and made to order. They take note of what crusts you want for your pizza and I had the thin crust, so I could eat more, and the crust was made amazing also so was the pizza.\\nThe service is really good and the place is clean also. All in all wonderful place and another great restaurant part of the franchise.'), ('Rated 4.0', 'RATED\\n  Loved the foodie experience here!!!!!! Came here for the name of the week offer and trust me I was disappointed. This whole place has such a good ambience that u l love it instantly.\\nCrazy Bangalore rain and Fresh piping hot pizza and the night is sorted!\\nUnlimited pizzas, a mocktail and did i just hear unlimited desserts?!\\nGoodbye midweek blues!!!?\\n\\nI would specially mention the staff here-Chaitanya,Arup and Binita serving us, they were all so friendly and courteous, never have i had such an experience.\\nWhat really makes your food enjoyable is just not the taste but how the person served you!\\n\\nTop notch guys!!\\nComing back for more-offer or no offer ! ?'), ('Rated 5.0', 'RATED\\n  This roof top outlet of OnestÃ\\x83Ã\\x83Ã\\x82Ã\\x83Ã\\x83Ã\\x82Ã\\x82Ã\\xa0 is one of the amazing places to have the best pizzas in and around Banashankari.\\n\\nNot only the ambience but also the cheerful yet humble service staff catalised my great experience there.\\n\\nMust try: chat pizza, herbed wedges\\n\\n#rajeshwrites'), ('Rated 4.0', 'RATED\\n  This is one of the best restaurants in banglore this is a roof top restaurant with a very good ambiance!\\nThis is a peaceful place where u can seat chat with your friends with very good starters , drinks , and off course pizzas .\\nThey serve these tiny little desserts which look good . Personal favourite was cheese balls and fish fingers .\\nI love the service here itÃ\\x83Ã\\x83Ã\\x82Ã\\x82Ã\\x83Ã\\x82Ã\\x82Ã\\x92s quick even during the offers their service is pretty fast.'), ('Rated 5.0', \"RATED\\n  Food : 4/5\\nService: 10/5\\nSo let's get over the food and the ambience first. Restaurant is big, with high roof, give a sense of space, well lit. Food is great, not mind blowing. We took the unlimited menu, and loved the bacon pizza most. Rest of the pizza was good enough. Among the deserts, the walnut tart was superb, but i didn't like the peanut-butter mousse at all.\\n\\nBut, in spite of all that, the reason for the 5-star rating is the service we got. We were served by Mr.Nanda, who made us feel absolutely special. He didn't have to. We were a small party of just two people, we weren't ordering off the main menu, and the restaurant discourages tips. In spite of all that, he was extremely attentive (without being intrusive), engaging and helpful. I have been to quite some places, from roadside ones to five-star hotels, rarely have the service been so heart warmingly good. I hope he goes onto much much greater things in life, because he is absolutely brilliant at his work.\"), ('Rated 4.0', 'RATED\\n  Ambiance - 4/5\\nService - 4/5\\nFood - 4/5\\n\\nGreat pizza, served hot and made to order. They take note of what crusts you want for your pizza and I had the thin crust, so I could eat more, and the crust was made amazing also so was the pizza.\\nThe service is really good and the place is clean also. All in all wonderful place and another great restaurant part of the franchise.'), ('Rated 4.0', 'RATED\\n  Loved the foodie experience here!!!!!! Came here for the name of the week offer and trust me I was disappointed. This whole place has such a good ambience that u l love it instantly.\\nCrazy Bangalore rain and Fresh piping hot pizza and the night is sorted!\\nUnlimited pizzas, a mocktail and did i just hear unlimited desserts?!\\nGoodbye midweek blues!!!?\\n\\nI would specially mention the staff here-Chaitanya,Arup and Binita serving us, they were all so friendly and courteous, never have i had such an experience.\\nWhat really makes your food enjoyable is just not the taste but how the person served you!\\n\\nTop notch guys!!\\nComing back for more-offer or no offer ! ?'), ('Rated 5.0', 'RATED\\n  This roof top outlet of OnestÃ\\x83Ã\\x83Ã\\x82Ã\\x83Ã\\x83Ã\\x82Ã\\x82Ã\\xa0 is one of the amazing places to have the best pizzas in and around Banashankari.\\n\\nNot only the ambience but also the cheerful yet humble service staff catalised my great experience there.\\n\\nMust try: chat pizza, herbed wedges\\n\\n#rajeshwrites'), ('Rated 4.0', 'RATED\\n  This is one of the best restaurants in banglore this is a roof top restaurant with a very good ambiance!\\nThis is a peaceful place where u can seat chat with your friends with very good starters , drinks , and off course pizzas .\\nThey serve these tiny little desserts which look good . Personal favourite was cheese balls and fish fingers .\\nI love the service here itÃ\\x83Ã\\x83Ã\\x82Ã\\x82Ã\\x83Ã\\x82Ã\\x82Ã\\x92s quick even during the offers their service is pretty fast.'), ('Rated 5.0', \"RATED\\n  Food : 4/5\\nService: 10/5\\nSo let's get over the food and the ambience first. Restaurant is big, with high roof, give a sense of space, well lit. Food is great, not mind blowing. We took the unlimited menu, and loved the bacon pizza most. Rest of the pizza was good enough. Among the deserts, the walnut tart was superb, but i didn't like the peanut-butter mousse at all.\\n\\nBut, in spite of all that, the reason for the 5-star rating is the service we got. We were served by Mr.Nanda, who made us feel absolutely special. He didn't have to. We were a small party of just two people, we weren't ordering off the main menu, and the restaurant discourages tips. In spite of all that, he was extremely attentive (without being intrusive), engaging and helpful. I have been to quite some places, from roadside ones to five-star hotels, rarely have the service been so heart warmingly good. I hope he goes onto much much greater things in life, because he is absolutely brilliant at his work.\"), ('Rated 4.0', 'RATED\\n  Ambiance - 4/5\\nService - 4/5\\nFood - 4/5\\n\\nGreat pizza, served hot and made to order. They take note of what crusts you want for your pizza and I had the thin crust, so I could eat more, and the crust was made amazing also so was the pizza.\\nThe service is really good and the place is clean also. All in all wonderful place and another great restaurant part of the franchise.'), ('Rated 4.0', 'RATED\\n  Loved the foodie experience here!!!!!! Came here for the name of the week offer and trust me I was disappointed. This whole place has such a good ambience that u l love it instantly.\\nCrazy Bangalore rain and Fresh piping hot pizza and the night is sorted!\\nUnlimited pizzas, a mocktail and did i just hear unlimited desserts?!\\nGoodbye midweek blues!!!?\\n\\nI would specially mention the staff here-Chaitanya,Arup and Binita serving us, they were all so friendly and courteous, never have i had such an experience.\\nWhat really makes your food enjoyable is just not the taste but how the person served you!\\n\\nTop notch guys!!\\nComing back for more-offer or no offer ! ?'), ('Rated 5.0', 'RATED\\n  This roof top outlet of OnestÃ\\x83Ã\\x83Ã\\x82Ã\\x83Ã\\x83Ã\\x82Ã\\x82Ã\\xa0 is one of the amazing places to have the best pizzas in and around Banashankari.\\n\\nNot only the ambience but also the cheerful yet humble service staff catalised my great experience there.\\n\\nMust try: chat pizza, herbed wedges\\n\\n#rajeshwrites'), ('Rated 4.0', 'RATED\\n  This is one of the best restaurants in banglore this is a roof top restaurant with a very good ambiance!\\nThis is a peaceful place where u can seat chat with your friends with very good starters , drinks , and off course pizzas .\\nThey serve these tiny little desserts which look good . Personal favourite was cheese balls and fish fingers .\\nI love the service here itÃ\\x83Ã\\x83Ã\\x82Ã\\x82Ã\\x83Ã\\x82Ã\\x82Ã\\x92s quick even during the offers their service is pretty fast.'), ('Rated 5.0', \"RATED\\n  Food : 4/5\\nService: 10/5\\nSo let's get over the food and the ambience first. Restaurant is big, with high roof, give a sense of space, well lit. Food is great, not mind blowing. We took the unlimited menu, and loved the bacon pizza most. Rest of the pizza was good enough. Among the deserts, the walnut tart was superb, but i didn't like the peanut-butter mousse at all.\\n\\nBut, in spite of all that, the reason for the 5-star rating is the service we got. We were served by Mr.Nanda, who made us feel absolutely special. He didn't have to. We were a small party of just two people, we weren't ordering off the main menu, and the restaurant discourages tips. In spite of all that, he was extremely attentive (without being intrusive), engaging and helpful. I have been to quite some places, from roadside ones to five-star hotels, rarely have the service been so heart warmingly good. I hope he goes onto much much greater things in life, because he is absolutely brilliant at his work.\"), ('Rated 4.0', 'RATED\\n  Ambiance - 4/5\\nService - 4/5\\nFood - 4/5\\n\\nGreat pizza, served hot and made to order. They take note of what crusts you want for your pizza and I had the thin crust, so I could eat more, and the crust was made amazing also so was the pizza.\\nThe service is really good and the place is clean also. All in all wonderful place and another great restaurant part of the franchise.'), ('Rated 4.0', 'RATED\\n  Loved the foodie experience here!!!!!! Came here for the name of the week offer and trust me I was disappointed. This whole place has such a good ambience that u l love it instantly.\\nCrazy Bangalore rain and Fresh piping hot pizza and the night is sorted!\\nUnlimited pizzas, a mocktail and did i just hear unlimited desserts?!\\nGoodbye midweek blues!!!?\\n\\nI would specially mention the staff here-Chaitanya,Arup and Binita serving us, they were all so friendly and courteous, never have i had such an experience.\\nWhat really makes your food enjoyable is just not the taste but how the person served you!\\n\\nTop notch guys!!\\nComing back for more-offer or no offer ! ?'), ('Rated 5.0', 'RATED\\n  This roof top outlet of OnestÃ\\x83Ã\\x83Ã\\x82Ã\\x83Ã\\x83Ã\\x82Ã\\x82Ã\\xa0 is one of the amazing places to have the best pizzas in and around Banashankari.\\n\\nNot only the ambience but also the cheerful yet humble service staff catalised my great experience there.\\n\\nMust try: chat pizza, herbed wedges\\n\\n#rajeshwrites'), ('Rated 4.0', 'RATED\\n  This is one of the best restaurants in banglore this is a roof top restaurant with a very good ambiance!\\nThis is a peaceful place where u can seat chat with your friends with very good starters , drinks , and off course pizzas .\\nThey serve these tiny little desserts which look good . Personal favourite was cheese balls and fish fingers .\\nI love the service here itÃ\\x83Ã\\x83Ã\\x82Ã\\x82Ã\\x83Ã\\x82Ã\\x82Ã\\x92s quick even during the offers their service is pretty fast.'), ('Rated 5.0', \"RATED\\n  Food : 4/5\\nService: 10/5\\nSo let's get over the food and the ambience first. Restaurant is big, with high roof, give a sense of space, well lit. Food is great, not mind blowing. We took the unlimited menu, and loved the bacon pizza most. Rest of the pizza was good enough. Among the deserts, the walnut tart was superb, but i didn't like the peanut-butter mousse at all.\\n\\nBut, in spite of all that, the reason for the 5-star rating is the service we got. We were served by Mr.Nanda, who made us feel absolutely special. He didn't have to. We were a small party of just two people, we weren't ordering off the main menu, and the restaurant discourages tips. In spite of all that, he was extremely attentive (without being intrusive), engaging and helpful. I have been to quite some places, from roadside ones to five-star hotels, rarely have the service been so heart warmingly good. I hope he goes onto much much greater things in life, because he is absolutely brilliant at his work.\"), ('Rated 4.0', 'RATED\\n  Ambiance - 4/5\\nService - 4/5\\nFood - 4/5\\n\\nGreat pizza, served hot and made to order. They take note of what crusts you want for your pizza and I had the thin crust, so I could eat more, and the crust was made amazing also so was the pizza.\\nThe service is really good and the place is clean also. All in all wonderful place and another great restaurant part of the franchise.'), ('Rated 4.0', 'RATED\\n  Loved the foodie experience here!!!!!! Came here for the name of the week offer and trust me I was disappointed. This whole place has such a good ambience that u l love it instantly.\\nCrazy Bangalore rain and Fresh piping hot pizza and the night is sorted!\\nUnlimited pizzas, a mocktail and did i just hear unlimited desserts?!\\nGoodbye midweek blues!!!?\\n\\nI would specially mention the staff here-Chaitanya,Arup and Binita serving us, they were all so friendly and courteous, never have i had such an experience.\\nWhat really makes your food enjoyable is just not the taste but how the person served you!\\n\\nTop notch guys!!\\nComing back for more-offer or no offer ! ?'), ('Rated 5.0', 'RATED\\n  This roof top outlet of OnestÃ\\x83Ã\\x83Ã\\x82Ã\\x83Ã\\x83Ã\\x82Ã\\x82Ã\\xa0 is one of the amazing places to have the best pizzas in and around Banashankari.\\n\\nNot only the ambience but also the cheerful yet humble service staff catalised my great experience there.\\n\\nMust try: chat pizza, herbed wedges\\n\\n#rajeshwrites'), ('Rated 4.0', 'RATED\\n  This is one of the best restaurants in banglore this is a roof top restaurant with a very good ambiance!\\nThis is a peaceful place where u can seat chat with your friends with very good starters , drinks , and off course pizzas .\\nThey serve these tiny little desserts which look good . Personal favourite was cheese balls and fish fingers .\\nI love the service here itÃ\\x83Ã\\x83Ã\\x82Ã\\x82Ã\\x83Ã\\x82Ã\\x82Ã\\x92s quick even during the offers their service is pretty fast.'), ('Rated 5.0', \"RATED\\n  Food : 4/5\\nService: 10/5\\nSo let's get over the food and the ambience first. Restaurant is big, with high roof, give a sense of space, well lit. Food is great, not mind blowing. We took the unlimited menu, and loved the bacon pizza most. Rest of the pizza was good enough. Among the deserts, the walnut tart was superb, but i didn't like the peanut-butter mousse at all.\\n\\nBut, in spite of all that, the reason for the 5-star rating is the service we got. We were served by Mr.Nanda, who made us feel absolutely special. He didn't have to. We were a small party of just two people, we weren't ordering off the main menu, and the restaurant discourages tips. In spite of all that, he was extremely attentive (without being intrusive), engaging and helpful. I have been to quite some places, from roadside ones to five-star hotels, rarely have the service been so heart warmingly good. I hope he goes onto much much greater things in life, because he is absolutely brilliant at his work.\"), ('Rated 4.0', 'RATED\\n  Ambiance - 4/5\\nService - 4/5\\nFood - 4/5\\n\\nGreat pizza, served hot and made to order. They take note of what crusts you want for your pizza and I had the thin crust, so I could eat more, and the crust was made amazing also so was the pizza.\\nThe service is really good and the place is clean also. All in all wonderful place and another great restaurant part of the franchise.'), ('Rated 4.0', 'RATED\\n  Loved the foodie experience here!!!!!! Came here for the name of the week offer and trust me I was disappointed. This whole place has such a good ambience that u l love it instantly.\\nCrazy Bangalore rain and Fresh piping hot pizza and the night is sorted!\\nUnlimited pizzas, a mocktail and did i just hear unlimited desserts?!\\nGoodbye midweek blues!!!?\\n\\nI would specially mention the staff here-Chaitanya,Arup and Binita serving us, they were all so friendly and courteous, never have i had such an experience.\\nWhat really makes your food enjoyable is just not the taste but how the person served you!\\n\\nTop notch guys!!\\nComing back for more-offer or no offer ! ?'), ('Rated 5.0', 'RATED\\n  This roof top outlet of OnestÃ\\x83Ã\\x83Ã\\x82Ã\\x83Ã\\x83Ã\\x82Ã\\x82Ã\\xa0 is one of the amazing places to have the best pizzas in and around Banashankari.\\n\\nNot only the ambience but also the cheerful yet humble service staff catalised my great experience there.\\n\\nMust try: chat pizza, herbed wedges\\n\\n#rajeshwrites'), ('Rated 4.0', 'RATED\\n  This is one of the best restaurants in banglore this is a roof top restaurant with a very good ambiance!\\nThis is a peaceful place where u can seat chat with your friends with very good starters , drinks , and off course pizzas .\\nThey serve these tiny little desserts which look good . Personal favourite was cheese balls and fish fingers .\\nI love the service here itÃ\\x83Ã\\x83Ã\\x82Ã\\x82Ã\\x83Ã\\x82Ã\\x82Ã\\x92s quick even during the offers their service is pretty fast.'), ('Rated 5.0', \"RATED\\n  Food : 4/5\\nService: 10/5\\nSo let's get over the food and the ambience first. Restaurant is big, with high roof, give a sense of space, well lit. Food is great, not mind blowing. We took the unlimited menu, and loved the bacon pizza most. Rest of the pizza was good enough. Among the deserts, the walnut tart was superb, but i didn't like the peanut-butter mousse at all.\\n\\nBut, in spite of all that, the reason for the 5-star rating is the service we got. We were served by Mr.Nanda, who made us feel absolutely special. He didn't have to. We were a small party of just two people, we weren't ordering off the main menu, and the restaurant discourages tips. In spite of all that, he was extremely attentive (without being intrusive), engaging and helpful. I have been to quite some places, from roadside ones to five-star hotels, rarely have the service been so heart warmingly good. I hope he goes onto much much greater things in life, because he is absolutely brilliant at his work.\"), ('Rated 4.0', 'RATED\\n  Ambiance - 4/5\\nService - 4/5\\nFood - 4/5\\n\\nGreat pizza, served hot and made to order. They take note of what crusts you want for your pizza and I had the thin crust, so I could eat more, and the crust was made amazing also so was the pizza.\\nThe service is really good and the place is clean also. All in all wonderful place and another great restaurant part of the franchise.'), ('Rated 4.0', 'RATED\\n  Loved the foodie experience here!!!!!! Came here for the name of the week offer and trust me I was disappointed. This whole place has such a good ambience that u l love it instantly.\\nCrazy Bangalore rain and Fresh piping hot pizza and the night is sorted!\\nUnlimited pizzas, a mocktail and did i just hear unlimited desserts?!\\nGoodbye midweek blues!!!?\\n\\nI would specially mention the staff here-Chaitanya,Arup and Binita serving us, they were all so friendly and courteous, never have i had such an experience.\\nWhat really makes your food enjoyable is just not the taste but how the person served you!\\n\\nTop notch guys!!\\nComing back for more-offer or no offer ! ?'), ('Rated 5.0', 'RATED\\n  This roof top outlet of OnestÃ\\x83Ã\\x83Ã\\x82Ã\\x83Ã\\x83Ã\\x82Ã\\x82Ã\\xa0 is one of the amazing places to have the best pizzas in and around Banashankari.\\n\\nNot only the ambience but also the cheerful yet humble service staff catalised my great experience there.\\n\\nMust try: chat pizza, herbed wedges\\n\\n#rajeshwrites'), ('Rated 4.0', 'RATED\\n  This is one of the best restaurants in banglore this is a roof top restaurant with a very good ambiance!\\nThis is a peaceful place where u can seat chat with your friends with very good starters , drinks , and off course pizzas .\\nThey serve these tiny little desserts which look good . Personal favourite was cheese balls and fish fingers .\\nI love the service here itÃ\\x83Ã\\x83Ã\\x82Ã\\x82Ã\\x83Ã\\x82Ã\\x82Ã\\x92s quick even during the offers their service is pretty fast.'), ('Rated 5.0', \"RATED\\n  Food : 4/5\\nService: 10/5\\nSo let's get over the food and the ambience first. Restaurant is big, with high roof, give a sense of space, well lit. Food is great, not mind blowing. We took the unlimited menu, and loved the bacon pizza most. Rest of the pizza was good enough. Among the deserts, the walnut tart was superb, but i didn't like the peanut-butter mousse at all.\\n\\nBut, in spite of all that, the reason for the 5-star rating is the service we got. We were served by Mr.Nanda, who made us feel absolutely special. He didn't have to. We were a small party of just two people, we weren't ordering off the main menu, and the restaurant discourages tips. In spite of all that, he was extremely attentive (without being intrusive), engaging and helpful. I have been to quite some places, from roadside ones to five-star hotels, rarely have the service been so heart warmingly good. I hope he goes onto much much greater things in life, because he is absolutely brilliant at his work.\"), ('Rated 4.0', 'RATED\\n  Ambiance - 4/5\\nService - 4/5\\nFood - 4/5\\n\\nGreat pizza, served hot and made to order. They take note of what crusts you want for your pizza and I had the thin crust, so I could eat more, and the crust was made amazing also so was the pizza.\\nThe service is really good and the place is clean also. All in all wonderful place and another great restaurant part of the franchise.'), ('Rated 4.0', 'RATED\\n  Loved the foodie experience here!!!!!! Came here for the name of the week offer and trust me I was disappointed. This whole place has such a good ambience that u l love it instantly.\\nCrazy Bangalore rain and Fresh piping hot pizza and the night is sorted!\\nUnlimited pizzas, a mocktail and did i just hear unlimited desserts?!\\nGoodbye midweek blues!!!?\\n\\nI would specially mention the staff here-Chaitanya,Arup and Binita serving us, they were all so friendly and courteous, never have i had such an experience.\\nWhat really makes your food enjoyable is just not the taste but how the person served you!\\n\\nTop notch guys!!\\nComing back for more-offer or no offer ! ?'), ('Rated 5.0', 'RATED\\n  This roof top outlet of OnestÃ\\x83Ã\\x83Ã\\x82Ã\\x83Ã\\x83Ã\\x82Ã\\x82Ã\\xa0 is one of the amazing places to have the best pizzas in and around Banashankari.\\n\\nNot only the ambience but also the cheerful yet humble service staff catalised my great experience there.\\n\\nMust try: chat pizza, herbed wedges\\n\\n#rajeshwrites'), ('Rated 4.0', 'RATED\\n  This is one of the best restaurants in banglore this is a roof top restaurant with a very good ambiance!\\nThis is a peaceful place where u can seat chat with your friends with very good starters , drinks , and off course pizzas .\\nThey serve these tiny little desserts which look good . Personal favourite was cheese balls and fish fingers .\\nI love the service here itÃ\\x83Ã\\x83Ã\\x82Ã\\x82Ã\\x83Ã\\x82Ã\\x82Ã\\x92s quick even during the offers their service is pretty fast.'), ('Rated 5.0', \"RATED\\n  Food : 4/5\\nService: 10/5\\nSo let's get over the food and the ambience first. Restaurant is big, with high roof, give a sense of space, well lit. Food is great, not mind blowing. We took the unlimited menu, and loved the bacon pizza most. Rest of the pizza was good enough. Among the deserts, the walnut tart was superb, but i didn't like the peanut-butter mousse at all.\\n\\nBut, in spite of all that, the reason for the 5-star rating is the service we got. We were served by Mr.Nanda, who made us feel absolutely special. He didn't have to. We were a small party of just two people, we weren't ordering off the main menu, and the restaurant discourages tips. In spite of all that, he was extremely attentive (without being intrusive), engaging and helpful. I have been to quite some places, from roadside ones to five-star hotels, rarely have the service been so heart warmingly good. I hope he goes onto much much greater things in life, because he is absolutely brilliant at his work.\"), ('Rated 4.0', 'RATED\\n  Ambiance - 4/5\\nService - 4/5\\nFood - 4/5\\n\\nGreat pizza, served hot and made to order. They take note of what crusts you want for your pizza and I had the thin crust, so I could eat more, and the crust was made amazing also so was the pizza.\\nThe service is really good and the place is clean also. All in all wonderful place and another great restaurant part of the franchise.'), ('Rated 4.0', 'RATED\\n  Loved the foodie experience here!!!!!! Came here for the name of the week offer and trust me I was disappointed. This whole place has such a good ambience that u l love it instantly.\\nCrazy Bangalore rain and Fresh piping hot pizza and the night is sorted!\\nUnlimited pizzas, a mocktail and did i just hear unlimited desserts?!\\nGoodbye midweek blues!!!?\\n\\nI would specially mention the staff here-Chaitanya,Arup and Binita serving us, they were all so friendly and courteous, never have i had such an experience.\\nWhat really makes your food enjoyable is just not the taste but how the person served you!\\n\\nTop notch guys!!\\nComing back for more-offer or no offer ! ?'), ('Rated 5.0', 'RATED\\n  This roof top outlet of OnestÃ\\x83Ã\\x83Ã\\x82Ã\\x83Ã\\x83Ã\\x82Ã\\x82Ã\\xa0 is one of the amazing places to have the best pizzas in and around Banashankari.\\n\\nNot only the ambience but also the cheerful yet humble service staff catalised my great experience there.\\n\\nMust try: chat pizza, herbed wedges\\n\\n#rajeshwrites'), ('Rated 4.0', 'RATED\\n  This is one of the best restaurants in banglore this is a roof top restaurant with a very good ambiance!\\nThis is a peaceful place where u can seat chat with your friends with very good starters , drinks , and off course pizzas .\\nThey serve these tiny little desserts which look good . Personal favourite was cheese balls and fish fingers .\\nI love the service here itÃ\\x83Ã\\x83Ã\\x82Ã\\x82Ã\\x83Ã\\x82Ã\\x82Ã\\x92s quick even during the offers their service is pretty fast.'), ('Rated 5.0', \"RATED\\n  Food : 4/5\\nService: 10/5\\nSo let's get over the food and the ambience first. Restaurant is big, with high roof, give a sense of space, well lit. Food is great, not mind blowing. We took the unlimited menu, and loved the bacon pizza most. Rest of the pizza was good enough. Among the deserts, the walnut tart was superb, but i didn't like the peanut-butter mousse at all.\\n\\nBut, in spite of all that, the reason for the 5-star rating is the service we got. We were served by Mr.Nanda, who made us feel absolutely special. He didn't have to. We were a small party of just two people, we weren't ordering off the main menu, and the restaurant discourages tips. In spite of all that, he was extremely attentive (without being intrusive), engaging and helpful. I have been to quite some places, from roadside ones to five-star hotels, rarely have the service been so heart warmingly good. I hope he goes onto much much greater things in life, because he is absolutely brilliant at his work.\"), ('Rated 4.0', 'RATED\\n  Ambiance - 4/5\\nService - 4/5\\nFood - 4/5\\n\\nGreat pizza, served hot and made to order. They take note of what crusts you want for your pizza and I had the thin crust, so I could eat more, and the crust was made amazing also so was the pizza.\\nThe service is really good and the place is clean also. All in all wonderful place and another great restaurant part of the franchise.'), ('Rated 4.0', 'RATED\\n  Loved the foodie experience here!!!!!! Came here for the name of the week offer and trust me I was disappointed. This whole place has such a good ambience that u l love it instantly.\\nCrazy Bangalore rain and Fresh piping hot pizza and the night is sorted!\\nUnlimited pizzas, a mocktail and did i just hear unlimited desserts?!\\nGoodbye midweek blues!!!?\\n\\nI would specially mention the staff here-Chaitanya,Arup and Binita serving us, they were all so friendly and courteous, never have i had such an experience.\\nWhat really makes your food enjoyable is just not the taste but how the person served you!\\n\\nTop notch guys!!\\nComing back for more-offer or no offer ! ?'), ('Rated 5.0', 'RATED\\n  This roof top outlet of OnestÃ\\x83Ã\\x83Ã\\x82Ã\\x83Ã\\x83Ã\\x82Ã\\x82Ã\\xa0 is one of the amazing places to have the best pizzas in and around Banashankari.\\n\\nNot only the ambience but also the cheerful yet humble service staff catalised my great experience there.\\n\\nMust try: chat pizza, herbed wedges\\n\\n#rajeshwrites'), ('Rated 4.0', 'RATED\\n  This is one of the best restaurants in banglore this is a roof top restaurant with a very good ambiance!\\nThis is a peaceful place where u can seat chat with your friends with very good starters , drinks , and off course pizzas .\\nThey serve these tiny little desserts which look good . Personal favourite was cheese balls and fish fingers .\\nI love the service here itÃ\\x83Ã\\x83Ã\\x82Ã\\x82Ã\\x83Ã\\x82Ã\\x82Ã\\x92s quick even during the offers their service is pretty fast.'), ('Rated 5.0', \"RATED\\n  Food : 4/5\\nService: 10/5\\nSo let's get over the food and the ambience first. Restaurant is big, with high roof, give a sense of space, well lit. Food is great, not mind blowing. We took the unlimited menu, and loved the bacon pizza most. Rest of the pizza was good enough. Among the deserts, the walnut tart was superb, but i didn't like the peanut-butter mousse at all.\\n\\nBut, in spite of all that, the reason for the 5-star rating is the service we got. We were served by Mr.Nanda, who made us feel absolutely special. He didn't have to. We were a small party of just two people, we weren't ordering off the main menu, and the restaurant discourages tips. In spite of all that, he was extremely attentive (without being intrusive), engaging and helpful. I have been to quite some places, from roadside ones to five-star hotels, rarely have the service been so heart warmingly good. I hope he goes onto much much greater things in life, because he is absolutely brilliant at his work.\"), ('Rated 4.0', 'RATED\\n  Ambiance - 4/5\\nService - 4/5\\nFood - 4/5\\n\\nGreat pizza, served hot and made to order. They take note of what crusts you want for your pizza and I had the thin crust, so I could eat more, and the crust was made amazing also so was the pizza.\\nThe service is really good and the place is clean also. All in all wonderful place and another great restaurant part of the franchise.'), ('Rated 4.0', 'RATED\\n  Loved the foodie experience here!!!!!! Came here for the name of the week offer and trust me I was disappointed. This whole place has such a good ambience that u l love it instantly.\\nCrazy Bangalore rain and Fresh piping hot pizza and the night is sorted!\\nUnlimited pizzas, a mocktail and did i just hear unlimited desserts?!\\nGoodbye midweek blues!!!?\\n\\nI would specially mention the staff here-Chaitanya,Arup and Binita serving us, they were all so friendly and courteous, never have i had such an experience.\\nWhat really makes your food enjoyable is just not the taste but how the person served you!\\n\\nTop notch guys!!\\nComing back for more-offer or no offer ! ?'), ('Rated 5.0', 'RATED\\n  This roof top outlet of OnestÃ\\x83Ã\\x83Ã\\x82Ã\\x83Ã\\x83Ã\\x82Ã\\x82Ã\\xa0 is one of the amazing places to have the best pizzas in and around Banashankari.\\n\\nNot only the ambience but also the cheerful yet humble service staff catalised my great experience there.\\n\\nMust try: chat pizza, herbed wedges\\n\\n#rajeshwrites'), ('Rated 4.0', 'RATED\\n  This is one of the best restaurants in banglore this is a roof top restaurant with a very good ambiance!\\nThis is a peaceful place where u can seat chat with your friends with very good starters , drinks , and off course pizzas .\\nThey serve these tiny little desserts which look good . Personal favourite was cheese balls and fish fingers .\\nI love the service here itÃ\\x83Ã\\x83Ã\\x82Ã\\x82Ã\\x83Ã\\x82Ã\\x82Ã\\x92s quick even during the offers their service is pretty fast.'), ('Rated 5.0', \"RATED\\n  Food : 4/5\\nService: 10/5\\nSo let's get over the food and the ambience first. Restaurant is big, with high roof, give a sense of space, well lit. Food is great, not mind blowing. We took the unlimited menu, and loved the bacon pizza most. Rest of the pizza was good enough. Among the deserts, the walnut tart was superb, but i didn't like the peanut-butter mousse at all.\\n\\nBut, in spite of all that, the reason for the 5-star rating is the service we got. We were served by Mr.Nanda, who made us feel absolutely special. He didn't have to. We were a small party of just two people, we weren't ordering off the main menu, and the restaurant discourages tips. In spite of all that, he was extremely attentive (without being intrusive), engaging and helpful. I have been to quite some places, from roadside ones to five-star hotels, rarely have the service been so heart warmingly good. I hope he goes onto much much greater things in life, because he is absolutely brilliant at his work.\"), ('Rated 4.0', 'RATED\\n  Ambiance - 4/5\\nService - 4/5\\nFood - 4/5\\n\\nGreat pizza, served hot and made to order. They take note of what crusts you want for your pizza and I had the thin crust, so I could eat more, and the crust was made amazing also so was the pizza.\\nThe service is really good and the place is clean also. All in all wonderful place and another great restaurant part of the franchise.'), ('Rated 4.0', 'RATED\\n  Loved the foodie experience here!!!!!! Came here for the name of the week offer and trust me I was disappointed. This whole place has such a good ambience that u l love it instantly.\\nCrazy Bangalore rain and Fresh piping hot pizza and the night is sorted!\\nUnlimited pizzas, a mocktail and did i just hear unlimited desserts?!\\nGoodbye midweek blues!!!?\\n\\nI would specially mention the staff here-Chaitanya,Arup and Binita serving us, they were all so friendly and courteous, never have i had such an experience.\\nWhat really makes your food enjoyable is just not the taste but how the person served you!\\n\\nTop notch guys!!\\nComing back for more-offer or no offer ! ?'), ('Rated 5.0', 'RATED\\n  The best buffet with unbelievably awesome service, a great ambience and the best food.\\nThe desserts and drinks are up to the mark too and its reasonably priced too.'), ('Rated 4.0', 'RATED\\n  Food quality 4.5/5\\nHospitality 4/5\\nManagement response 4.5/5\\nCleanliness 4.5/5\\n\\nOrdered\\n1) Assorted Bruschetta - It included Tomato Delight, Herbed Mushroom and Broccoli and cheese Bruschetta.\\n\\n2) Mexican Veg Delight pizza - It was topped with some Bell peppers, onion and some Cherry Tomato.\\n\\n3) Farmhouse Special- Topped with Baby corn, Bell pepper and mushroom\\n\\n4)Virgin Mojitos - Mint, Lime and sprit were main ingredients.\\n5) Kiwi & Basil Fizz - Kiwi syrup, Basil leaves and sprit.\\n\\n6)Caramel Walnut Tart\\n7) Chilli chocolate tart\\n8) Baked Cherry Cheesecake\\n9)Penne Al Pesto'), ('Rated 4.0', 'RATED\\n  Taste of the food is good and the ambience as well. They need to reduce the price or increase the quality and quantity. There need to be also more options or items of food. They have maintained a very hygiene food and kitchen which is very appreciative.'), ('Rated 5.0', 'RATED\\n  The best buffet with unbelievably awesome service, a great ambience and the best food.\\nThe desserts and drinks are up to the mark too and its reasonably priced too.'), ('Rated 4.0', 'RATED\\n  Food quality 4.5/5\\nHospitality 4/5\\nManagement response 4.5/5\\nCleanliness 4.5/5\\n\\nOrdered\\n1) Assorted Bruschetta - It included Tomato Delight, Herbed Mushroom and Broccoli and cheese Bruschetta.\\n\\n2) Mexican Veg Delight pizza - It was topped with some Bell peppers, onion and some Cherry Tomato.\\n\\n3) Farmhouse Special- Topped with Baby corn, Bell pepper and mushroom\\n\\n4)Virgin Mojitos - Mint, Lime and sprit were main ingredients.\\n5) Kiwi & Basil Fizz - Kiwi syrup, Basil leaves and sprit.\\n\\n6)Caramel Walnut Tart\\n7) Chilli chocolate tart\\n8) Baked Cherry Cheesecake\\n9)Penne Al Pesto'), ('Rated 4.0', 'RATED\\n  Taste of the food is good and the ambience as well. They need to reduce the price or increase the quality and quantity. There need to be also more options or items of food. They have maintained a very hygiene food and kitchen which is very appreciative.'), ('Rated 5.0', 'RATED\\n  The best buffet with unbelievably awesome service, a great ambience and the best food.\\nThe desserts and drinks are up to the mark too and its reasonably priced too.'), ('Rated 4.0', 'RATED\\n  Food quality 4.5/5\\nHospitality 4/5\\nManagement response 4.5/5\\nCleanliness 4.5/5\\n\\nOrdered\\n1) Assorted Bruschetta - It included Tomato Delight, Herbed Mushroom and Broccoli and cheese Bruschetta.\\n\\n2) Mexican Veg Delight pizza - It was topped with some Bell peppers, onion and some Cherry Tomato.\\n\\n3) Farmhouse Special- Topped with Baby corn, Bell pepper and mushroom\\n\\n4)Virgin Mojitos - Mint, Lime and sprit were main ingredients.\\n5) Kiwi & Basil Fizz - Kiwi syrup, Basil leaves and sprit.\\n\\n6)Caramel Walnut Tart\\n7) Chilli chocolate tart\\n8) Baked Cherry Cheesecake\\n9)Penne Al Pesto'), ('Rated 4.0', 'RATED\\n  Taste of the food is good and the ambience as well. They need to reduce the price or increase the quality and quantity. There need to be also more options or items of food. They have maintained a very hygiene food and kitchen which is very appreciative.'), ('Rated 5.0', 'RATED\\n  The best buffet with unbelievably awesome service, a great ambience and the best food.\\nThe desserts and drinks are up to the mark too and its reasonably priced too.'), ('Rated 4.0', 'RATED\\n  Food quality 4.5/5\\nHospitality 4/5\\nManagement response 4.5/5\\nCleanliness 4.5/5\\n\\nOrdered\\n1) Assorted Bruschetta - It included Tomato Delight, Herbed Mushroom and Broccoli and cheese Bruschetta.\\n\\n2) Mexican Veg Delight pizza - It was topped with some Bell peppers, onion and some Cherry Tomato.\\n\\n3) Farmhouse Special- Topped with Baby corn, Bell pepper and mushroom\\n\\n4)Virgin Mojitos - Mint, Lime and sprit were main ingredients.\\n5) Kiwi & Basil Fizz - Kiwi syrup, Basil leaves and sprit.\\n\\n6)Caramel Walnut Tart\\n7) Chilli chocolate tart\\n8) Baked Cherry Cheesecake\\n9)Penne Al Pesto'), ('Rated 4.0', 'RATED\\n  Taste of the food is good and the ambience as well. They need to reduce the price or increase the quality and quantity. There need to be also more options or items of food. They have maintained a very hygiene food and kitchen which is very appreciative.'), ('Rated 5.0', 'RATED\\n  Visited last Saturday with my kids ,\\nIt was superb crowd .very good ser\\nvice and food ...kids loved the pasta ,pizzas and drinks ...\\nKeep it continue onesta team ...'), ('Rated 3.0', 'RATED\\n  I love onesta always and their unlimited offers. I had a really good experience in JP nagar but this outlet slightly disappointed me. You guys took a lot of time for our orders and food was okayish too. Hope you guys work on that.'), ('Rated 3.0', \"RATED\\n  This outlet of onesta is on the rooftop. It's has a nice chill ambience. Though the size of the pizzas are kinda small the ones with cream taste good. They ran out of desserts by 9pm which was pretty disappointing. The service was okay but can be improved.\")]",
         "[]",
         "Delivery",
         "Banashankari"
        ],
        [
         "45",
         "https://www.zomato.com/bangalore/hotboxit-banashankari?context=eyJzZSI6eyJlIjpbIjE4MzA3ODA2IiwiNTg2MzYiLCI1MzYwMSIsIjE4NTY1Njc5IiwxODU1OTg5NywiMTg2OTcyMTEiLCI1MjI1NSIsIjUxMzQ4IiwiMTgzNzEyNzIiLCIxODc4MjIwOSIsIjE4Nzg3ODgzIiwiMTgwODk2ODIiLCIxODUyMTkxMiIsIjU2MDk4IiwiMTgwODk2OTMiXSwidCI6IkRlbGl2ZXJ5IFJlc3RhdXJhbnRzIGluIEJhbmFzaGFua2FyaSJ9fQ==",
         "2nd Stage, Banashankari, Bangalore",
         "Hotboxit",
         "No",
         "No",
         "3.8/5",
         "36",
         "+91 7026677677\r\n+91 7026577577",
         "Banashankari",
         "Delivery",
         "Prompt Service",
         "North Indian, Continental, Italian",
         "400",
         "[('Rated 2.0', 'RATED\\n  late delivery'), ('Rated 2.5', 'RATED\\n  Have ordered from here at night 2:00.The person who took order was friendly even at that time.But the chicken there was not halal.It is really important for any Muslim.The only veg options available were veg fried rice and Schezwan fried rice.We had to order it since we had no other option. But the food was not good.It was half cooked and very plain'), ('Rated 5.0', \"RATED\\n  I was craving for some good food Midnight..And then this place was the real best idea hit my mind suggested by my very best Friend\\nSo really hot & spicy?? tats what a chicken biryani and chilli chicken should be (Recommended)\\nThen Gulab jamun(Must order) a Perfect satisfaction with the Great meal Enjoyed a lot\\nService - Very Quick\\nFood taste - excellent\\nPacking -wow I wish I could open real fast just can't wait seeing those yumms?\\nHeavy peace???\"), ('Rated 5.0', 'RATED\\n  Nice timely delivery and awesome taste. The chicken kebab, pepper chicken and chilly chicken were great!!! Great place to try if you need to satisfy your late night hungry stomach!!!!'), ('Rated 3.0', 'RATED\\n  that was spicy'), ('Rated 2.0', 'RATED\\n  poor taste . not worthy'), ('Rated 3.0', 'RATED\\n  The milkshake was good but it wasnÃ\\x83Ã\\x83Ã\\x82Ã\\x82Ã\\x83Ã\\x82Ã\\x82Ã\\x92t chilled enough. Fast service!'), ('Rated 5.0', 'RATED\\n  nice'), ('Rated 5.0', 'RATED\\n  Absolutely loved the chilly chicken and pepper chicken.\\nBest place to order food late night.\\n\\nThey provide vegetarian options as well.\\n\\nThe combo option is a great value for money'), ('Rated 1.0', 'RATED\\n  Didnt deliver food after making us wait for 2hrs..... and later didnt even pick the call...... Worst service ... Expected much better from u guys'), ('Rated 5.0', 'RATED\\n  Delicious food and super fast delivery. I ordered panner chilli , chicken biriyani and an Oreo milkshake . Panner chilli was extremely good and the milkshake was damn nice too. They were packed in nice containers and was worth every penny .'), ('Rated 5.0', 'RATED\\n  Delicious food. Chilly chicken is one of my favourite on the menu. Variety of milkshakes which are all amazing. One of the good things is that they deliver at midnight when food is nowhere available.'), ('Rated 5.0', 'RATED\\n  Perfect for late night delivery with quick service!\\nMilkshakes be the best with their spicy food menu,\\nOrdered a few times and its worth the pay for their fresh and hot food!\\n# NO MORE MIDNIGHT HUNGER'), ('Rated 5.0', 'RATED\\n  The food was absolutely wonderful, from preparation to delivery, very pleasing. Extra points for chilli chicken and kebab ?\\nAnd the hazelnut milkshake was just perfect??'), ('Rated 5.0', 'RATED\\n  The best and quality food you can ever get and the cherry on the cake is that they deliver faster and right when you need it the most- midnight ? best packaging too!!'), ('Rated 5.0', \"RATED\\n  Chilly chicken chilly chicken chilly chicken.\\nI just wish I could take in more last night. Such hard work behind every dish they make. Passionate people who serve you the best. They are no odd hours for food anymore and HotBoxIt proved that to me. The chilly chicken beats all expectations and after that you got to try out their Oreo crush. The biryani's are so good that you wouldn't leave a grain behind. To top it all getting gulab jamoons post midnight is like a privilege. HotBoxIt is must try try try again again and again kinda place so don't miss it out.\\nKeep them hots coming :)\\n\\nPS: Microwaveable containers, neat packaging with red/green taped meal and free delivery.\"), ('Rated 5.0', 'RATED\\n  Excellent food quality and on time service. I would recommend everyone in banshankari and surrounding location to give it a try and you would love it.'), ('Rated 5.0', 'RATED\\n  From quick deliveries to amazing food, at a time when nothing is available, this place takes care of all your midnight cravings. Must orders are their pepper chicken, chilly chicken and milkshakes. Had an amazing experience.'), ('Rated 5.0', 'RATED\\n  My craving for every type of food when the sun goes down! From the yummy chilly chicken to the lip smacking biryani and for my sweet tooth the very perfect shakes! And oh yes the pasta? Only place I love to eat it! And yes their delivery is in a jiffy!'), ('Rated 5.0', 'RATED\\n  Best food you can get at that time! Must try : oreo shake, chilly chicken , chicken biryani , pasta arabiata! Been a regular since its opening!'), ('Rated 5.0', \"RATED\\n  Chilly chicken chilly chicken chilly chicken.\\nI just wish I could take in more last night. Such hard work behind every dish they make. Passionate people who serve you the best. They are no odd hours for food anymore and HotBoxIt proved that to me. The chilly chicken beats all expectations and after that you got to try out their Oreo crush. The biryani's are so good that you wouldn't leave a grain behind. To top it all getting gulab jamoons post midnight is like a privilege. HotBoxIt is must try try try again again and again kinda place so don't miss it out.\\nKeep them hots coming :)\\n\\nPS: Microwaveable containers, neat packaging with red/green taped meal and free delivery.\"), ('Rated 5.0', 'RATED\\n  Excellent food quality and on time service. I would recommend everyone in banshankari and surrounding location to give it a try and you would love it.'), ('Rated 5.0', 'RATED\\n  From quick deliveries to amazing food, at a time when nothing is available, this place takes care of all your midnight cravings. Must orders are their pepper chicken, chilly chicken and milkshakes. Had an amazing experience.'), ('Rated 5.0', 'RATED\\n  My craving for every type of food when the sun goes down! From the yummy chilly chicken to the lip smacking biryani and for my sweet tooth the very perfect shakes! And oh yes the pasta? Only place I love to eat it! And yes their delivery is in a jiffy!'), ('Rated 5.0', 'RATED\\n  Best food you can get at that time! Must try : oreo shake, chilly chicken , chicken biryani , pasta arabiata! Been a regular since its opening!'), ('Rated 5.0', \"RATED\\n  Chilly chicken chilly chicken chilly chicken.\\nI just wish I could take in more last night. Such hard work behind every dish they make. Passionate people who serve you the best. They are no odd hours for food anymore and HotBoxIt proved that to me. The chilly chicken beats all expectations and after that you got to try out their Oreo crush. The biryani's are so good that you wouldn't leave a grain behind. To top it all getting gulab jamoons post midnight is like a privilege. HotBoxIt is must try try try again again and again kinda place so don't miss it out.\\nKeep them hots coming :)\\n\\nPS: Microwaveable containers, neat packaging with red/green taped meal and free delivery.\"), ('Rated 5.0', 'RATED\\n  Excellent food quality and on time service. I would recommend everyone in banshankari and surrounding location to give it a try and you would love it.'), ('Rated 5.0', 'RATED\\n  From quick deliveries to amazing food, at a time when nothing is available, this place takes care of all your midnight cravings. Must orders are their pepper chicken, chilly chicken and milkshakes. Had an amazing experience.'), ('Rated 5.0', 'RATED\\n  My craving for every type of food when the sun goes down! From the yummy chilly chicken to the lip smacking biryani and for my sweet tooth the very perfect shakes! And oh yes the pasta? Only place I love to eat it! And yes their delivery is in a jiffy!'), ('Rated 5.0', 'RATED\\n  Best food you can get at that time! Must try : oreo shake, chilly chicken , chicken biryani , pasta arabiata! Been a regular since its opening!'), ('Rated 5.0', \"RATED\\n  Chilly chicken chilly chicken chilly chicken.\\nI just wish I could take in more last night. Such hard work behind every dish they make. Passionate people who serve you the best. They are no odd hours for food anymore and HotBoxIt proved that to me. The chilly chicken beats all expectations and after that you got to try out their Oreo crush. The biryani's are so good that you wouldn't leave a grain behind. To top it all getting gulab jamoons post midnight is like a privilege. HotBoxIt is must try try try again again and again kinda place so don't miss it out.\\nKeep them hots coming :)\\n\\nPS: Microwaveable containers, neat packaging with red/green taped meal and free delivery.\"), ('Rated 5.0', 'RATED\\n  Excellent food quality and on time service. I would recommend everyone in banshankari and surrounding location to give it a try and you would love it.'), ('Rated 5.0', 'RATED\\n  From quick deliveries to amazing food, at a time when nothing is available, this place takes care of all your midnight cravings. Must orders are their pepper chicken, chilly chicken and milkshakes. Had an amazing experience.'), ('Rated 5.0', 'RATED\\n  My craving for every type of food when the sun goes down! From the yummy chilly chicken to the lip smacking biryani and for my sweet tooth the very perfect shakes! And oh yes the pasta? Only place I love to eat it! And yes their delivery is in a jiffy!'), ('Rated 5.0', 'RATED\\n  Best food you can get at that time! Must try : oreo shake, chilly chicken , chicken biryani , pasta arabiata! Been a regular since its opening!'), ('Rated 5.0', \"RATED\\n  Chilly chicken chilly chicken chilly chicken.\\nI just wish I could take in more last night. Such hard work behind every dish they make. Passionate people who serve you the best. They are no odd hours for food anymore and HotBoxIt proved that to me. The chilly chicken beats all expectations and after that you got to try out their Oreo crush. The biryani's are so good that you wouldn't leave a grain behind. To top it all getting gulab jamoons post midnight is like a privilege. HotBoxIt is must try try try again again and again kinda place so don't miss it out.\\nKeep them hots coming :)\\n\\nPS: Microwaveable containers, neat packaging with red/green taped meal and free delivery.\"), ('Rated 5.0', 'RATED\\n  Excellent food quality and on time service. I would recommend everyone in banshankari and surrounding location to give it a try and you would love it.'), ('Rated 5.0', 'RATED\\n  From quick deliveries to amazing food, at a time when nothing is available, this place takes care of all your midnight cravings. Must orders are their pepper chicken, chilly chicken and milkshakes. Had an amazing experience.'), ('Rated 5.0', 'RATED\\n  My craving for every type of food when the sun goes down! From the yummy chilly chicken to the lip smacking biryani and for my sweet tooth the very perfect shakes! And oh yes the pasta? Only place I love to eat it! And yes their delivery is in a jiffy!'), ('Rated 5.0', 'RATED\\n  Best food you can get at that time! Must try : oreo shake, chilly chicken , chicken biryani , pasta arabiata! Been a regular since its opening!'), ('Rated 5.0', \"RATED\\n  Chilly chicken chilly chicken chilly chicken.\\nI just wish I could take in more last night. Such hard work behind every dish they make. Passionate people who serve you the best. They are no odd hours for food anymore and HotBoxIt proved that to me. The chilly chicken beats all expectations and after that you got to try out their Oreo crush. The biryani's are so good that you wouldn't leave a grain behind. To top it all getting gulab jamoons post midnight is like a privilege. HotBoxIt is must try try try again again and again kinda place so don't miss it out.\\nKeep them hots coming :)\\n\\nPS: Microwaveable containers, neat packaging with red/green taped meal and free delivery.\"), ('Rated 5.0', 'RATED\\n  Excellent food quality and on time service. I would recommend everyone in banshankari and surrounding location to give it a try and you would love it.'), ('Rated 5.0', 'RATED\\n  From quick deliveries to amazing food, at a time when nothing is available, this place takes care of all your midnight cravings. Must orders are their pepper chicken, chilly chicken and milkshakes. Had an amazing experience.'), ('Rated 5.0', 'RATED\\n  My craving for every type of food when the sun goes down! From the yummy chilly chicken to the lip smacking biryani and for my sweet tooth the very perfect shakes! And oh yes the pasta? Only place I love to eat it! And yes their delivery is in a jiffy!'), ('Rated 5.0', 'RATED\\n  Best food you can get at that time! Must try : oreo shake, chilly chicken , chicken biryani , pasta arabiata! Been a regular since its opening!'), ('Rated 5.0', \"RATED\\n  Chilly chicken chilly chicken chilly chicken.\\nI just wish I could take in more last night. Such hard work behind every dish they make. Passionate people who serve you the best. They are no odd hours for food anymore and HotBoxIt proved that to me. The chilly chicken beats all expectations and after that you got to try out their Oreo crush. The biryani's are so good that you wouldn't leave a grain behind. To top it all getting gulab jamoons post midnight is like a privilege. HotBoxIt is must try try try again again and again kinda place so don't miss it out.\\nKeep them hots coming :)\\n\\nPS: Microwaveable containers, neat packaging with red/green taped meal and free delivery.\"), ('Rated 5.0', 'RATED\\n  Excellent food quality and on time service. I would recommend everyone in banshankari and surrounding location to give it a try and you would love it.'), ('Rated 5.0', 'RATED\\n  From quick deliveries to amazing food, at a time when nothing is available, this place takes care of all your midnight cravings. Must orders are their pepper chicken, chilly chicken and milkshakes. Had an amazing experience.'), ('Rated 5.0', 'RATED\\n  My craving for every type of food when the sun goes down! From the yummy chilly chicken to the lip smacking biryani and for my sweet tooth the very perfect shakes! And oh yes the pasta? Only place I love to eat it! And yes their delivery is in a jiffy!'), ('Rated 5.0', 'RATED\\n  Best food you can get at that time! Must try : oreo shake, chilly chicken , chicken biryani , pasta arabiata! Been a regular since its opening!'), ('Rated 5.0', \"RATED\\n  Chilly chicken chilly chicken chilly chicken.\\nI just wish I could take in more last night. Such hard work behind every dish they make. Passionate people who serve you the best. They are no odd hours for food anymore and HotBoxIt proved that to me. The chilly chicken beats all expectations and after that you got to try out their Oreo crush. The biryani's are so good that you wouldn't leave a grain behind. To top it all getting gulab jamoons post midnight is like a privilege. HotBoxIt is must try try try again again and again kinda place so don't miss it out.\\nKeep them hots coming :)\\n\\nPS: Microwaveable containers, neat packaging with red/green taped meal and free delivery.\"), ('Rated 5.0', 'RATED\\n  Excellent food quality and on time service. I would recommend everyone in banshankari and surrounding location to give it a try and you would love it.'), ('Rated 5.0', 'RATED\\n  From quick deliveries to amazing food, at a time when nothing is available, this place takes care of all your midnight cravings. Must orders are their pepper chicken, chilly chicken and milkshakes. Had an amazing experience.'), ('Rated 5.0', 'RATED\\n  My craving for every type of food when the sun goes down! From the yummy chilly chicken to the lip smacking biryani and for my sweet tooth the very perfect shakes! And oh yes the pasta? Only place I love to eat it! And yes their delivery is in a jiffy!'), ('Rated 5.0', 'RATED\\n  Best food you can get at that time! Must try : oreo shake, chilly chicken , chicken biryani , pasta arabiata! Been a regular since its opening!'), ('Rated 5.0', \"RATED\\n  Chilly chicken chilly chicken chilly chicken.\\nI just wish I could take in more last night. Such hard work behind every dish they make. Passionate people who serve you the best. They are no odd hours for food anymore and HotBoxIt proved that to me. The chilly chicken beats all expectations and after that you got to try out their Oreo crush. The biryani's are so good that you wouldn't leave a grain behind. To top it all getting gulab jamoons post midnight is like a privilege. HotBoxIt is must try try try again again and again kinda place so don't miss it out.\\nKeep them hots coming :)\\n\\nPS: Microwaveable containers, neat packaging with red/green taped meal and free delivery.\"), ('Rated 5.0', 'RATED\\n  Excellent food quality and on time service. I would recommend everyone in banshankari and surrounding location to give it a try and you would love it.'), ('Rated 5.0', 'RATED\\n  From quick deliveries to amazing food, at a time when nothing is available, this place takes care of all your midnight cravings. Must orders are their pepper chicken, chilly chicken and milkshakes. Had an amazing experience.'), ('Rated 5.0', 'RATED\\n  My craving for every type of food when the sun goes down! From the yummy chilly chicken to the lip smacking biryani and for my sweet tooth the very perfect shakes! And oh yes the pasta? Only place I love to eat it! And yes their delivery is in a jiffy!'), ('Rated 5.0', 'RATED\\n  Best food you can get at that time! Must try : oreo shake, chilly chicken , chicken biryani , pasta arabiata! Been a regular since its opening!'), ('Rated 5.0', \"RATED\\n  Chilly chicken chilly chicken chilly chicken.\\nI just wish I could take in more last night. Such hard work behind every dish they make. Passionate people who serve you the best. They are no odd hours for food anymore and HotBoxIt proved that to me. The chilly chicken beats all expectations and after that you got to try out their Oreo crush. The biryani's are so good that you wouldn't leave a grain behind. To top it all getting gulab jamoons post midnight is like a privilege. HotBoxIt is must try try try again again and again kinda place so don't miss it out.\\nKeep them hots coming :)\\n\\nPS: Microwaveable containers, neat packaging with red/green taped meal and free delivery.\"), ('Rated 5.0', 'RATED\\n  Excellent food quality and on time service. I would recommend everyone in banshankari and surrounding location to give it a try and you would love it.'), ('Rated 5.0', 'RATED\\n  From quick deliveries to amazing food, at a time when nothing is available, this place takes care of all your midnight cravings. Must orders are their pepper chicken, chilly chicken and milkshakes. Had an amazing experience.'), ('Rated 5.0', 'RATED\\n  My craving for every type of food when the sun goes down! From the yummy chilly chicken to the lip smacking biryani and for my sweet tooth the very perfect shakes! And oh yes the pasta? Only place I love to eat it! And yes their delivery is in a jiffy!'), ('Rated 5.0', 'RATED\\n  Best food you can get at that time! Must try : oreo shake, chilly chicken , chicken biryani , pasta arabiata! Been a regular since its opening!'), ('Rated 5.0', \"RATED\\n  Chilly chicken chilly chicken chilly chicken.\\nI just wish I could take in more last night. Such hard work behind every dish they make. Passionate people who serve you the best. They are no odd hours for food anymore and HotBoxIt proved that to me. The chilly chicken beats all expectations and after that you got to try out their Oreo crush. The biryani's are so good that you wouldn't leave a grain behind. To top it all getting gulab jamoons post midnight is like a privilege. HotBoxIt is must try try try again again and again kinda place so don't miss it out.\\nKeep them hots coming :)\\n\\nPS: Microwaveable containers, neat packaging with red/green taped meal and free delivery.\"), ('Rated 5.0', 'RATED\\n  Excellent food quality and on time service. I would recommend everyone in banshankari and surrounding location to give it a try and you would love it.'), ('Rated 5.0', 'RATED\\n  From quick deliveries to amazing food, at a time when nothing is available, this place takes care of all your midnight cravings. Must orders are their pepper chicken, chilly chicken and milkshakes. Had an amazing experience.'), ('Rated 5.0', 'RATED\\n  My craving for every type of food when the sun goes down! From the yummy chilly chicken to the lip smacking biryani and for my sweet tooth the very perfect shakes! And oh yes the pasta? Only place I love to eat it! And yes their delivery is in a jiffy!'), ('Rated 5.0', 'RATED\\n  Best food you can get at that time! Must try : oreo shake, chilly chicken , chicken biryani , pasta arabiata! Been a regular since its opening!'), ('Rated 5.0', 'RATED\\n  Saw this restaurant on Facebook and decided to give it a try when it was close to mid-night. Ordered Oreo Shake and Pasta. They delivered bang on time and food was absolutely mouth watering, especially the Oreo shake. Do give this place a try for home deliveries....according to their website, they deliver until 3AM.')]",
         "[]",
         "Delivery",
         "Banashankari"
        ],
        [
         "46",
         "https://www.zomato.com/bangalore/kitchen-garden-kumaraswamy-layout-bangalore?context=eyJzZSI6eyJlIjpbIjU4NjM2IiwiNTM2MDEiLCIxODU2NTY3OSIsIjE4NTU5ODk3IiwxODY5NzIxMSwiNTIyNTUiLCI1MTM0OCIsIjE4MzcxMjcyIiwiMTg3ODIyMDkiLCIxODc4Nzg4MyIsIjE4MDg5NjgyIiwiMTg1MjE5MTIiLCI1NjA5OCIsIjE4MDg5NjkzIiwiMTg2NDUyNjAiXSwidCI6IkRlbGl2ZXJ5IFJlc3RhdXJhbnRzIGluIEJhbmFzaGFua2FyaSJ9fQ==",
         "1750, 14th Main, Police Station Road, Kumaraswamy Layout, Bangalore",
         "Kitchen Garden",
         "Yes",
         "No",
         "3.6/5",
         "244",
         "080 49652867",
         "Kumaraswamy Layout",
         "Quick Bites",
         "Biryani",
         "North Indian, Chinese",
         "300",
         "[('Rated 3.0', 'RATED\\n  We ordered two Indian veg thali from Zomato as my first order got a good discount also\\nThey sent four chapatis each rice dal paneer veggie and papad\\nPackaging is poor as in plastic bags still\\nTaste is ok ok\\nPaneer was too oily to eat\\nDal and rice were decent in taste\\nOnce ordering is fine for a home food experience'), ('Rated 3.0', 'RATED\\n  I ordered lemon chicken gravy online..the quantity was good but they had put more number of lemon pieces that the entire gravy turned out bitter in taste..I was in a dilemma reading all other reviews but thought to take a chance after all.\\n\\nThe gravy had right amount of spices, it was flavoursome..but tastewise I was not soo happy..it also had a layer of oil floating at the top..I hope they reduce the usage of oil in other dishes too!')]",
         "['3 Poori with Subji', 'Chole Bhature [2 Pieces]', '2 Plain Paratha with Subji', '2 Aloo Paratha with Curd', '2 Paneer Paratha with Curd', '2 Onion Paratha with Curd', '2 Gobi Paratha with Curd', '2 Lachha Paratha with Curd', '4 Ghee Roti with Subji', 'Paneer Roll', 'Veg Roll', 'Aloo Roll', 'Paneer Aloo Roll', 'Veg Paneer Roll', 'Mushroom Paneer Roll', 'Bread Omelette [4 Pieces]', '2 Egg Paratha with Curd', 'Boiled Egg', 'Masala Omelette', 'Egg Roll', 'Double Egg Roll', 'Egg Aloo Roll', 'Egg Paneer Roll', 'Chicken Roll', 'Egg Chicken Roll', 'Tawa Roti', 'Ghee Roti', 'Plain Paratha', 'Laccha Paratha', 'Plain Rice', 'Sweet Lassi', 'Salt Lassi']",
         "Delivery",
         "Banashankari"
        ],
        [
         "47",
         "https://www.zomato.com/bangalore/recipe-kumaraswamy-layout?context=eyJzZSI6eyJlIjpbIjUzNjAxIiwiMTg1NjU2NzkiLCIxODU1OTg5NyIsIjE4Njk3MjExIiw1MjI1NSwiNTEzNDgiLCIxODM3MTI3MiIsIjE4NzgyMjA5IiwiMTg3ODc4ODMiLCIxODA4OTY4MiIsIjE4NTIxOTEyIiwiNTYwOTgiLCIxODA4OTY5MyIsIjE4NjQ1MjYwIiwiMTg2Njc1NjciXSwidCI6IkRlbGl2ZXJ5IFJlc3RhdXJhbnRzIGluIEJhbmFzaGFua2FyaSJ9fQ==",
         "1621, 1st Floor, 50 Feet Main Road, Kumaraswamy Layout, Bangalore",
         "Recipe",
         "Yes",
         "No",
         "4.0/5",
         "804",
         "+91 8043755256\r\n+91 9886073774",
         "Kumaraswamy Layout",
         "Casual Dining",
         "Butter Chicken, Noodles, Thali, Biryani",
         "North Indian, Chinese, Biryani, Rolls",
         "450",
         "[('Rated 3.0', \"RATED\\n  Ordered Paneer meal via zomato app from this restaurant. It's above average and that's about it. Nothing to rave about this place. In this meal, u will get paneer gravy, Plain dal, White rice, 3 phulkas, curd, pickle, onions and 1 pakoda. To begin with, I will say the phulkas were soft and nice. It goes well with both the gravies. Dal was watery though!! Rice also goes well with both the gravy's, but it tastes better with Paneer gravy. Paneer pieces were not soft. It was a little hard. Curd tasted nice! Instead of pakoda, they cud have given some small dessert like jamun or kheer etc. Nevertheless, it was average fare for the night. Don't have complaints though. Like I said earlier, this will surely satiate your hunger, but don't expect anything out of the world.\")]",
         "['Veg Fried Rice', 'Egg Fried Rice', 'Chicken Roll', 'Tawa Roti', 'Jeera Rice', 'Paneer Butter Masala', 'Dal Tadaka', 'Chicken Curry', 'Butter Chicken', 'Gobi Manchurian Dry', 'Aloo Jeera Dry', 'Aloo Gobi Dry', 'Green Peas Fry', 'Channa Fry', 'Bhindi Fry', 'Mixed Veg Dry', 'Paneer Bhurji', 'Paneer Chilli Dry', 'Paneer Manchurian Dry', 'Garlic Paneer Dry', 'Ginger Paneer Dry', 'Dragon Paneer Dry', '1 Boiled Egg', 'Masala Omelette', 'Egg Bhurji', 'Egg Chilli Dry', 'Egg Manchurian Dry', 'Chicken Fry', 'Chicken Ghee Roast', 'Gobi Manchurian Dry', 'Gobi Chilli Dry', 'Aloo Chilli Dry', 'Aloo Manchurian Dry', 'Baby Corn Manchurian Dry', 'Baby Corn Chilli Dry', 'Veg Chilli Dry', 'Veg Manchurian Dry', 'Mushroom Chilli Dry', 'Mushroom Manchurian Dry', 'Boneless Chicken Kabab [6 Pieces]', 'Boneless Lemon Chicken Dry', 'Boneless Chicken 65 Dry', 'Boneless Chicken Manchurian Dry', 'Boneless Chilli Chicken Dry', 'Boneless Pepper Chicken Dry', 'Boneless Garlic Chicken Dry', 'Boneless Schezwan Chicken Dry', 'Boneless Hunan Chicken Dry', 'Boneless Dragon Chicken Dry', 'Matar Paneer', 'Paneer Chilli Gravy', 'Paneer Manchurian Gravy', 'Paneer Butter Masala', 'Paneer Kofta', 'Paneer Kadai', 'Paneer Do Pyaza', 'Paneer Makhanwala', 'Punjabi Paneer', 'Paneer Tikka Gravy', 'Handi Paneer', 'Kaju Paneer', 'Chana Curry', 'Green Peas Masala', 'Aloo Gobi Matar Curry', '. Mixed Veg', 'Veg Kadai', 'Dum Aloo', 'Mushroom Masala', 'Stuffed Capcicum', 'Veg Punjabi', 'Veg Gulla', 'Veg Handi', 'Kaju Masala', 'Dal Fry', 'Dal Tadaka', 'Dal Makhani', 'Chicken Curry', 'Boneless Chicken Curry', 'Kadai Chicken', 'Boneless Kadai Chicken', 'Butter Chicken', 'Boneless Butter Chicken', 'Punjabi Chicken', 'Boneless Punjabi Chicken', 'Chicken Latpat', 'Boneless Chicken Latpat', 'Handi Chicken', 'Boneless Handi Chicken', 'Egg Curry', 'Egg Manchurian Gravy', 'Egg Chilli Gravy', 'Egg Butter Masala', 'Gobi Manchurian Gravy', 'Baby Corn Manchurian Gravy', 'Veg Manchurian Gravy', 'Mushroom Manchurian Gravy', 'Boneless Chiili Chicken Gravy', 'Boneless Chicken Manchurian Gravy', 'Boneless Pepper Chicken Gravy', 'Boneless Lemon Chicken Gravy', 'Boneless Chicken 65 Gravy', 'Boneless Garlic Chicken Gravy', 'Boneless Schezwan Chicken Gravy', 'Tawa Roti', 'Ghee Roti', 'Kulcha', 'Naan', 'Tandoori Butter Roti', 'Butter Kulcha', 'Rumali Roti', 'Stuffed Kulcha', 'Plain Paratha', 'Lachha Paratha', 'Aloo Paratha', 'Gobi Paratha', 'Onion Paratha', 'Paneer Paratha', 'Mixed Veg Paratha', 'Plain Rice', 'Curd Rice', 'Jeera Rice', 'Ghee Rice', 'Tomato Rice', 'Lemon Rice', 'Veg Fried Rice', 'Mushroom Fried Rice', 'Paneer Fried Rice', 'Schezwan Veg Fried Rice', 'Schezwan Egg Fried Rice', 'Egg Fried Rice', 'Schezwan Chicken Fried Rice', 'Chicken Fried Rice', 'Veg Noodles', 'Egg Noodles', 'Chicken Noodles', 'Veg Roll', 'Paneer Roll', 'Egg Roll', 'Chicken Roll', 'Chola Bhatura', 'Puri Sabji', 'Green Salad', 'Mixed Raita', 'Cucumber Raita', 'Roasted Papad', 'Mineral Water [1 litre]', 'Mirinda [750 ml]', '7UP [750 ml]', 'Sweet Lassi', 'Salt Lassi']",
         "Delivery",
         "Banashankari"
        ],
        [
         "48",
         "https://www.zomato.com/bangalore/beijing-bites-rajarajeshwari-nagar?context=eyJzZSI6eyJlIjpbIjE4NTY1Njc5IiwiMTg1NTk4OTciLCIxODY5NzIxMSIsIjUyMjU1Iiw1MTM0OCwiMTgzNzEyNzIiLCIxODc4MjIwOSIsIjE4Nzg3ODgzIiwiMTgwODk2ODIiLCIxODUyMTkxMiIsIjU2MDk4IiwiMTgwODk2OTMiLCIxODY0NTI2MCIsIjE4NjY3NTY3IiwiNTY3MDQiXSwidCI6IkRlbGl2ZXJ5IFJlc3RhdXJhbnRzIGluIEJhbmFzaGFua2FyaSJ9fQ==",
         "179, 1st Floor, Jawarlalnehru Road, BEML Layout, Rajarajeshwari Nagar, Bangalore",
         "Beijing Bites",
         "Yes",
         "No",
         "3.7/5",
         "679",
         "080 28606888\r\n080 28606886",
         "Rajarajeshwari Nagar",
         "Casual Dining",
         "Momos, Dragon Chicken, Hakka Noodles, Chowmein, Chop Suey, Chilli Garlic Noodles, Garlic Rice",
         "Chinese, Thai",
         "850",
         "[('Rated 3.0', 'RATED\\n  IÃ\\x83Ã\\x83Ã\\x82Ã\\x82Ã\\x83Ã\\x82Ã\\x82Ã\\x92ve ordered food from here a couple of times. Must say, their price is a pretty good deal, especially the combos. My first order was Chicken Beijing Noodles + Chicken Manchurian Gravy combo and my second ordered was Chicken noodles+Chilli Chicken Gravy + Chicken Schezwan combo. I love their noodles and the Chicken Schezwan tasted fab! But I think the gravy can be a bit better. Their packaging is neat and their price is pretty reasonable.'), ('Rated 2.0', 'RATED\\n  Ambience is the worst here.The food here is very tasty ..the Perkins chicken is spicy and nice..we got the koi Thai noodles but that wasnÃ\\x83Ã\\x83Ã\\x82Ã\\x82Ã\\x83Ã\\x82Ã\\x82Ã\\x92t as good As the noodles were very thick.'), ('Rated 3.0', 'RATED\\n  Ambiance- pretty average.\\nFood- not that great with many flavours and ingredients missing.\\nStaffs- could be well more trained.\\nFood ordered- chicken manchurian and chicken hakka noodles.\\n\\nOverall, I would just say is itÃ\\x83Ã\\x83Ã\\x82Ã\\x82Ã\\x83Ã\\x82Ã\\x82Ã\\x92s a very average place with not much to look into. Foods are not so good with too much of oil used. Hope to expect that their fooding quality changes.'), ('Rated 3.0', 'RATED\\n  The food offered to us wasnt great, the quantity offered was less and the quality wasnt amazing, the pricing on the other hand is good and you have a lot to choose from.'), ('Rated 4.0', 'RATED\\n  Small restaurant, been there a couple of times. Food is really good. Feels like authentic Chinese. Tried ordering Shanghai fried rice combo,happy with the taste and quantity for the price.'), ('Rated 4.0', 'RATED\\n  I ordered Thai Chicken Red Curry with Steamed Rice online from zomato.The taste of the food was great.The curry taste was great being butterish.Delivery time was less and the food arrived hot and fresh.On the whole a less expensive great experience.Go for it.')]",
         "[]",
         "Delivery",
         "Banashankari"
        ],
        [
         "49",
         "https://www.zomato.com/bangalore/tasty-bytes-kumaraswamy-layout?context=eyJzZSI6eyJlIjpbIjE4NTU5ODk3IiwiMTg2OTcyMTEiLCI1MjI1NSIsIjUxMzQ4IiwxODM3MTI3MiwiMTg3ODIyMDkiLCIxODc4Nzg4MyIsIjE4MDg5NjgyIiwiMTg1MjE5MTIiLCI1NjA5OCIsIjE4MDg5NjkzIiwiMTg2NDUyNjAiLCIxODY2NzU2NyIsIjU2NzA0IiwiMTg4NjY0NzgiXSwidCI6IkRlbGl2ZXJ5IFJlc3RhdXJhbnRzIGluIEJhbmFzaGFua2FyaSJ9fQ==",
         "1607, Sagar Hospital Road, Near Dayanandasagar College, Kumaraswamy Layout, Bangalore",
         "Tasty Bytes",
         "Yes",
         "No",
         "3.1/5",
         "245",
         "+91 8553317408\r\n+91 7899687127",
         "Kumaraswamy Layout",
         "Quick Bites",
         "Paratha, Pasta",
         "North Indian, Chinese, Momos, Rolls",
         "300",
         "[('Rated 3.0', 'RATED\\n  not a very nice place to expect hygenic and quality food, especially chinese and manchurian. At a very good place. Quality and Quantity can be improved a lot')]",
         "['Veg Dal Fry', 'Chicken Chaap', 'Dehati Chicken [16 Pieces]', 'Veg Meals', 'Chicken Meals', 'Veg Hot and Sour Soup', 'Veg Manchow soup', 'Chicken Hot and Sour Soup', 'Chicken Manchow Soup', 'Veg Manchurian', 'Gobi Manchurian', 'Gobi Chilly', 'Chicken Pakoda', 'Pepper Chicken', 'Lemon Chicken', 'Garlic Chicken', 'Honey Chicken', 'Chilly Chicken', 'Dragon Chicken', 'Chicken Lolipop', 'Chicken Drumstick', 'Chicken Kabab', 'Chicken Manchurian', 'Chicken 65', 'Dal Fry', 'Dal Tadka', 'Spainach Fry Dal', 'Bhindi Masala', 'Bhindi Fry', 'Veg Kofta', 'Mixed Veg', 'Veg Kolhapuri', 'Chicken Butter Masala', 'Kadai Chicken', 'Chicken Sagwala', 'Chicken Patiyala', 'Chicken Masala', 'Chicken Kasa', 'Chicken Lababdar', 'Chicken Lukhnow', 'Chicken Tikka Masala', 'Chicken Curry', 'Chicken Curry Home Style', 'Chicken Rogan', 'Lachchha Paratha', 'Missi Roti', 'Stuffed Paratha', 'Onion Paratha', 'Gobi Paratha', 'Methi Paratha', 'Tawa Roti', 'Tawa Butter Roti', 'Poori', 'Plain Paratha', 'Chicken Paratha', 'Plain Rice', 'Jeera Rice', 'Ghee Rice', 'Butter Rice', 'Plain Dal Khichadi', 'Dal Khichadi Masala', 'Veg Fried Rice', 'Veg Shezwan Fried Rice', 'Veg Tripple Fried Rice', 'Chicken Fried Rice', 'Chicken Schezwan Fried Rice', 'Chicken Tripple Fried Rice', 'Veg Noodles', 'Veg Schezwan Noodles', 'Singapore Noodles', 'Chicken Noodles', 'Chicken Schezwan Noodles', 'White Sauce Pasta', 'Cheese Red Sauce Pasta', 'Cheese White Sauce Pasta', 'Red Sauce Pasta', 'Chicken White Sauce Pasta', 'Chicken Red sauce Pasta', 'Veg Roll', 'Veg Cheese Roll', 'Chicken Roll', 'Chicken Cheese Roll', 'Chilly Chicken Roll', 'Chicken Keema Roll']",
         "Delivery",
         "Banashankari"
        ]
       ],
       "shape": {
        "columns": 17,
        "rows": 51717
       }
      },
      "text/html": [
       "<div>\n",
       "<style scoped>\n",
       "    .dataframe tbody tr th:only-of-type {\n",
       "        vertical-align: middle;\n",
       "    }\n",
       "\n",
       "    .dataframe tbody tr th {\n",
       "        vertical-align: top;\n",
       "    }\n",
       "\n",
       "    .dataframe thead th {\n",
       "        text-align: right;\n",
       "    }\n",
       "</style>\n",
       "<table border=\"1\" class=\"dataframe\">\n",
       "  <thead>\n",
       "    <tr style=\"text-align: right;\">\n",
       "      <th></th>\n",
       "      <th>url</th>\n",
       "      <th>address</th>\n",
       "      <th>name</th>\n",
       "      <th>online_order</th>\n",
       "      <th>book_table</th>\n",
       "      <th>rate</th>\n",
       "      <th>votes</th>\n",
       "      <th>phone</th>\n",
       "      <th>location</th>\n",
       "      <th>rest_type</th>\n",
       "      <th>dish_liked</th>\n",
       "      <th>cuisines</th>\n",
       "      <th>approx_cost(for two people)</th>\n",
       "      <th>reviews_list</th>\n",
       "      <th>menu_item</th>\n",
       "      <th>listed_in(type)</th>\n",
       "      <th>listed_in(city)</th>\n",
       "    </tr>\n",
       "  </thead>\n",
       "  <tbody>\n",
       "    <tr>\n",
       "      <th>0</th>\n",
       "      <td>https://www.zomato.com/bangalore/jalsa-banasha...</td>\n",
       "      <td>942, 21st Main Road, 2nd Stage, Banashankari, ...</td>\n",
       "      <td>Jalsa</td>\n",
       "      <td>Yes</td>\n",
       "      <td>Yes</td>\n",
       "      <td>4.1/5</td>\n",
       "      <td>775</td>\n",
       "      <td>080 42297555\\r\\n+91 9743772233</td>\n",
       "      <td>Banashankari</td>\n",
       "      <td>Casual Dining</td>\n",
       "      <td>Pasta, Lunch Buffet, Masala Papad, Paneer Laja...</td>\n",
       "      <td>North Indian, Mughlai, Chinese</td>\n",
       "      <td>800</td>\n",
       "      <td>[('Rated 4.0', 'RATED\\n  A beautiful place to ...</td>\n",
       "      <td>[]</td>\n",
       "      <td>Buffet</td>\n",
       "      <td>Banashankari</td>\n",
       "    </tr>\n",
       "    <tr>\n",
       "      <th>1</th>\n",
       "      <td>https://www.zomato.com/bangalore/spice-elephan...</td>\n",
       "      <td>2nd Floor, 80 Feet Road, Near Big Bazaar, 6th ...</td>\n",
       "      <td>Spice Elephant</td>\n",
       "      <td>Yes</td>\n",
       "      <td>No</td>\n",
       "      <td>4.1/5</td>\n",
       "      <td>787</td>\n",
       "      <td>080 41714161</td>\n",
       "      <td>Banashankari</td>\n",
       "      <td>Casual Dining</td>\n",
       "      <td>Momos, Lunch Buffet, Chocolate Nirvana, Thai G...</td>\n",
       "      <td>Chinese, North Indian, Thai</td>\n",
       "      <td>800</td>\n",
       "      <td>[('Rated 4.0', 'RATED\\n  Had been here for din...</td>\n",
       "      <td>[]</td>\n",
       "      <td>Buffet</td>\n",
       "      <td>Banashankari</td>\n",
       "    </tr>\n",
       "    <tr>\n",
       "      <th>2</th>\n",
       "      <td>https://www.zomato.com/SanchurroBangalore?cont...</td>\n",
       "      <td>1112, Next to KIMS Medical College, 17th Cross...</td>\n",
       "      <td>San Churro Cafe</td>\n",
       "      <td>Yes</td>\n",
       "      <td>No</td>\n",
       "      <td>3.8/5</td>\n",
       "      <td>918</td>\n",
       "      <td>+91 9663487993</td>\n",
       "      <td>Banashankari</td>\n",
       "      <td>Cafe, Casual Dining</td>\n",
       "      <td>Churros, Cannelloni, Minestrone Soup, Hot Choc...</td>\n",
       "      <td>Cafe, Mexican, Italian</td>\n",
       "      <td>800</td>\n",
       "      <td>[('Rated 3.0', \"RATED\\n  Ambience is not that ...</td>\n",
       "      <td>[]</td>\n",
       "      <td>Buffet</td>\n",
       "      <td>Banashankari</td>\n",
       "    </tr>\n",
       "    <tr>\n",
       "      <th>3</th>\n",
       "      <td>https://www.zomato.com/bangalore/addhuri-udupi...</td>\n",
       "      <td>1st Floor, Annakuteera, 3rd Stage, Banashankar...</td>\n",
       "      <td>Addhuri Udupi Bhojana</td>\n",
       "      <td>No</td>\n",
       "      <td>No</td>\n",
       "      <td>3.7/5</td>\n",
       "      <td>88</td>\n",
       "      <td>+91 9620009302</td>\n",
       "      <td>Banashankari</td>\n",
       "      <td>Quick Bites</td>\n",
       "      <td>Masala Dosa</td>\n",
       "      <td>South Indian, North Indian</td>\n",
       "      <td>300</td>\n",
       "      <td>[('Rated 4.0', \"RATED\\n  Great food and proper...</td>\n",
       "      <td>[]</td>\n",
       "      <td>Buffet</td>\n",
       "      <td>Banashankari</td>\n",
       "    </tr>\n",
       "    <tr>\n",
       "      <th>4</th>\n",
       "      <td>https://www.zomato.com/bangalore/grand-village...</td>\n",
       "      <td>10, 3rd Floor, Lakshmi Associates, Gandhi Baza...</td>\n",
       "      <td>Grand Village</td>\n",
       "      <td>No</td>\n",
       "      <td>No</td>\n",
       "      <td>3.8/5</td>\n",
       "      <td>166</td>\n",
       "      <td>+91 8026612447\\r\\n+91 9901210005</td>\n",
       "      <td>Basavanagudi</td>\n",
       "      <td>Casual Dining</td>\n",
       "      <td>Panipuri, Gol Gappe</td>\n",
       "      <td>North Indian, Rajasthani</td>\n",
       "      <td>600</td>\n",
       "      <td>[('Rated 4.0', 'RATED\\n  Very good restaurant ...</td>\n",
       "      <td>[]</td>\n",
       "      <td>Buffet</td>\n",
       "      <td>Banashankari</td>\n",
       "    </tr>\n",
       "    <tr>\n",
       "      <th>...</th>\n",
       "      <td>...</td>\n",
       "      <td>...</td>\n",
       "      <td>...</td>\n",
       "      <td>...</td>\n",
       "      <td>...</td>\n",
       "      <td>...</td>\n",
       "      <td>...</td>\n",
       "      <td>...</td>\n",
       "      <td>...</td>\n",
       "      <td>...</td>\n",
       "      <td>...</td>\n",
       "      <td>...</td>\n",
       "      <td>...</td>\n",
       "      <td>...</td>\n",
       "      <td>...</td>\n",
       "      <td>...</td>\n",
       "      <td>...</td>\n",
       "    </tr>\n",
       "    <tr>\n",
       "      <th>51712</th>\n",
       "      <td>https://www.zomato.com/bangalore/best-brews-fo...</td>\n",
       "      <td>Four Points by Sheraton Bengaluru, 43/3, White...</td>\n",
       "      <td>Best Brews - Four Points by Sheraton Bengaluru...</td>\n",
       "      <td>No</td>\n",
       "      <td>No</td>\n",
       "      <td>3.6 /5</td>\n",
       "      <td>27</td>\n",
       "      <td>080 40301477</td>\n",
       "      <td>Whitefield</td>\n",
       "      <td>Bar</td>\n",
       "      <td>NaN</td>\n",
       "      <td>Continental</td>\n",
       "      <td>1,500</td>\n",
       "      <td>[('Rated 5.0', \"RATED\\n  Food and service are ...</td>\n",
       "      <td>[]</td>\n",
       "      <td>Pubs and bars</td>\n",
       "      <td>Whitefield</td>\n",
       "    </tr>\n",
       "    <tr>\n",
       "      <th>51713</th>\n",
       "      <td>https://www.zomato.com/bangalore/vinod-bar-and...</td>\n",
       "      <td>Number 10, Garudachar Palya, Mahadevapura, Whi...</td>\n",
       "      <td>Vinod Bar And Restaurant</td>\n",
       "      <td>No</td>\n",
       "      <td>No</td>\n",
       "      <td>NaN</td>\n",
       "      <td>0</td>\n",
       "      <td>+91 8197675843</td>\n",
       "      <td>Whitefield</td>\n",
       "      <td>Bar</td>\n",
       "      <td>NaN</td>\n",
       "      <td>Finger Food</td>\n",
       "      <td>600</td>\n",
       "      <td>[]</td>\n",
       "      <td>[]</td>\n",
       "      <td>Pubs and bars</td>\n",
       "      <td>Whitefield</td>\n",
       "    </tr>\n",
       "    <tr>\n",
       "      <th>51714</th>\n",
       "      <td>https://www.zomato.com/bangalore/plunge-sherat...</td>\n",
       "      <td>Sheraton Grand Bengaluru Whitefield Hotel &amp; Co...</td>\n",
       "      <td>Plunge - Sheraton Grand Bengaluru Whitefield H...</td>\n",
       "      <td>No</td>\n",
       "      <td>No</td>\n",
       "      <td>NaN</td>\n",
       "      <td>0</td>\n",
       "      <td>NaN</td>\n",
       "      <td>Whitefield</td>\n",
       "      <td>Bar</td>\n",
       "      <td>NaN</td>\n",
       "      <td>Finger Food</td>\n",
       "      <td>2,000</td>\n",
       "      <td>[]</td>\n",
       "      <td>[]</td>\n",
       "      <td>Pubs and bars</td>\n",
       "      <td>Whitefield</td>\n",
       "    </tr>\n",
       "    <tr>\n",
       "      <th>51715</th>\n",
       "      <td>https://www.zomato.com/bangalore/chime-sherato...</td>\n",
       "      <td>Sheraton Grand Bengaluru Whitefield Hotel &amp; Co...</td>\n",
       "      <td>Chime - Sheraton Grand Bengaluru Whitefield Ho...</td>\n",
       "      <td>No</td>\n",
       "      <td>Yes</td>\n",
       "      <td>4.3 /5</td>\n",
       "      <td>236</td>\n",
       "      <td>080 49652769</td>\n",
       "      <td>ITPL Main Road, Whitefield</td>\n",
       "      <td>Bar</td>\n",
       "      <td>Cocktails, Pizza, Buttermilk</td>\n",
       "      <td>Finger Food</td>\n",
       "      <td>2,500</td>\n",
       "      <td>[('Rated 4.0', 'RATED\\n  Nice and friendly pla...</td>\n",
       "      <td>[]</td>\n",
       "      <td>Pubs and bars</td>\n",
       "      <td>Whitefield</td>\n",
       "    </tr>\n",
       "    <tr>\n",
       "      <th>51716</th>\n",
       "      <td>https://www.zomato.com/bangalore/the-nest-the-...</td>\n",
       "      <td>ITPL Main Road, KIADB Export Promotion Industr...</td>\n",
       "      <td>The Nest - The Den Bengaluru</td>\n",
       "      <td>No</td>\n",
       "      <td>No</td>\n",
       "      <td>3.4 /5</td>\n",
       "      <td>13</td>\n",
       "      <td>+91 8071117272</td>\n",
       "      <td>ITPL Main Road, Whitefield</td>\n",
       "      <td>Bar, Casual Dining</td>\n",
       "      <td>NaN</td>\n",
       "      <td>Finger Food, North Indian, Continental</td>\n",
       "      <td>1,500</td>\n",
       "      <td>[('Rated 5.0', 'RATED\\n  Great ambience , look...</td>\n",
       "      <td>[]</td>\n",
       "      <td>Pubs and bars</td>\n",
       "      <td>Whitefield</td>\n",
       "    </tr>\n",
       "  </tbody>\n",
       "</table>\n",
       "<p>51717 rows × 17 columns</p>\n",
       "</div>"
      ],
      "text/plain": [
       "                                                     url  \\\n",
       "0      https://www.zomato.com/bangalore/jalsa-banasha...   \n",
       "1      https://www.zomato.com/bangalore/spice-elephan...   \n",
       "2      https://www.zomato.com/SanchurroBangalore?cont...   \n",
       "3      https://www.zomato.com/bangalore/addhuri-udupi...   \n",
       "4      https://www.zomato.com/bangalore/grand-village...   \n",
       "...                                                  ...   \n",
       "51712  https://www.zomato.com/bangalore/best-brews-fo...   \n",
       "51713  https://www.zomato.com/bangalore/vinod-bar-and...   \n",
       "51714  https://www.zomato.com/bangalore/plunge-sherat...   \n",
       "51715  https://www.zomato.com/bangalore/chime-sherato...   \n",
       "51716  https://www.zomato.com/bangalore/the-nest-the-...   \n",
       "\n",
       "                                                 address  \\\n",
       "0      942, 21st Main Road, 2nd Stage, Banashankari, ...   \n",
       "1      2nd Floor, 80 Feet Road, Near Big Bazaar, 6th ...   \n",
       "2      1112, Next to KIMS Medical College, 17th Cross...   \n",
       "3      1st Floor, Annakuteera, 3rd Stage, Banashankar...   \n",
       "4      10, 3rd Floor, Lakshmi Associates, Gandhi Baza...   \n",
       "...                                                  ...   \n",
       "51712  Four Points by Sheraton Bengaluru, 43/3, White...   \n",
       "51713  Number 10, Garudachar Palya, Mahadevapura, Whi...   \n",
       "51714  Sheraton Grand Bengaluru Whitefield Hotel & Co...   \n",
       "51715  Sheraton Grand Bengaluru Whitefield Hotel & Co...   \n",
       "51716  ITPL Main Road, KIADB Export Promotion Industr...   \n",
       "\n",
       "                                                    name online_order  \\\n",
       "0                                                  Jalsa          Yes   \n",
       "1                                         Spice Elephant          Yes   \n",
       "2                                        San Churro Cafe          Yes   \n",
       "3                                  Addhuri Udupi Bhojana           No   \n",
       "4                                          Grand Village           No   \n",
       "...                                                  ...          ...   \n",
       "51712  Best Brews - Four Points by Sheraton Bengaluru...           No   \n",
       "51713                           Vinod Bar And Restaurant           No   \n",
       "51714  Plunge - Sheraton Grand Bengaluru Whitefield H...           No   \n",
       "51715  Chime - Sheraton Grand Bengaluru Whitefield Ho...           No   \n",
       "51716                       The Nest - The Den Bengaluru           No   \n",
       "\n",
       "      book_table    rate  votes                             phone  \\\n",
       "0            Yes   4.1/5    775    080 42297555\\r\\n+91 9743772233   \n",
       "1             No   4.1/5    787                      080 41714161   \n",
       "2             No   3.8/5    918                    +91 9663487993   \n",
       "3             No   3.7/5     88                    +91 9620009302   \n",
       "4             No   3.8/5    166  +91 8026612447\\r\\n+91 9901210005   \n",
       "...          ...     ...    ...                               ...   \n",
       "51712         No  3.6 /5     27                      080 40301477   \n",
       "51713         No     NaN      0                    +91 8197675843   \n",
       "51714         No     NaN      0                               NaN   \n",
       "51715        Yes  4.3 /5    236                      080 49652769   \n",
       "51716         No  3.4 /5     13                    +91 8071117272   \n",
       "\n",
       "                         location            rest_type  \\\n",
       "0                    Banashankari        Casual Dining   \n",
       "1                    Banashankari        Casual Dining   \n",
       "2                    Banashankari  Cafe, Casual Dining   \n",
       "3                    Banashankari          Quick Bites   \n",
       "4                    Basavanagudi        Casual Dining   \n",
       "...                           ...                  ...   \n",
       "51712                  Whitefield                  Bar   \n",
       "51713                  Whitefield                  Bar   \n",
       "51714                  Whitefield                  Bar   \n",
       "51715  ITPL Main Road, Whitefield                  Bar   \n",
       "51716  ITPL Main Road, Whitefield   Bar, Casual Dining   \n",
       "\n",
       "                                              dish_liked  \\\n",
       "0      Pasta, Lunch Buffet, Masala Papad, Paneer Laja...   \n",
       "1      Momos, Lunch Buffet, Chocolate Nirvana, Thai G...   \n",
       "2      Churros, Cannelloni, Minestrone Soup, Hot Choc...   \n",
       "3                                            Masala Dosa   \n",
       "4                                    Panipuri, Gol Gappe   \n",
       "...                                                  ...   \n",
       "51712                                                NaN   \n",
       "51713                                                NaN   \n",
       "51714                                                NaN   \n",
       "51715                       Cocktails, Pizza, Buttermilk   \n",
       "51716                                                NaN   \n",
       "\n",
       "                                     cuisines approx_cost(for two people)  \\\n",
       "0              North Indian, Mughlai, Chinese                         800   \n",
       "1                 Chinese, North Indian, Thai                         800   \n",
       "2                      Cafe, Mexican, Italian                         800   \n",
       "3                  South Indian, North Indian                         300   \n",
       "4                    North Indian, Rajasthani                         600   \n",
       "...                                       ...                         ...   \n",
       "51712                             Continental                       1,500   \n",
       "51713                             Finger Food                         600   \n",
       "51714                             Finger Food                       2,000   \n",
       "51715                             Finger Food                       2,500   \n",
       "51716  Finger Food, North Indian, Continental                       1,500   \n",
       "\n",
       "                                            reviews_list menu_item  \\\n",
       "0      [('Rated 4.0', 'RATED\\n  A beautiful place to ...        []   \n",
       "1      [('Rated 4.0', 'RATED\\n  Had been here for din...        []   \n",
       "2      [('Rated 3.0', \"RATED\\n  Ambience is not that ...        []   \n",
       "3      [('Rated 4.0', \"RATED\\n  Great food and proper...        []   \n",
       "4      [('Rated 4.0', 'RATED\\n  Very good restaurant ...        []   \n",
       "...                                                  ...       ...   \n",
       "51712  [('Rated 5.0', \"RATED\\n  Food and service are ...        []   \n",
       "51713                                                 []        []   \n",
       "51714                                                 []        []   \n",
       "51715  [('Rated 4.0', 'RATED\\n  Nice and friendly pla...        []   \n",
       "51716  [('Rated 5.0', 'RATED\\n  Great ambience , look...        []   \n",
       "\n",
       "      listed_in(type) listed_in(city)  \n",
       "0              Buffet    Banashankari  \n",
       "1              Buffet    Banashankari  \n",
       "2              Buffet    Banashankari  \n",
       "3              Buffet    Banashankari  \n",
       "4              Buffet    Banashankari  \n",
       "...               ...             ...  \n",
       "51712   Pubs and bars      Whitefield  \n",
       "51713   Pubs and bars      Whitefield  \n",
       "51714   Pubs and bars      Whitefield  \n",
       "51715   Pubs and bars      Whitefield  \n",
       "51716   Pubs and bars      Whitefield  \n",
       "\n",
       "[51717 rows x 17 columns]"
      ]
     },
     "execution_count": 61,
     "metadata": {},
     "output_type": "execute_result"
    }
   ],
   "source": [
    "df"
   ]
  },
  {
   "cell_type": "code",
   "execution_count": null,
   "id": "9aa0b917",
   "metadata": {},
   "outputs": [],
   "source": [
    "'''## Exploratory Data Analysis (EDA)\n",
    "\n",
    "Check dataset shape, data types, missing values, duplicates, and basic statistics.\n",
    "'''"
   ]
  },
  {
   "cell_type": "code",
   "execution_count": 62,
   "id": "6375c3bf",
   "metadata": {},
   "outputs": [
    {
     "data": {
      "application/vnd.microsoft.datawrangler.viewer.v0+json": {
       "columns": [
        {
         "name": "index",
         "rawType": "int64",
         "type": "integer"
        },
        {
         "name": "url",
         "rawType": "object",
         "type": "string"
        },
        {
         "name": "address",
         "rawType": "object",
         "type": "string"
        },
        {
         "name": "name",
         "rawType": "object",
         "type": "string"
        },
        {
         "name": "online_order",
         "rawType": "object",
         "type": "string"
        },
        {
         "name": "book_table",
         "rawType": "object",
         "type": "string"
        },
        {
         "name": "rate",
         "rawType": "object",
         "type": "string"
        },
        {
         "name": "votes",
         "rawType": "int64",
         "type": "integer"
        },
        {
         "name": "phone",
         "rawType": "object",
         "type": "string"
        },
        {
         "name": "location",
         "rawType": "object",
         "type": "string"
        },
        {
         "name": "rest_type",
         "rawType": "object",
         "type": "string"
        },
        {
         "name": "dish_liked",
         "rawType": "object",
         "type": "string"
        },
        {
         "name": "cuisines",
         "rawType": "object",
         "type": "string"
        },
        {
         "name": "approx_cost(for two people)",
         "rawType": "object",
         "type": "string"
        },
        {
         "name": "reviews_list",
         "rawType": "object",
         "type": "string"
        },
        {
         "name": "menu_item",
         "rawType": "object",
         "type": "string"
        },
        {
         "name": "listed_in(type)",
         "rawType": "object",
         "type": "string"
        },
        {
         "name": "listed_in(city)",
         "rawType": "object",
         "type": "string"
        }
       ],
       "ref": "1e26ed2a-4a1f-466e-9986-db83c8b88367",
       "rows": [
        [
         "0",
         "https://www.zomato.com/bangalore/jalsa-banashankari?context=eyJzZSI6eyJlIjpbNTg2OTQsIjE4Mzc1NDc0IiwiNTkwOTAiLCIxODM4Mjk0NCIsIjE4MjI0Njc2IiwiNTkyODkiLCIxODM3MzM4NiJdLCJ0IjoiUmVzdGF1cmFudHMgaW4gQmFuYXNoYW5rYXJpIHNlcnZpbmcgQnVmZmV0In19",
         "942, 21st Main Road, 2nd Stage, Banashankari, Bangalore",
         "Jalsa",
         "Yes",
         "Yes",
         "4.1/5",
         "775",
         "080 42297555\r\n+91 9743772233",
         "Banashankari",
         "Casual Dining",
         "Pasta, Lunch Buffet, Masala Papad, Paneer Lajawab, Tomato Shorba, Dum Biryani, Sweet Corn Soup",
         "North Indian, Mughlai, Chinese",
         "800",
         "[('Rated 4.0', 'RATED\\n  A beautiful place to dine in.The interiors take you back to the Mughal era. The lightings are just perfect.We went there on the occasion of Christmas and so they had only limited items available. But the taste and service was not compromised at all.The only complaint is that the breads could have been better.Would surely like to come here again.'), ('Rated 4.0', 'RATED\\n  I was here for dinner with my family on a weekday. The restaurant was completely empty. Ambience is good with some good old hindi music. Seating arrangement are good too. We ordered masala papad, panner and baby corn starters, lemon and corrionder soup, butter roti, olive and chilli paratha. Food was fresh and good, service is good too. Good for family hangout.\\nCheers'), ('Rated 2.0', 'RATED\\n  Its a restaurant near to Banashankari BDA. Me along with few of my office friends visited to have buffet but unfortunately they only provide veg buffet. On inquiring they said this place is mostly visited by vegetarians. Anyways we ordered ala carte items which took ages to come. Food was ok ok. Definitely not visiting anymore.'), ('Rated 4.0', 'RATED\\n  We went here on a weekend and one of us had the buffet while two of us took Ala Carte. Firstly the ambience and service of this place is great! The buffet had a lot of items and the good was good. We had a Pumpkin Halwa intm the dessert which was amazing. Must try! The kulchas are great here. Cheers!'), ('Rated 5.0', 'RATED\\n  The best thing about the place is itÃ\\x83Ã\\x83Ã\\x82Ã\\x82Ã\\x83Ã\\x82Ã\\x82Ã\\x92s ambiance. Second best thing was yummy ? food. We try buffet and buffet food was not disappointed us.\\nTest ?. ?? ?? ?? ?? ??\\nQuality ?. ??????????.\\nService: Staff was very professional and friendly.\\n\\nOverall experience was excellent.\\n\\nsubirmajumder85.wixsite.com'), ('Rated 5.0', 'RATED\\n  Great food and pleasant ambience. Expensive but Coll place to chill and relax......\\n\\nService is really very very good and friendly staff...\\n\\nFood : 5/5\\nService : 5/5\\nAmbience :5/5\\nOverall :5/5'), ('Rated 4.0', 'RATED\\n  Good ambience with tasty food.\\nCheese chilli paratha with Bhutta palak methi curry is a good combo.\\nLemon Chicken in the starters is a must try item.\\nEgg fried rice was also quite tasty.\\nIn the mocktails, recommend \"Alice in Junoon\". Do not miss it.'), ('Rated 4.0', 'RATED\\n  You canÃ\\x83Ã\\x83Ã\\x82Ã\\x82Ã\\x83Ã\\x82Ã\\x82Ã\\x92t go wrong with Jalsa. Never been a fan of their buffet and thus always order alacarteÃ\\x83Ã\\x83Ã\\x82Ã\\x82Ã\\x83Ã\\x82Ã\\x82Ã\\x92. Service at times can be on the slower side but food is worth the wait.'), ('Rated 5.0', 'RATED\\n  Overdelighted by the service and food provided at this place. A royal and ethnic atmosphere builds a strong essence of being in India and also the quality and taste of food is truly authentic. I would totally recommend to visit this place once.'), ('Rated 4.0', 'RATED\\n  The place is nice and comfortable. Food wise all jalea outlets maintain a good standard. The soya chaap was a standout dish. Clearly one of trademark dish as per me and a must try.\\n\\nThe only concern is the parking. It very congested and limited to just 5cars. The basement parking is very steep and makes it cumbersome'), ('Rated 4.0', 'RATED\\n  The place is nice and comfortable. Food wise all jalea outlets maintain a good standard. The soya chaap was a standout dish. Clearly one of trademark dish as per me and a must try.\\n\\nThe only concern is the parking. It very congested and limited to just 5cars. The basement parking is very steep and makes it cumbersome'), ('Rated 4.0', 'RATED\\n  The place is nice and comfortable. Food wise all jalea outlets maintain a good standard. The soya chaap was a standout dish. Clearly one of trademark dish as per me and a must try.\\n\\nThe only concern is the parking. It very congested and limited to just 5cars. The basement parking is very steep and makes it cumbersome')]",
         "[]",
         "Buffet",
         "Banashankari"
        ],
        [
         "1",
         "https://www.zomato.com/bangalore/spice-elephant-banashankari?context=eyJzZSI6eyJlIjpbIjU4Njk0IiwxODM3NTQ3NCwiNTkwOTAiLCIxODM4Mjk0NCIsIjE4MjI0Njc2IiwiNTkyODkiLCIxODM3MzM4NiJdLCJ0IjoiUmVzdGF1cmFudHMgaW4gQmFuYXNoYW5rYXJpIHNlcnZpbmcgQnVmZmV0In19",
         "2nd Floor, 80 Feet Road, Near Big Bazaar, 6th Block, Kathriguppe, 3rd Stage, Banashankari, Bangalore",
         "Spice Elephant",
         "Yes",
         "No",
         "4.1/5",
         "787",
         "080 41714161",
         "Banashankari",
         "Casual Dining",
         "Momos, Lunch Buffet, Chocolate Nirvana, Thai Green Curry, Paneer Tikka, Dum Biryani, Chicken Biryani",
         "Chinese, North Indian, Thai",
         "800",
         "[('Rated 4.0', 'RATED\\n  Had been here for dinner with family. Turned out to be a good choose suitable for all ages of people. Can try this place. We liked the most was their starters. Service is good. Prices are affordable. Will recommend this restaurant for early dinner. The place is little noisy.'), ('Rated 3.0', 'RATED\\n  The ambience is really nice, staff is courteous. The price is pretty high for the quantity, but overall the experience was fine. The quality of food is nice but nothing extraordinary. They also have buffet(only veg)'), ('Rated 3.0', 'RATED\\n  I felt good is little expensive for the quantity they serve and In terms of taste is decent. There is nothing much to talk about the ambience, regular casual dining restaurant where you can take your family for dinner or lunch. If they improve on that quantity or may be reduce the price a bit or may be improve the presentation of the food it might Manage to get more repeat customers.'), ('Rated 4.0', 'RATED\\n  I was looking for a quite place to spend some time with family and as well wanted to try some new place. Since I was at Banashankari I thought of trying this place. The place had good rating and was part of Zomato gold. So I decided to try this place. It was a delite to see a very friendly staff and food we ordered was very tasty as well.\\n\\nFood : 4/5\\nAmbience :3/5\\nFriendly staff : 4/5\\nPocket friendly : 4/5\\n\\nWill definitely visit again ??'), ('Rated 4.0', \"RATED\\n  Nice place to dine and has a good ambiance... Food is good and the serving time is also good..neat restrooms and we'll arranged tables....only thing is we went at 12.30 for lunch...and we noticed that they kept on playing one music back to back which was a little annoying...\\n\\n1. Chicken biriyani was so good and the chicken was fresh and tender ,rice was well cooked and overall was great\\n\\n2. Mutton biriyani was very very good and tasty and It had plenty of mutton pieces...\"), ('Rated 5.0', 'RATED\\n  This place just cool ? with good ambience and slow music and having delicious food is where you find peace. Staff very friendly and they have maintained the place so clean. The price is average for what the quantity of food they serve.\\nThom yum Thai soup was best and was treat to mouth, roti was soft with that vilaythi paneer was perfect to have for veggie foodies, in rice we tried burnt garlic fried rice with vegetables and it was the perfect thing to end.'), ('Rated 4.0', \"RATED\\n  Quiet a good family type of place.. too calm and usually we don't find crowd here.. panner curry and the deserts is what we had tasted.. they wer really good but we found it a little expensive\"), ('Rated 2.0', \"RATED\\n  I had a very bad experience here.\\nI don't know about a la carte, but the buffet was the worst. They gave us complementary drink and momos before the buffet. The momos were really good.\\nThe number of varieties first of all was very disappointing. The service was very slow. They refilled the food very slowly. The starters were okay. The main course also was so so. There was two gravies with roti and some rice with raitha. They had chats, sev puri and pan puri, which was average. But the desert was disappointing. They had gulab Jamun and chocolate cake. The jamun was not cooked inside. There was a cold blob of raw dough inside. The chocolate cake also was really hard and not that good.\\nOverall the buffet was a bad experience for me.\"), ('Rated 4.0', \"RATED\\n  Food: 8/10\\nAmbience:8/10\\nStaff:8/10\\nOne of the good places to try north Indian food...but depends on ur taste buds. Not everyone will like all the items here. Specially when u r particular abt sweet and spicy food.\\nThere's buffet available too.\\nWe had ordered paneer uttar dakshin and paneer kurchan..was amazing. The Gobi hara pyaz and mix veg were average.\"), ('Rated 3.0', 'RATED\\n  A decent place for a family lunch or dinner.. well arranged in a simple manner. Food was tasty and the crew was very helpful and understanding..'), ('Rated 4.0', \"RATED\\n  Great place to have a heavy lunch. Good service.\\nThe chicken biryani was undoubtedly one of the best I've had. Biriyani and Lassi would be the suggested combo. Buffet is the talk of the place, so try according to your appetite. A nice place.\"), ('Rated 4.0', 'RATED\\n  Its the one restaurant near katriguppe that i found was really good. Good variety of Chinese and thai dishes. Service is good and good place to hangout with family as its a peaceful place where noise is really less and good view.'), ('Rated 2.0', \"RATED\\n  Spice elephant soup SPL: almost manchow flavour soup.. Just above medium spicy\\n\\nLasooni fish tikka was awesome\\n\\nI don't remember the dessert name but I have attached the photo .. It had vanilla ice inside wafers... Wafer was hell hard, egg smell chewy ... Nightmare dessert !\\n\\nTable leg space was very bad... I was so uncomfortable, the whole time kept on adjusting my legs\\n\\nNo parking\\n\\nFor the taste felt this is too costly\"), ('Rated 4.0', 'RATED\\n  Zomato gold partner at this price. It was insane. They have really nice food. small place with very courteous staff and very cheap food for this ambience. Cost of soups is 80-100. Starters from 150-250. Main course 200-300. Cost for two was 800 for us.')]",
         "[]",
         "Buffet",
         "Banashankari"
        ],
        [
         "2",
         "https://www.zomato.com/SanchurroBangalore?context=eyJzZSI6eyJlIjpbIjU4Njk0IiwiMTgzNzU0NzQiLDU5MDkwLCIxODM4Mjk0NCIsIjE4MjI0Njc2IiwiNTkyODkiLCIxODM3MzM4NiJdLCJ0IjoiUmVzdGF1cmFudHMgaW4gQmFuYXNoYW5rYXJpIHNlcnZpbmcgQnVmZmV0In19",
         "1112, Next to KIMS Medical College, 17th Cross, 2nd Stage, Banashankari, Bangalore",
         "San Churro Cafe",
         "Yes",
         "No",
         "3.8/5",
         "918",
         "+91 9663487993",
         "Banashankari",
         "Cafe, Casual Dining",
         "Churros, Cannelloni, Minestrone Soup, Hot Chocolate, Pink Sauce Pasta, Salsa, Veg Supreme Pizza",
         "Cafe, Mexican, Italian",
         "800",
         "[('Rated 3.0', \"RATED\\n  Ambience is not that good enough and it's not a pocket friendly cafe and the quantity is not that good and desserts are too good enough ??..\"), ('Rated 3.0', \"RATED\\n \\nWent there for a quick bite with friends.\\nThe ambience had more of corporate feel. I would say it was unique.\\nTried nachos, pasta churros and lasagne.\\n\\nNachos were pathetic.( Seriously don't order)\\nPasta was okayish.\\nLasagne was good.\\nNutella churros were the best.\\nOverall an okayish experience!\\nPeace ??\"), ('Rated 4.0', \"RATED\\n  First of all, a big thanks to the staff of this Cafe. Very polite and courteous.\\n\\nI was there 15mins before their closing time. Without any discomfort or hesitation, the staff welcomed me with a warm smile and said they're still open, though they were preparing to close the cafe for the day.\\n\\nQuickly ordered the Thai green curry, which is served with rice. They got it for me within 10mins, hot and freshly made.\\n\\nIt was tasty with the taste of coconut milk. Not very spicy, it was mild spicy.\\n\\nI saw they had yummy looking dessert menu, should go there to try them out!\\n\\nA good spacious place to hang out for coffee, pastas, pizza or Thai food.\"), ('Rated 3.0', \"RATED\\n  A place for people who love churos. Otherwise it's a normal simple cafe like any other in town . Can go and spend the evening there . The positive being it is one of the better cafes in and around Banashankari and also the place is not very crowded .\"), ('Rated 3.0', 'RATED\\n  Have been visiting this place since years. The quality has gone down drastically. Food quality has become very average from good. Service is also very bad of late.'), ('Rated 1.0', 'RATED\\n  Really disappointed with the place.\\n\\nSeems like a old dusty store room stacked up with old sofas and chairs! The decor is soo disappointing that I cannot put it in words!\\nLastly the food was cherry on the cake to make it a complete worse meal.\\n\\nThis place is the last option you should ever consider.'), ('Rated 3.0', 'RATED\\n  Congested atmosphere due to smoke from kitchen\\nAmbience was k\\nService was k .\\nChuros was a new experience recommended\\nNear to kims . Parking was not der'), ('Rated 1.0', \"RATED\\n  Cockroaches !! I Repeat cockroaches!!Bakasura was disappointed.\\nBeing in Banashankari, being a gold outlet and nesting them? who can even think of that. Thankfully it wasn't over bakasura's plate. The ambience was last cleaned a decade back i guess. A cockroach just walked over our table. As it was alive, and well moving , the bakasura couldnt take a pic of it. Then the staff had to actually take it out of our table. Such ambience ? like what are you upto?\\n\\nBakasura disapproves. I dont even want to talk about the food.\"), ('Rated 4.0', 'RATED\\n  A nice place to hangout, this place looks professional and also cute. If anyone is trying churros for the first the time, this is the place to go. Cheesecake is pretty amazing too.\\nRecommended.'), ('Rated 4.0', 'RATED\\n  1) pizza mocktails shakes and churros really very good\\n2) staff good\\n3) ambience simple and nice good\\n4) location of San churro cafe very nice\\n5) over San churro cafe good....'), ('Rated 3.0', \"RATED\\n  One of my favourite places that I often visit in South bangalore , but quality has been reduced than before. Little unhappy with the food this time.\\nBut their churros never dissapointed me. Staff are too slow and do not respond easily.\\n\\nSoups:\\nMinestrone soup was like vegetable stock water with vegetables in it, not happy with it.\\n\\nChurros :\\nIt was great as usual. A must visit place if u love churros.\\n\\nStarters:\\n1. Africano panner -\\nIt was bit sweet and not happy with the dish!!\\n2. Loaded nachos -\\nThis happened to be their one of the best dishes, but now I take back my words. Very dissapointed with the dish.\\n\\nMain course:\\nsicilia pizza\\nPizza was too good, it's a must try dish.\\n\\nFinally I would recommend this place for churros and pizza .\\n\\nTaste : 6/10\\nAmbience :7/10\\nValue for money : 8/10\\n\\nOverall experience : 7.5/10\"), ('Rated 4.0', 'RATED\\n  Visited this place long before, place come to.notice with the decoration lights outside the cafe. We ordered churos, pizza and hot chocolate, all were good just I little priced more.'), ('Rated 4.0', 'RATED\\n  Spain pictures of Churros triggered Nostalgia about it , which led to Google search for Churro places in city , lucky we to get the result as San Churro cafe , we had an delectable churros here along with hot chocolate and Nachos ! Thanks for fulfilling our thirst of Spanish Churros !\\nFood : ???\\nChurros ???\\nHot Chocolate ?\\nNachos ??\\n\\nService : ??\\n\\nAmbiance : ?\\n\\nCleanliness : ??\\n\\nOne drawback : Store had some flies, I hope they take care of them for our next tour ?'), ('Rated 3.0', 'RATED\\n  Ã\\x83Ã\\x83Ã\\x82Ã\\x82Ã\\x83Ã\\x82Ã\\x82Ã\\x93Chocolaty and churroic experienceÃ\\x83Ã\\x83Ã\\x82Ã\\x82Ã\\x83Ã\\x82Ã\\x82Ã\\x94\\n\\nHit chocolate and churro with chocolate dip in the picture.\\n\\nMy first time at this restaurant and it has delivered in service, options as well as taste.'), ('Rated 4.0', 'RATED\\n  Though very sadly the place looks in need of retouching, but the food was great! Especially when it was super cold outside and we were super hungry, the staff was nice. We ordered the pink pasta and a pizza. Both of them were pretty good. Was really tempted to try their Churros but we were stuffed. Worth a visit and try for sure!'), ('Rated 3.0', \"RATED\\n  Churros, the restaurant's eponymous offering, has to be tried. They're a Mexican snack and served with chocolate sauce. Milkshakes are good too. The interior walls have murals and writings all over. Haven't tried the pizzas here but the cakes and pastries were pretty good.\"), ('Rated 3.0', \"RATED\\n  Honestly, have only tried parcels and that too only starters and mains - never tried desserts. So this review is based on starters and mains only. The quality wasn't all that great, was pretty average.\"), ('Rated 4.0', \"RATED\\n  Visited this place for the first time, recently. The ambience was pretty good. We ordered two 'churros for two'. Having churros for the first time ever, I was way too excited and judgmental. But swear to Lord, the churros were heavenly! The chocolate sauce was the actual chocolate sauce and not nutella xD We had taken the Cross Country Ranch pizza. It was a thin crust pizza loaded with veggies.\\nThe place is famous for churros (the name suggests so). I would love to visit again to try all the other items out :')\"), ('Rated 4.0', 'RATED\\n  I love the desserts more than anything here !Good place and well served !:)\\nWe dint like the nachos here , it was not that good as we expected !\\nExcept nachos almost all dish were quite good!'), ('Rated 2.0', \"RATED\\n  2nd time I have visited this place and I am surprised to see how it has declined. Churros was hard, pizza was pathetic, loaded nachos and masala Garlic bread were topped with cheese with MAYO! Yes mayonnese.. Soup has the bread crumbs in almost melted state, mocktails were average and our only Savior was pasta and caramel pudding... This place has high potential but let down by dull ambience, pretty slow and inattentive staff. Buffet price was listed as 399 but was charged 499, We still went ahead and took the deal to be very disappointed!! Most dishes were freshly cooked hence going with some starts else would rate them lower. I did not find a single person who seemed happy with their meal as moat complained about one thing or the other. That'll be my last visit San Churros.\")]",
         "[]",
         "Buffet",
         "Banashankari"
        ],
        [
         "3",
         "https://www.zomato.com/bangalore/addhuri-udupi-bhojana-banashankari?context=eyJzZSI6eyJlIjpbIjU4Njk0IiwiMTgzNzU0NzQiLCI1OTA5MCIsMTgzODI5NDQsIjE4MjI0Njc2IiwiNTkyODkiLCIxODM3MzM4NiJdLCJ0IjoiUmVzdGF1cmFudHMgaW4gQmFuYXNoYW5rYXJpIHNlcnZpbmcgQnVmZmV0In19",
         "1st Floor, Annakuteera, 3rd Stage, Banashankari, Bangalore",
         "Addhuri Udupi Bhojana",
         "No",
         "No",
         "3.7/5",
         "88",
         "+91 9620009302",
         "Banashankari",
         "Quick Bites",
         "Masala Dosa",
         "South Indian, North Indian",
         "300",
         "[('Rated 4.0', \"RATED\\n  Great food and proper Karnataka style full meals. Been there twice and was fully satisfied.. Will give 5 stars if it's well managed............\"), ('Rated 2.0', 'RATED\\n  Reached the place at 3pm on Saturday. Half of the items on the menu were over. What was annoying was is the food was cold. The taste was also very average. Only dosa and holige were good. There were very few people in the restaurant and the service was still very slow. The waiters were all standing in one corner and talking. Had to call them repeatedly.'), ('Rated 4.0', 'RATED\\n  Had been here, good food served and tasty,good place to go with freinds and family, should be first to get served well with all food. One of the good hotel there for this price.'), ('Rated 2.0', 'RATED\\n  How can a Udupi restaurant be so dirty.the floor the walls the waiters are all stained in food.Why cant they clean it? The floor even had decorative colour paper every where and lot of food.Now coming to the taste of the food- it was pretty decent for what they chargw.What upset us was the menu says they serve thambuli, two variety of rice etc but they were all over at 2.45 but they still charged us full amount.Lastly if u r ok to b seated with random people and adjust with their table manners( burrping etc) then tis place is decent for a quick veg udupi meals'), ('Rated 4.0', 'RATED\\n  Aadhuri Udupi bhojana is one of the best vegetarian hotel in and around Banashankari locality\\nwere we can enjoy the authentic south Karnataka style food.'), ('Rated 5.0', 'RATED\\n  One of the best restaurants for unlimited food. Price for one full unlimited meal is ?150 and the service is awesome here. If youÃ\\x83Ã\\x83Ã\\x82Ã\\x82Ã\\x83Ã\\x82Ã\\x82Ã\\x92re a costalian you will love the food served here.'), ('Rated 4.0', \"RATED\\n  Been here a couple of times. Highly satisfying on both the ocassions. Great food. Decent service. At price of 160 per person it is of a great value. The staff here serves in a traditional Mysore style dresses. The food is authentic Karnataka meals. I really liked the pineapple pickle/chutney. They serve some 4 varities of rice of which you shouldn't try all as you would already be full. Roti, Dosa were decent. In the deserts, Payasam& Holige were good.\\nI think it is one the must try places to try some authentic south food even if you have been to the likes of Kamath etc. this one is a little different. :)\"), ('Rated 5.0', 'RATED\\n  Very good restorent good south Indian food very nice all food s are good we spent good time and food in this hotel value of money we loved it'), ('Rated 3.5', 'RATED\\n  I went to this restaurant on Sunday afternoon.It was a bit crowded.\\n\\nIts located in the 1st floor Above anna kuteera kathriguppe\\n\\nYou need to take food coupon in the ground floor itself.\\nit was 160 rs.\\n\\nTaste wise it was good.\\nService was slow.\\nNothing exciting/different in the menu.\\nWhatever they serve its good.\\nWorth for money.'), ('Rated 5.0', 'RATED\\n  Awesome place , worth with price , quality , quantity , service , hygiene and discipline I loved it ???? wish there were more rating stars to give I give 100 on 5 for sure'), ('Rated 3.5', 'RATED\\n  Nice food, good ambiance, so many verity of food, this time i was in hurry so, next review will be detailed one. Its good to see all dishes at one place'), ('Rated 1.5', 'RATED\\n  The food was not satisfactory. Not one item served could be eaten again . Only advantage is the price but even that is not going to be enough to make me visit the place again . Dear Udupi staff people wouldnÃ\\x83Ã\\x83Ã\\x82Ã\\x82Ã\\x83Ã\\x82Ã\\x82Ã\\x92t mind if the food quality was better for a higher price and please get more fans so that people wonÃ\\x83Ã\\x83Ã\\x82Ã\\x82Ã\\x83Ã\\x82Ã\\x82Ã\\x92t have to deal with another disappointment of sweating while eating.'), ('Rated 5.0', 'RATED\\n  Excellent quality and taste, more variety of authentic south Indian food. Excellent service. Highly recommended. Worth the money we pay here.'), ('Rated 2.0', \"RATED\\n  I'm rating 2 only because of the large number of items they serve for the price they charge. While the taste is moderate, the biggest turn off is the poor service and totally unresponsive staff. They are either understaffed or poorly trained. I didn't get to taste a few items, thanks to their ever busy staff, and ended eating what was served. Please learn the crowd management from other peers like maiyya and roti ghar\"), ('Rated 5.0', 'RATED\\n  One of my colleagues suggested this place. Went there at 1 pm and place wasnt crowded. Ambience is decent and cool. A welcome drink \"appekai saru\" was served. Then started..typical \"baale yele uta\" . Diffrerent types of palya, kosambari and sides. Then came masala dosa, pulka,pulav, veg rice bath. Masala dosa was very very tasty. Service is bit fast as people will be coming, but they will make it slow if u tell them to. Then comes rice with sambar,rasam, daal,tambali. And yes, dont forget to eat holige,payasam and icecream. Service is very nice. One best thing is all of this comes in just 160 rs and its unlimited!!! What else you want!! A must visit place for south indian foodie!'), ('Rated 3.0', \"RATED\\n  Been here last week with high expectations based on few reviews. But utterly disappointed with the food quality & taste. I feel it's an overhyped place! There are many better places in the vicinity for Plantain leaf meal. There was too much of waiting & these staffs were too hurry in serving food & asking people to finish meal & leave quickly. I can understand there is a waiting and staffs should approach in a positive way. I will never go there again!\\n\\nbangaloreepicure.com\"), ('Rated 4.0', 'RATED\\n  I have a confession, being a south Indian I distaste south Indian food(not that I hate it, I don\\'t like it either).But still made up my mind on Sankaranti to have authentic south Indian food visited \"Adduri Udupi Bhojana\" because it was close to my place.I just had a look at the menu told myself that I can do it(I am not blessed with a tremendous appetite).welcomed with the mango soup followed by the wide variety of dishes served, I have developed the new love for Pongal(both sweet and Khara).I can still feel the taste of the ghee bursting in my mouth but it was\"kai holige\" that made my day, crisp and soft.not to forget food is served on a banana leaf that adds in more flavor and taste.waiters are attentive and responsive.The customer\\'s needs are monitored and addressed.so much variety for just 160Rs without compromising on quantity and quality and yes it is unlimited.This visit turned out to be a surprise package.'), ('Rated 3.5', 'RATED\\n  Food is good.\\nNo parking\\nAmbience is average\\nOverall its value for money if you looking for south Indian food.\\nPreferred the tiffin items......'), ('Rated 3.0', \"RATED\\n  Been here last week with high expectations based on few reviews. But utterly disappointed with the food quality & taste. I feel it's an overhyped place! There are many better places in the vicinity for Plantain leaf meal. There was too much of waiting & these staffs were too hurry in serving food & asking people to finish meal & leave quickly. I can understand there is a waiting and staffs should approach in a positive way. I will never go there again!\\n\\nbangaloreepicure.com\"), ('Rated 4.0', 'RATED\\n  I have a confession, being a south Indian I distaste south Indian food(not that I hate it, I don\\'t like it either).But still made up my mind on Sankaranti to have authentic south Indian food visited \"Adduri Udupi Bhojana\" because it was close to my place.I just had a look at the menu told myself that I can do it(I am not blessed with a tremendous appetite).welcomed with the mango soup followed by the wide variety of dishes served, I have developed the new love for Pongal(both sweet and Khara).I can still feel the taste of the ghee bursting in my mouth but it was\"kai holige\" that made my day, crisp and soft.not to forget food is served on a banana leaf that adds in more flavor and taste.waiters are attentive and responsive.The customer\\'s needs are monitored and addressed.so much variety for just 160Rs without compromising on quantity and quality and yes it is unlimited.This visit turned out to be a surprise package.'), ('Rated 3.5', 'RATED\\n  Food is good.\\nNo parking\\nAmbience is average\\nOverall its value for money if you looking for south Indian food.\\nPreferred the tiffin items......'), ('Rated 3.0', \"RATED\\n  Been here last week with high expectations based on few reviews. But utterly disappointed with the food quality & taste. I feel it's an overhyped place! There are many better places in the vicinity for Plantain leaf meal. There was too much of waiting & these staffs were too hurry in serving food & asking people to finish meal & leave quickly. I can understand there is a waiting and staffs should approach in a positive way. I will never go there again!\\n\\nbangaloreepicure.com\"), ('Rated 4.0', 'RATED\\n  I have a confession, being a south Indian I distaste south Indian food(not that I hate it, I don\\'t like it either).But still made up my mind on Sankaranti to have authentic south Indian food visited \"Adduri Udupi Bhojana\" because it was close to my place.I just had a look at the menu told myself that I can do it(I am not blessed with a tremendous appetite).welcomed with the mango soup followed by the wide variety of dishes served, I have developed the new love for Pongal(both sweet and Khara).I can still feel the taste of the ghee bursting in my mouth but it was\"kai holige\" that made my day, crisp and soft.not to forget food is served on a banana leaf that adds in more flavor and taste.waiters are attentive and responsive.The customer\\'s needs are monitored and addressed.so much variety for just 160Rs without compromising on quantity and quality and yes it is unlimited.This visit turned out to be a surprise package.'), ('Rated 3.5', 'RATED\\n  Food is good.\\nNo parking\\nAmbience is average\\nOverall its value for money if you looking for south Indian food.\\nPreferred the tiffin items......'), ('Rated 3.0', \"RATED\\n  Been here last week with high expectations based on few reviews. But utterly disappointed with the food quality & taste. I feel it's an overhyped place! There are many better places in the vicinity for Plantain leaf meal. There was too much of waiting & these staffs were too hurry in serving food & asking people to finish meal & leave quickly. I can understand there is a waiting and staffs should approach in a positive way. I will never go there again!\\n\\nbangaloreepicure.com\"), ('Rated 4.0', 'RATED\\n  I have a confession, being a south Indian I distaste south Indian food(not that I hate it, I don\\'t like it either).But still made up my mind on Sankaranti to have authentic south Indian food visited \"Adduri Udupi Bhojana\" because it was close to my place.I just had a look at the menu told myself that I can do it(I am not blessed with a tremendous appetite).welcomed with the mango soup followed by the wide variety of dishes served, I have developed the new love for Pongal(both sweet and Khara).I can still feel the taste of the ghee bursting in my mouth but it was\"kai holige\" that made my day, crisp and soft.not to forget food is served on a banana leaf that adds in more flavor and taste.waiters are attentive and responsive.The customer\\'s needs are monitored and addressed.so much variety for just 160Rs without compromising on quantity and quality and yes it is unlimited.This visit turned out to be a surprise package.'), ('Rated 3.5', 'RATED\\n  Food is good.\\nNo parking\\nAmbience is average\\nOverall its value for money if you looking for south Indian food.\\nPreferred the tiffin items......'), ('Rated 3.0', \"RATED\\n  Been here last week with high expectations based on few reviews. But utterly disappointed with the food quality & taste. I feel it's an overhyped place! There are many better places in the vicinity for Plantain leaf meal. There was too much of waiting & these staffs were too hurry in serving food & asking people to finish meal & leave quickly. I can understand there is a waiting and staffs should approach in a positive way. I will never go there again!\\n\\nbangaloreepicure.com\"), ('Rated 4.0', 'RATED\\n  I have a confession, being a south Indian I distaste south Indian food(not that I hate it, I don\\'t like it either).But still made up my mind on Sankaranti to have authentic south Indian food visited \"Adduri Udupi Bhojana\" because it was close to my place.I just had a look at the menu told myself that I can do it(I am not blessed with a tremendous appetite).welcomed with the mango soup followed by the wide variety of dishes served, I have developed the new love for Pongal(both sweet and Khara).I can still feel the taste of the ghee bursting in my mouth but it was\"kai holige\" that made my day, crisp and soft.not to forget food is served on a banana leaf that adds in more flavor and taste.waiters are attentive and responsive.The customer\\'s needs are monitored and addressed.so much variety for just 160Rs without compromising on quantity and quality and yes it is unlimited.This visit turned out to be a surprise package.'), ('Rated 3.5', 'RATED\\n  Food is good.\\nNo parking\\nAmbience is average\\nOverall its value for money if you looking for south Indian food.\\nPreferred the tiffin items......'), ('Rated 4.0', \"RATED\\n  Had been on a week night for an authentic south Indian food. I personally love being served on banyan leaf. The waiters are all dressed up in traditional Mysore attire wearing with a peta. The food was delicious and definitely worth it's price. The waiters are friendly and serve u well with a smile. The food is prepared without garlic which is a plus point attracting many senior customers.\"), ('Rated 3.5', \"RATED\\n  Food is good and enjoyed. With 150 Rs. is very nice.\\nNote: (It happen with us)\\n - If you going TWO people, you may need to share the table there. Its almost crowed.\\n - You have to sit where they ask, you can't choose even if all the table are empty. \\nJust wait, eat and come back.\"), ('Rated 5.0', 'RATED\\n  Excellent Ambience with delicious meals with 10-15 variety types. Worth paying for money and you can dine out if you are with more friends/relatives in home.'), ('Rated 4.5', 'RATED\\n  Very good and Unlimited . especially masala dosa . Service and ambience was also good. will visit again with friends . very very reasonble and wholesome food'), ('Rated 3.5', 'RATED\\n  Aaaa wt to tell, Unlimited food, food was like exactly like south indian marriage food, 2 soups, sides masala dosa, all were unlimited for just ?150, except ice cream in the end ?? they give a water bottle, and main thing is have patience to get place to sit..... ??,there is no parking place of this outlet, and difficult to park in front of the restaurants,')]",
         "[]",
         "Buffet",
         "Banashankari"
        ],
        [
         "4",
         "https://www.zomato.com/bangalore/grand-village-basavanagudi?context=eyJzZSI6eyJlIjpbIjU4Njk0IiwiMTgzNzU0NzQiLCI1OTA5MCIsIjE4MzgyOTQ0IiwxODIyNDY3NiwiNTkyODkiLCIxODM3MzM4NiJdLCJ0IjoiUmVzdGF1cmFudHMgaW4gQmFuYXNoYW5rYXJpIHNlcnZpbmcgQnVmZmV0In19",
         "10, 3rd Floor, Lakshmi Associates, Gandhi Bazaar Main Road, Above Reliance Trends, Basavanagudi, Bangalore",
         "Grand Village",
         "No",
         "No",
         "3.8/5",
         "166",
         "+91 8026612447\r\n+91 9901210005",
         "Basavanagudi",
         "Casual Dining",
         "Panipuri, Gol Gappe",
         "North Indian, Rajasthani",
         "600",
         "[('Rated 4.0', 'RATED\\n  Very good restaurant in neighbourhood. Buffet system is properly arranged. Variety of dishes along with garba dance and puppet show. Good spread of desserts. Live paratha / Kulcha making'), ('Rated 4.0', 'RATED\\n  Great service, overwhelming experience.\\n\\nOne of its kind experience. Grand village offers you some very desi food options.\\n\\nJaljeera, buttermilk, chat papdi, bhajiya, dosa, pav bhaji, noodles, and so many curries kulcha, roti, and garama garam Jalebies, gulab jamuns.\\n\\nBeautiful ambience of village. People serving with smiles and with full heart !!\\n\\nSo here goes my overall ratings :\\nFood : 4/5\\nAmbience : 3.5/5\\nService : 4/5\\nPocket friendly : 4/5')]",
         "[]",
         "Buffet",
         "Banashankari"
        ]
       ],
       "shape": {
        "columns": 17,
        "rows": 5
       }
      },
      "text/html": [
       "<div>\n",
       "<style scoped>\n",
       "    .dataframe tbody tr th:only-of-type {\n",
       "        vertical-align: middle;\n",
       "    }\n",
       "\n",
       "    .dataframe tbody tr th {\n",
       "        vertical-align: top;\n",
       "    }\n",
       "\n",
       "    .dataframe thead th {\n",
       "        text-align: right;\n",
       "    }\n",
       "</style>\n",
       "<table border=\"1\" class=\"dataframe\">\n",
       "  <thead>\n",
       "    <tr style=\"text-align: right;\">\n",
       "      <th></th>\n",
       "      <th>url</th>\n",
       "      <th>address</th>\n",
       "      <th>name</th>\n",
       "      <th>online_order</th>\n",
       "      <th>book_table</th>\n",
       "      <th>rate</th>\n",
       "      <th>votes</th>\n",
       "      <th>phone</th>\n",
       "      <th>location</th>\n",
       "      <th>rest_type</th>\n",
       "      <th>dish_liked</th>\n",
       "      <th>cuisines</th>\n",
       "      <th>approx_cost(for two people)</th>\n",
       "      <th>reviews_list</th>\n",
       "      <th>menu_item</th>\n",
       "      <th>listed_in(type)</th>\n",
       "      <th>listed_in(city)</th>\n",
       "    </tr>\n",
       "  </thead>\n",
       "  <tbody>\n",
       "    <tr>\n",
       "      <th>0</th>\n",
       "      <td>https://www.zomato.com/bangalore/jalsa-banasha...</td>\n",
       "      <td>942, 21st Main Road, 2nd Stage, Banashankari, ...</td>\n",
       "      <td>Jalsa</td>\n",
       "      <td>Yes</td>\n",
       "      <td>Yes</td>\n",
       "      <td>4.1/5</td>\n",
       "      <td>775</td>\n",
       "      <td>080 42297555\\r\\n+91 9743772233</td>\n",
       "      <td>Banashankari</td>\n",
       "      <td>Casual Dining</td>\n",
       "      <td>Pasta, Lunch Buffet, Masala Papad, Paneer Laja...</td>\n",
       "      <td>North Indian, Mughlai, Chinese</td>\n",
       "      <td>800</td>\n",
       "      <td>[('Rated 4.0', 'RATED\\n  A beautiful place to ...</td>\n",
       "      <td>[]</td>\n",
       "      <td>Buffet</td>\n",
       "      <td>Banashankari</td>\n",
       "    </tr>\n",
       "    <tr>\n",
       "      <th>1</th>\n",
       "      <td>https://www.zomato.com/bangalore/spice-elephan...</td>\n",
       "      <td>2nd Floor, 80 Feet Road, Near Big Bazaar, 6th ...</td>\n",
       "      <td>Spice Elephant</td>\n",
       "      <td>Yes</td>\n",
       "      <td>No</td>\n",
       "      <td>4.1/5</td>\n",
       "      <td>787</td>\n",
       "      <td>080 41714161</td>\n",
       "      <td>Banashankari</td>\n",
       "      <td>Casual Dining</td>\n",
       "      <td>Momos, Lunch Buffet, Chocolate Nirvana, Thai G...</td>\n",
       "      <td>Chinese, North Indian, Thai</td>\n",
       "      <td>800</td>\n",
       "      <td>[('Rated 4.0', 'RATED\\n  Had been here for din...</td>\n",
       "      <td>[]</td>\n",
       "      <td>Buffet</td>\n",
       "      <td>Banashankari</td>\n",
       "    </tr>\n",
       "    <tr>\n",
       "      <th>2</th>\n",
       "      <td>https://www.zomato.com/SanchurroBangalore?cont...</td>\n",
       "      <td>1112, Next to KIMS Medical College, 17th Cross...</td>\n",
       "      <td>San Churro Cafe</td>\n",
       "      <td>Yes</td>\n",
       "      <td>No</td>\n",
       "      <td>3.8/5</td>\n",
       "      <td>918</td>\n",
       "      <td>+91 9663487993</td>\n",
       "      <td>Banashankari</td>\n",
       "      <td>Cafe, Casual Dining</td>\n",
       "      <td>Churros, Cannelloni, Minestrone Soup, Hot Choc...</td>\n",
       "      <td>Cafe, Mexican, Italian</td>\n",
       "      <td>800</td>\n",
       "      <td>[('Rated 3.0', \"RATED\\n  Ambience is not that ...</td>\n",
       "      <td>[]</td>\n",
       "      <td>Buffet</td>\n",
       "      <td>Banashankari</td>\n",
       "    </tr>\n",
       "    <tr>\n",
       "      <th>3</th>\n",
       "      <td>https://www.zomato.com/bangalore/addhuri-udupi...</td>\n",
       "      <td>1st Floor, Annakuteera, 3rd Stage, Banashankar...</td>\n",
       "      <td>Addhuri Udupi Bhojana</td>\n",
       "      <td>No</td>\n",
       "      <td>No</td>\n",
       "      <td>3.7/5</td>\n",
       "      <td>88</td>\n",
       "      <td>+91 9620009302</td>\n",
       "      <td>Banashankari</td>\n",
       "      <td>Quick Bites</td>\n",
       "      <td>Masala Dosa</td>\n",
       "      <td>South Indian, North Indian</td>\n",
       "      <td>300</td>\n",
       "      <td>[('Rated 4.0', \"RATED\\n  Great food and proper...</td>\n",
       "      <td>[]</td>\n",
       "      <td>Buffet</td>\n",
       "      <td>Banashankari</td>\n",
       "    </tr>\n",
       "    <tr>\n",
       "      <th>4</th>\n",
       "      <td>https://www.zomato.com/bangalore/grand-village...</td>\n",
       "      <td>10, 3rd Floor, Lakshmi Associates, Gandhi Baza...</td>\n",
       "      <td>Grand Village</td>\n",
       "      <td>No</td>\n",
       "      <td>No</td>\n",
       "      <td>3.8/5</td>\n",
       "      <td>166</td>\n",
       "      <td>+91 8026612447\\r\\n+91 9901210005</td>\n",
       "      <td>Basavanagudi</td>\n",
       "      <td>Casual Dining</td>\n",
       "      <td>Panipuri, Gol Gappe</td>\n",
       "      <td>North Indian, Rajasthani</td>\n",
       "      <td>600</td>\n",
       "      <td>[('Rated 4.0', 'RATED\\n  Very good restaurant ...</td>\n",
       "      <td>[]</td>\n",
       "      <td>Buffet</td>\n",
       "      <td>Banashankari</td>\n",
       "    </tr>\n",
       "  </tbody>\n",
       "</table>\n",
       "</div>"
      ],
      "text/plain": [
       "                                                 url  \\\n",
       "0  https://www.zomato.com/bangalore/jalsa-banasha...   \n",
       "1  https://www.zomato.com/bangalore/spice-elephan...   \n",
       "2  https://www.zomato.com/SanchurroBangalore?cont...   \n",
       "3  https://www.zomato.com/bangalore/addhuri-udupi...   \n",
       "4  https://www.zomato.com/bangalore/grand-village...   \n",
       "\n",
       "                                             address                   name  \\\n",
       "0  942, 21st Main Road, 2nd Stage, Banashankari, ...                  Jalsa   \n",
       "1  2nd Floor, 80 Feet Road, Near Big Bazaar, 6th ...         Spice Elephant   \n",
       "2  1112, Next to KIMS Medical College, 17th Cross...        San Churro Cafe   \n",
       "3  1st Floor, Annakuteera, 3rd Stage, Banashankar...  Addhuri Udupi Bhojana   \n",
       "4  10, 3rd Floor, Lakshmi Associates, Gandhi Baza...          Grand Village   \n",
       "\n",
       "  online_order book_table   rate  votes                             phone  \\\n",
       "0          Yes        Yes  4.1/5    775    080 42297555\\r\\n+91 9743772233   \n",
       "1          Yes         No  4.1/5    787                      080 41714161   \n",
       "2          Yes         No  3.8/5    918                    +91 9663487993   \n",
       "3           No         No  3.7/5     88                    +91 9620009302   \n",
       "4           No         No  3.8/5    166  +91 8026612447\\r\\n+91 9901210005   \n",
       "\n",
       "       location            rest_type  \\\n",
       "0  Banashankari        Casual Dining   \n",
       "1  Banashankari        Casual Dining   \n",
       "2  Banashankari  Cafe, Casual Dining   \n",
       "3  Banashankari          Quick Bites   \n",
       "4  Basavanagudi        Casual Dining   \n",
       "\n",
       "                                          dish_liked  \\\n",
       "0  Pasta, Lunch Buffet, Masala Papad, Paneer Laja...   \n",
       "1  Momos, Lunch Buffet, Chocolate Nirvana, Thai G...   \n",
       "2  Churros, Cannelloni, Minestrone Soup, Hot Choc...   \n",
       "3                                        Masala Dosa   \n",
       "4                                Panipuri, Gol Gappe   \n",
       "\n",
       "                         cuisines approx_cost(for two people)  \\\n",
       "0  North Indian, Mughlai, Chinese                         800   \n",
       "1     Chinese, North Indian, Thai                         800   \n",
       "2          Cafe, Mexican, Italian                         800   \n",
       "3      South Indian, North Indian                         300   \n",
       "4        North Indian, Rajasthani                         600   \n",
       "\n",
       "                                        reviews_list menu_item  \\\n",
       "0  [('Rated 4.0', 'RATED\\n  A beautiful place to ...        []   \n",
       "1  [('Rated 4.0', 'RATED\\n  Had been here for din...        []   \n",
       "2  [('Rated 3.0', \"RATED\\n  Ambience is not that ...        []   \n",
       "3  [('Rated 4.0', \"RATED\\n  Great food and proper...        []   \n",
       "4  [('Rated 4.0', 'RATED\\n  Very good restaurant ...        []   \n",
       "\n",
       "  listed_in(type) listed_in(city)  \n",
       "0          Buffet    Banashankari  \n",
       "1          Buffet    Banashankari  \n",
       "2          Buffet    Banashankari  \n",
       "3          Buffet    Banashankari  \n",
       "4          Buffet    Banashankari  "
      ]
     },
     "execution_count": 62,
     "metadata": {},
     "output_type": "execute_result"
    }
   ],
   "source": [
    "df.head()  # Display the first few rows of the DataFrame"
   ]
  },
  {
   "cell_type": "code",
   "execution_count": 63,
   "id": "23a3af0d",
   "metadata": {},
   "outputs": [
    {
     "data": {
      "application/vnd.microsoft.datawrangler.viewer.v0+json": {
       "columns": [
        {
         "name": "index",
         "rawType": "int64",
         "type": "integer"
        },
        {
         "name": "url",
         "rawType": "object",
         "type": "string"
        },
        {
         "name": "address",
         "rawType": "object",
         "type": "string"
        },
        {
         "name": "name",
         "rawType": "object",
         "type": "string"
        },
        {
         "name": "online_order",
         "rawType": "object",
         "type": "string"
        },
        {
         "name": "book_table",
         "rawType": "object",
         "type": "string"
        },
        {
         "name": "rate",
         "rawType": "object",
         "type": "unknown"
        },
        {
         "name": "votes",
         "rawType": "int64",
         "type": "integer"
        },
        {
         "name": "phone",
         "rawType": "object",
         "type": "unknown"
        },
        {
         "name": "location",
         "rawType": "object",
         "type": "string"
        },
        {
         "name": "rest_type",
         "rawType": "object",
         "type": "string"
        },
        {
         "name": "dish_liked",
         "rawType": "object",
         "type": "unknown"
        },
        {
         "name": "cuisines",
         "rawType": "object",
         "type": "string"
        },
        {
         "name": "approx_cost(for two people)",
         "rawType": "object",
         "type": "string"
        },
        {
         "name": "reviews_list",
         "rawType": "object",
         "type": "string"
        },
        {
         "name": "menu_item",
         "rawType": "object",
         "type": "string"
        },
        {
         "name": "listed_in(type)",
         "rawType": "object",
         "type": "string"
        },
        {
         "name": "listed_in(city)",
         "rawType": "object",
         "type": "string"
        }
       ],
       "ref": "02bf76bf-73e5-434c-8a07-660724dcab4c",
       "rows": [
        [
         "51712",
         "https://www.zomato.com/bangalore/best-brews-four-points-by-sheraton-bengaluru-whitefield-whitefield?context=eyJzZSI6eyJlIjpbIjUyMzA2IiwiMTg2NTEzNTciLCIxODYwMjQ3OCIsIjE4MjkwMDUyIiw1ODM1NCwiMTg3NDExMjkiLCIxODY2MTA0MCIsIjE4NjYxMDg0IiwiMTg2OTA4MzciXSwidCI6IlB1YnMgJmFtcDsgQmFycyBpbiBXaGl0ZWZpZWxkIn19",
         "Four Points by Sheraton Bengaluru, 43/3, Whitefield Main Road, Whitefield, Bangalore",
         "Best Brews - Four Points by Sheraton Bengaluru...",
         "No",
         "No",
         "3.6 /5",
         "27",
         "080 40301477",
         "Whitefield",
         "Bar",
         null,
         "Continental",
         "1,500",
         "[('Rated 5.0', \"RATED\\n  Food and service are incomparably excellent. The service staff are attentive, polite, and always willing to go the extra mile to help. Sovon and Girish (pictured) are friendly and always helpful. I am here long term and I'm happy to have such an amazing group taking care of me.\"), ('Rated 3.5', \"RATED\\n  Decent food. Small Cody place. Can't complaint much cuz we got a good deal with Nearby. Their satay chicken is a must try. Peanut sauce was perfect. Good food, good service. But it lacks the vibe.\"), ('Rated 2.5', 'RATED\\n  Been for dinner buffet. Ambiance is very good. But food not as expected. Options are very less. Veg is pretty bad. Non veg is average. Desserts ok. Overall not satisfied.'), ('Rated 3.5', \"RATED\\n  Nice UpMKT place in Whitefield. Enjoyed my privacy and decor. Needed Alone time. but have to visit on weekend to check the place' real vibe .\"), ('Rated 5.0', 'RATED\\n  Best brew wall pictures and Ambient very nice.we had party last with my friends ,we have enjoyed party.bar attender has taken special care .\\nfood was tasty .'), ('Rated 5.0', 'RATED\\n  Good place to have cocktail parties,very courteous staff and awesome food.\\n\\nVery best location to have  dinner parties  in the Whitefield area.'), ('Rated 4.5', \"RATED\\n  Great ambiance and a good place to hangout in whitefield. Not just do they serve some delicious cocktails but also serve some great mocktails which not many bars do. So people like me who don't take alcohol can unwind with a glass of cocktails.\"), ('Rated 5.0', 'RATED\\n  Specially crafted innovative cocktails  steals the show. Ambience and the wall paintings reminds of old Bangalore. Nice quite place to enjoy drink out of the hassles from the city.'), ('Rated 5.0', 'RATED\\n  Great Ambiance reminds of the Old Bangalore a good variety of Cocktails and the Bartenders specialty to present in the most professional manner.'), ('Rated 5.0', 'RATED\\n  Service is very nice. Staff service was good. Ambience ok. Samshad took care everything very nicely and made evening very comfortable. Very calm and cool place to spend an evening.'), ('Rated 3.0', 'RATED\\n  They have arranged Valentine at poolside rooftop. Ambiance needs to be taken care .The place is nice but can be done in more nicer way. Finner things are missing so the table overlays. Food was just average and so the display. Food has been a problem with this hotel from the day of inception. But all succeeds the extra ordinary service by F & B team. Great guys and kudos to them. So much energy . Samshad was just awesome. His attitude, conversation all was super .He has gone out of the way to most of the tables to assist all the guest. Keep it up'), ('Rated 4.5', 'RATED\\n  @When I entered the bar, the Interier decoration specially the wall painting touched a lot to me.the concept of bar also nice.variety of sitting arrangement.well planned everything.staff also friendly and smiley,specially pankaj and deepak.'), ('Rated 5.0', 'RATED\\n  Do visit to try out best & innovative cocktails with crazy, yet cool. Stylish & creative. They know there job best to make sure every customer walkout with smile. Kudos to the team.'), ('Rated 5.0', 'RATED\\n  This is the best bar in Whitefield area they have awsome cocktails and some newly started starter it was really great time which I have spent with my friends.'), ('Rated 1.0', 'RATED\\n  Thought of a perfect dinner party and gone to Four seasons by sherton at Whitefeild on last week..Buffet served in Dinner was pathetic..Starters were sogy and not at all tasty..Main course and desserts also was poor.Not at all recommended..Total waste of money. :('), ('Rated 3.5', 'RATED\\n  Yet to start full fledged menu')]",
         "[]",
         "Pubs and bars",
         "Whitefield"
        ],
        [
         "51713",
         "https://www.zomato.com/bangalore/vinod-bar-and-restaurant-whitefield-bangalore?context=eyJzZSI6eyJlIjpbIjE4NjUxMzU3IiwiMTg2MDI0NzgiLCIxODI5MDA1MiIsIjU4MzU0IiwxODc0MTEyOSwiMTg2NjEwNDAiLCIxODY2MTA4NCIsIjE4NjkwODM3Il0sInQiOiJQdWJzICZhbXA7IEJhcnMgaW4gV2hpdGVmaWVsZCJ9fQ==",
         "Number 10, Garudachar Palya, Mahadevapura, Whitefield, Bengaluru",
         "Vinod Bar And Restaurant",
         "No",
         "No",
         null,
         "0",
         "+91 8197675843",
         "Whitefield",
         "Bar",
         null,
         "Finger Food",
         "600",
         "[]",
         "[]",
         "Pubs and bars",
         "Whitefield"
        ],
        [
         "51714",
         "https://www.zomato.com/bangalore/plunge-sheraton-grand-bengaluru-whitefield-hotel-convention-centre-whitefield-bangalore?context=eyJzZSI6eyJlIjpbIjE4NjAyNDc4IiwiMTgyOTAwNTIiLCI1ODM1NCIsIjE4NzQxMTI5IiwxODY2MTA0MCwiMTg2NjEwODQiLCIxODY5MDgzNyJdLCJ0IjoiUHVicyAmYW1wOyBCYXJzIGluIFdoaXRlZmllbGQifX0=",
         "Sheraton Grand Bengaluru Whitefield Hotel & Convention Centre, Prestige Shantiniketan, Whitefield, Bangalore",
         "Plunge - Sheraton Grand Bengaluru Whitefield Hotel &...",
         "No",
         "No",
         null,
         "0",
         null,
         "Whitefield",
         "Bar",
         null,
         "Finger Food",
         "2,000",
         "[]",
         "[]",
         "Pubs and bars",
         "Whitefield"
        ],
        [
         "51715",
         "https://www.zomato.com/bangalore/chime-sheraton-grand-bengaluru-whitefield-hotel-convention-centre-itpl-main-road-whitefield-bangalore?context=eyJzZSI6eyJlIjpbIjE4MjkwMDUyIiwiNTgzNTQiLCIxODc0MTEyOSIsIjE4NjYxMDQwIiwxODY2MTA4NCwiMTg2OTA4MzciXSwidCI6IlB1YnMgJmFtcDsgQmFycyBpbiBXaGl0ZWZpZWxkIn19",
         "Sheraton Grand Bengaluru Whitefield Hotel & Convention Centre, Prestige Shantiniketan, ITPL Main Road, Whitefield",
         "Chime - Sheraton Grand Bengaluru Whitefield Hotel &...",
         "No",
         "Yes",
         "4.3 /5",
         "236",
         "080 49652769",
         "ITPL Main Road, Whitefield",
         "Bar",
         "Cocktails, Pizza, Buttermilk",
         "Finger Food",
         "2,500",
         "[('Rated 4.0', 'RATED\\n  Nice and friendly place and staff is awesome. Ansur and karaoke singer is too good and Friday nights are The best night to visit this place. Drinks and food menu as usual match the service'), ('Rated 1.0', 'RATED\\n  The service is bad. We ordered 4 Stella Artois and they gave us expired bottles. When we asked them to replace it they were reluctant about it and asked me to drink the same bottle. However they changed it later after hassle. They billed us for food which we didnt eat also. They said they will call later but no response.\\nOrdered food from Feast(their restaurant) and the quality was fine. Their paneer and daal were good but checken pizza was uncooked and soggy. Their non veg platter was amazing though. Their mocktails are below average.\\nSuch kind of food and service is not expected from Sheraton.'), ('Rated 5.0', 'RATED\\n  Nice bar inside Sheraton. The hosts are friendly and helpful, service is quick. You can use marriot rewards here to earn discount and rewards'), ('Rated 5.0', \"RATED\\n  My review based on food drink service\\n\\nFood:- food was very good especially presentation of their food make you feel wow thanks to chef for their hard work it's truly awesome in taste\\n\\nDrink :- normally very few start hotel have good collection of cocktail this is the best Ã\\x83Ã\\x83Ã\\x82Ã\\x83Ã\\x83Ã\\x82Ã\\x82ÃÂ°Ã\\x83Ã\\x83Ã\\x82Ã\\x82Ã\\x83Ã\\x82Ã\\x82Ã\\x9fÃ\\x83Ã\\x83Ã\\x82Ã\\x82Ã\\x83Ã\\x82Ã\\x82Ã\\x8cÃ\\x83Ã\\x83Ã\\x82Ã\\x82Ã\\x83Ã\\x82Ã\\x82Ã\\x9f Ã\\x83Ã\\x83Ã\\x82Ã\\x83Ã\\x83Ã\\x82Ã\\x82ÃÂ°Ã\\x83Ã\\x83Ã\\x82Ã\\x82Ã\\x83Ã\\x82Ã\\x82Ã\\x9fÃ\\x83Ã\\x83Ã\\x82Ã\\x82Ã\\x83Ã\\x82Ã\\x82Ã\\x8cÃ\\x83Ã\\x83Ã\\x82Ã\\x82Ã\\x83Ã\\x82Ã\\x82Ã\\x9f Ã\\x83Ã\\x83Ã\\x82Ã\\x83Ã\\x83Ã\\x82Ã\\x82ÃÂ°Ã\\x83Ã\\x83Ã\\x82Ã\\x82Ã\\x83Ã\\x82Ã\\x82Ã\\x9fÃ\\x83Ã\\x83Ã\\x82Ã\\x82Ã\\x83Ã\\x82Ã\\x82Ã\\x8cÃ\\x83Ã\\x83Ã\\x82Ã\\x82Ã\\x83Ã\\x82Ã\\x82Ã\\x9f Ã\\x83Ã\\x83Ã\\x82Ã\\x83Ã\\x83Ã\\x82Ã\\x82ÃÂ°Ã\\x83Ã\\x83Ã\\x82Ã\\x82Ã\\x83Ã\\x82Ã\\x82Ã\\x9fÃ\\x83Ã\\x83Ã\\x82Ã\\x82Ã\\x83Ã\\x82Ã\\x82Ã\\x8cÃ\\x83Ã\\x83Ã\\x82Ã\\x82Ã\\x83Ã\\x82Ã\\x82Ã\\x9f Ã\\x83Ã\\x83Ã\\x82Ã\\x83Ã\\x83Ã\\x82Ã\\x82ÃÂ°Ã\\x83Ã\\x83Ã\\x82Ã\\x82Ã\\x83Ã\\x82Ã\\x82Ã\\x9fÃ\\x83Ã\\x83Ã\\x82Ã\\x82Ã\\x83Ã\\x82Ã\\x82Ã\\x8cÃ\\x83Ã\\x83Ã\\x82Ã\\x82Ã\\x83Ã\\x82Ã\\x82Ã\\x9f hotel where you will get good cocktail and bartender #AMIYA# if you are cocktail lover like me he is right person to make your drink I have tried out of the menu some cocktail I don't remember the name but I remember old fashioned but gin base here is the twist I liked thanks for good cocktail\\n\\nService:- as usual hotel service I am personally like very much because they are more professional to their work so no bad thing I have found on their service thanks for good service they made my day\\n\\nWe will visit again I will suggest everyone to visit once\"), ('Rated 5.0', 'RATED\\n  I visited chime bar at Sheraton hotel it was nice experience they making nice cocktail with nice food.i recommend to this hotel for visite and enjoy experience. Thanks to Ruben and amiya for service'), ('Rated 4.0', 'RATED\\n  This restaurant is situated inside grand Sheraton hotel. This place is quite luxurious. Food quality and service are really high with a luxurious ambience. But this place is purely recommended for business lunch or dinner or for some high level party.')]",
         "[]",
         "Pubs and bars",
         "Whitefield"
        ],
        [
         "51716",
         "https://www.zomato.com/bangalore/the-nest-the-den-bengaluru-itpl-main-road-whitefield-bangalore?context=eyJzZSI6eyJlIjpbIjU4MzU0IiwiMTg3NDExMjkiLCIxODY2MTA0MCIsIjE4NjYxMDg0IiwxODY5MDgzN10sInQiOiJQdWJzICZhbXA7IEJhcnMgaW4gV2hpdGVmaWVsZCJ9fQ==",
         "ITPL Main Road, KIADB Export Promotion Industrial Area, ITPL Main Road, Whitefield",
         "The Nest - The Den Bengaluru",
         "No",
         "No",
         "3.4 /5",
         "13",
         "+91 8071117272",
         "ITPL Main Road, Whitefield",
         "Bar, Casual Dining",
         null,
         "Finger Food, North Indian, Continental",
         "1,500",
         "[('Rated 5.0', 'RATED\\n  Great ambience , looking nice good selection of food and cocktail all staffs are good and friendly Specially thanks to Ms. HELEN who take care our table ...Ã\\x83Ã\\x83Ã\\x82Ã\\x83Ã\\x83Ã\\x82Ã\\x82ÃÂ°Ã\\x83Ã\\x83Ã\\x82Ã\\x82Ã\\x83Ã\\x82Ã\\x82Ã\\x9fÃ\\x83Ã\\x83Ã\\x82Ã\\x82Ã\\x83Ã\\x82Ã\\x82Ã\\x98Ã\\x83Ã\\x83Ã\\x82Ã\\x82Ã\\x83Ã\\x82Ã\\x82Ã\\x98Ã\\x83Ã\\x83Ã\\x82Ã\\x83Ã\\x83Ã\\x82Ã\\x82ÃÂ°Ã\\x83Ã\\x83Ã\\x82Ã\\x82Ã\\x83Ã\\x82Ã\\x82Ã\\x9fÃ\\x83Ã\\x83Ã\\x82Ã\\x82Ã\\x83Ã\\x82Ã\\x82Ã\\x98Ã\\x83Ã\\x83Ã\\x82Ã\\x82Ã\\x83Ã\\x82Ã\\x82Ã\\x98'), ('Rated 5.0', 'RATED\\n  The nest is one of the best bar in Whitefield.The place is absolutely mind blowing and the ambiance here is also amazing.I would recommend this place for best cocktail and mocktails which really refreshing.The food was really good and the staffs are very kind and quick as well .I would specially thanks to miss Helen for making my evening very special.')]",
         "[]",
         "Pubs and bars",
         "Whitefield"
        ]
       ],
       "shape": {
        "columns": 17,
        "rows": 5
       }
      },
      "text/html": [
       "<div>\n",
       "<style scoped>\n",
       "    .dataframe tbody tr th:only-of-type {\n",
       "        vertical-align: middle;\n",
       "    }\n",
       "\n",
       "    .dataframe tbody tr th {\n",
       "        vertical-align: top;\n",
       "    }\n",
       "\n",
       "    .dataframe thead th {\n",
       "        text-align: right;\n",
       "    }\n",
       "</style>\n",
       "<table border=\"1\" class=\"dataframe\">\n",
       "  <thead>\n",
       "    <tr style=\"text-align: right;\">\n",
       "      <th></th>\n",
       "      <th>url</th>\n",
       "      <th>address</th>\n",
       "      <th>name</th>\n",
       "      <th>online_order</th>\n",
       "      <th>book_table</th>\n",
       "      <th>rate</th>\n",
       "      <th>votes</th>\n",
       "      <th>phone</th>\n",
       "      <th>location</th>\n",
       "      <th>rest_type</th>\n",
       "      <th>dish_liked</th>\n",
       "      <th>cuisines</th>\n",
       "      <th>approx_cost(for two people)</th>\n",
       "      <th>reviews_list</th>\n",
       "      <th>menu_item</th>\n",
       "      <th>listed_in(type)</th>\n",
       "      <th>listed_in(city)</th>\n",
       "    </tr>\n",
       "  </thead>\n",
       "  <tbody>\n",
       "    <tr>\n",
       "      <th>51712</th>\n",
       "      <td>https://www.zomato.com/bangalore/best-brews-fo...</td>\n",
       "      <td>Four Points by Sheraton Bengaluru, 43/3, White...</td>\n",
       "      <td>Best Brews - Four Points by Sheraton Bengaluru...</td>\n",
       "      <td>No</td>\n",
       "      <td>No</td>\n",
       "      <td>3.6 /5</td>\n",
       "      <td>27</td>\n",
       "      <td>080 40301477</td>\n",
       "      <td>Whitefield</td>\n",
       "      <td>Bar</td>\n",
       "      <td>NaN</td>\n",
       "      <td>Continental</td>\n",
       "      <td>1,500</td>\n",
       "      <td>[('Rated 5.0', \"RATED\\n  Food and service are ...</td>\n",
       "      <td>[]</td>\n",
       "      <td>Pubs and bars</td>\n",
       "      <td>Whitefield</td>\n",
       "    </tr>\n",
       "    <tr>\n",
       "      <th>51713</th>\n",
       "      <td>https://www.zomato.com/bangalore/vinod-bar-and...</td>\n",
       "      <td>Number 10, Garudachar Palya, Mahadevapura, Whi...</td>\n",
       "      <td>Vinod Bar And Restaurant</td>\n",
       "      <td>No</td>\n",
       "      <td>No</td>\n",
       "      <td>NaN</td>\n",
       "      <td>0</td>\n",
       "      <td>+91 8197675843</td>\n",
       "      <td>Whitefield</td>\n",
       "      <td>Bar</td>\n",
       "      <td>NaN</td>\n",
       "      <td>Finger Food</td>\n",
       "      <td>600</td>\n",
       "      <td>[]</td>\n",
       "      <td>[]</td>\n",
       "      <td>Pubs and bars</td>\n",
       "      <td>Whitefield</td>\n",
       "    </tr>\n",
       "    <tr>\n",
       "      <th>51714</th>\n",
       "      <td>https://www.zomato.com/bangalore/plunge-sherat...</td>\n",
       "      <td>Sheraton Grand Bengaluru Whitefield Hotel &amp; Co...</td>\n",
       "      <td>Plunge - Sheraton Grand Bengaluru Whitefield H...</td>\n",
       "      <td>No</td>\n",
       "      <td>No</td>\n",
       "      <td>NaN</td>\n",
       "      <td>0</td>\n",
       "      <td>NaN</td>\n",
       "      <td>Whitefield</td>\n",
       "      <td>Bar</td>\n",
       "      <td>NaN</td>\n",
       "      <td>Finger Food</td>\n",
       "      <td>2,000</td>\n",
       "      <td>[]</td>\n",
       "      <td>[]</td>\n",
       "      <td>Pubs and bars</td>\n",
       "      <td>Whitefield</td>\n",
       "    </tr>\n",
       "    <tr>\n",
       "      <th>51715</th>\n",
       "      <td>https://www.zomato.com/bangalore/chime-sherato...</td>\n",
       "      <td>Sheraton Grand Bengaluru Whitefield Hotel &amp; Co...</td>\n",
       "      <td>Chime - Sheraton Grand Bengaluru Whitefield Ho...</td>\n",
       "      <td>No</td>\n",
       "      <td>Yes</td>\n",
       "      <td>4.3 /5</td>\n",
       "      <td>236</td>\n",
       "      <td>080 49652769</td>\n",
       "      <td>ITPL Main Road, Whitefield</td>\n",
       "      <td>Bar</td>\n",
       "      <td>Cocktails, Pizza, Buttermilk</td>\n",
       "      <td>Finger Food</td>\n",
       "      <td>2,500</td>\n",
       "      <td>[('Rated 4.0', 'RATED\\n  Nice and friendly pla...</td>\n",
       "      <td>[]</td>\n",
       "      <td>Pubs and bars</td>\n",
       "      <td>Whitefield</td>\n",
       "    </tr>\n",
       "    <tr>\n",
       "      <th>51716</th>\n",
       "      <td>https://www.zomato.com/bangalore/the-nest-the-...</td>\n",
       "      <td>ITPL Main Road, KIADB Export Promotion Industr...</td>\n",
       "      <td>The Nest - The Den Bengaluru</td>\n",
       "      <td>No</td>\n",
       "      <td>No</td>\n",
       "      <td>3.4 /5</td>\n",
       "      <td>13</td>\n",
       "      <td>+91 8071117272</td>\n",
       "      <td>ITPL Main Road, Whitefield</td>\n",
       "      <td>Bar, Casual Dining</td>\n",
       "      <td>NaN</td>\n",
       "      <td>Finger Food, North Indian, Continental</td>\n",
       "      <td>1,500</td>\n",
       "      <td>[('Rated 5.0', 'RATED\\n  Great ambience , look...</td>\n",
       "      <td>[]</td>\n",
       "      <td>Pubs and bars</td>\n",
       "      <td>Whitefield</td>\n",
       "    </tr>\n",
       "  </tbody>\n",
       "</table>\n",
       "</div>"
      ],
      "text/plain": [
       "                                                     url  \\\n",
       "51712  https://www.zomato.com/bangalore/best-brews-fo...   \n",
       "51713  https://www.zomato.com/bangalore/vinod-bar-and...   \n",
       "51714  https://www.zomato.com/bangalore/plunge-sherat...   \n",
       "51715  https://www.zomato.com/bangalore/chime-sherato...   \n",
       "51716  https://www.zomato.com/bangalore/the-nest-the-...   \n",
       "\n",
       "                                                 address  \\\n",
       "51712  Four Points by Sheraton Bengaluru, 43/3, White...   \n",
       "51713  Number 10, Garudachar Palya, Mahadevapura, Whi...   \n",
       "51714  Sheraton Grand Bengaluru Whitefield Hotel & Co...   \n",
       "51715  Sheraton Grand Bengaluru Whitefield Hotel & Co...   \n",
       "51716  ITPL Main Road, KIADB Export Promotion Industr...   \n",
       "\n",
       "                                                    name online_order  \\\n",
       "51712  Best Brews - Four Points by Sheraton Bengaluru...           No   \n",
       "51713                           Vinod Bar And Restaurant           No   \n",
       "51714  Plunge - Sheraton Grand Bengaluru Whitefield H...           No   \n",
       "51715  Chime - Sheraton Grand Bengaluru Whitefield Ho...           No   \n",
       "51716                       The Nest - The Den Bengaluru           No   \n",
       "\n",
       "      book_table    rate  votes           phone                    location  \\\n",
       "51712         No  3.6 /5     27    080 40301477                  Whitefield   \n",
       "51713         No     NaN      0  +91 8197675843                  Whitefield   \n",
       "51714         No     NaN      0             NaN                  Whitefield   \n",
       "51715        Yes  4.3 /5    236    080 49652769  ITPL Main Road, Whitefield   \n",
       "51716         No  3.4 /5     13  +91 8071117272  ITPL Main Road, Whitefield   \n",
       "\n",
       "                rest_type                    dish_liked  \\\n",
       "51712                 Bar                           NaN   \n",
       "51713                 Bar                           NaN   \n",
       "51714                 Bar                           NaN   \n",
       "51715                 Bar  Cocktails, Pizza, Buttermilk   \n",
       "51716  Bar, Casual Dining                           NaN   \n",
       "\n",
       "                                     cuisines approx_cost(for two people)  \\\n",
       "51712                             Continental                       1,500   \n",
       "51713                             Finger Food                         600   \n",
       "51714                             Finger Food                       2,000   \n",
       "51715                             Finger Food                       2,500   \n",
       "51716  Finger Food, North Indian, Continental                       1,500   \n",
       "\n",
       "                                            reviews_list menu_item  \\\n",
       "51712  [('Rated 5.0', \"RATED\\n  Food and service are ...        []   \n",
       "51713                                                 []        []   \n",
       "51714                                                 []        []   \n",
       "51715  [('Rated 4.0', 'RATED\\n  Nice and friendly pla...        []   \n",
       "51716  [('Rated 5.0', 'RATED\\n  Great ambience , look...        []   \n",
       "\n",
       "      listed_in(type) listed_in(city)  \n",
       "51712   Pubs and bars      Whitefield  \n",
       "51713   Pubs and bars      Whitefield  \n",
       "51714   Pubs and bars      Whitefield  \n",
       "51715   Pubs and bars      Whitefield  \n",
       "51716   Pubs and bars      Whitefield  "
      ]
     },
     "execution_count": 63,
     "metadata": {},
     "output_type": "execute_result"
    }
   ],
   "source": [
    "df.tail()  # Display the last few rows of the DataFrame"
   ]
  },
  {
   "cell_type": "code",
   "execution_count": 64,
   "id": "53d95260",
   "metadata": {},
   "outputs": [
    {
     "data": {
      "text/plain": [
       "Index(['url', 'address', 'name', 'online_order', 'book_table', 'rate', 'votes',\n",
       "       'phone', 'location', 'rest_type', 'dish_liked', 'cuisines',\n",
       "       'approx_cost(for two people)', 'reviews_list', 'menu_item',\n",
       "       'listed_in(type)', 'listed_in(city)'],\n",
       "      dtype='object')"
      ]
     },
     "execution_count": 64,
     "metadata": {},
     "output_type": "execute_result"
    }
   ],
   "source": [
    "df.columns"
   ]
  },
  {
   "cell_type": "code",
   "execution_count": 65,
   "id": "8b35693b",
   "metadata": {},
   "outputs": [
    {
     "name": "stdout",
     "output_type": "stream",
     "text": [
      "<class 'pandas.core.frame.DataFrame'>\n",
      "RangeIndex: 51717 entries, 0 to 51716\n",
      "Data columns (total 17 columns):\n",
      " #   Column                       Non-Null Count  Dtype \n",
      "---  ------                       --------------  ----- \n",
      " 0   url                          51717 non-null  object\n",
      " 1   address                      51717 non-null  object\n",
      " 2   name                         51717 non-null  object\n",
      " 3   online_order                 51717 non-null  object\n",
      " 4   book_table                   51717 non-null  object\n",
      " 5   rate                         43942 non-null  object\n",
      " 6   votes                        51717 non-null  int64 \n",
      " 7   phone                        50509 non-null  object\n",
      " 8   location                     51696 non-null  object\n",
      " 9   rest_type                    51490 non-null  object\n",
      " 10  dish_liked                   23639 non-null  object\n",
      " 11  cuisines                     51672 non-null  object\n",
      " 12  approx_cost(for two people)  51371 non-null  object\n",
      " 13  reviews_list                 51717 non-null  object\n",
      " 14  menu_item                    51717 non-null  object\n",
      " 15  listed_in(type)              51717 non-null  object\n",
      " 16  listed_in(city)              51717 non-null  object\n",
      "dtypes: int64(1), object(16)\n",
      "memory usage: 6.7+ MB\n"
     ]
    }
   ],
   "source": [
    "df.info()"
   ]
  },
  {
   "cell_type": "code",
   "execution_count": 66,
   "id": "a1075722",
   "metadata": {},
   "outputs": [
    {
     "data": {
      "text/plain": [
       "(51717, 17)"
      ]
     },
     "execution_count": 66,
     "metadata": {},
     "output_type": "execute_result"
    }
   ],
   "source": [
    "df.shape"
   ]
  },
  {
   "cell_type": "code",
   "execution_count": null,
   "id": "2f74c876",
   "metadata": {},
   "outputs": [
    {
     "data": {
      "text/plain": [
       "'\\nAbout Dataset\\nYou have to perform the following tasks:\\nData Cleaning:\\n\\nDeleting redundant columns.\\nRenaming the columns.\\nDropping duplicates.\\nCleaning individual columns.\\nRemove the NaN values from the dataset\\nCheck for some more Transformations\\n'"
      ]
     },
     "execution_count": 67,
     "metadata": {},
     "output_type": "execute_result"
    }
   ],
   "source": [
    "'''\n",
    "#About Dataset\n",
    "#We have to perform the following tasks:\n",
    "#Data Cleaning:\n",
    "\n",
    "#Deleting redundant columns.\n",
    "#Renaming the columns.\n",
    "#Dropping duplicates.\n",
    "#Cleaning individual columns.\n",
    "#Remove the NaN values from the dataset\n",
    "#Check for some more Transformations\n",
    "'''"
   ]
  },
  {
   "cell_type": "code",
   "execution_count": 68,
   "id": "66017191",
   "metadata": {},
   "outputs": [
    {
     "data": {
      "text/plain": [
       "Index(['url', 'address', 'name', 'online_order', 'book_table', 'rate', 'votes',\n",
       "       'phone', 'location', 'rest_type', 'dish_liked', 'cuisines',\n",
       "       'approx_cost(for two people)', 'reviews_list', 'menu_item',\n",
       "       'listed_in(type)', 'listed_in(city)'],\n",
       "      dtype='object')"
      ]
     },
     "execution_count": 68,
     "metadata": {},
     "output_type": "execute_result"
    }
   ],
   "source": [
    "df.columns"
   ]
  },
  {
   "cell_type": "code",
   "execution_count": 69,
   "id": "d6dc5562",
   "metadata": {},
   "outputs": [],
   "source": [
    "columns_to_keep=['name', 'online_order', 'book_table', 'rate','dish_liked','approx_cost(for two people)']\n",
    "columns_to_drop=['url', 'address','votes',\n",
    "       'phone', 'location', 'rest_type','cuisines','reviews_list', 'menu_item',\n",
    "       'listed_in(type)', 'listed_in(city)']\n"
   ]
  },
  {
   "cell_type": "code",
   "execution_count": 70,
   "id": "c55ac9d0",
   "metadata": {},
   "outputs": [
    {
     "data": {
      "text/plain": [
       "(51717, 17)"
      ]
     },
     "execution_count": 70,
     "metadata": {},
     "output_type": "execute_result"
    }
   ],
   "source": [
    "df.shape"
   ]
  },
  {
   "cell_type": "code",
   "execution_count": 71,
   "id": "5c9e0819",
   "metadata": {},
   "outputs": [
    {
     "data": {
      "text/plain": [
       "11"
      ]
     },
     "execution_count": 71,
     "metadata": {},
     "output_type": "execute_result"
    }
   ],
   "source": [
    "len(columns_to_drop)"
   ]
  },
  {
   "cell_type": "code",
   "execution_count": 72,
   "id": "7f33f747",
   "metadata": {},
   "outputs": [
    {
     "data": {
      "text/plain": [
       "6"
      ]
     },
     "execution_count": 72,
     "metadata": {},
     "output_type": "execute_result"
    }
   ],
   "source": [
    "len(columns_to_keep)"
   ]
  },
  {
   "cell_type": "code",
   "execution_count": 73,
   "id": "05c5e41c",
   "metadata": {},
   "outputs": [],
   "source": [
    "#first way filtering data"
   ]
  },
  {
   "cell_type": "code",
   "execution_count": 74,
   "id": "b6738341",
   "metadata": {},
   "outputs": [
    {
     "data": {
      "application/vnd.microsoft.datawrangler.viewer.v0+json": {
       "columns": [
        {
         "name": "index",
         "rawType": "int64",
         "type": "integer"
        },
        {
         "name": "name",
         "rawType": "object",
         "type": "string"
        },
        {
         "name": "online_order",
         "rawType": "object",
         "type": "string"
        },
        {
         "name": "book_table",
         "rawType": "object",
         "type": "string"
        },
        {
         "name": "rate",
         "rawType": "object",
         "type": "unknown"
        },
        {
         "name": "dish_liked",
         "rawType": "object",
         "type": "unknown"
        },
        {
         "name": "approx_cost(for two people)",
         "rawType": "object",
         "type": "unknown"
        }
       ],
       "ref": "95717148-e76e-4a7f-9bc2-fa039b88cf06",
       "rows": [
        [
         "0",
         "Jalsa",
         "Yes",
         "Yes",
         "4.1/5",
         "Pasta, Lunch Buffet, Masala Papad, Paneer Lajawab, Tomato Shorba, Dum Biryani, Sweet Corn Soup",
         "800"
        ],
        [
         "1",
         "Spice Elephant",
         "Yes",
         "No",
         "4.1/5",
         "Momos, Lunch Buffet, Chocolate Nirvana, Thai Green Curry, Paneer Tikka, Dum Biryani, Chicken Biryani",
         "800"
        ],
        [
         "2",
         "San Churro Cafe",
         "Yes",
         "No",
         "3.8/5",
         "Churros, Cannelloni, Minestrone Soup, Hot Chocolate, Pink Sauce Pasta, Salsa, Veg Supreme Pizza",
         "800"
        ],
        [
         "3",
         "Addhuri Udupi Bhojana",
         "No",
         "No",
         "3.7/5",
         "Masala Dosa",
         "300"
        ],
        [
         "4",
         "Grand Village",
         "No",
         "No",
         "3.8/5",
         "Panipuri, Gol Gappe",
         "600"
        ],
        [
         "5",
         "Timepass Dinner",
         "Yes",
         "No",
         "3.8/5",
         "Onion Rings, Pasta, Kadhai Paneer, Salads, Salad, Roti, Jeera Rice",
         "600"
        ],
        [
         "6",
         "Rosewood International Hotel - Bar & Restaurant",
         "No",
         "No",
         "3.6/5",
         null,
         "800"
        ],
        [
         "7",
         "Onesta",
         "Yes",
         "Yes",
         "4.6/5",
         "Farmhouse Pizza, Chocolate Banana, Virgin Mojito, Pasta, Paneer Tikka, Lime Soda, Prawn Pizza",
         "600"
        ],
        [
         "8",
         "Penthouse Cafe",
         "Yes",
         "No",
         "4.0/5",
         "Pizza, Mocktails, Coffee, Nachos, Salad, Pasta, Sandwiches",
         "700"
        ],
        [
         "9",
         "Smacznego",
         "Yes",
         "No",
         "4.2/5",
         "Waffles, Pasta, Coleslaw Sandwich, Choco Waffle, Tacos, Momos, Cheese Nachos",
         "550"
        ],
        [
         "10",
         "CafÃÂÃÂÃÂÃÂÃÂÃÂÃÂÃÂ© Down The Alley",
         "Yes",
         "No",
         "4.1/5",
         "Waffles, Pasta, Crispy Chicken, Honey Chilli Chicken, Sandwich, Coffee, Crepe",
         "500"
        ],
        [
         "11",
         "Cafe Shuffle",
         "Yes",
         "Yes",
         "4.2/5",
         "Mocktails, Peri Fries, Lasagne, Pizza, Chicken Bbq Wings, Virgin Mojito, Nachos",
         "600"
        ],
        [
         "12",
         "The Coffee Shack",
         "Yes",
         "Yes",
         "4.2/5",
         "Coffee, Spaghetti, Pancakes, Nachos, Pasta, Sandwich, Garlic Bread",
         "500"
        ],
        [
         "13",
         "Caf-Eleven",
         "No",
         "No",
         "4.0/5",
         "Sandwich, Omelette, Ice Tea, Virgin Mojito, Hot Chocolate, Pasta Arrabiata, Hazelnut Cappuccino",
         "450"
        ],
        [
         "14",
         "San Churro Cafe",
         "Yes",
         "No",
         "3.8/5",
         "Churros, Cannelloni, Minestrone Soup, Hot Chocolate, Pink Sauce Pasta, Salsa, Veg Supreme Pizza",
         "800"
        ],
        [
         "15",
         "Cafe Vivacity",
         "Yes",
         "No",
         "3.8/5",
         "Garlic Bread, Burgers, Sandwiches, Pizza, Hot Chocolate Fudge, Waffles, Potato Wedges",
         "650"
        ],
        [
         "16",
         "Catch-up-ino",
         "Yes",
         "No",
         "3.9/5",
         "Momos, Mushroom Bruschettas, Jalapeno Cheeseballs, Pasta, Red Velvet Shake, Red Velvet Milkshake, Maggi",
         "800"
        ],
        [
         "17",
         "Kirthi's Biryani",
         "Yes",
         "No",
         "3.8/5",
         "Pasta, Gelato, Garlic Bread, Mojito, Nachos, Paneer Pizza, Mocktails",
         "700"
        ],
        [
         "18",
         "T3H Cafe",
         "No",
         "No",
         "3.9/5",
         "Cheese Maggi, Peri Peri Fries, Pasta Arrabiata",
         "300"
        ],
        [
         "19",
         "360 Atoms Restaurant And Cafe",
         "Yes",
         "No",
         "3.1/5",
         null,
         "400"
        ],
        [
         "20",
         "The Vintage Cafe",
         "Yes",
         "No",
         "3.0/5",
         "Burgers, Caramel Milkshake, Iced Coffee, Iced Tea",
         "400"
        ],
        [
         "21",
         "Woodee Pizza",
         "Yes",
         "No",
         "3.7/5",
         "Pizza, Garlic Bread",
         "500"
        ],
        [
         "22",
         "Cafe Coffee Day",
         "No",
         "No",
         "3.6/5",
         null,
         "900"
        ],
        [
         "23",
         "My Tea House",
         "Yes",
         "No",
         "3.6/5",
         "Pasta, Iced Tea",
         "600"
        ],
        [
         "24",
         "Hide Out Cafe",
         "No",
         "No",
         "3.7/5",
         null,
         "300"
        ],
        [
         "25",
         "CAFE NOVA",
         "No",
         "No",
         "3.2/5",
         null,
         "600"
        ],
        [
         "26",
         "Coffee Tindi",
         "Yes",
         "No",
         "3.8/5",
         null,
         "200"
        ],
        [
         "27",
         "Sea Green Cafe",
         "No",
         "No",
         "3.3/5",
         null,
         "500"
        ],
        [
         "28",
         "Cuppa",
         "No",
         "No",
         "3.3/5",
         null,
         "550"
        ],
        [
         "29",
         "Srinathji's Cafe",
         "No",
         "No",
         "3.8/5",
         "Paratha, Sandwich, Chilli Idli, Noodles, Sandwiches, Lime Soda",
         "550"
        ],
        [
         "30",
         "Redberrys",
         "Yes",
         "No",
         "4.0/5",
         "Pizza, Fries, Anjeer Ice Cream, Sandwiches, Gelato, Burgers, Kesar Badam",
         "600"
        ],
        [
         "31",
         "Foodiction",
         "Yes",
         "No",
         "2.8/5",
         "Burgers, Lassi, Chicken Grill, Naan, Momos, Chicken Burger, Biryani",
         "500"
        ],
        [
         "32",
         "Sweet Truth",
         "Yes",
         "No",
         "3.9/5",
         null,
         "500"
        ],
        [
         "33",
         "Ovenstory Pizza",
         "Yes",
         "No",
         "3.9/5",
         "Paneer Tikka, Garlic Bread, Thin Crust Pizza, Falafel, Veggie Pizza",
         "750"
        ],
        [
         "34",
         "Faasos",
         "Yes",
         "No",
         "4.2/5",
         "Rolls, Veggie Wrap, Chocolate Fantasy, Rice Bowls, Chicken Rice, Paneer Makhanwala, Chicken Tikka Wrap",
         "500"
        ],
        [
         "35",
         "Behrouz Biryani",
         "Yes",
         "No",
         "3.9/5",
         "Raita, Gulab Jamun, Paneer Biryani, Vegetable Biryani, Gosht Dum Biryani, Chicken Biryani, Murgh Biryani",
         "650"
        ],
        [
         "36",
         "Fast And Fresh",
         "Yes",
         "No",
         "2.8/5",
         null,
         "400"
        ],
        [
         "37",
         "Szechuan Dragon",
         "Yes",
         "No",
         "4.2/5",
         "Noodles, Momos, Veg Manchow Soup, Kung Pao Chicken, Chicken Lollipop, Chop Suey, Dragon Chicken",
         "600"
        ],
        [
         "38",
         "Empire Restaurant",
         "Yes",
         "No",
         "4.4/5",
         "Chicken Tikka Masala, Mutton Keema Dosa, Mutton Biryani, Raan Biryani, Brain Fry, Chicken Grill, Ghee Rice",
         "750"
        ],
        [
         "39",
         "Maruthi Davangere Benne Dosa",
         "Yes",
         "No",
         "4.0/5",
         null,
         "150"
        ],
        [
         "40",
         "Chaatimes",
         "Yes",
         "No",
         "3.8/5",
         "Dabeli, Faluda, Masala Poori, Sandwiches, Tokri Chaat, Pav Bhaji, Dahipuri",
         "200"
        ],
        [
         "41",
         "Havyaka Mess",
         "No",
         "No",
         "3.9/5",
         null,
         "300"
        ],
        [
         "42",
         "McDonald's",
         "Yes",
         "No",
         "3.9/5",
         "Burgers, Fries, Hot Chocolate",
         "500"
        ],
        [
         "43",
         "Domino's Pizza",
         "Yes",
         "No",
         "3.9/5",
         "Pane Pizza, Lava Cake, Pasta, Stuffed Garlic Bread, Chocolava Cake, Tacos",
         "800"
        ],
        [
         "44",
         "Onesta",
         "Yes",
         "Yes",
         "4.6/5",
         "Farmhouse Pizza, Chocolate Banana, Virgin Mojito, Pasta, Paneer Tikka, Lime Soda, Prawn Pizza",
         "600"
        ],
        [
         "45",
         "Hotboxit",
         "No",
         "No",
         "3.8/5",
         "Prompt Service",
         "400"
        ],
        [
         "46",
         "Kitchen Garden",
         "Yes",
         "No",
         "3.6/5",
         "Biryani",
         "300"
        ],
        [
         "47",
         "Recipe",
         "Yes",
         "No",
         "4.0/5",
         "Butter Chicken, Noodles, Thali, Biryani",
         "450"
        ],
        [
         "48",
         "Beijing Bites",
         "Yes",
         "No",
         "3.7/5",
         "Momos, Dragon Chicken, Hakka Noodles, Chowmein, Chop Suey, Chilli Garlic Noodles, Garlic Rice",
         "850"
        ],
        [
         "49",
         "Tasty Bytes",
         "Yes",
         "No",
         "3.1/5",
         "Paratha, Pasta",
         "300"
        ]
       ],
       "shape": {
        "columns": 6,
        "rows": 51717
       }
      },
      "text/html": [
       "<div>\n",
       "<style scoped>\n",
       "    .dataframe tbody tr th:only-of-type {\n",
       "        vertical-align: middle;\n",
       "    }\n",
       "\n",
       "    .dataframe tbody tr th {\n",
       "        vertical-align: top;\n",
       "    }\n",
       "\n",
       "    .dataframe thead th {\n",
       "        text-align: right;\n",
       "    }\n",
       "</style>\n",
       "<table border=\"1\" class=\"dataframe\">\n",
       "  <thead>\n",
       "    <tr style=\"text-align: right;\">\n",
       "      <th></th>\n",
       "      <th>name</th>\n",
       "      <th>online_order</th>\n",
       "      <th>book_table</th>\n",
       "      <th>rate</th>\n",
       "      <th>dish_liked</th>\n",
       "      <th>approx_cost(for two people)</th>\n",
       "    </tr>\n",
       "  </thead>\n",
       "  <tbody>\n",
       "    <tr>\n",
       "      <th>0</th>\n",
       "      <td>Jalsa</td>\n",
       "      <td>Yes</td>\n",
       "      <td>Yes</td>\n",
       "      <td>4.1/5</td>\n",
       "      <td>Pasta, Lunch Buffet, Masala Papad, Paneer Laja...</td>\n",
       "      <td>800</td>\n",
       "    </tr>\n",
       "    <tr>\n",
       "      <th>1</th>\n",
       "      <td>Spice Elephant</td>\n",
       "      <td>Yes</td>\n",
       "      <td>No</td>\n",
       "      <td>4.1/5</td>\n",
       "      <td>Momos, Lunch Buffet, Chocolate Nirvana, Thai G...</td>\n",
       "      <td>800</td>\n",
       "    </tr>\n",
       "    <tr>\n",
       "      <th>2</th>\n",
       "      <td>San Churro Cafe</td>\n",
       "      <td>Yes</td>\n",
       "      <td>No</td>\n",
       "      <td>3.8/5</td>\n",
       "      <td>Churros, Cannelloni, Minestrone Soup, Hot Choc...</td>\n",
       "      <td>800</td>\n",
       "    </tr>\n",
       "    <tr>\n",
       "      <th>3</th>\n",
       "      <td>Addhuri Udupi Bhojana</td>\n",
       "      <td>No</td>\n",
       "      <td>No</td>\n",
       "      <td>3.7/5</td>\n",
       "      <td>Masala Dosa</td>\n",
       "      <td>300</td>\n",
       "    </tr>\n",
       "    <tr>\n",
       "      <th>4</th>\n",
       "      <td>Grand Village</td>\n",
       "      <td>No</td>\n",
       "      <td>No</td>\n",
       "      <td>3.8/5</td>\n",
       "      <td>Panipuri, Gol Gappe</td>\n",
       "      <td>600</td>\n",
       "    </tr>\n",
       "    <tr>\n",
       "      <th>...</th>\n",
       "      <td>...</td>\n",
       "      <td>...</td>\n",
       "      <td>...</td>\n",
       "      <td>...</td>\n",
       "      <td>...</td>\n",
       "      <td>...</td>\n",
       "    </tr>\n",
       "    <tr>\n",
       "      <th>51712</th>\n",
       "      <td>Best Brews - Four Points by Sheraton Bengaluru...</td>\n",
       "      <td>No</td>\n",
       "      <td>No</td>\n",
       "      <td>3.6 /5</td>\n",
       "      <td>NaN</td>\n",
       "      <td>1,500</td>\n",
       "    </tr>\n",
       "    <tr>\n",
       "      <th>51713</th>\n",
       "      <td>Vinod Bar And Restaurant</td>\n",
       "      <td>No</td>\n",
       "      <td>No</td>\n",
       "      <td>NaN</td>\n",
       "      <td>NaN</td>\n",
       "      <td>600</td>\n",
       "    </tr>\n",
       "    <tr>\n",
       "      <th>51714</th>\n",
       "      <td>Plunge - Sheraton Grand Bengaluru Whitefield H...</td>\n",
       "      <td>No</td>\n",
       "      <td>No</td>\n",
       "      <td>NaN</td>\n",
       "      <td>NaN</td>\n",
       "      <td>2,000</td>\n",
       "    </tr>\n",
       "    <tr>\n",
       "      <th>51715</th>\n",
       "      <td>Chime - Sheraton Grand Bengaluru Whitefield Ho...</td>\n",
       "      <td>No</td>\n",
       "      <td>Yes</td>\n",
       "      <td>4.3 /5</td>\n",
       "      <td>Cocktails, Pizza, Buttermilk</td>\n",
       "      <td>2,500</td>\n",
       "    </tr>\n",
       "    <tr>\n",
       "      <th>51716</th>\n",
       "      <td>The Nest - The Den Bengaluru</td>\n",
       "      <td>No</td>\n",
       "      <td>No</td>\n",
       "      <td>3.4 /5</td>\n",
       "      <td>NaN</td>\n",
       "      <td>1,500</td>\n",
       "    </tr>\n",
       "  </tbody>\n",
       "</table>\n",
       "<p>51717 rows × 6 columns</p>\n",
       "</div>"
      ],
      "text/plain": [
       "                                                    name online_order  \\\n",
       "0                                                  Jalsa          Yes   \n",
       "1                                         Spice Elephant          Yes   \n",
       "2                                        San Churro Cafe          Yes   \n",
       "3                                  Addhuri Udupi Bhojana           No   \n",
       "4                                          Grand Village           No   \n",
       "...                                                  ...          ...   \n",
       "51712  Best Brews - Four Points by Sheraton Bengaluru...           No   \n",
       "51713                           Vinod Bar And Restaurant           No   \n",
       "51714  Plunge - Sheraton Grand Bengaluru Whitefield H...           No   \n",
       "51715  Chime - Sheraton Grand Bengaluru Whitefield Ho...           No   \n",
       "51716                       The Nest - The Den Bengaluru           No   \n",
       "\n",
       "      book_table    rate                                         dish_liked  \\\n",
       "0            Yes   4.1/5  Pasta, Lunch Buffet, Masala Papad, Paneer Laja...   \n",
       "1             No   4.1/5  Momos, Lunch Buffet, Chocolate Nirvana, Thai G...   \n",
       "2             No   3.8/5  Churros, Cannelloni, Minestrone Soup, Hot Choc...   \n",
       "3             No   3.7/5                                        Masala Dosa   \n",
       "4             No   3.8/5                                Panipuri, Gol Gappe   \n",
       "...          ...     ...                                                ...   \n",
       "51712         No  3.6 /5                                                NaN   \n",
       "51713         No     NaN                                                NaN   \n",
       "51714         No     NaN                                                NaN   \n",
       "51715        Yes  4.3 /5                       Cocktails, Pizza, Buttermilk   \n",
       "51716         No  3.4 /5                                                NaN   \n",
       "\n",
       "      approx_cost(for two people)  \n",
       "0                             800  \n",
       "1                             800  \n",
       "2                             800  \n",
       "3                             300  \n",
       "4                             600  \n",
       "...                           ...  \n",
       "51712                       1,500  \n",
       "51713                         600  \n",
       "51714                       2,000  \n",
       "51715                       2,500  \n",
       "51716                       1,500  \n",
       "\n",
       "[51717 rows x 6 columns]"
      ]
     },
     "execution_count": 74,
     "metadata": {},
     "output_type": "execute_result"
    }
   ],
   "source": [
    "df[columns_to_keep]"
   ]
  },
  {
   "cell_type": "code",
   "execution_count": 75,
   "id": "a6e181a3",
   "metadata": {},
   "outputs": [],
   "source": [
    "df.drop(columns=columns_to_drop, inplace=True)"
   ]
  },
  {
   "cell_type": "code",
   "execution_count": 76,
   "id": "a8c0c969",
   "metadata": {},
   "outputs": [
    {
     "data": {
      "application/vnd.microsoft.datawrangler.viewer.v0+json": {
       "columns": [
        {
         "name": "index",
         "rawType": "int64",
         "type": "integer"
        },
        {
         "name": "name",
         "rawType": "object",
         "type": "string"
        },
        {
         "name": "online_order",
         "rawType": "object",
         "type": "string"
        },
        {
         "name": "book_table",
         "rawType": "object",
         "type": "string"
        },
        {
         "name": "rate",
         "rawType": "object",
         "type": "unknown"
        },
        {
         "name": "dish_liked",
         "rawType": "object",
         "type": "unknown"
        },
        {
         "name": "approx_cost(for two people)",
         "rawType": "object",
         "type": "unknown"
        }
       ],
       "ref": "180963d3-f141-4223-b103-e6348a307cdd",
       "rows": [
        [
         "0",
         "Jalsa",
         "Yes",
         "Yes",
         "4.1/5",
         "Pasta, Lunch Buffet, Masala Papad, Paneer Lajawab, Tomato Shorba, Dum Biryani, Sweet Corn Soup",
         "800"
        ],
        [
         "1",
         "Spice Elephant",
         "Yes",
         "No",
         "4.1/5",
         "Momos, Lunch Buffet, Chocolate Nirvana, Thai Green Curry, Paneer Tikka, Dum Biryani, Chicken Biryani",
         "800"
        ],
        [
         "2",
         "San Churro Cafe",
         "Yes",
         "No",
         "3.8/5",
         "Churros, Cannelloni, Minestrone Soup, Hot Chocolate, Pink Sauce Pasta, Salsa, Veg Supreme Pizza",
         "800"
        ],
        [
         "3",
         "Addhuri Udupi Bhojana",
         "No",
         "No",
         "3.7/5",
         "Masala Dosa",
         "300"
        ],
        [
         "4",
         "Grand Village",
         "No",
         "No",
         "3.8/5",
         "Panipuri, Gol Gappe",
         "600"
        ],
        [
         "5",
         "Timepass Dinner",
         "Yes",
         "No",
         "3.8/5",
         "Onion Rings, Pasta, Kadhai Paneer, Salads, Salad, Roti, Jeera Rice",
         "600"
        ],
        [
         "6",
         "Rosewood International Hotel - Bar & Restaurant",
         "No",
         "No",
         "3.6/5",
         null,
         "800"
        ],
        [
         "7",
         "Onesta",
         "Yes",
         "Yes",
         "4.6/5",
         "Farmhouse Pizza, Chocolate Banana, Virgin Mojito, Pasta, Paneer Tikka, Lime Soda, Prawn Pizza",
         "600"
        ],
        [
         "8",
         "Penthouse Cafe",
         "Yes",
         "No",
         "4.0/5",
         "Pizza, Mocktails, Coffee, Nachos, Salad, Pasta, Sandwiches",
         "700"
        ],
        [
         "9",
         "Smacznego",
         "Yes",
         "No",
         "4.2/5",
         "Waffles, Pasta, Coleslaw Sandwich, Choco Waffle, Tacos, Momos, Cheese Nachos",
         "550"
        ],
        [
         "10",
         "CafÃÂÃÂÃÂÃÂÃÂÃÂÃÂÃÂ© Down The Alley",
         "Yes",
         "No",
         "4.1/5",
         "Waffles, Pasta, Crispy Chicken, Honey Chilli Chicken, Sandwich, Coffee, Crepe",
         "500"
        ],
        [
         "11",
         "Cafe Shuffle",
         "Yes",
         "Yes",
         "4.2/5",
         "Mocktails, Peri Fries, Lasagne, Pizza, Chicken Bbq Wings, Virgin Mojito, Nachos",
         "600"
        ],
        [
         "12",
         "The Coffee Shack",
         "Yes",
         "Yes",
         "4.2/5",
         "Coffee, Spaghetti, Pancakes, Nachos, Pasta, Sandwich, Garlic Bread",
         "500"
        ],
        [
         "13",
         "Caf-Eleven",
         "No",
         "No",
         "4.0/5",
         "Sandwich, Omelette, Ice Tea, Virgin Mojito, Hot Chocolate, Pasta Arrabiata, Hazelnut Cappuccino",
         "450"
        ],
        [
         "14",
         "San Churro Cafe",
         "Yes",
         "No",
         "3.8/5",
         "Churros, Cannelloni, Minestrone Soup, Hot Chocolate, Pink Sauce Pasta, Salsa, Veg Supreme Pizza",
         "800"
        ],
        [
         "15",
         "Cafe Vivacity",
         "Yes",
         "No",
         "3.8/5",
         "Garlic Bread, Burgers, Sandwiches, Pizza, Hot Chocolate Fudge, Waffles, Potato Wedges",
         "650"
        ],
        [
         "16",
         "Catch-up-ino",
         "Yes",
         "No",
         "3.9/5",
         "Momos, Mushroom Bruschettas, Jalapeno Cheeseballs, Pasta, Red Velvet Shake, Red Velvet Milkshake, Maggi",
         "800"
        ],
        [
         "17",
         "Kirthi's Biryani",
         "Yes",
         "No",
         "3.8/5",
         "Pasta, Gelato, Garlic Bread, Mojito, Nachos, Paneer Pizza, Mocktails",
         "700"
        ],
        [
         "18",
         "T3H Cafe",
         "No",
         "No",
         "3.9/5",
         "Cheese Maggi, Peri Peri Fries, Pasta Arrabiata",
         "300"
        ],
        [
         "19",
         "360 Atoms Restaurant And Cafe",
         "Yes",
         "No",
         "3.1/5",
         null,
         "400"
        ],
        [
         "20",
         "The Vintage Cafe",
         "Yes",
         "No",
         "3.0/5",
         "Burgers, Caramel Milkshake, Iced Coffee, Iced Tea",
         "400"
        ],
        [
         "21",
         "Woodee Pizza",
         "Yes",
         "No",
         "3.7/5",
         "Pizza, Garlic Bread",
         "500"
        ],
        [
         "22",
         "Cafe Coffee Day",
         "No",
         "No",
         "3.6/5",
         null,
         "900"
        ],
        [
         "23",
         "My Tea House",
         "Yes",
         "No",
         "3.6/5",
         "Pasta, Iced Tea",
         "600"
        ],
        [
         "24",
         "Hide Out Cafe",
         "No",
         "No",
         "3.7/5",
         null,
         "300"
        ],
        [
         "25",
         "CAFE NOVA",
         "No",
         "No",
         "3.2/5",
         null,
         "600"
        ],
        [
         "26",
         "Coffee Tindi",
         "Yes",
         "No",
         "3.8/5",
         null,
         "200"
        ],
        [
         "27",
         "Sea Green Cafe",
         "No",
         "No",
         "3.3/5",
         null,
         "500"
        ],
        [
         "28",
         "Cuppa",
         "No",
         "No",
         "3.3/5",
         null,
         "550"
        ],
        [
         "29",
         "Srinathji's Cafe",
         "No",
         "No",
         "3.8/5",
         "Paratha, Sandwich, Chilli Idli, Noodles, Sandwiches, Lime Soda",
         "550"
        ],
        [
         "30",
         "Redberrys",
         "Yes",
         "No",
         "4.0/5",
         "Pizza, Fries, Anjeer Ice Cream, Sandwiches, Gelato, Burgers, Kesar Badam",
         "600"
        ],
        [
         "31",
         "Foodiction",
         "Yes",
         "No",
         "2.8/5",
         "Burgers, Lassi, Chicken Grill, Naan, Momos, Chicken Burger, Biryani",
         "500"
        ],
        [
         "32",
         "Sweet Truth",
         "Yes",
         "No",
         "3.9/5",
         null,
         "500"
        ],
        [
         "33",
         "Ovenstory Pizza",
         "Yes",
         "No",
         "3.9/5",
         "Paneer Tikka, Garlic Bread, Thin Crust Pizza, Falafel, Veggie Pizza",
         "750"
        ],
        [
         "34",
         "Faasos",
         "Yes",
         "No",
         "4.2/5",
         "Rolls, Veggie Wrap, Chocolate Fantasy, Rice Bowls, Chicken Rice, Paneer Makhanwala, Chicken Tikka Wrap",
         "500"
        ],
        [
         "35",
         "Behrouz Biryani",
         "Yes",
         "No",
         "3.9/5",
         "Raita, Gulab Jamun, Paneer Biryani, Vegetable Biryani, Gosht Dum Biryani, Chicken Biryani, Murgh Biryani",
         "650"
        ],
        [
         "36",
         "Fast And Fresh",
         "Yes",
         "No",
         "2.8/5",
         null,
         "400"
        ],
        [
         "37",
         "Szechuan Dragon",
         "Yes",
         "No",
         "4.2/5",
         "Noodles, Momos, Veg Manchow Soup, Kung Pao Chicken, Chicken Lollipop, Chop Suey, Dragon Chicken",
         "600"
        ],
        [
         "38",
         "Empire Restaurant",
         "Yes",
         "No",
         "4.4/5",
         "Chicken Tikka Masala, Mutton Keema Dosa, Mutton Biryani, Raan Biryani, Brain Fry, Chicken Grill, Ghee Rice",
         "750"
        ],
        [
         "39",
         "Maruthi Davangere Benne Dosa",
         "Yes",
         "No",
         "4.0/5",
         null,
         "150"
        ],
        [
         "40",
         "Chaatimes",
         "Yes",
         "No",
         "3.8/5",
         "Dabeli, Faluda, Masala Poori, Sandwiches, Tokri Chaat, Pav Bhaji, Dahipuri",
         "200"
        ],
        [
         "41",
         "Havyaka Mess",
         "No",
         "No",
         "3.9/5",
         null,
         "300"
        ],
        [
         "42",
         "McDonald's",
         "Yes",
         "No",
         "3.9/5",
         "Burgers, Fries, Hot Chocolate",
         "500"
        ],
        [
         "43",
         "Domino's Pizza",
         "Yes",
         "No",
         "3.9/5",
         "Pane Pizza, Lava Cake, Pasta, Stuffed Garlic Bread, Chocolava Cake, Tacos",
         "800"
        ],
        [
         "44",
         "Onesta",
         "Yes",
         "Yes",
         "4.6/5",
         "Farmhouse Pizza, Chocolate Banana, Virgin Mojito, Pasta, Paneer Tikka, Lime Soda, Prawn Pizza",
         "600"
        ],
        [
         "45",
         "Hotboxit",
         "No",
         "No",
         "3.8/5",
         "Prompt Service",
         "400"
        ],
        [
         "46",
         "Kitchen Garden",
         "Yes",
         "No",
         "3.6/5",
         "Biryani",
         "300"
        ],
        [
         "47",
         "Recipe",
         "Yes",
         "No",
         "4.0/5",
         "Butter Chicken, Noodles, Thali, Biryani",
         "450"
        ],
        [
         "48",
         "Beijing Bites",
         "Yes",
         "No",
         "3.7/5",
         "Momos, Dragon Chicken, Hakka Noodles, Chowmein, Chop Suey, Chilli Garlic Noodles, Garlic Rice",
         "850"
        ],
        [
         "49",
         "Tasty Bytes",
         "Yes",
         "No",
         "3.1/5",
         "Paratha, Pasta",
         "300"
        ]
       ],
       "shape": {
        "columns": 6,
        "rows": 51717
       }
      },
      "text/html": [
       "<div>\n",
       "<style scoped>\n",
       "    .dataframe tbody tr th:only-of-type {\n",
       "        vertical-align: middle;\n",
       "    }\n",
       "\n",
       "    .dataframe tbody tr th {\n",
       "        vertical-align: top;\n",
       "    }\n",
       "\n",
       "    .dataframe thead th {\n",
       "        text-align: right;\n",
       "    }\n",
       "</style>\n",
       "<table border=\"1\" class=\"dataframe\">\n",
       "  <thead>\n",
       "    <tr style=\"text-align: right;\">\n",
       "      <th></th>\n",
       "      <th>name</th>\n",
       "      <th>online_order</th>\n",
       "      <th>book_table</th>\n",
       "      <th>rate</th>\n",
       "      <th>dish_liked</th>\n",
       "      <th>approx_cost(for two people)</th>\n",
       "    </tr>\n",
       "  </thead>\n",
       "  <tbody>\n",
       "    <tr>\n",
       "      <th>0</th>\n",
       "      <td>Jalsa</td>\n",
       "      <td>Yes</td>\n",
       "      <td>Yes</td>\n",
       "      <td>4.1/5</td>\n",
       "      <td>Pasta, Lunch Buffet, Masala Papad, Paneer Laja...</td>\n",
       "      <td>800</td>\n",
       "    </tr>\n",
       "    <tr>\n",
       "      <th>1</th>\n",
       "      <td>Spice Elephant</td>\n",
       "      <td>Yes</td>\n",
       "      <td>No</td>\n",
       "      <td>4.1/5</td>\n",
       "      <td>Momos, Lunch Buffet, Chocolate Nirvana, Thai G...</td>\n",
       "      <td>800</td>\n",
       "    </tr>\n",
       "    <tr>\n",
       "      <th>2</th>\n",
       "      <td>San Churro Cafe</td>\n",
       "      <td>Yes</td>\n",
       "      <td>No</td>\n",
       "      <td>3.8/5</td>\n",
       "      <td>Churros, Cannelloni, Minestrone Soup, Hot Choc...</td>\n",
       "      <td>800</td>\n",
       "    </tr>\n",
       "    <tr>\n",
       "      <th>3</th>\n",
       "      <td>Addhuri Udupi Bhojana</td>\n",
       "      <td>No</td>\n",
       "      <td>No</td>\n",
       "      <td>3.7/5</td>\n",
       "      <td>Masala Dosa</td>\n",
       "      <td>300</td>\n",
       "    </tr>\n",
       "    <tr>\n",
       "      <th>4</th>\n",
       "      <td>Grand Village</td>\n",
       "      <td>No</td>\n",
       "      <td>No</td>\n",
       "      <td>3.8/5</td>\n",
       "      <td>Panipuri, Gol Gappe</td>\n",
       "      <td>600</td>\n",
       "    </tr>\n",
       "    <tr>\n",
       "      <th>...</th>\n",
       "      <td>...</td>\n",
       "      <td>...</td>\n",
       "      <td>...</td>\n",
       "      <td>...</td>\n",
       "      <td>...</td>\n",
       "      <td>...</td>\n",
       "    </tr>\n",
       "    <tr>\n",
       "      <th>51712</th>\n",
       "      <td>Best Brews - Four Points by Sheraton Bengaluru...</td>\n",
       "      <td>No</td>\n",
       "      <td>No</td>\n",
       "      <td>3.6 /5</td>\n",
       "      <td>NaN</td>\n",
       "      <td>1,500</td>\n",
       "    </tr>\n",
       "    <tr>\n",
       "      <th>51713</th>\n",
       "      <td>Vinod Bar And Restaurant</td>\n",
       "      <td>No</td>\n",
       "      <td>No</td>\n",
       "      <td>NaN</td>\n",
       "      <td>NaN</td>\n",
       "      <td>600</td>\n",
       "    </tr>\n",
       "    <tr>\n",
       "      <th>51714</th>\n",
       "      <td>Plunge - Sheraton Grand Bengaluru Whitefield H...</td>\n",
       "      <td>No</td>\n",
       "      <td>No</td>\n",
       "      <td>NaN</td>\n",
       "      <td>NaN</td>\n",
       "      <td>2,000</td>\n",
       "    </tr>\n",
       "    <tr>\n",
       "      <th>51715</th>\n",
       "      <td>Chime - Sheraton Grand Bengaluru Whitefield Ho...</td>\n",
       "      <td>No</td>\n",
       "      <td>Yes</td>\n",
       "      <td>4.3 /5</td>\n",
       "      <td>Cocktails, Pizza, Buttermilk</td>\n",
       "      <td>2,500</td>\n",
       "    </tr>\n",
       "    <tr>\n",
       "      <th>51716</th>\n",
       "      <td>The Nest - The Den Bengaluru</td>\n",
       "      <td>No</td>\n",
       "      <td>No</td>\n",
       "      <td>3.4 /5</td>\n",
       "      <td>NaN</td>\n",
       "      <td>1,500</td>\n",
       "    </tr>\n",
       "  </tbody>\n",
       "</table>\n",
       "<p>51717 rows × 6 columns</p>\n",
       "</div>"
      ],
      "text/plain": [
       "                                                    name online_order  \\\n",
       "0                                                  Jalsa          Yes   \n",
       "1                                         Spice Elephant          Yes   \n",
       "2                                        San Churro Cafe          Yes   \n",
       "3                                  Addhuri Udupi Bhojana           No   \n",
       "4                                          Grand Village           No   \n",
       "...                                                  ...          ...   \n",
       "51712  Best Brews - Four Points by Sheraton Bengaluru...           No   \n",
       "51713                           Vinod Bar And Restaurant           No   \n",
       "51714  Plunge - Sheraton Grand Bengaluru Whitefield H...           No   \n",
       "51715  Chime - Sheraton Grand Bengaluru Whitefield Ho...           No   \n",
       "51716                       The Nest - The Den Bengaluru           No   \n",
       "\n",
       "      book_table    rate                                         dish_liked  \\\n",
       "0            Yes   4.1/5  Pasta, Lunch Buffet, Masala Papad, Paneer Laja...   \n",
       "1             No   4.1/5  Momos, Lunch Buffet, Chocolate Nirvana, Thai G...   \n",
       "2             No   3.8/5  Churros, Cannelloni, Minestrone Soup, Hot Choc...   \n",
       "3             No   3.7/5                                        Masala Dosa   \n",
       "4             No   3.8/5                                Panipuri, Gol Gappe   \n",
       "...          ...     ...                                                ...   \n",
       "51712         No  3.6 /5                                                NaN   \n",
       "51713         No     NaN                                                NaN   \n",
       "51714         No     NaN                                                NaN   \n",
       "51715        Yes  4.3 /5                       Cocktails, Pizza, Buttermilk   \n",
       "51716         No  3.4 /5                                                NaN   \n",
       "\n",
       "      approx_cost(for two people)  \n",
       "0                             800  \n",
       "1                             800  \n",
       "2                             800  \n",
       "3                             300  \n",
       "4                             600  \n",
       "...                           ...  \n",
       "51712                       1,500  \n",
       "51713                         600  \n",
       "51714                       2,000  \n",
       "51715                       2,500  \n",
       "51716                       1,500  \n",
       "\n",
       "[51717 rows x 6 columns]"
      ]
     },
     "execution_count": 76,
     "metadata": {},
     "output_type": "execute_result"
    }
   ],
   "source": [
    "df"
   ]
  },
  {
   "cell_type": "code",
   "execution_count": 77,
   "id": "5957dc7e",
   "metadata": {},
   "outputs": [
    {
     "data": {
      "application/vnd.microsoft.datawrangler.viewer.v0+json": {
       "columns": [
        {
         "name": "index",
         "rawType": "int64",
         "type": "integer"
        },
        {
         "name": "name",
         "rawType": "object",
         "type": "string"
        },
        {
         "name": "online_order",
         "rawType": "object",
         "type": "string"
        },
        {
         "name": "book_table",
         "rawType": "object",
         "type": "string"
        },
        {
         "name": "rate",
         "rawType": "object",
         "type": "unknown"
        },
        {
         "name": "dish_liked",
         "rawType": "object",
         "type": "unknown"
        },
        {
         "name": "approx_cost(for two people)",
         "rawType": "object",
         "type": "unknown"
        }
       ],
       "ref": "747a1c6b-109f-46ea-ac28-d058fee9f190",
       "rows": [
        [
         "0",
         "Jalsa",
         "Yes",
         "Yes",
         "4.1/5",
         "Pasta, Lunch Buffet, Masala Papad, Paneer Lajawab, Tomato Shorba, Dum Biryani, Sweet Corn Soup",
         "800"
        ],
        [
         "1",
         "Spice Elephant",
         "Yes",
         "No",
         "4.1/5",
         "Momos, Lunch Buffet, Chocolate Nirvana, Thai Green Curry, Paneer Tikka, Dum Biryani, Chicken Biryani",
         "800"
        ],
        [
         "2",
         "San Churro Cafe",
         "Yes",
         "No",
         "3.8/5",
         "Churros, Cannelloni, Minestrone Soup, Hot Chocolate, Pink Sauce Pasta, Salsa, Veg Supreme Pizza",
         "800"
        ],
        [
         "3",
         "Addhuri Udupi Bhojana",
         "No",
         "No",
         "3.7/5",
         "Masala Dosa",
         "300"
        ],
        [
         "4",
         "Grand Village",
         "No",
         "No",
         "3.8/5",
         "Panipuri, Gol Gappe",
         "600"
        ],
        [
         "5",
         "Timepass Dinner",
         "Yes",
         "No",
         "3.8/5",
         "Onion Rings, Pasta, Kadhai Paneer, Salads, Salad, Roti, Jeera Rice",
         "600"
        ],
        [
         "6",
         "Rosewood International Hotel - Bar & Restaurant",
         "No",
         "No",
         "3.6/5",
         null,
         "800"
        ],
        [
         "7",
         "Onesta",
         "Yes",
         "Yes",
         "4.6/5",
         "Farmhouse Pizza, Chocolate Banana, Virgin Mojito, Pasta, Paneer Tikka, Lime Soda, Prawn Pizza",
         "600"
        ],
        [
         "8",
         "Penthouse Cafe",
         "Yes",
         "No",
         "4.0/5",
         "Pizza, Mocktails, Coffee, Nachos, Salad, Pasta, Sandwiches",
         "700"
        ],
        [
         "9",
         "Smacznego",
         "Yes",
         "No",
         "4.2/5",
         "Waffles, Pasta, Coleslaw Sandwich, Choco Waffle, Tacos, Momos, Cheese Nachos",
         "550"
        ],
        [
         "10",
         "CafÃÂÃÂÃÂÃÂÃÂÃÂÃÂÃÂ© Down The Alley",
         "Yes",
         "No",
         "4.1/5",
         "Waffles, Pasta, Crispy Chicken, Honey Chilli Chicken, Sandwich, Coffee, Crepe",
         "500"
        ],
        [
         "11",
         "Cafe Shuffle",
         "Yes",
         "Yes",
         "4.2/5",
         "Mocktails, Peri Fries, Lasagne, Pizza, Chicken Bbq Wings, Virgin Mojito, Nachos",
         "600"
        ],
        [
         "12",
         "The Coffee Shack",
         "Yes",
         "Yes",
         "4.2/5",
         "Coffee, Spaghetti, Pancakes, Nachos, Pasta, Sandwich, Garlic Bread",
         "500"
        ],
        [
         "13",
         "Caf-Eleven",
         "No",
         "No",
         "4.0/5",
         "Sandwich, Omelette, Ice Tea, Virgin Mojito, Hot Chocolate, Pasta Arrabiata, Hazelnut Cappuccino",
         "450"
        ],
        [
         "14",
         "San Churro Cafe",
         "Yes",
         "No",
         "3.8/5",
         "Churros, Cannelloni, Minestrone Soup, Hot Chocolate, Pink Sauce Pasta, Salsa, Veg Supreme Pizza",
         "800"
        ],
        [
         "15",
         "Cafe Vivacity",
         "Yes",
         "No",
         "3.8/5",
         "Garlic Bread, Burgers, Sandwiches, Pizza, Hot Chocolate Fudge, Waffles, Potato Wedges",
         "650"
        ],
        [
         "16",
         "Catch-up-ino",
         "Yes",
         "No",
         "3.9/5",
         "Momos, Mushroom Bruschettas, Jalapeno Cheeseballs, Pasta, Red Velvet Shake, Red Velvet Milkshake, Maggi",
         "800"
        ],
        [
         "17",
         "Kirthi's Biryani",
         "Yes",
         "No",
         "3.8/5",
         "Pasta, Gelato, Garlic Bread, Mojito, Nachos, Paneer Pizza, Mocktails",
         "700"
        ],
        [
         "18",
         "T3H Cafe",
         "No",
         "No",
         "3.9/5",
         "Cheese Maggi, Peri Peri Fries, Pasta Arrabiata",
         "300"
        ],
        [
         "19",
         "360 Atoms Restaurant And Cafe",
         "Yes",
         "No",
         "3.1/5",
         null,
         "400"
        ],
        [
         "20",
         "The Vintage Cafe",
         "Yes",
         "No",
         "3.0/5",
         "Burgers, Caramel Milkshake, Iced Coffee, Iced Tea",
         "400"
        ],
        [
         "21",
         "Woodee Pizza",
         "Yes",
         "No",
         "3.7/5",
         "Pizza, Garlic Bread",
         "500"
        ],
        [
         "22",
         "Cafe Coffee Day",
         "No",
         "No",
         "3.6/5",
         null,
         "900"
        ],
        [
         "23",
         "My Tea House",
         "Yes",
         "No",
         "3.6/5",
         "Pasta, Iced Tea",
         "600"
        ],
        [
         "24",
         "Hide Out Cafe",
         "No",
         "No",
         "3.7/5",
         null,
         "300"
        ],
        [
         "25",
         "CAFE NOVA",
         "No",
         "No",
         "3.2/5",
         null,
         "600"
        ],
        [
         "26",
         "Coffee Tindi",
         "Yes",
         "No",
         "3.8/5",
         null,
         "200"
        ],
        [
         "27",
         "Sea Green Cafe",
         "No",
         "No",
         "3.3/5",
         null,
         "500"
        ],
        [
         "28",
         "Cuppa",
         "No",
         "No",
         "3.3/5",
         null,
         "550"
        ],
        [
         "29",
         "Srinathji's Cafe",
         "No",
         "No",
         "3.8/5",
         "Paratha, Sandwich, Chilli Idli, Noodles, Sandwiches, Lime Soda",
         "550"
        ],
        [
         "30",
         "Redberrys",
         "Yes",
         "No",
         "4.0/5",
         "Pizza, Fries, Anjeer Ice Cream, Sandwiches, Gelato, Burgers, Kesar Badam",
         "600"
        ],
        [
         "31",
         "Foodiction",
         "Yes",
         "No",
         "2.8/5",
         "Burgers, Lassi, Chicken Grill, Naan, Momos, Chicken Burger, Biryani",
         "500"
        ],
        [
         "32",
         "Sweet Truth",
         "Yes",
         "No",
         "3.9/5",
         null,
         "500"
        ],
        [
         "33",
         "Ovenstory Pizza",
         "Yes",
         "No",
         "3.9/5",
         "Paneer Tikka, Garlic Bread, Thin Crust Pizza, Falafel, Veggie Pizza",
         "750"
        ],
        [
         "34",
         "Faasos",
         "Yes",
         "No",
         "4.2/5",
         "Rolls, Veggie Wrap, Chocolate Fantasy, Rice Bowls, Chicken Rice, Paneer Makhanwala, Chicken Tikka Wrap",
         "500"
        ],
        [
         "35",
         "Behrouz Biryani",
         "Yes",
         "No",
         "3.9/5",
         "Raita, Gulab Jamun, Paneer Biryani, Vegetable Biryani, Gosht Dum Biryani, Chicken Biryani, Murgh Biryani",
         "650"
        ],
        [
         "36",
         "Fast And Fresh",
         "Yes",
         "No",
         "2.8/5",
         null,
         "400"
        ],
        [
         "37",
         "Szechuan Dragon",
         "Yes",
         "No",
         "4.2/5",
         "Noodles, Momos, Veg Manchow Soup, Kung Pao Chicken, Chicken Lollipop, Chop Suey, Dragon Chicken",
         "600"
        ],
        [
         "38",
         "Empire Restaurant",
         "Yes",
         "No",
         "4.4/5",
         "Chicken Tikka Masala, Mutton Keema Dosa, Mutton Biryani, Raan Biryani, Brain Fry, Chicken Grill, Ghee Rice",
         "750"
        ],
        [
         "39",
         "Maruthi Davangere Benne Dosa",
         "Yes",
         "No",
         "4.0/5",
         null,
         "150"
        ],
        [
         "40",
         "Chaatimes",
         "Yes",
         "No",
         "3.8/5",
         "Dabeli, Faluda, Masala Poori, Sandwiches, Tokri Chaat, Pav Bhaji, Dahipuri",
         "200"
        ],
        [
         "41",
         "Havyaka Mess",
         "No",
         "No",
         "3.9/5",
         null,
         "300"
        ],
        [
         "42",
         "McDonald's",
         "Yes",
         "No",
         "3.9/5",
         "Burgers, Fries, Hot Chocolate",
         "500"
        ],
        [
         "43",
         "Domino's Pizza",
         "Yes",
         "No",
         "3.9/5",
         "Pane Pizza, Lava Cake, Pasta, Stuffed Garlic Bread, Chocolava Cake, Tacos",
         "800"
        ],
        [
         "44",
         "Onesta",
         "Yes",
         "Yes",
         "4.6/5",
         "Farmhouse Pizza, Chocolate Banana, Virgin Mojito, Pasta, Paneer Tikka, Lime Soda, Prawn Pizza",
         "600"
        ],
        [
         "45",
         "Hotboxit",
         "No",
         "No",
         "3.8/5",
         "Prompt Service",
         "400"
        ],
        [
         "46",
         "Kitchen Garden",
         "Yes",
         "No",
         "3.6/5",
         "Biryani",
         "300"
        ],
        [
         "47",
         "Recipe",
         "Yes",
         "No",
         "4.0/5",
         "Butter Chicken, Noodles, Thali, Biryani",
         "450"
        ],
        [
         "48",
         "Beijing Bites",
         "Yes",
         "No",
         "3.7/5",
         "Momos, Dragon Chicken, Hakka Noodles, Chowmein, Chop Suey, Chilli Garlic Noodles, Garlic Rice",
         "850"
        ],
        [
         "49",
         "Tasty Bytes",
         "Yes",
         "No",
         "3.1/5",
         "Paratha, Pasta",
         "300"
        ]
       ],
       "shape": {
        "columns": 6,
        "rows": 51717
       }
      },
      "text/html": [
       "<div>\n",
       "<style scoped>\n",
       "    .dataframe tbody tr th:only-of-type {\n",
       "        vertical-align: middle;\n",
       "    }\n",
       "\n",
       "    .dataframe tbody tr th {\n",
       "        vertical-align: top;\n",
       "    }\n",
       "\n",
       "    .dataframe thead th {\n",
       "        text-align: right;\n",
       "    }\n",
       "</style>\n",
       "<table border=\"1\" class=\"dataframe\">\n",
       "  <thead>\n",
       "    <tr style=\"text-align: right;\">\n",
       "      <th></th>\n",
       "      <th>name</th>\n",
       "      <th>online_order</th>\n",
       "      <th>book_table</th>\n",
       "      <th>rate</th>\n",
       "      <th>dish_liked</th>\n",
       "      <th>approx_cost(for two people)</th>\n",
       "    </tr>\n",
       "  </thead>\n",
       "  <tbody>\n",
       "    <tr>\n",
       "      <th>0</th>\n",
       "      <td>Jalsa</td>\n",
       "      <td>Yes</td>\n",
       "      <td>Yes</td>\n",
       "      <td>4.1/5</td>\n",
       "      <td>Pasta, Lunch Buffet, Masala Papad, Paneer Laja...</td>\n",
       "      <td>800</td>\n",
       "    </tr>\n",
       "    <tr>\n",
       "      <th>1</th>\n",
       "      <td>Spice Elephant</td>\n",
       "      <td>Yes</td>\n",
       "      <td>No</td>\n",
       "      <td>4.1/5</td>\n",
       "      <td>Momos, Lunch Buffet, Chocolate Nirvana, Thai G...</td>\n",
       "      <td>800</td>\n",
       "    </tr>\n",
       "    <tr>\n",
       "      <th>2</th>\n",
       "      <td>San Churro Cafe</td>\n",
       "      <td>Yes</td>\n",
       "      <td>No</td>\n",
       "      <td>3.8/5</td>\n",
       "      <td>Churros, Cannelloni, Minestrone Soup, Hot Choc...</td>\n",
       "      <td>800</td>\n",
       "    </tr>\n",
       "    <tr>\n",
       "      <th>3</th>\n",
       "      <td>Addhuri Udupi Bhojana</td>\n",
       "      <td>No</td>\n",
       "      <td>No</td>\n",
       "      <td>3.7/5</td>\n",
       "      <td>Masala Dosa</td>\n",
       "      <td>300</td>\n",
       "    </tr>\n",
       "    <tr>\n",
       "      <th>4</th>\n",
       "      <td>Grand Village</td>\n",
       "      <td>No</td>\n",
       "      <td>No</td>\n",
       "      <td>3.8/5</td>\n",
       "      <td>Panipuri, Gol Gappe</td>\n",
       "      <td>600</td>\n",
       "    </tr>\n",
       "    <tr>\n",
       "      <th>...</th>\n",
       "      <td>...</td>\n",
       "      <td>...</td>\n",
       "      <td>...</td>\n",
       "      <td>...</td>\n",
       "      <td>...</td>\n",
       "      <td>...</td>\n",
       "    </tr>\n",
       "    <tr>\n",
       "      <th>51712</th>\n",
       "      <td>Best Brews - Four Points by Sheraton Bengaluru...</td>\n",
       "      <td>No</td>\n",
       "      <td>No</td>\n",
       "      <td>3.6 /5</td>\n",
       "      <td>NaN</td>\n",
       "      <td>1,500</td>\n",
       "    </tr>\n",
       "    <tr>\n",
       "      <th>51713</th>\n",
       "      <td>Vinod Bar And Restaurant</td>\n",
       "      <td>No</td>\n",
       "      <td>No</td>\n",
       "      <td>NaN</td>\n",
       "      <td>NaN</td>\n",
       "      <td>600</td>\n",
       "    </tr>\n",
       "    <tr>\n",
       "      <th>51714</th>\n",
       "      <td>Plunge - Sheraton Grand Bengaluru Whitefield H...</td>\n",
       "      <td>No</td>\n",
       "      <td>No</td>\n",
       "      <td>NaN</td>\n",
       "      <td>NaN</td>\n",
       "      <td>2,000</td>\n",
       "    </tr>\n",
       "    <tr>\n",
       "      <th>51715</th>\n",
       "      <td>Chime - Sheraton Grand Bengaluru Whitefield Ho...</td>\n",
       "      <td>No</td>\n",
       "      <td>Yes</td>\n",
       "      <td>4.3 /5</td>\n",
       "      <td>Cocktails, Pizza, Buttermilk</td>\n",
       "      <td>2,500</td>\n",
       "    </tr>\n",
       "    <tr>\n",
       "      <th>51716</th>\n",
       "      <td>The Nest - The Den Bengaluru</td>\n",
       "      <td>No</td>\n",
       "      <td>No</td>\n",
       "      <td>3.4 /5</td>\n",
       "      <td>NaN</td>\n",
       "      <td>1,500</td>\n",
       "    </tr>\n",
       "  </tbody>\n",
       "</table>\n",
       "<p>51717 rows × 6 columns</p>\n",
       "</div>"
      ],
      "text/plain": [
       "                                                    name online_order  \\\n",
       "0                                                  Jalsa          Yes   \n",
       "1                                         Spice Elephant          Yes   \n",
       "2                                        San Churro Cafe          Yes   \n",
       "3                                  Addhuri Udupi Bhojana           No   \n",
       "4                                          Grand Village           No   \n",
       "...                                                  ...          ...   \n",
       "51712  Best Brews - Four Points by Sheraton Bengaluru...           No   \n",
       "51713                           Vinod Bar And Restaurant           No   \n",
       "51714  Plunge - Sheraton Grand Bengaluru Whitefield H...           No   \n",
       "51715  Chime - Sheraton Grand Bengaluru Whitefield Ho...           No   \n",
       "51716                       The Nest - The Den Bengaluru           No   \n",
       "\n",
       "      book_table    rate                                         dish_liked  \\\n",
       "0            Yes   4.1/5  Pasta, Lunch Buffet, Masala Papad, Paneer Laja...   \n",
       "1             No   4.1/5  Momos, Lunch Buffet, Chocolate Nirvana, Thai G...   \n",
       "2             No   3.8/5  Churros, Cannelloni, Minestrone Soup, Hot Choc...   \n",
       "3             No   3.7/5                                        Masala Dosa   \n",
       "4             No   3.8/5                                Panipuri, Gol Gappe   \n",
       "...          ...     ...                                                ...   \n",
       "51712         No  3.6 /5                                                NaN   \n",
       "51713         No     NaN                                                NaN   \n",
       "51714         No     NaN                                                NaN   \n",
       "51715        Yes  4.3 /5                       Cocktails, Pizza, Buttermilk   \n",
       "51716         No  3.4 /5                                                NaN   \n",
       "\n",
       "      approx_cost(for two people)  \n",
       "0                             800  \n",
       "1                             800  \n",
       "2                             800  \n",
       "3                             300  \n",
       "4                             600  \n",
       "...                           ...  \n",
       "51712                       1,500  \n",
       "51713                         600  \n",
       "51714                       2,000  \n",
       "51715                       2,500  \n",
       "51716                       1,500  \n",
       "\n",
       "[51717 rows x 6 columns]"
      ]
     },
     "execution_count": 77,
     "metadata": {},
     "output_type": "execute_result"
    }
   ],
   "source": [
    "#Renaming the columns\n",
    "df"
   ]
  },
  {
   "cell_type": "code",
   "execution_count": 78,
   "id": "137834a2",
   "metadata": {},
   "outputs": [],
   "source": [
    "df.rename(columns={'name': 'Name'}, inplace=True)"
   ]
  },
  {
   "cell_type": "code",
   "execution_count": 79,
   "id": "bdaa6bdf",
   "metadata": {},
   "outputs": [
    {
     "data": {
      "application/vnd.microsoft.datawrangler.viewer.v0+json": {
       "columns": [
        {
         "name": "index",
         "rawType": "int64",
         "type": "integer"
        },
        {
         "name": "Name",
         "rawType": "object",
         "type": "string"
        },
        {
         "name": "online_order",
         "rawType": "object",
         "type": "string"
        },
        {
         "name": "book_table",
         "rawType": "object",
         "type": "string"
        },
        {
         "name": "rate",
         "rawType": "object",
         "type": "unknown"
        },
        {
         "name": "dish_liked",
         "rawType": "object",
         "type": "unknown"
        },
        {
         "name": "approx_cost(for two people)",
         "rawType": "object",
         "type": "unknown"
        }
       ],
       "ref": "5cf9b906-b565-4445-be5f-52aafd15f2e2",
       "rows": [
        [
         "0",
         "Jalsa",
         "Yes",
         "Yes",
         "4.1/5",
         "Pasta, Lunch Buffet, Masala Papad, Paneer Lajawab, Tomato Shorba, Dum Biryani, Sweet Corn Soup",
         "800"
        ],
        [
         "1",
         "Spice Elephant",
         "Yes",
         "No",
         "4.1/5",
         "Momos, Lunch Buffet, Chocolate Nirvana, Thai Green Curry, Paneer Tikka, Dum Biryani, Chicken Biryani",
         "800"
        ],
        [
         "2",
         "San Churro Cafe",
         "Yes",
         "No",
         "3.8/5",
         "Churros, Cannelloni, Minestrone Soup, Hot Chocolate, Pink Sauce Pasta, Salsa, Veg Supreme Pizza",
         "800"
        ],
        [
         "3",
         "Addhuri Udupi Bhojana",
         "No",
         "No",
         "3.7/5",
         "Masala Dosa",
         "300"
        ],
        [
         "4",
         "Grand Village",
         "No",
         "No",
         "3.8/5",
         "Panipuri, Gol Gappe",
         "600"
        ],
        [
         "5",
         "Timepass Dinner",
         "Yes",
         "No",
         "3.8/5",
         "Onion Rings, Pasta, Kadhai Paneer, Salads, Salad, Roti, Jeera Rice",
         "600"
        ],
        [
         "6",
         "Rosewood International Hotel - Bar & Restaurant",
         "No",
         "No",
         "3.6/5",
         null,
         "800"
        ],
        [
         "7",
         "Onesta",
         "Yes",
         "Yes",
         "4.6/5",
         "Farmhouse Pizza, Chocolate Banana, Virgin Mojito, Pasta, Paneer Tikka, Lime Soda, Prawn Pizza",
         "600"
        ],
        [
         "8",
         "Penthouse Cafe",
         "Yes",
         "No",
         "4.0/5",
         "Pizza, Mocktails, Coffee, Nachos, Salad, Pasta, Sandwiches",
         "700"
        ],
        [
         "9",
         "Smacznego",
         "Yes",
         "No",
         "4.2/5",
         "Waffles, Pasta, Coleslaw Sandwich, Choco Waffle, Tacos, Momos, Cheese Nachos",
         "550"
        ],
        [
         "10",
         "CafÃÂÃÂÃÂÃÂÃÂÃÂÃÂÃÂ© Down The Alley",
         "Yes",
         "No",
         "4.1/5",
         "Waffles, Pasta, Crispy Chicken, Honey Chilli Chicken, Sandwich, Coffee, Crepe",
         "500"
        ],
        [
         "11",
         "Cafe Shuffle",
         "Yes",
         "Yes",
         "4.2/5",
         "Mocktails, Peri Fries, Lasagne, Pizza, Chicken Bbq Wings, Virgin Mojito, Nachos",
         "600"
        ],
        [
         "12",
         "The Coffee Shack",
         "Yes",
         "Yes",
         "4.2/5",
         "Coffee, Spaghetti, Pancakes, Nachos, Pasta, Sandwich, Garlic Bread",
         "500"
        ],
        [
         "13",
         "Caf-Eleven",
         "No",
         "No",
         "4.0/5",
         "Sandwich, Omelette, Ice Tea, Virgin Mojito, Hot Chocolate, Pasta Arrabiata, Hazelnut Cappuccino",
         "450"
        ],
        [
         "14",
         "San Churro Cafe",
         "Yes",
         "No",
         "3.8/5",
         "Churros, Cannelloni, Minestrone Soup, Hot Chocolate, Pink Sauce Pasta, Salsa, Veg Supreme Pizza",
         "800"
        ],
        [
         "15",
         "Cafe Vivacity",
         "Yes",
         "No",
         "3.8/5",
         "Garlic Bread, Burgers, Sandwiches, Pizza, Hot Chocolate Fudge, Waffles, Potato Wedges",
         "650"
        ],
        [
         "16",
         "Catch-up-ino",
         "Yes",
         "No",
         "3.9/5",
         "Momos, Mushroom Bruschettas, Jalapeno Cheeseballs, Pasta, Red Velvet Shake, Red Velvet Milkshake, Maggi",
         "800"
        ],
        [
         "17",
         "Kirthi's Biryani",
         "Yes",
         "No",
         "3.8/5",
         "Pasta, Gelato, Garlic Bread, Mojito, Nachos, Paneer Pizza, Mocktails",
         "700"
        ],
        [
         "18",
         "T3H Cafe",
         "No",
         "No",
         "3.9/5",
         "Cheese Maggi, Peri Peri Fries, Pasta Arrabiata",
         "300"
        ],
        [
         "19",
         "360 Atoms Restaurant And Cafe",
         "Yes",
         "No",
         "3.1/5",
         null,
         "400"
        ],
        [
         "20",
         "The Vintage Cafe",
         "Yes",
         "No",
         "3.0/5",
         "Burgers, Caramel Milkshake, Iced Coffee, Iced Tea",
         "400"
        ],
        [
         "21",
         "Woodee Pizza",
         "Yes",
         "No",
         "3.7/5",
         "Pizza, Garlic Bread",
         "500"
        ],
        [
         "22",
         "Cafe Coffee Day",
         "No",
         "No",
         "3.6/5",
         null,
         "900"
        ],
        [
         "23",
         "My Tea House",
         "Yes",
         "No",
         "3.6/5",
         "Pasta, Iced Tea",
         "600"
        ],
        [
         "24",
         "Hide Out Cafe",
         "No",
         "No",
         "3.7/5",
         null,
         "300"
        ],
        [
         "25",
         "CAFE NOVA",
         "No",
         "No",
         "3.2/5",
         null,
         "600"
        ],
        [
         "26",
         "Coffee Tindi",
         "Yes",
         "No",
         "3.8/5",
         null,
         "200"
        ],
        [
         "27",
         "Sea Green Cafe",
         "No",
         "No",
         "3.3/5",
         null,
         "500"
        ],
        [
         "28",
         "Cuppa",
         "No",
         "No",
         "3.3/5",
         null,
         "550"
        ],
        [
         "29",
         "Srinathji's Cafe",
         "No",
         "No",
         "3.8/5",
         "Paratha, Sandwich, Chilli Idli, Noodles, Sandwiches, Lime Soda",
         "550"
        ],
        [
         "30",
         "Redberrys",
         "Yes",
         "No",
         "4.0/5",
         "Pizza, Fries, Anjeer Ice Cream, Sandwiches, Gelato, Burgers, Kesar Badam",
         "600"
        ],
        [
         "31",
         "Foodiction",
         "Yes",
         "No",
         "2.8/5",
         "Burgers, Lassi, Chicken Grill, Naan, Momos, Chicken Burger, Biryani",
         "500"
        ],
        [
         "32",
         "Sweet Truth",
         "Yes",
         "No",
         "3.9/5",
         null,
         "500"
        ],
        [
         "33",
         "Ovenstory Pizza",
         "Yes",
         "No",
         "3.9/5",
         "Paneer Tikka, Garlic Bread, Thin Crust Pizza, Falafel, Veggie Pizza",
         "750"
        ],
        [
         "34",
         "Faasos",
         "Yes",
         "No",
         "4.2/5",
         "Rolls, Veggie Wrap, Chocolate Fantasy, Rice Bowls, Chicken Rice, Paneer Makhanwala, Chicken Tikka Wrap",
         "500"
        ],
        [
         "35",
         "Behrouz Biryani",
         "Yes",
         "No",
         "3.9/5",
         "Raita, Gulab Jamun, Paneer Biryani, Vegetable Biryani, Gosht Dum Biryani, Chicken Biryani, Murgh Biryani",
         "650"
        ],
        [
         "36",
         "Fast And Fresh",
         "Yes",
         "No",
         "2.8/5",
         null,
         "400"
        ],
        [
         "37",
         "Szechuan Dragon",
         "Yes",
         "No",
         "4.2/5",
         "Noodles, Momos, Veg Manchow Soup, Kung Pao Chicken, Chicken Lollipop, Chop Suey, Dragon Chicken",
         "600"
        ],
        [
         "38",
         "Empire Restaurant",
         "Yes",
         "No",
         "4.4/5",
         "Chicken Tikka Masala, Mutton Keema Dosa, Mutton Biryani, Raan Biryani, Brain Fry, Chicken Grill, Ghee Rice",
         "750"
        ],
        [
         "39",
         "Maruthi Davangere Benne Dosa",
         "Yes",
         "No",
         "4.0/5",
         null,
         "150"
        ],
        [
         "40",
         "Chaatimes",
         "Yes",
         "No",
         "3.8/5",
         "Dabeli, Faluda, Masala Poori, Sandwiches, Tokri Chaat, Pav Bhaji, Dahipuri",
         "200"
        ],
        [
         "41",
         "Havyaka Mess",
         "No",
         "No",
         "3.9/5",
         null,
         "300"
        ],
        [
         "42",
         "McDonald's",
         "Yes",
         "No",
         "3.9/5",
         "Burgers, Fries, Hot Chocolate",
         "500"
        ],
        [
         "43",
         "Domino's Pizza",
         "Yes",
         "No",
         "3.9/5",
         "Pane Pizza, Lava Cake, Pasta, Stuffed Garlic Bread, Chocolava Cake, Tacos",
         "800"
        ],
        [
         "44",
         "Onesta",
         "Yes",
         "Yes",
         "4.6/5",
         "Farmhouse Pizza, Chocolate Banana, Virgin Mojito, Pasta, Paneer Tikka, Lime Soda, Prawn Pizza",
         "600"
        ],
        [
         "45",
         "Hotboxit",
         "No",
         "No",
         "3.8/5",
         "Prompt Service",
         "400"
        ],
        [
         "46",
         "Kitchen Garden",
         "Yes",
         "No",
         "3.6/5",
         "Biryani",
         "300"
        ],
        [
         "47",
         "Recipe",
         "Yes",
         "No",
         "4.0/5",
         "Butter Chicken, Noodles, Thali, Biryani",
         "450"
        ],
        [
         "48",
         "Beijing Bites",
         "Yes",
         "No",
         "3.7/5",
         "Momos, Dragon Chicken, Hakka Noodles, Chowmein, Chop Suey, Chilli Garlic Noodles, Garlic Rice",
         "850"
        ],
        [
         "49",
         "Tasty Bytes",
         "Yes",
         "No",
         "3.1/5",
         "Paratha, Pasta",
         "300"
        ]
       ],
       "shape": {
        "columns": 6,
        "rows": 51717
       }
      },
      "text/html": [
       "<div>\n",
       "<style scoped>\n",
       "    .dataframe tbody tr th:only-of-type {\n",
       "        vertical-align: middle;\n",
       "    }\n",
       "\n",
       "    .dataframe tbody tr th {\n",
       "        vertical-align: top;\n",
       "    }\n",
       "\n",
       "    .dataframe thead th {\n",
       "        text-align: right;\n",
       "    }\n",
       "</style>\n",
       "<table border=\"1\" class=\"dataframe\">\n",
       "  <thead>\n",
       "    <tr style=\"text-align: right;\">\n",
       "      <th></th>\n",
       "      <th>Name</th>\n",
       "      <th>online_order</th>\n",
       "      <th>book_table</th>\n",
       "      <th>rate</th>\n",
       "      <th>dish_liked</th>\n",
       "      <th>approx_cost(for two people)</th>\n",
       "    </tr>\n",
       "  </thead>\n",
       "  <tbody>\n",
       "    <tr>\n",
       "      <th>0</th>\n",
       "      <td>Jalsa</td>\n",
       "      <td>Yes</td>\n",
       "      <td>Yes</td>\n",
       "      <td>4.1/5</td>\n",
       "      <td>Pasta, Lunch Buffet, Masala Papad, Paneer Laja...</td>\n",
       "      <td>800</td>\n",
       "    </tr>\n",
       "    <tr>\n",
       "      <th>1</th>\n",
       "      <td>Spice Elephant</td>\n",
       "      <td>Yes</td>\n",
       "      <td>No</td>\n",
       "      <td>4.1/5</td>\n",
       "      <td>Momos, Lunch Buffet, Chocolate Nirvana, Thai G...</td>\n",
       "      <td>800</td>\n",
       "    </tr>\n",
       "    <tr>\n",
       "      <th>2</th>\n",
       "      <td>San Churro Cafe</td>\n",
       "      <td>Yes</td>\n",
       "      <td>No</td>\n",
       "      <td>3.8/5</td>\n",
       "      <td>Churros, Cannelloni, Minestrone Soup, Hot Choc...</td>\n",
       "      <td>800</td>\n",
       "    </tr>\n",
       "    <tr>\n",
       "      <th>3</th>\n",
       "      <td>Addhuri Udupi Bhojana</td>\n",
       "      <td>No</td>\n",
       "      <td>No</td>\n",
       "      <td>3.7/5</td>\n",
       "      <td>Masala Dosa</td>\n",
       "      <td>300</td>\n",
       "    </tr>\n",
       "    <tr>\n",
       "      <th>4</th>\n",
       "      <td>Grand Village</td>\n",
       "      <td>No</td>\n",
       "      <td>No</td>\n",
       "      <td>3.8/5</td>\n",
       "      <td>Panipuri, Gol Gappe</td>\n",
       "      <td>600</td>\n",
       "    </tr>\n",
       "    <tr>\n",
       "      <th>...</th>\n",
       "      <td>...</td>\n",
       "      <td>...</td>\n",
       "      <td>...</td>\n",
       "      <td>...</td>\n",
       "      <td>...</td>\n",
       "      <td>...</td>\n",
       "    </tr>\n",
       "    <tr>\n",
       "      <th>51712</th>\n",
       "      <td>Best Brews - Four Points by Sheraton Bengaluru...</td>\n",
       "      <td>No</td>\n",
       "      <td>No</td>\n",
       "      <td>3.6 /5</td>\n",
       "      <td>NaN</td>\n",
       "      <td>1,500</td>\n",
       "    </tr>\n",
       "    <tr>\n",
       "      <th>51713</th>\n",
       "      <td>Vinod Bar And Restaurant</td>\n",
       "      <td>No</td>\n",
       "      <td>No</td>\n",
       "      <td>NaN</td>\n",
       "      <td>NaN</td>\n",
       "      <td>600</td>\n",
       "    </tr>\n",
       "    <tr>\n",
       "      <th>51714</th>\n",
       "      <td>Plunge - Sheraton Grand Bengaluru Whitefield H...</td>\n",
       "      <td>No</td>\n",
       "      <td>No</td>\n",
       "      <td>NaN</td>\n",
       "      <td>NaN</td>\n",
       "      <td>2,000</td>\n",
       "    </tr>\n",
       "    <tr>\n",
       "      <th>51715</th>\n",
       "      <td>Chime - Sheraton Grand Bengaluru Whitefield Ho...</td>\n",
       "      <td>No</td>\n",
       "      <td>Yes</td>\n",
       "      <td>4.3 /5</td>\n",
       "      <td>Cocktails, Pizza, Buttermilk</td>\n",
       "      <td>2,500</td>\n",
       "    </tr>\n",
       "    <tr>\n",
       "      <th>51716</th>\n",
       "      <td>The Nest - The Den Bengaluru</td>\n",
       "      <td>No</td>\n",
       "      <td>No</td>\n",
       "      <td>3.4 /5</td>\n",
       "      <td>NaN</td>\n",
       "      <td>1,500</td>\n",
       "    </tr>\n",
       "  </tbody>\n",
       "</table>\n",
       "<p>51717 rows × 6 columns</p>\n",
       "</div>"
      ],
      "text/plain": [
       "                                                    Name online_order  \\\n",
       "0                                                  Jalsa          Yes   \n",
       "1                                         Spice Elephant          Yes   \n",
       "2                                        San Churro Cafe          Yes   \n",
       "3                                  Addhuri Udupi Bhojana           No   \n",
       "4                                          Grand Village           No   \n",
       "...                                                  ...          ...   \n",
       "51712  Best Brews - Four Points by Sheraton Bengaluru...           No   \n",
       "51713                           Vinod Bar And Restaurant           No   \n",
       "51714  Plunge - Sheraton Grand Bengaluru Whitefield H...           No   \n",
       "51715  Chime - Sheraton Grand Bengaluru Whitefield Ho...           No   \n",
       "51716                       The Nest - The Den Bengaluru           No   \n",
       "\n",
       "      book_table    rate                                         dish_liked  \\\n",
       "0            Yes   4.1/5  Pasta, Lunch Buffet, Masala Papad, Paneer Laja...   \n",
       "1             No   4.1/5  Momos, Lunch Buffet, Chocolate Nirvana, Thai G...   \n",
       "2             No   3.8/5  Churros, Cannelloni, Minestrone Soup, Hot Choc...   \n",
       "3             No   3.7/5                                        Masala Dosa   \n",
       "4             No   3.8/5                                Panipuri, Gol Gappe   \n",
       "...          ...     ...                                                ...   \n",
       "51712         No  3.6 /5                                                NaN   \n",
       "51713         No     NaN                                                NaN   \n",
       "51714         No     NaN                                                NaN   \n",
       "51715        Yes  4.3 /5                       Cocktails, Pizza, Buttermilk   \n",
       "51716         No  3.4 /5                                                NaN   \n",
       "\n",
       "      approx_cost(for two people)  \n",
       "0                             800  \n",
       "1                             800  \n",
       "2                             800  \n",
       "3                             300  \n",
       "4                             600  \n",
       "...                           ...  \n",
       "51712                       1,500  \n",
       "51713                         600  \n",
       "51714                       2,000  \n",
       "51715                       2,500  \n",
       "51716                       1,500  \n",
       "\n",
       "[51717 rows x 6 columns]"
      ]
     },
     "execution_count": 79,
     "metadata": {},
     "output_type": "execute_result"
    }
   ],
   "source": [
    "df"
   ]
  },
  {
   "cell_type": "code",
   "execution_count": 80,
   "id": "04e1c87b",
   "metadata": {},
   "outputs": [
    {
     "data": {
      "text/plain": [
       "Index(['Name', 'online_order', 'book_table', 'rate', 'dish_liked',\n",
       "       'approx_cost(for two people)'],\n",
       "      dtype='object')"
      ]
     },
     "execution_count": 80,
     "metadata": {},
     "output_type": "execute_result"
    }
   ],
   "source": [
    "df.columns"
   ]
  },
  {
   "cell_type": "code",
   "execution_count": 81,
   "id": "2acb85a9",
   "metadata": {},
   "outputs": [
    {
     "data": {
      "text/plain": [
       "'for i in df.columns:\\n    print(i.capitalize())#first letter capitalized\\n    '"
      ]
     },
     "execution_count": 81,
     "metadata": {},
     "output_type": "execute_result"
    }
   ],
   "source": [
    "'''for i in df.columns:\n",
    "    print(i.capitalize())#first letter capitalized\n",
    "    '''"
   ]
  },
  {
   "cell_type": "code",
   "execution_count": 82,
   "id": "5eee8333",
   "metadata": {},
   "outputs": [],
   "source": [
    "new_colnames = []\n",
    "for i in df.columns:\n",
    "    new_colnames.append(i.capitalize())"
   ]
  },
  {
   "cell_type": "code",
   "execution_count": 83,
   "id": "1e42bf20",
   "metadata": {},
   "outputs": [],
   "source": [
    "df.columns=new_colnames"
   ]
  },
  {
   "cell_type": "code",
   "execution_count": 84,
   "id": "3ac06e80",
   "metadata": {},
   "outputs": [
    {
     "data": {
      "text/plain": [
       "Index(['Name', 'Online_order', 'Book_table', 'Rate', 'Dish_liked',\n",
       "       'Approx_cost(for two people)'],\n",
       "      dtype='object')"
      ]
     },
     "execution_count": 84,
     "metadata": {},
     "output_type": "execute_result"
    }
   ],
   "source": [
    "df.columns"
   ]
  },
  {
   "cell_type": "code",
   "execution_count": 85,
   "id": "c491c881",
   "metadata": {},
   "outputs": [
    {
     "data": {
      "application/vnd.microsoft.datawrangler.viewer.v0+json": {
       "columns": [
        {
         "name": "index",
         "rawType": "int64",
         "type": "integer"
        },
        {
         "name": "Name",
         "rawType": "object",
         "type": "string"
        },
        {
         "name": "Online_order",
         "rawType": "object",
         "type": "string"
        },
        {
         "name": "Book_table",
         "rawType": "object",
         "type": "string"
        },
        {
         "name": "Rate",
         "rawType": "object",
         "type": "unknown"
        },
        {
         "name": "Dish_liked",
         "rawType": "object",
         "type": "unknown"
        },
        {
         "name": "Approx_cost(for two people)",
         "rawType": "object",
         "type": "unknown"
        }
       ],
       "ref": "9df7b6e4-d0ba-4db9-898b-74fa0039f903",
       "rows": [
        [
         "0",
         "Jalsa",
         "Yes",
         "Yes",
         "4.1/5",
         "Pasta, Lunch Buffet, Masala Papad, Paneer Lajawab, Tomato Shorba, Dum Biryani, Sweet Corn Soup",
         "800"
        ],
        [
         "1",
         "Spice Elephant",
         "Yes",
         "No",
         "4.1/5",
         "Momos, Lunch Buffet, Chocolate Nirvana, Thai Green Curry, Paneer Tikka, Dum Biryani, Chicken Biryani",
         "800"
        ],
        [
         "2",
         "San Churro Cafe",
         "Yes",
         "No",
         "3.8/5",
         "Churros, Cannelloni, Minestrone Soup, Hot Chocolate, Pink Sauce Pasta, Salsa, Veg Supreme Pizza",
         "800"
        ],
        [
         "3",
         "Addhuri Udupi Bhojana",
         "No",
         "No",
         "3.7/5",
         "Masala Dosa",
         "300"
        ],
        [
         "4",
         "Grand Village",
         "No",
         "No",
         "3.8/5",
         "Panipuri, Gol Gappe",
         "600"
        ],
        [
         "5",
         "Timepass Dinner",
         "Yes",
         "No",
         "3.8/5",
         "Onion Rings, Pasta, Kadhai Paneer, Salads, Salad, Roti, Jeera Rice",
         "600"
        ],
        [
         "6",
         "Rosewood International Hotel - Bar & Restaurant",
         "No",
         "No",
         "3.6/5",
         null,
         "800"
        ],
        [
         "7",
         "Onesta",
         "Yes",
         "Yes",
         "4.6/5",
         "Farmhouse Pizza, Chocolate Banana, Virgin Mojito, Pasta, Paneer Tikka, Lime Soda, Prawn Pizza",
         "600"
        ],
        [
         "8",
         "Penthouse Cafe",
         "Yes",
         "No",
         "4.0/5",
         "Pizza, Mocktails, Coffee, Nachos, Salad, Pasta, Sandwiches",
         "700"
        ],
        [
         "9",
         "Smacznego",
         "Yes",
         "No",
         "4.2/5",
         "Waffles, Pasta, Coleslaw Sandwich, Choco Waffle, Tacos, Momos, Cheese Nachos",
         "550"
        ],
        [
         "10",
         "CafÃÂÃÂÃÂÃÂÃÂÃÂÃÂÃÂ© Down The Alley",
         "Yes",
         "No",
         "4.1/5",
         "Waffles, Pasta, Crispy Chicken, Honey Chilli Chicken, Sandwich, Coffee, Crepe",
         "500"
        ],
        [
         "11",
         "Cafe Shuffle",
         "Yes",
         "Yes",
         "4.2/5",
         "Mocktails, Peri Fries, Lasagne, Pizza, Chicken Bbq Wings, Virgin Mojito, Nachos",
         "600"
        ],
        [
         "12",
         "The Coffee Shack",
         "Yes",
         "Yes",
         "4.2/5",
         "Coffee, Spaghetti, Pancakes, Nachos, Pasta, Sandwich, Garlic Bread",
         "500"
        ],
        [
         "13",
         "Caf-Eleven",
         "No",
         "No",
         "4.0/5",
         "Sandwich, Omelette, Ice Tea, Virgin Mojito, Hot Chocolate, Pasta Arrabiata, Hazelnut Cappuccino",
         "450"
        ],
        [
         "14",
         "San Churro Cafe",
         "Yes",
         "No",
         "3.8/5",
         "Churros, Cannelloni, Minestrone Soup, Hot Chocolate, Pink Sauce Pasta, Salsa, Veg Supreme Pizza",
         "800"
        ],
        [
         "15",
         "Cafe Vivacity",
         "Yes",
         "No",
         "3.8/5",
         "Garlic Bread, Burgers, Sandwiches, Pizza, Hot Chocolate Fudge, Waffles, Potato Wedges",
         "650"
        ],
        [
         "16",
         "Catch-up-ino",
         "Yes",
         "No",
         "3.9/5",
         "Momos, Mushroom Bruschettas, Jalapeno Cheeseballs, Pasta, Red Velvet Shake, Red Velvet Milkshake, Maggi",
         "800"
        ],
        [
         "17",
         "Kirthi's Biryani",
         "Yes",
         "No",
         "3.8/5",
         "Pasta, Gelato, Garlic Bread, Mojito, Nachos, Paneer Pizza, Mocktails",
         "700"
        ],
        [
         "18",
         "T3H Cafe",
         "No",
         "No",
         "3.9/5",
         "Cheese Maggi, Peri Peri Fries, Pasta Arrabiata",
         "300"
        ],
        [
         "19",
         "360 Atoms Restaurant And Cafe",
         "Yes",
         "No",
         "3.1/5",
         null,
         "400"
        ],
        [
         "20",
         "The Vintage Cafe",
         "Yes",
         "No",
         "3.0/5",
         "Burgers, Caramel Milkshake, Iced Coffee, Iced Tea",
         "400"
        ],
        [
         "21",
         "Woodee Pizza",
         "Yes",
         "No",
         "3.7/5",
         "Pizza, Garlic Bread",
         "500"
        ],
        [
         "22",
         "Cafe Coffee Day",
         "No",
         "No",
         "3.6/5",
         null,
         "900"
        ],
        [
         "23",
         "My Tea House",
         "Yes",
         "No",
         "3.6/5",
         "Pasta, Iced Tea",
         "600"
        ],
        [
         "24",
         "Hide Out Cafe",
         "No",
         "No",
         "3.7/5",
         null,
         "300"
        ],
        [
         "25",
         "CAFE NOVA",
         "No",
         "No",
         "3.2/5",
         null,
         "600"
        ],
        [
         "26",
         "Coffee Tindi",
         "Yes",
         "No",
         "3.8/5",
         null,
         "200"
        ],
        [
         "27",
         "Sea Green Cafe",
         "No",
         "No",
         "3.3/5",
         null,
         "500"
        ],
        [
         "28",
         "Cuppa",
         "No",
         "No",
         "3.3/5",
         null,
         "550"
        ],
        [
         "29",
         "Srinathji's Cafe",
         "No",
         "No",
         "3.8/5",
         "Paratha, Sandwich, Chilli Idli, Noodles, Sandwiches, Lime Soda",
         "550"
        ],
        [
         "30",
         "Redberrys",
         "Yes",
         "No",
         "4.0/5",
         "Pizza, Fries, Anjeer Ice Cream, Sandwiches, Gelato, Burgers, Kesar Badam",
         "600"
        ],
        [
         "31",
         "Foodiction",
         "Yes",
         "No",
         "2.8/5",
         "Burgers, Lassi, Chicken Grill, Naan, Momos, Chicken Burger, Biryani",
         "500"
        ],
        [
         "32",
         "Sweet Truth",
         "Yes",
         "No",
         "3.9/5",
         null,
         "500"
        ],
        [
         "33",
         "Ovenstory Pizza",
         "Yes",
         "No",
         "3.9/5",
         "Paneer Tikka, Garlic Bread, Thin Crust Pizza, Falafel, Veggie Pizza",
         "750"
        ],
        [
         "34",
         "Faasos",
         "Yes",
         "No",
         "4.2/5",
         "Rolls, Veggie Wrap, Chocolate Fantasy, Rice Bowls, Chicken Rice, Paneer Makhanwala, Chicken Tikka Wrap",
         "500"
        ],
        [
         "35",
         "Behrouz Biryani",
         "Yes",
         "No",
         "3.9/5",
         "Raita, Gulab Jamun, Paneer Biryani, Vegetable Biryani, Gosht Dum Biryani, Chicken Biryani, Murgh Biryani",
         "650"
        ],
        [
         "36",
         "Fast And Fresh",
         "Yes",
         "No",
         "2.8/5",
         null,
         "400"
        ],
        [
         "37",
         "Szechuan Dragon",
         "Yes",
         "No",
         "4.2/5",
         "Noodles, Momos, Veg Manchow Soup, Kung Pao Chicken, Chicken Lollipop, Chop Suey, Dragon Chicken",
         "600"
        ],
        [
         "38",
         "Empire Restaurant",
         "Yes",
         "No",
         "4.4/5",
         "Chicken Tikka Masala, Mutton Keema Dosa, Mutton Biryani, Raan Biryani, Brain Fry, Chicken Grill, Ghee Rice",
         "750"
        ],
        [
         "39",
         "Maruthi Davangere Benne Dosa",
         "Yes",
         "No",
         "4.0/5",
         null,
         "150"
        ],
        [
         "40",
         "Chaatimes",
         "Yes",
         "No",
         "3.8/5",
         "Dabeli, Faluda, Masala Poori, Sandwiches, Tokri Chaat, Pav Bhaji, Dahipuri",
         "200"
        ],
        [
         "41",
         "Havyaka Mess",
         "No",
         "No",
         "3.9/5",
         null,
         "300"
        ],
        [
         "42",
         "McDonald's",
         "Yes",
         "No",
         "3.9/5",
         "Burgers, Fries, Hot Chocolate",
         "500"
        ],
        [
         "43",
         "Domino's Pizza",
         "Yes",
         "No",
         "3.9/5",
         "Pane Pizza, Lava Cake, Pasta, Stuffed Garlic Bread, Chocolava Cake, Tacos",
         "800"
        ],
        [
         "44",
         "Onesta",
         "Yes",
         "Yes",
         "4.6/5",
         "Farmhouse Pizza, Chocolate Banana, Virgin Mojito, Pasta, Paneer Tikka, Lime Soda, Prawn Pizza",
         "600"
        ],
        [
         "45",
         "Hotboxit",
         "No",
         "No",
         "3.8/5",
         "Prompt Service",
         "400"
        ],
        [
         "46",
         "Kitchen Garden",
         "Yes",
         "No",
         "3.6/5",
         "Biryani",
         "300"
        ],
        [
         "47",
         "Recipe",
         "Yes",
         "No",
         "4.0/5",
         "Butter Chicken, Noodles, Thali, Biryani",
         "450"
        ],
        [
         "48",
         "Beijing Bites",
         "Yes",
         "No",
         "3.7/5",
         "Momos, Dragon Chicken, Hakka Noodles, Chowmein, Chop Suey, Chilli Garlic Noodles, Garlic Rice",
         "850"
        ],
        [
         "49",
         "Tasty Bytes",
         "Yes",
         "No",
         "3.1/5",
         "Paratha, Pasta",
         "300"
        ]
       ],
       "shape": {
        "columns": 6,
        "rows": 51717
       }
      },
      "text/html": [
       "<div>\n",
       "<style scoped>\n",
       "    .dataframe tbody tr th:only-of-type {\n",
       "        vertical-align: middle;\n",
       "    }\n",
       "\n",
       "    .dataframe tbody tr th {\n",
       "        vertical-align: top;\n",
       "    }\n",
       "\n",
       "    .dataframe thead th {\n",
       "        text-align: right;\n",
       "    }\n",
       "</style>\n",
       "<table border=\"1\" class=\"dataframe\">\n",
       "  <thead>\n",
       "    <tr style=\"text-align: right;\">\n",
       "      <th></th>\n",
       "      <th>Name</th>\n",
       "      <th>Online_order</th>\n",
       "      <th>Book_table</th>\n",
       "      <th>Rate</th>\n",
       "      <th>Dish_liked</th>\n",
       "      <th>Approx_cost(for two people)</th>\n",
       "    </tr>\n",
       "  </thead>\n",
       "  <tbody>\n",
       "    <tr>\n",
       "      <th>0</th>\n",
       "      <td>Jalsa</td>\n",
       "      <td>Yes</td>\n",
       "      <td>Yes</td>\n",
       "      <td>4.1/5</td>\n",
       "      <td>Pasta, Lunch Buffet, Masala Papad, Paneer Laja...</td>\n",
       "      <td>800</td>\n",
       "    </tr>\n",
       "    <tr>\n",
       "      <th>1</th>\n",
       "      <td>Spice Elephant</td>\n",
       "      <td>Yes</td>\n",
       "      <td>No</td>\n",
       "      <td>4.1/5</td>\n",
       "      <td>Momos, Lunch Buffet, Chocolate Nirvana, Thai G...</td>\n",
       "      <td>800</td>\n",
       "    </tr>\n",
       "    <tr>\n",
       "      <th>2</th>\n",
       "      <td>San Churro Cafe</td>\n",
       "      <td>Yes</td>\n",
       "      <td>No</td>\n",
       "      <td>3.8/5</td>\n",
       "      <td>Churros, Cannelloni, Minestrone Soup, Hot Choc...</td>\n",
       "      <td>800</td>\n",
       "    </tr>\n",
       "    <tr>\n",
       "      <th>3</th>\n",
       "      <td>Addhuri Udupi Bhojana</td>\n",
       "      <td>No</td>\n",
       "      <td>No</td>\n",
       "      <td>3.7/5</td>\n",
       "      <td>Masala Dosa</td>\n",
       "      <td>300</td>\n",
       "    </tr>\n",
       "    <tr>\n",
       "      <th>4</th>\n",
       "      <td>Grand Village</td>\n",
       "      <td>No</td>\n",
       "      <td>No</td>\n",
       "      <td>3.8/5</td>\n",
       "      <td>Panipuri, Gol Gappe</td>\n",
       "      <td>600</td>\n",
       "    </tr>\n",
       "    <tr>\n",
       "      <th>...</th>\n",
       "      <td>...</td>\n",
       "      <td>...</td>\n",
       "      <td>...</td>\n",
       "      <td>...</td>\n",
       "      <td>...</td>\n",
       "      <td>...</td>\n",
       "    </tr>\n",
       "    <tr>\n",
       "      <th>51712</th>\n",
       "      <td>Best Brews - Four Points by Sheraton Bengaluru...</td>\n",
       "      <td>No</td>\n",
       "      <td>No</td>\n",
       "      <td>3.6 /5</td>\n",
       "      <td>NaN</td>\n",
       "      <td>1,500</td>\n",
       "    </tr>\n",
       "    <tr>\n",
       "      <th>51713</th>\n",
       "      <td>Vinod Bar And Restaurant</td>\n",
       "      <td>No</td>\n",
       "      <td>No</td>\n",
       "      <td>NaN</td>\n",
       "      <td>NaN</td>\n",
       "      <td>600</td>\n",
       "    </tr>\n",
       "    <tr>\n",
       "      <th>51714</th>\n",
       "      <td>Plunge - Sheraton Grand Bengaluru Whitefield H...</td>\n",
       "      <td>No</td>\n",
       "      <td>No</td>\n",
       "      <td>NaN</td>\n",
       "      <td>NaN</td>\n",
       "      <td>2,000</td>\n",
       "    </tr>\n",
       "    <tr>\n",
       "      <th>51715</th>\n",
       "      <td>Chime - Sheraton Grand Bengaluru Whitefield Ho...</td>\n",
       "      <td>No</td>\n",
       "      <td>Yes</td>\n",
       "      <td>4.3 /5</td>\n",
       "      <td>Cocktails, Pizza, Buttermilk</td>\n",
       "      <td>2,500</td>\n",
       "    </tr>\n",
       "    <tr>\n",
       "      <th>51716</th>\n",
       "      <td>The Nest - The Den Bengaluru</td>\n",
       "      <td>No</td>\n",
       "      <td>No</td>\n",
       "      <td>3.4 /5</td>\n",
       "      <td>NaN</td>\n",
       "      <td>1,500</td>\n",
       "    </tr>\n",
       "  </tbody>\n",
       "</table>\n",
       "<p>51717 rows × 6 columns</p>\n",
       "</div>"
      ],
      "text/plain": [
       "                                                    Name Online_order  \\\n",
       "0                                                  Jalsa          Yes   \n",
       "1                                         Spice Elephant          Yes   \n",
       "2                                        San Churro Cafe          Yes   \n",
       "3                                  Addhuri Udupi Bhojana           No   \n",
       "4                                          Grand Village           No   \n",
       "...                                                  ...          ...   \n",
       "51712  Best Brews - Four Points by Sheraton Bengaluru...           No   \n",
       "51713                           Vinod Bar And Restaurant           No   \n",
       "51714  Plunge - Sheraton Grand Bengaluru Whitefield H...           No   \n",
       "51715  Chime - Sheraton Grand Bengaluru Whitefield Ho...           No   \n",
       "51716                       The Nest - The Den Bengaluru           No   \n",
       "\n",
       "      Book_table    Rate                                         Dish_liked  \\\n",
       "0            Yes   4.1/5  Pasta, Lunch Buffet, Masala Papad, Paneer Laja...   \n",
       "1             No   4.1/5  Momos, Lunch Buffet, Chocolate Nirvana, Thai G...   \n",
       "2             No   3.8/5  Churros, Cannelloni, Minestrone Soup, Hot Choc...   \n",
       "3             No   3.7/5                                        Masala Dosa   \n",
       "4             No   3.8/5                                Panipuri, Gol Gappe   \n",
       "...          ...     ...                                                ...   \n",
       "51712         No  3.6 /5                                                NaN   \n",
       "51713         No     NaN                                                NaN   \n",
       "51714         No     NaN                                                NaN   \n",
       "51715        Yes  4.3 /5                       Cocktails, Pizza, Buttermilk   \n",
       "51716         No  3.4 /5                                                NaN   \n",
       "\n",
       "      Approx_cost(for two people)  \n",
       "0                             800  \n",
       "1                             800  \n",
       "2                             800  \n",
       "3                             300  \n",
       "4                             600  \n",
       "...                           ...  \n",
       "51712                       1,500  \n",
       "51713                         600  \n",
       "51714                       2,000  \n",
       "51715                       2,500  \n",
       "51716                       1,500  \n",
       "\n",
       "[51717 rows x 6 columns]"
      ]
     },
     "execution_count": 85,
     "metadata": {},
     "output_type": "execute_result"
    }
   ],
   "source": [
    "#droping duplicates\n",
    "df"
   ]
  },
  {
   "cell_type": "code",
   "execution_count": 86,
   "id": "f5108b1f",
   "metadata": {},
   "outputs": [
    {
     "data": {
      "application/vnd.microsoft.datawrangler.viewer.v0+json": {
       "columns": [
        {
         "name": "index",
         "rawType": "int64",
         "type": "integer"
        },
        {
         "name": "0",
         "rawType": "bool",
         "type": "boolean"
        }
       ],
       "ref": "4bfe7660-d09a-44ba-89c2-7728efed5349",
       "rows": [
        [
         "0",
         "False"
        ],
        [
         "1",
         "False"
        ],
        [
         "2",
         "False"
        ],
        [
         "3",
         "False"
        ],
        [
         "4",
         "False"
        ],
        [
         "5",
         "False"
        ],
        [
         "6",
         "False"
        ],
        [
         "7",
         "False"
        ],
        [
         "8",
         "False"
        ],
        [
         "9",
         "False"
        ],
        [
         "10",
         "False"
        ],
        [
         "11",
         "False"
        ],
        [
         "12",
         "False"
        ],
        [
         "13",
         "False"
        ],
        [
         "14",
         "True"
        ],
        [
         "15",
         "False"
        ],
        [
         "16",
         "False"
        ],
        [
         "17",
         "False"
        ],
        [
         "18",
         "False"
        ],
        [
         "19",
         "False"
        ],
        [
         "20",
         "False"
        ],
        [
         "21",
         "False"
        ],
        [
         "22",
         "False"
        ],
        [
         "23",
         "False"
        ],
        [
         "24",
         "False"
        ],
        [
         "25",
         "False"
        ],
        [
         "26",
         "False"
        ],
        [
         "27",
         "False"
        ],
        [
         "28",
         "False"
        ],
        [
         "29",
         "False"
        ],
        [
         "30",
         "False"
        ],
        [
         "31",
         "False"
        ],
        [
         "32",
         "False"
        ],
        [
         "33",
         "False"
        ],
        [
         "34",
         "False"
        ],
        [
         "35",
         "False"
        ],
        [
         "36",
         "False"
        ],
        [
         "37",
         "False"
        ],
        [
         "38",
         "False"
        ],
        [
         "39",
         "False"
        ],
        [
         "40",
         "False"
        ],
        [
         "41",
         "False"
        ],
        [
         "42",
         "False"
        ],
        [
         "43",
         "False"
        ],
        [
         "44",
         "True"
        ],
        [
         "45",
         "False"
        ],
        [
         "46",
         "False"
        ],
        [
         "47",
         "False"
        ],
        [
         "48",
         "False"
        ],
        [
         "49",
         "False"
        ]
       ],
       "shape": {
        "columns": 1,
        "rows": 51717
       }
      },
      "text/plain": [
       "0        False\n",
       "1        False\n",
       "2        False\n",
       "3        False\n",
       "4        False\n",
       "         ...  \n",
       "51712     True\n",
       "51713     True\n",
       "51714    False\n",
       "51715     True\n",
       "51716     True\n",
       "Length: 51717, dtype: bool"
      ]
     },
     "execution_count": 86,
     "metadata": {},
     "output_type": "execute_result"
    }
   ],
   "source": [
    "df.duplicated()"
   ]
  },
  {
   "cell_type": "code",
   "execution_count": 87,
   "id": "722caf78",
   "metadata": {},
   "outputs": [
    {
     "data": {
      "text/plain": [
       "np.int64(32808)"
      ]
     },
     "execution_count": 87,
     "metadata": {},
     "output_type": "execute_result"
    }
   ],
   "source": [
    "df.duplicated().sum()"
   ]
  },
  {
   "cell_type": "code",
   "execution_count": 88,
   "id": "07902a66",
   "metadata": {},
   "outputs": [
    {
     "data": {
      "application/vnd.microsoft.datawrangler.viewer.v0+json": {
       "columns": [
        {
         "name": "index",
         "rawType": "bool",
         "type": "boolean"
        },
        {
         "name": "count",
         "rawType": "int64",
         "type": "integer"
        }
       ],
       "ref": "ec9ec94e-ae87-491e-a8b6-40ee56929154",
       "rows": [
        [
         "True",
         "32808"
        ],
        [
         "False",
         "18909"
        ]
       ],
       "shape": {
        "columns": 1,
        "rows": 2
       }
      },
      "text/plain": [
       "True     32808\n",
       "False    18909\n",
       "Name: count, dtype: int64"
      ]
     },
     "execution_count": 88,
     "metadata": {},
     "output_type": "execute_result"
    }
   ],
   "source": [
    "df.duplicated().value_counts()"
   ]
  },
  {
   "cell_type": "code",
   "execution_count": 89,
   "id": "bfbec1e3",
   "metadata": {},
   "outputs": [],
   "source": [
    "df.drop_duplicates(inplace=True)"
   ]
  },
  {
   "cell_type": "code",
   "execution_count": 90,
   "id": "9cfd66ea",
   "metadata": {},
   "outputs": [
    {
     "data": {
      "application/vnd.microsoft.datawrangler.viewer.v0+json": {
       "columns": [
        {
         "name": "index",
         "rawType": "int64",
         "type": "integer"
        },
        {
         "name": "Name",
         "rawType": "object",
         "type": "string"
        },
        {
         "name": "Online_order",
         "rawType": "object",
         "type": "string"
        },
        {
         "name": "Book_table",
         "rawType": "object",
         "type": "string"
        },
        {
         "name": "Rate",
         "rawType": "object",
         "type": "unknown"
        },
        {
         "name": "Dish_liked",
         "rawType": "object",
         "type": "unknown"
        },
        {
         "name": "Approx_cost(for two people)",
         "rawType": "object",
         "type": "unknown"
        }
       ],
       "ref": "3437882f-6d43-47b5-a01a-76f4e939dae3",
       "rows": [
        [
         "0",
         "Jalsa",
         "Yes",
         "Yes",
         "4.1/5",
         "Pasta, Lunch Buffet, Masala Papad, Paneer Lajawab, Tomato Shorba, Dum Biryani, Sweet Corn Soup",
         "800"
        ],
        [
         "1",
         "Spice Elephant",
         "Yes",
         "No",
         "4.1/5",
         "Momos, Lunch Buffet, Chocolate Nirvana, Thai Green Curry, Paneer Tikka, Dum Biryani, Chicken Biryani",
         "800"
        ],
        [
         "2",
         "San Churro Cafe",
         "Yes",
         "No",
         "3.8/5",
         "Churros, Cannelloni, Minestrone Soup, Hot Chocolate, Pink Sauce Pasta, Salsa, Veg Supreme Pizza",
         "800"
        ],
        [
         "3",
         "Addhuri Udupi Bhojana",
         "No",
         "No",
         "3.7/5",
         "Masala Dosa",
         "300"
        ],
        [
         "4",
         "Grand Village",
         "No",
         "No",
         "3.8/5",
         "Panipuri, Gol Gappe",
         "600"
        ],
        [
         "5",
         "Timepass Dinner",
         "Yes",
         "No",
         "3.8/5",
         "Onion Rings, Pasta, Kadhai Paneer, Salads, Salad, Roti, Jeera Rice",
         "600"
        ],
        [
         "6",
         "Rosewood International Hotel - Bar & Restaurant",
         "No",
         "No",
         "3.6/5",
         null,
         "800"
        ],
        [
         "7",
         "Onesta",
         "Yes",
         "Yes",
         "4.6/5",
         "Farmhouse Pizza, Chocolate Banana, Virgin Mojito, Pasta, Paneer Tikka, Lime Soda, Prawn Pizza",
         "600"
        ],
        [
         "8",
         "Penthouse Cafe",
         "Yes",
         "No",
         "4.0/5",
         "Pizza, Mocktails, Coffee, Nachos, Salad, Pasta, Sandwiches",
         "700"
        ],
        [
         "9",
         "Smacznego",
         "Yes",
         "No",
         "4.2/5",
         "Waffles, Pasta, Coleslaw Sandwich, Choco Waffle, Tacos, Momos, Cheese Nachos",
         "550"
        ],
        [
         "10",
         "CafÃÂÃÂÃÂÃÂÃÂÃÂÃÂÃÂ© Down The Alley",
         "Yes",
         "No",
         "4.1/5",
         "Waffles, Pasta, Crispy Chicken, Honey Chilli Chicken, Sandwich, Coffee, Crepe",
         "500"
        ],
        [
         "11",
         "Cafe Shuffle",
         "Yes",
         "Yes",
         "4.2/5",
         "Mocktails, Peri Fries, Lasagne, Pizza, Chicken Bbq Wings, Virgin Mojito, Nachos",
         "600"
        ],
        [
         "12",
         "The Coffee Shack",
         "Yes",
         "Yes",
         "4.2/5",
         "Coffee, Spaghetti, Pancakes, Nachos, Pasta, Sandwich, Garlic Bread",
         "500"
        ],
        [
         "13",
         "Caf-Eleven",
         "No",
         "No",
         "4.0/5",
         "Sandwich, Omelette, Ice Tea, Virgin Mojito, Hot Chocolate, Pasta Arrabiata, Hazelnut Cappuccino",
         "450"
        ],
        [
         "15",
         "Cafe Vivacity",
         "Yes",
         "No",
         "3.8/5",
         "Garlic Bread, Burgers, Sandwiches, Pizza, Hot Chocolate Fudge, Waffles, Potato Wedges",
         "650"
        ],
        [
         "16",
         "Catch-up-ino",
         "Yes",
         "No",
         "3.9/5",
         "Momos, Mushroom Bruschettas, Jalapeno Cheeseballs, Pasta, Red Velvet Shake, Red Velvet Milkshake, Maggi",
         "800"
        ],
        [
         "17",
         "Kirthi's Biryani",
         "Yes",
         "No",
         "3.8/5",
         "Pasta, Gelato, Garlic Bread, Mojito, Nachos, Paneer Pizza, Mocktails",
         "700"
        ],
        [
         "18",
         "T3H Cafe",
         "No",
         "No",
         "3.9/5",
         "Cheese Maggi, Peri Peri Fries, Pasta Arrabiata",
         "300"
        ],
        [
         "19",
         "360 Atoms Restaurant And Cafe",
         "Yes",
         "No",
         "3.1/5",
         null,
         "400"
        ],
        [
         "20",
         "The Vintage Cafe",
         "Yes",
         "No",
         "3.0/5",
         "Burgers, Caramel Milkshake, Iced Coffee, Iced Tea",
         "400"
        ],
        [
         "21",
         "Woodee Pizza",
         "Yes",
         "No",
         "3.7/5",
         "Pizza, Garlic Bread",
         "500"
        ],
        [
         "22",
         "Cafe Coffee Day",
         "No",
         "No",
         "3.6/5",
         null,
         "900"
        ],
        [
         "23",
         "My Tea House",
         "Yes",
         "No",
         "3.6/5",
         "Pasta, Iced Tea",
         "600"
        ],
        [
         "24",
         "Hide Out Cafe",
         "No",
         "No",
         "3.7/5",
         null,
         "300"
        ],
        [
         "25",
         "CAFE NOVA",
         "No",
         "No",
         "3.2/5",
         null,
         "600"
        ],
        [
         "26",
         "Coffee Tindi",
         "Yes",
         "No",
         "3.8/5",
         null,
         "200"
        ],
        [
         "27",
         "Sea Green Cafe",
         "No",
         "No",
         "3.3/5",
         null,
         "500"
        ],
        [
         "28",
         "Cuppa",
         "No",
         "No",
         "3.3/5",
         null,
         "550"
        ],
        [
         "29",
         "Srinathji's Cafe",
         "No",
         "No",
         "3.8/5",
         "Paratha, Sandwich, Chilli Idli, Noodles, Sandwiches, Lime Soda",
         "550"
        ],
        [
         "30",
         "Redberrys",
         "Yes",
         "No",
         "4.0/5",
         "Pizza, Fries, Anjeer Ice Cream, Sandwiches, Gelato, Burgers, Kesar Badam",
         "600"
        ],
        [
         "31",
         "Foodiction",
         "Yes",
         "No",
         "2.8/5",
         "Burgers, Lassi, Chicken Grill, Naan, Momos, Chicken Burger, Biryani",
         "500"
        ],
        [
         "32",
         "Sweet Truth",
         "Yes",
         "No",
         "3.9/5",
         null,
         "500"
        ],
        [
         "33",
         "Ovenstory Pizza",
         "Yes",
         "No",
         "3.9/5",
         "Paneer Tikka, Garlic Bread, Thin Crust Pizza, Falafel, Veggie Pizza",
         "750"
        ],
        [
         "34",
         "Faasos",
         "Yes",
         "No",
         "4.2/5",
         "Rolls, Veggie Wrap, Chocolate Fantasy, Rice Bowls, Chicken Rice, Paneer Makhanwala, Chicken Tikka Wrap",
         "500"
        ],
        [
         "35",
         "Behrouz Biryani",
         "Yes",
         "No",
         "3.9/5",
         "Raita, Gulab Jamun, Paneer Biryani, Vegetable Biryani, Gosht Dum Biryani, Chicken Biryani, Murgh Biryani",
         "650"
        ],
        [
         "36",
         "Fast And Fresh",
         "Yes",
         "No",
         "2.8/5",
         null,
         "400"
        ],
        [
         "37",
         "Szechuan Dragon",
         "Yes",
         "No",
         "4.2/5",
         "Noodles, Momos, Veg Manchow Soup, Kung Pao Chicken, Chicken Lollipop, Chop Suey, Dragon Chicken",
         "600"
        ],
        [
         "38",
         "Empire Restaurant",
         "Yes",
         "No",
         "4.4/5",
         "Chicken Tikka Masala, Mutton Keema Dosa, Mutton Biryani, Raan Biryani, Brain Fry, Chicken Grill, Ghee Rice",
         "750"
        ],
        [
         "39",
         "Maruthi Davangere Benne Dosa",
         "Yes",
         "No",
         "4.0/5",
         null,
         "150"
        ],
        [
         "40",
         "Chaatimes",
         "Yes",
         "No",
         "3.8/5",
         "Dabeli, Faluda, Masala Poori, Sandwiches, Tokri Chaat, Pav Bhaji, Dahipuri",
         "200"
        ],
        [
         "41",
         "Havyaka Mess",
         "No",
         "No",
         "3.9/5",
         null,
         "300"
        ],
        [
         "42",
         "McDonald's",
         "Yes",
         "No",
         "3.9/5",
         "Burgers, Fries, Hot Chocolate",
         "500"
        ],
        [
         "43",
         "Domino's Pizza",
         "Yes",
         "No",
         "3.9/5",
         "Pane Pizza, Lava Cake, Pasta, Stuffed Garlic Bread, Chocolava Cake, Tacos",
         "800"
        ],
        [
         "45",
         "Hotboxit",
         "No",
         "No",
         "3.8/5",
         "Prompt Service",
         "400"
        ],
        [
         "46",
         "Kitchen Garden",
         "Yes",
         "No",
         "3.6/5",
         "Biryani",
         "300"
        ],
        [
         "47",
         "Recipe",
         "Yes",
         "No",
         "4.0/5",
         "Butter Chicken, Noodles, Thali, Biryani",
         "450"
        ],
        [
         "48",
         "Beijing Bites",
         "Yes",
         "No",
         "3.7/5",
         "Momos, Dragon Chicken, Hakka Noodles, Chowmein, Chop Suey, Chilli Garlic Noodles, Garlic Rice",
         "850"
        ],
        [
         "49",
         "Tasty Bytes",
         "Yes",
         "No",
         "3.1/5",
         "Paratha, Pasta",
         "300"
        ],
        [
         "50",
         "Petoo",
         "No",
         "No",
         "3.7/5",
         null,
         "450"
        ],
        [
         "51",
         "Shree Cool Point",
         "Yes",
         "No",
         "4.1/5",
         null,
         "150"
        ]
       ],
       "shape": {
        "columns": 6,
        "rows": 18909
       }
      },
      "text/html": [
       "<div>\n",
       "<style scoped>\n",
       "    .dataframe tbody tr th:only-of-type {\n",
       "        vertical-align: middle;\n",
       "    }\n",
       "\n",
       "    .dataframe tbody tr th {\n",
       "        vertical-align: top;\n",
       "    }\n",
       "\n",
       "    .dataframe thead th {\n",
       "        text-align: right;\n",
       "    }\n",
       "</style>\n",
       "<table border=\"1\" class=\"dataframe\">\n",
       "  <thead>\n",
       "    <tr style=\"text-align: right;\">\n",
       "      <th></th>\n",
       "      <th>Name</th>\n",
       "      <th>Online_order</th>\n",
       "      <th>Book_table</th>\n",
       "      <th>Rate</th>\n",
       "      <th>Dish_liked</th>\n",
       "      <th>Approx_cost(for two people)</th>\n",
       "    </tr>\n",
       "  </thead>\n",
       "  <tbody>\n",
       "    <tr>\n",
       "      <th>0</th>\n",
       "      <td>Jalsa</td>\n",
       "      <td>Yes</td>\n",
       "      <td>Yes</td>\n",
       "      <td>4.1/5</td>\n",
       "      <td>Pasta, Lunch Buffet, Masala Papad, Paneer Laja...</td>\n",
       "      <td>800</td>\n",
       "    </tr>\n",
       "    <tr>\n",
       "      <th>1</th>\n",
       "      <td>Spice Elephant</td>\n",
       "      <td>Yes</td>\n",
       "      <td>No</td>\n",
       "      <td>4.1/5</td>\n",
       "      <td>Momos, Lunch Buffet, Chocolate Nirvana, Thai G...</td>\n",
       "      <td>800</td>\n",
       "    </tr>\n",
       "    <tr>\n",
       "      <th>2</th>\n",
       "      <td>San Churro Cafe</td>\n",
       "      <td>Yes</td>\n",
       "      <td>No</td>\n",
       "      <td>3.8/5</td>\n",
       "      <td>Churros, Cannelloni, Minestrone Soup, Hot Choc...</td>\n",
       "      <td>800</td>\n",
       "    </tr>\n",
       "    <tr>\n",
       "      <th>3</th>\n",
       "      <td>Addhuri Udupi Bhojana</td>\n",
       "      <td>No</td>\n",
       "      <td>No</td>\n",
       "      <td>3.7/5</td>\n",
       "      <td>Masala Dosa</td>\n",
       "      <td>300</td>\n",
       "    </tr>\n",
       "    <tr>\n",
       "      <th>4</th>\n",
       "      <td>Grand Village</td>\n",
       "      <td>No</td>\n",
       "      <td>No</td>\n",
       "      <td>3.8/5</td>\n",
       "      <td>Panipuri, Gol Gappe</td>\n",
       "      <td>600</td>\n",
       "    </tr>\n",
       "    <tr>\n",
       "      <th>...</th>\n",
       "      <td>...</td>\n",
       "      <td>...</td>\n",
       "      <td>...</td>\n",
       "      <td>...</td>\n",
       "      <td>...</td>\n",
       "      <td>...</td>\n",
       "    </tr>\n",
       "    <tr>\n",
       "      <th>51631</th>\n",
       "      <td>Just Parathas</td>\n",
       "      <td>No</td>\n",
       "      <td>No</td>\n",
       "      <td>3.4 /5</td>\n",
       "      <td>NaN</td>\n",
       "      <td>250</td>\n",
       "    </tr>\n",
       "    <tr>\n",
       "      <th>51632</th>\n",
       "      <td>SeeYa Restaurant</td>\n",
       "      <td>No</td>\n",
       "      <td>No</td>\n",
       "      <td>3.3 /5</td>\n",
       "      <td>NaN</td>\n",
       "      <td>350</td>\n",
       "    </tr>\n",
       "    <tr>\n",
       "      <th>51641</th>\n",
       "      <td>Andhra Spices</td>\n",
       "      <td>No</td>\n",
       "      <td>No</td>\n",
       "      <td>3.2 /5</td>\n",
       "      <td>NaN</td>\n",
       "      <td>NaN</td>\n",
       "    </tr>\n",
       "    <tr>\n",
       "      <th>51677</th>\n",
       "      <td>Bhagini</td>\n",
       "      <td>No</td>\n",
       "      <td>No</td>\n",
       "      <td>2.5 /5</td>\n",
       "      <td>Biryani, Andhra Meal</td>\n",
       "      <td>800</td>\n",
       "    </tr>\n",
       "    <tr>\n",
       "      <th>51714</th>\n",
       "      <td>Plunge - Sheraton Grand Bengaluru Whitefield H...</td>\n",
       "      <td>No</td>\n",
       "      <td>No</td>\n",
       "      <td>NaN</td>\n",
       "      <td>NaN</td>\n",
       "      <td>2,000</td>\n",
       "    </tr>\n",
       "  </tbody>\n",
       "</table>\n",
       "<p>18909 rows × 6 columns</p>\n",
       "</div>"
      ],
      "text/plain": [
       "                                                    Name Online_order  \\\n",
       "0                                                  Jalsa          Yes   \n",
       "1                                         Spice Elephant          Yes   \n",
       "2                                        San Churro Cafe          Yes   \n",
       "3                                  Addhuri Udupi Bhojana           No   \n",
       "4                                          Grand Village           No   \n",
       "...                                                  ...          ...   \n",
       "51631                                      Just Parathas           No   \n",
       "51632                                   SeeYa Restaurant           No   \n",
       "51641                                      Andhra Spices           No   \n",
       "51677                                            Bhagini           No   \n",
       "51714  Plunge - Sheraton Grand Bengaluru Whitefield H...           No   \n",
       "\n",
       "      Book_table    Rate                                         Dish_liked  \\\n",
       "0            Yes   4.1/5  Pasta, Lunch Buffet, Masala Papad, Paneer Laja...   \n",
       "1             No   4.1/5  Momos, Lunch Buffet, Chocolate Nirvana, Thai G...   \n",
       "2             No   3.8/5  Churros, Cannelloni, Minestrone Soup, Hot Choc...   \n",
       "3             No   3.7/5                                        Masala Dosa   \n",
       "4             No   3.8/5                                Panipuri, Gol Gappe   \n",
       "...          ...     ...                                                ...   \n",
       "51631         No  3.4 /5                                                NaN   \n",
       "51632         No  3.3 /5                                                NaN   \n",
       "51641         No  3.2 /5                                                NaN   \n",
       "51677         No  2.5 /5                               Biryani, Andhra Meal   \n",
       "51714         No     NaN                                                NaN   \n",
       "\n",
       "      Approx_cost(for two people)  \n",
       "0                             800  \n",
       "1                             800  \n",
       "2                             800  \n",
       "3                             300  \n",
       "4                             600  \n",
       "...                           ...  \n",
       "51631                         250  \n",
       "51632                         350  \n",
       "51641                         NaN  \n",
       "51677                         800  \n",
       "51714                       2,000  \n",
       "\n",
       "[18909 rows x 6 columns]"
      ]
     },
     "execution_count": 90,
     "metadata": {},
     "output_type": "execute_result"
    }
   ],
   "source": [
    "df"
   ]
  },
  {
   "cell_type": "code",
   "execution_count": 91,
   "id": "ab307e33",
   "metadata": {},
   "outputs": [
    {
     "data": {
      "text/plain": [
       "np.int64(0)"
      ]
     },
     "execution_count": 91,
     "metadata": {},
     "output_type": "execute_result"
    }
   ],
   "source": [
    "df.duplicated().sum()"
   ]
  },
  {
   "cell_type": "code",
   "execution_count": 92,
   "id": "1c7aeb25",
   "metadata": {},
   "outputs": [
    {
     "data": {
      "application/vnd.microsoft.datawrangler.viewer.v0+json": {
       "columns": [
        {
         "name": "index",
         "rawType": "int64",
         "type": "integer"
        },
        {
         "name": "0",
         "rawType": "bool",
         "type": "boolean"
        }
       ],
       "ref": "36bc5a52-eaea-4e22-a3c4-d69cb56747e0",
       "rows": [
        [
         "0",
         "False"
        ],
        [
         "1",
         "False"
        ],
        [
         "2",
         "False"
        ],
        [
         "3",
         "False"
        ],
        [
         "4",
         "False"
        ],
        [
         "5",
         "False"
        ],
        [
         "6",
         "False"
        ],
        [
         "7",
         "False"
        ],
        [
         "8",
         "False"
        ],
        [
         "9",
         "False"
        ],
        [
         "10",
         "False"
        ],
        [
         "11",
         "False"
        ],
        [
         "12",
         "False"
        ],
        [
         "13",
         "False"
        ],
        [
         "15",
         "False"
        ],
        [
         "16",
         "False"
        ],
        [
         "17",
         "False"
        ],
        [
         "18",
         "False"
        ],
        [
         "19",
         "False"
        ],
        [
         "20",
         "False"
        ],
        [
         "21",
         "False"
        ],
        [
         "22",
         "False"
        ],
        [
         "23",
         "False"
        ],
        [
         "24",
         "False"
        ],
        [
         "25",
         "False"
        ],
        [
         "26",
         "False"
        ],
        [
         "27",
         "False"
        ],
        [
         "28",
         "False"
        ],
        [
         "29",
         "False"
        ],
        [
         "30",
         "False"
        ],
        [
         "31",
         "False"
        ],
        [
         "32",
         "False"
        ],
        [
         "33",
         "False"
        ],
        [
         "34",
         "False"
        ],
        [
         "35",
         "False"
        ],
        [
         "36",
         "False"
        ],
        [
         "37",
         "False"
        ],
        [
         "38",
         "False"
        ],
        [
         "39",
         "False"
        ],
        [
         "40",
         "False"
        ],
        [
         "41",
         "False"
        ],
        [
         "42",
         "False"
        ],
        [
         "43",
         "False"
        ],
        [
         "45",
         "False"
        ],
        [
         "46",
         "False"
        ],
        [
         "47",
         "False"
        ],
        [
         "48",
         "False"
        ],
        [
         "49",
         "False"
        ],
        [
         "50",
         "False"
        ],
        [
         "51",
         "False"
        ]
       ],
       "shape": {
        "columns": 1,
        "rows": 18909
       }
      },
      "text/plain": [
       "0        False\n",
       "1        False\n",
       "2        False\n",
       "3        False\n",
       "4        False\n",
       "         ...  \n",
       "51631    False\n",
       "51632    False\n",
       "51641    False\n",
       "51677    False\n",
       "51714    False\n",
       "Length: 18909, dtype: bool"
      ]
     },
     "execution_count": 92,
     "metadata": {},
     "output_type": "execute_result"
    }
   ],
   "source": [
    "df.duplicated()"
   ]
  },
  {
   "cell_type": "code",
   "execution_count": 93,
   "id": "36090640",
   "metadata": {},
   "outputs": [
    {
     "data": {
      "application/vnd.microsoft.datawrangler.viewer.v0+json": {
       "columns": [
        {
         "name": "index",
         "rawType": "int64",
         "type": "integer"
        },
        {
         "name": "Name",
         "rawType": "bool",
         "type": "boolean"
        },
        {
         "name": "Online_order",
         "rawType": "bool",
         "type": "boolean"
        },
        {
         "name": "Book_table",
         "rawType": "bool",
         "type": "boolean"
        },
        {
         "name": "Rate",
         "rawType": "bool",
         "type": "boolean"
        },
        {
         "name": "Dish_liked",
         "rawType": "bool",
         "type": "boolean"
        },
        {
         "name": "Approx_cost(for two people)",
         "rawType": "bool",
         "type": "boolean"
        }
       ],
       "ref": "fc287213-c02b-4f3c-a05b-28e3e0b324db",
       "rows": [
        [
         "0",
         "False",
         "False",
         "False",
         "False",
         "False",
         "False"
        ],
        [
         "1",
         "False",
         "False",
         "False",
         "False",
         "False",
         "False"
        ],
        [
         "2",
         "False",
         "False",
         "False",
         "False",
         "False",
         "False"
        ],
        [
         "3",
         "False",
         "False",
         "False",
         "False",
         "False",
         "False"
        ],
        [
         "4",
         "False",
         "False",
         "False",
         "False",
         "False",
         "False"
        ],
        [
         "5",
         "False",
         "False",
         "False",
         "False",
         "False",
         "False"
        ],
        [
         "6",
         "False",
         "False",
         "False",
         "False",
         "True",
         "False"
        ],
        [
         "7",
         "False",
         "False",
         "False",
         "False",
         "False",
         "False"
        ],
        [
         "8",
         "False",
         "False",
         "False",
         "False",
         "False",
         "False"
        ],
        [
         "9",
         "False",
         "False",
         "False",
         "False",
         "False",
         "False"
        ],
        [
         "10",
         "False",
         "False",
         "False",
         "False",
         "False",
         "False"
        ],
        [
         "11",
         "False",
         "False",
         "False",
         "False",
         "False",
         "False"
        ],
        [
         "12",
         "False",
         "False",
         "False",
         "False",
         "False",
         "False"
        ],
        [
         "13",
         "False",
         "False",
         "False",
         "False",
         "False",
         "False"
        ],
        [
         "15",
         "False",
         "False",
         "False",
         "False",
         "False",
         "False"
        ],
        [
         "16",
         "False",
         "False",
         "False",
         "False",
         "False",
         "False"
        ],
        [
         "17",
         "False",
         "False",
         "False",
         "False",
         "False",
         "False"
        ],
        [
         "18",
         "False",
         "False",
         "False",
         "False",
         "False",
         "False"
        ],
        [
         "19",
         "False",
         "False",
         "False",
         "False",
         "True",
         "False"
        ],
        [
         "20",
         "False",
         "False",
         "False",
         "False",
         "False",
         "False"
        ],
        [
         "21",
         "False",
         "False",
         "False",
         "False",
         "False",
         "False"
        ],
        [
         "22",
         "False",
         "False",
         "False",
         "False",
         "True",
         "False"
        ],
        [
         "23",
         "False",
         "False",
         "False",
         "False",
         "False",
         "False"
        ],
        [
         "24",
         "False",
         "False",
         "False",
         "False",
         "True",
         "False"
        ],
        [
         "25",
         "False",
         "False",
         "False",
         "False",
         "True",
         "False"
        ],
        [
         "26",
         "False",
         "False",
         "False",
         "False",
         "True",
         "False"
        ],
        [
         "27",
         "False",
         "False",
         "False",
         "False",
         "True",
         "False"
        ],
        [
         "28",
         "False",
         "False",
         "False",
         "False",
         "True",
         "False"
        ],
        [
         "29",
         "False",
         "False",
         "False",
         "False",
         "False",
         "False"
        ],
        [
         "30",
         "False",
         "False",
         "False",
         "False",
         "False",
         "False"
        ],
        [
         "31",
         "False",
         "False",
         "False",
         "False",
         "False",
         "False"
        ],
        [
         "32",
         "False",
         "False",
         "False",
         "False",
         "True",
         "False"
        ],
        [
         "33",
         "False",
         "False",
         "False",
         "False",
         "False",
         "False"
        ],
        [
         "34",
         "False",
         "False",
         "False",
         "False",
         "False",
         "False"
        ],
        [
         "35",
         "False",
         "False",
         "False",
         "False",
         "False",
         "False"
        ],
        [
         "36",
         "False",
         "False",
         "False",
         "False",
         "True",
         "False"
        ],
        [
         "37",
         "False",
         "False",
         "False",
         "False",
         "False",
         "False"
        ],
        [
         "38",
         "False",
         "False",
         "False",
         "False",
         "False",
         "False"
        ],
        [
         "39",
         "False",
         "False",
         "False",
         "False",
         "True",
         "False"
        ],
        [
         "40",
         "False",
         "False",
         "False",
         "False",
         "False",
         "False"
        ],
        [
         "41",
         "False",
         "False",
         "False",
         "False",
         "True",
         "False"
        ],
        [
         "42",
         "False",
         "False",
         "False",
         "False",
         "False",
         "False"
        ],
        [
         "43",
         "False",
         "False",
         "False",
         "False",
         "False",
         "False"
        ],
        [
         "45",
         "False",
         "False",
         "False",
         "False",
         "False",
         "False"
        ],
        [
         "46",
         "False",
         "False",
         "False",
         "False",
         "False",
         "False"
        ],
        [
         "47",
         "False",
         "False",
         "False",
         "False",
         "False",
         "False"
        ],
        [
         "48",
         "False",
         "False",
         "False",
         "False",
         "False",
         "False"
        ],
        [
         "49",
         "False",
         "False",
         "False",
         "False",
         "False",
         "False"
        ],
        [
         "50",
         "False",
         "False",
         "False",
         "False",
         "True",
         "False"
        ],
        [
         "51",
         "False",
         "False",
         "False",
         "False",
         "True",
         "False"
        ]
       ],
       "shape": {
        "columns": 6,
        "rows": 18909
       }
      },
      "text/html": [
       "<div>\n",
       "<style scoped>\n",
       "    .dataframe tbody tr th:only-of-type {\n",
       "        vertical-align: middle;\n",
       "    }\n",
       "\n",
       "    .dataframe tbody tr th {\n",
       "        vertical-align: top;\n",
       "    }\n",
       "\n",
       "    .dataframe thead th {\n",
       "        text-align: right;\n",
       "    }\n",
       "</style>\n",
       "<table border=\"1\" class=\"dataframe\">\n",
       "  <thead>\n",
       "    <tr style=\"text-align: right;\">\n",
       "      <th></th>\n",
       "      <th>Name</th>\n",
       "      <th>Online_order</th>\n",
       "      <th>Book_table</th>\n",
       "      <th>Rate</th>\n",
       "      <th>Dish_liked</th>\n",
       "      <th>Approx_cost(for two people)</th>\n",
       "    </tr>\n",
       "  </thead>\n",
       "  <tbody>\n",
       "    <tr>\n",
       "      <th>0</th>\n",
       "      <td>False</td>\n",
       "      <td>False</td>\n",
       "      <td>False</td>\n",
       "      <td>False</td>\n",
       "      <td>False</td>\n",
       "      <td>False</td>\n",
       "    </tr>\n",
       "    <tr>\n",
       "      <th>1</th>\n",
       "      <td>False</td>\n",
       "      <td>False</td>\n",
       "      <td>False</td>\n",
       "      <td>False</td>\n",
       "      <td>False</td>\n",
       "      <td>False</td>\n",
       "    </tr>\n",
       "    <tr>\n",
       "      <th>2</th>\n",
       "      <td>False</td>\n",
       "      <td>False</td>\n",
       "      <td>False</td>\n",
       "      <td>False</td>\n",
       "      <td>False</td>\n",
       "      <td>False</td>\n",
       "    </tr>\n",
       "    <tr>\n",
       "      <th>3</th>\n",
       "      <td>False</td>\n",
       "      <td>False</td>\n",
       "      <td>False</td>\n",
       "      <td>False</td>\n",
       "      <td>False</td>\n",
       "      <td>False</td>\n",
       "    </tr>\n",
       "    <tr>\n",
       "      <th>4</th>\n",
       "      <td>False</td>\n",
       "      <td>False</td>\n",
       "      <td>False</td>\n",
       "      <td>False</td>\n",
       "      <td>False</td>\n",
       "      <td>False</td>\n",
       "    </tr>\n",
       "    <tr>\n",
       "      <th>...</th>\n",
       "      <td>...</td>\n",
       "      <td>...</td>\n",
       "      <td>...</td>\n",
       "      <td>...</td>\n",
       "      <td>...</td>\n",
       "      <td>...</td>\n",
       "    </tr>\n",
       "    <tr>\n",
       "      <th>51631</th>\n",
       "      <td>False</td>\n",
       "      <td>False</td>\n",
       "      <td>False</td>\n",
       "      <td>False</td>\n",
       "      <td>True</td>\n",
       "      <td>False</td>\n",
       "    </tr>\n",
       "    <tr>\n",
       "      <th>51632</th>\n",
       "      <td>False</td>\n",
       "      <td>False</td>\n",
       "      <td>False</td>\n",
       "      <td>False</td>\n",
       "      <td>True</td>\n",
       "      <td>False</td>\n",
       "    </tr>\n",
       "    <tr>\n",
       "      <th>51641</th>\n",
       "      <td>False</td>\n",
       "      <td>False</td>\n",
       "      <td>False</td>\n",
       "      <td>False</td>\n",
       "      <td>True</td>\n",
       "      <td>True</td>\n",
       "    </tr>\n",
       "    <tr>\n",
       "      <th>51677</th>\n",
       "      <td>False</td>\n",
       "      <td>False</td>\n",
       "      <td>False</td>\n",
       "      <td>False</td>\n",
       "      <td>False</td>\n",
       "      <td>False</td>\n",
       "    </tr>\n",
       "    <tr>\n",
       "      <th>51714</th>\n",
       "      <td>False</td>\n",
       "      <td>False</td>\n",
       "      <td>False</td>\n",
       "      <td>True</td>\n",
       "      <td>True</td>\n",
       "      <td>False</td>\n",
       "    </tr>\n",
       "  </tbody>\n",
       "</table>\n",
       "<p>18909 rows × 6 columns</p>\n",
       "</div>"
      ],
      "text/plain": [
       "        Name  Online_order  Book_table   Rate  Dish_liked  \\\n",
       "0      False         False       False  False       False   \n",
       "1      False         False       False  False       False   \n",
       "2      False         False       False  False       False   \n",
       "3      False         False       False  False       False   \n",
       "4      False         False       False  False       False   \n",
       "...      ...           ...         ...    ...         ...   \n",
       "51631  False         False       False  False        True   \n",
       "51632  False         False       False  False        True   \n",
       "51641  False         False       False  False        True   \n",
       "51677  False         False       False  False       False   \n",
       "51714  False         False       False   True        True   \n",
       "\n",
       "       Approx_cost(for two people)  \n",
       "0                            False  \n",
       "1                            False  \n",
       "2                            False  \n",
       "3                            False  \n",
       "4                            False  \n",
       "...                            ...  \n",
       "51631                        False  \n",
       "51632                        False  \n",
       "51641                         True  \n",
       "51677                        False  \n",
       "51714                        False  \n",
       "\n",
       "[18909 rows x 6 columns]"
      ]
     },
     "execution_count": 93,
     "metadata": {},
     "output_type": "execute_result"
    }
   ],
   "source": [
    "#deleting nan values\n",
    "df.isna()"
   ]
  },
  {
   "cell_type": "code",
   "execution_count": 94,
   "id": "83372b3e",
   "metadata": {},
   "outputs": [
    {
     "data": {
      "application/vnd.microsoft.datawrangler.viewer.v0+json": {
       "columns": [
        {
         "name": "index",
         "rawType": "object",
         "type": "string"
        },
        {
         "name": "0",
         "rawType": "int64",
         "type": "integer"
        }
       ],
       "ref": "b80d1f45-b003-4b59-9a07-aff9a192d7de",
       "rows": [
        [
         "Name",
         "0"
        ],
        [
         "Online_order",
         "0"
        ],
        [
         "Book_table",
         "0"
        ],
        [
         "Rate",
         "2418"
        ],
        [
         "Dish_liked",
         "10587"
        ],
        [
         "Approx_cost(for two people)",
         "140"
        ]
       ],
       "shape": {
        "columns": 1,
        "rows": 6
       }
      },
      "text/plain": [
       "Name                               0\n",
       "Online_order                       0\n",
       "Book_table                         0\n",
       "Rate                            2418\n",
       "Dish_liked                     10587\n",
       "Approx_cost(for two people)      140\n",
       "dtype: int64"
      ]
     },
     "execution_count": 94,
     "metadata": {},
     "output_type": "execute_result"
    }
   ],
   "source": [
    "df.isna().sum()"
   ]
  },
  {
   "cell_type": "code",
   "execution_count": 95,
   "id": "b2b58e36",
   "metadata": {},
   "outputs": [],
   "source": [
    "df.dropna(inplace=True)"
   ]
  },
  {
   "cell_type": "code",
   "execution_count": 96,
   "id": "854d25b5",
   "metadata": {},
   "outputs": [
    {
     "data": {
      "application/vnd.microsoft.datawrangler.viewer.v0+json": {
       "columns": [
        {
         "name": "index",
         "rawType": "object",
         "type": "string"
        },
        {
         "name": "0",
         "rawType": "int64",
         "type": "integer"
        }
       ],
       "ref": "fc4d0edb-d319-4044-9c7d-ac467bf67aee",
       "rows": [
        [
         "Name",
         "0"
        ],
        [
         "Online_order",
         "0"
        ],
        [
         "Book_table",
         "0"
        ],
        [
         "Rate",
         "0"
        ],
        [
         "Dish_liked",
         "0"
        ],
        [
         "Approx_cost(for two people)",
         "0"
        ]
       ],
       "shape": {
        "columns": 1,
        "rows": 6
       }
      },
      "text/plain": [
       "Name                           0\n",
       "Online_order                   0\n",
       "Book_table                     0\n",
       "Rate                           0\n",
       "Dish_liked                     0\n",
       "Approx_cost(for two people)    0\n",
       "dtype: int64"
      ]
     },
     "execution_count": 96,
     "metadata": {},
     "output_type": "execute_result"
    }
   ],
   "source": [
    "df.isna().sum()"
   ]
  },
  {
   "cell_type": "code",
   "execution_count": 97,
   "id": "47dac9e4",
   "metadata": {},
   "outputs": [
    {
     "data": {
      "application/vnd.microsoft.datawrangler.viewer.v0+json": {
       "columns": [
        {
         "name": "index",
         "rawType": "int64",
         "type": "integer"
        },
        {
         "name": "Name",
         "rawType": "bool",
         "type": "boolean"
        },
        {
         "name": "Online_order",
         "rawType": "bool",
         "type": "boolean"
        },
        {
         "name": "Book_table",
         "rawType": "bool",
         "type": "boolean"
        },
        {
         "name": "Rate",
         "rawType": "bool",
         "type": "boolean"
        },
        {
         "name": "Dish_liked",
         "rawType": "bool",
         "type": "boolean"
        },
        {
         "name": "Approx_cost(for two people)",
         "rawType": "bool",
         "type": "boolean"
        }
       ],
       "ref": "5efc9bbb-d79c-4938-8327-72108ec9ee64",
       "rows": [
        [
         "0",
         "False",
         "False",
         "False",
         "False",
         "False",
         "False"
        ],
        [
         "1",
         "False",
         "False",
         "False",
         "False",
         "False",
         "False"
        ],
        [
         "2",
         "False",
         "False",
         "False",
         "False",
         "False",
         "False"
        ],
        [
         "3",
         "False",
         "False",
         "False",
         "False",
         "False",
         "False"
        ],
        [
         "4",
         "False",
         "False",
         "False",
         "False",
         "False",
         "False"
        ],
        [
         "5",
         "False",
         "False",
         "False",
         "False",
         "False",
         "False"
        ],
        [
         "7",
         "False",
         "False",
         "False",
         "False",
         "False",
         "False"
        ],
        [
         "8",
         "False",
         "False",
         "False",
         "False",
         "False",
         "False"
        ],
        [
         "9",
         "False",
         "False",
         "False",
         "False",
         "False",
         "False"
        ],
        [
         "10",
         "False",
         "False",
         "False",
         "False",
         "False",
         "False"
        ],
        [
         "11",
         "False",
         "False",
         "False",
         "False",
         "False",
         "False"
        ],
        [
         "12",
         "False",
         "False",
         "False",
         "False",
         "False",
         "False"
        ],
        [
         "13",
         "False",
         "False",
         "False",
         "False",
         "False",
         "False"
        ],
        [
         "15",
         "False",
         "False",
         "False",
         "False",
         "False",
         "False"
        ],
        [
         "16",
         "False",
         "False",
         "False",
         "False",
         "False",
         "False"
        ],
        [
         "17",
         "False",
         "False",
         "False",
         "False",
         "False",
         "False"
        ],
        [
         "18",
         "False",
         "False",
         "False",
         "False",
         "False",
         "False"
        ],
        [
         "20",
         "False",
         "False",
         "False",
         "False",
         "False",
         "False"
        ],
        [
         "21",
         "False",
         "False",
         "False",
         "False",
         "False",
         "False"
        ],
        [
         "23",
         "False",
         "False",
         "False",
         "False",
         "False",
         "False"
        ],
        [
         "29",
         "False",
         "False",
         "False",
         "False",
         "False",
         "False"
        ],
        [
         "30",
         "False",
         "False",
         "False",
         "False",
         "False",
         "False"
        ],
        [
         "31",
         "False",
         "False",
         "False",
         "False",
         "False",
         "False"
        ],
        [
         "33",
         "False",
         "False",
         "False",
         "False",
         "False",
         "False"
        ],
        [
         "34",
         "False",
         "False",
         "False",
         "False",
         "False",
         "False"
        ],
        [
         "35",
         "False",
         "False",
         "False",
         "False",
         "False",
         "False"
        ],
        [
         "37",
         "False",
         "False",
         "False",
         "False",
         "False",
         "False"
        ],
        [
         "38",
         "False",
         "False",
         "False",
         "False",
         "False",
         "False"
        ],
        [
         "40",
         "False",
         "False",
         "False",
         "False",
         "False",
         "False"
        ],
        [
         "42",
         "False",
         "False",
         "False",
         "False",
         "False",
         "False"
        ],
        [
         "43",
         "False",
         "False",
         "False",
         "False",
         "False",
         "False"
        ],
        [
         "45",
         "False",
         "False",
         "False",
         "False",
         "False",
         "False"
        ],
        [
         "46",
         "False",
         "False",
         "False",
         "False",
         "False",
         "False"
        ],
        [
         "47",
         "False",
         "False",
         "False",
         "False",
         "False",
         "False"
        ],
        [
         "48",
         "False",
         "False",
         "False",
         "False",
         "False",
         "False"
        ],
        [
         "49",
         "False",
         "False",
         "False",
         "False",
         "False",
         "False"
        ],
        [
         "52",
         "False",
         "False",
         "False",
         "False",
         "False",
         "False"
        ],
        [
         "53",
         "False",
         "False",
         "False",
         "False",
         "False",
         "False"
        ],
        [
         "54",
         "False",
         "False",
         "False",
         "False",
         "False",
         "False"
        ],
        [
         "55",
         "False",
         "False",
         "False",
         "False",
         "False",
         "False"
        ],
        [
         "57",
         "False",
         "False",
         "False",
         "False",
         "False",
         "False"
        ],
        [
         "60",
         "False",
         "False",
         "False",
         "False",
         "False",
         "False"
        ],
        [
         "61",
         "False",
         "False",
         "False",
         "False",
         "False",
         "False"
        ],
        [
         "63",
         "False",
         "False",
         "False",
         "False",
         "False",
         "False"
        ],
        [
         "65",
         "False",
         "False",
         "False",
         "False",
         "False",
         "False"
        ],
        [
         "67",
         "False",
         "False",
         "False",
         "False",
         "False",
         "False"
        ],
        [
         "71",
         "False",
         "False",
         "False",
         "False",
         "False",
         "False"
        ],
        [
         "74",
         "False",
         "False",
         "False",
         "False",
         "False",
         "False"
        ],
        [
         "76",
         "False",
         "False",
         "False",
         "False",
         "False",
         "False"
        ],
        [
         "79",
         "False",
         "False",
         "False",
         "False",
         "False",
         "False"
        ]
       ],
       "shape": {
        "columns": 6,
        "rows": 8250
       }
      },
      "text/html": [
       "<div>\n",
       "<style scoped>\n",
       "    .dataframe tbody tr th:only-of-type {\n",
       "        vertical-align: middle;\n",
       "    }\n",
       "\n",
       "    .dataframe tbody tr th {\n",
       "        vertical-align: top;\n",
       "    }\n",
       "\n",
       "    .dataframe thead th {\n",
       "        text-align: right;\n",
       "    }\n",
       "</style>\n",
       "<table border=\"1\" class=\"dataframe\">\n",
       "  <thead>\n",
       "    <tr style=\"text-align: right;\">\n",
       "      <th></th>\n",
       "      <th>Name</th>\n",
       "      <th>Online_order</th>\n",
       "      <th>Book_table</th>\n",
       "      <th>Rate</th>\n",
       "      <th>Dish_liked</th>\n",
       "      <th>Approx_cost(for two people)</th>\n",
       "    </tr>\n",
       "  </thead>\n",
       "  <tbody>\n",
       "    <tr>\n",
       "      <th>0</th>\n",
       "      <td>False</td>\n",
       "      <td>False</td>\n",
       "      <td>False</td>\n",
       "      <td>False</td>\n",
       "      <td>False</td>\n",
       "      <td>False</td>\n",
       "    </tr>\n",
       "    <tr>\n",
       "      <th>1</th>\n",
       "      <td>False</td>\n",
       "      <td>False</td>\n",
       "      <td>False</td>\n",
       "      <td>False</td>\n",
       "      <td>False</td>\n",
       "      <td>False</td>\n",
       "    </tr>\n",
       "    <tr>\n",
       "      <th>2</th>\n",
       "      <td>False</td>\n",
       "      <td>False</td>\n",
       "      <td>False</td>\n",
       "      <td>False</td>\n",
       "      <td>False</td>\n",
       "      <td>False</td>\n",
       "    </tr>\n",
       "    <tr>\n",
       "      <th>3</th>\n",
       "      <td>False</td>\n",
       "      <td>False</td>\n",
       "      <td>False</td>\n",
       "      <td>False</td>\n",
       "      <td>False</td>\n",
       "      <td>False</td>\n",
       "    </tr>\n",
       "    <tr>\n",
       "      <th>4</th>\n",
       "      <td>False</td>\n",
       "      <td>False</td>\n",
       "      <td>False</td>\n",
       "      <td>False</td>\n",
       "      <td>False</td>\n",
       "      <td>False</td>\n",
       "    </tr>\n",
       "    <tr>\n",
       "      <th>...</th>\n",
       "      <td>...</td>\n",
       "      <td>...</td>\n",
       "      <td>...</td>\n",
       "      <td>...</td>\n",
       "      <td>...</td>\n",
       "      <td>...</td>\n",
       "    </tr>\n",
       "    <tr>\n",
       "      <th>51611</th>\n",
       "      <td>False</td>\n",
       "      <td>False</td>\n",
       "      <td>False</td>\n",
       "      <td>False</td>\n",
       "      <td>False</td>\n",
       "      <td>False</td>\n",
       "    </tr>\n",
       "    <tr>\n",
       "      <th>51617</th>\n",
       "      <td>False</td>\n",
       "      <td>False</td>\n",
       "      <td>False</td>\n",
       "      <td>False</td>\n",
       "      <td>False</td>\n",
       "      <td>False</td>\n",
       "    </tr>\n",
       "    <tr>\n",
       "      <th>51620</th>\n",
       "      <td>False</td>\n",
       "      <td>False</td>\n",
       "      <td>False</td>\n",
       "      <td>False</td>\n",
       "      <td>False</td>\n",
       "      <td>False</td>\n",
       "    </tr>\n",
       "    <tr>\n",
       "      <th>51628</th>\n",
       "      <td>False</td>\n",
       "      <td>False</td>\n",
       "      <td>False</td>\n",
       "      <td>False</td>\n",
       "      <td>False</td>\n",
       "      <td>False</td>\n",
       "    </tr>\n",
       "    <tr>\n",
       "      <th>51677</th>\n",
       "      <td>False</td>\n",
       "      <td>False</td>\n",
       "      <td>False</td>\n",
       "      <td>False</td>\n",
       "      <td>False</td>\n",
       "      <td>False</td>\n",
       "    </tr>\n",
       "  </tbody>\n",
       "</table>\n",
       "<p>8250 rows × 6 columns</p>\n",
       "</div>"
      ],
      "text/plain": [
       "        Name  Online_order  Book_table   Rate  Dish_liked  \\\n",
       "0      False         False       False  False       False   \n",
       "1      False         False       False  False       False   \n",
       "2      False         False       False  False       False   \n",
       "3      False         False       False  False       False   \n",
       "4      False         False       False  False       False   \n",
       "...      ...           ...         ...    ...         ...   \n",
       "51611  False         False       False  False       False   \n",
       "51617  False         False       False  False       False   \n",
       "51620  False         False       False  False       False   \n",
       "51628  False         False       False  False       False   \n",
       "51677  False         False       False  False       False   \n",
       "\n",
       "       Approx_cost(for two people)  \n",
       "0                            False  \n",
       "1                            False  \n",
       "2                            False  \n",
       "3                            False  \n",
       "4                            False  \n",
       "...                            ...  \n",
       "51611                        False  \n",
       "51617                        False  \n",
       "51620                        False  \n",
       "51628                        False  \n",
       "51677                        False  \n",
       "\n",
       "[8250 rows x 6 columns]"
      ]
     },
     "execution_count": 97,
     "metadata": {},
     "output_type": "execute_result"
    }
   ],
   "source": [
    "df.isna()"
   ]
  },
  {
   "cell_type": "code",
   "execution_count": 98,
   "id": "605ce9f2",
   "metadata": {},
   "outputs": [
    {
     "data": {
      "application/vnd.microsoft.datawrangler.viewer.v0+json": {
       "columns": [
        {
         "name": "index",
         "rawType": "int64",
         "type": "integer"
        },
        {
         "name": "Name",
         "rawType": "object",
         "type": "string"
        },
        {
         "name": "Online_order",
         "rawType": "object",
         "type": "string"
        },
        {
         "name": "Book_table",
         "rawType": "object",
         "type": "string"
        },
        {
         "name": "Rate",
         "rawType": "object",
         "type": "string"
        },
        {
         "name": "Dish_liked",
         "rawType": "object",
         "type": "string"
        },
        {
         "name": "Approx_cost(for two people)",
         "rawType": "object",
         "type": "string"
        }
       ],
       "ref": "604d13e4-526f-4abc-8cc6-b225226172f3",
       "rows": [
        [
         "0",
         "Jalsa",
         "Yes",
         "Yes",
         "4.1/5",
         "Pasta, Lunch Buffet, Masala Papad, Paneer Lajawab, Tomato Shorba, Dum Biryani, Sweet Corn Soup",
         "800"
        ],
        [
         "1",
         "Spice Elephant",
         "Yes",
         "No",
         "4.1/5",
         "Momos, Lunch Buffet, Chocolate Nirvana, Thai Green Curry, Paneer Tikka, Dum Biryani, Chicken Biryani",
         "800"
        ],
        [
         "2",
         "San Churro Cafe",
         "Yes",
         "No",
         "3.8/5",
         "Churros, Cannelloni, Minestrone Soup, Hot Chocolate, Pink Sauce Pasta, Salsa, Veg Supreme Pizza",
         "800"
        ],
        [
         "3",
         "Addhuri Udupi Bhojana",
         "No",
         "No",
         "3.7/5",
         "Masala Dosa",
         "300"
        ],
        [
         "4",
         "Grand Village",
         "No",
         "No",
         "3.8/5",
         "Panipuri, Gol Gappe",
         "600"
        ],
        [
         "5",
         "Timepass Dinner",
         "Yes",
         "No",
         "3.8/5",
         "Onion Rings, Pasta, Kadhai Paneer, Salads, Salad, Roti, Jeera Rice",
         "600"
        ],
        [
         "7",
         "Onesta",
         "Yes",
         "Yes",
         "4.6/5",
         "Farmhouse Pizza, Chocolate Banana, Virgin Mojito, Pasta, Paneer Tikka, Lime Soda, Prawn Pizza",
         "600"
        ],
        [
         "8",
         "Penthouse Cafe",
         "Yes",
         "No",
         "4.0/5",
         "Pizza, Mocktails, Coffee, Nachos, Salad, Pasta, Sandwiches",
         "700"
        ],
        [
         "9",
         "Smacznego",
         "Yes",
         "No",
         "4.2/5",
         "Waffles, Pasta, Coleslaw Sandwich, Choco Waffle, Tacos, Momos, Cheese Nachos",
         "550"
        ],
        [
         "10",
         "CafÃÂÃÂÃÂÃÂÃÂÃÂÃÂÃÂ© Down The Alley",
         "Yes",
         "No",
         "4.1/5",
         "Waffles, Pasta, Crispy Chicken, Honey Chilli Chicken, Sandwich, Coffee, Crepe",
         "500"
        ],
        [
         "11",
         "Cafe Shuffle",
         "Yes",
         "Yes",
         "4.2/5",
         "Mocktails, Peri Fries, Lasagne, Pizza, Chicken Bbq Wings, Virgin Mojito, Nachos",
         "600"
        ],
        [
         "12",
         "The Coffee Shack",
         "Yes",
         "Yes",
         "4.2/5",
         "Coffee, Spaghetti, Pancakes, Nachos, Pasta, Sandwich, Garlic Bread",
         "500"
        ],
        [
         "13",
         "Caf-Eleven",
         "No",
         "No",
         "4.0/5",
         "Sandwich, Omelette, Ice Tea, Virgin Mojito, Hot Chocolate, Pasta Arrabiata, Hazelnut Cappuccino",
         "450"
        ],
        [
         "15",
         "Cafe Vivacity",
         "Yes",
         "No",
         "3.8/5",
         "Garlic Bread, Burgers, Sandwiches, Pizza, Hot Chocolate Fudge, Waffles, Potato Wedges",
         "650"
        ],
        [
         "16",
         "Catch-up-ino",
         "Yes",
         "No",
         "3.9/5",
         "Momos, Mushroom Bruschettas, Jalapeno Cheeseballs, Pasta, Red Velvet Shake, Red Velvet Milkshake, Maggi",
         "800"
        ],
        [
         "17",
         "Kirthi's Biryani",
         "Yes",
         "No",
         "3.8/5",
         "Pasta, Gelato, Garlic Bread, Mojito, Nachos, Paneer Pizza, Mocktails",
         "700"
        ],
        [
         "18",
         "T3H Cafe",
         "No",
         "No",
         "3.9/5",
         "Cheese Maggi, Peri Peri Fries, Pasta Arrabiata",
         "300"
        ],
        [
         "20",
         "The Vintage Cafe",
         "Yes",
         "No",
         "3.0/5",
         "Burgers, Caramel Milkshake, Iced Coffee, Iced Tea",
         "400"
        ],
        [
         "21",
         "Woodee Pizza",
         "Yes",
         "No",
         "3.7/5",
         "Pizza, Garlic Bread",
         "500"
        ],
        [
         "23",
         "My Tea House",
         "Yes",
         "No",
         "3.6/5",
         "Pasta, Iced Tea",
         "600"
        ],
        [
         "29",
         "Srinathji's Cafe",
         "No",
         "No",
         "3.8/5",
         "Paratha, Sandwich, Chilli Idli, Noodles, Sandwiches, Lime Soda",
         "550"
        ],
        [
         "30",
         "Redberrys",
         "Yes",
         "No",
         "4.0/5",
         "Pizza, Fries, Anjeer Ice Cream, Sandwiches, Gelato, Burgers, Kesar Badam",
         "600"
        ],
        [
         "31",
         "Foodiction",
         "Yes",
         "No",
         "2.8/5",
         "Burgers, Lassi, Chicken Grill, Naan, Momos, Chicken Burger, Biryani",
         "500"
        ],
        [
         "33",
         "Ovenstory Pizza",
         "Yes",
         "No",
         "3.9/5",
         "Paneer Tikka, Garlic Bread, Thin Crust Pizza, Falafel, Veggie Pizza",
         "750"
        ],
        [
         "34",
         "Faasos",
         "Yes",
         "No",
         "4.2/5",
         "Rolls, Veggie Wrap, Chocolate Fantasy, Rice Bowls, Chicken Rice, Paneer Makhanwala, Chicken Tikka Wrap",
         "500"
        ],
        [
         "35",
         "Behrouz Biryani",
         "Yes",
         "No",
         "3.9/5",
         "Raita, Gulab Jamun, Paneer Biryani, Vegetable Biryani, Gosht Dum Biryani, Chicken Biryani, Murgh Biryani",
         "650"
        ],
        [
         "37",
         "Szechuan Dragon",
         "Yes",
         "No",
         "4.2/5",
         "Noodles, Momos, Veg Manchow Soup, Kung Pao Chicken, Chicken Lollipop, Chop Suey, Dragon Chicken",
         "600"
        ],
        [
         "38",
         "Empire Restaurant",
         "Yes",
         "No",
         "4.4/5",
         "Chicken Tikka Masala, Mutton Keema Dosa, Mutton Biryani, Raan Biryani, Brain Fry, Chicken Grill, Ghee Rice",
         "750"
        ],
        [
         "40",
         "Chaatimes",
         "Yes",
         "No",
         "3.8/5",
         "Dabeli, Faluda, Masala Poori, Sandwiches, Tokri Chaat, Pav Bhaji, Dahipuri",
         "200"
        ],
        [
         "42",
         "McDonald's",
         "Yes",
         "No",
         "3.9/5",
         "Burgers, Fries, Hot Chocolate",
         "500"
        ],
        [
         "43",
         "Domino's Pizza",
         "Yes",
         "No",
         "3.9/5",
         "Pane Pizza, Lava Cake, Pasta, Stuffed Garlic Bread, Chocolava Cake, Tacos",
         "800"
        ],
        [
         "45",
         "Hotboxit",
         "No",
         "No",
         "3.8/5",
         "Prompt Service",
         "400"
        ],
        [
         "46",
         "Kitchen Garden",
         "Yes",
         "No",
         "3.6/5",
         "Biryani",
         "300"
        ],
        [
         "47",
         "Recipe",
         "Yes",
         "No",
         "4.0/5",
         "Butter Chicken, Noodles, Thali, Biryani",
         "450"
        ],
        [
         "48",
         "Beijing Bites",
         "Yes",
         "No",
         "3.7/5",
         "Momos, Dragon Chicken, Hakka Noodles, Chowmein, Chop Suey, Chilli Garlic Noodles, Garlic Rice",
         "850"
        ],
        [
         "49",
         "Tasty Bytes",
         "Yes",
         "No",
         "3.1/5",
         "Paratha, Pasta",
         "300"
        ],
        [
         "52",
         "Corner House Ice Cream",
         "No",
         "No",
         "4.3/5",
         "Hot Chocolate Fudge, Vanilla Ice Cream, Fudge Cake, Chocolate Mousse",
         "400"
        ],
        [
         "53",
         "Biryanis And More",
         "Yes",
         "No",
         "4.0/5",
         "Prawn Biryani, Dragon Chicken, Chicken Boneless Biryani, Afghani Biryani, Mughlai Biryani, Paneer Tikka Biryani, Gongura Biryani",
         "750"
        ],
        [
         "54",
         "Roving Feast",
         "No",
         "No",
         "4.0/5",
         "Pasta, Momos, Rolls, Chicken Roll, Chilli Chicken, Paneer Roll, Spaghetti",
         "450"
        ],
        [
         "55",
         "FreshMenu",
         "Yes",
         "No",
         "3.9/5",
         "Salads, Sandwiches, Salad, Thai Rice, Pasta, Noodles, Pizza",
         "450"
        ],
        [
         "57",
         "Wamama",
         "Yes",
         "Yes",
         "4.2/5",
         "Sushi, Noodles, Wine, Khau Suey, Mocktails, Yakisoba, Spring Roll",
         "800"
        ],
        [
         "60",
         "Peppy Peppers",
         "No",
         "No",
         "4.2/5",
         "Pasta, Pepper Pizza, Paneer Pizza, Peppy Paneer, Nachos, Supreme Pizza, Manchow Soup",
         "800"
        ],
        [
         "61",
         "Goa 0 Km",
         "Yes",
         "Yes",
         "3.6/5",
         "Sea Food, Crab Meat, Crab Soup, Fish Curry, Chicken Cafreal, Butter Naan, Butter Chicken",
         "800"
        ],
        [
         "63",
         "1947",
         "No",
         "Yes",
         "4.0/5",
         "Salads, Panneer Butter Masala, Rabri, Gajar Ka Halwa, Manchow Soup, Aam Panna, Tomato Basil Soup",
         "850"
        ],
        [
         "65",
         "Kabab Magic",
         "Yes",
         "No",
         "4.1/5",
         "Grape Juice, Chicken Grill, Chicken Tikka Roll, Shawarma Roll, Chicken Shawarama, Biryani Combo, Rolls",
         "400"
        ],
        [
         "67",
         "Gustoes Beer House",
         "No",
         "No",
         "4.1/5",
         "Beer, Wedges, Pizza, Nachos, Salads, Papaya Salad, Buffalo Wings",
         "1,200"
        ],
        [
         "71",
         "The Biryani Cafe",
         "No",
         "No",
         "4.1/5",
         "Vegetable Biryani, Ginger Chicken, Chicken Biryani, Donne Biryani, Chicken Kebab, Egg Bhurji, Dum Biryani",
         "300"
        ],
        [
         "74",
         "Rolls On Wheels",
         "No",
         "No",
         "3.6/5",
         "Rolls, Momos, Fries, Veggie Roll, Chicken Kebab Roll, Paneer Roll, Cheese Roll",
         "300"
        ],
        [
         "76",
         "Sri Guru Kottureshwara Davangere Benne Dosa",
         "Yes",
         "No",
         "4.1/5",
         "Benne Dosa, Mirchi Bajji, Filter Coffee, Poha, Tea, Butter Dosa, Crispy Dosa",
         "150"
        ],
        [
         "79",
         "Upahar Sagar",
         "No",
         "No",
         "3.8/5",
         "Masala Dosa",
         "350"
        ]
       ],
       "shape": {
        "columns": 6,
        "rows": 8250
       }
      },
      "text/html": [
       "<div>\n",
       "<style scoped>\n",
       "    .dataframe tbody tr th:only-of-type {\n",
       "        vertical-align: middle;\n",
       "    }\n",
       "\n",
       "    .dataframe tbody tr th {\n",
       "        vertical-align: top;\n",
       "    }\n",
       "\n",
       "    .dataframe thead th {\n",
       "        text-align: right;\n",
       "    }\n",
       "</style>\n",
       "<table border=\"1\" class=\"dataframe\">\n",
       "  <thead>\n",
       "    <tr style=\"text-align: right;\">\n",
       "      <th></th>\n",
       "      <th>Name</th>\n",
       "      <th>Online_order</th>\n",
       "      <th>Book_table</th>\n",
       "      <th>Rate</th>\n",
       "      <th>Dish_liked</th>\n",
       "      <th>Approx_cost(for two people)</th>\n",
       "    </tr>\n",
       "  </thead>\n",
       "  <tbody>\n",
       "    <tr>\n",
       "      <th>0</th>\n",
       "      <td>Jalsa</td>\n",
       "      <td>Yes</td>\n",
       "      <td>Yes</td>\n",
       "      <td>4.1/5</td>\n",
       "      <td>Pasta, Lunch Buffet, Masala Papad, Paneer Laja...</td>\n",
       "      <td>800</td>\n",
       "    </tr>\n",
       "    <tr>\n",
       "      <th>1</th>\n",
       "      <td>Spice Elephant</td>\n",
       "      <td>Yes</td>\n",
       "      <td>No</td>\n",
       "      <td>4.1/5</td>\n",
       "      <td>Momos, Lunch Buffet, Chocolate Nirvana, Thai G...</td>\n",
       "      <td>800</td>\n",
       "    </tr>\n",
       "    <tr>\n",
       "      <th>2</th>\n",
       "      <td>San Churro Cafe</td>\n",
       "      <td>Yes</td>\n",
       "      <td>No</td>\n",
       "      <td>3.8/5</td>\n",
       "      <td>Churros, Cannelloni, Minestrone Soup, Hot Choc...</td>\n",
       "      <td>800</td>\n",
       "    </tr>\n",
       "    <tr>\n",
       "      <th>3</th>\n",
       "      <td>Addhuri Udupi Bhojana</td>\n",
       "      <td>No</td>\n",
       "      <td>No</td>\n",
       "      <td>3.7/5</td>\n",
       "      <td>Masala Dosa</td>\n",
       "      <td>300</td>\n",
       "    </tr>\n",
       "    <tr>\n",
       "      <th>4</th>\n",
       "      <td>Grand Village</td>\n",
       "      <td>No</td>\n",
       "      <td>No</td>\n",
       "      <td>3.8/5</td>\n",
       "      <td>Panipuri, Gol Gappe</td>\n",
       "      <td>600</td>\n",
       "    </tr>\n",
       "    <tr>\n",
       "      <th>...</th>\n",
       "      <td>...</td>\n",
       "      <td>...</td>\n",
       "      <td>...</td>\n",
       "      <td>...</td>\n",
       "      <td>...</td>\n",
       "      <td>...</td>\n",
       "    </tr>\n",
       "    <tr>\n",
       "      <th>51611</th>\n",
       "      <td>Chung Wah</td>\n",
       "      <td>No</td>\n",
       "      <td>No</td>\n",
       "      <td>2.5 /5</td>\n",
       "      <td>Manchow Soup</td>\n",
       "      <td>800</td>\n",
       "    </tr>\n",
       "    <tr>\n",
       "      <th>51617</th>\n",
       "      <td>Breakfast House</td>\n",
       "      <td>No</td>\n",
       "      <td>No</td>\n",
       "      <td>3.6 /5</td>\n",
       "      <td>Coffee, Vada, Mla Dosa</td>\n",
       "      <td>300</td>\n",
       "    </tr>\n",
       "    <tr>\n",
       "      <th>51620</th>\n",
       "      <td>Fujian Express</td>\n",
       "      <td>Yes</td>\n",
       "      <td>No</td>\n",
       "      <td>3.8 /5</td>\n",
       "      <td>Noodles, Chicken Noodle, Momos, American Chops...</td>\n",
       "      <td>600</td>\n",
       "    </tr>\n",
       "    <tr>\n",
       "      <th>51628</th>\n",
       "      <td>Nook - Aloft Bengaluru Cessna Business Park</td>\n",
       "      <td>No</td>\n",
       "      <td>Yes</td>\n",
       "      <td>4.2 /5</td>\n",
       "      <td>Chicken Quesadilla, Naan, Breakfast Buffet, Ch...</td>\n",
       "      <td>1,800</td>\n",
       "    </tr>\n",
       "    <tr>\n",
       "      <th>51677</th>\n",
       "      <td>Bhagini</td>\n",
       "      <td>No</td>\n",
       "      <td>No</td>\n",
       "      <td>2.5 /5</td>\n",
       "      <td>Biryani, Andhra Meal</td>\n",
       "      <td>800</td>\n",
       "    </tr>\n",
       "  </tbody>\n",
       "</table>\n",
       "<p>8250 rows × 6 columns</p>\n",
       "</div>"
      ],
      "text/plain": [
       "                                              Name Online_order Book_table  \\\n",
       "0                                            Jalsa          Yes        Yes   \n",
       "1                                   Spice Elephant          Yes         No   \n",
       "2                                  San Churro Cafe          Yes         No   \n",
       "3                            Addhuri Udupi Bhojana           No         No   \n",
       "4                                    Grand Village           No         No   \n",
       "...                                            ...          ...        ...   \n",
       "51611                                    Chung Wah           No         No   \n",
       "51617                              Breakfast House           No         No   \n",
       "51620                               Fujian Express          Yes         No   \n",
       "51628  Nook - Aloft Bengaluru Cessna Business Park           No        Yes   \n",
       "51677                                      Bhagini           No         No   \n",
       "\n",
       "         Rate                                         Dish_liked  \\\n",
       "0       4.1/5  Pasta, Lunch Buffet, Masala Papad, Paneer Laja...   \n",
       "1       4.1/5  Momos, Lunch Buffet, Chocolate Nirvana, Thai G...   \n",
       "2       3.8/5  Churros, Cannelloni, Minestrone Soup, Hot Choc...   \n",
       "3       3.7/5                                        Masala Dosa   \n",
       "4       3.8/5                                Panipuri, Gol Gappe   \n",
       "...       ...                                                ...   \n",
       "51611  2.5 /5                                       Manchow Soup   \n",
       "51617  3.6 /5                             Coffee, Vada, Mla Dosa   \n",
       "51620  3.8 /5  Noodles, Chicken Noodle, Momos, American Chops...   \n",
       "51628  4.2 /5  Chicken Quesadilla, Naan, Breakfast Buffet, Ch...   \n",
       "51677  2.5 /5                               Biryani, Andhra Meal   \n",
       "\n",
       "      Approx_cost(for two people)  \n",
       "0                             800  \n",
       "1                             800  \n",
       "2                             800  \n",
       "3                             300  \n",
       "4                             600  \n",
       "...                           ...  \n",
       "51611                         800  \n",
       "51617                         300  \n",
       "51620                         600  \n",
       "51628                       1,800  \n",
       "51677                         800  \n",
       "\n",
       "[8250 rows x 6 columns]"
      ]
     },
     "execution_count": 98,
     "metadata": {},
     "output_type": "execute_result"
    }
   ],
   "source": [
    "df"
   ]
  },
  {
   "cell_type": "code",
   "execution_count": 99,
   "id": "619fcf55",
   "metadata": {},
   "outputs": [],
   "source": [
    "df.reset_index(inplace=True)"
   ]
  },
  {
   "cell_type": "code",
   "execution_count": 100,
   "id": "1ae1a98f",
   "metadata": {},
   "outputs": [
    {
     "data": {
      "application/vnd.microsoft.datawrangler.viewer.v0+json": {
       "columns": [
        {
         "name": "index",
         "rawType": "int64",
         "type": "integer"
        },
        {
         "name": "index",
         "rawType": "int64",
         "type": "integer"
        },
        {
         "name": "Name",
         "rawType": "object",
         "type": "string"
        },
        {
         "name": "Online_order",
         "rawType": "object",
         "type": "string"
        },
        {
         "name": "Book_table",
         "rawType": "object",
         "type": "string"
        },
        {
         "name": "Rate",
         "rawType": "object",
         "type": "string"
        },
        {
         "name": "Dish_liked",
         "rawType": "object",
         "type": "string"
        },
        {
         "name": "Approx_cost(for two people)",
         "rawType": "object",
         "type": "string"
        }
       ],
       "ref": "5c967064-83fa-4ef8-a967-9c3df5bbf774",
       "rows": [
        [
         "0",
         "0",
         "Jalsa",
         "Yes",
         "Yes",
         "4.1/5",
         "Pasta, Lunch Buffet, Masala Papad, Paneer Lajawab, Tomato Shorba, Dum Biryani, Sweet Corn Soup",
         "800"
        ],
        [
         "1",
         "1",
         "Spice Elephant",
         "Yes",
         "No",
         "4.1/5",
         "Momos, Lunch Buffet, Chocolate Nirvana, Thai Green Curry, Paneer Tikka, Dum Biryani, Chicken Biryani",
         "800"
        ],
        [
         "2",
         "2",
         "San Churro Cafe",
         "Yes",
         "No",
         "3.8/5",
         "Churros, Cannelloni, Minestrone Soup, Hot Chocolate, Pink Sauce Pasta, Salsa, Veg Supreme Pizza",
         "800"
        ],
        [
         "3",
         "3",
         "Addhuri Udupi Bhojana",
         "No",
         "No",
         "3.7/5",
         "Masala Dosa",
         "300"
        ],
        [
         "4",
         "4",
         "Grand Village",
         "No",
         "No",
         "3.8/5",
         "Panipuri, Gol Gappe",
         "600"
        ],
        [
         "5",
         "5",
         "Timepass Dinner",
         "Yes",
         "No",
         "3.8/5",
         "Onion Rings, Pasta, Kadhai Paneer, Salads, Salad, Roti, Jeera Rice",
         "600"
        ],
        [
         "6",
         "7",
         "Onesta",
         "Yes",
         "Yes",
         "4.6/5",
         "Farmhouse Pizza, Chocolate Banana, Virgin Mojito, Pasta, Paneer Tikka, Lime Soda, Prawn Pizza",
         "600"
        ],
        [
         "7",
         "8",
         "Penthouse Cafe",
         "Yes",
         "No",
         "4.0/5",
         "Pizza, Mocktails, Coffee, Nachos, Salad, Pasta, Sandwiches",
         "700"
        ],
        [
         "8",
         "9",
         "Smacznego",
         "Yes",
         "No",
         "4.2/5",
         "Waffles, Pasta, Coleslaw Sandwich, Choco Waffle, Tacos, Momos, Cheese Nachos",
         "550"
        ],
        [
         "9",
         "10",
         "CafÃÂÃÂÃÂÃÂÃÂÃÂÃÂÃÂ© Down The Alley",
         "Yes",
         "No",
         "4.1/5",
         "Waffles, Pasta, Crispy Chicken, Honey Chilli Chicken, Sandwich, Coffee, Crepe",
         "500"
        ],
        [
         "10",
         "11",
         "Cafe Shuffle",
         "Yes",
         "Yes",
         "4.2/5",
         "Mocktails, Peri Fries, Lasagne, Pizza, Chicken Bbq Wings, Virgin Mojito, Nachos",
         "600"
        ],
        [
         "11",
         "12",
         "The Coffee Shack",
         "Yes",
         "Yes",
         "4.2/5",
         "Coffee, Spaghetti, Pancakes, Nachos, Pasta, Sandwich, Garlic Bread",
         "500"
        ],
        [
         "12",
         "13",
         "Caf-Eleven",
         "No",
         "No",
         "4.0/5",
         "Sandwich, Omelette, Ice Tea, Virgin Mojito, Hot Chocolate, Pasta Arrabiata, Hazelnut Cappuccino",
         "450"
        ],
        [
         "13",
         "15",
         "Cafe Vivacity",
         "Yes",
         "No",
         "3.8/5",
         "Garlic Bread, Burgers, Sandwiches, Pizza, Hot Chocolate Fudge, Waffles, Potato Wedges",
         "650"
        ],
        [
         "14",
         "16",
         "Catch-up-ino",
         "Yes",
         "No",
         "3.9/5",
         "Momos, Mushroom Bruschettas, Jalapeno Cheeseballs, Pasta, Red Velvet Shake, Red Velvet Milkshake, Maggi",
         "800"
        ],
        [
         "15",
         "17",
         "Kirthi's Biryani",
         "Yes",
         "No",
         "3.8/5",
         "Pasta, Gelato, Garlic Bread, Mojito, Nachos, Paneer Pizza, Mocktails",
         "700"
        ],
        [
         "16",
         "18",
         "T3H Cafe",
         "No",
         "No",
         "3.9/5",
         "Cheese Maggi, Peri Peri Fries, Pasta Arrabiata",
         "300"
        ],
        [
         "17",
         "20",
         "The Vintage Cafe",
         "Yes",
         "No",
         "3.0/5",
         "Burgers, Caramel Milkshake, Iced Coffee, Iced Tea",
         "400"
        ],
        [
         "18",
         "21",
         "Woodee Pizza",
         "Yes",
         "No",
         "3.7/5",
         "Pizza, Garlic Bread",
         "500"
        ],
        [
         "19",
         "23",
         "My Tea House",
         "Yes",
         "No",
         "3.6/5",
         "Pasta, Iced Tea",
         "600"
        ],
        [
         "20",
         "29",
         "Srinathji's Cafe",
         "No",
         "No",
         "3.8/5",
         "Paratha, Sandwich, Chilli Idli, Noodles, Sandwiches, Lime Soda",
         "550"
        ],
        [
         "21",
         "30",
         "Redberrys",
         "Yes",
         "No",
         "4.0/5",
         "Pizza, Fries, Anjeer Ice Cream, Sandwiches, Gelato, Burgers, Kesar Badam",
         "600"
        ],
        [
         "22",
         "31",
         "Foodiction",
         "Yes",
         "No",
         "2.8/5",
         "Burgers, Lassi, Chicken Grill, Naan, Momos, Chicken Burger, Biryani",
         "500"
        ],
        [
         "23",
         "33",
         "Ovenstory Pizza",
         "Yes",
         "No",
         "3.9/5",
         "Paneer Tikka, Garlic Bread, Thin Crust Pizza, Falafel, Veggie Pizza",
         "750"
        ],
        [
         "24",
         "34",
         "Faasos",
         "Yes",
         "No",
         "4.2/5",
         "Rolls, Veggie Wrap, Chocolate Fantasy, Rice Bowls, Chicken Rice, Paneer Makhanwala, Chicken Tikka Wrap",
         "500"
        ],
        [
         "25",
         "35",
         "Behrouz Biryani",
         "Yes",
         "No",
         "3.9/5",
         "Raita, Gulab Jamun, Paneer Biryani, Vegetable Biryani, Gosht Dum Biryani, Chicken Biryani, Murgh Biryani",
         "650"
        ],
        [
         "26",
         "37",
         "Szechuan Dragon",
         "Yes",
         "No",
         "4.2/5",
         "Noodles, Momos, Veg Manchow Soup, Kung Pao Chicken, Chicken Lollipop, Chop Suey, Dragon Chicken",
         "600"
        ],
        [
         "27",
         "38",
         "Empire Restaurant",
         "Yes",
         "No",
         "4.4/5",
         "Chicken Tikka Masala, Mutton Keema Dosa, Mutton Biryani, Raan Biryani, Brain Fry, Chicken Grill, Ghee Rice",
         "750"
        ],
        [
         "28",
         "40",
         "Chaatimes",
         "Yes",
         "No",
         "3.8/5",
         "Dabeli, Faluda, Masala Poori, Sandwiches, Tokri Chaat, Pav Bhaji, Dahipuri",
         "200"
        ],
        [
         "29",
         "42",
         "McDonald's",
         "Yes",
         "No",
         "3.9/5",
         "Burgers, Fries, Hot Chocolate",
         "500"
        ],
        [
         "30",
         "43",
         "Domino's Pizza",
         "Yes",
         "No",
         "3.9/5",
         "Pane Pizza, Lava Cake, Pasta, Stuffed Garlic Bread, Chocolava Cake, Tacos",
         "800"
        ],
        [
         "31",
         "45",
         "Hotboxit",
         "No",
         "No",
         "3.8/5",
         "Prompt Service",
         "400"
        ],
        [
         "32",
         "46",
         "Kitchen Garden",
         "Yes",
         "No",
         "3.6/5",
         "Biryani",
         "300"
        ],
        [
         "33",
         "47",
         "Recipe",
         "Yes",
         "No",
         "4.0/5",
         "Butter Chicken, Noodles, Thali, Biryani",
         "450"
        ],
        [
         "34",
         "48",
         "Beijing Bites",
         "Yes",
         "No",
         "3.7/5",
         "Momos, Dragon Chicken, Hakka Noodles, Chowmein, Chop Suey, Chilli Garlic Noodles, Garlic Rice",
         "850"
        ],
        [
         "35",
         "49",
         "Tasty Bytes",
         "Yes",
         "No",
         "3.1/5",
         "Paratha, Pasta",
         "300"
        ],
        [
         "36",
         "52",
         "Corner House Ice Cream",
         "No",
         "No",
         "4.3/5",
         "Hot Chocolate Fudge, Vanilla Ice Cream, Fudge Cake, Chocolate Mousse",
         "400"
        ],
        [
         "37",
         "53",
         "Biryanis And More",
         "Yes",
         "No",
         "4.0/5",
         "Prawn Biryani, Dragon Chicken, Chicken Boneless Biryani, Afghani Biryani, Mughlai Biryani, Paneer Tikka Biryani, Gongura Biryani",
         "750"
        ],
        [
         "38",
         "54",
         "Roving Feast",
         "No",
         "No",
         "4.0/5",
         "Pasta, Momos, Rolls, Chicken Roll, Chilli Chicken, Paneer Roll, Spaghetti",
         "450"
        ],
        [
         "39",
         "55",
         "FreshMenu",
         "Yes",
         "No",
         "3.9/5",
         "Salads, Sandwiches, Salad, Thai Rice, Pasta, Noodles, Pizza",
         "450"
        ],
        [
         "40",
         "57",
         "Wamama",
         "Yes",
         "Yes",
         "4.2/5",
         "Sushi, Noodles, Wine, Khau Suey, Mocktails, Yakisoba, Spring Roll",
         "800"
        ],
        [
         "41",
         "60",
         "Peppy Peppers",
         "No",
         "No",
         "4.2/5",
         "Pasta, Pepper Pizza, Paneer Pizza, Peppy Paneer, Nachos, Supreme Pizza, Manchow Soup",
         "800"
        ],
        [
         "42",
         "61",
         "Goa 0 Km",
         "Yes",
         "Yes",
         "3.6/5",
         "Sea Food, Crab Meat, Crab Soup, Fish Curry, Chicken Cafreal, Butter Naan, Butter Chicken",
         "800"
        ],
        [
         "43",
         "63",
         "1947",
         "No",
         "Yes",
         "4.0/5",
         "Salads, Panneer Butter Masala, Rabri, Gajar Ka Halwa, Manchow Soup, Aam Panna, Tomato Basil Soup",
         "850"
        ],
        [
         "44",
         "65",
         "Kabab Magic",
         "Yes",
         "No",
         "4.1/5",
         "Grape Juice, Chicken Grill, Chicken Tikka Roll, Shawarma Roll, Chicken Shawarama, Biryani Combo, Rolls",
         "400"
        ],
        [
         "45",
         "67",
         "Gustoes Beer House",
         "No",
         "No",
         "4.1/5",
         "Beer, Wedges, Pizza, Nachos, Salads, Papaya Salad, Buffalo Wings",
         "1,200"
        ],
        [
         "46",
         "71",
         "The Biryani Cafe",
         "No",
         "No",
         "4.1/5",
         "Vegetable Biryani, Ginger Chicken, Chicken Biryani, Donne Biryani, Chicken Kebab, Egg Bhurji, Dum Biryani",
         "300"
        ],
        [
         "47",
         "74",
         "Rolls On Wheels",
         "No",
         "No",
         "3.6/5",
         "Rolls, Momos, Fries, Veggie Roll, Chicken Kebab Roll, Paneer Roll, Cheese Roll",
         "300"
        ],
        [
         "48",
         "76",
         "Sri Guru Kottureshwara Davangere Benne Dosa",
         "Yes",
         "No",
         "4.1/5",
         "Benne Dosa, Mirchi Bajji, Filter Coffee, Poha, Tea, Butter Dosa, Crispy Dosa",
         "150"
        ],
        [
         "49",
         "79",
         "Upahar Sagar",
         "No",
         "No",
         "3.8/5",
         "Masala Dosa",
         "350"
        ]
       ],
       "shape": {
        "columns": 7,
        "rows": 8250
       }
      },
      "text/html": [
       "<div>\n",
       "<style scoped>\n",
       "    .dataframe tbody tr th:only-of-type {\n",
       "        vertical-align: middle;\n",
       "    }\n",
       "\n",
       "    .dataframe tbody tr th {\n",
       "        vertical-align: top;\n",
       "    }\n",
       "\n",
       "    .dataframe thead th {\n",
       "        text-align: right;\n",
       "    }\n",
       "</style>\n",
       "<table border=\"1\" class=\"dataframe\">\n",
       "  <thead>\n",
       "    <tr style=\"text-align: right;\">\n",
       "      <th></th>\n",
       "      <th>index</th>\n",
       "      <th>Name</th>\n",
       "      <th>Online_order</th>\n",
       "      <th>Book_table</th>\n",
       "      <th>Rate</th>\n",
       "      <th>Dish_liked</th>\n",
       "      <th>Approx_cost(for two people)</th>\n",
       "    </tr>\n",
       "  </thead>\n",
       "  <tbody>\n",
       "    <tr>\n",
       "      <th>0</th>\n",
       "      <td>0</td>\n",
       "      <td>Jalsa</td>\n",
       "      <td>Yes</td>\n",
       "      <td>Yes</td>\n",
       "      <td>4.1/5</td>\n",
       "      <td>Pasta, Lunch Buffet, Masala Papad, Paneer Laja...</td>\n",
       "      <td>800</td>\n",
       "    </tr>\n",
       "    <tr>\n",
       "      <th>1</th>\n",
       "      <td>1</td>\n",
       "      <td>Spice Elephant</td>\n",
       "      <td>Yes</td>\n",
       "      <td>No</td>\n",
       "      <td>4.1/5</td>\n",
       "      <td>Momos, Lunch Buffet, Chocolate Nirvana, Thai G...</td>\n",
       "      <td>800</td>\n",
       "    </tr>\n",
       "    <tr>\n",
       "      <th>2</th>\n",
       "      <td>2</td>\n",
       "      <td>San Churro Cafe</td>\n",
       "      <td>Yes</td>\n",
       "      <td>No</td>\n",
       "      <td>3.8/5</td>\n",
       "      <td>Churros, Cannelloni, Minestrone Soup, Hot Choc...</td>\n",
       "      <td>800</td>\n",
       "    </tr>\n",
       "    <tr>\n",
       "      <th>3</th>\n",
       "      <td>3</td>\n",
       "      <td>Addhuri Udupi Bhojana</td>\n",
       "      <td>No</td>\n",
       "      <td>No</td>\n",
       "      <td>3.7/5</td>\n",
       "      <td>Masala Dosa</td>\n",
       "      <td>300</td>\n",
       "    </tr>\n",
       "    <tr>\n",
       "      <th>4</th>\n",
       "      <td>4</td>\n",
       "      <td>Grand Village</td>\n",
       "      <td>No</td>\n",
       "      <td>No</td>\n",
       "      <td>3.8/5</td>\n",
       "      <td>Panipuri, Gol Gappe</td>\n",
       "      <td>600</td>\n",
       "    </tr>\n",
       "    <tr>\n",
       "      <th>...</th>\n",
       "      <td>...</td>\n",
       "      <td>...</td>\n",
       "      <td>...</td>\n",
       "      <td>...</td>\n",
       "      <td>...</td>\n",
       "      <td>...</td>\n",
       "      <td>...</td>\n",
       "    </tr>\n",
       "    <tr>\n",
       "      <th>8245</th>\n",
       "      <td>51611</td>\n",
       "      <td>Chung Wah</td>\n",
       "      <td>No</td>\n",
       "      <td>No</td>\n",
       "      <td>2.5 /5</td>\n",
       "      <td>Manchow Soup</td>\n",
       "      <td>800</td>\n",
       "    </tr>\n",
       "    <tr>\n",
       "      <th>8246</th>\n",
       "      <td>51617</td>\n",
       "      <td>Breakfast House</td>\n",
       "      <td>No</td>\n",
       "      <td>No</td>\n",
       "      <td>3.6 /5</td>\n",
       "      <td>Coffee, Vada, Mla Dosa</td>\n",
       "      <td>300</td>\n",
       "    </tr>\n",
       "    <tr>\n",
       "      <th>8247</th>\n",
       "      <td>51620</td>\n",
       "      <td>Fujian Express</td>\n",
       "      <td>Yes</td>\n",
       "      <td>No</td>\n",
       "      <td>3.8 /5</td>\n",
       "      <td>Noodles, Chicken Noodle, Momos, American Chops...</td>\n",
       "      <td>600</td>\n",
       "    </tr>\n",
       "    <tr>\n",
       "      <th>8248</th>\n",
       "      <td>51628</td>\n",
       "      <td>Nook - Aloft Bengaluru Cessna Business Park</td>\n",
       "      <td>No</td>\n",
       "      <td>Yes</td>\n",
       "      <td>4.2 /5</td>\n",
       "      <td>Chicken Quesadilla, Naan, Breakfast Buffet, Ch...</td>\n",
       "      <td>1,800</td>\n",
       "    </tr>\n",
       "    <tr>\n",
       "      <th>8249</th>\n",
       "      <td>51677</td>\n",
       "      <td>Bhagini</td>\n",
       "      <td>No</td>\n",
       "      <td>No</td>\n",
       "      <td>2.5 /5</td>\n",
       "      <td>Biryani, Andhra Meal</td>\n",
       "      <td>800</td>\n",
       "    </tr>\n",
       "  </tbody>\n",
       "</table>\n",
       "<p>8250 rows × 7 columns</p>\n",
       "</div>"
      ],
      "text/plain": [
       "      index                                         Name Online_order  \\\n",
       "0         0                                        Jalsa          Yes   \n",
       "1         1                               Spice Elephant          Yes   \n",
       "2         2                              San Churro Cafe          Yes   \n",
       "3         3                        Addhuri Udupi Bhojana           No   \n",
       "4         4                                Grand Village           No   \n",
       "...     ...                                          ...          ...   \n",
       "8245  51611                                    Chung Wah           No   \n",
       "8246  51617                              Breakfast House           No   \n",
       "8247  51620                               Fujian Express          Yes   \n",
       "8248  51628  Nook - Aloft Bengaluru Cessna Business Park           No   \n",
       "8249  51677                                      Bhagini           No   \n",
       "\n",
       "     Book_table    Rate                                         Dish_liked  \\\n",
       "0           Yes   4.1/5  Pasta, Lunch Buffet, Masala Papad, Paneer Laja...   \n",
       "1            No   4.1/5  Momos, Lunch Buffet, Chocolate Nirvana, Thai G...   \n",
       "2            No   3.8/5  Churros, Cannelloni, Minestrone Soup, Hot Choc...   \n",
       "3            No   3.7/5                                        Masala Dosa   \n",
       "4            No   3.8/5                                Panipuri, Gol Gappe   \n",
       "...         ...     ...                                                ...   \n",
       "8245         No  2.5 /5                                       Manchow Soup   \n",
       "8246         No  3.6 /5                             Coffee, Vada, Mla Dosa   \n",
       "8247         No  3.8 /5  Noodles, Chicken Noodle, Momos, American Chops...   \n",
       "8248        Yes  4.2 /5  Chicken Quesadilla, Naan, Breakfast Buffet, Ch...   \n",
       "8249         No  2.5 /5                               Biryani, Andhra Meal   \n",
       "\n",
       "     Approx_cost(for two people)  \n",
       "0                            800  \n",
       "1                            800  \n",
       "2                            800  \n",
       "3                            300  \n",
       "4                            600  \n",
       "...                          ...  \n",
       "8245                         800  \n",
       "8246                         300  \n",
       "8247                         600  \n",
       "8248                       1,800  \n",
       "8249                         800  \n",
       "\n",
       "[8250 rows x 7 columns]"
      ]
     },
     "execution_count": 100,
     "metadata": {},
     "output_type": "execute_result"
    }
   ],
   "source": [
    "df"
   ]
  },
  {
   "cell_type": "code",
   "execution_count": 101,
   "id": "86660fee",
   "metadata": {},
   "outputs": [],
   "source": [
    "df.drop(columns='index', inplace=True)"
   ]
  },
  {
   "cell_type": "code",
   "execution_count": 102,
   "id": "b4dd3577",
   "metadata": {},
   "outputs": [
    {
     "data": {
      "application/vnd.microsoft.datawrangler.viewer.v0+json": {
       "columns": [
        {
         "name": "index",
         "rawType": "int64",
         "type": "integer"
        },
        {
         "name": "Name",
         "rawType": "object",
         "type": "string"
        },
        {
         "name": "Online_order",
         "rawType": "object",
         "type": "string"
        },
        {
         "name": "Book_table",
         "rawType": "object",
         "type": "string"
        },
        {
         "name": "Rate",
         "rawType": "object",
         "type": "string"
        },
        {
         "name": "Dish_liked",
         "rawType": "object",
         "type": "string"
        },
        {
         "name": "Approx_cost(for two people)",
         "rawType": "object",
         "type": "string"
        }
       ],
       "ref": "cefed62e-687f-4305-af4e-2d15caec1a36",
       "rows": [
        [
         "0",
         "Jalsa",
         "Yes",
         "Yes",
         "4.1/5",
         "Pasta, Lunch Buffet, Masala Papad, Paneer Lajawab, Tomato Shorba, Dum Biryani, Sweet Corn Soup",
         "800"
        ],
        [
         "1",
         "Spice Elephant",
         "Yes",
         "No",
         "4.1/5",
         "Momos, Lunch Buffet, Chocolate Nirvana, Thai Green Curry, Paneer Tikka, Dum Biryani, Chicken Biryani",
         "800"
        ],
        [
         "2",
         "San Churro Cafe",
         "Yes",
         "No",
         "3.8/5",
         "Churros, Cannelloni, Minestrone Soup, Hot Chocolate, Pink Sauce Pasta, Salsa, Veg Supreme Pizza",
         "800"
        ],
        [
         "3",
         "Addhuri Udupi Bhojana",
         "No",
         "No",
         "3.7/5",
         "Masala Dosa",
         "300"
        ],
        [
         "4",
         "Grand Village",
         "No",
         "No",
         "3.8/5",
         "Panipuri, Gol Gappe",
         "600"
        ],
        [
         "5",
         "Timepass Dinner",
         "Yes",
         "No",
         "3.8/5",
         "Onion Rings, Pasta, Kadhai Paneer, Salads, Salad, Roti, Jeera Rice",
         "600"
        ],
        [
         "6",
         "Onesta",
         "Yes",
         "Yes",
         "4.6/5",
         "Farmhouse Pizza, Chocolate Banana, Virgin Mojito, Pasta, Paneer Tikka, Lime Soda, Prawn Pizza",
         "600"
        ],
        [
         "7",
         "Penthouse Cafe",
         "Yes",
         "No",
         "4.0/5",
         "Pizza, Mocktails, Coffee, Nachos, Salad, Pasta, Sandwiches",
         "700"
        ],
        [
         "8",
         "Smacznego",
         "Yes",
         "No",
         "4.2/5",
         "Waffles, Pasta, Coleslaw Sandwich, Choco Waffle, Tacos, Momos, Cheese Nachos",
         "550"
        ],
        [
         "9",
         "CafÃÂÃÂÃÂÃÂÃÂÃÂÃÂÃÂ© Down The Alley",
         "Yes",
         "No",
         "4.1/5",
         "Waffles, Pasta, Crispy Chicken, Honey Chilli Chicken, Sandwich, Coffee, Crepe",
         "500"
        ],
        [
         "10",
         "Cafe Shuffle",
         "Yes",
         "Yes",
         "4.2/5",
         "Mocktails, Peri Fries, Lasagne, Pizza, Chicken Bbq Wings, Virgin Mojito, Nachos",
         "600"
        ],
        [
         "11",
         "The Coffee Shack",
         "Yes",
         "Yes",
         "4.2/5",
         "Coffee, Spaghetti, Pancakes, Nachos, Pasta, Sandwich, Garlic Bread",
         "500"
        ],
        [
         "12",
         "Caf-Eleven",
         "No",
         "No",
         "4.0/5",
         "Sandwich, Omelette, Ice Tea, Virgin Mojito, Hot Chocolate, Pasta Arrabiata, Hazelnut Cappuccino",
         "450"
        ],
        [
         "13",
         "Cafe Vivacity",
         "Yes",
         "No",
         "3.8/5",
         "Garlic Bread, Burgers, Sandwiches, Pizza, Hot Chocolate Fudge, Waffles, Potato Wedges",
         "650"
        ],
        [
         "14",
         "Catch-up-ino",
         "Yes",
         "No",
         "3.9/5",
         "Momos, Mushroom Bruschettas, Jalapeno Cheeseballs, Pasta, Red Velvet Shake, Red Velvet Milkshake, Maggi",
         "800"
        ],
        [
         "15",
         "Kirthi's Biryani",
         "Yes",
         "No",
         "3.8/5",
         "Pasta, Gelato, Garlic Bread, Mojito, Nachos, Paneer Pizza, Mocktails",
         "700"
        ],
        [
         "16",
         "T3H Cafe",
         "No",
         "No",
         "3.9/5",
         "Cheese Maggi, Peri Peri Fries, Pasta Arrabiata",
         "300"
        ],
        [
         "17",
         "The Vintage Cafe",
         "Yes",
         "No",
         "3.0/5",
         "Burgers, Caramel Milkshake, Iced Coffee, Iced Tea",
         "400"
        ],
        [
         "18",
         "Woodee Pizza",
         "Yes",
         "No",
         "3.7/5",
         "Pizza, Garlic Bread",
         "500"
        ],
        [
         "19",
         "My Tea House",
         "Yes",
         "No",
         "3.6/5",
         "Pasta, Iced Tea",
         "600"
        ],
        [
         "20",
         "Srinathji's Cafe",
         "No",
         "No",
         "3.8/5",
         "Paratha, Sandwich, Chilli Idli, Noodles, Sandwiches, Lime Soda",
         "550"
        ],
        [
         "21",
         "Redberrys",
         "Yes",
         "No",
         "4.0/5",
         "Pizza, Fries, Anjeer Ice Cream, Sandwiches, Gelato, Burgers, Kesar Badam",
         "600"
        ],
        [
         "22",
         "Foodiction",
         "Yes",
         "No",
         "2.8/5",
         "Burgers, Lassi, Chicken Grill, Naan, Momos, Chicken Burger, Biryani",
         "500"
        ],
        [
         "23",
         "Ovenstory Pizza",
         "Yes",
         "No",
         "3.9/5",
         "Paneer Tikka, Garlic Bread, Thin Crust Pizza, Falafel, Veggie Pizza",
         "750"
        ],
        [
         "24",
         "Faasos",
         "Yes",
         "No",
         "4.2/5",
         "Rolls, Veggie Wrap, Chocolate Fantasy, Rice Bowls, Chicken Rice, Paneer Makhanwala, Chicken Tikka Wrap",
         "500"
        ],
        [
         "25",
         "Behrouz Biryani",
         "Yes",
         "No",
         "3.9/5",
         "Raita, Gulab Jamun, Paneer Biryani, Vegetable Biryani, Gosht Dum Biryani, Chicken Biryani, Murgh Biryani",
         "650"
        ],
        [
         "26",
         "Szechuan Dragon",
         "Yes",
         "No",
         "4.2/5",
         "Noodles, Momos, Veg Manchow Soup, Kung Pao Chicken, Chicken Lollipop, Chop Suey, Dragon Chicken",
         "600"
        ],
        [
         "27",
         "Empire Restaurant",
         "Yes",
         "No",
         "4.4/5",
         "Chicken Tikka Masala, Mutton Keema Dosa, Mutton Biryani, Raan Biryani, Brain Fry, Chicken Grill, Ghee Rice",
         "750"
        ],
        [
         "28",
         "Chaatimes",
         "Yes",
         "No",
         "3.8/5",
         "Dabeli, Faluda, Masala Poori, Sandwiches, Tokri Chaat, Pav Bhaji, Dahipuri",
         "200"
        ],
        [
         "29",
         "McDonald's",
         "Yes",
         "No",
         "3.9/5",
         "Burgers, Fries, Hot Chocolate",
         "500"
        ],
        [
         "30",
         "Domino's Pizza",
         "Yes",
         "No",
         "3.9/5",
         "Pane Pizza, Lava Cake, Pasta, Stuffed Garlic Bread, Chocolava Cake, Tacos",
         "800"
        ],
        [
         "31",
         "Hotboxit",
         "No",
         "No",
         "3.8/5",
         "Prompt Service",
         "400"
        ],
        [
         "32",
         "Kitchen Garden",
         "Yes",
         "No",
         "3.6/5",
         "Biryani",
         "300"
        ],
        [
         "33",
         "Recipe",
         "Yes",
         "No",
         "4.0/5",
         "Butter Chicken, Noodles, Thali, Biryani",
         "450"
        ],
        [
         "34",
         "Beijing Bites",
         "Yes",
         "No",
         "3.7/5",
         "Momos, Dragon Chicken, Hakka Noodles, Chowmein, Chop Suey, Chilli Garlic Noodles, Garlic Rice",
         "850"
        ],
        [
         "35",
         "Tasty Bytes",
         "Yes",
         "No",
         "3.1/5",
         "Paratha, Pasta",
         "300"
        ],
        [
         "36",
         "Corner House Ice Cream",
         "No",
         "No",
         "4.3/5",
         "Hot Chocolate Fudge, Vanilla Ice Cream, Fudge Cake, Chocolate Mousse",
         "400"
        ],
        [
         "37",
         "Biryanis And More",
         "Yes",
         "No",
         "4.0/5",
         "Prawn Biryani, Dragon Chicken, Chicken Boneless Biryani, Afghani Biryani, Mughlai Biryani, Paneer Tikka Biryani, Gongura Biryani",
         "750"
        ],
        [
         "38",
         "Roving Feast",
         "No",
         "No",
         "4.0/5",
         "Pasta, Momos, Rolls, Chicken Roll, Chilli Chicken, Paneer Roll, Spaghetti",
         "450"
        ],
        [
         "39",
         "FreshMenu",
         "Yes",
         "No",
         "3.9/5",
         "Salads, Sandwiches, Salad, Thai Rice, Pasta, Noodles, Pizza",
         "450"
        ],
        [
         "40",
         "Wamama",
         "Yes",
         "Yes",
         "4.2/5",
         "Sushi, Noodles, Wine, Khau Suey, Mocktails, Yakisoba, Spring Roll",
         "800"
        ],
        [
         "41",
         "Peppy Peppers",
         "No",
         "No",
         "4.2/5",
         "Pasta, Pepper Pizza, Paneer Pizza, Peppy Paneer, Nachos, Supreme Pizza, Manchow Soup",
         "800"
        ],
        [
         "42",
         "Goa 0 Km",
         "Yes",
         "Yes",
         "3.6/5",
         "Sea Food, Crab Meat, Crab Soup, Fish Curry, Chicken Cafreal, Butter Naan, Butter Chicken",
         "800"
        ],
        [
         "43",
         "1947",
         "No",
         "Yes",
         "4.0/5",
         "Salads, Panneer Butter Masala, Rabri, Gajar Ka Halwa, Manchow Soup, Aam Panna, Tomato Basil Soup",
         "850"
        ],
        [
         "44",
         "Kabab Magic",
         "Yes",
         "No",
         "4.1/5",
         "Grape Juice, Chicken Grill, Chicken Tikka Roll, Shawarma Roll, Chicken Shawarama, Biryani Combo, Rolls",
         "400"
        ],
        [
         "45",
         "Gustoes Beer House",
         "No",
         "No",
         "4.1/5",
         "Beer, Wedges, Pizza, Nachos, Salads, Papaya Salad, Buffalo Wings",
         "1,200"
        ],
        [
         "46",
         "The Biryani Cafe",
         "No",
         "No",
         "4.1/5",
         "Vegetable Biryani, Ginger Chicken, Chicken Biryani, Donne Biryani, Chicken Kebab, Egg Bhurji, Dum Biryani",
         "300"
        ],
        [
         "47",
         "Rolls On Wheels",
         "No",
         "No",
         "3.6/5",
         "Rolls, Momos, Fries, Veggie Roll, Chicken Kebab Roll, Paneer Roll, Cheese Roll",
         "300"
        ],
        [
         "48",
         "Sri Guru Kottureshwara Davangere Benne Dosa",
         "Yes",
         "No",
         "4.1/5",
         "Benne Dosa, Mirchi Bajji, Filter Coffee, Poha, Tea, Butter Dosa, Crispy Dosa",
         "150"
        ],
        [
         "49",
         "Upahar Sagar",
         "No",
         "No",
         "3.8/5",
         "Masala Dosa",
         "350"
        ]
       ],
       "shape": {
        "columns": 6,
        "rows": 8250
       }
      },
      "text/html": [
       "<div>\n",
       "<style scoped>\n",
       "    .dataframe tbody tr th:only-of-type {\n",
       "        vertical-align: middle;\n",
       "    }\n",
       "\n",
       "    .dataframe tbody tr th {\n",
       "        vertical-align: top;\n",
       "    }\n",
       "\n",
       "    .dataframe thead th {\n",
       "        text-align: right;\n",
       "    }\n",
       "</style>\n",
       "<table border=\"1\" class=\"dataframe\">\n",
       "  <thead>\n",
       "    <tr style=\"text-align: right;\">\n",
       "      <th></th>\n",
       "      <th>Name</th>\n",
       "      <th>Online_order</th>\n",
       "      <th>Book_table</th>\n",
       "      <th>Rate</th>\n",
       "      <th>Dish_liked</th>\n",
       "      <th>Approx_cost(for two people)</th>\n",
       "    </tr>\n",
       "  </thead>\n",
       "  <tbody>\n",
       "    <tr>\n",
       "      <th>0</th>\n",
       "      <td>Jalsa</td>\n",
       "      <td>Yes</td>\n",
       "      <td>Yes</td>\n",
       "      <td>4.1/5</td>\n",
       "      <td>Pasta, Lunch Buffet, Masala Papad, Paneer Laja...</td>\n",
       "      <td>800</td>\n",
       "    </tr>\n",
       "    <tr>\n",
       "      <th>1</th>\n",
       "      <td>Spice Elephant</td>\n",
       "      <td>Yes</td>\n",
       "      <td>No</td>\n",
       "      <td>4.1/5</td>\n",
       "      <td>Momos, Lunch Buffet, Chocolate Nirvana, Thai G...</td>\n",
       "      <td>800</td>\n",
       "    </tr>\n",
       "    <tr>\n",
       "      <th>2</th>\n",
       "      <td>San Churro Cafe</td>\n",
       "      <td>Yes</td>\n",
       "      <td>No</td>\n",
       "      <td>3.8/5</td>\n",
       "      <td>Churros, Cannelloni, Minestrone Soup, Hot Choc...</td>\n",
       "      <td>800</td>\n",
       "    </tr>\n",
       "    <tr>\n",
       "      <th>3</th>\n",
       "      <td>Addhuri Udupi Bhojana</td>\n",
       "      <td>No</td>\n",
       "      <td>No</td>\n",
       "      <td>3.7/5</td>\n",
       "      <td>Masala Dosa</td>\n",
       "      <td>300</td>\n",
       "    </tr>\n",
       "    <tr>\n",
       "      <th>4</th>\n",
       "      <td>Grand Village</td>\n",
       "      <td>No</td>\n",
       "      <td>No</td>\n",
       "      <td>3.8/5</td>\n",
       "      <td>Panipuri, Gol Gappe</td>\n",
       "      <td>600</td>\n",
       "    </tr>\n",
       "    <tr>\n",
       "      <th>...</th>\n",
       "      <td>...</td>\n",
       "      <td>...</td>\n",
       "      <td>...</td>\n",
       "      <td>...</td>\n",
       "      <td>...</td>\n",
       "      <td>...</td>\n",
       "    </tr>\n",
       "    <tr>\n",
       "      <th>8245</th>\n",
       "      <td>Chung Wah</td>\n",
       "      <td>No</td>\n",
       "      <td>No</td>\n",
       "      <td>2.5 /5</td>\n",
       "      <td>Manchow Soup</td>\n",
       "      <td>800</td>\n",
       "    </tr>\n",
       "    <tr>\n",
       "      <th>8246</th>\n",
       "      <td>Breakfast House</td>\n",
       "      <td>No</td>\n",
       "      <td>No</td>\n",
       "      <td>3.6 /5</td>\n",
       "      <td>Coffee, Vada, Mla Dosa</td>\n",
       "      <td>300</td>\n",
       "    </tr>\n",
       "    <tr>\n",
       "      <th>8247</th>\n",
       "      <td>Fujian Express</td>\n",
       "      <td>Yes</td>\n",
       "      <td>No</td>\n",
       "      <td>3.8 /5</td>\n",
       "      <td>Noodles, Chicken Noodle, Momos, American Chops...</td>\n",
       "      <td>600</td>\n",
       "    </tr>\n",
       "    <tr>\n",
       "      <th>8248</th>\n",
       "      <td>Nook - Aloft Bengaluru Cessna Business Park</td>\n",
       "      <td>No</td>\n",
       "      <td>Yes</td>\n",
       "      <td>4.2 /5</td>\n",
       "      <td>Chicken Quesadilla, Naan, Breakfast Buffet, Ch...</td>\n",
       "      <td>1,800</td>\n",
       "    </tr>\n",
       "    <tr>\n",
       "      <th>8249</th>\n",
       "      <td>Bhagini</td>\n",
       "      <td>No</td>\n",
       "      <td>No</td>\n",
       "      <td>2.5 /5</td>\n",
       "      <td>Biryani, Andhra Meal</td>\n",
       "      <td>800</td>\n",
       "    </tr>\n",
       "  </tbody>\n",
       "</table>\n",
       "<p>8250 rows × 6 columns</p>\n",
       "</div>"
      ],
      "text/plain": [
       "                                             Name Online_order Book_table  \\\n",
       "0                                           Jalsa          Yes        Yes   \n",
       "1                                  Spice Elephant          Yes         No   \n",
       "2                                 San Churro Cafe          Yes         No   \n",
       "3                           Addhuri Udupi Bhojana           No         No   \n",
       "4                                   Grand Village           No         No   \n",
       "...                                           ...          ...        ...   \n",
       "8245                                    Chung Wah           No         No   \n",
       "8246                              Breakfast House           No         No   \n",
       "8247                               Fujian Express          Yes         No   \n",
       "8248  Nook - Aloft Bengaluru Cessna Business Park           No        Yes   \n",
       "8249                                      Bhagini           No         No   \n",
       "\n",
       "        Rate                                         Dish_liked  \\\n",
       "0      4.1/5  Pasta, Lunch Buffet, Masala Papad, Paneer Laja...   \n",
       "1      4.1/5  Momos, Lunch Buffet, Chocolate Nirvana, Thai G...   \n",
       "2      3.8/5  Churros, Cannelloni, Minestrone Soup, Hot Choc...   \n",
       "3      3.7/5                                        Masala Dosa   \n",
       "4      3.8/5                                Panipuri, Gol Gappe   \n",
       "...      ...                                                ...   \n",
       "8245  2.5 /5                                       Manchow Soup   \n",
       "8246  3.6 /5                             Coffee, Vada, Mla Dosa   \n",
       "8247  3.8 /5  Noodles, Chicken Noodle, Momos, American Chops...   \n",
       "8248  4.2 /5  Chicken Quesadilla, Naan, Breakfast Buffet, Ch...   \n",
       "8249  2.5 /5                               Biryani, Andhra Meal   \n",
       "\n",
       "     Approx_cost(for two people)  \n",
       "0                            800  \n",
       "1                            800  \n",
       "2                            800  \n",
       "3                            300  \n",
       "4                            600  \n",
       "...                          ...  \n",
       "8245                         800  \n",
       "8246                         300  \n",
       "8247                         600  \n",
       "8248                       1,800  \n",
       "8249                         800  \n",
       "\n",
       "[8250 rows x 6 columns]"
      ]
     },
     "execution_count": 102,
     "metadata": {},
     "output_type": "execute_result"
    }
   ],
   "source": [
    "df"
   ]
  },
  {
   "cell_type": "code",
   "execution_count": 103,
   "id": "3bb0f4c3",
   "metadata": {},
   "outputs": [
    {
     "data": {
      "application/vnd.microsoft.datawrangler.viewer.v0+json": {
       "columns": [
        {
         "name": "index",
         "rawType": "int64",
         "type": "integer"
        },
        {
         "name": "Name",
         "rawType": "object",
         "type": "string"
        },
        {
         "name": "Online_order",
         "rawType": "object",
         "type": "string"
        },
        {
         "name": "Book_table",
         "rawType": "object",
         "type": "string"
        },
        {
         "name": "Rate",
         "rawType": "object",
         "type": "string"
        },
        {
         "name": "Dish_liked",
         "rawType": "object",
         "type": "string"
        },
        {
         "name": "Approx_cost(for two people)",
         "rawType": "object",
         "type": "string"
        }
       ],
       "ref": "9619bb25-2d82-4abe-bf89-5ebe56a4a22d",
       "rows": [
        [
         "0",
         "Jalsa",
         "Yes",
         "Yes",
         "4.1/5",
         "Pasta, Lunch Buffet, Masala Papad, Paneer Lajawab, Tomato Shorba, Dum Biryani, Sweet Corn Soup",
         "800"
        ],
        [
         "1",
         "Spice Elephant",
         "Yes",
         "No",
         "4.1/5",
         "Momos, Lunch Buffet, Chocolate Nirvana, Thai Green Curry, Paneer Tikka, Dum Biryani, Chicken Biryani",
         "800"
        ],
        [
         "2",
         "San Churro Cafe",
         "Yes",
         "No",
         "3.8/5",
         "Churros, Cannelloni, Minestrone Soup, Hot Chocolate, Pink Sauce Pasta, Salsa, Veg Supreme Pizza",
         "800"
        ],
        [
         "3",
         "Addhuri Udupi Bhojana",
         "No",
         "No",
         "3.7/5",
         "Masala Dosa",
         "300"
        ],
        [
         "4",
         "Grand Village",
         "No",
         "No",
         "3.8/5",
         "Panipuri, Gol Gappe",
         "600"
        ],
        [
         "5",
         "Timepass Dinner",
         "Yes",
         "No",
         "3.8/5",
         "Onion Rings, Pasta, Kadhai Paneer, Salads, Salad, Roti, Jeera Rice",
         "600"
        ],
        [
         "6",
         "Onesta",
         "Yes",
         "Yes",
         "4.6/5",
         "Farmhouse Pizza, Chocolate Banana, Virgin Mojito, Pasta, Paneer Tikka, Lime Soda, Prawn Pizza",
         "600"
        ],
        [
         "7",
         "Penthouse Cafe",
         "Yes",
         "No",
         "4.0/5",
         "Pizza, Mocktails, Coffee, Nachos, Salad, Pasta, Sandwiches",
         "700"
        ],
        [
         "8",
         "Smacznego",
         "Yes",
         "No",
         "4.2/5",
         "Waffles, Pasta, Coleslaw Sandwich, Choco Waffle, Tacos, Momos, Cheese Nachos",
         "550"
        ],
        [
         "9",
         "CafÃÂÃÂÃÂÃÂÃÂÃÂÃÂÃÂ© Down The Alley",
         "Yes",
         "No",
         "4.1/5",
         "Waffles, Pasta, Crispy Chicken, Honey Chilli Chicken, Sandwich, Coffee, Crepe",
         "500"
        ],
        [
         "10",
         "Cafe Shuffle",
         "Yes",
         "Yes",
         "4.2/5",
         "Mocktails, Peri Fries, Lasagne, Pizza, Chicken Bbq Wings, Virgin Mojito, Nachos",
         "600"
        ],
        [
         "11",
         "The Coffee Shack",
         "Yes",
         "Yes",
         "4.2/5",
         "Coffee, Spaghetti, Pancakes, Nachos, Pasta, Sandwich, Garlic Bread",
         "500"
        ],
        [
         "12",
         "Caf-Eleven",
         "No",
         "No",
         "4.0/5",
         "Sandwich, Omelette, Ice Tea, Virgin Mojito, Hot Chocolate, Pasta Arrabiata, Hazelnut Cappuccino",
         "450"
        ],
        [
         "13",
         "Cafe Vivacity",
         "Yes",
         "No",
         "3.8/5",
         "Garlic Bread, Burgers, Sandwiches, Pizza, Hot Chocolate Fudge, Waffles, Potato Wedges",
         "650"
        ],
        [
         "14",
         "Catch-up-ino",
         "Yes",
         "No",
         "3.9/5",
         "Momos, Mushroom Bruschettas, Jalapeno Cheeseballs, Pasta, Red Velvet Shake, Red Velvet Milkshake, Maggi",
         "800"
        ],
        [
         "15",
         "Kirthi's Biryani",
         "Yes",
         "No",
         "3.8/5",
         "Pasta, Gelato, Garlic Bread, Mojito, Nachos, Paneer Pizza, Mocktails",
         "700"
        ],
        [
         "16",
         "T3H Cafe",
         "No",
         "No",
         "3.9/5",
         "Cheese Maggi, Peri Peri Fries, Pasta Arrabiata",
         "300"
        ],
        [
         "17",
         "The Vintage Cafe",
         "Yes",
         "No",
         "3.0/5",
         "Burgers, Caramel Milkshake, Iced Coffee, Iced Tea",
         "400"
        ],
        [
         "18",
         "Woodee Pizza",
         "Yes",
         "No",
         "3.7/5",
         "Pizza, Garlic Bread",
         "500"
        ],
        [
         "19",
         "My Tea House",
         "Yes",
         "No",
         "3.6/5",
         "Pasta, Iced Tea",
         "600"
        ],
        [
         "20",
         "Srinathji's Cafe",
         "No",
         "No",
         "3.8/5",
         "Paratha, Sandwich, Chilli Idli, Noodles, Sandwiches, Lime Soda",
         "550"
        ],
        [
         "21",
         "Redberrys",
         "Yes",
         "No",
         "4.0/5",
         "Pizza, Fries, Anjeer Ice Cream, Sandwiches, Gelato, Burgers, Kesar Badam",
         "600"
        ],
        [
         "22",
         "Foodiction",
         "Yes",
         "No",
         "2.8/5",
         "Burgers, Lassi, Chicken Grill, Naan, Momos, Chicken Burger, Biryani",
         "500"
        ],
        [
         "23",
         "Ovenstory Pizza",
         "Yes",
         "No",
         "3.9/5",
         "Paneer Tikka, Garlic Bread, Thin Crust Pizza, Falafel, Veggie Pizza",
         "750"
        ],
        [
         "24",
         "Faasos",
         "Yes",
         "No",
         "4.2/5",
         "Rolls, Veggie Wrap, Chocolate Fantasy, Rice Bowls, Chicken Rice, Paneer Makhanwala, Chicken Tikka Wrap",
         "500"
        ],
        [
         "25",
         "Behrouz Biryani",
         "Yes",
         "No",
         "3.9/5",
         "Raita, Gulab Jamun, Paneer Biryani, Vegetable Biryani, Gosht Dum Biryani, Chicken Biryani, Murgh Biryani",
         "650"
        ],
        [
         "26",
         "Szechuan Dragon",
         "Yes",
         "No",
         "4.2/5",
         "Noodles, Momos, Veg Manchow Soup, Kung Pao Chicken, Chicken Lollipop, Chop Suey, Dragon Chicken",
         "600"
        ],
        [
         "27",
         "Empire Restaurant",
         "Yes",
         "No",
         "4.4/5",
         "Chicken Tikka Masala, Mutton Keema Dosa, Mutton Biryani, Raan Biryani, Brain Fry, Chicken Grill, Ghee Rice",
         "750"
        ],
        [
         "28",
         "Chaatimes",
         "Yes",
         "No",
         "3.8/5",
         "Dabeli, Faluda, Masala Poori, Sandwiches, Tokri Chaat, Pav Bhaji, Dahipuri",
         "200"
        ],
        [
         "29",
         "McDonald's",
         "Yes",
         "No",
         "3.9/5",
         "Burgers, Fries, Hot Chocolate",
         "500"
        ],
        [
         "30",
         "Domino's Pizza",
         "Yes",
         "No",
         "3.9/5",
         "Pane Pizza, Lava Cake, Pasta, Stuffed Garlic Bread, Chocolava Cake, Tacos",
         "800"
        ],
        [
         "31",
         "Hotboxit",
         "No",
         "No",
         "3.8/5",
         "Prompt Service",
         "400"
        ],
        [
         "32",
         "Kitchen Garden",
         "Yes",
         "No",
         "3.6/5",
         "Biryani",
         "300"
        ],
        [
         "33",
         "Recipe",
         "Yes",
         "No",
         "4.0/5",
         "Butter Chicken, Noodles, Thali, Biryani",
         "450"
        ],
        [
         "34",
         "Beijing Bites",
         "Yes",
         "No",
         "3.7/5",
         "Momos, Dragon Chicken, Hakka Noodles, Chowmein, Chop Suey, Chilli Garlic Noodles, Garlic Rice",
         "850"
        ],
        [
         "35",
         "Tasty Bytes",
         "Yes",
         "No",
         "3.1/5",
         "Paratha, Pasta",
         "300"
        ],
        [
         "36",
         "Corner House Ice Cream",
         "No",
         "No",
         "4.3/5",
         "Hot Chocolate Fudge, Vanilla Ice Cream, Fudge Cake, Chocolate Mousse",
         "400"
        ],
        [
         "37",
         "Biryanis And More",
         "Yes",
         "No",
         "4.0/5",
         "Prawn Biryani, Dragon Chicken, Chicken Boneless Biryani, Afghani Biryani, Mughlai Biryani, Paneer Tikka Biryani, Gongura Biryani",
         "750"
        ],
        [
         "38",
         "Roving Feast",
         "No",
         "No",
         "4.0/5",
         "Pasta, Momos, Rolls, Chicken Roll, Chilli Chicken, Paneer Roll, Spaghetti",
         "450"
        ],
        [
         "39",
         "FreshMenu",
         "Yes",
         "No",
         "3.9/5",
         "Salads, Sandwiches, Salad, Thai Rice, Pasta, Noodles, Pizza",
         "450"
        ],
        [
         "40",
         "Wamama",
         "Yes",
         "Yes",
         "4.2/5",
         "Sushi, Noodles, Wine, Khau Suey, Mocktails, Yakisoba, Spring Roll",
         "800"
        ],
        [
         "41",
         "Peppy Peppers",
         "No",
         "No",
         "4.2/5",
         "Pasta, Pepper Pizza, Paneer Pizza, Peppy Paneer, Nachos, Supreme Pizza, Manchow Soup",
         "800"
        ],
        [
         "42",
         "Goa 0 Km",
         "Yes",
         "Yes",
         "3.6/5",
         "Sea Food, Crab Meat, Crab Soup, Fish Curry, Chicken Cafreal, Butter Naan, Butter Chicken",
         "800"
        ],
        [
         "43",
         "1947",
         "No",
         "Yes",
         "4.0/5",
         "Salads, Panneer Butter Masala, Rabri, Gajar Ka Halwa, Manchow Soup, Aam Panna, Tomato Basil Soup",
         "850"
        ],
        [
         "44",
         "Kabab Magic",
         "Yes",
         "No",
         "4.1/5",
         "Grape Juice, Chicken Grill, Chicken Tikka Roll, Shawarma Roll, Chicken Shawarama, Biryani Combo, Rolls",
         "400"
        ],
        [
         "45",
         "Gustoes Beer House",
         "No",
         "No",
         "4.1/5",
         "Beer, Wedges, Pizza, Nachos, Salads, Papaya Salad, Buffalo Wings",
         "1,200"
        ],
        [
         "46",
         "The Biryani Cafe",
         "No",
         "No",
         "4.1/5",
         "Vegetable Biryani, Ginger Chicken, Chicken Biryani, Donne Biryani, Chicken Kebab, Egg Bhurji, Dum Biryani",
         "300"
        ],
        [
         "47",
         "Rolls On Wheels",
         "No",
         "No",
         "3.6/5",
         "Rolls, Momos, Fries, Veggie Roll, Chicken Kebab Roll, Paneer Roll, Cheese Roll",
         "300"
        ],
        [
         "48",
         "Sri Guru Kottureshwara Davangere Benne Dosa",
         "Yes",
         "No",
         "4.1/5",
         "Benne Dosa, Mirchi Bajji, Filter Coffee, Poha, Tea, Butter Dosa, Crispy Dosa",
         "150"
        ],
        [
         "49",
         "Upahar Sagar",
         "No",
         "No",
         "3.8/5",
         "Masala Dosa",
         "350"
        ]
       ],
       "shape": {
        "columns": 6,
        "rows": 8250
       }
      },
      "text/html": [
       "<div>\n",
       "<style scoped>\n",
       "    .dataframe tbody tr th:only-of-type {\n",
       "        vertical-align: middle;\n",
       "    }\n",
       "\n",
       "    .dataframe tbody tr th {\n",
       "        vertical-align: top;\n",
       "    }\n",
       "\n",
       "    .dataframe thead th {\n",
       "        text-align: right;\n",
       "    }\n",
       "</style>\n",
       "<table border=\"1\" class=\"dataframe\">\n",
       "  <thead>\n",
       "    <tr style=\"text-align: right;\">\n",
       "      <th></th>\n",
       "      <th>Name</th>\n",
       "      <th>Online_order</th>\n",
       "      <th>Book_table</th>\n",
       "      <th>Rate</th>\n",
       "      <th>Dish_liked</th>\n",
       "      <th>Approx_cost(for two people)</th>\n",
       "    </tr>\n",
       "  </thead>\n",
       "  <tbody>\n",
       "    <tr>\n",
       "      <th>0</th>\n",
       "      <td>Jalsa</td>\n",
       "      <td>Yes</td>\n",
       "      <td>Yes</td>\n",
       "      <td>4.1/5</td>\n",
       "      <td>Pasta, Lunch Buffet, Masala Papad, Paneer Laja...</td>\n",
       "      <td>800</td>\n",
       "    </tr>\n",
       "    <tr>\n",
       "      <th>1</th>\n",
       "      <td>Spice Elephant</td>\n",
       "      <td>Yes</td>\n",
       "      <td>No</td>\n",
       "      <td>4.1/5</td>\n",
       "      <td>Momos, Lunch Buffet, Chocolate Nirvana, Thai G...</td>\n",
       "      <td>800</td>\n",
       "    </tr>\n",
       "    <tr>\n",
       "      <th>2</th>\n",
       "      <td>San Churro Cafe</td>\n",
       "      <td>Yes</td>\n",
       "      <td>No</td>\n",
       "      <td>3.8/5</td>\n",
       "      <td>Churros, Cannelloni, Minestrone Soup, Hot Choc...</td>\n",
       "      <td>800</td>\n",
       "    </tr>\n",
       "    <tr>\n",
       "      <th>3</th>\n",
       "      <td>Addhuri Udupi Bhojana</td>\n",
       "      <td>No</td>\n",
       "      <td>No</td>\n",
       "      <td>3.7/5</td>\n",
       "      <td>Masala Dosa</td>\n",
       "      <td>300</td>\n",
       "    </tr>\n",
       "    <tr>\n",
       "      <th>4</th>\n",
       "      <td>Grand Village</td>\n",
       "      <td>No</td>\n",
       "      <td>No</td>\n",
       "      <td>3.8/5</td>\n",
       "      <td>Panipuri, Gol Gappe</td>\n",
       "      <td>600</td>\n",
       "    </tr>\n",
       "    <tr>\n",
       "      <th>...</th>\n",
       "      <td>...</td>\n",
       "      <td>...</td>\n",
       "      <td>...</td>\n",
       "      <td>...</td>\n",
       "      <td>...</td>\n",
       "      <td>...</td>\n",
       "    </tr>\n",
       "    <tr>\n",
       "      <th>8245</th>\n",
       "      <td>Chung Wah</td>\n",
       "      <td>No</td>\n",
       "      <td>No</td>\n",
       "      <td>2.5 /5</td>\n",
       "      <td>Manchow Soup</td>\n",
       "      <td>800</td>\n",
       "    </tr>\n",
       "    <tr>\n",
       "      <th>8246</th>\n",
       "      <td>Breakfast House</td>\n",
       "      <td>No</td>\n",
       "      <td>No</td>\n",
       "      <td>3.6 /5</td>\n",
       "      <td>Coffee, Vada, Mla Dosa</td>\n",
       "      <td>300</td>\n",
       "    </tr>\n",
       "    <tr>\n",
       "      <th>8247</th>\n",
       "      <td>Fujian Express</td>\n",
       "      <td>Yes</td>\n",
       "      <td>No</td>\n",
       "      <td>3.8 /5</td>\n",
       "      <td>Noodles, Chicken Noodle, Momos, American Chops...</td>\n",
       "      <td>600</td>\n",
       "    </tr>\n",
       "    <tr>\n",
       "      <th>8248</th>\n",
       "      <td>Nook - Aloft Bengaluru Cessna Business Park</td>\n",
       "      <td>No</td>\n",
       "      <td>Yes</td>\n",
       "      <td>4.2 /5</td>\n",
       "      <td>Chicken Quesadilla, Naan, Breakfast Buffet, Ch...</td>\n",
       "      <td>1,800</td>\n",
       "    </tr>\n",
       "    <tr>\n",
       "      <th>8249</th>\n",
       "      <td>Bhagini</td>\n",
       "      <td>No</td>\n",
       "      <td>No</td>\n",
       "      <td>2.5 /5</td>\n",
       "      <td>Biryani, Andhra Meal</td>\n",
       "      <td>800</td>\n",
       "    </tr>\n",
       "  </tbody>\n",
       "</table>\n",
       "<p>8250 rows × 6 columns</p>\n",
       "</div>"
      ],
      "text/plain": [
       "                                             Name Online_order Book_table  \\\n",
       "0                                           Jalsa          Yes        Yes   \n",
       "1                                  Spice Elephant          Yes         No   \n",
       "2                                 San Churro Cafe          Yes         No   \n",
       "3                           Addhuri Udupi Bhojana           No         No   \n",
       "4                                   Grand Village           No         No   \n",
       "...                                           ...          ...        ...   \n",
       "8245                                    Chung Wah           No         No   \n",
       "8246                              Breakfast House           No         No   \n",
       "8247                               Fujian Express          Yes         No   \n",
       "8248  Nook - Aloft Bengaluru Cessna Business Park           No        Yes   \n",
       "8249                                      Bhagini           No         No   \n",
       "\n",
       "        Rate                                         Dish_liked  \\\n",
       "0      4.1/5  Pasta, Lunch Buffet, Masala Papad, Paneer Laja...   \n",
       "1      4.1/5  Momos, Lunch Buffet, Chocolate Nirvana, Thai G...   \n",
       "2      3.8/5  Churros, Cannelloni, Minestrone Soup, Hot Choc...   \n",
       "3      3.7/5                                        Masala Dosa   \n",
       "4      3.8/5                                Panipuri, Gol Gappe   \n",
       "...      ...                                                ...   \n",
       "8245  2.5 /5                                       Manchow Soup   \n",
       "8246  3.6 /5                             Coffee, Vada, Mla Dosa   \n",
       "8247  3.8 /5  Noodles, Chicken Noodle, Momos, American Chops...   \n",
       "8248  4.2 /5  Chicken Quesadilla, Naan, Breakfast Buffet, Ch...   \n",
       "8249  2.5 /5                               Biryani, Andhra Meal   \n",
       "\n",
       "     Approx_cost(for two people)  \n",
       "0                            800  \n",
       "1                            800  \n",
       "2                            800  \n",
       "3                            300  \n",
       "4                            600  \n",
       "...                          ...  \n",
       "8245                         800  \n",
       "8246                         300  \n",
       "8247                         600  \n",
       "8248                       1,800  \n",
       "8249                         800  \n",
       "\n",
       "[8250 rows x 6 columns]"
      ]
     },
     "execution_count": 103,
     "metadata": {},
     "output_type": "execute_result"
    }
   ],
   "source": [
    "#cleaning individual columns\n",
    "df"
   ]
  },
  {
   "cell_type": "code",
   "execution_count": 104,
   "id": "7fd74739",
   "metadata": {},
   "outputs": [
    {
     "data": {
      "text/plain": [
       "'3.8/5'"
      ]
     },
     "execution_count": 104,
     "metadata": {},
     "output_type": "execute_result"
    }
   ],
   "source": [
    "df['Rate'][2]"
   ]
  },
  {
   "cell_type": "code",
   "execution_count": 105,
   "id": "4a6e98bf",
   "metadata": {},
   "outputs": [
    {
     "data": {
      "text/plain": [
       "str"
      ]
     },
     "execution_count": 105,
     "metadata": {},
     "output_type": "execute_result"
    }
   ],
   "source": [
    "type(df['Rate'][2])"
   ]
  },
  {
   "cell_type": "code",
   "execution_count": 106,
   "id": "e9779fbf",
   "metadata": {},
   "outputs": [
    {
     "data": {
      "application/vnd.microsoft.datawrangler.viewer.v0+json": {
       "columns": [
        {
         "name": "index",
         "rawType": "int64",
         "type": "integer"
        },
        {
         "name": "Rate",
         "rawType": "object",
         "type": "string"
        }
       ],
       "ref": "9d3066e9-bfee-4bab-ad9d-c8de379f0690",
       "rows": [
        [
         "0",
         "4.1/5"
        ],
        [
         "1",
         "4.1/5"
        ],
        [
         "2",
         "3.8/5"
        ],
        [
         "3",
         "3.7/5"
        ],
        [
         "4",
         "3.8/5"
        ],
        [
         "5",
         "3.8/5"
        ],
        [
         "6",
         "4.6/5"
        ],
        [
         "7",
         "4.0/5"
        ],
        [
         "8",
         "4.2/5"
        ],
        [
         "9",
         "4.1/5"
        ],
        [
         "10",
         "4.2/5"
        ],
        [
         "11",
         "4.2/5"
        ],
        [
         "12",
         "4.0/5"
        ],
        [
         "13",
         "3.8/5"
        ],
        [
         "14",
         "3.9/5"
        ],
        [
         "15",
         "3.8/5"
        ],
        [
         "16",
         "3.9/5"
        ],
        [
         "17",
         "3.0/5"
        ],
        [
         "18",
         "3.7/5"
        ],
        [
         "19",
         "3.6/5"
        ],
        [
         "20",
         "3.8/5"
        ],
        [
         "21",
         "4.0/5"
        ],
        [
         "22",
         "2.8/5"
        ],
        [
         "23",
         "3.9/5"
        ],
        [
         "24",
         "4.2/5"
        ],
        [
         "25",
         "3.9/5"
        ],
        [
         "26",
         "4.2/5"
        ],
        [
         "27",
         "4.4/5"
        ],
        [
         "28",
         "3.8/5"
        ],
        [
         "29",
         "3.9/5"
        ],
        [
         "30",
         "3.9/5"
        ],
        [
         "31",
         "3.8/5"
        ],
        [
         "32",
         "3.6/5"
        ],
        [
         "33",
         "4.0/5"
        ],
        [
         "34",
         "3.7/5"
        ],
        [
         "35",
         "3.1/5"
        ],
        [
         "36",
         "4.3/5"
        ],
        [
         "37",
         "4.0/5"
        ],
        [
         "38",
         "4.0/5"
        ],
        [
         "39",
         "3.9/5"
        ],
        [
         "40",
         "4.2/5"
        ],
        [
         "41",
         "4.2/5"
        ],
        [
         "42",
         "3.6/5"
        ],
        [
         "43",
         "4.0/5"
        ],
        [
         "44",
         "4.1/5"
        ],
        [
         "45",
         "4.1/5"
        ],
        [
         "46",
         "4.1/5"
        ],
        [
         "47",
         "3.6/5"
        ],
        [
         "48",
         "4.1/5"
        ],
        [
         "49",
         "3.8/5"
        ]
       ],
       "shape": {
        "columns": 1,
        "rows": 8250
       }
      },
      "text/plain": [
       "0        4.1/5\n",
       "1        4.1/5\n",
       "2        3.8/5\n",
       "3        3.7/5\n",
       "4        3.8/5\n",
       "         ...  \n",
       "8245    2.5 /5\n",
       "8246    3.6 /5\n",
       "8247    3.8 /5\n",
       "8248    4.2 /5\n",
       "8249    2.5 /5\n",
       "Name: Rate, Length: 8250, dtype: object"
      ]
     },
     "execution_count": 106,
     "metadata": {},
     "output_type": "execute_result"
    }
   ],
   "source": [
    "df['Rate']"
   ]
  },
  {
   "cell_type": "code",
   "execution_count": 107,
   "id": "e62ab2e6",
   "metadata": {},
   "outputs": [],
   "source": [
    "df['Rate'] = df['Rate'].str.replace(' ', '')"
   ]
  },
  {
   "cell_type": "code",
   "execution_count": 108,
   "id": "29787125",
   "metadata": {},
   "outputs": [],
   "source": [
    "df['Rate'] = df['Rate'].str.replace('/', ' out of ')"
   ]
  },
  {
   "cell_type": "code",
   "execution_count": 109,
   "id": "7b2e436f",
   "metadata": {},
   "outputs": [
    {
     "data": {
      "application/vnd.microsoft.datawrangler.viewer.v0+json": {
       "columns": [
        {
         "name": "index",
         "rawType": "int64",
         "type": "integer"
        },
        {
         "name": "Rate",
         "rawType": "object",
         "type": "string"
        }
       ],
       "ref": "19793093-2c4b-4150-af1f-8dd3bb746082",
       "rows": [
        [
         "0",
         "4.1 out of 5"
        ],
        [
         "1",
         "4.1 out of 5"
        ],
        [
         "2",
         "3.8 out of 5"
        ],
        [
         "3",
         "3.7 out of 5"
        ],
        [
         "4",
         "3.8 out of 5"
        ],
        [
         "5",
         "3.8 out of 5"
        ],
        [
         "6",
         "4.6 out of 5"
        ],
        [
         "7",
         "4.0 out of 5"
        ],
        [
         "8",
         "4.2 out of 5"
        ],
        [
         "9",
         "4.1 out of 5"
        ],
        [
         "10",
         "4.2 out of 5"
        ],
        [
         "11",
         "4.2 out of 5"
        ],
        [
         "12",
         "4.0 out of 5"
        ],
        [
         "13",
         "3.8 out of 5"
        ],
        [
         "14",
         "3.9 out of 5"
        ],
        [
         "15",
         "3.8 out of 5"
        ],
        [
         "16",
         "3.9 out of 5"
        ],
        [
         "17",
         "3.0 out of 5"
        ],
        [
         "18",
         "3.7 out of 5"
        ],
        [
         "19",
         "3.6 out of 5"
        ],
        [
         "20",
         "3.8 out of 5"
        ],
        [
         "21",
         "4.0 out of 5"
        ],
        [
         "22",
         "2.8 out of 5"
        ],
        [
         "23",
         "3.9 out of 5"
        ],
        [
         "24",
         "4.2 out of 5"
        ],
        [
         "25",
         "3.9 out of 5"
        ],
        [
         "26",
         "4.2 out of 5"
        ],
        [
         "27",
         "4.4 out of 5"
        ],
        [
         "28",
         "3.8 out of 5"
        ],
        [
         "29",
         "3.9 out of 5"
        ],
        [
         "30",
         "3.9 out of 5"
        ],
        [
         "31",
         "3.8 out of 5"
        ],
        [
         "32",
         "3.6 out of 5"
        ],
        [
         "33",
         "4.0 out of 5"
        ],
        [
         "34",
         "3.7 out of 5"
        ],
        [
         "35",
         "3.1 out of 5"
        ],
        [
         "36",
         "4.3 out of 5"
        ],
        [
         "37",
         "4.0 out of 5"
        ],
        [
         "38",
         "4.0 out of 5"
        ],
        [
         "39",
         "3.9 out of 5"
        ],
        [
         "40",
         "4.2 out of 5"
        ],
        [
         "41",
         "4.2 out of 5"
        ],
        [
         "42",
         "3.6 out of 5"
        ],
        [
         "43",
         "4.0 out of 5"
        ],
        [
         "44",
         "4.1 out of 5"
        ],
        [
         "45",
         "4.1 out of 5"
        ],
        [
         "46",
         "4.1 out of 5"
        ],
        [
         "47",
         "3.6 out of 5"
        ],
        [
         "48",
         "4.1 out of 5"
        ],
        [
         "49",
         "3.8 out of 5"
        ]
       ],
       "shape": {
        "columns": 1,
        "rows": 8250
       }
      },
      "text/plain": [
       "0       4.1 out of 5\n",
       "1       4.1 out of 5\n",
       "2       3.8 out of 5\n",
       "3       3.7 out of 5\n",
       "4       3.8 out of 5\n",
       "            ...     \n",
       "8245    2.5 out of 5\n",
       "8246    3.6 out of 5\n",
       "8247    3.8 out of 5\n",
       "8248    4.2 out of 5\n",
       "8249    2.5 out of 5\n",
       "Name: Rate, Length: 8250, dtype: object"
      ]
     },
     "execution_count": 109,
     "metadata": {},
     "output_type": "execute_result"
    }
   ],
   "source": [
    "df['Rate']"
   ]
  },
  {
   "cell_type": "code",
   "execution_count": 110,
   "id": "e4f12682",
   "metadata": {},
   "outputs": [
    {
     "data": {
      "application/vnd.microsoft.datawrangler.viewer.v0+json": {
       "columns": [
        {
         "name": "index",
         "rawType": "int64",
         "type": "integer"
        },
        {
         "name": "Name",
         "rawType": "object",
         "type": "string"
        },
        {
         "name": "Online_order",
         "rawType": "object",
         "type": "string"
        },
        {
         "name": "Book_table",
         "rawType": "object",
         "type": "string"
        },
        {
         "name": "Rate",
         "rawType": "object",
         "type": "string"
        },
        {
         "name": "Dish_liked",
         "rawType": "object",
         "type": "string"
        },
        {
         "name": "Approx_cost(for two people)",
         "rawType": "object",
         "type": "string"
        }
       ],
       "ref": "955c3cc5-d691-4da3-85d4-5d13827013b6",
       "rows": [
        [
         "0",
         "Jalsa",
         "Yes",
         "Yes",
         "4.1 out of 5",
         "Pasta, Lunch Buffet, Masala Papad, Paneer Lajawab, Tomato Shorba, Dum Biryani, Sweet Corn Soup",
         "800"
        ],
        [
         "1",
         "Spice Elephant",
         "Yes",
         "No",
         "4.1 out of 5",
         "Momos, Lunch Buffet, Chocolate Nirvana, Thai Green Curry, Paneer Tikka, Dum Biryani, Chicken Biryani",
         "800"
        ],
        [
         "2",
         "San Churro Cafe",
         "Yes",
         "No",
         "3.8 out of 5",
         "Churros, Cannelloni, Minestrone Soup, Hot Chocolate, Pink Sauce Pasta, Salsa, Veg Supreme Pizza",
         "800"
        ],
        [
         "3",
         "Addhuri Udupi Bhojana",
         "No",
         "No",
         "3.7 out of 5",
         "Masala Dosa",
         "300"
        ],
        [
         "4",
         "Grand Village",
         "No",
         "No",
         "3.8 out of 5",
         "Panipuri, Gol Gappe",
         "600"
        ],
        [
         "5",
         "Timepass Dinner",
         "Yes",
         "No",
         "3.8 out of 5",
         "Onion Rings, Pasta, Kadhai Paneer, Salads, Salad, Roti, Jeera Rice",
         "600"
        ],
        [
         "6",
         "Onesta",
         "Yes",
         "Yes",
         "4.6 out of 5",
         "Farmhouse Pizza, Chocolate Banana, Virgin Mojito, Pasta, Paneer Tikka, Lime Soda, Prawn Pizza",
         "600"
        ],
        [
         "7",
         "Penthouse Cafe",
         "Yes",
         "No",
         "4.0 out of 5",
         "Pizza, Mocktails, Coffee, Nachos, Salad, Pasta, Sandwiches",
         "700"
        ],
        [
         "8",
         "Smacznego",
         "Yes",
         "No",
         "4.2 out of 5",
         "Waffles, Pasta, Coleslaw Sandwich, Choco Waffle, Tacos, Momos, Cheese Nachos",
         "550"
        ],
        [
         "9",
         "CafÃÂÃÂÃÂÃÂÃÂÃÂÃÂÃÂ© Down The Alley",
         "Yes",
         "No",
         "4.1 out of 5",
         "Waffles, Pasta, Crispy Chicken, Honey Chilli Chicken, Sandwich, Coffee, Crepe",
         "500"
        ],
        [
         "10",
         "Cafe Shuffle",
         "Yes",
         "Yes",
         "4.2 out of 5",
         "Mocktails, Peri Fries, Lasagne, Pizza, Chicken Bbq Wings, Virgin Mojito, Nachos",
         "600"
        ],
        [
         "11",
         "The Coffee Shack",
         "Yes",
         "Yes",
         "4.2 out of 5",
         "Coffee, Spaghetti, Pancakes, Nachos, Pasta, Sandwich, Garlic Bread",
         "500"
        ],
        [
         "12",
         "Caf-Eleven",
         "No",
         "No",
         "4.0 out of 5",
         "Sandwich, Omelette, Ice Tea, Virgin Mojito, Hot Chocolate, Pasta Arrabiata, Hazelnut Cappuccino",
         "450"
        ],
        [
         "13",
         "Cafe Vivacity",
         "Yes",
         "No",
         "3.8 out of 5",
         "Garlic Bread, Burgers, Sandwiches, Pizza, Hot Chocolate Fudge, Waffles, Potato Wedges",
         "650"
        ],
        [
         "14",
         "Catch-up-ino",
         "Yes",
         "No",
         "3.9 out of 5",
         "Momos, Mushroom Bruschettas, Jalapeno Cheeseballs, Pasta, Red Velvet Shake, Red Velvet Milkshake, Maggi",
         "800"
        ],
        [
         "15",
         "Kirthi's Biryani",
         "Yes",
         "No",
         "3.8 out of 5",
         "Pasta, Gelato, Garlic Bread, Mojito, Nachos, Paneer Pizza, Mocktails",
         "700"
        ],
        [
         "16",
         "T3H Cafe",
         "No",
         "No",
         "3.9 out of 5",
         "Cheese Maggi, Peri Peri Fries, Pasta Arrabiata",
         "300"
        ],
        [
         "17",
         "The Vintage Cafe",
         "Yes",
         "No",
         "3.0 out of 5",
         "Burgers, Caramel Milkshake, Iced Coffee, Iced Tea",
         "400"
        ],
        [
         "18",
         "Woodee Pizza",
         "Yes",
         "No",
         "3.7 out of 5",
         "Pizza, Garlic Bread",
         "500"
        ],
        [
         "19",
         "My Tea House",
         "Yes",
         "No",
         "3.6 out of 5",
         "Pasta, Iced Tea",
         "600"
        ],
        [
         "20",
         "Srinathji's Cafe",
         "No",
         "No",
         "3.8 out of 5",
         "Paratha, Sandwich, Chilli Idli, Noodles, Sandwiches, Lime Soda",
         "550"
        ],
        [
         "21",
         "Redberrys",
         "Yes",
         "No",
         "4.0 out of 5",
         "Pizza, Fries, Anjeer Ice Cream, Sandwiches, Gelato, Burgers, Kesar Badam",
         "600"
        ],
        [
         "22",
         "Foodiction",
         "Yes",
         "No",
         "2.8 out of 5",
         "Burgers, Lassi, Chicken Grill, Naan, Momos, Chicken Burger, Biryani",
         "500"
        ],
        [
         "23",
         "Ovenstory Pizza",
         "Yes",
         "No",
         "3.9 out of 5",
         "Paneer Tikka, Garlic Bread, Thin Crust Pizza, Falafel, Veggie Pizza",
         "750"
        ],
        [
         "24",
         "Faasos",
         "Yes",
         "No",
         "4.2 out of 5",
         "Rolls, Veggie Wrap, Chocolate Fantasy, Rice Bowls, Chicken Rice, Paneer Makhanwala, Chicken Tikka Wrap",
         "500"
        ],
        [
         "25",
         "Behrouz Biryani",
         "Yes",
         "No",
         "3.9 out of 5",
         "Raita, Gulab Jamun, Paneer Biryani, Vegetable Biryani, Gosht Dum Biryani, Chicken Biryani, Murgh Biryani",
         "650"
        ],
        [
         "26",
         "Szechuan Dragon",
         "Yes",
         "No",
         "4.2 out of 5",
         "Noodles, Momos, Veg Manchow Soup, Kung Pao Chicken, Chicken Lollipop, Chop Suey, Dragon Chicken",
         "600"
        ],
        [
         "27",
         "Empire Restaurant",
         "Yes",
         "No",
         "4.4 out of 5",
         "Chicken Tikka Masala, Mutton Keema Dosa, Mutton Biryani, Raan Biryani, Brain Fry, Chicken Grill, Ghee Rice",
         "750"
        ],
        [
         "28",
         "Chaatimes",
         "Yes",
         "No",
         "3.8 out of 5",
         "Dabeli, Faluda, Masala Poori, Sandwiches, Tokri Chaat, Pav Bhaji, Dahipuri",
         "200"
        ],
        [
         "29",
         "McDonald's",
         "Yes",
         "No",
         "3.9 out of 5",
         "Burgers, Fries, Hot Chocolate",
         "500"
        ],
        [
         "30",
         "Domino's Pizza",
         "Yes",
         "No",
         "3.9 out of 5",
         "Pane Pizza, Lava Cake, Pasta, Stuffed Garlic Bread, Chocolava Cake, Tacos",
         "800"
        ],
        [
         "31",
         "Hotboxit",
         "No",
         "No",
         "3.8 out of 5",
         "Prompt Service",
         "400"
        ],
        [
         "32",
         "Kitchen Garden",
         "Yes",
         "No",
         "3.6 out of 5",
         "Biryani",
         "300"
        ],
        [
         "33",
         "Recipe",
         "Yes",
         "No",
         "4.0 out of 5",
         "Butter Chicken, Noodles, Thali, Biryani",
         "450"
        ],
        [
         "34",
         "Beijing Bites",
         "Yes",
         "No",
         "3.7 out of 5",
         "Momos, Dragon Chicken, Hakka Noodles, Chowmein, Chop Suey, Chilli Garlic Noodles, Garlic Rice",
         "850"
        ],
        [
         "35",
         "Tasty Bytes",
         "Yes",
         "No",
         "3.1 out of 5",
         "Paratha, Pasta",
         "300"
        ],
        [
         "36",
         "Corner House Ice Cream",
         "No",
         "No",
         "4.3 out of 5",
         "Hot Chocolate Fudge, Vanilla Ice Cream, Fudge Cake, Chocolate Mousse",
         "400"
        ],
        [
         "37",
         "Biryanis And More",
         "Yes",
         "No",
         "4.0 out of 5",
         "Prawn Biryani, Dragon Chicken, Chicken Boneless Biryani, Afghani Biryani, Mughlai Biryani, Paneer Tikka Biryani, Gongura Biryani",
         "750"
        ],
        [
         "38",
         "Roving Feast",
         "No",
         "No",
         "4.0 out of 5",
         "Pasta, Momos, Rolls, Chicken Roll, Chilli Chicken, Paneer Roll, Spaghetti",
         "450"
        ],
        [
         "39",
         "FreshMenu",
         "Yes",
         "No",
         "3.9 out of 5",
         "Salads, Sandwiches, Salad, Thai Rice, Pasta, Noodles, Pizza",
         "450"
        ],
        [
         "40",
         "Wamama",
         "Yes",
         "Yes",
         "4.2 out of 5",
         "Sushi, Noodles, Wine, Khau Suey, Mocktails, Yakisoba, Spring Roll",
         "800"
        ],
        [
         "41",
         "Peppy Peppers",
         "No",
         "No",
         "4.2 out of 5",
         "Pasta, Pepper Pizza, Paneer Pizza, Peppy Paneer, Nachos, Supreme Pizza, Manchow Soup",
         "800"
        ],
        [
         "42",
         "Goa 0 Km",
         "Yes",
         "Yes",
         "3.6 out of 5",
         "Sea Food, Crab Meat, Crab Soup, Fish Curry, Chicken Cafreal, Butter Naan, Butter Chicken",
         "800"
        ],
        [
         "43",
         "1947",
         "No",
         "Yes",
         "4.0 out of 5",
         "Salads, Panneer Butter Masala, Rabri, Gajar Ka Halwa, Manchow Soup, Aam Panna, Tomato Basil Soup",
         "850"
        ],
        [
         "44",
         "Kabab Magic",
         "Yes",
         "No",
         "4.1 out of 5",
         "Grape Juice, Chicken Grill, Chicken Tikka Roll, Shawarma Roll, Chicken Shawarama, Biryani Combo, Rolls",
         "400"
        ],
        [
         "45",
         "Gustoes Beer House",
         "No",
         "No",
         "4.1 out of 5",
         "Beer, Wedges, Pizza, Nachos, Salads, Papaya Salad, Buffalo Wings",
         "1,200"
        ],
        [
         "46",
         "The Biryani Cafe",
         "No",
         "No",
         "4.1 out of 5",
         "Vegetable Biryani, Ginger Chicken, Chicken Biryani, Donne Biryani, Chicken Kebab, Egg Bhurji, Dum Biryani",
         "300"
        ],
        [
         "47",
         "Rolls On Wheels",
         "No",
         "No",
         "3.6 out of 5",
         "Rolls, Momos, Fries, Veggie Roll, Chicken Kebab Roll, Paneer Roll, Cheese Roll",
         "300"
        ],
        [
         "48",
         "Sri Guru Kottureshwara Davangere Benne Dosa",
         "Yes",
         "No",
         "4.1 out of 5",
         "Benne Dosa, Mirchi Bajji, Filter Coffee, Poha, Tea, Butter Dosa, Crispy Dosa",
         "150"
        ],
        [
         "49",
         "Upahar Sagar",
         "No",
         "No",
         "3.8 out of 5",
         "Masala Dosa",
         "350"
        ]
       ],
       "shape": {
        "columns": 6,
        "rows": 8250
       }
      },
      "text/html": [
       "<div>\n",
       "<style scoped>\n",
       "    .dataframe tbody tr th:only-of-type {\n",
       "        vertical-align: middle;\n",
       "    }\n",
       "\n",
       "    .dataframe tbody tr th {\n",
       "        vertical-align: top;\n",
       "    }\n",
       "\n",
       "    .dataframe thead th {\n",
       "        text-align: right;\n",
       "    }\n",
       "</style>\n",
       "<table border=\"1\" class=\"dataframe\">\n",
       "  <thead>\n",
       "    <tr style=\"text-align: right;\">\n",
       "      <th></th>\n",
       "      <th>Name</th>\n",
       "      <th>Online_order</th>\n",
       "      <th>Book_table</th>\n",
       "      <th>Rate</th>\n",
       "      <th>Dish_liked</th>\n",
       "      <th>Approx_cost(for two people)</th>\n",
       "    </tr>\n",
       "  </thead>\n",
       "  <tbody>\n",
       "    <tr>\n",
       "      <th>0</th>\n",
       "      <td>Jalsa</td>\n",
       "      <td>Yes</td>\n",
       "      <td>Yes</td>\n",
       "      <td>4.1 out of 5</td>\n",
       "      <td>Pasta, Lunch Buffet, Masala Papad, Paneer Laja...</td>\n",
       "      <td>800</td>\n",
       "    </tr>\n",
       "    <tr>\n",
       "      <th>1</th>\n",
       "      <td>Spice Elephant</td>\n",
       "      <td>Yes</td>\n",
       "      <td>No</td>\n",
       "      <td>4.1 out of 5</td>\n",
       "      <td>Momos, Lunch Buffet, Chocolate Nirvana, Thai G...</td>\n",
       "      <td>800</td>\n",
       "    </tr>\n",
       "    <tr>\n",
       "      <th>2</th>\n",
       "      <td>San Churro Cafe</td>\n",
       "      <td>Yes</td>\n",
       "      <td>No</td>\n",
       "      <td>3.8 out of 5</td>\n",
       "      <td>Churros, Cannelloni, Minestrone Soup, Hot Choc...</td>\n",
       "      <td>800</td>\n",
       "    </tr>\n",
       "    <tr>\n",
       "      <th>3</th>\n",
       "      <td>Addhuri Udupi Bhojana</td>\n",
       "      <td>No</td>\n",
       "      <td>No</td>\n",
       "      <td>3.7 out of 5</td>\n",
       "      <td>Masala Dosa</td>\n",
       "      <td>300</td>\n",
       "    </tr>\n",
       "    <tr>\n",
       "      <th>4</th>\n",
       "      <td>Grand Village</td>\n",
       "      <td>No</td>\n",
       "      <td>No</td>\n",
       "      <td>3.8 out of 5</td>\n",
       "      <td>Panipuri, Gol Gappe</td>\n",
       "      <td>600</td>\n",
       "    </tr>\n",
       "    <tr>\n",
       "      <th>...</th>\n",
       "      <td>...</td>\n",
       "      <td>...</td>\n",
       "      <td>...</td>\n",
       "      <td>...</td>\n",
       "      <td>...</td>\n",
       "      <td>...</td>\n",
       "    </tr>\n",
       "    <tr>\n",
       "      <th>8245</th>\n",
       "      <td>Chung Wah</td>\n",
       "      <td>No</td>\n",
       "      <td>No</td>\n",
       "      <td>2.5 out of 5</td>\n",
       "      <td>Manchow Soup</td>\n",
       "      <td>800</td>\n",
       "    </tr>\n",
       "    <tr>\n",
       "      <th>8246</th>\n",
       "      <td>Breakfast House</td>\n",
       "      <td>No</td>\n",
       "      <td>No</td>\n",
       "      <td>3.6 out of 5</td>\n",
       "      <td>Coffee, Vada, Mla Dosa</td>\n",
       "      <td>300</td>\n",
       "    </tr>\n",
       "    <tr>\n",
       "      <th>8247</th>\n",
       "      <td>Fujian Express</td>\n",
       "      <td>Yes</td>\n",
       "      <td>No</td>\n",
       "      <td>3.8 out of 5</td>\n",
       "      <td>Noodles, Chicken Noodle, Momos, American Chops...</td>\n",
       "      <td>600</td>\n",
       "    </tr>\n",
       "    <tr>\n",
       "      <th>8248</th>\n",
       "      <td>Nook - Aloft Bengaluru Cessna Business Park</td>\n",
       "      <td>No</td>\n",
       "      <td>Yes</td>\n",
       "      <td>4.2 out of 5</td>\n",
       "      <td>Chicken Quesadilla, Naan, Breakfast Buffet, Ch...</td>\n",
       "      <td>1,800</td>\n",
       "    </tr>\n",
       "    <tr>\n",
       "      <th>8249</th>\n",
       "      <td>Bhagini</td>\n",
       "      <td>No</td>\n",
       "      <td>No</td>\n",
       "      <td>2.5 out of 5</td>\n",
       "      <td>Biryani, Andhra Meal</td>\n",
       "      <td>800</td>\n",
       "    </tr>\n",
       "  </tbody>\n",
       "</table>\n",
       "<p>8250 rows × 6 columns</p>\n",
       "</div>"
      ],
      "text/plain": [
       "                                             Name Online_order Book_table  \\\n",
       "0                                           Jalsa          Yes        Yes   \n",
       "1                                  Spice Elephant          Yes         No   \n",
       "2                                 San Churro Cafe          Yes         No   \n",
       "3                           Addhuri Udupi Bhojana           No         No   \n",
       "4                                   Grand Village           No         No   \n",
       "...                                           ...          ...        ...   \n",
       "8245                                    Chung Wah           No         No   \n",
       "8246                              Breakfast House           No         No   \n",
       "8247                               Fujian Express          Yes         No   \n",
       "8248  Nook - Aloft Bengaluru Cessna Business Park           No        Yes   \n",
       "8249                                      Bhagini           No         No   \n",
       "\n",
       "              Rate                                         Dish_liked  \\\n",
       "0     4.1 out of 5  Pasta, Lunch Buffet, Masala Papad, Paneer Laja...   \n",
       "1     4.1 out of 5  Momos, Lunch Buffet, Chocolate Nirvana, Thai G...   \n",
       "2     3.8 out of 5  Churros, Cannelloni, Minestrone Soup, Hot Choc...   \n",
       "3     3.7 out of 5                                        Masala Dosa   \n",
       "4     3.8 out of 5                                Panipuri, Gol Gappe   \n",
       "...            ...                                                ...   \n",
       "8245  2.5 out of 5                                       Manchow Soup   \n",
       "8246  3.6 out of 5                             Coffee, Vada, Mla Dosa   \n",
       "8247  3.8 out of 5  Noodles, Chicken Noodle, Momos, American Chops...   \n",
       "8248  4.2 out of 5  Chicken Quesadilla, Naan, Breakfast Buffet, Ch...   \n",
       "8249  2.5 out of 5                               Biryani, Andhra Meal   \n",
       "\n",
       "     Approx_cost(for two people)  \n",
       "0                            800  \n",
       "1                            800  \n",
       "2                            800  \n",
       "3                            300  \n",
       "4                            600  \n",
       "...                          ...  \n",
       "8245                         800  \n",
       "8246                         300  \n",
       "8247                         600  \n",
       "8248                       1,800  \n",
       "8249                         800  \n",
       "\n",
       "[8250 rows x 6 columns]"
      ]
     },
     "execution_count": 110,
     "metadata": {},
     "output_type": "execute_result"
    }
   ],
   "source": [
    "df"
   ]
  },
  {
   "cell_type": "code",
   "execution_count": 111,
   "id": "6745539d",
   "metadata": {},
   "outputs": [],
   "source": [
    "#check for more transformations\n"
   ]
  },
  {
   "cell_type": "code",
   "execution_count": 112,
   "id": "7bdd68ba",
   "metadata": {},
   "outputs": [
    {
     "data": {
      "application/vnd.microsoft.datawrangler.viewer.v0+json": {
       "columns": [
        {
         "name": "index",
         "rawType": "int64",
         "type": "integer"
        },
        {
         "name": "Online_order",
         "rawType": "object",
         "type": "string"
        }
       ],
       "ref": "d1f9d60b-fd51-40a0-b500-97822fa94aac",
       "rows": [
        [
         "0",
         "Yes"
        ],
        [
         "1",
         "Yes"
        ],
        [
         "2",
         "Yes"
        ],
        [
         "3",
         "No"
        ],
        [
         "4",
         "No"
        ],
        [
         "5",
         "Yes"
        ],
        [
         "6",
         "Yes"
        ],
        [
         "7",
         "Yes"
        ],
        [
         "8",
         "Yes"
        ],
        [
         "9",
         "Yes"
        ],
        [
         "10",
         "Yes"
        ],
        [
         "11",
         "Yes"
        ],
        [
         "12",
         "No"
        ],
        [
         "13",
         "Yes"
        ],
        [
         "14",
         "Yes"
        ],
        [
         "15",
         "Yes"
        ],
        [
         "16",
         "No"
        ],
        [
         "17",
         "Yes"
        ],
        [
         "18",
         "Yes"
        ],
        [
         "19",
         "Yes"
        ],
        [
         "20",
         "No"
        ],
        [
         "21",
         "Yes"
        ],
        [
         "22",
         "Yes"
        ],
        [
         "23",
         "Yes"
        ],
        [
         "24",
         "Yes"
        ],
        [
         "25",
         "Yes"
        ],
        [
         "26",
         "Yes"
        ],
        [
         "27",
         "Yes"
        ],
        [
         "28",
         "Yes"
        ],
        [
         "29",
         "Yes"
        ],
        [
         "30",
         "Yes"
        ],
        [
         "31",
         "No"
        ],
        [
         "32",
         "Yes"
        ],
        [
         "33",
         "Yes"
        ],
        [
         "34",
         "Yes"
        ],
        [
         "35",
         "Yes"
        ],
        [
         "36",
         "No"
        ],
        [
         "37",
         "Yes"
        ],
        [
         "38",
         "No"
        ],
        [
         "39",
         "Yes"
        ],
        [
         "40",
         "Yes"
        ],
        [
         "41",
         "No"
        ],
        [
         "42",
         "Yes"
        ],
        [
         "43",
         "No"
        ],
        [
         "44",
         "Yes"
        ],
        [
         "45",
         "No"
        ],
        [
         "46",
         "No"
        ],
        [
         "47",
         "No"
        ],
        [
         "48",
         "Yes"
        ],
        [
         "49",
         "No"
        ]
       ],
       "shape": {
        "columns": 1,
        "rows": 8250
       }
      },
      "text/plain": [
       "0       Yes\n",
       "1       Yes\n",
       "2       Yes\n",
       "3        No\n",
       "4        No\n",
       "       ... \n",
       "8245     No\n",
       "8246     No\n",
       "8247    Yes\n",
       "8248     No\n",
       "8249     No\n",
       "Name: Online_order, Length: 8250, dtype: object"
      ]
     },
     "execution_count": 112,
     "metadata": {},
     "output_type": "execute_result"
    }
   ],
   "source": [
    "df['Online_order']"
   ]
  },
  {
   "cell_type": "code",
   "execution_count": 113,
   "id": "eb41fe69",
   "metadata": {},
   "outputs": [],
   "source": [
    "df['Online_order']=df['Online_order'].apply(lambda x: 1 if x == 'Yes' else 0)"
   ]
  },
  {
   "cell_type": "code",
   "execution_count": 114,
   "id": "85d10553",
   "metadata": {},
   "outputs": [
    {
     "data": {
      "application/vnd.microsoft.datawrangler.viewer.v0+json": {
       "columns": [
        {
         "name": "index",
         "rawType": "int64",
         "type": "integer"
        },
        {
         "name": "Name",
         "rawType": "object",
         "type": "string"
        },
        {
         "name": "Online_order",
         "rawType": "int64",
         "type": "integer"
        },
        {
         "name": "Book_table",
         "rawType": "object",
         "type": "string"
        },
        {
         "name": "Rate",
         "rawType": "object",
         "type": "string"
        },
        {
         "name": "Dish_liked",
         "rawType": "object",
         "type": "string"
        },
        {
         "name": "Approx_cost(for two people)",
         "rawType": "object",
         "type": "string"
        }
       ],
       "ref": "9228afe4-7b4b-4503-a9fb-eb21ec49c624",
       "rows": [
        [
         "0",
         "Jalsa",
         "1",
         "Yes",
         "4.1 out of 5",
         "Pasta, Lunch Buffet, Masala Papad, Paneer Lajawab, Tomato Shorba, Dum Biryani, Sweet Corn Soup",
         "800"
        ],
        [
         "1",
         "Spice Elephant",
         "1",
         "No",
         "4.1 out of 5",
         "Momos, Lunch Buffet, Chocolate Nirvana, Thai Green Curry, Paneer Tikka, Dum Biryani, Chicken Biryani",
         "800"
        ],
        [
         "2",
         "San Churro Cafe",
         "1",
         "No",
         "3.8 out of 5",
         "Churros, Cannelloni, Minestrone Soup, Hot Chocolate, Pink Sauce Pasta, Salsa, Veg Supreme Pizza",
         "800"
        ],
        [
         "3",
         "Addhuri Udupi Bhojana",
         "0",
         "No",
         "3.7 out of 5",
         "Masala Dosa",
         "300"
        ],
        [
         "4",
         "Grand Village",
         "0",
         "No",
         "3.8 out of 5",
         "Panipuri, Gol Gappe",
         "600"
        ],
        [
         "5",
         "Timepass Dinner",
         "1",
         "No",
         "3.8 out of 5",
         "Onion Rings, Pasta, Kadhai Paneer, Salads, Salad, Roti, Jeera Rice",
         "600"
        ],
        [
         "6",
         "Onesta",
         "1",
         "Yes",
         "4.6 out of 5",
         "Farmhouse Pizza, Chocolate Banana, Virgin Mojito, Pasta, Paneer Tikka, Lime Soda, Prawn Pizza",
         "600"
        ],
        [
         "7",
         "Penthouse Cafe",
         "1",
         "No",
         "4.0 out of 5",
         "Pizza, Mocktails, Coffee, Nachos, Salad, Pasta, Sandwiches",
         "700"
        ],
        [
         "8",
         "Smacznego",
         "1",
         "No",
         "4.2 out of 5",
         "Waffles, Pasta, Coleslaw Sandwich, Choco Waffle, Tacos, Momos, Cheese Nachos",
         "550"
        ],
        [
         "9",
         "CafÃÂÃÂÃÂÃÂÃÂÃÂÃÂÃÂ© Down The Alley",
         "1",
         "No",
         "4.1 out of 5",
         "Waffles, Pasta, Crispy Chicken, Honey Chilli Chicken, Sandwich, Coffee, Crepe",
         "500"
        ],
        [
         "10",
         "Cafe Shuffle",
         "1",
         "Yes",
         "4.2 out of 5",
         "Mocktails, Peri Fries, Lasagne, Pizza, Chicken Bbq Wings, Virgin Mojito, Nachos",
         "600"
        ],
        [
         "11",
         "The Coffee Shack",
         "1",
         "Yes",
         "4.2 out of 5",
         "Coffee, Spaghetti, Pancakes, Nachos, Pasta, Sandwich, Garlic Bread",
         "500"
        ],
        [
         "12",
         "Caf-Eleven",
         "0",
         "No",
         "4.0 out of 5",
         "Sandwich, Omelette, Ice Tea, Virgin Mojito, Hot Chocolate, Pasta Arrabiata, Hazelnut Cappuccino",
         "450"
        ],
        [
         "13",
         "Cafe Vivacity",
         "1",
         "No",
         "3.8 out of 5",
         "Garlic Bread, Burgers, Sandwiches, Pizza, Hot Chocolate Fudge, Waffles, Potato Wedges",
         "650"
        ],
        [
         "14",
         "Catch-up-ino",
         "1",
         "No",
         "3.9 out of 5",
         "Momos, Mushroom Bruschettas, Jalapeno Cheeseballs, Pasta, Red Velvet Shake, Red Velvet Milkshake, Maggi",
         "800"
        ],
        [
         "15",
         "Kirthi's Biryani",
         "1",
         "No",
         "3.8 out of 5",
         "Pasta, Gelato, Garlic Bread, Mojito, Nachos, Paneer Pizza, Mocktails",
         "700"
        ],
        [
         "16",
         "T3H Cafe",
         "0",
         "No",
         "3.9 out of 5",
         "Cheese Maggi, Peri Peri Fries, Pasta Arrabiata",
         "300"
        ],
        [
         "17",
         "The Vintage Cafe",
         "1",
         "No",
         "3.0 out of 5",
         "Burgers, Caramel Milkshake, Iced Coffee, Iced Tea",
         "400"
        ],
        [
         "18",
         "Woodee Pizza",
         "1",
         "No",
         "3.7 out of 5",
         "Pizza, Garlic Bread",
         "500"
        ],
        [
         "19",
         "My Tea House",
         "1",
         "No",
         "3.6 out of 5",
         "Pasta, Iced Tea",
         "600"
        ],
        [
         "20",
         "Srinathji's Cafe",
         "0",
         "No",
         "3.8 out of 5",
         "Paratha, Sandwich, Chilli Idli, Noodles, Sandwiches, Lime Soda",
         "550"
        ],
        [
         "21",
         "Redberrys",
         "1",
         "No",
         "4.0 out of 5",
         "Pizza, Fries, Anjeer Ice Cream, Sandwiches, Gelato, Burgers, Kesar Badam",
         "600"
        ],
        [
         "22",
         "Foodiction",
         "1",
         "No",
         "2.8 out of 5",
         "Burgers, Lassi, Chicken Grill, Naan, Momos, Chicken Burger, Biryani",
         "500"
        ],
        [
         "23",
         "Ovenstory Pizza",
         "1",
         "No",
         "3.9 out of 5",
         "Paneer Tikka, Garlic Bread, Thin Crust Pizza, Falafel, Veggie Pizza",
         "750"
        ],
        [
         "24",
         "Faasos",
         "1",
         "No",
         "4.2 out of 5",
         "Rolls, Veggie Wrap, Chocolate Fantasy, Rice Bowls, Chicken Rice, Paneer Makhanwala, Chicken Tikka Wrap",
         "500"
        ],
        [
         "25",
         "Behrouz Biryani",
         "1",
         "No",
         "3.9 out of 5",
         "Raita, Gulab Jamun, Paneer Biryani, Vegetable Biryani, Gosht Dum Biryani, Chicken Biryani, Murgh Biryani",
         "650"
        ],
        [
         "26",
         "Szechuan Dragon",
         "1",
         "No",
         "4.2 out of 5",
         "Noodles, Momos, Veg Manchow Soup, Kung Pao Chicken, Chicken Lollipop, Chop Suey, Dragon Chicken",
         "600"
        ],
        [
         "27",
         "Empire Restaurant",
         "1",
         "No",
         "4.4 out of 5",
         "Chicken Tikka Masala, Mutton Keema Dosa, Mutton Biryani, Raan Biryani, Brain Fry, Chicken Grill, Ghee Rice",
         "750"
        ],
        [
         "28",
         "Chaatimes",
         "1",
         "No",
         "3.8 out of 5",
         "Dabeli, Faluda, Masala Poori, Sandwiches, Tokri Chaat, Pav Bhaji, Dahipuri",
         "200"
        ],
        [
         "29",
         "McDonald's",
         "1",
         "No",
         "3.9 out of 5",
         "Burgers, Fries, Hot Chocolate",
         "500"
        ],
        [
         "30",
         "Domino's Pizza",
         "1",
         "No",
         "3.9 out of 5",
         "Pane Pizza, Lava Cake, Pasta, Stuffed Garlic Bread, Chocolava Cake, Tacos",
         "800"
        ],
        [
         "31",
         "Hotboxit",
         "0",
         "No",
         "3.8 out of 5",
         "Prompt Service",
         "400"
        ],
        [
         "32",
         "Kitchen Garden",
         "1",
         "No",
         "3.6 out of 5",
         "Biryani",
         "300"
        ],
        [
         "33",
         "Recipe",
         "1",
         "No",
         "4.0 out of 5",
         "Butter Chicken, Noodles, Thali, Biryani",
         "450"
        ],
        [
         "34",
         "Beijing Bites",
         "1",
         "No",
         "3.7 out of 5",
         "Momos, Dragon Chicken, Hakka Noodles, Chowmein, Chop Suey, Chilli Garlic Noodles, Garlic Rice",
         "850"
        ],
        [
         "35",
         "Tasty Bytes",
         "1",
         "No",
         "3.1 out of 5",
         "Paratha, Pasta",
         "300"
        ],
        [
         "36",
         "Corner House Ice Cream",
         "0",
         "No",
         "4.3 out of 5",
         "Hot Chocolate Fudge, Vanilla Ice Cream, Fudge Cake, Chocolate Mousse",
         "400"
        ],
        [
         "37",
         "Biryanis And More",
         "1",
         "No",
         "4.0 out of 5",
         "Prawn Biryani, Dragon Chicken, Chicken Boneless Biryani, Afghani Biryani, Mughlai Biryani, Paneer Tikka Biryani, Gongura Biryani",
         "750"
        ],
        [
         "38",
         "Roving Feast",
         "0",
         "No",
         "4.0 out of 5",
         "Pasta, Momos, Rolls, Chicken Roll, Chilli Chicken, Paneer Roll, Spaghetti",
         "450"
        ],
        [
         "39",
         "FreshMenu",
         "1",
         "No",
         "3.9 out of 5",
         "Salads, Sandwiches, Salad, Thai Rice, Pasta, Noodles, Pizza",
         "450"
        ],
        [
         "40",
         "Wamama",
         "1",
         "Yes",
         "4.2 out of 5",
         "Sushi, Noodles, Wine, Khau Suey, Mocktails, Yakisoba, Spring Roll",
         "800"
        ],
        [
         "41",
         "Peppy Peppers",
         "0",
         "No",
         "4.2 out of 5",
         "Pasta, Pepper Pizza, Paneer Pizza, Peppy Paneer, Nachos, Supreme Pizza, Manchow Soup",
         "800"
        ],
        [
         "42",
         "Goa 0 Km",
         "1",
         "Yes",
         "3.6 out of 5",
         "Sea Food, Crab Meat, Crab Soup, Fish Curry, Chicken Cafreal, Butter Naan, Butter Chicken",
         "800"
        ],
        [
         "43",
         "1947",
         "0",
         "Yes",
         "4.0 out of 5",
         "Salads, Panneer Butter Masala, Rabri, Gajar Ka Halwa, Manchow Soup, Aam Panna, Tomato Basil Soup",
         "850"
        ],
        [
         "44",
         "Kabab Magic",
         "1",
         "No",
         "4.1 out of 5",
         "Grape Juice, Chicken Grill, Chicken Tikka Roll, Shawarma Roll, Chicken Shawarama, Biryani Combo, Rolls",
         "400"
        ],
        [
         "45",
         "Gustoes Beer House",
         "0",
         "No",
         "4.1 out of 5",
         "Beer, Wedges, Pizza, Nachos, Salads, Papaya Salad, Buffalo Wings",
         "1,200"
        ],
        [
         "46",
         "The Biryani Cafe",
         "0",
         "No",
         "4.1 out of 5",
         "Vegetable Biryani, Ginger Chicken, Chicken Biryani, Donne Biryani, Chicken Kebab, Egg Bhurji, Dum Biryani",
         "300"
        ],
        [
         "47",
         "Rolls On Wheels",
         "0",
         "No",
         "3.6 out of 5",
         "Rolls, Momos, Fries, Veggie Roll, Chicken Kebab Roll, Paneer Roll, Cheese Roll",
         "300"
        ],
        [
         "48",
         "Sri Guru Kottureshwara Davangere Benne Dosa",
         "1",
         "No",
         "4.1 out of 5",
         "Benne Dosa, Mirchi Bajji, Filter Coffee, Poha, Tea, Butter Dosa, Crispy Dosa",
         "150"
        ],
        [
         "49",
         "Upahar Sagar",
         "0",
         "No",
         "3.8 out of 5",
         "Masala Dosa",
         "350"
        ]
       ],
       "shape": {
        "columns": 6,
        "rows": 8250
       }
      },
      "text/html": [
       "<div>\n",
       "<style scoped>\n",
       "    .dataframe tbody tr th:only-of-type {\n",
       "        vertical-align: middle;\n",
       "    }\n",
       "\n",
       "    .dataframe tbody tr th {\n",
       "        vertical-align: top;\n",
       "    }\n",
       "\n",
       "    .dataframe thead th {\n",
       "        text-align: right;\n",
       "    }\n",
       "</style>\n",
       "<table border=\"1\" class=\"dataframe\">\n",
       "  <thead>\n",
       "    <tr style=\"text-align: right;\">\n",
       "      <th></th>\n",
       "      <th>Name</th>\n",
       "      <th>Online_order</th>\n",
       "      <th>Book_table</th>\n",
       "      <th>Rate</th>\n",
       "      <th>Dish_liked</th>\n",
       "      <th>Approx_cost(for two people)</th>\n",
       "    </tr>\n",
       "  </thead>\n",
       "  <tbody>\n",
       "    <tr>\n",
       "      <th>0</th>\n",
       "      <td>Jalsa</td>\n",
       "      <td>1</td>\n",
       "      <td>Yes</td>\n",
       "      <td>4.1 out of 5</td>\n",
       "      <td>Pasta, Lunch Buffet, Masala Papad, Paneer Laja...</td>\n",
       "      <td>800</td>\n",
       "    </tr>\n",
       "    <tr>\n",
       "      <th>1</th>\n",
       "      <td>Spice Elephant</td>\n",
       "      <td>1</td>\n",
       "      <td>No</td>\n",
       "      <td>4.1 out of 5</td>\n",
       "      <td>Momos, Lunch Buffet, Chocolate Nirvana, Thai G...</td>\n",
       "      <td>800</td>\n",
       "    </tr>\n",
       "    <tr>\n",
       "      <th>2</th>\n",
       "      <td>San Churro Cafe</td>\n",
       "      <td>1</td>\n",
       "      <td>No</td>\n",
       "      <td>3.8 out of 5</td>\n",
       "      <td>Churros, Cannelloni, Minestrone Soup, Hot Choc...</td>\n",
       "      <td>800</td>\n",
       "    </tr>\n",
       "    <tr>\n",
       "      <th>3</th>\n",
       "      <td>Addhuri Udupi Bhojana</td>\n",
       "      <td>0</td>\n",
       "      <td>No</td>\n",
       "      <td>3.7 out of 5</td>\n",
       "      <td>Masala Dosa</td>\n",
       "      <td>300</td>\n",
       "    </tr>\n",
       "    <tr>\n",
       "      <th>4</th>\n",
       "      <td>Grand Village</td>\n",
       "      <td>0</td>\n",
       "      <td>No</td>\n",
       "      <td>3.8 out of 5</td>\n",
       "      <td>Panipuri, Gol Gappe</td>\n",
       "      <td>600</td>\n",
       "    </tr>\n",
       "    <tr>\n",
       "      <th>...</th>\n",
       "      <td>...</td>\n",
       "      <td>...</td>\n",
       "      <td>...</td>\n",
       "      <td>...</td>\n",
       "      <td>...</td>\n",
       "      <td>...</td>\n",
       "    </tr>\n",
       "    <tr>\n",
       "      <th>8245</th>\n",
       "      <td>Chung Wah</td>\n",
       "      <td>0</td>\n",
       "      <td>No</td>\n",
       "      <td>2.5 out of 5</td>\n",
       "      <td>Manchow Soup</td>\n",
       "      <td>800</td>\n",
       "    </tr>\n",
       "    <tr>\n",
       "      <th>8246</th>\n",
       "      <td>Breakfast House</td>\n",
       "      <td>0</td>\n",
       "      <td>No</td>\n",
       "      <td>3.6 out of 5</td>\n",
       "      <td>Coffee, Vada, Mla Dosa</td>\n",
       "      <td>300</td>\n",
       "    </tr>\n",
       "    <tr>\n",
       "      <th>8247</th>\n",
       "      <td>Fujian Express</td>\n",
       "      <td>1</td>\n",
       "      <td>No</td>\n",
       "      <td>3.8 out of 5</td>\n",
       "      <td>Noodles, Chicken Noodle, Momos, American Chops...</td>\n",
       "      <td>600</td>\n",
       "    </tr>\n",
       "    <tr>\n",
       "      <th>8248</th>\n",
       "      <td>Nook - Aloft Bengaluru Cessna Business Park</td>\n",
       "      <td>0</td>\n",
       "      <td>Yes</td>\n",
       "      <td>4.2 out of 5</td>\n",
       "      <td>Chicken Quesadilla, Naan, Breakfast Buffet, Ch...</td>\n",
       "      <td>1,800</td>\n",
       "    </tr>\n",
       "    <tr>\n",
       "      <th>8249</th>\n",
       "      <td>Bhagini</td>\n",
       "      <td>0</td>\n",
       "      <td>No</td>\n",
       "      <td>2.5 out of 5</td>\n",
       "      <td>Biryani, Andhra Meal</td>\n",
       "      <td>800</td>\n",
       "    </tr>\n",
       "  </tbody>\n",
       "</table>\n",
       "<p>8250 rows × 6 columns</p>\n",
       "</div>"
      ],
      "text/plain": [
       "                                             Name  Online_order Book_table  \\\n",
       "0                                           Jalsa             1        Yes   \n",
       "1                                  Spice Elephant             1         No   \n",
       "2                                 San Churro Cafe             1         No   \n",
       "3                           Addhuri Udupi Bhojana             0         No   \n",
       "4                                   Grand Village             0         No   \n",
       "...                                           ...           ...        ...   \n",
       "8245                                    Chung Wah             0         No   \n",
       "8246                              Breakfast House             0         No   \n",
       "8247                               Fujian Express             1         No   \n",
       "8248  Nook - Aloft Bengaluru Cessna Business Park             0        Yes   \n",
       "8249                                      Bhagini             0         No   \n",
       "\n",
       "              Rate                                         Dish_liked  \\\n",
       "0     4.1 out of 5  Pasta, Lunch Buffet, Masala Papad, Paneer Laja...   \n",
       "1     4.1 out of 5  Momos, Lunch Buffet, Chocolate Nirvana, Thai G...   \n",
       "2     3.8 out of 5  Churros, Cannelloni, Minestrone Soup, Hot Choc...   \n",
       "3     3.7 out of 5                                        Masala Dosa   \n",
       "4     3.8 out of 5                                Panipuri, Gol Gappe   \n",
       "...            ...                                                ...   \n",
       "8245  2.5 out of 5                                       Manchow Soup   \n",
       "8246  3.6 out of 5                             Coffee, Vada, Mla Dosa   \n",
       "8247  3.8 out of 5  Noodles, Chicken Noodle, Momos, American Chops...   \n",
       "8248  4.2 out of 5  Chicken Quesadilla, Naan, Breakfast Buffet, Ch...   \n",
       "8249  2.5 out of 5                               Biryani, Andhra Meal   \n",
       "\n",
       "     Approx_cost(for two people)  \n",
       "0                            800  \n",
       "1                            800  \n",
       "2                            800  \n",
       "3                            300  \n",
       "4                            600  \n",
       "...                          ...  \n",
       "8245                         800  \n",
       "8246                         300  \n",
       "8247                         600  \n",
       "8248                       1,800  \n",
       "8249                         800  \n",
       "\n",
       "[8250 rows x 6 columns]"
      ]
     },
     "execution_count": 114,
     "metadata": {},
     "output_type": "execute_result"
    }
   ],
   "source": [
    "df"
   ]
  },
  {
   "cell_type": "code",
   "execution_count": null,
   "id": "33521257",
   "metadata": {},
   "outputs": [],
   "source": [
    "df.to_csv('Zomato_cleaned.csv', index=False) #convert the cleaned DataFrame to a CSV file"
   ]
  },
  {
   "cell_type": "code",
   "execution_count": null,
   "id": "39fbe6f2",
   "metadata": {},
   "outputs": [
    {
     "data": {
      "application/vnd.microsoft.datawrangler.viewer.v0+json": {
       "columns": [
        {
         "name": "index",
         "rawType": "int64",
         "type": "integer"
        },
        {
         "name": "Name",
         "rawType": "object",
         "type": "string"
        },
        {
         "name": "Online_order",
         "rawType": "int64",
         "type": "integer"
        },
        {
         "name": "Book_table",
         "rawType": "object",
         "type": "string"
        },
        {
         "name": "Rate",
         "rawType": "object",
         "type": "string"
        },
        {
         "name": "Dish_liked",
         "rawType": "object",
         "type": "string"
        },
        {
         "name": "Approx_cost(for two people)",
         "rawType": "object",
         "type": "string"
        }
       ],
       "ref": "38ca2e0c-9df1-4081-9e02-12d81256aab1",
       "rows": [
        [
         "0",
         "Jalsa",
         "1",
         "Yes",
         "4.1 out of 5",
         "Pasta, Lunch Buffet, Masala Papad, Paneer Lajawab, Tomato Shorba, Dum Biryani, Sweet Corn Soup",
         "800"
        ],
        [
         "1",
         "Spice Elephant",
         "1",
         "No",
         "4.1 out of 5",
         "Momos, Lunch Buffet, Chocolate Nirvana, Thai Green Curry, Paneer Tikka, Dum Biryani, Chicken Biryani",
         "800"
        ],
        [
         "2",
         "San Churro Cafe",
         "1",
         "No",
         "3.8 out of 5",
         "Churros, Cannelloni, Minestrone Soup, Hot Chocolate, Pink Sauce Pasta, Salsa, Veg Supreme Pizza",
         "800"
        ],
        [
         "3",
         "Addhuri Udupi Bhojana",
         "0",
         "No",
         "3.7 out of 5",
         "Masala Dosa",
         "300"
        ],
        [
         "4",
         "Grand Village",
         "0",
         "No",
         "3.8 out of 5",
         "Panipuri, Gol Gappe",
         "600"
        ],
        [
         "5",
         "Timepass Dinner",
         "1",
         "No",
         "3.8 out of 5",
         "Onion Rings, Pasta, Kadhai Paneer, Salads, Salad, Roti, Jeera Rice",
         "600"
        ],
        [
         "6",
         "Onesta",
         "1",
         "Yes",
         "4.6 out of 5",
         "Farmhouse Pizza, Chocolate Banana, Virgin Mojito, Pasta, Paneer Tikka, Lime Soda, Prawn Pizza",
         "600"
        ],
        [
         "7",
         "Penthouse Cafe",
         "1",
         "No",
         "4.0 out of 5",
         "Pizza, Mocktails, Coffee, Nachos, Salad, Pasta, Sandwiches",
         "700"
        ],
        [
         "8",
         "Smacznego",
         "1",
         "No",
         "4.2 out of 5",
         "Waffles, Pasta, Coleslaw Sandwich, Choco Waffle, Tacos, Momos, Cheese Nachos",
         "550"
        ],
        [
         "9",
         "CafÃÂÃÂÃÂÃÂÃÂÃÂÃÂÃÂ© Down The Alley",
         "1",
         "No",
         "4.1 out of 5",
         "Waffles, Pasta, Crispy Chicken, Honey Chilli Chicken, Sandwich, Coffee, Crepe",
         "500"
        ],
        [
         "10",
         "Cafe Shuffle",
         "1",
         "Yes",
         "4.2 out of 5",
         "Mocktails, Peri Fries, Lasagne, Pizza, Chicken Bbq Wings, Virgin Mojito, Nachos",
         "600"
        ],
        [
         "11",
         "The Coffee Shack",
         "1",
         "Yes",
         "4.2 out of 5",
         "Coffee, Spaghetti, Pancakes, Nachos, Pasta, Sandwich, Garlic Bread",
         "500"
        ],
        [
         "12",
         "Caf-Eleven",
         "0",
         "No",
         "4.0 out of 5",
         "Sandwich, Omelette, Ice Tea, Virgin Mojito, Hot Chocolate, Pasta Arrabiata, Hazelnut Cappuccino",
         "450"
        ],
        [
         "13",
         "Cafe Vivacity",
         "1",
         "No",
         "3.8 out of 5",
         "Garlic Bread, Burgers, Sandwiches, Pizza, Hot Chocolate Fudge, Waffles, Potato Wedges",
         "650"
        ],
        [
         "14",
         "Catch-up-ino",
         "1",
         "No",
         "3.9 out of 5",
         "Momos, Mushroom Bruschettas, Jalapeno Cheeseballs, Pasta, Red Velvet Shake, Red Velvet Milkshake, Maggi",
         "800"
        ],
        [
         "15",
         "Kirthi's Biryani",
         "1",
         "No",
         "3.8 out of 5",
         "Pasta, Gelato, Garlic Bread, Mojito, Nachos, Paneer Pizza, Mocktails",
         "700"
        ],
        [
         "16",
         "T3H Cafe",
         "0",
         "No",
         "3.9 out of 5",
         "Cheese Maggi, Peri Peri Fries, Pasta Arrabiata",
         "300"
        ],
        [
         "17",
         "The Vintage Cafe",
         "1",
         "No",
         "3.0 out of 5",
         "Burgers, Caramel Milkshake, Iced Coffee, Iced Tea",
         "400"
        ],
        [
         "18",
         "Woodee Pizza",
         "1",
         "No",
         "3.7 out of 5",
         "Pizza, Garlic Bread",
         "500"
        ],
        [
         "19",
         "My Tea House",
         "1",
         "No",
         "3.6 out of 5",
         "Pasta, Iced Tea",
         "600"
        ],
        [
         "20",
         "Srinathji's Cafe",
         "0",
         "No",
         "3.8 out of 5",
         "Paratha, Sandwich, Chilli Idli, Noodles, Sandwiches, Lime Soda",
         "550"
        ],
        [
         "21",
         "Redberrys",
         "1",
         "No",
         "4.0 out of 5",
         "Pizza, Fries, Anjeer Ice Cream, Sandwiches, Gelato, Burgers, Kesar Badam",
         "600"
        ],
        [
         "22",
         "Foodiction",
         "1",
         "No",
         "2.8 out of 5",
         "Burgers, Lassi, Chicken Grill, Naan, Momos, Chicken Burger, Biryani",
         "500"
        ],
        [
         "23",
         "Ovenstory Pizza",
         "1",
         "No",
         "3.9 out of 5",
         "Paneer Tikka, Garlic Bread, Thin Crust Pizza, Falafel, Veggie Pizza",
         "750"
        ],
        [
         "24",
         "Faasos",
         "1",
         "No",
         "4.2 out of 5",
         "Rolls, Veggie Wrap, Chocolate Fantasy, Rice Bowls, Chicken Rice, Paneer Makhanwala, Chicken Tikka Wrap",
         "500"
        ],
        [
         "25",
         "Behrouz Biryani",
         "1",
         "No",
         "3.9 out of 5",
         "Raita, Gulab Jamun, Paneer Biryani, Vegetable Biryani, Gosht Dum Biryani, Chicken Biryani, Murgh Biryani",
         "650"
        ],
        [
         "26",
         "Szechuan Dragon",
         "1",
         "No",
         "4.2 out of 5",
         "Noodles, Momos, Veg Manchow Soup, Kung Pao Chicken, Chicken Lollipop, Chop Suey, Dragon Chicken",
         "600"
        ],
        [
         "27",
         "Empire Restaurant",
         "1",
         "No",
         "4.4 out of 5",
         "Chicken Tikka Masala, Mutton Keema Dosa, Mutton Biryani, Raan Biryani, Brain Fry, Chicken Grill, Ghee Rice",
         "750"
        ],
        [
         "28",
         "Chaatimes",
         "1",
         "No",
         "3.8 out of 5",
         "Dabeli, Faluda, Masala Poori, Sandwiches, Tokri Chaat, Pav Bhaji, Dahipuri",
         "200"
        ],
        [
         "29",
         "McDonald's",
         "1",
         "No",
         "3.9 out of 5",
         "Burgers, Fries, Hot Chocolate",
         "500"
        ],
        [
         "30",
         "Domino's Pizza",
         "1",
         "No",
         "3.9 out of 5",
         "Pane Pizza, Lava Cake, Pasta, Stuffed Garlic Bread, Chocolava Cake, Tacos",
         "800"
        ],
        [
         "31",
         "Hotboxit",
         "0",
         "No",
         "3.8 out of 5",
         "Prompt Service",
         "400"
        ],
        [
         "32",
         "Kitchen Garden",
         "1",
         "No",
         "3.6 out of 5",
         "Biryani",
         "300"
        ],
        [
         "33",
         "Recipe",
         "1",
         "No",
         "4.0 out of 5",
         "Butter Chicken, Noodles, Thali, Biryani",
         "450"
        ],
        [
         "34",
         "Beijing Bites",
         "1",
         "No",
         "3.7 out of 5",
         "Momos, Dragon Chicken, Hakka Noodles, Chowmein, Chop Suey, Chilli Garlic Noodles, Garlic Rice",
         "850"
        ],
        [
         "35",
         "Tasty Bytes",
         "1",
         "No",
         "3.1 out of 5",
         "Paratha, Pasta",
         "300"
        ],
        [
         "36",
         "Corner House Ice Cream",
         "0",
         "No",
         "4.3 out of 5",
         "Hot Chocolate Fudge, Vanilla Ice Cream, Fudge Cake, Chocolate Mousse",
         "400"
        ],
        [
         "37",
         "Biryanis And More",
         "1",
         "No",
         "4.0 out of 5",
         "Prawn Biryani, Dragon Chicken, Chicken Boneless Biryani, Afghani Biryani, Mughlai Biryani, Paneer Tikka Biryani, Gongura Biryani",
         "750"
        ],
        [
         "38",
         "Roving Feast",
         "0",
         "No",
         "4.0 out of 5",
         "Pasta, Momos, Rolls, Chicken Roll, Chilli Chicken, Paneer Roll, Spaghetti",
         "450"
        ],
        [
         "39",
         "FreshMenu",
         "1",
         "No",
         "3.9 out of 5",
         "Salads, Sandwiches, Salad, Thai Rice, Pasta, Noodles, Pizza",
         "450"
        ],
        [
         "40",
         "Wamama",
         "1",
         "Yes",
         "4.2 out of 5",
         "Sushi, Noodles, Wine, Khau Suey, Mocktails, Yakisoba, Spring Roll",
         "800"
        ],
        [
         "41",
         "Peppy Peppers",
         "0",
         "No",
         "4.2 out of 5",
         "Pasta, Pepper Pizza, Paneer Pizza, Peppy Paneer, Nachos, Supreme Pizza, Manchow Soup",
         "800"
        ],
        [
         "42",
         "Goa 0 Km",
         "1",
         "Yes",
         "3.6 out of 5",
         "Sea Food, Crab Meat, Crab Soup, Fish Curry, Chicken Cafreal, Butter Naan, Butter Chicken",
         "800"
        ],
        [
         "43",
         "1947",
         "0",
         "Yes",
         "4.0 out of 5",
         "Salads, Panneer Butter Masala, Rabri, Gajar Ka Halwa, Manchow Soup, Aam Panna, Tomato Basil Soup",
         "850"
        ],
        [
         "44",
         "Kabab Magic",
         "1",
         "No",
         "4.1 out of 5",
         "Grape Juice, Chicken Grill, Chicken Tikka Roll, Shawarma Roll, Chicken Shawarama, Biryani Combo, Rolls",
         "400"
        ],
        [
         "45",
         "Gustoes Beer House",
         "0",
         "No",
         "4.1 out of 5",
         "Beer, Wedges, Pizza, Nachos, Salads, Papaya Salad, Buffalo Wings",
         "1,200"
        ],
        [
         "46",
         "The Biryani Cafe",
         "0",
         "No",
         "4.1 out of 5",
         "Vegetable Biryani, Ginger Chicken, Chicken Biryani, Donne Biryani, Chicken Kebab, Egg Bhurji, Dum Biryani",
         "300"
        ],
        [
         "47",
         "Rolls On Wheels",
         "0",
         "No",
         "3.6 out of 5",
         "Rolls, Momos, Fries, Veggie Roll, Chicken Kebab Roll, Paneer Roll, Cheese Roll",
         "300"
        ],
        [
         "48",
         "Sri Guru Kottureshwara Davangere Benne Dosa",
         "1",
         "No",
         "4.1 out of 5",
         "Benne Dosa, Mirchi Bajji, Filter Coffee, Poha, Tea, Butter Dosa, Crispy Dosa",
         "150"
        ],
        [
         "49",
         "Upahar Sagar",
         "0",
         "No",
         "3.8 out of 5",
         "Masala Dosa",
         "350"
        ]
       ],
       "shape": {
        "columns": 6,
        "rows": 8250
       }
      },
      "text/html": [
       "<div>\n",
       "<style scoped>\n",
       "    .dataframe tbody tr th:only-of-type {\n",
       "        vertical-align: middle;\n",
       "    }\n",
       "\n",
       "    .dataframe tbody tr th {\n",
       "        vertical-align: top;\n",
       "    }\n",
       "\n",
       "    .dataframe thead th {\n",
       "        text-align: right;\n",
       "    }\n",
       "</style>\n",
       "<table border=\"1\" class=\"dataframe\">\n",
       "  <thead>\n",
       "    <tr style=\"text-align: right;\">\n",
       "      <th></th>\n",
       "      <th>Name</th>\n",
       "      <th>Online_order</th>\n",
       "      <th>Book_table</th>\n",
       "      <th>Rate</th>\n",
       "      <th>Dish_liked</th>\n",
       "      <th>Approx_cost(for two people)</th>\n",
       "    </tr>\n",
       "  </thead>\n",
       "  <tbody>\n",
       "    <tr>\n",
       "      <th>0</th>\n",
       "      <td>Jalsa</td>\n",
       "      <td>1</td>\n",
       "      <td>Yes</td>\n",
       "      <td>4.1 out of 5</td>\n",
       "      <td>Pasta, Lunch Buffet, Masala Papad, Paneer Laja...</td>\n",
       "      <td>800</td>\n",
       "    </tr>\n",
       "    <tr>\n",
       "      <th>1</th>\n",
       "      <td>Spice Elephant</td>\n",
       "      <td>1</td>\n",
       "      <td>No</td>\n",
       "      <td>4.1 out of 5</td>\n",
       "      <td>Momos, Lunch Buffet, Chocolate Nirvana, Thai G...</td>\n",
       "      <td>800</td>\n",
       "    </tr>\n",
       "    <tr>\n",
       "      <th>2</th>\n",
       "      <td>San Churro Cafe</td>\n",
       "      <td>1</td>\n",
       "      <td>No</td>\n",
       "      <td>3.8 out of 5</td>\n",
       "      <td>Churros, Cannelloni, Minestrone Soup, Hot Choc...</td>\n",
       "      <td>800</td>\n",
       "    </tr>\n",
       "    <tr>\n",
       "      <th>3</th>\n",
       "      <td>Addhuri Udupi Bhojana</td>\n",
       "      <td>0</td>\n",
       "      <td>No</td>\n",
       "      <td>3.7 out of 5</td>\n",
       "      <td>Masala Dosa</td>\n",
       "      <td>300</td>\n",
       "    </tr>\n",
       "    <tr>\n",
       "      <th>4</th>\n",
       "      <td>Grand Village</td>\n",
       "      <td>0</td>\n",
       "      <td>No</td>\n",
       "      <td>3.8 out of 5</td>\n",
       "      <td>Panipuri, Gol Gappe</td>\n",
       "      <td>600</td>\n",
       "    </tr>\n",
       "    <tr>\n",
       "      <th>...</th>\n",
       "      <td>...</td>\n",
       "      <td>...</td>\n",
       "      <td>...</td>\n",
       "      <td>...</td>\n",
       "      <td>...</td>\n",
       "      <td>...</td>\n",
       "    </tr>\n",
       "    <tr>\n",
       "      <th>8245</th>\n",
       "      <td>Chung Wah</td>\n",
       "      <td>0</td>\n",
       "      <td>No</td>\n",
       "      <td>2.5 out of 5</td>\n",
       "      <td>Manchow Soup</td>\n",
       "      <td>800</td>\n",
       "    </tr>\n",
       "    <tr>\n",
       "      <th>8246</th>\n",
       "      <td>Breakfast House</td>\n",
       "      <td>0</td>\n",
       "      <td>No</td>\n",
       "      <td>3.6 out of 5</td>\n",
       "      <td>Coffee, Vada, Mla Dosa</td>\n",
       "      <td>300</td>\n",
       "    </tr>\n",
       "    <tr>\n",
       "      <th>8247</th>\n",
       "      <td>Fujian Express</td>\n",
       "      <td>1</td>\n",
       "      <td>No</td>\n",
       "      <td>3.8 out of 5</td>\n",
       "      <td>Noodles, Chicken Noodle, Momos, American Chops...</td>\n",
       "      <td>600</td>\n",
       "    </tr>\n",
       "    <tr>\n",
       "      <th>8248</th>\n",
       "      <td>Nook - Aloft Bengaluru Cessna Business Park</td>\n",
       "      <td>0</td>\n",
       "      <td>Yes</td>\n",
       "      <td>4.2 out of 5</td>\n",
       "      <td>Chicken Quesadilla, Naan, Breakfast Buffet, Ch...</td>\n",
       "      <td>1,800</td>\n",
       "    </tr>\n",
       "    <tr>\n",
       "      <th>8249</th>\n",
       "      <td>Bhagini</td>\n",
       "      <td>0</td>\n",
       "      <td>No</td>\n",
       "      <td>2.5 out of 5</td>\n",
       "      <td>Biryani, Andhra Meal</td>\n",
       "      <td>800</td>\n",
       "    </tr>\n",
       "  </tbody>\n",
       "</table>\n",
       "<p>8250 rows × 6 columns</p>\n",
       "</div>"
      ],
      "text/plain": [
       "                                             Name  Online_order Book_table  \\\n",
       "0                                           Jalsa             1        Yes   \n",
       "1                                  Spice Elephant             1         No   \n",
       "2                                 San Churro Cafe             1         No   \n",
       "3                           Addhuri Udupi Bhojana             0         No   \n",
       "4                                   Grand Village             0         No   \n",
       "...                                           ...           ...        ...   \n",
       "8245                                    Chung Wah             0         No   \n",
       "8246                              Breakfast House             0         No   \n",
       "8247                               Fujian Express             1         No   \n",
       "8248  Nook - Aloft Bengaluru Cessna Business Park             0        Yes   \n",
       "8249                                      Bhagini             0         No   \n",
       "\n",
       "              Rate                                         Dish_liked  \\\n",
       "0     4.1 out of 5  Pasta, Lunch Buffet, Masala Papad, Paneer Laja...   \n",
       "1     4.1 out of 5  Momos, Lunch Buffet, Chocolate Nirvana, Thai G...   \n",
       "2     3.8 out of 5  Churros, Cannelloni, Minestrone Soup, Hot Choc...   \n",
       "3     3.7 out of 5                                        Masala Dosa   \n",
       "4     3.8 out of 5                                Panipuri, Gol Gappe   \n",
       "...            ...                                                ...   \n",
       "8245  2.5 out of 5                                       Manchow Soup   \n",
       "8246  3.6 out of 5                             Coffee, Vada, Mla Dosa   \n",
       "8247  3.8 out of 5  Noodles, Chicken Noodle, Momos, American Chops...   \n",
       "8248  4.2 out of 5  Chicken Quesadilla, Naan, Breakfast Buffet, Ch...   \n",
       "8249  2.5 out of 5                               Biryani, Andhra Meal   \n",
       "\n",
       "     Approx_cost(for two people)  \n",
       "0                            800  \n",
       "1                            800  \n",
       "2                            800  \n",
       "3                            300  \n",
       "4                            600  \n",
       "...                          ...  \n",
       "8245                         800  \n",
       "8246                         300  \n",
       "8247                         600  \n",
       "8248                       1,800  \n",
       "8249                         800  \n",
       "\n",
       "[8250 rows x 6 columns]"
      ]
     },
     "execution_count": 116,
     "metadata": {},
     "output_type": "execute_result"
    }
   ],
   "source": [
    "pd.read_csv('Zomato_cleaned.csv') #reading th cleaned file"
   ]
  }
 ],
 "metadata": {
  "kernelspec": {
   "display_name": "base",
   "language": "python",
   "name": "python3"
  },
  "language_info": {
   "codemirror_mode": {
    "name": "ipython",
    "version": 3
   },
   "file_extension": ".py",
   "mimetype": "text/x-python",
   "name": "python",
   "nbconvert_exporter": "python",
   "pygments_lexer": "ipython3",
   "version": "3.13.5"
  }
 },
 "nbformat": 4,
 "nbformat_minor": 5
}
